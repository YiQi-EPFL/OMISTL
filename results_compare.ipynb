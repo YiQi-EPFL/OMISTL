{
 "cells": [
  {
   "cell_type": "code",
   "execution_count": 1,
   "metadata": {},
   "outputs": [
    {
     "name": "stderr",
     "output_type": "stream",
     "text": [
      "C:\\Users\\msi\\anaconda3\\envs\\coco\\lib\\site-packages\\numpy\\_distributor_init.py:32: UserWarning: loaded more than 1 DLL from .libs:\n",
      "C:\\Users\\msi\\anaconda3\\envs\\coco\\lib\\site-packages\\numpy\\.libs\\libopenblas.PYQHXLVVQ7VESDPUVUADXEVJOBGHJPAY.gfortran-win_amd64.dll\n",
      "C:\\Users\\msi\\anaconda3\\envs\\coco\\lib\\site-packages\\numpy\\.libs\\libopenblas.WCDJNK7YVMPZQ2ME2ZZHJJRJ3JIKNDB7.gfortran-win_amd64.dll\n",
      "  stacklevel=1)\n"
     ]
    },
    {
     "ename": "ModuleNotFoundError",
     "evalue": "No module named 'free_flyer'",
     "output_type": "error",
     "traceback": [
      "\u001B[1;31m---------------------------------------------------------------------------\u001B[0m",
      "\u001B[1;31mModuleNotFoundError\u001B[0m                       Traceback (most recent call last)",
      "\u001B[1;32m<ipython-input-1-b8495140bb87>\u001B[0m in \u001B[0;36m<module>\u001B[1;34m\u001B[0m\n\u001B[0;32m     14\u001B[0m \u001B[0mget_ipython\u001B[0m\u001B[1;33m(\u001B[0m\u001B[1;33m)\u001B[0m\u001B[1;33m.\u001B[0m\u001B[0mrun_line_magic\u001B[0m\u001B[1;33m(\u001B[0m\u001B[1;34m'matplotlib'\u001B[0m\u001B[1;33m,\u001B[0m \u001B[1;34m'inline'\u001B[0m\u001B[1;33m)\u001B[0m\u001B[1;33m\u001B[0m\u001B[1;33m\u001B[0m\u001B[0m\n\u001B[0;32m     15\u001B[0m \u001B[1;33m\u001B[0m\u001B[0m\n\u001B[1;32m---> 16\u001B[1;33m \u001B[1;32mfrom\u001B[0m \u001B[0mfree_flyer\u001B[0m\u001B[1;33m.\u001B[0m\u001B[0mfree_flyer\u001B[0m \u001B[1;32mimport\u001B[0m \u001B[0mFreeFlyer\u001B[0m\u001B[1;33m\u001B[0m\u001B[1;33m\u001B[0m\u001B[0m\n\u001B[0m\u001B[0;32m     17\u001B[0m \u001B[1;32mfrom\u001B[0m \u001B[0mfree_flyer\u001B[0m\u001B[1;33m.\u001B[0m\u001B[0mutils\u001B[0m \u001B[1;32mimport\u001B[0m \u001B[1;33m*\u001B[0m\u001B[1;33m\u001B[0m\u001B[1;33m\u001B[0m\u001B[0m\n\u001B[0;32m     18\u001B[0m \u001B[1;32mfrom\u001B[0m \u001B[0msolvers\u001B[0m\u001B[1;33m.\u001B[0m\u001B[0mcoco_ff\u001B[0m \u001B[1;32mimport\u001B[0m \u001B[0mCoCo_FF\u001B[0m\u001B[1;33m\u001B[0m\u001B[1;33m\u001B[0m\u001B[0m\n",
      "\u001B[1;31mModuleNotFoundError\u001B[0m: No module named 'free_flyer'"
     ]
    }
   ],
   "source": [
    "%load_ext autoreload\n",
    "%autoreload 2\n",
    "\n",
    "import pdb\n",
    "import torch\n",
    "import multiprocessing\n",
    "import pickle, os\n",
    "import numpy as np\n",
    "import cvxpy as cp\n",
    "\n",
    "from torch.autograd import Variable\n",
    "import concurrent.futures\n",
    "import matplotlib.pyplot as plt\n",
    "%matplotlib inline\n",
    "\n",
    "from free_flyer.free_flyer import FreeFlyer\n",
    "from free_flyer.utils import *\n",
    "from solvers.coco_ff import CoCo_FF"
   ]
  },
  {
   "cell_type": "code",
   "execution_count": 4,
   "metadata": {},
   "outputs": [],
   "source": [
    "def train_horizon_N(N, device_id=0):\n",
    "    config_fn = './free_flyer/config/default_horizon_{}.p'.format(N)\n",
    "    # config_fn = './free_flyer/config/obs_fix_{}.p'.format(N)\n",
    "    config_file = open(config_fn,'rb')\n",
    "    dataset_name, _, _ = pickle.load(config_file); config_file.close()\n",
    "\n",
    "    relative_path = os.getcwd()\n",
    "    dataset_fn = relative_path + '/free_flyer/data/' + dataset_name\n",
    "\n",
    "    train_fn = os.path.join(dataset_fn, 'train_horizon_{}.p'.format(N))\n",
    "    train_file = open(train_fn,'rb')\n",
    "    train_data = pickle.load(train_file)\n",
    "    train_file.close()\n",
    "    x_train = train_data[1]\n",
    "    y_train = train_data[3]\n",
    "\n",
    "    test_fn = os.path.join(dataset_fn, 'test_horizon_{}.p'.format(N))\n",
    "    test_file = open(test_fn,'rb')\n",
    "    test_data = pickle.load(test_file)\n",
    "    p_test, x_test, u_test, y_test, c_test, times_test = test_data\n",
    "    test_file.close()\n",
    "\n",
    "    n_test = x_test.shape[0]\n",
    "\n",
    "    system = 'free_flyer'\n",
    "    prob_features = ['x0', 'obstacles_map']\n",
    "\n",
    "    prob = FreeFlyer(config=config_fn)\n",
    "\n",
    "    mlopt_cnn = CoCo_FF(system, prob, prob_features)\n",
    "\n",
    "    n_features =4\n",
    "    mlopt_cnn.construct_strategies(n_features, train_data)\n",
    "\n",
    "    print('Number of strategies for horizon {}: {}'.format(N, mlopt_cnn.n_strategies))\n",
    "\n",
    "    mlopt_cnn.setup_network(device_id=device_id)\n",
    "    mlopt_cnn.model_fn = 'models/default_horizon_{}.pt'.format(N)\n",
    "\n",
    "    mlopt_cnn.training_params['TRAINING_ITERATIONS'] = 500\n",
    "    mlopt_cnn.train(train_data=train_data, verbose=True)"
   ]
  },
  {
   "cell_type": "code",
   "execution_count": 66,
   "outputs": [],
   "source": [
    "N=7\n",
    "config_fn = './free_flyer/config/default_horizon_{}.p'.format(N)\n",
    "relative_path = os.getcwd()\n",
    "config_file = open(config_fn,'rb')\n",
    "dataset_name, _, _ = pickle.load(config_file)\n",
    "config_file.close()\n",
    "dataset_fn = relative_path + '/free_flyer/data/' + dataset_name\n",
    "system = 'free_flyer'\n",
    "prob_features = ['x0', 'obstacles_map']\n",
    "\n",
    "train_fn = os.path.join(dataset_fn, 'train_horizon_{}.p'.format(N))\n",
    "train_file = open(train_fn,'rb')\n",
    "train_data = pickle.load(train_file)\n",
    "train_file.close()\n",
    "\n",
    "#\n",
    "# prob = FreeFlyer(config=config_fn)\n",
    "# n_features =4\n",
    "# mlopt_cnn = CoCo_FF(system, prob, prob_features)\n",
    "# mlopt_cnn.construct_strategies(n_features, train_data)\n",
    "# mlopt_cnn.n_features\n",
    "# mlopt_cnn.setup_network(device_id=0)\n",
    "# mlopt_cnn.model_fn = 'models/default_horizon_{}.pt'.format(N)\n",
    "#\n",
    "# mlopt_cnn.training_params['TRAINING_ITERATIONS'] = 500\n",
    "# mlopt_cnn.train(train_data=train_data, verbose=True)\n"
   ],
   "metadata": {
    "collapsed": false,
    "pycharm": {
     "name": "#%%\n"
    }
   }
  },
  {
   "cell_type": "code",
   "execution_count": 53,
   "outputs": [
    {
     "data": {
      "text/plain": "array([[    0,     0],\n       [    0,     1],\n       [    0,     2],\n       ...,\n       [49999,     2],\n       [49999,     3],\n       [49999,     4]])"
     },
     "execution_count": 53,
     "metadata": {},
     "output_type": "execute_result"
    }
   ],
   "source": [
    "BATCH_SIZE =64\n",
    "\n",
    "X = mlopt_cnn.features[:5*50000]\n",
    "\n",
    "rand_idx = list(np.arange(0,X.shape[0]-1))\n",
    "\n",
    "np.random.shuffle(rand_idx)\n",
    "\n",
    "indices = [rand_idx[ii * BATCH_SIZE:(ii + 1) * BATCH_SIZE] for ii in range((len(rand_idx) + BATCH_SIZE - 1) // BATCH_SIZE)]\n",
    "\n",
    "for ii,idx in enumerate(indices):\n",
    "    X_cnn = np.zeros((len(idx), 3,32,32))\n",
    "\n",
    "mlopt_cnn.cnn_features_idx"
   ],
   "metadata": {
    "collapsed": false,
    "pycharm": {
     "name": "#%%\n"
    }
   }
  },
  {
   "cell_type": "code",
   "execution_count": 10,
   "outputs": [
    {
     "data": {
      "text/plain": "['default_horizon_7',\n [7, array([[1.  , 0.  , 0.75, 0.  ],\n         [0.  , 1.  , 0.  , 0.75],\n         [0.  , 0.  , 1.  , 0.  ],\n         [0.  , 0.  , 0.  , 1.  ]]), array([[0.28125, 0.     ],\n         [0.     , 0.28125],\n         [0.75   , 0.     ],\n         [0.     , 0.75   ]]), array([[400.,   0.,   0.,   0.],\n         [  0., 400.,   0.,   0.],\n         [  0.,   0., 200.,   0.],\n         [  0.,   0.,   0., 200.]]), array([[1000.,    0.],\n         [   0., 1000.]]), 5, array([0., 0.]), array([3.6576, 2.7432]), -0.2, 0.2, -0.11961722488038279, 0.11961722488038279],\n ['x0', 'xg', 'obstacles']]"
     },
     "execution_count": 10,
     "metadata": {},
     "output_type": "execute_result"
    }
   ],
   "source": [
    "config_file = open(config_fn,'rb')\n",
    "f= pickle.load(config_file); config_file.close()\n",
    "f"
   ],
   "metadata": {
    "collapsed": false,
    "pycharm": {
     "name": "#%%\n"
    }
   }
  },
  {
   "cell_type": "code",
   "execution_count": null,
   "outputs": [],
   "source": [
    "train_horizon_N(7)"
   ],
   "metadata": {
    "collapsed": false,
    "pycharm": {
     "name": "#%%\n",
     "is_executing": true
    }
   }
  },
  {
   "cell_type": "code",
   "execution_count": null,
   "outputs": [],
   "source": [
    "horizons_A = [0,12,10,8,6]\n",
    "horizons_B = [1,11,9,7]\n",
    "horizons = [horizons_A, horizons_B]"
   ],
   "metadata": {
    "collapsed": false,
    "pycharm": {
     "name": "#%%\n"
    }
   }
  },
  {
   "cell_type": "code",
   "execution_count": 14,
   "metadata": {},
   "outputs": [],
   "source": [
    "def train_horizons(horizons):\n",
    "    if __name__ == '__main__':\n",
    "        with concurrent.futures.ProcessPoolExecutor() as executor:\n",
    "            for horizon in horizons:\n",
    "                horizons = horizons[1:]\n",
    "                device_id = horizons[0]\n",
    "                train_horizon_N(horizon, device_id=device_id)\n",
    "                results = executor.map(train_horizons, horizons)\n"
   ]
  },
  {
   "cell_type": "code",
   "execution_count": null,
   "outputs": [],
   "source": [
    "with concurrent.futures.ProcessPoolExecutor() as executor:\n",
    "    horizons = range(6, 13)\n",
    "    horizons_A = [0,12,10,8,6]\n",
    "    horizons_B = [1,11,9,7]\n",
    "    horizons = [horizons_A, horizons_B]\n",
    "    results = executor.map(train_horizons, horizons)"
   ],
   "metadata": {
    "collapsed": false,
    "pycharm": {
     "name": "#%%\n"
    }
   }
  },
  {
   "cell_type": "code",
   "execution_count": null,
   "outputs": [],
   "source": [
    "def test_strategy(N):\n",
    "    # NPROBS = 500\n",
    "    NPROBS = 50\n",
    "    config_fn = './free_flyer/config/default_horizon_{}.p'.format(N)\n",
    "\n",
    "    config_file = open(config_fn,'rb')\n",
    "    dataset_name, _, _ = pickle.load(config_file); config_file.close()\n",
    "\n",
    "    relative_path = os.getcwd()\n",
    "    dataset_fn = relative_path + '/free_flyer/data/' + dataset_name\n",
    "\n",
    "    train_fn = os.path.join(dataset_fn, 'train_horizon_{}.p'.format(N))\n",
    "    train_file = open(train_fn,'rb')\n",
    "    train_data = pickle.load(train_file)\n",
    "    train_file.close()\n",
    "\n",
    "    system = 'free_flyer'\n",
    "    prob_features = ['x0', 'obstacles_map']\n",
    "\n",
    "    config_fn = './free_flyer/config/default_horizon_{}.p'.format(N)\n",
    "    prob = FreeFlyer(config=config_fn)\n",
    "    mlopt_cnn = CoCo_FF(system, prob, prob_features)\n",
    "\n",
    "    n_features = 4\n",
    "    mlopt_cnn.construct_strategies(n_features, train_data)\n",
    "    mlopt_cnn.setup_network(device_id=-1)\n",
    "\n",
    "    model_fn = 'models/mloptff_horizon_{}.pt'.format(N)\n",
    "    mlopt_cnn.load_network(model_fn)\n",
    "\n",
    "    velmin = -0.2\n",
    "    velmax = 0.2\n",
    "    posmin = np.zeros(2)\n",
    "    ft2m = 0.3048\n",
    "    posmax = ft2m*np.array([12.,9.])\n",
    "    max_box_size = 0.75\n",
    "    min_box_size = 0.25\n",
    "    box_buffer = 0.025\n",
    "    border_size = 0.05\n",
    "\n",
    "    batch_percent_success = {}\n",
    "    batch_true_cost = {}\n",
    "    batch_cost = {}\n",
    "    batch_cost_ratio = {}\n",
    "    batch_con_tol = {}\n",
    "\n",
    "    # for N_OBS in range(6, 13):\n",
    "    for N_OBS in range(6, 7):\n",
    "        print('Starting {} obstacles'.format(N_OBS))\n",
    "        n_solved = 0.\n",
    "        success_count = 0.\n",
    "        gurobi_mlopt_fail = 0\n",
    "\n",
    "        toggle_obstacles = True\n",
    "        toggle_count = 0\n",
    "        problem_count = 0\n",
    "\n",
    "        batch_true_cost[N_OBS] = []\n",
    "        batch_cost[N_OBS] = []\n",
    "        batch_cost_ratio[N_OBS] = []\n",
    "        batch_con_tol[N_OBS] = []\n",
    "\n",
    "        mlopt_cnn.problem.n_obs = N_OBS\n",
    "        mlopt_cnn.problem.init_mlopt_problem()\n",
    "        mlopt_cnn.problem.init_bin_problem()\n",
    "\n",
    "        while n_solved < NPROBS:\n",
    "            problem_count += 1\n",
    "            if problem_count % 20 == 0:\n",
    "                print('Done with problem {}'.format(n_solved))\n",
    "                dump_fn = './free_flyer/config/testfile_horizon_{}.txt'.format(N)\n",
    "                file = open(dump_fn,'w')\n",
    "                file.write('On obstacle {}\\n'.format(N_OBS))\n",
    "                file.write('Problems solved: {}/{}'.format(n_solved, NPROBS))\n",
    "                file.close()\n",
    "\n",
    "            if problem_count % 50 == 0:\n",
    "                print('Saving config at problem {}'.format(n_solved))\n",
    "                relative_path = os.getcwd()\n",
    "                dataset_fn = relative_path + '/free_flyer/data/' + 'horizon_{}_results'.format(N)\n",
    "                config_fn = os.path.join(relative_path, 'free_flyer/config', 'results_horizon_{}'.format(N) + '.p')\n",
    "\n",
    "                config = [batch_percent_success, batch_true_cost, batch_cost, batch_cost_ratio, batch_con_tol]\n",
    "                outfile = open(config_fn,\"wb\")\n",
    "                pickle.dump(config,outfile); outfile.close()\n",
    "\n",
    "            if toggle_obstacles:\n",
    "                x0 = np.hstack((posmin + (posmax-posmin)*np.random.rand(2), \\\n",
    "                           velmin + (velmax-velmin)*np.random.rand(2)))\n",
    "                obstacles = find_obs(x0, N_OBS, posmin, posmax, \\\n",
    "                    border_size, box_buffer, min_box_size, max_box_size)\n",
    "                if len(obstacles) is not N_OBS:\n",
    "                    continue\n",
    "            else:\n",
    "                obstacles = random_obs(N_OBS, posmin, posmax, border_size, box_buffer, \\\n",
    "                  min_box_size, max_box_size)\n",
    "                x0 = findIC(obstacles, posmin, posmax, velmin, velmax)\n",
    "            if len(obstacles) is not N_OBS:\n",
    "                continue\n",
    "\n",
    "            obstacles = np.reshape(np.concatenate(obstacles, axis=0), (mlopt_cnn.problem.n_obs,4)).T\n",
    "\n",
    "            prob_params = {}\n",
    "            prob_params['x0'] = x0\n",
    "            prob_params['obstacles'] = obstacles\n",
    "            prob_params['xg'] = np.hstack((0.9*posmax, np.zeros(2)))\n",
    "\n",
    "            try:\n",
    "                prob_success, true_cost, solve_time, optvals = mlopt_cnn.problem.solve_micp(prob_params)\n",
    "            except (KeyboardInterrupt, SystemExit):\n",
    "                raise\n",
    "            except:\n",
    "                print('Solver failed for MICP')\n",
    "                gurobi_mlopt_fail += 1\n",
    "                continue\n",
    "\n",
    "            if not prob_success:\n",
    "                continue\n",
    "\n",
    "            try:\n",
    "                prob_success, cost, total_time, n_evals, mlopt_vals = mlopt_cnn.forward(prob_params)\n",
    "            except (KeyboardInterrupt, SystemExit):\n",
    "                raise\n",
    "            except:\n",
    "                print('Solver failed for QCQP')\n",
    "                continue\n",
    "\n",
    "            if prob_success:\n",
    "                slack_vars = mlopt_vals[-1]\n",
    "\n",
    "                if np.any(slack_vars < 0.):\n",
    "                    # If any slack variable returns negative value\n",
    "                    warn_fn = './free_flyer/config/testwarn_horizon_{}.txt'.format(N)\n",
    "\n",
    "                    file = open(warn_fn,'w')\n",
    "                    file.write('Found invalid slack variable soln!')\n",
    "                    file.close()\n",
    "                    continue\n",
    "                elif np.sum(slack_vars) < 1e-3:\n",
    "                    # Only consider cost ratios for feasible trajectories\n",
    "                    success_count += 1\n",
    "                    batch_true_cost[N_OBS] += [true_cost]\n",
    "                    batch_cost_ratio[N_OBS] += [cost / true_cost]\n",
    "                batch_cost[N_OBS] += [cost]\n",
    "                batch_con_tol[N_OBS] += [np.sum(slack_vars)]\n",
    "\n",
    "                toggle_count += 1\n",
    "                if toggle_count % 5 == 0:\n",
    "                    toggle_obstacles = not toggle_obstacles\n",
    "\n",
    "            n_solved+=1\n",
    "\n",
    "        batch_percent_success[N_OBS] = success_count / NPROBS\n",
    "\n",
    "    # write out config\n",
    "    relative_path = os.getcwd()\n",
    "    dataset_fn = relative_path + '/free_flyer/data/' + 'horizon_{}_results'.format(N)\n",
    "    config_fn = os.path.join(relative_path, 'free_flyer/config', 'results_horizon_{}'.format(N) + '.p')\n",
    "\n",
    "    config = [batch_percent_success, batch_true_cost, batch_cost, batch_cost_ratio, batch_con_tol]\n",
    "    outfile = open(config_fn,\"wb\")\n",
    "    pickle.dump(config,outfile); outfile.close()"
   ],
   "metadata": {
    "collapsed": false,
    "pycharm": {
     "name": "#%%\n"
    }
   }
  },
  {
   "cell_type": "code",
   "execution_count": null,
   "outputs": [],
   "source": [
    "# with concurrent.futures.ProcessPoolExecutor() as executor:\n",
    "#     horizons = range(6, 13)\n",
    "#     horizons = [6,7]\n",
    "#     results = executor.map(test_strategy, horizons)\n",
    "# processes = []\n",
    "# for N in [6,7]:\n",
    "#     p = multiprocessing.Process(target=test_strategy, args=[N])\n",
    "#     p.start()\n",
    "#     processes.append(p)\n",
    "\n",
    "# for p in processes:\n",
    "#     p.join()\n",
    "os.environ['KMP_DUPLICATE_LIB_OK'] = 'True'\n",
    "horizon = 7\n",
    "test_strategy(horizon)"
   ],
   "metadata": {
    "collapsed": false,
    "pycharm": {
     "name": "#%%\n"
    }
   }
  },
  {
   "cell_type": "code",
   "execution_count": null,
   "outputs": [],
   "source": [
    "N=7\n",
    "relative_path = os.getcwd()\n",
    "config_fn = os.path.join(relative_path, 'free_flyer/config', 'results_horizon_{}'.format(N) + '.p')\n",
    "config_file = open(config_fn,'rb')\n",
    "\n",
    "p = pickle.load(config_file);\n",
    "# config_file.close()\n",
    "\n",
    "batch_percent_success, batch_true_cost, batch_cost, batch_cost_ratio, batch_con_tol = pickle.load(config_file)"
   ],
   "metadata": {
    "collapsed": false,
    "pycharm": {
     "name": "#%%\n",
     "is_executing": true
    }
   }
  },
  {
   "cell_type": "code",
   "execution_count": null,
   "outputs": [],
   "source": [
    "for N in range(6,13):\n",
    "    relative_path = os.getcwd()\n",
    "    config_fn = os.path.join(relative_path, 'free_flyer/config', 'results_horizon_{}'.format(N) + '.p')\n",
    "    config_file = open(config_fn,'rb')\n",
    "    batch_percent_success, batch_true_cost, batch_cost, batch_cost_ratio, batch_con_tol = pickle.load(config_file); config_file.close()\n",
    "    print(batch_percent_success[6])"
   ],
   "metadata": {
    "collapsed": false,
    "pycharm": {
     "name": "#%%\n"
    }
   }
  },
  {
   "cell_type": "markdown",
   "metadata": {},
   "source": [
    "# Plot results"
   ]
  },
  {
   "cell_type": "code",
   "execution_count": 5,
   "metadata": {},
   "outputs": [],
   "source": [
    "import math\n",
    "import seaborn as sns\n",
    "sns.set(font_scale=1.5, font=\"serif\", style=\"whitegrid\")\n",
    "import pandas as pd\n",
    "\n",
    "flierprops = {'alpha':0.2}\n",
    "sns.set(rc={'figure.figsize':(11.7,8.27)})"
   ]
  },
  {
   "cell_type": "code",
   "execution_count": 6,
   "metadata": {},
   "outputs": [],
   "source": [
    "import math\n",
    "import seaborn as sns\n",
    "sns.set(font_scale=1.5, font=\"serif\", style=\"whitegrid\")\n",
    "import pandas as pd\n",
    "import h5py\n",
    "import matplotlib\n",
    "\n",
    "flierprops = {'alpha':0.2}\n",
    "\n",
    "params = {'backend': 'ps',\n",
    "              'text.latex.preamble': ['\\\\usepackage{gensymb}'],\n",
    "#               'axes.labelsize': 12, # fontsize for x and y labels (was 12 and before 10)\n",
    "#               'axes.titlesize': 12,\n",
    "              'font.size': 90, # was 12 and before 10\n",
    "              'legend.fontsize': 12, # was 12 and before 10\n",
    "#               'xtick.labelsize': 12,\n",
    "#               'ytick.labelsize': 12,\n",
    "              'text.usetex': True,\n",
    "              'font.family': 'serif',\n",
    "              'font.sans-serif':['Helvetica Neue']\n",
    "    }\n",
    "\n",
    "params = {\n",
    "#     'backend': 'ps',\n",
    "#               'text.latex.preamble': ['\\\\usepackage{gensymb}'],\n",
    "#               'axes.labelsize': 12, # fontsize for x and y labels (was 12 and before 10)\n",
    "#               'axes.titlesize': 12,\n",
    "#               'font.size': 12, # was 12 and before 10\n",
    "              'legend.fontsize': 26, # was 12 and before 10\n",
    "#               'xtick.labelsize': 12,\n",
    "#               'ytick.labelsize': 12,\n",
    "#               'text.usetex': True,\n",
    "#               'font.family': 'serif',\n",
    "#               'font.sans-serif':['Helvetica Neue']\n",
    "    }\n",
    "\n",
    "sns.set(font_scale=2.)\n",
    "matplotlib.rcParams.update(params)"
   ]
  },
  {
   "cell_type": "code",
   "execution_count": null,
   "metadata": {
    "pycharm": {
     "is_executing": true
    }
   },
   "outputs": [],
   "source": [
    "relative_path = os.getcwd()\n",
    "percent_successes = {}\n",
    "con_tols = {}\n",
    "cost_ratios = {}\n",
    "\n",
    "horizons = range(7,13)\n",
    "for N in horizons:\n",
    "    results_fn = os.path.join(relative_path, 'free_flyer/config', 'results_horizon_{}'.format(N) + '.p')\n",
    "    results_file = open(results_fn,'rb')\n",
    "    batch_percent_success, batch_true_cost, batch_cost, batch_cost_ratio, batch_con_tol = pickle.load(results_file)\n",
    "    results_file.close()\n",
    "\n",
    "    percent_successes[N] = batch_percent_success\n",
    "    con_tols[N] = batch_con_tol\n",
    "    cost_ratios[N] = batch_cost_ratio"
   ]
  },
  {
   "cell_type": "markdown",
   "metadata": {},
   "source": [
    "# Results"
   ]
  },
  {
   "cell_type": "code",
   "execution_count": 50,
   "metadata": {},
   "outputs": [
    {
     "data": {
      "image/png": "[encoded data removed]",
      "text/plain": [
       "<Figure size 842.4x595.44 with 1 Axes>"
      ]
     },
     "metadata": {},
     "output_type": "display_data"
    }
   ],
   "source": [
    "linestyles = ['--', '-.', '-', ':']\n",
    "\n",
    "plot_horizons = [6,8,10,12]\n",
    "for ii, N in enumerate(plot_horizons):\n",
    "    batch_percent_success = percent_successes[N]\n",
    "    x_labels = [ii for ii in range(6,13)]\n",
    "    y_labels = [100.*batch_percent_success[x] for x in x_labels]\n",
    "    ax1 = sns.lineplot(x=x_labels, y=y_labels, palette=\"Set3\", label='N={}'.format(N), linewidth=1.5)\n",
    "    ax1.lines[ii].set_linestyle(linestyles[ii])\n",
    "    # ax1.set(xlabel=\"\", ylabel=\"Percent Success\")\n",
    "\n",
    "ax1.set(xlabel=\"Num. Obstacles\", ylabel=\"Percent Success [%]\")\n",
    "# ax1.grid(False)\n",
    "\n",
    "yticks =  [10*ii for ii in range(11)]\n",
    "ax1.set_yticks(yticks)\n",
    "\n",
    "plt.tight_layout()\n",
    "plt.legend(loc='upper right', fontsize='16')\n",
    "plt.xlim([6,12])\n",
    "plt.ylim([40.,100.])\n",
    "\n",
    "# sns.set_style(\"whitegrid\")\n",
    "st = sns.axes_style(\"whitegrid\")\n",
    "sns.set_color_codes(\"dark\")\n",
    "\n",
    "figure = ax1.get_figure()\n",
    "# figure.savefig(\"percent_success_generalization.pdf\")"
   ]
  },
  {
   "cell_type": "code",
   "execution_count": 2,
   "metadata": {},
   "outputs": [
    {
     "ename": "NameError",
     "evalue": "name 'con_tols' is not defined",
     "output_type": "error",
     "traceback": [
      "\u001B[1;31m---------------------------------------------------------------------------\u001B[0m",
      "\u001B[1;31mNameError\u001B[0m                                 Traceback (most recent call last)",
      "\u001B[1;32m<ipython-input-2-c8bfe689c356>\u001B[0m in \u001B[0;36m<module>\u001B[1;34m\u001B[0m\n\u001B[0;32m      5\u001B[0m \u001B[1;32mfor\u001B[0m \u001B[0mhorizon\u001B[0m \u001B[1;32min\u001B[0m \u001B[0mrange\u001B[0m\u001B[1;33m(\u001B[0m\u001B[1;36m6\u001B[0m\u001B[1;33m,\u001B[0m\u001B[1;36m13\u001B[0m\u001B[1;33m)\u001B[0m\u001B[1;33m:\u001B[0m\u001B[1;33m\u001B[0m\u001B[1;33m\u001B[0m\u001B[0m\n\u001B[0;32m      6\u001B[0m     \u001B[1;32mfor\u001B[0m \u001B[0mn_obs\u001B[0m \u001B[1;32min\u001B[0m \u001B[0mrange\u001B[0m\u001B[1;33m(\u001B[0m\u001B[1;36m6\u001B[0m\u001B[1;33m,\u001B[0m\u001B[1;36m13\u001B[0m\u001B[1;33m)\u001B[0m\u001B[1;33m:\u001B[0m\u001B[1;33m\u001B[0m\u001B[1;33m\u001B[0m\u001B[0m\n\u001B[1;32m----> 7\u001B[1;33m         \u001B[0mresults\u001B[0m\u001B[1;33m[\u001B[0m\u001B[1;34m'horizon'\u001B[0m\u001B[1;33m]\u001B[0m\u001B[1;33m.\u001B[0m\u001B[0mextend\u001B[0m\u001B[1;33m(\u001B[0m\u001B[1;33m[\u001B[0m\u001B[0mhorizon\u001B[0m\u001B[1;33m]\u001B[0m\u001B[1;33m*\u001B[0m\u001B[0mlen\u001B[0m\u001B[1;33m(\u001B[0m\u001B[0mcon_tols\u001B[0m\u001B[1;33m[\u001B[0m\u001B[0mhorizon\u001B[0m\u001B[1;33m]\u001B[0m\u001B[1;33m[\u001B[0m\u001B[0mn_obs\u001B[0m\u001B[1;33m]\u001B[0m\u001B[1;33m)\u001B[0m\u001B[1;33m)\u001B[0m\u001B[1;33m\u001B[0m\u001B[1;33m\u001B[0m\u001B[0m\n\u001B[0m\u001B[0;32m      8\u001B[0m         \u001B[0mresults\u001B[0m\u001B[1;33m[\u001B[0m\u001B[1;34m'n_obs'\u001B[0m\u001B[1;33m]\u001B[0m\u001B[1;33m.\u001B[0m\u001B[0mextend\u001B[0m\u001B[1;33m(\u001B[0m\u001B[1;33m[\u001B[0m\u001B[0mn_obs\u001B[0m\u001B[1;33m]\u001B[0m\u001B[1;33m*\u001B[0m\u001B[0mlen\u001B[0m\u001B[1;33m(\u001B[0m\u001B[0mcon_tols\u001B[0m\u001B[1;33m[\u001B[0m\u001B[0mhorizon\u001B[0m\u001B[1;33m]\u001B[0m\u001B[1;33m[\u001B[0m\u001B[0mn_obs\u001B[0m\u001B[1;33m]\u001B[0m\u001B[1;33m)\u001B[0m\u001B[1;33m)\u001B[0m\u001B[1;33m\u001B[0m\u001B[1;33m\u001B[0m\u001B[0m\n\u001B[0;32m      9\u001B[0m \u001B[1;33m\u001B[0m\u001B[0m\n",
      "\u001B[1;31mNameError\u001B[0m: name 'con_tols' is not defined"
     ]
    }
   ],
   "source": [
    "results = {}\n",
    "results['horizon'] = []\n",
    "results['n_obs'] = []\n",
    "results['tol'] = []\n",
    "for horizon in range(6,13):\n",
    "    for n_obs in range(6,13):\n",
    "        results['horizon'].extend([horizon]*len(con_tols[horizon][n_obs]))\n",
    "        results['n_obs'].extend([n_obs]*len(con_tols[horizon][n_obs]))\n",
    "\n",
    "        # make sure to normalize violations by n_obs and horizon\n",
    "        results['tol'].extend([1./float(n_obs*horizon)*ct for ct in con_tols[horizon][n_obs]])\n",
    "results = pd.DataFrame(results)"
   ]
  },
  {
   "cell_type": "code",
   "execution_count": 1,
   "metadata": {},
   "outputs": [
    {
     "ename": "NameError",
     "evalue": "name 'cost_ratios' is not defined",
     "output_type": "error",
     "traceback": [
      "\u001B[1;31m---------------------------------------------------------------------------\u001B[0m",
      "\u001B[1;31mNameError\u001B[0m                                 Traceback (most recent call last)",
      "\u001B[1;32m<ipython-input-1-6243463078cc>\u001B[0m in \u001B[0;36m<module>\u001B[1;34m\u001B[0m\n\u001B[0;32m      5\u001B[0m \u001B[1;32mfor\u001B[0m \u001B[0mhorizon\u001B[0m \u001B[1;32min\u001B[0m \u001B[0mrange\u001B[0m\u001B[1;33m(\u001B[0m\u001B[1;36m6\u001B[0m\u001B[1;33m,\u001B[0m\u001B[1;36m13\u001B[0m\u001B[1;33m)\u001B[0m\u001B[1;33m:\u001B[0m\u001B[1;33m\u001B[0m\u001B[1;33m\u001B[0m\u001B[0m\n\u001B[0;32m      6\u001B[0m     \u001B[1;32mfor\u001B[0m \u001B[0mn_obs\u001B[0m \u001B[1;32min\u001B[0m \u001B[0mrange\u001B[0m\u001B[1;33m(\u001B[0m\u001B[1;36m6\u001B[0m\u001B[1;33m,\u001B[0m\u001B[1;36m13\u001B[0m\u001B[1;33m)\u001B[0m\u001B[1;33m:\u001B[0m\u001B[1;33m\u001B[0m\u001B[1;33m\u001B[0m\u001B[0m\n\u001B[1;32m----> 7\u001B[1;33m         \u001B[0mresults\u001B[0m\u001B[1;33m[\u001B[0m\u001B[1;34m'horizon'\u001B[0m\u001B[1;33m]\u001B[0m\u001B[1;33m.\u001B[0m\u001B[0mextend\u001B[0m\u001B[1;33m(\u001B[0m\u001B[1;33m[\u001B[0m\u001B[0mhorizon\u001B[0m\u001B[1;33m]\u001B[0m\u001B[1;33m*\u001B[0m\u001B[0mlen\u001B[0m\u001B[1;33m(\u001B[0m\u001B[0mcost_ratios\u001B[0m\u001B[1;33m[\u001B[0m\u001B[0mhorizon\u001B[0m\u001B[1;33m]\u001B[0m\u001B[1;33m[\u001B[0m\u001B[0mn_obs\u001B[0m\u001B[1;33m]\u001B[0m\u001B[1;33m)\u001B[0m\u001B[1;33m)\u001B[0m\u001B[1;33m\u001B[0m\u001B[1;33m\u001B[0m\u001B[0m\n\u001B[0m\u001B[0;32m      8\u001B[0m         \u001B[0mresults\u001B[0m\u001B[1;33m[\u001B[0m\u001B[1;34m'n_obs'\u001B[0m\u001B[1;33m]\u001B[0m\u001B[1;33m.\u001B[0m\u001B[0mextend\u001B[0m\u001B[1;33m(\u001B[0m\u001B[1;33m[\u001B[0m\u001B[0mn_obs\u001B[0m\u001B[1;33m]\u001B[0m\u001B[1;33m*\u001B[0m\u001B[0mlen\u001B[0m\u001B[1;33m(\u001B[0m\u001B[0mcost_ratios\u001B[0m\u001B[1;33m[\u001B[0m\u001B[0mhorizon\u001B[0m\u001B[1;33m]\u001B[0m\u001B[1;33m[\u001B[0m\u001B[0mn_obs\u001B[0m\u001B[1;33m]\u001B[0m\u001B[1;33m)\u001B[0m\u001B[1;33m)\u001B[0m\u001B[1;33m\u001B[0m\u001B[1;33m\u001B[0m\u001B[0m\n\u001B[0;32m      9\u001B[0m \u001B[1;33m\u001B[0m\u001B[0m\n",
      "\u001B[1;31mNameError\u001B[0m: name 'cost_ratios' is not defined"
     ]
    }
   ],
   "source": [
    "results = {}\n",
    "results['horizon'] = []\n",
    "results['n_obs'] = []\n",
    "results['cost_ratio'] = []\n",
    "for horizon in range(6,13):\n",
    "    for n_obs in range(6,13):\n",
    "        results['horizon'].extend([horizon]*len(cost_ratios[horizon][n_obs]))\n",
    "        results['n_obs'].extend([n_obs]*len(cost_ratios[horizon][n_obs]))\n",
    "\n",
    "        results['cost_ratio'].extend([100.*cr for cr in cost_ratios[horizon][n_obs]])\n",
    "results = pd.DataFrame(results)"
   ]
  },
  {
   "cell_type": "code",
   "execution_count": 119,
   "metadata": {},
   "outputs": [
    {
     "data": {
      "image/png": "[encoded data removed]",
      "text/plain": [
       "<Figure size 842.4x595.44 with 1 Axes>"
      ]
     },
     "metadata": {},
     "output_type": "display_data"
    }
   ],
   "source": [
    "# ax1 = sns.barplot(x='horizon', y='cost_ratio', data=results, hue='n_obs', order=[6,7,8,9,10,11,12], palette=\"Set3\")\n",
    "\n",
    "ax1 = sns.barplot(x=\"day\", y=\"cost_ratio\", data=results)\n",
    "\n",
    "plt.ylim([80.,120.])\n",
    "\n",
    "figure = ax1.get_figure()\n",
    "figure.savefig(\"cost_ratios.png\")"
   ]
  }
 ],
 "metadata": {
  "kernelspec": {
   "name": "coco",
   "language": "python",
   "display_name": "coco"
  },
  "language_info": {
   "codemirror_mode": {
    "name": "ipython",
    "version": 3
   },
   "file_extension": ".py",
   "mimetype": "text/x-python",
   "name": "python",
   "nbconvert_exporter": "python",
   "pygments_lexer": "ipython3",
   "version": "3.6.3"
  }
 },
 "nbformat": 4,
 "nbformat_minor": 4
}