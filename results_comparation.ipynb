{
 "cells": [
  {
   "cell_type": "code",
   "execution_count": 1,
   "outputs": [
    {
     "name": "stderr",
     "output_type": "stream",
     "text": [
      "C:\\Users\\msi\\anaconda3\\envs\\coco\\lib\\site-packages\\numpy\\_distributor_init.py:32: UserWarning: loaded more than 1 DLL from .libs:\n",
      "C:\\Users\\msi\\anaconda3\\envs\\coco\\lib\\site-packages\\numpy\\.libs\\libopenblas.PYQHXLVVQ7VESDPUVUADXEVJOBGHJPAY.gfortran-win_amd64.dll\n",
      "C:\\Users\\msi\\anaconda3\\envs\\coco\\lib\\site-packages\\numpy\\.libs\\libopenblas.WCDJNK7YVMPZQ2ME2ZZHJJRJ3JIKNDB7.gfortran-win_amd64.dll\n",
      "  stacklevel=1)\n"
     ]
    },
    {
     "ename": "ModuleNotFoundError",
     "evalue": "No module named 'free_flyer'",
     "output_type": "error",
     "traceback": [
      "\u001B[1;31m---------------------------------------------------------------------------\u001B[0m",
      "\u001B[1;31mModuleNotFoundError\u001B[0m                       Traceback (most recent call last)",
      "\u001B[1;32m<ipython-input-1-8b6a128b9c5a>\u001B[0m in \u001B[0;36m<module>\u001B[1;34m\u001B[0m\n\u001B[0;32m     11\u001B[0m \u001B[1;32mimport\u001B[0m \u001B[0mcvxpy\u001B[0m \u001B[1;32mas\u001B[0m \u001B[0mcp\u001B[0m\u001B[1;33m\u001B[0m\u001B[1;33m\u001B[0m\u001B[0m\n\u001B[0;32m     12\u001B[0m \u001B[1;33m\u001B[0m\u001B[0m\n\u001B[1;32m---> 13\u001B[1;33m \u001B[1;32mfrom\u001B[0m \u001B[0mfree_flyer\u001B[0m\u001B[1;33m.\u001B[0m\u001B[0mfree_flyer\u001B[0m \u001B[1;32mimport\u001B[0m \u001B[0mFreeFlyer\u001B[0m\u001B[1;33m\u001B[0m\u001B[1;33m\u001B[0m\u001B[0m\n\u001B[0m\u001B[0;32m     14\u001B[0m \u001B[1;32mfrom\u001B[0m \u001B[0mfree_flyer\u001B[0m\u001B[1;33m.\u001B[0m\u001B[0mutils\u001B[0m \u001B[1;32mimport\u001B[0m \u001B[1;33m*\u001B[0m\u001B[1;33m\u001B[0m\u001B[1;33m\u001B[0m\u001B[0m\n\u001B[0;32m     15\u001B[0m \u001B[1;32mimport\u001B[0m \u001B[0mpickle\u001B[0m\u001B[1;33m,\u001B[0m \u001B[0mos\u001B[0m\u001B[1;33m\u001B[0m\u001B[1;33m\u001B[0m\u001B[0m\n",
      "\u001B[1;31mModuleNotFoundError\u001B[0m: No module named 'free_flyer'"
     ]
    }
   ],
   "source": [
    "%load_ext autoreload\n",
    "%autoreload 2\n",
    "\n",
    "import matplotlib.pyplot as plt\n",
    "%matplotlib inline\n",
    "\n",
    "import torch\n",
    "from torch.autograd import Variable\n",
    "\n",
    "import numpy as np\n",
    "import cvxpy as cp\n",
    "\n",
    "from free_flyer.free_flyer import FreeFlyer\n",
    "from free_flyer.utils import *\n",
    "import pickle, os"
   ],
   "metadata": {
    "collapsed": false,
    "pycharm": {
     "name": "#%%\n"
    }
   }
  },
  {
   "cell_type": "code",
   "execution_count": 22,
   "metadata": {},
   "outputs": [],
   "source": [
    "#load train/test data\n",
    "prob = FreeFlyer() #use default config, pass different config file oth.\n",
    "config_fn = './free_flyer/config/default.p'\n",
    "\n",
    "config_file = open(config_fn,'rb')\n",
    "dataset_name, _, _ = pickle.load(config_file); config_file.close()\n",
    "\n",
    "relative_path = os.getcwd()\n",
    "dataset_fn = relative_path + '/free_flyer/data/' + dataset_name\n",
    "\n",
    "train_file = open(dataset_fn+'/train.p','rb')\n",
    "# p_train, x_train, u_train, y_train, c_train, times_train = pickle.load(train_file)\n",
    "train_data = pickle.load(train_file)\n",
    "train_file.close()\n",
    "x_train = train_data[1] #X sequence\n",
    "y_train = train_data[3] #Y sequence\n",
    "\n",
    "test_file = open(dataset_fn+'/test.p','rb')\n",
    "# p_test, x_test, u_test, y_test, c_test, times_test = pickle.load(test_file)\n",
    "test_data = pickle.load(test_file)\n",
    "p_test, x_test, u_test, y_test, c_test, times_test = test_data\n",
    "test_file.close()\n",
    "\n",
    "n_test = x_test.shape[0]"
   ]
  },
  {
   "cell_type": "code",
   "execution_count": 23,
   "metadata": {
    "pycharm": {
     "name": "#%%\n"
    }
   },
   "outputs": [
    {
     "data": {
      "text/plain": "1000"
     },
     "execution_count": 23,
     "metadata": {},
     "output_type": "execute_result"
    }
   ],
   "source": [
    "n_test"
   ]
  },
  {
   "cell_type": "markdown",
   "metadata": {},
   "source": [
    "# Regressor"
   ]
  },
  {
   "cell_type": "code",
   "execution_count": 4,
   "metadata": {},
   "outputs": [],
   "source": [
    "from solvers.regression import Regression\n",
    "\n",
    "system = 'free_flyer'\n",
    "prob_features = ['x0', 'obstacles']\n",
    "reg_obj = Regression(system, prob, prob_features)\n",
    "\n",
    "n_features = 36\n",
    "reg_obj.construct_strategies(n_features, train_data)"
   ]
  },
  {
   "cell_type": "code",
   "execution_count": 5,
   "metadata": {
    "pycharm": {
     "name": "#%%\n"
    }
   },
   "outputs": [],
   "source": [
    "# # train_data[3][1] # shape((9000, 32, 5)),  8 obstacles x4 faces for N=5 #\n",
    "# obstacle=train_data[0][\"obstacles\"][0][:,1] # shape((9000, 4, 8)),  8 obstacles with 4 ordinates #\n",
    "# obstacle#[1.269805,1.603573, 2.314845, 2.953014],[x_leftdown, x_rightdown, y_leftdown, y_leftup]#\n",
    "# rectangle = plt.Rectangle((obstacle[0], obstacle[2]), \\\n",
    "#                               obstacle[1]-obstacle[0], obstacle[3]-obstacle[2], \\\n",
    "#                              fc='red', ec='blue')\n",
    "# ft2m = 0.3048\n",
    "# posmax = ft2m*np.array([12.,9.])\n",
    "#\n",
    "# fig = plt.figure()\n",
    "# plt.gca().add_patch(rectangle)\n",
    "# plt.axis('scaled')\n",
    "# posmin = np.zeros(n)\n",
    "# ax = plt.gca()\n",
    "# ax.set(xlim=(posmin[0],posmax[0]), ylim=(posmin[1],posmax[1]))\n",
    "#\n",
    "# plt.show()"
   ]
  },
  {
   "cell_type": "code",
   "execution_count": 6,
   "metadata": {},
   "outputs": [
    {
     "name": "stdout",
     "output_type": "stream",
     "text": [
      "Loading presaved regression model from models/mlopt_model_naive_free_flyer_20200406_0928_3-layers_128-neurons_regressor.pt\n"
     ]
    },
    {
     "ename": "RuntimeError",
     "evalue": "Error(s) in loading state_dict for FFNet:\n\tsize mismatch for layers.0.weight: copying a param with shape torch.Size([128, 36]) from checkpoint, the shape in current model is torch.Size([32, 36]).\n\tsize mismatch for layers.0.bias: copying a param with shape torch.Size([128]) from checkpoint, the shape in current model is torch.Size([32]).\n\tsize mismatch for layers.1.weight: copying a param with shape torch.Size([128, 128]) from checkpoint, the shape in current model is torch.Size([32, 32]).\n\tsize mismatch for layers.1.bias: copying a param with shape torch.Size([128]) from checkpoint, the shape in current model is torch.Size([32]).\n\tsize mismatch for layers.2.weight: copying a param with shape torch.Size([128, 128]) from checkpoint, the shape in current model is torch.Size([32, 32]).\n\tsize mismatch for layers.2.bias: copying a param with shape torch.Size([128]) from checkpoint, the shape in current model is torch.Size([32]).\n\tsize mismatch for layers.3.weight: copying a param with shape torch.Size([160, 128]) from checkpoint, the shape in current model is torch.Size([160, 32]).",
     "output_type": "error",
     "traceback": [
      "\u001B[1;31m---------------------------------------------------------------------------\u001B[0m",
      "\u001B[1;31mRuntimeError\u001B[0m                              Traceback (most recent call last)",
      "\u001B[1;32m<ipython-input-6-fd0b7e5f0000>\u001B[0m in \u001B[0;36m<module>\u001B[1;34m\u001B[0m\n\u001B[0;32m      3\u001B[0m \u001B[1;31m# fn_saved = 'models/regression_free_flyer_20200708_0809.pt'\u001B[0m\u001B[1;33m\u001B[0m\u001B[1;33m\u001B[0m\u001B[1;33m\u001B[0m\u001B[0m\n\u001B[0;32m      4\u001B[0m \u001B[0mfn_saved\u001B[0m \u001B[1;33m=\u001B[0m \u001B[1;34m'models/mlopt_model_naive_free_flyer_20200406_0928_3-layers_128-neurons_regressor.pt'\u001B[0m\u001B[1;33m\u001B[0m\u001B[1;33m\u001B[0m\u001B[0m\n\u001B[1;32m----> 5\u001B[1;33m \u001B[0mreg_obj\u001B[0m\u001B[1;33m.\u001B[0m\u001B[0mload_network\u001B[0m\u001B[1;33m(\u001B[0m\u001B[0mfn_saved\u001B[0m\u001B[1;33m)\u001B[0m\u001B[1;33m\u001B[0m\u001B[1;33m\u001B[0m\u001B[0m\n\u001B[0m\u001B[0;32m      6\u001B[0m \u001B[1;33m\u001B[0m\u001B[0m\n\u001B[0;32m      7\u001B[0m \u001B[0mreg_obj\u001B[0m\u001B[1;33m.\u001B[0m\u001B[0mmodel\u001B[0m\u001B[1;33m\u001B[0m\u001B[1;33m\u001B[0m\u001B[0m\n",
      "\u001B[1;32mD:\\Curious\\CoCo-master\\solvers\\regression.py\u001B[0m in \u001B[0;36mload_network\u001B[1;34m(self, fn_regressor_model)\u001B[0m\n\u001B[0;32m    106\u001B[0m         \u001B[1;32melse\u001B[0m\u001B[1;33m:\u001B[0m\u001B[1;33m\u001B[0m\u001B[1;33m\u001B[0m\u001B[0m\n\u001B[0;32m    107\u001B[0m             \u001B[0mprint\u001B[0m\u001B[1;33m(\u001B[0m\u001B[1;34m'Loading presaved regression model from {}'\u001B[0m\u001B[1;33m.\u001B[0m\u001B[0mformat\u001B[0m\u001B[1;33m(\u001B[0m\u001B[0mfn_regressor_model\u001B[0m\u001B[1;33m)\u001B[0m\u001B[1;33m)\u001B[0m\u001B[1;33m\u001B[0m\u001B[1;33m\u001B[0m\u001B[0m\n\u001B[1;32m--> 108\u001B[1;33m             \u001B[0mself\u001B[0m\u001B[1;33m.\u001B[0m\u001B[0mmodel\u001B[0m\u001B[1;33m.\u001B[0m\u001B[0mload_state_dict\u001B[0m\u001B[1;33m(\u001B[0m\u001B[0mtorch\u001B[0m\u001B[1;33m.\u001B[0m\u001B[0mload\u001B[0m\u001B[1;33m(\u001B[0m\u001B[0mfn_regressor_model\u001B[0m\u001B[1;33m)\u001B[0m\u001B[1;33m)\u001B[0m\u001B[1;33m\u001B[0m\u001B[1;33m\u001B[0m\u001B[0m\n\u001B[0m\u001B[0;32m    109\u001B[0m             \u001B[0mself\u001B[0m\u001B[1;33m.\u001B[0m\u001B[0mmodel_fn\u001B[0m \u001B[1;33m=\u001B[0m \u001B[0mfn_regressor_model\u001B[0m\u001B[1;33m\u001B[0m\u001B[1;33m\u001B[0m\u001B[0m\n\u001B[0;32m    110\u001B[0m \u001B[1;33m\u001B[0m\u001B[0m\n",
      "\u001B[1;32m~\\anaconda3\\envs\\mlopt\\lib\\site-packages\\torch\\nn\\modules\\module.py\u001B[0m in \u001B[0;36mload_state_dict\u001B[1;34m(self, state_dict, strict)\u001B[0m\n\u001B[0;32m    845\u001B[0m         \u001B[1;32mif\u001B[0m \u001B[0mlen\u001B[0m\u001B[1;33m(\u001B[0m\u001B[0merror_msgs\u001B[0m\u001B[1;33m)\u001B[0m \u001B[1;33m>\u001B[0m \u001B[1;36m0\u001B[0m\u001B[1;33m:\u001B[0m\u001B[1;33m\u001B[0m\u001B[1;33m\u001B[0m\u001B[0m\n\u001B[0;32m    846\u001B[0m             raise RuntimeError('Error(s) in loading state_dict for {}:\\n\\t{}'.format(\n\u001B[1;32m--> 847\u001B[1;33m                                self.__class__.__name__, \"\\n\\t\".join(error_msgs)))\n\u001B[0m\u001B[0;32m    848\u001B[0m         \u001B[1;32mreturn\u001B[0m \u001B[0m_IncompatibleKeys\u001B[0m\u001B[1;33m(\u001B[0m\u001B[0mmissing_keys\u001B[0m\u001B[1;33m,\u001B[0m \u001B[0munexpected_keys\u001B[0m\u001B[1;33m)\u001B[0m\u001B[1;33m\u001B[0m\u001B[1;33m\u001B[0m\u001B[0m\n\u001B[0;32m    849\u001B[0m \u001B[1;33m\u001B[0m\u001B[0m\n",
      "\u001B[1;31mRuntimeError\u001B[0m: Error(s) in loading state_dict for FFNet:\n\tsize mismatch for layers.0.weight: copying a param with shape torch.Size([128, 36]) from checkpoint, the shape in current model is torch.Size([32, 36]).\n\tsize mismatch for layers.0.bias: copying a param with shape torch.Size([128]) from checkpoint, the shape in current model is torch.Size([32]).\n\tsize mismatch for layers.1.weight: copying a param with shape torch.Size([128, 128]) from checkpoint, the shape in current model is torch.Size([32, 32]).\n\tsize mismatch for layers.1.bias: copying a param with shape torch.Size([128]) from checkpoint, the shape in current model is torch.Size([32]).\n\tsize mismatch for layers.2.weight: copying a param with shape torch.Size([128, 128]) from checkpoint, the shape in current model is torch.Size([32, 32]).\n\tsize mismatch for layers.2.bias: copying a param with shape torch.Size([128]) from checkpoint, the shape in current model is torch.Size([32]).\n\tsize mismatch for layers.3.weight: copying a param with shape torch.Size([160, 128]) from checkpoint, the shape in current model is torch.Size([160, 32])."
     ]
    }
   ],
   "source": [
    "reg_obj.setup_network()\n",
    "\n",
    "fn_saved = 'models/regression_free_flyer_20200708_0809.pt'\n",
    "# fn_saved = 'models/mlopt_model_naive_free_flyer_20200406_0928_3-layers_128-neurons_regressor.pt'\n",
    "reg_obj.load_network(fn_saved)\n",
    "\n",
    "reg_obj.model"
   ]
  },
  {
   "cell_type": "code",
   "execution_count": 11,
   "metadata": {},
   "outputs": [
    {
     "name": "stdout",
     "output_type": "stream",
     "text": [
      "Done with epoch 0 in 1.0313591957092285s\n",
      "Done with epoch 1 in 0.37499403953552246s\n",
      "Done with epoch 2 in 0.3593759536743164s\n",
      "Done with epoch 3 in 0.3750038146972656s\n",
      "Done with epoch 4 in 0.37511777877807617s\n",
      "Done with epoch 5 in 0.3906235694885254s\n",
      "Done with epoch 6 in 0.3593738079071045s\n",
      "Done with epoch 7 in 0.3594942092895508s\n",
      "Done with epoch 8 in 0.40624499320983887s\n",
      "Done with epoch 9 in 0.35948801040649414s\n",
      "Done with epoch 10 in 0.3593728542327881s\n",
      "Done with epoch 11 in 0.3749992847442627s\n",
      "Done with epoch 12 in 0.3593730926513672s\n",
      "Done with epoch 13 in 0.3750035762786865s\n",
      "Done with epoch 14 in 0.34374570846557617s\n",
      "Done with epoch 15 in 0.39076757431030273s\n",
      "Done with epoch 16 in 0.3750028610229492s\n",
      "Done with epoch 17 in 0.39066648483276367s\n",
      "Done with epoch 18 in 0.34375452995300293s\n",
      "Done with epoch 19 in 0.3437507152557373s\n",
      "Done with epoch 20 in 0.3437471389770508s\n",
      "Done with epoch 21 in 0.3749990463256836s\n",
      "Done with epoch 22 in 0.3593769073486328s\n",
      "Done with epoch 23 in 0.406374454498291s\n",
      "Done with epoch 24 in 0.390625s\n",
      "Done with epoch 25 in 0.3749985694885254s\n",
      "Done with epoch 26 in 0.37511658668518066s\n",
      "Done with epoch 27 in 0.4062492847442627s\n",
      "Done with epoch 28 in 0.39078688621520996s\n",
      "Done with epoch 29 in 0.3749959468841553s\n",
      "Done with epoch 30 in 0.3750030994415283s\n",
      "Done with epoch 31 in 0.3751096725463867s\n",
      "Done with epoch 32 in 0.3750004768371582s\n",
      "Done with epoch 33 in 0.3907461166381836s\n",
      "Done with epoch 34 in 0.3750002384185791s\n",
      "Done with epoch 35 in 0.3906280994415283s\n",
      "Done with epoch 36 in 0.39074015617370605s\n",
      "Done with epoch 37 in 0.3750002384185791s\n",
      "Done with epoch 38 in 0.3749997615814209s\n",
      "Done with epoch 39 in 0.3593754768371582s\n",
      "Done with epoch 40 in 0.3593723773956299s\n",
      "Done with epoch 41 in 0.37520647048950195s\n",
      "Done with epoch 42 in 0.3593771457672119s\n",
      "Done with epoch 43 in 0.3906230926513672s\n",
      "Done with epoch 44 in 0.3593764305114746s\n",
      "Done with epoch 45 in 0.359375s\n",
      "Done with epoch 46 in 0.37500762939453125s\n",
      "Done with epoch 47 in 0.3751814365386963s\n",
      "Done with epoch 48 in 0.3750026226043701s\n",
      "Done with epoch 49 in 0.3437502384185791s\n",
      "Done with epoch 50 in 0.3750641345977783s\n",
      "Done with epoch 51 in 0.3593757152557373s\n",
      "Done with epoch 52 in 0.3281247615814209s\n",
      "Done with epoch 53 in 0.3749969005584717s\n",
      "Done with epoch 54 in 0.3593780994415283s\n",
      "Done with epoch 55 in 0.343860387802124s\n",
      "Done with epoch 56 in 0.3594064712524414s\n",
      "Done with epoch 57 in 0.39058828353881836s\n",
      "Done with epoch 58 in 0.3437495231628418s\n",
      "Done with epoch 59 in 0.359372615814209s\n",
      "Done with epoch 60 in 0.32812952995300293s\n",
      "Done with epoch 61 in 0.328230619430542s\n",
      "Done with epoch 62 in 0.4062485694885254s\n",
      "Done with epoch 63 in 0.3751192092895508s\n",
      "Done with epoch 64 in 0.3750014305114746s\n",
      "Done with epoch 65 in 0.3749985694885254s\n",
      "Done with epoch 66 in 0.39075684547424316s\n",
      "Done with epoch 67 in 0.65625s\n",
      "Done with epoch 68 in 0.421968936920166s\n",
      "Done with epoch 69 in 0.3750016689300537s\n",
      "Done with epoch 70 in 0.3593733310699463s\n",
      "Done with epoch 71 in 0.3907148838043213s\n",
      "Done with epoch 72 in 0.3593783378601074s\n",
      "Done with epoch 73 in 0.37508082389831543s\n",
      "Done with epoch 74 in 0.4037494659423828s\n",
      "Done with epoch 75 in 0.39104557037353516s\n",
      "Done with epoch 76 in 0.40625s\n",
      "Done with epoch 77 in 0.40613508224487305s\n",
      "Done with epoch 78 in 0.3908426761627197s\n",
      "Done with epoch 79 in 0.3593752384185791s\n",
      "Done with epoch 80 in 0.3437492847442627s\n",
      "Done with epoch 81 in 0.3750014305114746s\n",
      "Done with epoch 82 in 0.4062483310699463s\n",
      "Done with epoch 83 in 0.3750026226043701s\n",
      "Done with epoch 84 in 0.32831406593322754s\n",
      "Done with epoch 85 in 0.3593785762786865s\n",
      "Done with epoch 86 in 0.3593766689300537s\n",
      "Done with epoch 87 in 0.3907022476196289s\n",
      "Done with epoch 88 in 0.3437485694885254s\n",
      "Done with epoch 89 in 0.3126242160797119s\n",
      "Done with epoch 90 in 0.3749997615814209s\n",
      "Done with epoch 91 in 0.3906254768371582s\n",
      "Done with epoch 92 in 0.3439137935638428s\n",
      "Done with epoch 93 in 0.3593730926513672s\n",
      "Done with epoch 94 in 0.3906211853027344s\n",
      "Done with epoch 95 in 0.34386229515075684s\n",
      "Done with epoch 96 in 0.3906233310699463s\n",
      "Done with epoch 97 in 0.4063751697540283s\n",
      "Done with epoch 98 in 0.4062478542327881s\n",
      "Done with epoch 99 in 0.3593759536743164s\n",
      "Done with epoch 100 in 0.4219851493835449s\n",
      "Done with epoch 101 in 0.3906242847442627s\n",
      "Done with epoch 102 in 0.40636563301086426s\n",
      "Done with epoch 103 in 0.3906245231628418s\n",
      "Done with epoch 104 in 0.3906264305114746s\n",
      "Done with epoch 105 in 0.406383752822876s\n",
      "Done with epoch 106 in 0.3906261920928955s\n",
      "Done with epoch 107 in 0.4218735694885254s\n",
      "Done with epoch 108 in 0.3593757152557373s\n",
      "Done with epoch 109 in 0.4062511920928955s\n",
      "Done with epoch 110 in 0.3907942771911621s\n",
      "Done with epoch 111 in 0.3750016689300537s\n",
      "Done with epoch 112 in 0.3906233310699463s\n",
      "Done with epoch 113 in 0.3908047676086426s\n",
      "Done with epoch 114 in 0.3281276226043701s\n",
      "Done with epoch 115 in 0.4063577651977539s\n",
      "Done with epoch 116 in 0.4062485694885254s\n",
      "Done with epoch 117 in 0.3593752384185791s\n",
      "Done with epoch 118 in 0.3751239776611328s\n",
      "Done with epoch 119 in 0.3749985694885254s\n",
      "Done with epoch 120 in 0.3907454013824463s\n",
      "Done with epoch 121 in 0.3750021457672119s\n",
      "Done with epoch 122 in 0.375s\n",
      "Done with epoch 123 in 0.3907582759857178s\n",
      "Done with epoch 124 in 0.4062526226043701s\n",
      "Done with epoch 125 in 0.3906247615814209s\n",
      "Done with epoch 126 in 0.35951662063598633s\n",
      "Done with epoch 127 in 0.3750028610229492s\n",
      "Done with epoch 128 in 0.40637826919555664s\n",
      "Done with epoch 129 in 0.4062490463256836s\n",
      "Done with epoch 130 in 0.3906254768371582s\n",
      "Done with epoch 131 in 0.3907206058502197s\n",
      "Done with epoch 132 in 0.3906228542327881s\n",
      "Done with epoch 133 in 0.3907158374786377s\n",
      "Done with epoch 134 in 0.3750033378601074s\n",
      "Done with epoch 135 in 0.4062483310699463s\n",
      "Done with epoch 136 in 0.3907339572906494s\n",
      "Done with epoch 137 in 0.3749988079071045s\n",
      "Done with epoch 138 in 0.3593761920928955s\n",
      "Done with epoch 139 in 0.35951733589172363s\n",
      "Done with epoch 140 in 0.3906221389770508s\n",
      "Done with epoch 141 in 0.39078330993652344s\n",
      "Done with epoch 142 in 0.359375s\n",
      "Done with epoch 143 in 0.3750028610229492s\n",
      "Done with epoch 144 in 0.3594934940338135s\n",
      "Done with epoch 145 in 0.3281257152557373s\n",
      "Done with epoch 146 in 0.3750004768371582s\n",
      "Done with epoch 147 in 0.3594949245452881s\n",
      "Done with epoch 148 in 0.3750011920928955s\n",
      "Done with epoch 149 in 0.3907620906829834s\n",
      "Done with epoch 150 in 0.3437488079071045s\n",
      "Done with epoch 151 in 0.3749995231628418s\n",
      "Done with epoch 152 in 0.37511658668518066s\n",
      "Done with epoch 153 in 0.3749997615814209s\n",
      "Done with epoch 154 in 0.3750035762786865s\n",
      "Done with epoch 155 in 0.35951924324035645s\n",
      "Done with epoch 156 in 0.3750009536743164s\n",
      "Done with epoch 157 in 0.4062471389770508s\n",
      "Done with epoch 158 in 0.34375476837158203s\n",
      "Done with epoch 159 in 0.39062023162841797s\n",
      "Done with epoch 160 in 0.3595390319824219s\n",
      "Done with epoch 161 in 0.3593754768371582s\n",
      "Done with epoch 162 in 0.4062504768371582s\n",
      "Done with epoch 163 in 0.3907034397125244s\n",
      "Done with epoch 164 in 0.3593738079071045s\n",
      "Done with epoch 165 in 0.3907308578491211s\n",
      "Done with epoch 166 in 0.3593764305114746s\n",
      "Done with epoch 167 in 0.3906252384185791s\n",
      "Done with epoch 168 in 0.3751082420349121s\n",
      "Done with epoch 169 in 0.3749966621398926s\n",
      "Done with epoch 170 in 0.3906245231628418s\n",
      "Done with epoch 171 in 0.35938024520874023s\n",
      "Done with epoch 172 in 0.35936999320983887s\n",
      "Done with epoch 173 in 0.3751535415649414s\n",
      "Done with epoch 174 in 0.37500572204589844s\n",
      "Done with epoch 175 in 0.4062516689300537s\n",
      "Done with epoch 176 in 0.35945940017700195s\n",
      "Done with epoch 177 in 0.3750028610229492s\n",
      "Done with epoch 178 in 0.3906233310699463s\n",
      "Done with epoch 179 in 0.37509655952453613s\n",
      "Done with epoch 180 in 0.375s\n",
      "Done with epoch 181 in 0.3594801425933838s\n",
      "Done with epoch 182 in 0.3906257152557373s\n",
      "Done with epoch 183 in 0.4062478542327881s\n",
      "Done with epoch 184 in 0.35937929153442383s\n",
      "Done with epoch 185 in 0.3593723773956299s\n",
      "Done with epoch 186 in 0.4218733310699463s\n",
      "Done with epoch 187 in 0.3595774173736572s\n",
      "Done with epoch 188 in 0.3593745231628418s\n",
      "Done with epoch 189 in 0.3438708782196045s\n",
      "Done with epoch 190 in 0.3437490463256836s\n",
      "Done with epoch 191 in 0.3593780994415283s\n",
      "Done with epoch 192 in 0.3594653606414795s\n",
      "Done with epoch 193 in 0.3281245231628418s\n",
      "Done with epoch 194 in 0.3594062328338623s\n",
      "Done with epoch 195 in 0.3282127380371094s\n",
      "Done with epoch 196 in 0.3593409061431885s\n",
      "Done with epoch 197 in 0.3437502384185791s\n",
      "Done with epoch 198 in 0.3749973773956299s\n",
      "Done with epoch 199 in 0.3750038146972656s\n",
      "Done with epoch 200 in 0.375s\n",
      "Done with epoch 201 in 0.3595397472381592s\n",
      "Done with epoch 202 in 0.3593788146972656s\n",
      "Done with epoch 203 in 0.3749983310699463s\n",
      "Done with epoch 204 in 0.406247615814209s\n",
      "Done with epoch 205 in 0.3906276226043701s\n",
      "Done with epoch 206 in 0.3751506805419922s\n",
      "Done with epoch 207 in 0.4062509536743164s\n",
      "Done with epoch 208 in 0.3593771457672119s\n",
      "Done with epoch 209 in 0.359372615814209s\n",
      "Done with epoch 210 in 0.3750030994415283s\n",
      "Done with epoch 211 in 0.40642619132995605s\n",
      "Done with epoch 212 in 0.3906261920928955s\n",
      "Done with epoch 213 in 0.3749988079071045s\n",
      "Done with epoch 214 in 0.35949134826660156s\n",
      "Done with epoch 215 in 0.3593766689300537s\n",
      "Done with epoch 216 in 0.3749997615814209s\n",
      "Done with epoch 217 in 0.3907337188720703s\n",
      "Done with epoch 218 in 0.3749992847442627s\n",
      "Done with epoch 219 in 0.4064204692840576s\n",
      "Done with epoch 220 in 0.3906235694885254s\n",
      "Done with epoch 221 in 0.3749990463256836s\n",
      "Done with epoch 222 in 0.35947632789611816s\n",
      "Done with epoch 223 in 0.3906266689300537s\n",
      "Done with epoch 224 in 0.39073610305786133s\n",
      "Done with epoch 225 in 0.3437495231628418s\n",
      "Done with epoch 226 in 0.3593759536743164s\n",
      "Done with epoch 227 in 0.3906211853027344s\n",
      "Done with epoch 228 in 0.3593783378601074s\n",
      "Done with epoch 229 in 0.3906221389770508s\n",
      "Done with epoch 230 in 0.3907816410064697s\n",
      "Done with epoch 231 in 0.3593769073486328s\n",
      "Done with epoch 232 in 0.3907327651977539s\n",
      "Done with epoch 233 in 0.3750033378601074s\n",
      "Done with epoch 234 in 0.3705787658691406s\n",
      "Done with epoch 235 in 0.3906211853027344s\n",
      "Done with epoch 236 in 0.3906259536743164s\n",
      "Done with epoch 237 in 0.4062502384185791s\n",
      "Done with epoch 238 in 0.3439056873321533s\n",
      "Done with epoch 239 in 0.3593740463256836s\n",
      "Done with epoch 240 in 0.37510228157043457s\n",
      "Done with epoch 241 in 0.3750038146972656s\n",
      "Done with epoch 242 in 0.3593769073486328s\n",
      "Done with epoch 243 in 0.39061808586120605s\n",
      "Done with epoch 244 in 0.3906264305114746s\n",
      "Done with epoch 245 in 0.3906242847442627s\n",
      "Done with epoch 246 in 0.37521958351135254s\n",
      "Done with epoch 247 in 0.3593738079071045s\n",
      "Done with epoch 248 in 0.3594944477081299s\n",
      "Done with epoch 249 in 0.3906271457672119s\n",
      "Done with epoch 250 in 0.3906259536743164s\n",
      "Done with epoch 251 in 0.34384894371032715s\n",
      "Done with epoch 252 in 0.3437530994415283s\n",
      "Done with epoch 253 in 0.3749990463256836s\n",
      "Done with epoch 254 in 0.3907644748687744s\n",
      "Done with epoch 255 in 0.4062509536743164s\n",
      "Done with epoch 256 in 0.359525203704834s\n",
      "Done with epoch 257 in 0.4062483310699463s\n",
      "Done with epoch 258 in 0.3906278610229492s\n",
      "Done with epoch 259 in 0.4062488079071045s\n",
      "Done with epoch 260 in 0.4218752384185791s\n",
      "Done with epoch 261 in 0.3908548355102539s\n",
      "Done with epoch 262 in 0.3906254768371582s\n",
      "Done with epoch 263 in 0.359375s\n",
      "Done with epoch 264 in 0.3438594341278076s\n",
      "Done with epoch 265 in 0.406252384185791s\n",
      "Done with epoch 266 in 0.359372615814209s\n",
      "Done with epoch 267 in 0.3595283031463623s\n",
      "Done with epoch 268 in 0.3437504768371582s\n",
      "Done with epoch 269 in 0.3593757152557373s\n",
      "Done with epoch 270 in 0.3750886917114258s\n",
      "Done with epoch 271 in 0.35936880111694336s\n",
      "Done with epoch 272 in 0.40630316734313965s\n",
      "Done with epoch 273 in 0.35937929153442383s\n",
      "Done with epoch 274 in 0.406252384185791s\n",
      "Done with epoch 275 in 0.35936927795410156s\n",
      "Done with epoch 276 in 0.3593759536743164s\n",
      "Done with epoch 277 in 0.3906261920928955s\n",
      "Done with epoch 278 in 0.35950231552124023s\n",
      "Done with epoch 279 in 0.3437490463256836s\n",
      "Done with epoch 280 in 0.40636730194091797s\n",
      "loss:   0.3133944869041443 , acc: 0.096875\n",
      "Done with epoch 281 in 1.2188282012939453s\n",
      "Done with epoch 282 in 0.3749992847442627s\n",
      "Done with epoch 283 in 0.4063096046447754s\n",
      "Done with epoch 284 in 0.3593733310699463s\n",
      "Done with epoch 285 in 0.37500476837158203s\n",
      "Done with epoch 286 in 0.3437490463256836s\n",
      "Done with epoch 287 in 0.3281252384185791s\n",
      "Done with epoch 288 in 0.3437461853027344s\n",
      "Done with epoch 289 in 0.3750944137573242s\n",
      "Done with epoch 290 in 0.3906223773956299s\n",
      "Done with epoch 291 in 0.3750009536743164s\n",
      "Done with epoch 292 in 0.3594474792480469s\n",
      "Done with epoch 293 in 0.3749980926513672s\n",
      "Done with epoch 294 in 0.3751101493835449s\n",
      "Done with epoch 295 in 0.3750004768371582s\n",
      "Done with epoch 296 in 0.3437488079071045s\n",
      "Done with epoch 297 in 0.35947108268737793s\n",
      "Done with epoch 298 in 0.359377384185791s\n",
      "Done with epoch 299 in 0.359372615814209s\n",
      "Done with epoch 300 in 0.37512969970703125s\n",
      "Done with epoch 301 in 0.374997615814209s\n",
      "Done with epoch 302 in 0.3437516689300537s\n",
      "Done with epoch 303 in 0.3750009536743164s\n",
      "Done with epoch 304 in 0.359372615814209s\n",
      "Done with epoch 305 in 0.37522029876708984s\n",
      "Done with epoch 306 in 0.3906235694885254s\n",
      "Done with epoch 307 in 0.3437778949737549s\n",
      "Done with epoch 308 in 0.3907327651977539s\n",
      "Done with epoch 309 in 0.3437490463256836s\n",
      "Done with epoch 310 in 0.3906247615814209s\n",
      "Done with epoch 311 in 0.3593730926513672s\n",
      "Done with epoch 312 in 0.3906257152557373s\n",
      "Done with epoch 313 in 0.4063725471496582s\n",
      "Done with epoch 314 in 0.3593719005584717s\n",
      "Done with epoch 315 in 0.359375s\n",
      "Done with epoch 316 in 0.35945868492126465s\n",
      "Done with epoch 317 in 0.4062535762786865s\n",
      "Done with epoch 318 in 0.374997615814209s\n",
      "Done with epoch 319 in 0.3593783378601074s\n",
      "Done with epoch 320 in 0.3749992847442627s\n",
      "Done with epoch 321 in 0.42204785346984863s\n",
      "Done with epoch 322 in 0.3750030994415283s\n",
      "Done with epoch 323 in 0.3593745231628418s\n",
      "Done with epoch 324 in 0.3594956398010254s\n",
      "Done with epoch 325 in 0.4062483310699463s\n",
      "Done with epoch 326 in 0.4062507152557373s\n",
      "Done with epoch 327 in 0.35938048362731934s\n",
      "Done with epoch 328 in 0.40624356269836426s\n",
      "Done with epoch 329 in 0.37518811225891113s\n",
      "Done with epoch 330 in 0.3750004768371582s\n",
      "Done with epoch 331 in 0.359372615814209s\n",
      "Done with epoch 332 in 0.39081311225891113s\n",
      "Done with epoch 333 in 0.3750011920928955s\n",
      "Done with epoch 334 in 0.3907136917114258s\n",
      "Done with epoch 335 in 0.3437504768371582s\n",
      "Done with epoch 336 in 0.3906257152557373s\n",
      "Done with epoch 337 in 0.3594992160797119s\n",
      "Done with epoch 338 in 0.3906261920928955s\n",
      "Done with epoch 339 in 0.3906238079071045s\n",
      "Done with epoch 340 in 0.359513521194458s\n",
      "Done with epoch 341 in 0.3749988079071045s\n",
      "Done with epoch 342 in 0.3595283031463623s\n",
      "Done with epoch 343 in 0.3749990463256836s\n",
      "Done with epoch 344 in 0.3749969005584717s\n",
      "Done with epoch 345 in 0.343752384185791s\n",
      "Done with epoch 346 in 0.3749985694885254s\n",
      "Done with epoch 347 in 0.3437514305114746s\n",
      "Done with epoch 348 in 0.35950732231140137s\n",
      "Done with epoch 349 in 0.3593759536743164s\n",
      "Done with epoch 350 in 0.3749990463256836s\n",
      "Done with epoch 351 in 0.3907349109649658s\n",
      "Done with epoch 352 in 0.3750021457672119s\n",
      "Done with epoch 353 in 0.37507057189941406s\n",
      "Done with epoch 354 in 0.3749983310699463s\n",
      "Done with epoch 355 in 0.359375s\n",
      "Done with epoch 356 in 0.3593747615814209s\n",
      "Done with epoch 357 in 0.3593769073486328s\n",
      "Done with epoch 358 in 0.3749988079071045s\n",
      "Done with epoch 359 in 0.4063758850097656s\n",
      "Done with epoch 360 in 0.3749978542327881s\n",
      "Done with epoch 361 in 0.3907177448272705s\n",
      "Done with epoch 362 in 0.328127384185791s\n",
      "Done with epoch 363 in 0.4062464237213135s\n",
      "Done with epoch 364 in 0.37505269050598145s\n",
      "Done with epoch 365 in 0.3437504768371582s\n",
      "Done with epoch 366 in 0.3749992847442627s\n",
      "Done with epoch 367 in 0.3593771457672119s\n",
      "Done with epoch 368 in 0.4062480926513672s\n",
      "Done with epoch 369 in 0.3751070499420166s\n",
      "Done with epoch 370 in 0.3906235694885254s\n",
      "Done with epoch 371 in 0.3437490463256836s\n",
      "Done with epoch 372 in 0.4063727855682373s\n",
      "Done with epoch 373 in 0.3750026226043701s\n",
      "Done with epoch 374 in 0.4062478542327881s\n",
      "Done with epoch 375 in 0.3906252384185791s\n",
      "Done with epoch 376 in 0.328125s\n",
      "Done with epoch 377 in 0.4063878059387207s\n",
      "Done with epoch 378 in 0.3593745231628418s\n",
      "Done with epoch 379 in 0.4062497615814209s\n",
      "Done with epoch 380 in 0.39078855514526367s\n",
      "Done with epoch 381 in 0.3750030994415283s\n",
      "Done with epoch 382 in 0.390700101852417s\n",
      "Done with epoch 383 in 0.35938024520874023s\n",
      "Done with epoch 384 in 0.374997615814209s\n",
      "Done with epoch 385 in 0.3750014305114746s\n",
      "Done with epoch 386 in 0.3906257152557373s\n",
      "Done with epoch 387 in 0.3906254768371582s\n",
      "Done with epoch 388 in 0.3907628059387207s\n",
      "Done with epoch 389 in 0.3906245231628418s\n",
      "Done with epoch 390 in 0.375110387802124s\n",
      "Done with epoch 391 in 0.430361270904541s\n",
      "Done with epoch 392 in 0.3917264938354492s\n",
      "Done with epoch 393 in 0.3750009536743164s\n",
      "Done with epoch 394 in 0.3750009536743164s\n",
      "Done with epoch 395 in 0.31352901458740234s\n",
      "Done with epoch 396 in 0.31249570846557617s\n",
      "Done with epoch 397 in 0.37500882148742676s\n",
      "Done with epoch 398 in 0.35936903953552246s\n",
      "Done with epoch 399 in 0.37515687942504883s\n",
      "Done with epoch 400 in 0.3906235694885254s\n",
      "Done with epoch 401 in 0.37513089179992676s\n",
      "Done with epoch 402 in 0.3749995231628418s\n",
      "Done with epoch 403 in 0.3906266689300537s\n",
      "Done with epoch 404 in 0.3751370906829834s\n",
      "Done with epoch 405 in 0.3906276226043701s\n",
      "Done with epoch 406 in 0.3906271457672119s\n",
      "Done with epoch 407 in 0.4218723773956299s\n",
      "Done with epoch 408 in 0.3906288146972656s\n",
      "Done with epoch 409 in 0.35950732231140137s\n",
      "Done with epoch 410 in 0.43749427795410156s\n",
      "Done with epoch 411 in 0.3906254768371582s\n",
      "Done with epoch 412 in 0.3906254768371582s\n",
      "Done with epoch 413 in 0.3749995231628418s\n",
      "Done with epoch 414 in 0.39093947410583496s\n",
      "Done with epoch 415 in 0.37500429153442383s\n",
      "Done with epoch 416 in 0.39061951637268066s\n",
      "Done with epoch 417 in 0.3750009536743164s\n",
      "Done with epoch 418 in 0.3906280994415283s\n",
      "Done with epoch 419 in 0.390794038772583s\n",
      "Done with epoch 420 in 0.3750028610229492s\n",
      "Done with epoch 421 in 0.3593742847442627s\n",
      "Saved model at regression_free_flyer_20220614_0041.pt\n",
      "Done with epoch 422 in 0.4063594341278076s\n",
      "Done with epoch 423 in 0.37498927116394043s\n",
      "Done with epoch 424 in 0.39075136184692383s\n",
      "Done with epoch 425 in 0.3593719005584717s\n",
      "Done with epoch 426 in 0.4062516689300537s\n",
      "Done with epoch 427 in 0.4062507152557373s\n",
      "Done with epoch 428 in 0.3906223773956299s\n",
      "Done with epoch 429 in 0.3906254768371582s\n",
      "Done with epoch 430 in 0.37520432472229004s\n",
      "Done with epoch 431 in 0.390625s\n",
      "Done with epoch 432 in 0.39070606231689453s\n",
      "Done with epoch 433 in 0.3437533378601074s\n",
      "Done with epoch 434 in 0.3906209468841553s\n",
      "Done with epoch 435 in 0.3751087188720703s\n",
      "Done with epoch 436 in 0.3593719005584717s\n",
      "Done with epoch 437 in 0.3906271457672119s\n",
      "Done with epoch 438 in 0.3907485008239746s\n",
      "Done with epoch 439 in 0.3750004768371582s\n",
      "Done with epoch 440 in 0.35948967933654785s\n",
      "Done with epoch 441 in 0.4062488079071045s\n",
      "Done with epoch 442 in 0.4062538146972656s\n",
      "Done with epoch 443 in 0.3593735694885254s\n",
      "Done with epoch 444 in 0.3593752384185791s\n",
      "Done with epoch 445 in 0.3751406669616699s\n",
      "Done with epoch 446 in 0.390627384185791s\n",
      "Done with epoch 447 in 0.4062507152557373s\n",
      "Done with epoch 448 in 0.4062466621398926s\n",
      "Done with epoch 449 in 0.3906254768371582s\n",
      "Done with epoch 450 in 0.3750007152557373s\n",
      "Done with epoch 451 in 0.40637826919555664s\n",
      "Done with epoch 452 in 0.3750002384185791s\n",
      "Done with epoch 453 in 0.406355619430542s\n",
      "Done with epoch 454 in 0.4062504768371582s\n",
      "Done with epoch 455 in 0.4218754768371582s\n",
      "Done with epoch 456 in 0.3906233310699463s\n",
      "Done with epoch 457 in 0.3750002384185791s\n",
      "Done with epoch 458 in 0.3751034736633301s\n",
      "Done with epoch 459 in 0.4062521457672119s\n",
      "Done with epoch 460 in 0.4218733310699463s\n",
      "Done with epoch 461 in 0.42200708389282227s\n",
      "Done with epoch 462 in 0.4062540531158447s\n",
      "Done with epoch 463 in 0.39073944091796875s\n",
      "Done with epoch 464 in 0.3593728542327881s\n",
      "Done with epoch 465 in 0.4218740463256836s\n",
      "Done with epoch 466 in 0.3907296657562256s\n",
      "Done with epoch 467 in 0.375s\n",
      "Done with epoch 468 in 0.3907501697540283s\n",
      "Done with epoch 469 in 0.37496089935302734s\n",
      "Done with epoch 470 in 0.35937929153442383s\n",
      "Done with epoch 471 in 0.3749980926513672s\n",
      "Done with epoch 472 in 0.4062490463256836s\n",
      "Done with epoch 473 in 0.4376344680786133s\n",
      "Done with epoch 474 in 0.4374988079071045s\n",
      "Done with epoch 475 in 0.3437495231628418s\n",
      "Done with epoch 476 in 0.3751060962677002s\n",
      "Done with epoch 477 in 0.3437478542327881s\n",
      "Done with epoch 478 in 0.3593735694885254s\n",
      "Done with epoch 479 in 0.3438539505004883s\n",
      "Done with epoch 480 in 0.3437490463256836s\n",
      "Done with epoch 481 in 0.3750791549682617s\n",
      "Done with epoch 482 in 0.35938262939453125s\n",
      "Done with epoch 483 in 0.3593790531158447s\n",
      "Done with epoch 484 in 0.3749961853027344s\n",
      "Done with epoch 485 in 0.3750016689300537s\n",
      "Done with epoch 486 in 0.4218735694885254s\n",
      "Done with epoch 487 in 0.3751089572906494s\n",
      "Done with epoch 488 in 0.3750040531158447s\n",
      "Done with epoch 489 in 0.4062466621398926s\n",
      "Done with epoch 490 in 0.4375004768371582s\n",
      "Done with epoch 491 in 0.3906254768371582s\n",
      "Done with epoch 492 in 0.37516236305236816s\n",
      "Done with epoch 493 in 0.4062538146972656s\n",
      "Done with epoch 494 in 0.37506937980651855s\n",
      "Done with epoch 495 in 0.3750014305114746s\n",
      "Done with epoch 496 in 0.3593747615814209s\n",
      "Done with epoch 497 in 0.4376096725463867s\n",
      "Done with epoch 498 in 0.39062023162841797s\n",
      "Done with epoch 499 in 0.37500691413879395s\n",
      "Saved model at regression_free_flyer_20220614_0041.pt\n",
      "Done training\n",
      "regression_free_flyer_20220614_0041.pt\n"
     ]
    }
   ],
   "source": [
    "reg_obj.training_params['TRAINING_ITERATIONS'] = 500\n",
    "reg_obj.train(verbose=True)\n",
    "print(reg_obj.model_fn)"
   ]
  },
  {
   "cell_type": "code",
   "execution_count": 24,
   "metadata": {
    "pycharm": {
     "name": "#%%\n"
    }
   },
   "outputs": [
    {
     "ename": "TypeError",
     "evalue": "unsupported operand type(s) for +=: 'float' and 'NoneType'",
     "output_type": "error",
     "traceback": [
      "\u001B[1;31m---------------------------------------------------------------------------\u001B[0m",
      "\u001B[1;31mTypeError\u001B[0m                                 Traceback (most recent call last)",
      "\u001B[1;32m<ipython-input-24-6d88b393c685>\u001B[0m in \u001B[0;36m<module>\u001B[1;34m\u001B[0m\n\u001B[0;32m     13\u001B[0m         \u001B[0mprob_params\u001B[0m\u001B[1;33m[\u001B[0m\u001B[0mk\u001B[0m\u001B[1;33m]\u001B[0m \u001B[1;33m=\u001B[0m \u001B[0mp_test\u001B[0m\u001B[1;33m[\u001B[0m\u001B[0mk\u001B[0m\u001B[1;33m]\u001B[0m\u001B[1;33m[\u001B[0m\u001B[0mii\u001B[0m\u001B[1;33m]\u001B[0m\u001B[1;33m\u001B[0m\u001B[1;33m\u001B[0m\u001B[0m\n\u001B[0;32m     14\u001B[0m \u001B[1;33m\u001B[0m\u001B[0m\n\u001B[1;32m---> 15\u001B[1;33m \u001B[0mprob_success\u001B[0m\u001B[1;33m,\u001B[0m \u001B[0mcost\u001B[0m\u001B[1;33m,\u001B[0m \u001B[0mtotal_time\u001B[0m\u001B[1;33m,\u001B[0m \u001B[0moptvals\u001B[0m \u001B[1;33m=\u001B[0m \u001B[0mreg_obj\u001B[0m\u001B[1;33m.\u001B[0m\u001B[0mforward\u001B[0m\u001B[1;33m(\u001B[0m\u001B[0mprob_params\u001B[0m\u001B[1;33m)\u001B[0m\u001B[1;33m\u001B[0m\u001B[1;33m\u001B[0m\u001B[0m\n\u001B[0m",
      "\u001B[1;32mD:\\Curious\\CoCo-master\\solvers\\regression.py\u001B[0m in \u001B[0;36mforward\u001B[1;34m(self, prob_params, solver)\u001B[0m\n\u001B[0;32m    192\u001B[0m         \u001B[0mprob_success\u001B[0m\u001B[1;33m,\u001B[0m \u001B[0mcost\u001B[0m\u001B[1;33m,\u001B[0m \u001B[0moptvals\u001B[0m \u001B[1;33m=\u001B[0m \u001B[1;32mFalse\u001B[0m\u001B[1;33m,\u001B[0m \u001B[0mnp\u001B[0m\u001B[1;33m.\u001B[0m\u001B[0mInf\u001B[0m\u001B[1;33m,\u001B[0m \u001B[1;32mNone\u001B[0m\u001B[1;33m\u001B[0m\u001B[1;33m\u001B[0m\u001B[0m\n\u001B[0;32m    193\u001B[0m         \u001B[0mprob_success\u001B[0m\u001B[1;33m,\u001B[0m \u001B[0mcost\u001B[0m\u001B[1;33m,\u001B[0m \u001B[0msolve_time\u001B[0m\u001B[1;33m,\u001B[0m \u001B[0moptvals\u001B[0m \u001B[1;33m=\u001B[0m \u001B[0mself\u001B[0m\u001B[1;33m.\u001B[0m\u001B[0mproblem\u001B[0m\u001B[1;33m.\u001B[0m\u001B[0msolve_pinned\u001B[0m\u001B[1;33m(\u001B[0m\u001B[0mprob_params\u001B[0m\u001B[1;33m,\u001B[0m \u001B[0my_guess\u001B[0m\u001B[1;33m,\u001B[0m \u001B[0msolver\u001B[0m\u001B[1;33m)\u001B[0m\u001B[1;33m\u001B[0m\u001B[1;33m\u001B[0m\u001B[0m\n\u001B[1;32m--> 194\u001B[1;33m         \u001B[0mtotal_time\u001B[0m \u001B[1;33m+=\u001B[0m \u001B[0msolve_time\u001B[0m\u001B[1;33m\u001B[0m\u001B[1;33m\u001B[0m\u001B[0m\n\u001B[0m\u001B[0;32m    195\u001B[0m         \u001B[1;32mreturn\u001B[0m \u001B[0mprob_success\u001B[0m\u001B[1;33m,\u001B[0m \u001B[0mcost\u001B[0m\u001B[1;33m,\u001B[0m \u001B[0mtotal_time\u001B[0m\u001B[1;33m,\u001B[0m \u001B[0moptvals\u001B[0m\u001B[1;33m\u001B[0m\u001B[1;33m\u001B[0m\u001B[0m\n",
      "\u001B[1;31mTypeError\u001B[0m: unsupported operand type(s) for +=: 'float' and 'NoneType'"
     ]
    }
   ],
   "source": [
    "n_succ = 0\n",
    "count = 0\n",
    "\n",
    "costs_reg = []\n",
    "total_time_reg = []\n",
    "num_solves_reg = []\n",
    "\n",
    "cost_ratios_reg = []\n",
    "\n",
    "for ii in range(n_test):\n",
    "    prob_params = {}\n",
    "    for k in p_test.keys():\n",
    "        prob_params[k] = p_test[k][ii]\n",
    "\n",
    "prob_success, cost, total_time, optvals = reg_obj.forward(prob_params)"
   ]
  },
  {
   "cell_type": "code",
   "execution_count": 17,
   "metadata": {},
   "outputs": [
    {
     "ename": "ZeroDivisionError",
     "evalue": "float division by zero",
     "output_type": "error",
     "traceback": [
      "\u001B[1;31m---------------------------------------------------------------------------\u001B[0m",
      "\u001B[1;31mZeroDivisionError\u001B[0m                         Traceback (most recent call last)",
      "\u001B[1;32m<ipython-input-17-e70e83e7038b>\u001B[0m in \u001B[0;36m<module>\u001B[1;34m\u001B[0m\n\u001B[0;32m     33\u001B[0m \u001B[0mnum_solves_reg\u001B[0m \u001B[1;33m=\u001B[0m \u001B[0mnp\u001B[0m\u001B[1;33m.\u001B[0m\u001B[0marray\u001B[0m\u001B[1;33m(\u001B[0m\u001B[0mnum_solves_reg\u001B[0m\u001B[1;33m,\u001B[0m \u001B[0mdtype\u001B[0m\u001B[1;33m=\u001B[0m\u001B[0mint\u001B[0m\u001B[1;33m)\u001B[0m\u001B[1;33m\u001B[0m\u001B[1;33m\u001B[0m\u001B[0m\n\u001B[0;32m     34\u001B[0m \u001B[1;33m\u001B[0m\u001B[0m\n\u001B[1;32m---> 35\u001B[1;33m \u001B[0mreg_percentage\u001B[0m \u001B[1;33m=\u001B[0m \u001B[1;36m100\u001B[0m \u001B[1;33m*\u001B[0m \u001B[0mfloat\u001B[0m\u001B[1;33m(\u001B[0m\u001B[0mn_succ\u001B[0m\u001B[1;33m)\u001B[0m \u001B[1;33m/\u001B[0m \u001B[0mfloat\u001B[0m\u001B[1;33m(\u001B[0m\u001B[0mcount\u001B[0m\u001B[1;33m)\u001B[0m\u001B[1;33m\u001B[0m\u001B[1;33m\u001B[0m\u001B[0m\n\u001B[0m\u001B[0;32m     36\u001B[0m \u001B[0mreg_percentage\u001B[0m\u001B[1;33m\u001B[0m\u001B[1;33m\u001B[0m\u001B[0m\n",
      "\u001B[1;31mZeroDivisionError\u001B[0m: float division by zero"
     ]
    }
   ],
   "source": [
    "n_succ = 0\n",
    "count = 0\n",
    "\n",
    "costs_reg = []\n",
    "total_time_reg = []\n",
    "num_solves_reg = []\n",
    "\n",
    "cost_ratios_reg = []\n",
    "\n",
    "for ii in range(n_test):\n",
    "    prob_params = {}\n",
    "    for k in p_test.keys():\n",
    "        prob_params[k] = p_test[k][ii]\n",
    "\n",
    "    try:\n",
    "        prob_success, cost, total_time, optvals = reg_obj.forward(prob_params)\n",
    "\n",
    "        if prob_success:\n",
    "            n_succ += 1\n",
    "            costs_reg += [cost]\n",
    "            total_time_reg += [total_time]\n",
    "            num_solves_reg += [1]\n",
    "\n",
    "            true_cost = c_test[ii]\n",
    "            cost_ratios_reg += [cost / true_cost]\n",
    "        count += 1\n",
    "    except:\n",
    "        continue\n",
    "\n",
    "costs_reg = np.array(costs_reg)\n",
    "cost_ratios_reg = np.array(cost_ratios_reg)\n",
    "total_time_reg = np.array(total_time_reg)\n",
    "num_solves_reg = np.array(num_solves_reg, dtype=int)\n",
    "\n",
    "reg_percentage = 100 * float(n_succ) / float(count)\n",
    "reg_percentage"
   ]
  },
  {
   "cell_type": "code",
   "execution_count": 17,
   "metadata": {},
   "outputs": [
    {
     "data": {
      "text/plain": [
       "49.32"
      ]
     },
     "execution_count": 17,
     "metadata": {},
     "output_type": "execute_result"
    }
   ],
   "source": [
    "reg_percentage"
   ]
  },
  {
   "cell_type": "markdown",
   "metadata": {},
   "source": [
    "# MLOPT classifier"
   ]
  },
  {
   "cell_type": "code",
   "execution_count": 15,
   "metadata": {},
   "outputs": [
    {
     "name": "stdout",
     "output_type": "stream",
     "text": [
      "8053\n"
     ]
    }
   ],
   "source": [
    "from solvers.coco import CoCo\n",
    "\n",
    "system = 'free_flyer'\n",
    "prob_features = ['x0', 'obstacles']\n",
    "mlopt_obj = CoCo(system, prob, prob_features, n_evals=3)\n",
    "\n",
    "n_features = 36\n",
    "mlopt_obj.construct_strategies(n_features, train_data)\n",
    "print(mlopt_obj.n_strategies)"
   ]
  },
  {
   "cell_type": "code",
   "execution_count": 29,
   "metadata": {},
   "outputs": [
    {
     "name": "stdout",
     "output_type": "stream",
     "text": [
      "Loading presaved classifier model from D:\\Curious\\CoCo-master\\models\\mlopt_model_free_flyer_20200406_0927_3-layers_128-neurons_classifier.pt\n"
     ]
    },
    {
     "ename": "RuntimeError",
     "evalue": "Error(s) in loading state_dict for FFNet:\n\tsize mismatch for layers.0.weight: copying a param with shape torch.Size([128, 44]) from checkpoint, the shape in current model is torch.Size([32, 36]).\n\tsize mismatch for layers.0.bias: copying a param with shape torch.Size([128]) from checkpoint, the shape in current model is torch.Size([32]).\n\tsize mismatch for layers.1.weight: copying a param with shape torch.Size([128, 128]) from checkpoint, the shape in current model is torch.Size([32, 32]).\n\tsize mismatch for layers.1.bias: copying a param with shape torch.Size([128]) from checkpoint, the shape in current model is torch.Size([32]).\n\tsize mismatch for layers.2.weight: copying a param with shape torch.Size([128, 128]) from checkpoint, the shape in current model is torch.Size([32, 32]).\n\tsize mismatch for layers.2.bias: copying a param with shape torch.Size([128]) from checkpoint, the shape in current model is torch.Size([32]).\n\tsize mismatch for layers.3.weight: copying a param with shape torch.Size([516, 128]) from checkpoint, the shape in current model is torch.Size([8053, 32]).\n\tsize mismatch for layers.3.bias: copying a param with shape torch.Size([516]) from checkpoint, the shape in current model is torch.Size([8053]).",
     "output_type": "error",
     "traceback": [
      "\u001B[1;31m---------------------------------------------------------------------------\u001B[0m",
      "\u001B[1;31mRuntimeError\u001B[0m                              Traceback (most recent call last)",
      "\u001B[1;32m<ipython-input-29-2cfda56fc8e1>\u001B[0m in \u001B[0;36m<module>\u001B[1;34m\u001B[0m\n\u001B[0;32m      3\u001B[0m \u001B[0mfn_saved\u001B[0m \u001B[1;33m=\u001B[0m \u001B[1;34m'D:\\Curious\\CoCo-master\\models\\mlopt_model_free_flyer_20200406_0927_3-layers_128-neurons_classifier.pt'\u001B[0m\u001B[1;33m\u001B[0m\u001B[1;33m\u001B[0m\u001B[0m\n\u001B[0;32m      4\u001B[0m \u001B[1;31m# fn_saved = 'None'\u001B[0m\u001B[1;33m\u001B[0m\u001B[1;33m\u001B[0m\u001B[1;33m\u001B[0m\u001B[0m\n\u001B[1;32m----> 5\u001B[1;33m \u001B[0mmlopt_obj\u001B[0m\u001B[1;33m.\u001B[0m\u001B[0mload_network\u001B[0m\u001B[1;33m(\u001B[0m\u001B[0mfn_saved\u001B[0m\u001B[1;33m)\u001B[0m\u001B[1;33m\u001B[0m\u001B[1;33m\u001B[0m\u001B[0m\n\u001B[0m\u001B[0;32m      6\u001B[0m \u001B[1;33m\u001B[0m\u001B[0m\n\u001B[0;32m      7\u001B[0m \u001B[0mmlopt_obj\u001B[0m\u001B[1;33m.\u001B[0m\u001B[0mmodel\u001B[0m\u001B[1;33m\u001B[0m\u001B[1;33m\u001B[0m\u001B[0m\n",
      "\u001B[1;32mD:\\Curious\\CoCo-master\\solvers\\coco.py\u001B[0m in \u001B[0;36mload_network\u001B[1;34m(self, fn_classifier_model)\u001B[0m\n\u001B[0;32m    114\u001B[0m         \u001B[1;32mif\u001B[0m \u001B[0mos\u001B[0m\u001B[1;33m.\u001B[0m\u001B[0mpath\u001B[0m\u001B[1;33m.\u001B[0m\u001B[0mexists\u001B[0m\u001B[1;33m(\u001B[0m\u001B[0mfn_classifier_model\u001B[0m\u001B[1;33m)\u001B[0m\u001B[1;33m:\u001B[0m\u001B[1;33m\u001B[0m\u001B[1;33m\u001B[0m\u001B[0m\n\u001B[0;32m    115\u001B[0m             \u001B[0mprint\u001B[0m\u001B[1;33m(\u001B[0m\u001B[1;34m'Loading presaved classifier model from {}'\u001B[0m\u001B[1;33m.\u001B[0m\u001B[0mformat\u001B[0m\u001B[1;33m(\u001B[0m\u001B[0mfn_classifier_model\u001B[0m\u001B[1;33m)\u001B[0m\u001B[1;33m)\u001B[0m\u001B[1;33m\u001B[0m\u001B[1;33m\u001B[0m\u001B[0m\n\u001B[1;32m--> 116\u001B[1;33m             \u001B[0mself\u001B[0m\u001B[1;33m.\u001B[0m\u001B[0mmodel\u001B[0m\u001B[1;33m.\u001B[0m\u001B[0mload_state_dict\u001B[0m\u001B[1;33m(\u001B[0m\u001B[0mtorch\u001B[0m\u001B[1;33m.\u001B[0m\u001B[0mload\u001B[0m\u001B[1;33m(\u001B[0m\u001B[0mfn_classifier_model\u001B[0m\u001B[1;33m)\u001B[0m\u001B[1;33m)\u001B[0m\u001B[1;33m\u001B[0m\u001B[1;33m\u001B[0m\u001B[0m\n\u001B[0m\u001B[0;32m    117\u001B[0m             \u001B[0mself\u001B[0m\u001B[1;33m.\u001B[0m\u001B[0mmodel_fn\u001B[0m \u001B[1;33m=\u001B[0m \u001B[0mfn_classifier_model\u001B[0m\u001B[1;33m\u001B[0m\u001B[1;33m\u001B[0m\u001B[0m\n\u001B[0;32m    118\u001B[0m \u001B[1;33m\u001B[0m\u001B[0m\n",
      "\u001B[1;32m~\\anaconda3\\envs\\mlopt\\lib\\site-packages\\torch\\nn\\modules\\module.py\u001B[0m in \u001B[0;36mload_state_dict\u001B[1;34m(self, state_dict, strict)\u001B[0m\n\u001B[0;32m    845\u001B[0m         \u001B[1;32mif\u001B[0m \u001B[0mlen\u001B[0m\u001B[1;33m(\u001B[0m\u001B[0merror_msgs\u001B[0m\u001B[1;33m)\u001B[0m \u001B[1;33m>\u001B[0m \u001B[1;36m0\u001B[0m\u001B[1;33m:\u001B[0m\u001B[1;33m\u001B[0m\u001B[1;33m\u001B[0m\u001B[0m\n\u001B[0;32m    846\u001B[0m             raise RuntimeError('Error(s) in loading state_dict for {}:\\n\\t{}'.format(\n\u001B[1;32m--> 847\u001B[1;33m                                self.__class__.__name__, \"\\n\\t\".join(error_msgs)))\n\u001B[0m\u001B[0;32m    848\u001B[0m         \u001B[1;32mreturn\u001B[0m \u001B[0m_IncompatibleKeys\u001B[0m\u001B[1;33m(\u001B[0m\u001B[0mmissing_keys\u001B[0m\u001B[1;33m,\u001B[0m \u001B[0munexpected_keys\u001B[0m\u001B[1;33m)\u001B[0m\u001B[1;33m\u001B[0m\u001B[1;33m\u001B[0m\u001B[0m\n\u001B[0;32m    849\u001B[0m \u001B[1;33m\u001B[0m\u001B[0m\n",
      "\u001B[1;31mRuntimeError\u001B[0m: Error(s) in loading state_dict for FFNet:\n\tsize mismatch for layers.0.weight: copying a param with shape torch.Size([128, 44]) from checkpoint, the shape in current model is torch.Size([32, 36]).\n\tsize mismatch for layers.0.bias: copying a param with shape torch.Size([128]) from checkpoint, the shape in current model is torch.Size([32]).\n\tsize mismatch for layers.1.weight: copying a param with shape torch.Size([128, 128]) from checkpoint, the shape in current model is torch.Size([32, 32]).\n\tsize mismatch for layers.1.bias: copying a param with shape torch.Size([128]) from checkpoint, the shape in current model is torch.Size([32]).\n\tsize mismatch for layers.2.weight: copying a param with shape torch.Size([128, 128]) from checkpoint, the shape in current model is torch.Size([32, 32]).\n\tsize mismatch for layers.2.bias: copying a param with shape torch.Size([128]) from checkpoint, the shape in current model is torch.Size([32]).\n\tsize mismatch for layers.3.weight: copying a param with shape torch.Size([516, 128]) from checkpoint, the shape in current model is torch.Size([8053, 32]).\n\tsize mismatch for layers.3.bias: copying a param with shape torch.Size([516]) from checkpoint, the shape in current model is torch.Size([8053])."
     ]
    }
   ],
   "source": [
    "mlopt_obj.setup_network()\n",
    "fn_saved = 'D:\\Curious\\CoCo-master\\models\\mlopt_model_free_flyer_20200406_0927_3-layers_128-neurons_classifier.pt'\n",
    "# fn_saved = 'None'\n",
    "mlopt_obj.load_network(fn_saved)\n",
    "mlopt_obj.model"
   ]
  },
  {
   "cell_type": "code",
   "execution_count": null,
   "metadata": {},
   "outputs": [],
   "source": [
    "mlopt_obj.training_params['TRAINING_ITERATIONS'] = 500\n",
    "mlopt_obj.train(verbose=False)\n",
    "print(mlopt_obj.model_fn)"
   ]
  },
  {
   "cell_type": "code",
   "execution_count": null,
   "metadata": {},
   "outputs": [
    {
     "name": "stdout",
     "output_type": "stream",
     "text": [
      "0 / 10000\n"
     ]
    }
   ],
   "source": [
    "n_succ = 0\n",
    "count = 0\n",
    "\n",
    "costs_mlopt = []\n",
    "total_time_mlopt = []\n",
    "num_solves_mlopt = []\n",
    "\n",
    "cost_ratios_mlopt = []\n",
    "\n",
    "for ii in range(n_test):\n",
    "    if ii % 1000 == 0:\n",
    "        print('{} / {}'.format(ii,n_test))\n",
    "    prob_params = {}\n",
    "    for k in p_test.keys():\n",
    "        prob_params[k] = p_test[k][ii]\n",
    "\n",
    "    try:\n",
    "        prob_success, cost, total_time, n_evals, optvals = mlopt_obj.forward(prob_params)\n",
    "\n",
    "        if prob_success:\n",
    "            n_succ += 1\n",
    "            costs_mlopt += [cost]\n",
    "            total_time_mlopt += [total_time]\n",
    "            num_solves_mlopt += [n_evals]\n",
    "\n",
    "            true_cost = c_test[ii]\n",
    "            cost_ratios_mlopt += [cost / true_cost]\n",
    "        count += 1\n",
    "    except:\n",
    "        continue\n",
    "\n",
    "costs_mlopt = np.array(costs_mlopt)\n",
    "cost_ratios_mlopt = np.array(cost_ratios_mlopt)\n",
    "total_time_mlopt = np.array(total_time_mlopt)\n",
    "num_solves_mlopt = np.array(num_solves_mlopt, dtype=int)\n",
    "\n",
    "mlopt_percentage = 100 * float(n_succ) / float(count)\n",
    "mlopt_percentage"
   ]
  },
  {
   "cell_type": "code",
   "execution_count": 31,
   "metadata": {},
   "outputs": [
    {
     "data": {
      "text/plain": [
       "8.23"
      ]
     },
     "execution_count": 31,
     "metadata": {},
     "output_type": "execute_result"
    }
   ],
   "source": [
    "mlopt_percentage"
   ]
  },
  {
   "cell_type": "markdown",
   "metadata": {},
   "source": [
    "# image encodings"
   ]
  },
  {
   "cell_type": "code",
   "execution_count": 24,
   "outputs": [],
   "source": [
    "#load train/test data\n",
    "config_fn = './free_flyer/config/default.p'\n",
    "prob = FreeFlyer(config=config_fn) #use default config, pass different config file oth.\n",
    "\n",
    "\n",
    "config_file = open(config_fn,'rb')\n",
    "dataset_name, _, _ = pickle.load(config_file); config_file.close()\n",
    "\n",
    "relative_path = os.getcwd()\n",
    "dataset_fn = relative_path + '/free_flyer/data/' + dataset_name\n",
    "\n",
    "train_file = open(dataset_fn+'/train.p','rb')\n",
    "# p_train, x_train, u_train, y_train, c_train, times_train = pickle.load(train_file)\n",
    "train_data = pickle.load(train_file)\n",
    "train_file.close()\n",
    "x_train = train_data[1] #X sequence\n",
    "y_train = train_data[3] #Y sequence\n",
    "\n",
    "test_file = open(dataset_fn+'/test.p','rb')\n",
    "# p_test, x_test, u_test, y_test, c_test, times_test = pickle.load(test_file)\n",
    "test_data = pickle.load(test_file)\n",
    "p_test, x_test, u_test, y_test, c_test, times_test = test_data\n",
    "test_file.close()\n"
   ],
   "metadata": {
    "collapsed": false,
    "pycharm": {
     "name": "#%%\n"
    }
   }
  },
  {
   "cell_type": "code",
   "execution_count": 25,
   "metadata": {},
   "outputs": [],
   "source": [
    "from solvers.coco_ff import CoCo_FF"
   ]
  },
  {
   "cell_type": "code",
   "execution_count": 26,
   "outputs": [],
   "source": [
    "#load train/test data\n",
    "N=6\n",
    "\n",
    "config_fn = './free_flyer/config/default.p'.format(N)\n",
    "prob = FreeFlyer(config=config_fn) #use default config, pass different config file oth.\n",
    "\n",
    "\n",
    "config_file = open(config_fn,'rb')\n",
    "dataset_name, _, _ = pickle.load(config_file); config_file.close()\n",
    "\n",
    "relative_path = os.getcwd()\n",
    "dataset_fn = relative_path + '/free_flyer/data/' + dataset_name\n",
    "\n",
    "train_file = open(dataset_fn+'/train.p','rb')\n",
    "# p_train, x_train, u_train, y_train, c_train, times_train = pickle.load(train_file)\n",
    "train_data = pickle.load(train_file)\n",
    "train_file.close()\n",
    "x_train = train_data[1] #X sequence\n",
    "y_train = train_data[3] #Y sequence\n",
    "\n",
    "test_file = open(dataset_fn+'/test.p','rb')\n",
    "# p_test, x_test, u_test, y_test, c_test, times_test = pickle.load(test_file)\n",
    "test_data = pickle.load(test_file)\n",
    "p_test, x_test, u_test, y_test, c_test, times_test = test_data\n",
    "test_file.close()"
   ],
   "metadata": {
    "collapsed": false,
    "pycharm": {
     "name": "#%%\n"
    }
   }
  },
  {
   "cell_type": "code",
   "execution_count": 27,
   "metadata": {},
   "outputs": [
    {
     "name": "stdout",
     "output_type": "stream",
     "text": [
      "224\n"
     ]
    }
   ],
   "source": [
    "system = 'free_flyer'\n",
    "prob_features = ['x0', 'obstacles_map']\n",
    "\n",
    "max_evals = 3\n",
    "coco_obj = CoCo_FF(system, prob, prob_features)\n",
    "\n",
    "n_features = 4\n",
    "coco_obj.construct_strategies(n_features, train_data)\n",
    "print(coco_obj.n_strategies)"
   ]
  },
  {
   "cell_type": "code",
   "execution_count": 29,
   "metadata": {},
   "outputs": [
    {
     "name": "stdout",
     "output_type": "stream",
     "text": [
      "No existing model!\n"
     ]
    },
    {
     "data": {
      "text/plain": "CNNet(\n  (conv_activation): ReLU()\n  (ff_activation): ReLU()\n  (conv_layers): ModuleList(\n    (0): Conv2d(3, 16, kernel_size=(2, 2), stride=(2, 2))\n    (1): Conv2d(16, 16, kernel_size=(2, 2), stride=(2, 2))\n    (2): Conv2d(16, 16, kernel_size=(2, 2), stride=(2, 2))\n  )\n  (ff_layers): ModuleList(\n    (0): Linear(in_features=260, out_features=128, bias=True)\n    (1): Linear(in_features=128, out_features=128, bias=True)\n    (2): Linear(in_features=128, out_features=128, bias=True)\n    (3): Linear(in_features=128, out_features=224, bias=True)\n  )\n)"
     },
     "execution_count": 29,
     "metadata": {},
     "output_type": "execute_result"
    }
   ],
   "source": [
    "coco_obj.setup_network()\n",
    "\n",
    "fn_saved = 'models/mloptff_free_flyer_20200706_0823.pt'  # old dataset\n",
    "fn_saved = 'models/mloptff_free_flyer_20200716_0708.pt'   # New spaced out dataset\n",
    "fn_saved = 'models/default.pt'\n",
    "# fn_saved = 'mloptff_free_flyer_20200726_1455.pt'\n",
    "coco_obj.load_network(fn_saved)\n",
    "coco_obj.model"
   ]
  },
  {
   "cell_type": "code",
   "execution_count": null,
   "metadata": {
    "collapsed": true,
    "jupyter": {
     "outputs_hidden": true
    },
    "pycharm": {
     "is_executing": true
    }
   },
   "outputs": [
    {
     "name": "stdout",
     "output_type": "stream",
     "text": [
      "loss:   2.1151340007781982,   acc:  0.59375\n",
      "Done with epoch 0 in 46.16164541244507s\n",
      "loss:   1.770293951034546,   acc:  0.625\n",
      "Done with epoch 1 in 49.299912214279175s\n",
      "loss:   1.4959959983825684,   acc:  0.71875\n",
      "Done with epoch 2 in 50.30059289932251s\n",
      "loss:   1.8864010572433472,   acc:  0.625\n",
      "Done with epoch 3 in 44.10644578933716s\n",
      "loss:   1.39665687084198,   acc:  0.6875\n",
      "Done with epoch 4 in 42.13438940048218s\n",
      "loss:   2.296764373779297,   acc:  0.46875\n",
      "Done with epoch 5 in 42.90271496772766s\n",
      "loss:   1.295362949371338,   acc:  0.65625\n",
      "Done with epoch 6 in 42.61916947364807s\n",
      "loss:   2.024444103240967,   acc:  0.5625\n",
      "loss:   1.5795432329177856,   acc:  0.5625\n",
      "Done with epoch 7 in 41.79411196708679s\n",
      "loss:   1.237941026687622,   acc:  0.65625\n",
      "Done with epoch 8 in 41.532031774520874s\n",
      "loss:   1.1842310428619385,   acc:  0.75\n",
      "Done with epoch 9 in 41.57559418678284s\n",
      "loss:   0.9578903913497925,   acc:  0.78125\n",
      "Done with epoch 10 in 41.167510747909546s\n",
      "loss:   1.4041295051574707,   acc:  0.625\n",
      "Done with epoch 11 in 41.25758767127991s\n",
      "loss:   1.316469669342041,   acc:  0.65625\n",
      "Done with epoch 12 in 41.49804997444153s\n",
      "loss:   1.0203633308410645,   acc:  0.65625\n",
      "Done with epoch 13 in 41.46045708656311s\n",
      "loss:   1.3870364427566528,   acc:  0.6875\n",
      "Done with epoch 14 in 41.343013525009155s\n",
      "loss:   0.7968105673789978,   acc:  0.8125\n",
      "loss:   1.0095635652542114,   acc:  0.625\n",
      "Done with epoch 15 in 41.56921648979187s\n",
      "loss:   0.698408842086792,   acc:  0.78125\n",
      "Done with epoch 16 in 41.3421368598938s\n",
      "loss:   1.4127241373062134,   acc:  0.59375\n",
      "Done with epoch 17 in 41.355857849121094s\n",
      "loss:   0.870328426361084,   acc:  0.71875\n",
      "Done with epoch 18 in 41.392096519470215s\n",
      "loss:   0.9082456827163696,   acc:  0.65625\n",
      "Done with epoch 19 in 41.215553522109985s\n",
      "loss:   1.0930373668670654,   acc:  0.65625\n",
      "Done with epoch 20 in 41.54088640213013s\n",
      "loss:   1.1288750171661377,   acc:  0.65625\n",
      "Done with epoch 21 in 41.215434312820435s\n",
      "loss:   0.6627815365791321,   acc:  0.8125\n",
      "Done with epoch 22 in 41.24501705169678s\n",
      "loss:   0.7554582953453064,   acc:  0.78125\n",
      "loss:   0.899498701095581,   acc:  0.75\n",
      "Done with epoch 23 in 42.59308886528015s\n"
     ]
    }
   ],
   "source": [
    "coco_obj.training_params['TRAINING_ITERATIONS'] = 200\n",
    "coco_obj.train(train_data=train_data, verbose=True)"
   ]
  },
  {
   "cell_type": "code",
   "execution_count": 8,
   "outputs": [],
   "source": [
    "prob_params = {}\n",
    "idx = np.random.randint(test_data[1].shape[0])\n",
    "for k in p_test.keys():\n",
    "    prob_params[k] = p_test[k][idx]"
   ],
   "metadata": {
    "collapsed": false,
    "pycharm": {
     "name": "#%%\n"
    }
   }
  },
  {
   "cell_type": "code",
   "execution_count": null,
   "metadata": {
    "pycharm": {
     "is_executing": true
    }
   },
   "outputs": [],
   "source": [
    "prob_success, cost, total_time, n_evals, optvals = coco_obj.forward(prob_params, solver=cp.MOSEK, max_evals=10)\n",
    "\n",
    "if prob_success:\n",
    "    print(n_evals)\n",
    "else:\n",
    "    print('Failed')"
   ]
  },
  {
   "cell_type": "code",
   "execution_count": null,
   "metadata": {
    "pycharm": {
     "is_executing": true
    }
   },
   "outputs": [
    {
     "name": "stdout",
     "output_type": "stream",
     "text": [
      "0 / 5000\n"
     ]
    }
   ],
   "source": [
    "n_succ = 0\n",
    "count = 0\n",
    "gurobi_mlopt_fail = 0\n",
    "\n",
    "costs_coco = []\n",
    "total_time_coco = []\n",
    "num_solves_coco = []\n",
    "\n",
    "cost_ratios_coco = []\n",
    "costs_ip = []\n",
    "total_time_ip = []\n",
    "num_solves_ip = []\n",
    "\n",
    "for ii in range(n_test):\n",
    "    if ii % 1000 == 0:\n",
    "        print('{} / {}'.format(ii,n_test))\n",
    "    prob_params = {}\n",
    "    for k in p_test.keys():\n",
    "        prob_params[k] = p_test[k][ii]\n",
    "\n",
    "    try:\n",
    "        prob_success, cost, total_time, n_evals, optvals = coco_obj.forward(prob_params, max_evals=max_evals, solver=cp.MOSEK)\n",
    "\n",
    "        if prob_success:\n",
    "            n_succ += 1\n",
    "            costs_coco += [cost]\n",
    "            total_time_coco += [total_time]\n",
    "            num_solves_coco += [n_evals]\n",
    "\n",
    "            true_cost = c_test[ii]\n",
    "            costs_ip += [true_cost]\n",
    "            total_time_ip += [times_test[ii]]\n",
    "\n",
    "            cost_ratios_coco += [cost / true_cost]\n",
    "        count += 1\n",
    "    except (KeyboardInterrupt, SystemExit):\n",
    "        raise\n",
    "    except:\n",
    "        print('Solver failed at {}'.format(ii))\n",
    "        gurobi_mlopt_fail += 1\n",
    "        continue\n",
    "\n",
    "costs_coco = np.array(costs_coco)\n",
    "cost_ratios_coco = np.array(cost_ratios_coco)\n",
    "total_time_coco = np.array(total_time_coco)\n",
    "num_solves_coco = np.array(num_solves_coco, dtype=int)\n",
    "\n",
    "costs_ip = np.array(costs_ip)\n",
    "total_time_ip = np.array(total_time_ip)\n",
    "coco_percentage = 100 * float(n_succ) / float(count)\n",
    "num_solves_ip = np.array(num_solves_ip, dtype=int)\n"
   ]
  },
  {
   "cell_type": "code",
   "execution_count": 32,
   "metadata": {},
   "outputs": [
    {
     "data": {
      "text/plain": [
       "91.94919491949194"
      ]
     },
     "execution_count": 32,
     "metadata": {},
     "output_type": "execute_result"
    }
   ],
   "source": [
    "print('feasiblility percentege: '+ str(coco_percentage))\n",
    "print('optimal solution percentege: '+ (coco_percentage))"
   ]
  },
  {
   "cell_type": "code",
   "execution_count": null,
   "outputs": [],
   "source": [],
   "metadata": {
    "collapsed": false,
    "pycharm": {
     "name": "#%%\n"
    }
   }
  },
  {
   "cell_type": "code",
   "execution_count": 10,
   "metadata": {},
   "outputs": [],
   "source": [
    "from solvers.knn import KNN"
   ]
  },
  {
   "cell_type": "code",
   "execution_count": 11,
   "metadata": {},
   "outputs": [],
   "source": [
    "system = 'free_flyer'\n",
    "prob_features = ['x0', 'obstacles']\n",
    "\n",
    "knn_obj = KNN(system, prob, prob_features, knn=3)\n",
    "\n",
    "n_features = 36\n",
    "knn_obj.train(n_features, train_data)"
   ]
  },
  {
   "cell_type": "code",
   "execution_count": null,
   "metadata": {},
   "outputs": [
    {
     "name": "stdout",
     "output_type": "stream",
     "text": [
      "0 / 10000\n"
     ]
    }
   ],
   "source": [
    "n_succ = 0\n",
    "count = 0\n",
    "\n",
    "costs_knn = []\n",
    "total_time_knn = []\n",
    "num_solves_knn = []\n",
    "\n",
    "cost_ratios_knn = []\n",
    "\n",
    "for ii in range(n_test):\n",
    "    if ii % 1000 == 0:\n",
    "        print('{} / {}'.format(ii,n_test))\n",
    "    prob_params = {}\n",
    "    for k in p_test.keys():\n",
    "        prob_params[k] = p_test[k][ii]\n",
    "\n",
    "    try:\n",
    "        prob_success, cost, total_time, n_evals, optvals = knn_obj.forward(prob_params, solver=cp.MOSEK)\n",
    "\n",
    "        if prob_success:\n",
    "            n_succ += 1\n",
    "            costs_knn += [cost]\n",
    "            total_time_knn += [total_time]\n",
    "            num_solves_knn += [n_evals]\n",
    "\n",
    "            true_cost = c_test[ii]\n",
    "            cost_ratios_knn += [cost / true_cost]\n",
    "        count += 1\n",
    "    except (KeyboardInterrupt, SystemExit):\n",
    "        raise\n",
    "    except:\n",
    "        print('Solver failed at {}'.format(ii))\n",
    "        continue\n",
    "\n",
    "costs_knn = np.array(costs_knn)\n",
    "cost_ratios_knn = np.array(cost_ratios_knn)\n",
    "total_time_knn = np.array(total_time_knn)\n",
    "num_solves_knn = np.array(num_solves_knn, dtype=int)\n",
    "\n",
    "knn_percentage = 100 * float(n_succ) / float(count)"
   ]
  },
  {
   "cell_type": "code",
   "execution_count": 15,
   "metadata": {},
   "outputs": [
    {
     "data": {
      "text/plain": [
       "48.6"
      ]
     },
     "execution_count": 15,
     "metadata": {},
     "output_type": "execute_result"
    }
   ],
   "source": [
    "knn_percentage"
   ]
  },
  {
   "cell_type": "markdown",
   "metadata": {},
   "source": [
    "# Mosek\n",
    "\n",
    "### Make sure set value for max number of feasible solutions for solver"
   ]
  },
  {
   "cell_type": "code",
   "execution_count": 29,
   "metadata": {},
   "outputs": [
    {
     "name": "stdout",
     "output_type": "stream",
     "text": [
      "Cutoff time for Mosek: 0.025114774703979492\n"
     ]
    }
   ],
   "source": [
    "print('Cutoff time for Mosek: {}'.format(np.max(total_time_coco)))"
   ]
  },
  {
   "cell_type": "code",
   "execution_count": 30,
   "metadata": {},
   "outputs": [
    {
     "data": {
      "text/plain": [
       "98.73"
      ]
     },
     "execution_count": 30,
     "metadata": {},
     "output_type": "execute_result"
    }
   ],
   "source": [
    "solver = cp.MOSEK\n",
    "\n",
    "n_succ = 0\n",
    "count = 0\n",
    "\n",
    "costs_sol = []\n",
    "cost_ratios_sol = []\n",
    "total_time_sol = []\n",
    "\n",
    "for ii in range(n_test):\n",
    "    count += 1\n",
    "    prob_params = {}\n",
    "    for k in p_test.keys():\n",
    "        prob_params[k] = p_test[k][ii]\n",
    "\n",
    "    try:\n",
    "        prob_success, cost, total_time, optvals = prob.solve_micp(prob_params, solver=solver)\n",
    "\n",
    "        if prob_success:\n",
    "            n_succ += 1\n",
    "            costs_sol += [cost]\n",
    "\n",
    "            true_cost = c_test[ii]\n",
    "            cost_ratios_sol += [cost / true_cost]\n",
    "            total_time_sol += [total_time]\n",
    "    except (KeyboardInterrupt, SystemExit):\n",
    "        raise\n",
    "    except:\n",
    "#         print('Solver failed at {}'.format(ii))\n",
    "        continue\n",
    "\n",
    "costs_sol = np.array(costs_sol)\n",
    "cost_ratios_sol = np.array(cost_ratios_sol)\n",
    "total_time_sol = np.array(total_time_sol)\n",
    "\n",
    "sol_percentage = 100 * float(n_succ) / float(count)\n",
    "sol_percentage"
   ]
  },
  {
   "cell_type": "code",
   "execution_count": 33,
   "metadata": {},
   "outputs": [
    {
     "data": {
      "text/plain": [
       "98.73"
      ]
     },
     "execution_count": 33,
     "metadata": {},
     "output_type": "execute_result"
    }
   ],
   "source": [
    "sol_percentage"
   ]
  },
  {
   "cell_type": "markdown",
   "metadata": {},
   "source": [
    "# Results"
   ]
  },
  {
   "cell_type": "code",
   "execution_count": 44,
   "metadata": {},
   "outputs": [],
   "source": [
    "import math\n",
    "import seaborn as sns\n",
    "sns.set(font_scale=1.5, font=\"serif\", style=\"whitegrid\")\n",
    "import pandas as pd\n",
    "import h5py\n",
    "import matplotlib\n",
    "\n",
    "flierprops = {'alpha':0.2}\n",
    "\n",
    "params = {'backend': 'ps',\n",
    "              'text.latex.preamble': ['\\\\usepackage{gensymb}'],\n",
    "#               'axes.labelsize': 12, # fontsize for x and y labels (was 12 and before 10)\n",
    "#               'axes.titlesize': 12,\n",
    "              'font.size': 90, # was 12 and before 10\n",
    "              'legend.fontsize': 12, # was 12 and before 10\n",
    "#               'xtick.labelsize': 12,\n",
    "#               'ytick.labelsize': 12,\n",
    "              'text.usetex': True,\n",
    "              'font.family': 'serif',\n",
    "              'font.sans-serif':['Helvetica Neue']\n",
    "    }\n",
    "\n",
    "params = {\n",
    "#     'backend': 'ps',\n",
    "#               'text.latex.preamble': ['\\\\usepackage{gensymb}'],\n",
    "#               'axes.labelsize': 12, # fontsize for x and y labels (was 12 and before 10)\n",
    "#               'axes.titlesize': 12,\n",
    "#               'font.size': 12, # was 12 and before 10\n",
    "              'legend.fontsize': 26, # was 12 and before 10\n",
    "#               'xtick.labelsize': 12,\n",
    "#               'ytick.labelsize': 12,\n",
    "#               'text.usetex': True,\n",
    "#               'font.family': 'serif',\n",
    "#               'font.sans-serif':['Helvetica Neue']\n",
    "    }\n",
    "\n",
    "sns.set(font_scale=2.)\n",
    "matplotlib.rcParams.update(params)"
   ]
  },
  {
   "cell_type": "code",
   "execution_count": 50,
   "metadata": {},
   "outputs": [],
   "source": [
    "# hf = h5py.File('free_flyer_dev.h5', 'w')\n",
    "\n",
    "# hf.create_dataset('percentage', data=np.expand_dims(np.asarray([sol_percentage, coco_percentage, mlopt_percentage, reg_percentage, knn_percentage]), axis=1))\n",
    "\n",
    "# num_solves_grp = hf.create_group('num_solves')\n",
    "# num_solves_grp.create_dataset('num_solves_coco', data=np.expand_dims(num_solves_coco, axis=1))\n",
    "# num_solves_grp.create_dataset('num_solves_mlopt', data=np.expand_dims(num_solves_mlopt, axis=1))\n",
    "# num_solves_grp.create_dataset('num_solves_reg', data=np.expand_dims(num_solves_reg, axis=1))\n",
    "# num_solves_grp.create_dataset('num_solves_knn', data=np.expand_dims(num_solves_knn, axis=1))\n",
    "\n",
    "# total_time_grp = hf.create_group('total_time')\n",
    "# total_time_grp.create_dataset('total_time_sol', data=np.expand_dims(total_time_sol, axis=1))\n",
    "# total_time_grp.create_dataset('total_time_coco', data=np.expand_dims(total_time_coco, axis=1))\n",
    "# total_time_grp.create_dataset('total_time_mlopt', data=np.expand_dims(total_time_mlopt, axis=1))\n",
    "# total_time_grp.create_dataset('total_time_reg', data=np.expand_dims(total_time_reg, axis=1))\n",
    "# total_time_grp.create_dataset('total_time_knn', data=np.expand_dims(total_time_knn, axis=1))\n",
    "\n",
    "# cost_ratios_grp = hf.create_group('cost_ratios')\n",
    "# cost_ratios_grp.create_dataset('cost_ratios_sol', data=np.expand_dims(cost_ratios_sol, axis=1))\n",
    "# cost_ratios_grp.create_dataset('cost_ratios_coco', data=np.expand_dims(cost_ratios_coco, axis=1))\n",
    "# cost_ratios_grp.create_dataset('cost_ratios_mlopt', data=np.expand_dims(cost_ratios_mlopt, axis=1))\n",
    "# cost_ratios_grp.create_dataset('cost_ratios_reg', data=np.expand_dims(cost_ratios_reg, axis=1))\n",
    "# cost_ratios_grp.create_dataset('cost_ratios_knn', data=np.expand_dims(cost_ratios_knn, axis=1))\n",
    "\n",
    "# hf.close()"
   ]
  },
  {
   "cell_type": "code",
   "execution_count": 4,
   "metadata": {},
   "outputs": [],
   "source": [
    "hf = h5py.File('free_flyer_dev.h5', 'r')\n",
    "\n",
    "num_solves_grp = hf.get('num_solves')\n",
    "num_solves_coco = np.squeeze(np.array(num_solves_grp.get('num_solves_coco')))\n",
    "num_solves_mlopt = np.squeeze(np.array(num_solves_grp.get('num_solves_mlopt')))\n",
    "num_solves_reg = np.squeeze(np.array(num_solves_grp.get('num_solves_reg')))\n",
    "num_solves_knn = np.squeeze(np.array(num_solves_grp.get('num_solves_knn')))\n",
    "\n",
    "total_time_grp = hf.get('total_time')\n",
    "total_time_sol = np.ndarray.tolist(np.squeeze(np.array(total_time_grp.get('total_time_sol'))))\n",
    "total_time_coco = np.ndarray.tolist(np.squeeze(np.array(total_time_grp.get('total_time_coco'))))\n",
    "total_time_mlopt = np.ndarray.tolist(np.squeeze(np.array(total_time_grp.get('total_time_mlopt'))))\n",
    "total_time_reg = np.ndarray.tolist(np.squeeze(np.array(total_time_grp.get('total_time_reg'))))\n",
    "total_time_knn = np.ndarray.tolist(np.squeeze(np.array(total_time_grp.get('total_time_knn'))))\n",
    "\n",
    "cost_ratios_grp = hf.get('cost_ratios')\n",
    "cost_ratios_sol = np.squeeze(np.array(cost_ratios_grp.get('cost_ratios_sol')))\n",
    "cost_ratios_coco = np.squeeze(np.array(cost_ratios_grp.get('cost_ratios_coco')))\n",
    "cost_ratios_mlopt = np.squeeze(np.array(cost_ratios_grp.get('cost_ratios_mlopt')))\n",
    "cost_ratios_reg = np.squeeze(np.array(cost_ratios_grp.get('cost_ratios_reg')))\n",
    "cost_ratios_knn = np.squeeze(np.array(cost_ratios_grp.get('cost_ratios_knn')))\n",
    "\n",
    "sol_percentage, coco_percentage, mlopt_percentage, reg_percentage, knn_percentage = np.ndarray.tolist(np.squeeze(np.array(hf.get('percentage'))))\n",
    "\n",
    "hf.close()"
   ]
  },
  {
   "cell_type": "code",
   "execution_count": 15,
   "metadata": {},
   "outputs": [
    {
     "name": "stdout",
     "output_type": "stream",
     "text": [
      "49.32\n",
      "48.6\n"
     ]
    }
   ],
   "source": [
    "print(reg_percentage)\n",
    "print(knn_percentage)"
   ]
  },
  {
   "cell_type": "code",
   "execution_count": 45,
   "metadata": {},
   "outputs": [
    {
     "data": {
      "image/png": "[encoded data removed]",
      "text/plain": [
       "<Figure size 576x288 with 1 Axes>"
      ]
     },
     "metadata": {},
     "output_type": "display_data"
    }
   ],
   "source": [
    "results = {'Mosek':[sol_percentage], 'CoCo':[coco_percentage], 'MLOPT':[mlopt_percentage], 'Reg.':[reg_percentage], 'KNN':[knn_percentage]}\n",
    "results = pd.DataFrame(results)\n",
    "\n",
    "plt.figure(figsize=(8,4))\n",
    "plt.ylim(0,100)\n",
    "plt.tight_layout()\n",
    "\n",
    "ax1 = sns.barplot(data=results, palette=\"Set3\")\n",
    "ax1.set(xlabel=\"\", ylabel=\"Percent Success\")\n",
    "ax1.set(xlabel=\"\", ylabel=\"\")\n",
    "\n",
    "sns.set(font_scale=2.5)\n",
    "figure = ax1.get_figure()\n",
    "figure.savefig(\"free_flyer_percent_success.png\", bbox_inches='tight')"
   ]
  },
  {
   "cell_type": "code",
   "execution_count": 46,
   "metadata": {},
   "outputs": [
    {
     "data": {
      "image/png": "[encoded data removed]",
      "text/plain": [
       "<Figure size 576x288 with 1 Axes>"
      ]
     },
     "metadata": {},
     "output_type": "display_data"
    }
   ],
   "source": [
    "results = {}\n",
    "results['Policy'] = ['CoCo']*len(num_solves_coco) + ['MLOPT']*len(num_solves_mlopt) + ['Reg.']*len(num_solves_reg) + ['KNN']*len(num_solves_knn)\n",
    "results['Solves'] = np.hstack((np.log10(num_solves_coco), np.log10(num_solves_mlopt), np.log10(num_solves_reg), np.log10(num_solves_knn)))\n",
    "results = pd.DataFrame(results)\n",
    "\n",
    "plt.figure(figsize=(8,4))\n",
    "plt.ylim(0,1.05)\n",
    "plt.tight_layout()\n",
    "\n",
    "ax1 = sns.boxplot(x=results['Policy'], y=results['Solves'], palette=\"Set3\", flierprops=flierprops)                            \n",
    "ax1.set(xlabel=\"\", ylabel=\"log(QPs Solved)\")\n",
    "ax1.set(xlabel=\"\", ylabel=\"\")\n",
    "\n",
    "sns.set(font_scale=2.5)\n",
    "figure = ax1.get_figure()\n",
    "figure.savefig(\"free_flyer_solved.png\", bbox_inches='tight')"
   ]
  },
  {
   "cell_type": "code",
   "execution_count": 47,
   "metadata": {},
   "outputs": [
    {
     "data": {
      "image/png": "[encoded data removed]",
      "text/plain": [
       "<Figure size 576x288 with 1 Axes>"
      ]
     },
     "metadata": {},
     "output_type": "display_data"
    }
   ],
   "source": [
    "results = {}\n",
    "results['Policy'] = ['Mosek']*len(total_time_sol) +  ['CoCo']*len(total_time_coco) + ['MLOPT']*len(total_time_mlopt) + ['Reg.']*len(total_time_reg) + ['KNN']*len(total_time_knn)\n",
    "results['Time'] = np.hstack((np.log10(total_time_sol), np.log10(total_time_coco), np.log10(total_time_mlopt), np.log10(total_time_reg), np.log10(total_time_knn)))\n",
    "results = pd.DataFrame(results)\n",
    "\n",
    "plt.figure(figsize=(8,4))\n",
    "plt.tight_layout()\n",
    "\n",
    "ax1 = sns.boxplot(x=results['Policy'], y=results['Time'], palette=\"Set3\", flierprops=flierprops)                            \n",
    "ax1.set(xlabel=\"\", ylabel=\"log(Time) [s]\")\n",
    "ax1.set(xlabel=\"\", ylabel=\"\")\n",
    "\n",
    "sns.set(font_scale=2.5)\n",
    "figure = ax1.get_figure()\n",
    "figure.savefig(\"free_flyer_time.png\", bbox_inches='tight')"
   ]
  },
  {
   "cell_type": "code",
   "execution_count": 48,
   "metadata": {},
   "outputs": [
    {
     "data": {
      "image/png": "[encoded data removed]",
      "text/plain": [
       "<Figure size 576x288 with 1 Axes>"
      ]
     },
     "metadata": {},
     "output_type": "display_data"
    }
   ],
   "source": [
    "results = {}\n",
    "results['Policy'] = ['Mosek']*len(cost_ratios_sol) + ['CoCo']*len(cost_ratios_coco) + ['MLOPT']*len(cost_ratios_mlopt) + ['Reg.']*len(cost_ratios_reg) + ['KNN']*len(cost_ratios_knn)\n",
    "results['Costs'] = np.hstack((100*cost_ratios_sol, 100*cost_ratios_coco, 100*cost_ratios_mlopt, 100*cost_ratios_reg, 100*cost_ratios_knn))\n",
    "results = pd.DataFrame(results)\n",
    "\n",
    "plt.figure(figsize=(8,4))\n",
    "plt.ylim(99,140)\n",
    "# plt.yticks([100, 250, 500, 750])\n",
    "plt.tight_layout()\n",
    "\n",
    "ax1 = sns.boxplot(x=results['Policy'], y=results['Costs'], palette=\"Set3\", flierprops=flierprops)                            \n",
    "ax1.set(xlabel=\"\", ylabel=\"Relative Cost [%]\")\n",
    "ax1.set(xlabel=\"\", ylabel=\"\")\n",
    "\n",
    "sns.set(font_scale=2.5)\n",
    "figure = ax1.get_figure()\n",
    "figure.savefig(\"free_flyer_cost.png\", bbox_inches='tight')"
   ]
  },
  {
   "cell_type": "code",
   "execution_count": null,
   "metadata": {},
   "outputs": [],
   "source": [
    "print('sol_percentage: {}'.format(sol_percentage))\n",
    "print('coco_percentage: {}'.format(coco_percentage))\n",
    "print('reg_percentage: {}'.format(reg_percentage))\n",
    "print('knn_percentage: {}'.format(knn_percentage))"
   ]
  },
  {
   "cell_type": "code",
   "execution_count": null,
   "metadata": {},
   "outputs": [],
   "source": [
    "timeout_idx_coco = np.where(total_time_coco <= 0.01)[0]\n",
    "timeout_idx_reg = np.where(total_time_reg <= 0.01)[0]\n",
    "timeout_idx_knn = np.where(total_time_knn <= 0.01)[0]\n",
    "timeout_idx_sol = np.where(total_time_sol <= 0.01)[0]"
   ]
  },
  {
   "cell_type": "code",
   "execution_count": null,
   "metadata": {},
   "outputs": [],
   "source": [
    "plt.plot(1000*np.sort(total_time_coco[timeout_idx_coco]), linestyle='--', label='CoCo')\n",
    "plt.plot(1000*np.sort(total_time_sol[timeout_idx_sol]), linestyle='--', label='Mosek')\n",
    "plt.xlabel('Problem Index')\n",
    "plt.ylabel('Time [ms]')\n",
    "plt.ylim([0,12])\n",
    "plt.legend(loc='best')"
   ]
  },
  {
   "cell_type": "code",
   "execution_count": null,
   "metadata": {},
   "outputs": [],
   "source": [
    "# results = {'Gurobi':[100.], 'MLOPT':[mlopt_percentage], 'CNN':[cnn_percentage]}\n",
    "# results = {'Gurobi':[100.], 'MLOPT':[mlopt_percentage], 'Regressor':[reg_percentage], 'KNN':[knn_percentage]}\n",
    "results = {'Mosek':[sol_percentage], 'CoCo':[coco_percentage], 'Regressor':[reg_percentage], 'KNN':[knn_percentage]}\n",
    "results = {'Mosek':[100*float(len(timeout_idx_sol))/float(n_test)], \\\n",
    "           'CoCo':[100*float(len(timeout_idx_coco))/float(n_test)], \\\n",
    "           'Regressor':[100*float(len(timeout_idx_reg))/float(n_test)], \\\n",
    "           'KNN':[100*float(len(timeout_idx_knn))/float(n_test)]}\n",
    "results = pd.DataFrame(results)\n",
    "\n",
    "ax1 = sns.barplot(data=results, palette=\"Set3\", label='small')\n",
    "ax1.set(xlabel=\"\", ylabel=\"Percent Success\")\n",
    "\n",
    "plt.tight_layout()\n",
    "\n",
    "figure = ax1.get_figure()\n",
    "figure.savefig(\"percent_success.pdf\")"
   ]
  },
  {
   "cell_type": "code",
   "execution_count": null,
   "metadata": {},
   "outputs": [],
   "source": [
    "results = {}\n",
    "results['Policy'] = ['MLOPT']*len(num_solves_mlopt) + ['CNN']*len(num_solves_cnn)\n",
    "results['Solves'] = np.hstack((np.log10(num_solves_mlopt), np.log10(num_solves_cnn)))\n",
    "\n",
    "\n",
    "results['Policy'] = ['CoCo']*len(num_solves_cnn) + ['Regressor']*len(num_solves_reg) + ['KNN']*len(num_solves_knn)\n",
    "results['Solves'] = np.hstack((np.log10(num_solves_cnn), np.log10(num_solves_reg), np.log10(num_solves_knn)))\n",
    "\n",
    "results = pd.DataFrame(results)\n",
    "\n",
    "ax1 = sns.boxplot(x=results['Policy'], y=results['Solves'], palette=\"Set3\", flierprops=flierprops)                            \n",
    "ax1.set(xlabel=\"\", ylabel=\"log(QCQPs Solved)\")\n",
    "\n",
    "plt.tight_layout()\n",
    "\n",
    "figure = ax1.get_figure()\n",
    "# figure.savefig(\"loss.pdf\")"
   ]
  },
  {
   "cell_type": "code",
   "execution_count": null,
   "metadata": {},
   "outputs": [],
   "source": [
    "results = {}\n",
    "# results['Policy'] = ['Gurobi']*len(total_time_ip) + ['MLOPT']*len(total_time_mlopt) + \\\n",
    "#     ['CNN']*len(total_time_cnn)\n",
    "# results['Time'] = np.hstack((np.log10(total_time_ip), \\\n",
    "#     np.log10(total_time_mlopt), np.log10(total_time_cnn)))\n",
    "\n",
    "results['Policy'] = ['Mosek']*len(total_time_sol[timeout_idx_sol]) + ['CoCo']*len(total_time_cnn[timeout_idx_cnn]) + \\\n",
    "    ['Regressor']*len(total_time_reg[timeout_idx_reg]) + ['KNN']*len(total_time_knn[timeout_idx_knn])\n",
    "results['Time'] = np.hstack((np.log10(total_time_sol[timeout_idx_sol]), \\\n",
    "    np.log10(total_time_cnn[timeout_idx_cnn]), np.log10(total_time_reg[timeout_idx_reg]), np.log10(total_time_knn[timeout_idx_knn])))\n",
    "\n",
    "results = pd.DataFrame(results)\n",
    "\n",
    "ax1 = sns.boxplot(x=results['Policy'], y=results['Time'], palette=\"Set3\", flierprops=flierprops)\n",
    "ax1.set(xlabel=\"\", ylabel=\"log(Time) [s]\")\n",
    "\n",
    "plt.tight_layout()\n",
    "\n",
    "figure = ax1.get_figure()\n",
    "figure.savefig(\"time.pdf\")"
   ]
  },
  {
   "cell_type": "code",
   "execution_count": null,
   "metadata": {},
   "outputs": [],
   "source": [
    "results = {}\n",
    "# results['Policy'] = ['Gurobi']*len(costs_ip) + \\\n",
    "#     ['MLOPT']*len(cost_ratios_mlopt) + ['CNN']*len(cost_ratios_cnn)\n",
    "# results['Costs'] = np.hstack((100*np.ones(len(costs_ip)), \\\n",
    "#     100*cost_ratios_mlopt, 100*cost_ratios_cnn))\n",
    "\n",
    "# results['Policy'] = ['Gurobi']*len(costs_ip) + \\\n",
    "#     ['CNN']*len(cost_ratios_cnn) + ['Regressor']*len(cost_ratios_reg) + ['KNN']*len(cost_ratios_knn)\n",
    "# results['Costs'] = np.hstack((100*np.ones(len(costs_ip)), \\\n",
    "#     100*cost_ratios_cnn, 100*cost_ratios_reg, 100*cost_ratios_knn))\n",
    "# results['Costs'] = np.hstack((np.log10(np.ones(len(costs_ip))), \\\n",
    "#     np.log10(cost_ratios_cnn), np.log10(cost_ratios_reg), np.log10(cost_ratios_knn)))\n",
    "\n",
    "results['Policy'] = ['Mosek']*len(cost_ratios_sol[timeout_idx_sol]) + \\\n",
    "    ['CoCo']*len(cost_ratios_coco[timeout_idx_coco]) + ['Regressor']*len(cost_ratios_reg[timeout_idx_reg]) + ['KNN']*len(cost_ratios_knn)\n",
    "results['Costs'] = np.hstack((100*cost_ratios_sol[timeout_idx_sol], 100*cost_ratios_coco[timeout_idx_coco], \\\n",
    "        100*cost_ratios_reg[timeout_idx_reg], 100*cost_ratios_knn))\n",
    "\n",
    "results = pd.DataFrame(results)\n",
    "\n",
    "ax1 = sns.boxplot(x=results['Policy'], y=results['Costs'], palette=\"Set3\", flierprops=flierprops)\n",
    "ax1.set(xlabel=\"\", ylabel=\"Relative Cost [%]\")\n",
    "# ax1.set(xlabel=\"\", ylabel=\"log(Relative Cost)\")\n",
    "\n",
    "plt.tight_layout()\n",
    "# plt.ylim(0, int(math.ceil(np.max(np.maximum(costs_ip, cost_ratios_cnn, cost_ratios_reg, cost_ratios_knn)) / 10.0)) * 10)\n",
    "plt.ylim([100., 400])\n",
    "\n",
    "figure = ax1.get_figure()\n",
    "figure.savefig(\"cost.pdf\")"
   ]
  },
  {
   "cell_type": "code",
   "execution_count": null,
   "metadata": {},
   "outputs": [],
   "source": []
  }
 ],
 "metadata": {
  "kernelspec": {
   "display_name": "coco",
   "language": "python",
   "name": "coco"
  },
  "language_info": {
   "codemirror_mode": {
    "name": "ipython",
    "version": 3
   },
   "file_extension": ".py",
   "mimetype": "text/x-python",
   "name": "python",
   "nbconvert_exporter": "python",
   "pygments_lexer": "ipython3",
   "version": "3.6.13"
  },
  "varInspector": {
   "cols": {
    "lenName": 16,
    "lenType": 16,
    "lenVar": 40
   },
   "kernels_config": {
    "python": {
     "delete_cmd_postfix": "",
     "delete_cmd_prefix": "del ",
     "library": "var_list.py",
     "varRefreshCmd": "print(var_dic_list())"
    },
    "r": {
     "delete_cmd_postfix": ") ",
     "delete_cmd_prefix": "rm(",
     "library": "var_list.r",
     "varRefreshCmd": "cat(var_dic_list()) "
    }
   },
   "types_to_exclude": [
    "module",
    "function",
    "builtin_function_or_method",
    "instance",
    "_Feature"
   ],
   "window_display": true
  }
 },
 "nbformat": 4,
 "nbformat_minor": 4
}