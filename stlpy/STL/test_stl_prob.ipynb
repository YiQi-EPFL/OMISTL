{
 "cells": [
  {
   "cell_type": "code",
   "execution_count": 33,
   "metadata": {
    "collapsed": true
   },
   "outputs": [
    {
     "name": "stdout",
     "output_type": "stream",
     "text": [
      "The autoreload extension is already loaded. To reload it, use:\n",
      "  %reload_ext autoreload\n"
     ]
    }
   ],
   "source": [
    "%load_ext autoreload\n",
    "%autoreload 2\n",
    "\n",
    "from MPC.utils import findIC\n",
    "from para_stl import paraset\n",
    "import os\n",
    "import pickle\n",
    "from stlpy.benchmark.reach_avoid import ReachAvoid\n",
    "from stlpy.benchmark.random_multitarget import RandomMultitarget\n",
    "import numpy as np\n",
    "from stl_planner import STL_planner\n",
    "import cvxpy as cp\n",
    "from solvers.OMISTL import OMISTL"
   ]
  },
  {
   "cell_type": "code",
   "execution_count": 22,
   "outputs": [],
   "source": [
    "N=10\n",
    "x0 = [0.1,0.1,0,0]\n",
    "vmax = 0.5\n",
    "prob_params= {}\n",
    "prob_params['x0'] = x0\n",
    "Q = 1e-1*np.diag([0,0,1,1])   # just penalize high velocities\n",
    "R = 1e-1*np.eye(2)\n",
    "\n",
    "posmin = np.array([0.0, 0.0, -1.0, -1.0])\n",
    "posmax =np.array([3.5,2.5, 1.0, 1.0])\n",
    "umax = np.array([0.2, 0.2])\n",
    "\n",
    "goal_bounds = (2.90, 3.25, 2.00, 2.25)     # (xmin, xmax, ymin, ymax)\n",
    "obstacle_bounds = (1.25, 1.75, 0.20, 1.00)\n",
    "\n",
    "\n",
    "scenario = ReachAvoid(goal_bounds, obstacle_bounds, N-1)\n",
    "spec = scenario.GetSpecification()\n",
    "spec.simplify()\n",
    "spec_name= 'ReachAvoid'\n",
    "\n",
    "# paraset(N=N,n_obs=5, Q=Q,R=R, xmin= posmin, xmax = posmax, vmax=vmax, umax =umax, spec_name=spec_name, vector=vector_mat)\n",
    "# paraset(N=N,n_obs=5, Q=Q,R=R, xmin= posmin, xmax = posmax, vmax=vmax, umax =umax, spec_name=spec_name)"
   ],
   "metadata": {
    "collapsed": false,
    "pycharm": {
     "name": "#%%\n"
    }
   }
  },
  {
   "cell_type": "code",
   "execution_count": 40,
   "outputs": [],
   "source": [
    "#load train/test data\n",
    "# spec_name= 'ReachAvoid'\n",
    "\n",
    "dataset_name = '{}_horizon_{}'.format(spec_name,N)\n",
    "\n",
    "#加载设置文件地址，config = [dataset_name, prob_params, sampled_params]#\n",
    "relative_path = os.getcwd()\n",
    "config_fn = os.path.join(relative_path, 'config', dataset_name+'.p')\n",
    "\n",
    "config_file = open(config_fn,'rb')\n",
    "config=pickle.load(config_file)\n",
    "\n",
    "dataset_name =  config[0]\n",
    "config_file.close()#读取设置#\n",
    "\n",
    "prob = STL_planner(config=config_fn , spec=spec)\n",
    "prob.init_stl_problem()"
   ],
   "metadata": {
    "collapsed": false,
    "pycharm": {
     "name": "#%%\n"
    }
   }
  },
  {
   "cell_type": "code",
   "execution_count": 47,
   "outputs": [
    {
     "name": "stdout",
     "output_type": "stream",
     "text": [
      "===============================================================================\n",
      "                                     CVXPY                                     \n",
      "                                    v1.1.20                                    \n",
      "===============================================================================\n",
      "(CVXPY) Oct 16 08:17:35 PM: Your problem has 268 variables, 342 constraints, and 4 parameters.\n",
      "(CVXPY) Oct 16 08:17:35 PM: It is compliant with the following grammars: DCP, DQCP\n",
      "(CVXPY) Oct 16 08:17:35 PM: CVXPY will first compile your problem; then, it will invoke a numerical solver to obtain a solution.\n",
      "-------------------------------------------------------------------------------\n",
      "                                  Compilation                                  \n",
      "-------------------------------------------------------------------------------\n",
      "(CVXPY) Oct 16 08:17:35 PM: Using cached ASA map, for faster compilation (bypassing reduction chain).\n",
      "(CVXPY) Oct 16 08:17:35 PM: Finished problem compilation (took 0.000e+00 seconds).\n",
      "-------------------------------------------------------------------------------\n",
      "                                Numerical solver                               \n",
      "-------------------------------------------------------------------------------\n",
      "(CVXPY) Oct 16 08:17:35 PM: Invoking solver GUROBI  to obtain a solution.\n",
      "Parameter OutputFlag unchanged\n",
      "   Value: 1  Min: 0  Max: 1  Default: 1\n",
      "Changed value of parameter QCPDual to 1\n",
      "   Prev: 0  Min: 0  Max: 1  Default: 0\n",
      "Changed value of parameter Presolve to 1\n",
      "   Prev: -1  Min: -1  Max: 2  Default: -1\n",
      "Changed value of parameter TimeLimit to 60.0\n",
      "   Prev: inf  Min: 0.0  Max: inf  Default: inf\n",
      "Changed value of parameter Threads to 1\n",
      "   Prev: 0  Min: 0  Max: 1024  Default: 0\n",
      "Gurobi Optimizer version 9.1.2 build v9.1.2rc0 (win64)\n",
      "Thread count: 6 physical cores, 12 logical processors, using up to 1 threads\n",
      "Optimize a model with 560 rows, 328 columns and 1218 nonzeros\n",
      "Model fingerprint: 0x4b0b0359\n",
      "Model has 40 quadratic objective terms\n",
      "Variable types: 294 continuous, 34 integer (34 binary)\n",
      "Coefficient statistics:\n",
      "  Matrix range     [1e+00, 2e+02]\n",
      "  Objective range  [1e+00, 1e+00]\n",
      "  QObjective range [2e-01, 2e-01]\n",
      "  Bounds range     [1e+00, 1e+00]\n",
      "  RHS range        [1e-01, 2e+02]\n",
      "\n",
      "Loaded user MIP start with objective 0.164238\n",
      "\n",
      "Presolve removed 459 rows and 236 columns\n",
      "Presolve time: 0.00s\n",
      "Presolved: 101 rows, 92 columns, 334 nonzeros\n",
      "Presolved model has 36 quadratic objective terms\n",
      "Variable types: 70 continuous, 22 integer (22 binary)\n",
      "\n",
      "Root relaxation: objective 0.000000e+00, 73 iterations, 0.00 seconds\n",
      "\n",
      "    Nodes    |    Current Node    |     Objective Bounds      |     Work\n",
      " Expl Unexpl |  Obj  Depth IntInf | Incumbent    BestBd   Gap | It/Node Time\n",
      "\n",
      "     0     0    0.00000    0    7    0.16424    0.00000   100%     -    0s\n",
      "     0     0    0.00000    0   10    0.16424    0.00000   100%     -    0s\n",
      "     0     0    0.00000    0   10    0.16424    0.00000   100%     -    0s\n",
      "     0     0    0.00000    0   10    0.16424    0.00000   100%     -    0s\n",
      "     0     0    0.00000    0   10    0.16424    0.00000   100%     -    0s\n",
      "     0     0    0.00000    0   10    0.16424    0.00000   100%     -    0s\n",
      "     0     2    0.00000    0   10    0.16424    0.00000   100%     -    0s\n",
      "\n",
      "Cutting planes:\n",
      "  Cover: 1\n",
      "  MIR: 1\n",
      "  Flow cover: 1\n",
      "  Relax-and-lift: 2\n",
      "\n",
      "Explored 13 nodes (281 simplex iterations) in 0.05 seconds\n",
      "Thread count was 1 (of 12 available processors)\n",
      "\n",
      "Solution count 1: 0.164238 \n",
      "\n",
      "Optimal solution found (tolerance 1.00e-04)\n",
      "Best objective 1.642377710530e-01, best bound 1.642377710530e-01, gap 0.0000%\n",
      "-------------------------------------------------------------------------------\n",
      "                                    Summary                                    \n",
      "-------------------------------------------------------------------------------\n",
      "(CVXPY) Oct 16 08:17:35 PM: Problem status: optimal\n",
      "(CVXPY) Oct 16 08:17:35 PM: Optimal value: 1.642e-01\n",
      "(CVXPY) Oct 16 08:17:35 PM: Compilation took 0.000e+00 seconds\n",
      "(CVXPY) Oct 16 08:17:35 PM: Solver (including time spent in interface) took 7.853e-02 seconds\n"
     ]
    }
   ],
   "source": [
    "prob_success, cost, solve_time,integer, vector, optvals =prob.solve_stl(prob_params,solver=cp.GUROBI,verbose=True)"
   ],
   "metadata": {
    "collapsed": false,
    "pycharm": {
     "name": "#%%\n"
    }
   }
  },
  {
   "cell_type": "code",
   "execution_count": 48,
   "outputs": [
    {
     "name": "stdout",
     "output_type": "stream",
     "text": [
      "True\n",
      "0.06290435791015625\n"
     ]
    }
   ],
   "source": [
    "print(prob_success)\n",
    "print(solve_time)"
   ],
   "metadata": {
    "collapsed": false,
    "pycharm": {
     "name": "#%%\n"
    }
   }
  },
  {
   "cell_type": "code",
   "execution_count": 49,
   "outputs": [
    {
     "data": {
      "text/plain": "<Figure size 432x288 with 1 Axes>",
      "image/png": "[encoded data removed]"
     },
     "metadata": {
      "needs_background": "light"
     },
     "output_type": "display_data"
    }
   ],
   "source": [
    "import matplotlib.pyplot as plt\n",
    "Xopt = optvals[0]\n",
    "\n",
    "goal_bounds = list(goal_bounds)    # (xmin, xmax, ymin, ymax)\n",
    "obstacle_bounds = list(scenario.obstacle_bounds)\n",
    "\n",
    "\n",
    "goal  = plt.Rectangle((goal_bounds[0], goal_bounds[2]), \\\n",
    "                                  goal_bounds[1]-goal_bounds[0], goal_bounds[3]-goal_bounds[2], \\\n",
    "                                 fc='white', ec='black')\n",
    "obstacle = plt.Rectangle((obstacle_bounds[0], obstacle_bounds[2]), \\\n",
    "                                  obstacle_bounds[1]-obstacle_bounds[0], obstacle_bounds[3]-obstacle_bounds[2], \\\n",
    "                                 fc='white', ec='black')\n",
    "\n",
    "plt.gca().add_patch(obstacle)\n",
    "plt.gca().add_patch(goal)\n",
    "\n",
    "plt.axis('scaled')\n",
    "\n",
    "\n",
    "x0 = prob_params['x0']\n",
    "circle = plt.Circle((x0[0],x0[1]), 0.04, fc='red',ec=\"red\")\n",
    "plt.gca().add_patch(circle)\n",
    "\n",
    "#blue line is network prediction\n",
    "# plt.plot(xg[0],xg[1],'sr')\n",
    "# plt.quiver(Xopt[0,:], Xopt[1,:], Xopt[2,:], Xopt[3,:])#用箭头表示#\n",
    "for jj in range(N):\n",
    "    circle = plt.Circle((Xopt[0,jj],Xopt[1,jj]), 0.04, fc='black',ec=\"black\")\n",
    "    plt.gca().add_patch(circle)\n",
    "\n",
    "\n",
    "posmin = np.zeros(2)\n",
    "\n",
    "ax = plt.gca()\n",
    "ax.margins(0)\n",
    "ax.set(xlim=(posmin[0],posmax[0]), ylim=(posmin[1],posmax[1]))\n",
    "plt.show()"
   ],
   "metadata": {
    "collapsed": false,
    "pycharm": {
     "name": "#%%\n"
    }
   }
  },
  {
   "cell_type": "code",
   "execution_count": 50,
   "outputs": [
    {
     "data": {
      "text/plain": "[array([0., 0., 0., 0., 0., 0., 0., 0., 0., 0., 1.]),\n array([0., 0., 0., 0., 1.]),\n array([0., 0., 0., 0., 1.]),\n array([0., 0., 0., 0., 1.]),\n array([0., 0., 0., 0., 1.]),\n array([0., 0., 0., 0., 1.]),\n array([0., 0., 1., 0., 0.]),\n array([0., 0., 0., 1., 0.]),\n array([0., 0., 0., 1., 0.]),\n array([0., 0., 0., 1., 0.]),\n array([0., 0., 0., 1., 0.])]"
     },
     "execution_count": 50,
     "metadata": {},
     "output_type": "execute_result"
    }
   ],
   "source": [
    "inter_matrix = []\n",
    "for i in range(len(prob.vector)):\n",
    "    # print(prob.integer[i].value)\n",
    "    inter_matrix.append(prob.vector[i].value)\n",
    "inter_matrix"
   ],
   "metadata": {
    "collapsed": false,
    "pycharm": {
     "name": "#%%\n"
    }
   }
  },
  {
   "cell_type": "code",
   "execution_count": 51,
   "outputs": [],
   "source": [
    "prob.init_pred_problem(inter_matrix)"
   ],
   "metadata": {
    "collapsed": false,
    "pycharm": {
     "name": "#%%\n"
    }
   }
  },
  {
   "cell_type": "code",
   "execution_count": 52,
   "outputs": [
    {
     "name": "stdout",
     "output_type": "stream",
     "text": [
      "===============================================================================\n",
      "                                     CVXPY                                     \n",
      "                                    v1.1.20                                    \n",
      "===============================================================================\n",
      "(CVXPY) Oct 16 08:17:38 PM: Your problem has 137 variables, 89 constraints, and 4 parameters.\n",
      "(CVXPY) Oct 16 08:17:38 PM: It is compliant with the following grammars: DCP, DQCP\n",
      "(CVXPY) Oct 16 08:17:38 PM: CVXPY will first compile your problem; then, it will invoke a numerical solver to obtain a solution.\n",
      "-------------------------------------------------------------------------------\n",
      "                                  Compilation                                  \n",
      "-------------------------------------------------------------------------------\n",
      "(CVXPY) Oct 16 08:17:38 PM: Compiling problem (target solver=GUROBI).\n",
      "(CVXPY) Oct 16 08:17:38 PM: Reduction chain: CvxAttr2Constr -> Qp2SymbolicQp -> QpMatrixStuffing -> GUROBI\n",
      "(CVXPY) Oct 16 08:17:38 PM: Applying reduction CvxAttr2Constr\n",
      "(CVXPY) Oct 16 08:17:38 PM: Applying reduction Qp2SymbolicQp\n",
      "(CVXPY) Oct 16 08:17:38 PM: Applying reduction QpMatrixStuffing\n",
      "(CVXPY) Oct 16 08:17:38 PM: Applying reduction GUROBI\n",
      "(CVXPY) Oct 16 08:17:38 PM: Finished problem compilation (took 7.818e-02 seconds).\n",
      "(CVXPY) Oct 16 08:17:38 PM: (Subsequent compilations of this problem, using the same arguments, should take less time.)\n",
      "-------------------------------------------------------------------------------\n",
      "                                Numerical solver                               \n",
      "-------------------------------------------------------------------------------\n",
      "(CVXPY) Oct 16 08:17:38 PM: Invoking solver GUROBI  to obtain a solution.\n",
      "Parameter OutputFlag unchanged\n",
      "   Value: 1  Min: 0  Max: 1  Default: 1\n",
      "Changed value of parameter QCPDual to 1\n",
      "   Prev: 0  Min: 0  Max: 1  Default: 0\n",
      "Changed value of parameter Presolve to 1\n",
      "   Prev: -1  Min: -1  Max: 2  Default: -1\n",
      "Changed value of parameter TimeLimit to 60.0\n",
      "   Prev: inf  Min: 0.0  Max: inf  Default: inf\n",
      "Changed value of parameter Threads to 1\n",
      "   Prev: 0  Min: 0  Max: 1024  Default: 0\n",
      "Gurobi Optimizer version 9.1.2 build v9.1.2rc0 (win64)\n",
      "Thread count: 6 physical cores, 12 logical processors, using up to 1 threads\n",
      "Optimize a model with 307 rows, 197 columns and 528 nonzeros\n",
      "Model fingerprint: 0x619a426a\n",
      "Model has 40 quadratic objective terms\n",
      "Coefficient statistics:\n",
      "  Matrix range     [1e+00, 2e+02]\n",
      "  Objective range  [1e+00, 1e+00]\n",
      "  QObjective range [2e-01, 2e-01]\n",
      "  Bounds range     [0e+00, 0e+00]\n",
      "  RHS range        [1e-01, 2e+02]\n",
      "Presolve removed 276 rows and 148 columns\n",
      "Presolve time: 0.00s\n",
      "Presolved: 31 rows, 49 columns, 92 nonzeros\n",
      "Presolved model has 36 quadratic objective terms\n",
      "Ordering time: 0.00s\n",
      "\n",
      "Barrier statistics:\n",
      " AA' NZ     : 5.600e+01\n",
      " Factor NZ  : 2.560e+02\n",
      " Factor Ops : 2.736e+03 (less than 1 second per iteration)\n",
      " Threads    : 1\n",
      "\n",
      "                  Objective                Residual\n",
      "Iter       Primal          Dual         Primal    Dual     Compl     Time\n",
      "   0   1.44019162e+07 -1.44391370e+07  2.00e+03 7.70e+02  9.58e+05     0s\n",
      "   1   1.71163656e+04 -4.75362726e+04  6.36e+01 2.45e+01  3.08e+04     0s\n",
      "   2   8.50456126e+00 -2.92067853e+04  1.24e+00 4.78e-01  8.82e+02     0s\n",
      "   3   4.02753526e-01 -1.73308114e+04  1.15e-01 4.44e-02  2.19e+02     0s\n",
      "   4   2.04475163e-01 -1.35643041e+03  3.35e-04 1.29e-04  1.39e+01     0s\n",
      "   5   2.03983159e-01 -1.74894960e+00  4.81e-07 1.85e-07  1.99e-02     0s\n",
      "   6   1.88471302e-01 -1.74886157e-01  8.59e-08 3.31e-08  3.71e-03     0s\n",
      "   7   1.67092463e-01  6.59215189e-02  8.59e-14 3.32e-14  1.03e-03     0s\n",
      "   8   1.64436562e-01  1.62480913e-01  8.88e-16 5.55e-16  2.00e-05     0s\n",
      "   9   1.64242041e-01  1.64205168e-01  6.22e-15 2.22e-16  3.76e-07     0s\n",
      "  10   1.64237788e-01  1.64236431e-01  4.37e-13 1.11e-16  1.38e-08     0s\n",
      "  11   1.64237771e-01  1.64237769e-01  9.18e-12 1.11e-16  2.48e-11     0s\n",
      "\n",
      "Barrier solved model in 11 iterations and 0.02 seconds\n",
      "Optimal objective 1.64237771e-01\n",
      "\n",
      "-------------------------------------------------------------------------------\n",
      "                                    Summary                                    \n",
      "-------------------------------------------------------------------------------\n",
      "(CVXPY) Oct 16 08:17:38 PM: Problem status: optimal\n",
      "(CVXPY) Oct 16 08:17:38 PM: Optimal value: 1.642e-01\n",
      "(CVXPY) Oct 16 08:17:38 PM: Compilation took 7.818e-02 seconds\n",
      "(CVXPY) Oct 16 08:17:38 PM: Solver (including time spent in interface) took 3.138e-02 seconds\n"
     ]
    }
   ],
   "source": [
    "prob_success, cost, solve_time, optvals =prob.solve_pred(prob_params,solver=cp.GUROBI)"
   ],
   "metadata": {
    "collapsed": false,
    "pycharm": {
     "name": "#%%\n"
    }
   }
  },
  {
   "cell_type": "code",
   "execution_count": 53,
   "outputs": [
    {
     "name": "stdout",
     "output_type": "stream",
     "text": [
      "True\n",
      "0.015626907348632812\n"
     ]
    }
   ],
   "source": [
    "print(prob_success)\n",
    "print(solve_time)"
   ],
   "metadata": {
    "collapsed": false,
    "pycharm": {
     "name": "#%%\n"
    }
   }
  },
  {
   "cell_type": "code",
   "execution_count": 54,
   "outputs": [
    {
     "data": {
      "text/plain": "<Figure size 432x288 with 1 Axes>",
      "image/png": "[encoded data removed]"
     },
     "metadata": {
      "needs_background": "light"
     },
     "output_type": "display_data"
    }
   ],
   "source": [
    "import matplotlib.pyplot as plt\n",
    "Xopt = optvals[0]\n",
    "\n",
    "goal_bounds = list(goal_bounds)    # (xmin, xmax, ymin, ymax)\n",
    "obstacle_bounds = list(scenario.obstacle_bounds)\n",
    "\n",
    "\n",
    "goal  = plt.Rectangle((goal_bounds[0], goal_bounds[2]), \\\n",
    "                                  goal_bounds[1]-goal_bounds[0], goal_bounds[3]-goal_bounds[2], \\\n",
    "                                 fc='white', ec='black')\n",
    "obstacle = plt.Rectangle((obstacle_bounds[0], obstacle_bounds[2]), \\\n",
    "                                  obstacle_bounds[1]-obstacle_bounds[0], obstacle_bounds[3]-obstacle_bounds[2], \\\n",
    "                                 fc='white', ec='black')\n",
    "\n",
    "plt.gca().add_patch(obstacle)\n",
    "plt.gca().add_patch(goal)\n",
    "\n",
    "plt.axis('scaled')\n",
    "\n",
    "\n",
    "x0 = prob_params['x0']\n",
    "circle = plt.Circle((x0[0],x0[1]), 0.04, fc='red',ec=\"red\")\n",
    "plt.gca().add_patch(circle)\n",
    "\n",
    "#blue line is network prediction\n",
    "# plt.plot(xg[0],xg[1],'sr')\n",
    "# plt.quiver(Xopt[0,:], Xopt[1,:], Xopt[2,:], Xopt[3,:])#用箭头表示#\n",
    "for jj in range(N):\n",
    "    circle = plt.Circle((Xopt[0,jj],Xopt[1,jj]), 0.04, fc='black',ec=\"black\")\n",
    "    plt.gca().add_patch(circle)\n",
    "\n",
    "\n",
    "posmin = np.zeros(2)\n",
    "\n",
    "ax = plt.gca()\n",
    "ax.margins(0)\n",
    "ax.set(xlim=(posmin[0],posmax[0]), ylim=(posmin[1],posmax[1]))\n",
    "plt.show()"
   ],
   "metadata": {
    "collapsed": false,
    "pycharm": {
     "name": "#%%\n"
    }
   }
  },
  {
   "cell_type": "code",
   "execution_count": 2,
   "outputs": [],
   "source": [
    "N=25\n",
    "# x0 = np.array([4.0,8.0,0,0])\n",
    "x0 = np.array([2,0.5,0,0])\n",
    "prob_params= {}\n",
    "prob_params['x0'] = x0\n",
    "\n",
    "vmax=1\n",
    "\n",
    "num_obstacles = 1\n",
    "num_groups = 3\n",
    "targets_per_group = 2\n",
    "posmin = np.array([0., 0., -1., -1.])\n",
    "posmax = np.array([10., 10., 1., 1.])\n",
    "max_box_size = 1.2\n",
    "min_box_size = 1\n",
    "box_buffer = 0.025\n",
    "border_size = 0.05\n",
    "\n",
    "\n",
    "scenario = RandomMultitarget(\n",
    "        num_obstacles, num_groups, targets_per_group, N-1,posmin, posmax, \\\n",
    "                    border_size, box_buffer, min_box_size, max_box_size, seed=17)\n",
    "spec = scenario.GetSpecification()\n",
    "spec.simplify()\n",
    "\n",
    "obstacles = scenario.obstacles\n",
    "targets = scenario.targets\n",
    "\n",
    "umax = np.array([0.5, 0.5])\n",
    "\n",
    "\n",
    "Q = 0.001*1e-1*np.diag([0,0,1,1])   # just penalize high velocities\n",
    "R = 0.001*1e-1*np.eye(2)\n",
    "\n",
    "# paraset(N=N,n_obs=num_obstacles, Q=Q,R=R, xmin=posmin, xmax = posmax, vmax=vmax, umax =umax, spec_name= spec_name, obstacles= obstacles, targets=targets)"
   ],
   "metadata": {
    "collapsed": false,
    "pycharm": {
     "name": "#%%\n"
    }
   }
  },
  {
   "cell_type": "code",
   "execution_count": 4,
   "outputs": [],
   "source": [
    "dataset_name = '{}_horizon_{}'.format(scenario.spec_name,N)\n",
    "\n",
    "#加载设置文件地址，config = [dataset_name, prob_params, sampled_params]#\n",
    "relative_path = os.getcwd()\n",
    "config_fn = os.path.join(relative_path, 'config', dataset_name+'.p')\n",
    "\n",
    "config_file = open(config_fn,'rb')\n",
    "config=pickle.load(config_file)\n",
    "\n",
    "dataset_name =  config[0]\n",
    "config_file.close()#读取设置#"
   ],
   "metadata": {
    "collapsed": false,
    "pycharm": {
     "name": "#%%\n"
    }
   }
  },
  {
   "cell_type": "code",
   "execution_count": 5,
   "outputs": [],
   "source": [
    "prob = STL_planner(config=config_fn , spec=spec)\n",
    "prob.init_stl_problem()"
   ],
   "metadata": {
    "collapsed": false,
    "pycharm": {
     "name": "#%%\n"
    }
   }
  },
  {
   "cell_type": "code",
   "execution_count": 6,
   "outputs": [
    {
     "name": "stdout",
     "output_type": "stream",
     "text": [
      "===============================================================================\n",
      "                                     CVXPY                                     \n",
      "                                    v1.1.20                                    \n",
      "===============================================================================\n",
      "(CVXPY) Oct 16 09:00:38 PM: Your problem has 1301 variables, 1998 constraints, and 4 parameters.\n",
      "(CVXPY) Oct 16 09:00:38 PM: It is compliant with the following grammars: DCP, DQCP\n",
      "(CVXPY) Oct 16 09:00:38 PM: CVXPY will first compile your problem; then, it will invoke a numerical solver to obtain a solution.\n",
      "-------------------------------------------------------------------------------\n",
      "                                  Compilation                                  \n",
      "-------------------------------------------------------------------------------\n",
      "(CVXPY) Oct 16 09:00:39 PM: Compiling problem (target solver=GUROBI).\n",
      "(CVXPY) Oct 16 09:00:39 PM: Reduction chain: CvxAttr2Constr -> Qp2SymbolicQp -> QpMatrixStuffing -> GUROBI\n",
      "(CVXPY) Oct 16 09:00:39 PM: Applying reduction CvxAttr2Constr\n",
      "(CVXPY) Oct 16 09:00:39 PM: Applying reduction Qp2SymbolicQp\n",
      "(CVXPY) Oct 16 09:00:40 PM: Applying reduction QpMatrixStuffing\n",
      "(CVXPY) Oct 16 09:00:41 PM: Applying reduction GUROBI\n",
      "(CVXPY) Oct 16 09:00:41 PM: Finished problem compilation (took 2.985e+00 seconds).\n",
      "(CVXPY) Oct 16 09:00:41 PM: (Subsequent compilations of this problem, using the same arguments, should take less time.)\n",
      "-------------------------------------------------------------------------------\n",
      "                                Numerical solver                               \n",
      "-------------------------------------------------------------------------------\n",
      "(CVXPY) Oct 16 09:00:41 PM: Invoking solver GUROBI  to obtain a solution.\n",
      "Academic license - for non-commercial use only - expires 2022-12-22\n",
      "Using license file C:\\Users\\msi\\gurobi.lic\n",
      "Parameter OutputFlag unchanged\n",
      "   Value: 1  Min: 0  Max: 1  Default: 1\n",
      "Changed value of parameter QCPDual to 1\n",
      "   Prev: 0  Min: 0  Max: 1  Default: 0\n",
      "Changed value of parameter Presolve to 1\n",
      "   Prev: -1  Min: -1  Max: 2  Default: -1\n",
      "Changed value of parameter TimeLimit to 60.0\n",
      "   Prev: inf  Min: 0.0  Max: inf  Default: inf\n",
      "Changed value of parameter Threads to 1\n",
      "   Prev: 0  Min: 0  Max: 1024  Default: 0\n",
      "Gurobi Optimizer version 9.1.2 build v9.1.2rc0 (win64)\n",
      "Thread count: 6 physical cores, 12 logical processors, using up to 1 threads\n",
      "Optimize a model with 2546 rows, 1451 columns and 6637 nonzeros\n",
      "Model fingerprint: 0x31decf17\n",
      "Model has 100 quadratic objective terms\n",
      "Variable types: 1358 continuous, 93 integer (93 binary)\n",
      "Coefficient statistics:\n",
      "  Matrix range     [1e+00, 2e+02]\n",
      "  Objective range  [1e+00, 1e+00]\n",
      "  QObjective range [2e-04, 2e-04]\n",
      "  Bounds range     [1e+00, 1e+00]\n",
      "  RHS range        [5e-01, 2e+02]\n",
      "Presolve removed 1788 rows and 1037 columns\n",
      "Presolve time: 0.02s\n",
      "Presolved: 758 rows, 414 columns, 3260 nonzeros\n",
      "Presolved model has 96 quadratic objective terms\n",
      "Variable types: 332 continuous, 82 integer (82 binary)\n",
      "\n",
      "Root relaxation: objective 0.000000e+00, 255 iterations, 0.02 seconds\n",
      "\n",
      "    Nodes    |    Current Node    |     Objective Bounds      |     Work\n",
      " Expl Unexpl |  Obj  Depth IntInf | Incumbent    BestBd   Gap | It/Node Time\n",
      "\n",
      "     0     0    0.00000    0   30          -    0.00000      -     -    0s\n",
      "H    0     0                       0.0007542    0.00000   100%     -    0s\n",
      "     0     0    0.00000    0   33    0.00075    0.00000   100%     -    0s\n",
      "     0     0    0.00000    0   36    0.00075    0.00000   100%     -    0s\n",
      "     0     0    0.00000    0   36    0.00075    0.00000   100%     -    0s\n",
      "     0     0    0.00000    0   38    0.00075    0.00000   100%     -    0s\n",
      "     0     0    0.00000    0   34    0.00075    0.00000   100%     -    0s\n",
      "     0     0    0.00000    0   40    0.00075    0.00000   100%     -    0s\n",
      "     0     2    0.00000    0   40    0.00075    0.00000   100%     -    0s\n",
      "H   54    15                       0.0006735    0.00000   100%  17.1    0s\n",
      "*  101    26              20       0.0006409    0.00000   100%  14.4    0s\n",
      "*  115    25              19       0.0005457    0.00000   100%  14.3    0s\n",
      "*  225    44              28       0.0004690    0.00000   100%  15.5    0s\n",
      "H  262    46                       0.0004680    0.00000   100%  15.5    0s\n",
      "H  278    33                       0.0003001    0.00000   100%  15.4    0s\n",
      "*  281    30              28       0.0002820    0.00000   100%  15.3    0s\n",
      "*  314    31              30       0.0002619    0.00000   100%  14.8    0s\n",
      "H 1018   106                       0.0002611    0.00000   100%  16.3    0s\n",
      "H 1101    90                       0.0002551    0.00000   100%  16.6    1s\n",
      "H 1104    87                       0.0002537    0.00000   100%  16.5    1s\n",
      "H 1239    94                       0.0002531    0.00000   100%  16.0    1s\n",
      "H 1242    96                       0.0002526    0.00000   100%  16.1    1s\n",
      "H 1651   118                       0.0002520    0.00000   100%  17.1    1s\n",
      "H 3423   128                       0.0002520    0.00000   100%  18.2    4s\n",
      "  3885   144    0.00009   22   25    0.00025    0.00000   100%  18.6    5s\n",
      "\n",
      "Cutting planes:\n",
      "  Gomory: 1\n",
      "  Implied bound: 2\n",
      "  MIR: 5\n",
      "  Flow cover: 7\n",
      "  Relax-and-lift: 2\n",
      "\n",
      "Explored 11583 nodes (154705 simplex iterations) in 9.63 seconds\n",
      "Thread count was 1 (of 12 available processors)\n",
      "\n",
      "Solution count 10: 0.000251985 0.000251999 0.000252611 ... 0.000300149\n",
      "\n",
      "Optimal solution found (tolerance 1.00e-04)\n",
      "Best objective 2.519847075288e-04, best bound 2.519847075288e-04, gap 0.0000%\n",
      "-------------------------------------------------------------------------------\n",
      "                                    Summary                                    \n",
      "-------------------------------------------------------------------------------\n",
      "(CVXPY) Oct 16 09:00:51 PM: Problem status: optimal\n",
      "(CVXPY) Oct 16 09:00:51 PM: Optimal value: 2.520e-04\n",
      "(CVXPY) Oct 16 09:00:51 PM: Compilation took 2.985e+00 seconds\n",
      "(CVXPY) Oct 16 09:00:51 PM: Solver (including time spent in interface) took 9.675e+00 seconds\n"
     ]
    }
   ],
   "source": [
    "prob_success, cost, solve_time,integer, vector, optvals =prob.solve_stl(prob_params,solver=cp.GUROBI)"
   ],
   "metadata": {
    "collapsed": false,
    "pycharm": {
     "name": "#%%\n"
    }
   }
  },
  {
   "cell_type": "code",
   "execution_count": 7,
   "outputs": [
    {
     "name": "stdout",
     "output_type": "stream",
     "text": [
      "True\n",
      "9.644067764282227\n"
     ]
    }
   ],
   "source": [
    "print(prob_success)\n",
    "print(solve_time)"
   ],
   "metadata": {
    "collapsed": false,
    "pycharm": {
     "name": "#%%\n"
    }
   }
  },
  {
   "cell_type": "code",
   "execution_count": 8,
   "outputs": [
    {
     "data": {
      "text/plain": "<Figure size 432x288 with 1 Axes>",
      "image/png": "[encoded data removed]"
     },
     "metadata": {
      "needs_background": "light"
     },
     "output_type": "display_data"
    }
   ],
   "source": [
    "import matplotlib.pyplot as plt\n",
    "Xopt = optvals[0]\n",
    "\n",
    "colors = ['green','yellow','blue','grey','orange']\n",
    "for i in range(len(scenario.targets)):\n",
    "    color = colors[i]\n",
    "    for j in range(scenario.targets_per_group):\n",
    "        target_bounds = list(scenario.targets[i][j])\n",
    "        targets_bounds = plt.Rectangle((target_bounds[0], target_bounds[2]), \\\n",
    "                                  target_bounds[1]-target_bounds[0], target_bounds[3]-target_bounds[2], \\\n",
    "                                 fc=color, ec='black')\n",
    "        plt.gca().add_patch(targets_bounds)\n",
    "        plt.axis('scaled')\n",
    "\n",
    "for i in range(len(scenario.obstacles)):\n",
    "    obstacle_bounds = list(scenario.obstacles[i])\n",
    "    obstacle = plt.Rectangle((obstacle_bounds[0], obstacle_bounds[2]), \\\n",
    "                                  obstacle_bounds[1]-obstacle_bounds[0], obstacle_bounds[3]-obstacle_bounds[2], \\\n",
    "                                 fc='white', ec='black')\n",
    "    plt.gca().add_patch(obstacle)\n",
    "\n",
    "x0 = prob_params['x0']\n",
    "circle = plt.Circle((x0[0],x0[1]), 0.04, fc='red',ec=\"red\")\n",
    "plt.gca().add_patch(circle)\n",
    "\n",
    "#blue line is network prediction\n",
    "# plt.plot(xg[0],xg[1],'sr')\n",
    "# plt.quiver(Xopt[0,:], Xopt[1,:], Xopt[2,:], Xopt[3,:])#用箭头表示#\n",
    "for jj in range(N):\n",
    "    circle = plt.Circle((Xopt[0,jj],Xopt[1,jj]), 0.1, fc='black',ec=\"black\")\n",
    "    plt.gca().add_patch(circle)\n",
    "\n",
    "\n",
    "posmin = np.zeros(2)\n",
    "\n",
    "ax = plt.gca()\n",
    "ax.margins(0)\n",
    "ax.set(xlim=(posmin[0],posmax[0]), ylim=(posmin[1],posmax[1]))\n",
    "plt.show()"
   ],
   "metadata": {
    "collapsed": false,
    "pycharm": {
     "name": "#%%\n"
    }
   }
  },
  {
   "cell_type": "code",
   "execution_count": 9,
   "outputs": [],
   "source": [
    "prob.init_pred_problem(vector)"
   ],
   "metadata": {
    "collapsed": false,
    "pycharm": {
     "name": "#%%\n"
    }
   }
  },
  {
   "cell_type": "code",
   "execution_count": 10,
   "outputs": [
    {
     "name": "stdout",
     "output_type": "stream",
     "text": [
      "===============================================================================\n",
      "                                     CVXPY                                     \n",
      "                                    v1.1.20                                    \n",
      "===============================================================================\n",
      "(CVXPY) Oct 16 09:00:56 PM: Your problem has 342 variables, 227 constraints, and 4 parameters.\n",
      "(CVXPY) Oct 16 09:00:56 PM: It is compliant with the following grammars: DCP, DQCP\n",
      "(CVXPY) Oct 16 09:00:56 PM: CVXPY will first compile your problem; then, it will invoke a numerical solver to obtain a solution.\n",
      "-------------------------------------------------------------------------------\n",
      "                                  Compilation                                  \n",
      "-------------------------------------------------------------------------------\n",
      "(CVXPY) Oct 16 09:00:56 PM: Compiling problem (target solver=GUROBI).\n",
      "(CVXPY) Oct 16 09:00:56 PM: Reduction chain: CvxAttr2Constr -> Qp2SymbolicQp -> QpMatrixStuffing -> GUROBI\n",
      "(CVXPY) Oct 16 09:00:56 PM: Applying reduction CvxAttr2Constr\n",
      "(CVXPY) Oct 16 09:00:56 PM: Applying reduction Qp2SymbolicQp\n",
      "(CVXPY) Oct 16 09:00:56 PM: Applying reduction QpMatrixStuffing\n",
      "(CVXPY) Oct 16 09:00:56 PM: Applying reduction GUROBI\n",
      "(CVXPY) Oct 16 09:00:56 PM: Finished problem compilation (took 1.719e-01 seconds).\n",
      "(CVXPY) Oct 16 09:00:56 PM: (Subsequent compilations of this problem, using the same arguments, should take less time.)\n",
      "-------------------------------------------------------------------------------\n",
      "                                Numerical solver                               \n",
      "-------------------------------------------------------------------------------\n",
      "(CVXPY) Oct 16 09:00:56 PM: Invoking solver GUROBI  to obtain a solution.\n",
      "Parameter OutputFlag unchanged\n",
      "   Value: 1  Min: 0  Max: 1  Default: 1\n",
      "Changed value of parameter QCPDual to 1\n",
      "   Prev: 0  Min: 0  Max: 1  Default: 0\n",
      "Changed value of parameter Presolve to 1\n",
      "   Prev: -1  Min: -1  Max: 2  Default: -1\n",
      "Changed value of parameter TimeLimit to 60.0\n",
      "   Prev: inf  Min: 0.0  Max: inf  Default: inf\n",
      "Changed value of parameter Threads to 1\n",
      "   Prev: 0  Min: 0  Max: 1024  Default: 0\n",
      "Gurobi Optimizer version 9.1.2 build v9.1.2rc0 (win64)\n",
      "Thread count: 6 physical cores, 12 logical processors, using up to 1 threads\n",
      "Optimize a model with 775 rows, 492 columns and 1344 nonzeros\n",
      "Model fingerprint: 0x34d384d0\n",
      "Model has 100 quadratic objective terms\n",
      "Coefficient statistics:\n",
      "  Matrix range     [1e+00, 2e+02]\n",
      "  Objective range  [1e+00, 1e+00]\n",
      "  QObjective range [2e-04, 2e-04]\n",
      "  Bounds range     [0e+00, 0e+00]\n",
      "  RHS range        [5e-01, 2e+02]\n",
      "Presolve removed 697 rows and 366 columns\n",
      "Presolve time: 0.02s\n",
      "Presolved: 78 rows, 126 columns, 246 nonzeros\n",
      "Presolved model has 96 quadratic objective terms\n",
      "Ordering time: 0.00s\n",
      "\n",
      "Barrier statistics:\n",
      " AA' NZ     : 1.500e+02\n",
      " Factor NZ  : 1.100e+03\n",
      " Factor Ops : 2.168e+04 (less than 1 second per iteration)\n",
      " Threads    : 1\n",
      "\n",
      "                  Objective                Residual\n",
      "Iter       Primal          Dual         Primal    Dual     Compl     Time\n",
      "   0   3.93217421e+07 -3.93267596e+07  6.00e+03 7.91e+02  9.61e+05     0s\n",
      "   1   4.48148956e+04 -4.92007966e+04  1.92e+02 2.53e+01  3.08e+04     0s\n",
      "   2   3.61478306e-01 -4.36061338e+03  5.30e-01 6.99e-02  1.02e+02     0s\n",
      "   3   1.29176831e-03 -2.84202391e+03  1.17e-02 1.55e-03  1.29e+01     0s\n",
      "   4   7.25137427e-04 -8.26863007e+01  4.40e-05 5.80e-06  3.28e-01     0s\n",
      "   5   7.23429154e-04 -1.06878998e-01  5.72e-08 7.55e-09  4.27e-04     0s\n",
      "   6   6.86234098e-04 -2.83543366e-02  1.50e-08 1.97e-09  1.15e-04     0s\n",
      "   7   4.77777419e-04 -8.49558097e-03  1.35e-09 1.78e-10  3.56e-05     0s\n",
      "   8   3.21376843e-04 -7.69279299e-04  1.66e-13 2.19e-14  4.33e-06     0s\n",
      "   9   2.57056577e-04  1.03512011e-04  1.30e-15 1.77e-16  6.09e-07     0s\n",
      "  10   2.52268471e-04  2.35500820e-04  3.40e-16 2.08e-17  6.65e-08     0s\n",
      "  11   2.51992107e-04  2.51838134e-04  2.08e-16 3.47e-18  6.11e-10     0s\n",
      "  12   2.51984715e-04  2.51984544e-04  3.03e-15 3.47e-18  6.77e-13     0s\n",
      "\n",
      "Barrier solved model in 12 iterations and 0.03 seconds\n",
      "Optimal objective 2.51984715e-04\n",
      "\n",
      "-------------------------------------------------------------------------------\n",
      "                                    Summary                                    \n",
      "-------------------------------------------------------------------------------\n",
      "(CVXPY) Oct 16 09:00:56 PM: Problem status: optimal\n",
      "(CVXPY) Oct 16 09:00:56 PM: Optimal value: 2.520e-04\n",
      "(CVXPY) Oct 16 09:00:56 PM: Compilation took 1.719e-01 seconds\n",
      "(CVXPY) Oct 16 09:00:56 PM: Solver (including time spent in interface) took 6.250e-02 seconds\n"
     ]
    }
   ],
   "source": [
    "prob_success, cost, solve_time,optvals =prob.solve_pred(prob_params,solver=cp.GUROBI)"
   ],
   "metadata": {
    "collapsed": false,
    "pycharm": {
     "name": "#%%\n"
    }
   }
  },
  {
   "cell_type": "code",
   "execution_count": 11,
   "outputs": [
    {
     "name": "stdout",
     "output_type": "stream",
     "text": [
      "True\n",
      "0.046871185302734375\n"
     ]
    }
   ],
   "source": [
    "print(prob_success)\n",
    "print(solve_time)"
   ],
   "metadata": {
    "collapsed": false,
    "pycharm": {
     "name": "#%%\n"
    }
   }
  },
  {
   "cell_type": "code",
   "execution_count": 12,
   "outputs": [
    {
     "data": {
      "text/plain": "<Figure size 432x288 with 1 Axes>",
      "image/png": "[encoded data removed]"
     },
     "metadata": {
      "needs_background": "light"
     },
     "output_type": "display_data"
    }
   ],
   "source": [
    "import matplotlib.pyplot as plt\n",
    "Xopt = optvals[0]\n",
    "\n",
    "colors = ['green','yellow','blue','grey','orange']\n",
    "for i in range(len(scenario.targets)):\n",
    "    color = colors[i]\n",
    "    for j in range(scenario.targets_per_group):\n",
    "        target_bounds = list(scenario.targets[i][j])\n",
    "        targets_bounds = plt.Rectangle((target_bounds[0], target_bounds[2]), \\\n",
    "                                  target_bounds[1]-target_bounds[0], target_bounds[3]-target_bounds[2], \\\n",
    "                                 fc=color, ec='black')\n",
    "        plt.gca().add_patch(targets_bounds)\n",
    "        plt.axis('scaled')\n",
    "\n",
    "for i in range(len(scenario.obstacles)):\n",
    "    obstacle_bounds = list(scenario.obstacles[i])\n",
    "    obstacle = plt.Rectangle((obstacle_bounds[0], obstacle_bounds[2]), \\\n",
    "                                  obstacle_bounds[1]-obstacle_bounds[0], obstacle_bounds[3]-obstacle_bounds[2], \\\n",
    "                                 fc='white', ec='black')\n",
    "    plt.gca().add_patch(obstacle)\n",
    "\n",
    "x0 = prob_params['x0']\n",
    "circle = plt.Circle((x0[0],x0[1]), 0.04, fc='red',ec=\"red\")\n",
    "plt.gca().add_patch(circle)\n",
    "\n",
    "#blue line is network prediction\n",
    "# plt.plot(xg[0],xg[1],'sr')\n",
    "# plt.quiver(Xopt[0,:], Xopt[1,:], Xopt[2,:], Xopt[3,:])#用箭头表示#\n",
    "for jj in range(N):\n",
    "    circle = plt.Circle((Xopt[0,jj],Xopt[1,jj]), 0.1, fc='black',ec=\"black\")\n",
    "    plt.gca().add_patch(circle)\n",
    "\n",
    "\n",
    "posmin = np.zeros(2)\n",
    "\n",
    "ax = plt.gca()\n",
    "ax.margins(0)\n",
    "ax.set(xlim=(posmin[0],posmax[0]), ylim=(posmin[1],posmax[1]))\n",
    "plt.show()"
   ],
   "metadata": {
    "collapsed": false,
    "pycharm": {
     "name": "#%%\n"
    }
   }
  },
  {
   "cell_type": "markdown",
   "source": [
    "## Sampling"
   ],
   "metadata": {
    "collapsed": false,
    "pycharm": {
     "name": "#%% md\n"
    }
   }
  },
  {
   "cell_type": "code",
   "execution_count": 13,
   "outputs": [],
   "source": [
    "N=25\n",
    "# x0 = np.array([2.0,8.0,0,0])\n",
    "# prob_params= {}\n",
    "# prob_params['x0'] = x0\n",
    "\n",
    "vmax=1\n",
    "num_obstacles = 1\n",
    "num_groups = 3\n",
    "targets_per_group = 2\n",
    "posmin = np.array([0., 0., -1., -1.])\n",
    "posmax = np.array([10., 10., 1., 1.])\n",
    "max_box_size = 1.2\n",
    "min_box_size = 1\n",
    "box_buffer = 0.025\n",
    "border_size = 0.05\n",
    "\n",
    "scenario = RandomMultitarget(\n",
    "        num_obstacles, num_groups, targets_per_group, N-1,posmin, posmax, \\\n",
    "                    border_size, box_buffer, min_box_size, max_box_size, seed=17)\n",
    "spec = scenario.GetSpecification()\n",
    "\n",
    "spec.simplify()\n",
    "\n",
    "obstacles = scenario.obstacles\n",
    "targets = scenario.targets\n",
    "\n",
    "umax = np.array([0.5, 0.5])\n",
    "\n",
    "\n",
    "Q = 0.001*1e-1*np.diag([0,0,1,1])   # just penalize high velocities\n",
    "R = 0.001*1e-1*np.eye(2)\n",
    "\n",
    "# paraset(N=N,n_obs=num_obstacles, Q=Q,R=R, xmin=posmin, xmax = posmax, vmax=vmax, umax =umax, spec_name= spec_name, obstacles= obstacles, targets=targets, num_probs=10000)"
   ],
   "metadata": {
    "collapsed": false,
    "pycharm": {
     "name": "#%%\n"
    }
   }
  },
  {
   "cell_type": "code",
   "execution_count": 14,
   "outputs": [],
   "source": [
    "dataset_name = '{}_horizon_{}'.format(scenario.spec_name,N)\n",
    "\n",
    "#加载设置文件地址，config = [dataset_name, prob_params, sampled_params]#\n",
    "relative_path = os.getcwd()\n",
    "config_fn = os.path.join(relative_path, 'config', dataset_name+'.p')\n",
    "\n",
    "config_file = open(config_fn,'rb')\n",
    "config=pickle.load(config_file)\n",
    "\n",
    "dataset_name =  config[0]\n",
    "config_file.close()#读取设置#\n",
    "\n",
    "prob = STL_planner(config=config_fn , spec=spec)\n",
    "prob.init_stl_problem()\n",
    "num_probs = config[4]\n",
    "sampled_params = config[2]\n",
    "params = {}\n",
    "if 'x0' in sampled_params:\n",
    "    params['x0'] = np.zeros((num_probs,4))\n",
    "# if 'xg' in sampled_params:\n",
    "#     params['xg'] = np.zeros((num_probs,4))\n",
    "# if 'obstacles' in sampled_params:\n",
    "#     params['obstacles'] = np.zeros((num_probs, 4, n_obs))\n",
    "\n",
    "rec = []\n",
    "for i in range(len(config[-1])):\n",
    "    for j in range(len(config[-1][0])):\n",
    "        rec.append(config[-1][i][j])\n",
    "for i in range(len(config[-2])):\n",
    "    rec.append(config[-2][i])\n",
    "\n",
    "border_size = config[-12]\n",
    "box_buffer = config[-11]\n",
    "min_box_size = config[-10]\n",
    "max_box_size = config[-9]\n",
    "posmin = config[-8]\n",
    "posmax = config[-7]\n",
    "velmin = config[-6]\n",
    "velmax = config[-5]\n",
    "# num_probs =config[4]\n",
    "\n",
    "X = np.zeros((num_probs, 4, N));\n",
    "U = np.zeros((num_probs, 2, N))\n",
    "Y = np.zeros((num_probs, 6, N)).astype(int)\n",
    "\n",
    "costs = np.zeros(num_probs)\n",
    "solve_times = np.zeros(num_probs)\n",
    "\n",
    "integer_data = []\n",
    "for i in range(num_probs):\n",
    "    integer_data.append(0)\n",
    "\n",
    "vector_data = []\n",
    "for i in range(num_probs):\n",
    "    vector_data.append(0)"
   ],
   "metadata": {
    "collapsed": false,
    "pycharm": {
     "name": "#%%\n"
    }
   }
  },
  {
   "cell_type": "code",
   "execution_count": 18,
   "outputs": [
    {
     "name": "stderr",
     "output_type": "stream",
     "text": [
      "  0%|          | 0/10000 [00:02<?, ?it/s]\n"
     ]
    },
    {
     "ename": "KeyboardInterrupt",
     "evalue": "",
     "output_type": "error",
     "traceback": [
      "\u001B[1;31m---------------------------------------------------------------------------\u001B[0m",
      "\u001B[1;31mKeyboardInterrupt\u001B[0m                         Traceback (most recent call last)",
      "\u001B[1;32m<ipython-input-18-48de75de45e8>\u001B[0m in \u001B[0;36m<module>\u001B[1;34m\u001B[0m\n\u001B[0;32m     25\u001B[0m     \u001B[1;32mtry\u001B[0m\u001B[1;33m:\u001B[0m\u001B[1;33m\u001B[0m\u001B[1;33m\u001B[0m\u001B[0m\n\u001B[0;32m     26\u001B[0m         \u001B[1;31m# with time_limit(20):\u001B[0m\u001B[1;33m\u001B[0m\u001B[1;33m\u001B[0m\u001B[1;33m\u001B[0m\u001B[0m\n\u001B[1;32m---> 27\u001B[1;33m         \u001B[0mprob_success\u001B[0m\u001B[1;33m,\u001B[0m \u001B[0mcost\u001B[0m\u001B[1;33m,\u001B[0m \u001B[0msolve_time\u001B[0m\u001B[1;33m,\u001B[0m \u001B[0minteger\u001B[0m\u001B[1;33m,\u001B[0m \u001B[0mvector\u001B[0m\u001B[1;33m,\u001B[0m \u001B[0moptvals\u001B[0m \u001B[1;33m=\u001B[0m \u001B[0mprob\u001B[0m\u001B[1;33m.\u001B[0m\u001B[0msolve_stl\u001B[0m\u001B[1;33m(\u001B[0m\u001B[0mp_dict\u001B[0m\u001B[1;33m,\u001B[0m \u001B[0msolver\u001B[0m\u001B[1;33m=\u001B[0m\u001B[0mcp\u001B[0m\u001B[1;33m.\u001B[0m\u001B[0mGUROBI\u001B[0m\u001B[1;33m)\u001B[0m\u001B[1;33m\u001B[0m\u001B[1;33m\u001B[0m\u001B[0m\n\u001B[0m\u001B[0;32m     28\u001B[0m     \u001B[1;32mexcept\u001B[0m \u001B[1;33m(\u001B[0m\u001B[0mKeyboardInterrupt\u001B[0m\u001B[1;33m,\u001B[0m \u001B[0mSystemExit\u001B[0m\u001B[1;33m)\u001B[0m\u001B[1;33m:\u001B[0m\u001B[1;33m\u001B[0m\u001B[1;33m\u001B[0m\u001B[0m\n\u001B[0;32m     29\u001B[0m         \u001B[1;32mraise\u001B[0m\u001B[1;33m\u001B[0m\u001B[1;33m\u001B[0m\u001B[0m\n",
      "\u001B[1;32mD:\\Curious\\OMISTL\\stlpy\\STL\\stl_planner.py\u001B[0m in \u001B[0;36msolve_stl\u001B[1;34m(self, params, solver, msk_param_dict)\u001B[0m\n\u001B[0;32m    160\u001B[0m             \u001B[1;32mwith\u001B[0m \u001B[0mopen\u001B[0m\u001B[1;33m(\u001B[0m\u001B[0mos\u001B[0m\u001B[1;33m.\u001B[0m\u001B[0mpath\u001B[0m\u001B[1;33m.\u001B[0m\u001B[0mjoin\u001B[0m\u001B[1;33m(\u001B[0m\u001B[0mrel_path\u001B[0m\u001B[1;33m,\u001B[0m \u001B[1;34m'config/gurobi.yaml'\u001B[0m\u001B[1;33m)\u001B[0m\u001B[1;33m)\u001B[0m \u001B[1;32mas\u001B[0m \u001B[0mfile\u001B[0m\u001B[1;33m:\u001B[0m\u001B[1;33m\u001B[0m\u001B[1;33m\u001B[0m\u001B[0m\n\u001B[0;32m    161\u001B[0m                 \u001B[0mgrb_param_dict\u001B[0m \u001B[1;33m=\u001B[0m \u001B[0myaml\u001B[0m\u001B[1;33m.\u001B[0m\u001B[0mload\u001B[0m\u001B[1;33m(\u001B[0m\u001B[0mfile\u001B[0m\u001B[1;33m,\u001B[0m \u001B[0mLoader\u001B[0m\u001B[1;33m=\u001B[0m\u001B[0myaml\u001B[0m\u001B[1;33m.\u001B[0m\u001B[0mFullLoader\u001B[0m\u001B[1;33m)\u001B[0m\u001B[1;33m\u001B[0m\u001B[1;33m\u001B[0m\u001B[0m\n\u001B[1;32m--> 162\u001B[1;33m                 \u001B[0mself\u001B[0m\u001B[1;33m.\u001B[0m\u001B[0mstl_prob\u001B[0m\u001B[1;33m.\u001B[0m\u001B[0msolve\u001B[0m\u001B[1;33m(\u001B[0m\u001B[0msolver\u001B[0m\u001B[1;33m=\u001B[0m\u001B[0msolver\u001B[0m\u001B[1;33m,\u001B[0m \u001B[1;33m**\u001B[0m\u001B[0mgrb_param_dict\u001B[0m\u001B[1;33m,\u001B[0m \u001B[0mverbose\u001B[0m\u001B[1;33m=\u001B[0m\u001B[1;32mFalse\u001B[0m\u001B[1;33m)\u001B[0m\u001B[1;33m\u001B[0m\u001B[1;33m\u001B[0m\u001B[0m\n\u001B[0m\u001B[0;32m    163\u001B[0m \u001B[1;33m\u001B[0m\u001B[0m\n\u001B[0;32m    164\u001B[0m         \u001B[1;31m# solve_time = self.bin_prob.solver_stats.solve_time\u001B[0m\u001B[1;33m\u001B[0m\u001B[1;33m\u001B[0m\u001B[1;33m\u001B[0m\u001B[0m\n",
      "\u001B[1;32m~\\anaconda3\\envs\\coco\\lib\\site-packages\\cvxpy\\problems\\problem.py\u001B[0m in \u001B[0;36msolve\u001B[1;34m(self, *args, **kwargs)\u001B[0m\n\u001B[0;32m    471\u001B[0m         \u001B[1;32melse\u001B[0m\u001B[1;33m:\u001B[0m\u001B[1;33m\u001B[0m\u001B[1;33m\u001B[0m\u001B[0m\n\u001B[0;32m    472\u001B[0m             \u001B[0msolve_func\u001B[0m \u001B[1;33m=\u001B[0m \u001B[0mProblem\u001B[0m\u001B[1;33m.\u001B[0m\u001B[0m_solve\u001B[0m\u001B[1;33m\u001B[0m\u001B[1;33m\u001B[0m\u001B[0m\n\u001B[1;32m--> 473\u001B[1;33m         \u001B[1;32mreturn\u001B[0m \u001B[0msolve_func\u001B[0m\u001B[1;33m(\u001B[0m\u001B[0mself\u001B[0m\u001B[1;33m,\u001B[0m \u001B[1;33m*\u001B[0m\u001B[0margs\u001B[0m\u001B[1;33m,\u001B[0m \u001B[1;33m**\u001B[0m\u001B[0mkwargs\u001B[0m\u001B[1;33m)\u001B[0m\u001B[1;33m\u001B[0m\u001B[1;33m\u001B[0m\u001B[0m\n\u001B[0m\u001B[0;32m    474\u001B[0m \u001B[1;33m\u001B[0m\u001B[0m\n\u001B[0;32m    475\u001B[0m     \u001B[1;33m@\u001B[0m\u001B[0mclassmethod\u001B[0m\u001B[1;33m\u001B[0m\u001B[1;33m\u001B[0m\u001B[0m\n",
      "\u001B[1;32m~\\anaconda3\\envs\\coco\\lib\\site-packages\\cvxpy\\problems\\problem.py\u001B[0m in \u001B[0;36m_solve\u001B[1;34m(self, solver, warm_start, verbose, gp, qcp, requires_grad, enforce_dpp, **kwargs)\u001B[0m\n\u001B[0;32m    969\u001B[0m \u001B[1;33m\u001B[0m\u001B[0m\n\u001B[0;32m    970\u001B[0m         data, solving_chain, inverse_data = self.get_problem_data(\n\u001B[1;32m--> 971\u001B[1;33m             solver, gp, enforce_dpp, verbose)\n\u001B[0m\u001B[0;32m    972\u001B[0m \u001B[1;33m\u001B[0m\u001B[0m\n\u001B[0;32m    973\u001B[0m         \u001B[1;32mif\u001B[0m \u001B[0mverbose\u001B[0m\u001B[1;33m:\u001B[0m\u001B[1;33m\u001B[0m\u001B[1;33m\u001B[0m\u001B[0m\n",
      "\u001B[1;32m~\\anaconda3\\envs\\coco\\lib\\site-packages\\cvxpy\\problems\\problem.py\u001B[0m in \u001B[0;36mget_problem_data\u001B[1;34m(self, solver, gp, enforce_dpp, verbose)\u001B[0m\n\u001B[0;32m    625\u001B[0m                          'Compiling problem (target solver=%s).', solver_name)\n\u001B[0;32m    626\u001B[0m                 \u001B[0ms\u001B[0m\u001B[1;33m.\u001B[0m\u001B[0mLOGGER\u001B[0m\u001B[1;33m.\u001B[0m\u001B[0minfo\u001B[0m\u001B[1;33m(\u001B[0m\u001B[1;34m'Reduction chain: %s'\u001B[0m\u001B[1;33m,\u001B[0m \u001B[0mreduction_chain_str\u001B[0m\u001B[1;33m)\u001B[0m\u001B[1;33m\u001B[0m\u001B[1;33m\u001B[0m\u001B[0m\n\u001B[1;32m--> 627\u001B[1;33m             \u001B[0mdata\u001B[0m\u001B[1;33m,\u001B[0m \u001B[0minverse_data\u001B[0m \u001B[1;33m=\u001B[0m \u001B[0msolving_chain\u001B[0m\u001B[1;33m.\u001B[0m\u001B[0mapply\u001B[0m\u001B[1;33m(\u001B[0m\u001B[0mself\u001B[0m\u001B[1;33m,\u001B[0m \u001B[0mverbose\u001B[0m\u001B[1;33m)\u001B[0m\u001B[1;33m\u001B[0m\u001B[1;33m\u001B[0m\u001B[0m\n\u001B[0m\u001B[0;32m    628\u001B[0m             safe_to_cache = (\n\u001B[0;32m    629\u001B[0m                 \u001B[0misinstance\u001B[0m\u001B[1;33m(\u001B[0m\u001B[0mdata\u001B[0m\u001B[1;33m,\u001B[0m \u001B[0mdict\u001B[0m\u001B[1;33m)\u001B[0m\u001B[1;33m\u001B[0m\u001B[1;33m\u001B[0m\u001B[0m\n",
      "\u001B[1;32m~\\anaconda3\\envs\\coco\\lib\\site-packages\\cvxpy\\reductions\\chain.py\u001B[0m in \u001B[0;36mapply\u001B[1;34m(self, problem, verbose)\u001B[0m\n\u001B[0;32m     74\u001B[0m             \u001B[1;32mif\u001B[0m \u001B[0mverbose\u001B[0m\u001B[1;33m:\u001B[0m\u001B[1;33m\u001B[0m\u001B[1;33m\u001B[0m\u001B[0m\n\u001B[0;32m     75\u001B[0m                 \u001B[0ms\u001B[0m\u001B[1;33m.\u001B[0m\u001B[0mLOGGER\u001B[0m\u001B[1;33m.\u001B[0m\u001B[0minfo\u001B[0m\u001B[1;33m(\u001B[0m\u001B[1;34m'Applying reduction %s'\u001B[0m\u001B[1;33m,\u001B[0m \u001B[0mtype\u001B[0m\u001B[1;33m(\u001B[0m\u001B[0mr\u001B[0m\u001B[1;33m)\u001B[0m\u001B[1;33m.\u001B[0m\u001B[0m__name__\u001B[0m\u001B[1;33m)\u001B[0m\u001B[1;33m\u001B[0m\u001B[1;33m\u001B[0m\u001B[0m\n\u001B[1;32m---> 76\u001B[1;33m             \u001B[0mproblem\u001B[0m\u001B[1;33m,\u001B[0m \u001B[0minv\u001B[0m \u001B[1;33m=\u001B[0m \u001B[0mr\u001B[0m\u001B[1;33m.\u001B[0m\u001B[0mapply\u001B[0m\u001B[1;33m(\u001B[0m\u001B[0mproblem\u001B[0m\u001B[1;33m)\u001B[0m\u001B[1;33m\u001B[0m\u001B[1;33m\u001B[0m\u001B[0m\n\u001B[0m\u001B[0;32m     77\u001B[0m             \u001B[0minverse_data\u001B[0m\u001B[1;33m.\u001B[0m\u001B[0mappend\u001B[0m\u001B[1;33m(\u001B[0m\u001B[0minv\u001B[0m\u001B[1;33m)\u001B[0m\u001B[1;33m\u001B[0m\u001B[1;33m\u001B[0m\u001B[0m\n\u001B[0;32m     78\u001B[0m         \u001B[1;32mreturn\u001B[0m \u001B[0mproblem\u001B[0m\u001B[1;33m,\u001B[0m \u001B[0minverse_data\u001B[0m\u001B[1;33m\u001B[0m\u001B[1;33m\u001B[0m\u001B[0m\n",
      "\u001B[1;32m~\\anaconda3\\envs\\coco\\lib\\site-packages\\cvxpy\\reductions\\qp2quad_form\\qp_matrix_stuffing.py\u001B[0m in \u001B[0;36mapply\u001B[1;34m(self, problem)\u001B[0m\n\u001B[0;32m    278\u001B[0m         \u001B[1;31m# Batch expressions together, then split apart.\u001B[0m\u001B[1;33m\u001B[0m\u001B[1;33m\u001B[0m\u001B[1;33m\u001B[0m\u001B[0m\n\u001B[0;32m    279\u001B[0m         \u001B[0mexpr_list\u001B[0m \u001B[1;33m=\u001B[0m \u001B[1;33m[\u001B[0m\u001B[0marg\u001B[0m \u001B[1;32mfor\u001B[0m \u001B[0mc\u001B[0m \u001B[1;32min\u001B[0m \u001B[0mordered_cons\u001B[0m \u001B[1;32mfor\u001B[0m \u001B[0marg\u001B[0m \u001B[1;32min\u001B[0m \u001B[0mc\u001B[0m\u001B[1;33m.\u001B[0m\u001B[0margs\u001B[0m\u001B[1;33m]\u001B[0m\u001B[1;33m\u001B[0m\u001B[1;33m\u001B[0m\u001B[0m\n\u001B[1;32m--> 280\u001B[1;33m         \u001B[0mparams_to_Ab\u001B[0m \u001B[1;33m=\u001B[0m \u001B[0mextractor\u001B[0m\u001B[1;33m.\u001B[0m\u001B[0maffine\u001B[0m\u001B[1;33m(\u001B[0m\u001B[0mexpr_list\u001B[0m\u001B[1;33m)\u001B[0m\u001B[1;33m\u001B[0m\u001B[1;33m\u001B[0m\u001B[0m\n\u001B[0m\u001B[0;32m    281\u001B[0m \u001B[1;33m\u001B[0m\u001B[0m\n\u001B[0;32m    282\u001B[0m         \u001B[0minverse_data\u001B[0m\u001B[1;33m.\u001B[0m\u001B[0mminimize\u001B[0m \u001B[1;33m=\u001B[0m \u001B[0mtype\u001B[0m\u001B[1;33m(\u001B[0m\u001B[0mproblem\u001B[0m\u001B[1;33m.\u001B[0m\u001B[0mobjective\u001B[0m\u001B[1;33m)\u001B[0m \u001B[1;33m==\u001B[0m \u001B[0mMinimize\u001B[0m\u001B[1;33m\u001B[0m\u001B[1;33m\u001B[0m\u001B[0m\n",
      "\u001B[1;32m~\\anaconda3\\envs\\coco\\lib\\site-packages\\cvxpy\\utilities\\coeff_extractor.py\u001B[0m in \u001B[0;36maffine\u001B[1;34m(self, expr)\u001B[0m\n\u001B[0;32m     86\u001B[0m                                                  \u001B[0mself\u001B[0m\u001B[1;33m.\u001B[0m\u001B[0mparam_to_size\u001B[0m\u001B[1;33m,\u001B[0m\u001B[1;33m\u001B[0m\u001B[1;33m\u001B[0m\u001B[0m\n\u001B[0;32m     87\u001B[0m                                                  \u001B[0mself\u001B[0m\u001B[1;33m.\u001B[0m\u001B[0mparam_id_map\u001B[0m\u001B[1;33m,\u001B[0m\u001B[1;33m\u001B[0m\u001B[1;33m\u001B[0m\u001B[0m\n\u001B[1;32m---> 88\u001B[1;33m                                                  num_rows)\n\u001B[0m\u001B[0;32m     89\u001B[0m \u001B[1;33m\u001B[0m\u001B[0m\n\u001B[0;32m     90\u001B[0m     \u001B[1;32mdef\u001B[0m \u001B[0mextract_quadratic_coeffs\u001B[0m\u001B[1;33m(\u001B[0m\u001B[0mself\u001B[0m\u001B[1;33m,\u001B[0m \u001B[0maffine_expr\u001B[0m\u001B[1;33m,\u001B[0m \u001B[0mquad_forms\u001B[0m\u001B[1;33m)\u001B[0m\u001B[1;33m:\u001B[0m\u001B[1;33m\u001B[0m\u001B[1;33m\u001B[0m\u001B[0m\n",
      "\u001B[1;32m~\\anaconda3\\envs\\coco\\lib\\site-packages\\cvxpy\\cvxcore\\python\\canonInterface.py\u001B[0m in \u001B[0;36mget_problem_matrix\u001B[1;34m(linOps, var_length, id_to_col, param_to_size, param_to_col, constr_length)\u001B[0m\n\u001B[0;32m    309\u001B[0m     \u001B[0mlinPy_to_linC\u001B[0m \u001B[1;33m=\u001B[0m \u001B[1;33m{\u001B[0m\u001B[1;33m}\u001B[0m\u001B[1;33m\u001B[0m\u001B[1;33m\u001B[0m\u001B[0m\n\u001B[0;32m    310\u001B[0m     \u001B[1;32mfor\u001B[0m \u001B[0mlin\u001B[0m \u001B[1;32min\u001B[0m \u001B[0mlinOps\u001B[0m\u001B[1;33m:\u001B[0m\u001B[1;33m\u001B[0m\u001B[1;33m\u001B[0m\u001B[0m\n\u001B[1;32m--> 311\u001B[1;33m         \u001B[0mbuild_lin_op_tree\u001B[0m\u001B[1;33m(\u001B[0m\u001B[0mlin\u001B[0m\u001B[1;33m,\u001B[0m \u001B[0mlinPy_to_linC\u001B[0m\u001B[1;33m)\u001B[0m\u001B[1;33m\u001B[0m\u001B[1;33m\u001B[0m\u001B[0m\n\u001B[0m\u001B[0;32m    312\u001B[0m         \u001B[0mtree\u001B[0m \u001B[1;33m=\u001B[0m \u001B[0mlinPy_to_linC\u001B[0m\u001B[1;33m[\u001B[0m\u001B[0mlin\u001B[0m\u001B[1;33m]\u001B[0m\u001B[1;33m\u001B[0m\u001B[1;33m\u001B[0m\u001B[0m\n\u001B[0;32m    313\u001B[0m         \u001B[0mlin_vec\u001B[0m\u001B[1;33m.\u001B[0m\u001B[0mpush_back\u001B[0m\u001B[1;33m(\u001B[0m\u001B[0mtree\u001B[0m\u001B[1;33m)\u001B[0m\u001B[1;33m\u001B[0m\u001B[1;33m\u001B[0m\u001B[0m\n",
      "\u001B[1;32m~\\anaconda3\\envs\\coco\\lib\\site-packages\\cvxpy\\cvxcore\\python\\canonInterface.py\u001B[0m in \u001B[0;36mbuild_lin_op_tree\u001B[1;34m(root_linPy, linPy_to_linC)\u001B[0m\n\u001B[0;32m    504\u001B[0m     \u001B[1;32mwhile\u001B[0m \u001B[0mpost_order_stack\u001B[0m\u001B[1;33m:\u001B[0m\u001B[1;33m\u001B[0m\u001B[1;33m\u001B[0m\u001B[0m\n\u001B[0;32m    505\u001B[0m         \u001B[0mlinPy\u001B[0m \u001B[1;33m=\u001B[0m \u001B[0mpost_order_stack\u001B[0m\u001B[1;33m.\u001B[0m\u001B[0mpop\u001B[0m\u001B[1;33m(\u001B[0m\u001B[1;33m)\u001B[0m\u001B[1;33m\u001B[0m\u001B[1;33m\u001B[0m\u001B[0m\n\u001B[1;32m--> 506\u001B[1;33m         \u001B[0mmake_linC_from_linPy\u001B[0m\u001B[1;33m(\u001B[0m\u001B[0mlinPy\u001B[0m\u001B[1;33m,\u001B[0m \u001B[0mlinPy_to_linC\u001B[0m\u001B[1;33m)\u001B[0m\u001B[1;33m\u001B[0m\u001B[1;33m\u001B[0m\u001B[0m\n\u001B[0m",
      "\u001B[1;32m~\\anaconda3\\envs\\coco\\lib\\site-packages\\cvxpy\\cvxcore\\python\\canonInterface.py\u001B[0m in \u001B[0;36mmake_linC_from_linPy\u001B[1;34m(linPy, linPy_to_linC)\u001B[0m\n\u001B[0;32m    478\u001B[0m             \u001B[0mlinC\u001B[0m\u001B[1;33m.\u001B[0m\u001B[0mset_data_ndim\u001B[0m\u001B[1;33m(\u001B[0m\u001B[0mlen\u001B[0m\u001B[1;33m(\u001B[0m\u001B[0mlinPy\u001B[0m\u001B[1;33m.\u001B[0m\u001B[0mdata\u001B[0m\u001B[1;33m.\u001B[0m\u001B[0mshape\u001B[0m\u001B[1;33m)\u001B[0m\u001B[1;33m)\u001B[0m\u001B[1;33m\u001B[0m\u001B[1;33m\u001B[0m\u001B[0m\n\u001B[0;32m    479\u001B[0m         \u001B[1;32melse\u001B[0m\u001B[1;33m:\u001B[0m\u001B[1;33m\u001B[0m\u001B[1;33m\u001B[0m\u001B[0m\n\u001B[1;32m--> 480\u001B[1;33m             \u001B[0mset_linC_data\u001B[0m\u001B[1;33m(\u001B[0m\u001B[0mlinC\u001B[0m\u001B[1;33m,\u001B[0m \u001B[0mlinPy\u001B[0m\u001B[1;33m)\u001B[0m\u001B[1;33m\u001B[0m\u001B[1;33m\u001B[0m\u001B[0m\n\u001B[0m\u001B[0;32m    481\u001B[0m \u001B[1;33m\u001B[0m\u001B[0m\n\u001B[0;32m    482\u001B[0m \u001B[1;33m\u001B[0m\u001B[0m\n",
      "\u001B[1;32m~\\anaconda3\\envs\\coco\\lib\\site-packages\\cvxpy\\cvxcore\\python\\canonInterface.py\u001B[0m in \u001B[0;36mset_linC_data\u001B[1;34m(linC, linPy)\u001B[0m\n\u001B[0;32m    452\u001B[0m         \u001B[0mlinC\u001B[0m\u001B[1;33m.\u001B[0m\u001B[0mset_data_ndim\u001B[0m\u001B[1;33m(\u001B[0m\u001B[1;36m0\u001B[0m\u001B[1;33m)\u001B[0m\u001B[1;33m\u001B[0m\u001B[1;33m\u001B[0m\u001B[0m\n\u001B[0;32m    453\u001B[0m     \u001B[1;32melse\u001B[0m\u001B[1;33m:\u001B[0m\u001B[1;33m\u001B[0m\u001B[1;33m\u001B[0m\u001B[0m\n\u001B[1;32m--> 454\u001B[1;33m         \u001B[0mset_matrix_data\u001B[0m\u001B[1;33m(\u001B[0m\u001B[0mlinC\u001B[0m\u001B[1;33m,\u001B[0m \u001B[0mlinPy\u001B[0m\u001B[1;33m)\u001B[0m\u001B[1;33m\u001B[0m\u001B[1;33m\u001B[0m\u001B[0m\n\u001B[0m\u001B[0;32m    455\u001B[0m \u001B[1;33m\u001B[0m\u001B[0m\n\u001B[0;32m    456\u001B[0m \u001B[1;33m\u001B[0m\u001B[0m\n",
      "\u001B[1;32m~\\anaconda3\\envs\\coco\\lib\\site-packages\\cvxpy\\cvxcore\\python\\canonInterface.py\u001B[0m in \u001B[0;36mset_matrix_data\u001B[1;34m(linC, linPy)\u001B[0m\n\u001B[0;32m    419\u001B[0m     \"\"\"\n\u001B[0;32m    420\u001B[0m     \u001B[1;32mif\u001B[0m \u001B[0mget_type\u001B[0m\u001B[1;33m(\u001B[0m\u001B[0mlinPy\u001B[0m\u001B[1;33m)\u001B[0m \u001B[1;33m==\u001B[0m \u001B[0mcvxcore\u001B[0m\u001B[1;33m.\u001B[0m\u001B[0mSPARSE_CONST\u001B[0m\u001B[1;33m:\u001B[0m\u001B[1;33m\u001B[0m\u001B[1;33m\u001B[0m\u001B[0m\n\u001B[1;32m--> 421\u001B[1;33m         \u001B[0mcoo\u001B[0m \u001B[1;33m=\u001B[0m \u001B[0mformat_matrix\u001B[0m\u001B[1;33m(\u001B[0m\u001B[0mlinPy\u001B[0m\u001B[1;33m.\u001B[0m\u001B[0mdata\u001B[0m\u001B[1;33m,\u001B[0m \u001B[0mformat\u001B[0m\u001B[1;33m=\u001B[0m\u001B[1;34m'sparse'\u001B[0m\u001B[1;33m)\u001B[0m\u001B[1;33m\u001B[0m\u001B[1;33m\u001B[0m\u001B[0m\n\u001B[0m\u001B[0;32m    422\u001B[0m         linC.set_sparse_data(coo.data, coo.row.astype(float),\n\u001B[0;32m    423\u001B[0m                              \u001B[0mcoo\u001B[0m\u001B[1;33m.\u001B[0m\u001B[0mcol\u001B[0m\u001B[1;33m.\u001B[0m\u001B[0mastype\u001B[0m\u001B[1;33m(\u001B[0m\u001B[0mfloat\u001B[0m\u001B[1;33m)\u001B[0m\u001B[1;33m,\u001B[0m \u001B[0mcoo\u001B[0m\u001B[1;33m.\u001B[0m\u001B[0mshape\u001B[0m\u001B[1;33m[\u001B[0m\u001B[1;36m0\u001B[0m\u001B[1;33m]\u001B[0m\u001B[1;33m,\u001B[0m\u001B[1;33m\u001B[0m\u001B[1;33m\u001B[0m\u001B[0m\n",
      "\u001B[1;32m~\\anaconda3\\envs\\coco\\lib\\site-packages\\cvxpy\\cvxcore\\python\\canonInterface.py\u001B[0m in \u001B[0;36mformat_matrix\u001B[1;34m(matrix, shape, format)\u001B[0m\n\u001B[0;32m    370\u001B[0m         \u001B[1;32mreturn\u001B[0m \u001B[0mnp\u001B[0m\u001B[1;33m.\u001B[0m\u001B[0mreshape\u001B[0m\u001B[1;33m(\u001B[0m\u001B[0mmatrix\u001B[0m\u001B[1;33m,\u001B[0m \u001B[0mshape\u001B[0m\u001B[1;33m,\u001B[0m \u001B[0morder\u001B[0m\u001B[1;33m=\u001B[0m\u001B[1;34m'F'\u001B[0m\u001B[1;33m)\u001B[0m\u001B[1;33m\u001B[0m\u001B[1;33m\u001B[0m\u001B[0m\n\u001B[0;32m    371\u001B[0m     \u001B[1;32melif\u001B[0m\u001B[1;33m(\u001B[0m\u001B[0mformat\u001B[0m \u001B[1;33m==\u001B[0m \u001B[1;34m'sparse'\u001B[0m\u001B[1;33m)\u001B[0m\u001B[1;33m:\u001B[0m\u001B[1;33m\u001B[0m\u001B[1;33m\u001B[0m\u001B[0m\n\u001B[1;32m--> 372\u001B[1;33m         \u001B[1;32mreturn\u001B[0m \u001B[0mscipy\u001B[0m\u001B[1;33m.\u001B[0m\u001B[0msparse\u001B[0m\u001B[1;33m.\u001B[0m\u001B[0mcoo_matrix\u001B[0m\u001B[1;33m(\u001B[0m\u001B[0mmatrix\u001B[0m\u001B[1;33m)\u001B[0m\u001B[1;33m\u001B[0m\u001B[1;33m\u001B[0m\u001B[0m\n\u001B[0m\u001B[0;32m    373\u001B[0m     \u001B[1;32melif\u001B[0m\u001B[1;33m(\u001B[0m\u001B[0mformat\u001B[0m \u001B[1;33m==\u001B[0m \u001B[1;34m'scalar'\u001B[0m\u001B[1;33m)\u001B[0m\u001B[1;33m:\u001B[0m\u001B[1;33m\u001B[0m\u001B[1;33m\u001B[0m\u001B[0m\n\u001B[0;32m    374\u001B[0m         \u001B[1;32mreturn\u001B[0m \u001B[0mnp\u001B[0m\u001B[1;33m.\u001B[0m\u001B[0masfortranarray\u001B[0m\u001B[1;33m(\u001B[0m\u001B[1;33m[\u001B[0m\u001B[1;33m[\u001B[0m\u001B[0mmatrix\u001B[0m\u001B[1;33m]\u001B[0m\u001B[1;33m]\u001B[0m\u001B[1;33m)\u001B[0m\u001B[1;33m\u001B[0m\u001B[1;33m\u001B[0m\u001B[0m\n",
      "\u001B[1;32m~\\anaconda3\\envs\\coco\\lib\\site-packages\\scipy\\sparse\\coo.py\u001B[0m in \u001B[0;36m__init__\u001B[1;34m(self, arg1, shape, dtype, copy)\u001B[0m\n\u001B[0;32m    194\u001B[0m             \u001B[0mself\u001B[0m\u001B[1;33m.\u001B[0m\u001B[0mdata\u001B[0m \u001B[1;33m=\u001B[0m \u001B[0mself\u001B[0m\u001B[1;33m.\u001B[0m\u001B[0mdata\u001B[0m\u001B[1;33m.\u001B[0m\u001B[0mastype\u001B[0m\u001B[1;33m(\u001B[0m\u001B[0mdtype\u001B[0m\u001B[1;33m,\u001B[0m \u001B[0mcopy\u001B[0m\u001B[1;33m=\u001B[0m\u001B[1;32mFalse\u001B[0m\u001B[1;33m)\u001B[0m\u001B[1;33m\u001B[0m\u001B[1;33m\u001B[0m\u001B[0m\n\u001B[0;32m    195\u001B[0m \u001B[1;33m\u001B[0m\u001B[0m\n\u001B[1;32m--> 196\u001B[1;33m         \u001B[0mself\u001B[0m\u001B[1;33m.\u001B[0m\u001B[0m_check\u001B[0m\u001B[1;33m(\u001B[0m\u001B[1;33m)\u001B[0m\u001B[1;33m\u001B[0m\u001B[1;33m\u001B[0m\u001B[0m\n\u001B[0m\u001B[0;32m    197\u001B[0m \u001B[1;33m\u001B[0m\u001B[0m\n\u001B[0;32m    198\u001B[0m     \u001B[1;32mdef\u001B[0m \u001B[0mreshape\u001B[0m\u001B[1;33m(\u001B[0m\u001B[0mself\u001B[0m\u001B[1;33m,\u001B[0m \u001B[1;33m*\u001B[0m\u001B[0margs\u001B[0m\u001B[1;33m,\u001B[0m \u001B[1;33m**\u001B[0m\u001B[0mkwargs\u001B[0m\u001B[1;33m)\u001B[0m\u001B[1;33m:\u001B[0m\u001B[1;33m\u001B[0m\u001B[1;33m\u001B[0m\u001B[0m\n",
      "\u001B[1;32m~\\anaconda3\\envs\\coco\\lib\\site-packages\\scipy\\sparse\\coo.py\u001B[0m in \u001B[0;36m_check\u001B[1;34m(self)\u001B[0m\n\u001B[0;32m    286\u001B[0m             \u001B[1;32mif\u001B[0m \u001B[0mself\u001B[0m\u001B[1;33m.\u001B[0m\u001B[0mrow\u001B[0m\u001B[1;33m.\u001B[0m\u001B[0mmin\u001B[0m\u001B[1;33m(\u001B[0m\u001B[1;33m)\u001B[0m \u001B[1;33m<\u001B[0m \u001B[1;36m0\u001B[0m\u001B[1;33m:\u001B[0m\u001B[1;33m\u001B[0m\u001B[1;33m\u001B[0m\u001B[0m\n\u001B[0;32m    287\u001B[0m                 \u001B[1;32mraise\u001B[0m \u001B[0mValueError\u001B[0m\u001B[1;33m(\u001B[0m\u001B[1;34m'negative row index found'\u001B[0m\u001B[1;33m)\u001B[0m\u001B[1;33m\u001B[0m\u001B[1;33m\u001B[0m\u001B[0m\n\u001B[1;32m--> 288\u001B[1;33m             \u001B[1;32mif\u001B[0m \u001B[0mself\u001B[0m\u001B[1;33m.\u001B[0m\u001B[0mcol\u001B[0m\u001B[1;33m.\u001B[0m\u001B[0mmin\u001B[0m\u001B[1;33m(\u001B[0m\u001B[1;33m)\u001B[0m \u001B[1;33m<\u001B[0m \u001B[1;36m0\u001B[0m\u001B[1;33m:\u001B[0m\u001B[1;33m\u001B[0m\u001B[1;33m\u001B[0m\u001B[0m\n\u001B[0m\u001B[0;32m    289\u001B[0m                 \u001B[1;32mraise\u001B[0m \u001B[0mValueError\u001B[0m\u001B[1;33m(\u001B[0m\u001B[1;34m'negative column index found'\u001B[0m\u001B[1;33m)\u001B[0m\u001B[1;33m\u001B[0m\u001B[1;33m\u001B[0m\u001B[0m\n\u001B[0;32m    290\u001B[0m \u001B[1;33m\u001B[0m\u001B[0m\n",
      "\u001B[1;32m~\\anaconda3\\envs\\coco\\lib\\site-packages\\numpy\\core\\_methods.py\u001B[0m in \u001B[0;36m_amin\u001B[1;34m(a, axis, out, keepdims, initial, where)\u001B[0m\n\u001B[0;32m     41\u001B[0m def _amin(a, axis=None, out=None, keepdims=False,\n\u001B[0;32m     42\u001B[0m           initial=_NoValue, where=True):\n\u001B[1;32m---> 43\u001B[1;33m     \u001B[1;32mreturn\u001B[0m \u001B[0mumr_minimum\u001B[0m\u001B[1;33m(\u001B[0m\u001B[0ma\u001B[0m\u001B[1;33m,\u001B[0m \u001B[0maxis\u001B[0m\u001B[1;33m,\u001B[0m \u001B[1;32mNone\u001B[0m\u001B[1;33m,\u001B[0m \u001B[0mout\u001B[0m\u001B[1;33m,\u001B[0m \u001B[0mkeepdims\u001B[0m\u001B[1;33m,\u001B[0m \u001B[0minitial\u001B[0m\u001B[1;33m,\u001B[0m \u001B[0mwhere\u001B[0m\u001B[1;33m)\u001B[0m\u001B[1;33m\u001B[0m\u001B[1;33m\u001B[0m\u001B[0m\n\u001B[0m\u001B[0;32m     44\u001B[0m \u001B[1;33m\u001B[0m\u001B[0m\n\u001B[0;32m     45\u001B[0m def _sum(a, axis=None, dtype=None, out=None, keepdims=False,\n",
      "\u001B[1;31mKeyboardInterrupt\u001B[0m: "
     ]
    }
   ],
   "source": [
    "from tqdm import tqdm\n",
    "params = {}\n",
    "\n",
    "if 'x0' in sampled_params:\n",
    "    params['x0'] = np.zeros((num_probs,4))\n",
    "# if 'xg' in sampled_params:\n",
    "#     params['xg'] = np.zeros((num_probs,2*n))\n",
    "# if 'obstacles' in sampled_params:\n",
    "#     params['obstacles'] = np.zeros((num_probs, 4, n_obs))\n",
    "\n",
    "for ii in tqdm(range(num_probs)):\n",
    "    x0 = findIC(rec, posmin[:2], posmax[:2], velmin, velmax)\n",
    "    x0[2:]=0\n",
    "    # params['obstacles'][ii,:] = np.reshape(np.concatenate(obstacles, axis=0), (n_obs,4)).T\n",
    "    p_dict = {}\n",
    "    params['x0'][ii,:] = x0\n",
    "    # xg= findIC(obstacles, posmin, posmax, velmin, velmax)\n",
    "    # params['xg'][ii,:] = xg\n",
    "\n",
    "    p_dict['x0'] = params['x0'][ii,:]\n",
    "    # p_dict['xg'] = params['xg'][ii,:]\n",
    "    # p_dict['obstacles'] = params['obstacles'][ii,:]\n",
    "\n",
    "    prob_success = False\n",
    "    try:\n",
    "        # with time_limit(20):\n",
    "        prob_success, cost, solve_time, integer, vector, optvals = prob.solve_stl(p_dict, solver=cp.GUROBI)\n",
    "    except (KeyboardInterrupt, SystemExit):\n",
    "        raise\n",
    "    except:\n",
    "        print('solver failed at '.format(ii))\n",
    "\n",
    "    if prob_success:\n",
    "        vector_data[ii] = vector\n",
    "        integer_data[ii] = integer\n",
    "        costs[ii] = cost; solve_times[ii] = solve_time\n",
    "        X[ii,:,:], U[ii,:,:], Y[ii,:,:]= optvals\n",
    "        ii += 1\n",
    "\n",
    "num_train = int(num_probs*0.9)\n",
    "arr = np.arange(num_probs)\n",
    "np.random.shuffle(arr)\n",
    "\n",
    "if 'x0' in sampled_params:\n",
    "    params['x0'] = params['x0'][arr]\n",
    "\n",
    "costs = costs[arr]\n",
    "solve_times = solve_times[arr]\n",
    "\n",
    "\n",
    "X = X[arr]\n",
    "U = U[arr]\n",
    "Y = Y[arr]\n",
    "\n",
    "integer_data = np.array(integer_data)\n",
    "integer_data = integer_data[arr]\n",
    "vector_data = np.array(vector_data)\n",
    "vector_data = vector_data[arr]\n",
    "\n",
    "train_params = {}; test_params = {}\n",
    "if 'x0' in sampled_params:\n",
    "    train_params['x0'] = params['x0'][:num_train,:]\n",
    "    test_params['x0'] = params['x0'][num_train:,:]\n",
    "# if 'obstacles' in sampled_params:\n",
    "#     train_params['obstacles'] = params['obstacles'][:num_train,:]\n",
    "#     test_params['obstacles'] = params['obstacles'][num_train:,:]\n",
    "# if 'xg' in sampled_params:\n",
    "#     train_params['xg'] = params['xg'][:num_train,:]\n",
    "#     test_params['xg'] = params['xg'][num_train:,:]\n",
    "\n",
    "train_data = [train_params]\n",
    "train_data += [X[:num_train,:,:], U[:num_train,:,:], Y[:num_train,:,:]]\n",
    "train_data += [costs[:num_train], solve_times[:num_train]]\n",
    "train_data += [vector_data[:num_train], integer_data[:num_train]]\n",
    "\n",
    "test_data = [test_params]\n",
    "test_data += [X[num_train:,:,:], U[num_train:,:,:], Y[num_train:,:,:]]\n",
    "test_data += [costs[num_train:], solve_times[num_train:]]\n",
    "test_data += [vector_data[num_train:], integer_data[num_train:]]\n",
    "\n",
    "train_fn = 'train_horizon_{}_{}.p'.format(N,spec_name)\n",
    "train_fn = os.path.join(relative_path, 'data', dataset_name, train_fn)\n",
    "test_fn = 'test_horizon_{}_{}.p'.format(N,spec_name)\n",
    "test_fn = os.path.join(relative_path, 'data', dataset_name, test_fn)\n",
    "\n",
    "\n",
    "train_file = open(train_fn,'wb')\n",
    "pickle.dump(train_data,train_file); train_file.close()\n",
    "\n",
    "test_file = open(test_fn, 'wb')\n",
    "pickle.dump(test_data,test_file); test_file.close()"
   ],
   "metadata": {
    "collapsed": false,
    "pycharm": {
     "name": "#%%\n"
    }
   }
  },
  {
   "cell_type": "code",
   "execution_count": 15,
   "outputs": [],
   "source": [
    "relative_path = os.getcwd()\n",
    "train_fn = 'train_horizon_{}.p'.format(N)\n",
    "train_fn = os.path.join(relative_path, 'data', dataset_name, train_fn)\n",
    "train_file = open(train_fn,'rb')\n",
    "# train_file = open(dataset_fn+'/train.p','rb')\n",
    "train_data = pickle.load(train_file)"
   ],
   "metadata": {
    "collapsed": false,
    "pycharm": {
     "name": "#%%\n"
    }
   }
  },
  {
   "cell_type": "code",
   "execution_count": 16,
   "outputs": [
    {
     "name": "stdout",
     "output_type": "stream",
     "text": [
      "3271\n"
     ]
    }
   ],
   "source": [
    "system = scenario.spec_name\n",
    "prob_features = ['x0']\n",
    "stl_obj = OMISTL(system, prob, prob_features)\n",
    "stl_obj.construct_stl_strategies(train_data,4)\n",
    "print(stl_obj.n_strategies)"
   ],
   "metadata": {
    "collapsed": false,
    "pycharm": {
     "name": "#%%\n"
    }
   }
  },
  {
   "cell_type": "code",
   "execution_count": 27,
   "outputs": [],
   "source": [
    "def train_horizon_stl(N, spec, device_id=0):\n",
    "    dataset_name = '{}_horizon_{}'.format(scenario.spec_name,N)\n",
    "    relative_path = os.getcwd()\n",
    "    config_fn = os.path.join(relative_path, 'config', dataset_name+'.p')\n",
    "    config_file = open(config_fn,'rb')\n",
    "    config =  pickle.load(config_file)\n",
    "    dataset_name = config[0]; config_file.close()\n",
    "\n",
    "    train_fn = 'train_horizon_{}_{}.p'.format(N,spec_name)\n",
    "    train_fn = os.path.join(relative_path, 'data', dataset_name, train_fn)\n",
    "    test_fn = 'test_horizon_{}_{}.p'.format(N,spec_name)\n",
    "    test_fn = os.path.join(relative_path, 'data', dataset_name, test_fn)\n",
    "\n",
    "    train_file = open(train_fn,'rb')\n",
    "    train_data = pickle.load(train_file); train_file.close()\n",
    "\n",
    "    test_file = open(test_fn,'rb')\n",
    "    test_data = pickle.load(test_file)\n",
    "\n",
    "    test_file.close()\n",
    "\n",
    "    system = scenario.spec_name\n",
    "    prob_features = ['x0']\n",
    "\n",
    "    prob = STL_planner(config=config_fn , spec=spec)\n",
    "    Network = OMISTL(system, prob, prob_features)\n",
    "\n",
    "    Network.construct_stl_strategies(train_data, 4)\n",
    "\n",
    "    print('Number of strategies for horizon {}: {}'.format(N, Network.n_strategies))\n",
    "\n",
    "    Network.setup_network(device_id=device_id)\n",
    "    Network.training_params['TRAINING_ITERATIONS'] =500\n",
    "    Network.train(train_data=train_data, verbose=True)"
   ],
   "metadata": {
    "collapsed": false,
    "pycharm": {
     "name": "#%%\n"
    }
   }
  },
  {
   "cell_type": "code",
   "execution_count": 28,
   "outputs": [
    {
     "name": "stdout",
     "output_type": "stream",
     "text": [
      "Number of strategies for horizon 25: 3271\n",
      "Done with epoch 0 in 0.7187447547912598s\n",
      "Done with epoch 1 in 0.640627384185791s\n",
      "Done with epoch 2 in 0.6094915866851807s\n",
      "Done with epoch 3 in 0.6093406677246094s\n",
      "Done with epoch 4 in 0.6250641345977783s\n",
      "Done with epoch 5 in 0.6094105243682861s\n",
      "Done with epoch 6 in 0.562462568283081s\n",
      "loss:   4.344592094421387,   acc:  0.15625\n",
      "Done with epoch 7 in 0.5470478534698486s\n",
      "Done with epoch 8 in 0.5625121593475342s\n",
      "Done with epoch 9 in 0.5468649864196777s\n",
      "Done with epoch 10 in 0.546907901763916s\n",
      "Done with epoch 11 in 0.5314681529998779s\n",
      "Done with epoch 12 in 0.5937573909759521s\n",
      "Done with epoch 13 in 0.5937480926513672s\n",
      "loss:   3.2883923053741455,   acc:  0.15625\n",
      "Done with epoch 14 in 0.5782649517059326s\n",
      "Done with epoch 15 in 0.5312552452087402s\n",
      "Done with epoch 16 in 0.5469188690185547s\n",
      "Done with epoch 17 in 0.5312502384185791s\n",
      "Done with epoch 18 in 0.5470218658447266s\n",
      "Done with epoch 19 in 0.5312497615814209s\n",
      "Done with epoch 20 in 0.5313856601715088s\n",
      "loss:   3.075364589691162,   acc:  0.25\n",
      "Done with epoch 21 in 0.5312197208404541s\n",
      "Done with epoch 22 in 0.5469751358032227s\n",
      "Done with epoch 23 in 0.5312526226043701s\n",
      "Done with epoch 24 in 0.5312831401824951s\n",
      "Done with epoch 25 in 0.5313847064971924s\n",
      "Done with epoch 26 in 0.5625338554382324s\n",
      "Done with epoch 27 in 0.5313155651092529s\n",
      "loss:   2.7365565299987793,   acc:  0.3125\n",
      "Done with epoch 28 in 0.531247615814209s\n",
      "Done with epoch 29 in 0.5157332420349121s\n",
      "Done with epoch 30 in 0.5155997276306152s\n",
      "Done with epoch 31 in 0.5312798023223877s\n",
      "Done with epoch 32 in 0.5312190055847168s\n",
      "Done with epoch 33 in 0.5470640659332275s\n",
      "Done with epoch 34 in 0.5312192440032959s\n",
      "loss:   3.105208158493042,   acc:  0.1875\n",
      "Done with epoch 35 in 0.546905517578125s\n",
      "Done with epoch 36 in 0.5312352180480957s\n",
      "Done with epoch 37 in 0.5470094680786133s\n",
      "Done with epoch 38 in 0.5312507152557373s\n",
      "Done with epoch 39 in 0.5312507152557373s\n",
      "Done with epoch 40 in 0.5469975471496582s\n",
      "Done with epoch 41 in 0.5312502384185791s\n",
      "loss:   2.639094829559326,   acc:  0.40625\n",
      "Done with epoch 42 in 0.5469598770141602s\n",
      "Done with epoch 43 in 0.5468697547912598s\n",
      "Done with epoch 44 in 0.531313419342041s\n",
      "Done with epoch 45 in 0.5469028949737549s\n",
      "Done with epoch 46 in 0.5626218318939209s\n",
      "Done with epoch 47 in 0.5468432903289795s\n",
      "Done with epoch 48 in 0.5938165187835693s\n",
      "loss:   2.4581055641174316,   acc:  0.28125\n",
      "Done with epoch 49 in 0.5625674724578857s\n",
      "Done with epoch 50 in 0.6250038146972656s\n",
      "Done with epoch 51 in 0.6094310283660889s\n",
      "Done with epoch 52 in 0.6562485694885254s\n",
      "Done with epoch 53 in 0.5938196182250977s\n",
      "Done with epoch 54 in 0.5782737731933594s\n",
      "Done with epoch 55 in 0.5312581062316895s\n",
      "loss:   2.437772750854492,   acc:  0.25\n",
      "Done with epoch 56 in 0.5624914169311523s\n",
      "Done with epoch 57 in 0.5312788486480713s\n",
      "Done with epoch 58 in 0.5470592975616455s\n",
      "Done with epoch 59 in 0.5312449932098389s\n",
      "Done with epoch 60 in 0.5314068794250488s\n",
      "Done with epoch 61 in 0.5312225818634033s\n",
      "Done with epoch 62 in 0.5469961166381836s\n",
      "loss:   2.2049050331115723,   acc:  0.375\n",
      "Done with epoch 63 in 0.5468790531158447s\n",
      "Done with epoch 64 in 0.5468704700469971s\n",
      "Done with epoch 65 in 0.531466007232666s\n",
      "Done with epoch 66 in 0.5312819480895996s\n",
      "Done with epoch 67 in 0.531348705291748s\n",
      "Done with epoch 68 in 0.5312488079071045s\n",
      "Done with epoch 69 in 0.5312492847442627s\n",
      "loss:   2.263077735900879,   acc:  0.46875\n",
      "Done with epoch 70 in 0.5468759536743164s\n",
      "Done with epoch 71 in 0.531374454498291s\n",
      "Done with epoch 72 in 0.5468769073486328s\n",
      "Done with epoch 73 in 0.5313940048217773s\n",
      "Done with epoch 74 in 0.5312187671661377s\n",
      "Done with epoch 75 in 0.546992301940918s\n",
      "Done with epoch 76 in 0.546877384185791s\n",
      "Done with epoch 77 in 0.5312144756317139s\n",
      "loss:   2.3007922172546387,   acc:  0.375\n",
      "Done with epoch 78 in 0.5470361709594727s\n",
      "Done with epoch 79 in 0.5312821865081787s\n",
      "Done with epoch 80 in 0.5312175750732422s\n",
      "Done with epoch 81 in 0.5468759536743164s\n",
      "Done with epoch 82 in 0.5312509536743164s\n",
      "Done with epoch 83 in 0.5312817096710205s\n",
      "Done with epoch 84 in 0.5470669269561768s\n",
      "loss:   2.2480149269104004,   acc:  0.375\n",
      "Done with epoch 85 in 0.5312607288360596s\n",
      "Done with epoch 86 in 0.5313372611999512s\n",
      "Done with epoch 87 in 0.5469067096710205s\n",
      "Done with epoch 88 in 0.5468411445617676s\n",
      "Done with epoch 89 in 0.5312519073486328s\n",
      "Done with epoch 90 in 0.547020435333252s\n",
      "Done with epoch 91 in 0.5469610691070557s\n",
      "loss:   2.4569554328918457,   acc:  0.28125\n",
      "Done with epoch 92 in 0.5312530994415283s\n",
      "Done with epoch 93 in 0.5312798023223877s\n",
      "Done with epoch 94 in 0.5468766689300537s\n",
      "Done with epoch 95 in 0.5313882827758789s\n",
      "Done with epoch 96 in 0.5468757152557373s\n",
      "Done with epoch 97 in 0.531364917755127s\n",
      "Done with epoch 98 in 0.5156152248382568s\n",
      "loss:   2.524930953979492,   acc:  0.3125\n",
      "Done with epoch 99 in 0.5470066070556641s\n",
      "Done with epoch 100 in 0.5312497615814209s\n",
      "Done with epoch 101 in 0.5468752384185791s\n",
      "Done with epoch 102 in 0.5156242847442627s\n",
      "Done with epoch 103 in 0.5313653945922852s\n",
      "Done with epoch 104 in 0.6250636577606201s\n",
      "Done with epoch 105 in 0.5469083786010742s\n",
      "loss:   2.0916318893432617,   acc:  0.4375\n",
      "Done with epoch 106 in 0.5782144069671631s\n",
      "Done with epoch 107 in 0.5624682903289795s\n",
      "Done with epoch 108 in 0.5625870227813721s\n",
      "Done with epoch 109 in 0.5468776226043701s\n",
      "Done with epoch 110 in 0.5469601154327393s\n",
      "Done with epoch 111 in 0.531247615814209s\n",
      "Done with epoch 112 in 0.5468790531158447s\n",
      "loss:   2.183248996734619,   acc:  0.34375\n",
      "Done with epoch 113 in 0.5470414161682129s\n",
      "Done with epoch 114 in 0.5312509536743164s\n",
      "Done with epoch 115 in 0.5313088893890381s\n",
      "Done with epoch 116 in 0.5312526226043701s\n",
      "Done with epoch 117 in 0.5625262260437012s\n",
      "Done with epoch 118 in 0.5468795299530029s\n",
      "Done with epoch 119 in 0.562720537185669s\n",
      "loss:   2.2138476371765137,   acc:  0.40625\n",
      "Done with epoch 120 in 0.5489401817321777s\n",
      "Done with epoch 121 in 0.531212329864502s\n",
      "Done with epoch 122 in 0.5312776565551758s\n",
      "Done with epoch 123 in 0.5469884872436523s\n",
      "Done with epoch 124 in 0.5156252384185791s\n",
      "Done with epoch 125 in 0.5312514305114746s\n",
      "Done with epoch 126 in 0.5469660758972168s\n",
      "loss:   1.8788785934448242,   acc:  0.3125\n",
      "Done with epoch 127 in 0.5468771457672119s\n",
      "Done with epoch 128 in 0.5313966274261475s\n",
      "Done with epoch 129 in 0.5312213897705078s\n",
      "Done with epoch 130 in 0.5469040870666504s\n",
      "Done with epoch 131 in 0.5312230587005615s\n",
      "Done with epoch 132 in 0.5314309597015381s\n",
      "Done with epoch 133 in 0.5312530994415283s\n",
      "loss:   1.8194321393966675,   acc:  0.5\n",
      "Done with epoch 134 in 0.5469741821289062s\n",
      "Done with epoch 135 in 0.546872615814209s\n",
      "Done with epoch 136 in 0.5156867504119873s\n",
      "Done with epoch 137 in 0.5468733310699463s\n",
      "Done with epoch 138 in 0.5468413829803467s\n",
      "Done with epoch 139 in 0.5314335823059082s\n",
      "Done with epoch 140 in 0.546905517578125s\n",
      "loss:   1.883437156677246,   acc:  0.40625\n",
      "Done with epoch 141 in 0.5469717979431152s\n",
      "Done with epoch 142 in 0.5468404293060303s\n",
      "Done with epoch 143 in 0.5156264305114746s\n",
      "Done with epoch 144 in 0.5469059944152832s\n",
      "Done with epoch 145 in 0.5315041542053223s\n",
      "Done with epoch 146 in 0.5468783378601074s\n",
      "Done with epoch 147 in 0.5468716621398926s\n",
      "loss:   2.2457468509674072,   acc:  0.34375\n",
      "Done with epoch 148 in 0.5468411445617676s\n",
      "Done with epoch 149 in 0.5470654964447021s\n",
      "Done with epoch 150 in 0.5313951969146729s\n",
      "Done with epoch 151 in 0.5312469005584717s\n",
      "Done with epoch 152 in 0.5313675403594971s\n",
      "Done with epoch 153 in 0.5312533378601074s\n",
      "Done with epoch 154 in 0.5468745231628418s\n",
      "Done with epoch 155 in 0.5468757152557373s\n",
      "loss:   2.114452362060547,   acc:  0.40625\n",
      "Done with epoch 156 in 0.546931266784668s\n",
      "Done with epoch 157 in 0.5156562328338623s\n",
      "Done with epoch 158 in 0.5468728542327881s\n",
      "Done with epoch 159 in 0.5312530994415283s\n",
      "Done with epoch 160 in 0.5470714569091797s\n",
      "Done with epoch 161 in 0.5312173366546631s\n",
      "Done with epoch 162 in 0.5470149517059326s\n",
      "loss:   2.4682483673095703,   acc:  0.1875\n",
      "Done with epoch 163 in 0.5469214916229248s\n",
      "Done with epoch 164 in 0.5469033718109131s\n",
      "Done with epoch 165 in 0.5468461513519287s\n",
      "Done with epoch 166 in 0.5312483310699463s\n",
      "Done with epoch 167 in 0.5782995223999023s\n",
      "Done with epoch 168 in 0.5625216960906982s\n",
      "Done with epoch 169 in 0.5938575267791748s\n",
      "loss:   2.0534660816192627,   acc:  0.4375\n",
      "Done with epoch 170 in 0.5781590938568115s\n",
      "Done with epoch 171 in 0.5937190055847168s\n",
      "Done with epoch 172 in 0.5782971382141113s\n",
      "Done with epoch 173 in 0.5937454700469971s\n",
      "Done with epoch 174 in 0.5313539505004883s\n",
      "Done with epoch 175 in 0.609337568283081s\n",
      "Done with epoch 176 in 0.5469071865081787s\n",
      "loss:   1.9564814567565918,   acc:  0.34375\n",
      "Done with epoch 177 in 0.5468442440032959s\n",
      "Done with epoch 178 in 0.5314185619354248s\n",
      "Done with epoch 179 in 0.5312509536743164s\n",
      "Done with epoch 180 in 0.5469069480895996s\n",
      "Done with epoch 181 in 0.5470161437988281s\n",
      "Done with epoch 182 in 0.5312199592590332s\n",
      "Done with epoch 183 in 0.5469760894775391s\n",
      "loss:   2.0775575637817383,   acc:  0.3125\n",
      "Done with epoch 184 in 0.5624966621398926s\n",
      "Done with epoch 185 in 0.5468788146972656s\n",
      "Done with epoch 186 in 0.5468409061431885s\n",
      "Done with epoch 187 in 0.5314149856567383s\n",
      "Done with epoch 188 in 0.5468721389770508s\n",
      "Done with epoch 189 in 0.5312540531158447s\n",
      "Done with epoch 190 in 0.5626306533813477s\n",
      "loss:   2.225379705429077,   acc:  0.28125\n",
      "Done with epoch 191 in 0.5468788146972656s\n",
      "Done with epoch 192 in 0.5469062328338623s\n",
      "Done with epoch 193 in 0.5468425750732422s\n",
      "Done with epoch 194 in 0.5314252376556396s\n",
      "Done with epoch 195 in 0.5468761920928955s\n",
      "Done with epoch 196 in 0.5313193798065186s\n",
      "Done with epoch 197 in 0.5625002384185791s\n",
      "loss:   1.8388980627059937,   acc:  0.375\n",
      "Done with epoch 198 in 0.5469021797180176s\n",
      "Done with epoch 199 in 0.5624749660491943s\n",
      "Done with epoch 200 in 0.5470035076141357s\n",
      "Done with epoch 201 in 0.5313806533813477s\n",
      "Done with epoch 202 in 0.5468704700469971s\n",
      "Done with epoch 203 in 0.5626296997070312s\n",
      "Done with epoch 204 in 0.5469076633453369s\n",
      "loss:   2.1157686710357666,   acc:  0.3125\n",
      "Done with epoch 205 in 0.5469334125518799s\n",
      "Done with epoch 206 in 0.5781233310699463s\n",
      "Done with epoch 207 in 0.5312530994415283s\n",
      "Done with epoch 208 in 0.5469050407409668s\n",
      "Done with epoch 209 in 0.5340168476104736s\n",
      "Done with epoch 210 in 0.5312192440032959s\n",
      "Done with epoch 211 in 0.5625312328338623s\n",
      "loss:   1.940068006515503,   acc:  0.4375\n",
      "Saved model at D:\\Curious\\OMISTL\\models/STL_horizon_25.pt\n",
      "Done with epoch 212 in 0.5469822883605957s\n",
      "Done with epoch 213 in 0.5312521457672119s\n",
      "Done with epoch 214 in 0.5469849109649658s\n",
      "Done with epoch 215 in 0.5312185287475586s\n",
      "Done with epoch 216 in 0.5468745231628418s\n",
      "Done with epoch 217 in 0.5468752384185791s\n",
      "Done with epoch 218 in 0.5157890319824219s\n",
      "loss:   2.0822577476501465,   acc:  0.3125\n",
      "Done with epoch 219 in 0.5468735694885254s\n",
      "Done with epoch 220 in 0.5469720363616943s\n",
      "Done with epoch 221 in 0.5312802791595459s\n",
      "Done with epoch 222 in 0.5313458442687988s\n",
      "Done with epoch 223 in 0.5468614101409912s\n",
      "Done with epoch 224 in 0.5468478202819824s\n",
      "Done with epoch 225 in 0.5938942432403564s\n",
      "loss:   1.991274118423462,   acc:  0.5\n",
      "Done with epoch 226 in 0.5937826633453369s\n",
      "Done with epoch 227 in 0.5624995231628418s\n",
      "Done with epoch 228 in 0.5624980926513672s\n",
      "Done with epoch 229 in 0.5626261234283447s\n",
      "Done with epoch 230 in 0.5625650882720947s\n",
      "Done with epoch 231 in 0.531252384185791s\n",
      "Done with epoch 232 in 0.5470001697540283s\n",
      "Done with epoch 233 in 0.5312511920928955s\n",
      "loss:   2.3413684368133545,   acc:  0.3125\n",
      "Done with epoch 234 in 0.5781850814819336s\n",
      "Done with epoch 235 in 0.5469045639038086s\n",
      "Done with epoch 236 in 0.5312473773956299s\n",
      "Done with epoch 237 in 0.5624699592590332s\n",
      "Done with epoch 238 in 0.5470907688140869s\n",
      "Done with epoch 239 in 0.5469052791595459s\n",
      "Done with epoch 240 in 0.5469934940338135s\n",
      "loss:   1.7232309579849243,   acc:  0.4375\n",
      "Done with epoch 241 in 0.546942949295044s\n",
      "Done with epoch 242 in 0.5156610012054443s\n",
      "Done with epoch 243 in 0.546872615814209s\n",
      "Done with epoch 244 in 0.5312485694885254s\n",
      "Done with epoch 245 in 0.5470211505889893s\n",
      "Done with epoch 246 in 0.5468778610229492s\n",
      "Done with epoch 247 in 0.5781941413879395s\n",
      "loss:   1.8001055717468262,   acc:  0.34375\n",
      "Done with epoch 248 in 0.5468740463256836s\n",
      "Done with epoch 249 in 0.5312519073486328s\n",
      "Done with epoch 250 in 0.5468733310699463s\n",
      "Done with epoch 251 in 0.5470130443572998s\n",
      "Done with epoch 252 in 0.5469050407409668s\n",
      "Done with epoch 253 in 0.5468747615814209s\n",
      "Done with epoch 254 in 0.5469574928283691s\n",
      "loss:   1.9045085906982422,   acc:  0.46875\n",
      "Done with epoch 255 in 0.5624983310699463s\n",
      "Done with epoch 256 in 0.531402587890625s\n",
      "Done with epoch 257 in 0.5468897819519043s\n",
      "Done with epoch 258 in 0.5469694137573242s\n",
      "Done with epoch 259 in 0.5937206745147705s\n",
      "Done with epoch 260 in 0.5468709468841553s\n",
      "Done with epoch 261 in 0.5470280647277832s\n",
      "loss:   1.7615275382995605,   acc:  0.40625\n",
      "Done with epoch 262 in 0.562507152557373s\n",
      "Done with epoch 263 in 0.5313913822174072s\n",
      "Done with epoch 264 in 0.546875s\n",
      "Done with epoch 265 in 0.5468742847442627s\n",
      "Done with epoch 266 in 0.5468754768371582s\n",
      "Done with epoch 267 in 0.5470383167266846s\n",
      "Done with epoch 268 in 0.5312235355377197s\n",
      "loss:   1.8193917274475098,   acc:  0.375\n",
      "Done with epoch 269 in 0.5625042915344238s\n",
      "Done with epoch 270 in 0.5469040870666504s\n",
      "Done with epoch 271 in 0.5469639301300049s\n",
      "Done with epoch 272 in 0.5468766689300537s\n",
      "Done with epoch 273 in 0.5468738079071045s\n",
      "Done with epoch 274 in 0.5470542907714844s\n",
      "Done with epoch 275 in 0.5468790531158447s\n",
      "loss:   1.834336519241333,   acc:  0.40625\n",
      "Done with epoch 276 in 0.5624699592590332s\n",
      "Done with epoch 277 in 0.5468752384185791s\n",
      "Done with epoch 278 in 0.5470449924468994s\n",
      "Done with epoch 279 in 0.5312411785125732s\n",
      "Done with epoch 280 in 0.5469913482666016s\n",
      "Done with epoch 281 in 0.5312228202819824s\n",
      "Done with epoch 282 in 0.5626020431518555s\n",
      "loss:   1.6345269680023193,   acc:  0.46875\n",
      "Done with epoch 283 in 0.5468428134918213s\n",
      "Done with epoch 284 in 0.5468742847442627s\n",
      "Done with epoch 285 in 0.5470020771026611s\n",
      "Done with epoch 286 in 0.5312809944152832s\n",
      "Done with epoch 287 in 0.5781965255737305s\n",
      "Done with epoch 288 in 0.6093456745147705s\n",
      "Done with epoch 289 in 0.5938169956207275s\n",
      "loss:   1.782612681388855,   acc:  0.40625\n",
      "Done with epoch 290 in 0.5626108646392822s\n",
      "Done with epoch 291 in 0.5937540531158447s\n",
      "Done with epoch 292 in 0.5313711166381836s\n",
      "Done with epoch 293 in 0.6250262260437012s\n",
      "Done with epoch 294 in 0.5780999660491943s\n",
      "Done with epoch 295 in 0.5781545639038086s\n",
      "Done with epoch 296 in 0.5470545291900635s\n",
      "loss:   1.3654032945632935,   acc:  0.625\n",
      "Done with epoch 297 in 0.5625898838043213s\n",
      "Done with epoch 298 in 0.5624983310699463s\n",
      "Done with epoch 299 in 0.5312540531158447s\n",
      "Done with epoch 300 in 0.5469083786010742s\n",
      "Done with epoch 301 in 0.562615156173706s\n",
      "Done with epoch 302 in 0.5624680519104004s\n",
      "Done with epoch 303 in 0.5469911098480225s\n",
      "loss:   1.401586651802063,   acc:  0.59375\n",
      "Done with epoch 304 in 0.5625360012054443s\n",
      "Done with epoch 305 in 0.5312495231628418s\n",
      "Done with epoch 306 in 0.5468766689300537s\n",
      "Done with epoch 307 in 0.5624997615814209s\n",
      "Done with epoch 308 in 0.5314304828643799s\n",
      "Done with epoch 309 in 0.5624985694885254s\n",
      "Done with epoch 310 in 0.5313513278961182s\n",
      "Done with epoch 311 in 0.5312159061431885s\n",
      "loss:   1.6691635847091675,   acc:  0.375\n",
      "Done with epoch 312 in 0.5625348091125488s\n",
      "Done with epoch 313 in 0.5468707084655762s\n",
      "Done with epoch 314 in 0.5627093315124512s\n",
      "Done with epoch 315 in 0.562469482421875s\n",
      "Done with epoch 316 in 0.5470187664031982s\n",
      "Done with epoch 317 in 0.5469987392425537s\n",
      "Done with epoch 318 in 0.5469014644622803s\n",
      "loss:   1.706453561782837,   acc:  0.4375\n",
      "Done with epoch 319 in 0.5626046657562256s\n",
      "Done with epoch 320 in 0.578125s\n",
      "Done with epoch 321 in 0.5468780994415283s\n",
      "Done with epoch 322 in 0.5468411445617676s\n",
      "Done with epoch 323 in 0.5626497268676758s\n",
      "Done with epoch 324 in 0.5312511920928955s\n",
      "Done with epoch 325 in 0.5781557559967041s\n",
      "loss:   1.7707327604293823,   acc:  0.4375\n",
      "Done with epoch 326 in 0.5469887256622314s\n",
      "Done with epoch 327 in 0.5468759536743164s\n",
      "Done with epoch 328 in 0.5469932556152344s\n",
      "Done with epoch 329 in 0.5468752384185791s\n",
      "Done with epoch 330 in 0.5469074249267578s\n",
      "Done with epoch 331 in 0.5468735694885254s\n",
      "Done with epoch 332 in 0.5314102172851562s\n",
      "loss:   1.816500186920166,   acc:  0.4375\n",
      "Done with epoch 333 in 0.5468473434448242s\n",
      "Done with epoch 334 in 0.5626564025878906s\n",
      "Done with epoch 335 in 0.5312509536743164s\n",
      "Done with epoch 336 in 0.5624682903289795s\n",
      "Done with epoch 337 in 0.5782380104064941s\n",
      "Done with epoch 338 in 0.5625338554382324s\n",
      "Done with epoch 339 in 0.547396183013916s\n",
      "loss:   1.635382890701294,   acc:  0.46875\n",
      "Done with epoch 340 in 0.5468752384185791s\n",
      "Done with epoch 341 in 0.5626320838928223s\n",
      "Done with epoch 342 in 0.546881914138794s\n",
      "Done with epoch 343 in 0.5313444137573242s\n",
      "Done with epoch 344 in 0.5624675750732422s\n",
      "Done with epoch 345 in 0.578193187713623s\n",
      "Done with epoch 346 in 0.5781309604644775s\n",
      "loss:   1.8857030868530273,   acc:  0.40625\n",
      "Done with epoch 347 in 0.6094036102294922s\n",
      "Done with epoch 348 in 0.5938901901245117s\n",
      "Done with epoch 349 in 0.5468747615814209s\n",
      "Done with epoch 350 in 0.5782337188720703s\n",
      "Done with epoch 351 in 0.5312821865081787s\n",
      "Done with epoch 352 in 0.5468788146972656s\n",
      "Done with epoch 353 in 0.5470280647277832s\n",
      "loss:   1.635500192642212,   acc:  0.34375\n",
      "Done with epoch 354 in 0.5624945163726807s\n",
      "Done with epoch 355 in 0.5625813007354736s\n",
      "Done with epoch 356 in 0.5624990463256836s\n",
      "Done with epoch 357 in 0.5468757152557373s\n",
      "Done with epoch 358 in 0.5469062328338623s\n",
      "Done with epoch 359 in 0.5626347064971924s\n",
      "Done with epoch 360 in 0.5312521457672119s\n",
      "loss:   1.7407740354537964,   acc:  0.375\n",
      "Done with epoch 361 in 0.5625331401824951s\n",
      "Done with epoch 362 in 0.5626699924468994s\n",
      "Done with epoch 363 in 0.5312209129333496s\n",
      "Done with epoch 364 in 0.5314106941223145s\n",
      "Done with epoch 365 in 0.5312516689300537s\n",
      "Done with epoch 366 in 0.5626280307769775s\n",
      "Done with epoch 367 in 0.5468730926513672s\n",
      "loss:   1.6542046070098877,   acc:  0.375\n",
      "Done with epoch 368 in 0.547011137008667s\n",
      "Done with epoch 369 in 0.5624699592590332s\n",
      "Done with epoch 370 in 0.5469043254852295s\n",
      "Done with epoch 371 in 0.5626990795135498s\n",
      "Done with epoch 372 in 0.5624988079071045s\n",
      "Done with epoch 373 in 0.5469849109649658s\n",
      "Done with epoch 374 in 0.531219482421875s\n",
      "loss:   1.3745286464691162,   acc:  0.53125\n",
      "Done with epoch 375 in 0.5469074249267578s\n",
      "Done with epoch 376 in 0.5624635219573975s\n",
      "Done with epoch 377 in 0.5470285415649414s\n",
      "Done with epoch 378 in 0.5468790531158447s\n",
      "Done with epoch 379 in 0.5469040870666504s\n",
      "Done with epoch 380 in 0.5468757152557373s\n",
      "Done with epoch 381 in 0.5313844680786133s\n",
      "loss:   1.688148856163025,   acc:  0.4375\n",
      "Done with epoch 382 in 0.5625953674316406s\n",
      "Done with epoch 383 in 0.578131914138794s\n",
      "Done with epoch 384 in 0.5468730926513672s\n",
      "Done with epoch 385 in 0.5468423366546631s\n",
      "Done with epoch 386 in 0.5313522815704346s\n",
      "Done with epoch 387 in 0.5468759536743164s\n",
      "Done with epoch 388 in 0.5783157348632812s\n",
      "Done with epoch 389 in 0.5312561988830566s\n",
      "loss:   1.5233577489852905,   acc:  0.5625\n",
      "Done with epoch 390 in 0.5781939029693604s\n",
      "Done with epoch 391 in 0.5469088554382324s\n",
      "Done with epoch 392 in 0.6093716621398926s\n",
      "Done with epoch 393 in 0.5469887256622314s\n",
      "Done with epoch 394 in 0.5624682903289795s\n",
      "Done with epoch 395 in 0.5626022815704346s\n",
      "Done with epoch 396 in 0.5312485694885254s\n",
      "loss:   1.5743156671524048,   acc:  0.5625\n",
      "Done with epoch 397 in 0.5625011920928955s\n",
      "Done with epoch 398 in 0.5469021797180176s\n",
      "Done with epoch 399 in 0.5627872943878174s\n",
      "Done with epoch 400 in 0.5937216281890869s\n",
      "Done with epoch 401 in 0.5625267028808594s\n",
      "Done with epoch 402 in 0.5470399856567383s\n",
      "Done with epoch 403 in 0.5625269412994385s\n",
      "loss:   1.7182666063308716,   acc:  0.5625\n",
      "Done with epoch 404 in 0.5468802452087402s\n",
      "Done with epoch 405 in 0.6406190395355225s\n",
      "Done with epoch 406 in 0.5782361030578613s\n",
      "Done with epoch 407 in 0.6407046318054199s\n",
      "Done with epoch 408 in 0.5937798023223877s\n",
      "Done with epoch 409 in 0.5625035762786865s\n",
      "Done with epoch 410 in 0.6249983310699463s\n",
      "loss:   1.750403642654419,   acc:  0.46875\n",
      "Done with epoch 411 in 0.5782651901245117s\n",
      "Done with epoch 412 in 0.5781261920928955s\n",
      "Done with epoch 413 in 0.6093757152557373s\n",
      "Done with epoch 414 in 0.5627269744873047s\n",
      "Done with epoch 415 in 0.5468692779541016s\n",
      "Done with epoch 416 in 0.6094760894775391s\n",
      "Done with epoch 417 in 0.5312550067901611s\n",
      "loss:   1.6148532629013062,   acc:  0.46875\n",
      "Done with epoch 418 in 0.5625016689300537s\n",
      "Done with epoch 419 in 0.5625841617584229s\n",
      "Done with epoch 420 in 0.5468733310699463s\n",
      "Done with epoch 421 in 0.562593936920166s\n",
      "Done with epoch 422 in 0.5469083786010742s\n",
      "Done with epoch 423 in 0.5469541549682617s\n",
      "Done with epoch 424 in 0.5468447208404541s\n",
      "loss:   1.2694382667541504,   acc:  0.59375\n",
      "Saved model at D:\\Curious\\OMISTL\\models/STL_horizon_25.pt\n",
      "Done with epoch 425 in 0.5636467933654785s\n",
      "Done with epoch 426 in 0.5624969005584717s\n",
      "Done with epoch 427 in 0.5312540531158447s\n",
      "Done with epoch 428 in 0.5469653606414795s\n",
      "Done with epoch 429 in 0.546881914138794s\n",
      "Done with epoch 430 in 0.5469651222229004s\n",
      "Done with epoch 431 in 0.5624961853027344s\n",
      "loss:   1.3415247201919556,   acc:  0.625\n",
      "Done with epoch 432 in 0.593756914138794s\n",
      "Done with epoch 433 in 0.5624945163726807s\n",
      "Done with epoch 434 in 0.5626842975616455s\n",
      "Done with epoch 435 in 0.5469579696655273s\n",
      "Done with epoch 436 in 0.5624661445617676s\n",
      "Done with epoch 437 in 0.5625360012054443s\n",
      "Done with epoch 438 in 0.5312128067016602s\n",
      "loss:   1.4621777534484863,   acc:  0.5\n",
      "Done with epoch 439 in 0.547015905380249s\n",
      "Done with epoch 440 in 0.5468893051147461s\n",
      "Done with epoch 441 in 0.546844482421875s\n",
      "Done with epoch 442 in 0.5625040531158447s\n",
      "Done with epoch 443 in 0.5470476150512695s\n",
      "Done with epoch 444 in 0.5624966621398926s\n",
      "Done with epoch 445 in 0.5468769073486328s\n",
      "loss:   1.4127380847930908,   acc:  0.40625\n",
      "Done with epoch 446 in 0.5470705032348633s\n",
      "Done with epoch 447 in 0.5624673366546631s\n",
      "Done with epoch 448 in 0.5470173358917236s\n",
      "Done with epoch 449 in 0.5892012119293213s\n",
      "Done with epoch 450 in 0.6718885898590088s\n",
      "Done with epoch 451 in 0.5939123630523682s\n",
      "Done with epoch 452 in 0.5625009536743164s\n",
      "loss:   1.7136672735214233,   acc:  0.46875\n",
      "Done with epoch 453 in 0.5625247955322266s\n",
      "Done with epoch 454 in 0.5468482971191406s\n",
      "Done with epoch 455 in 0.5627853870391846s\n",
      "Done with epoch 456 in 0.531221866607666s\n",
      "Done with epoch 457 in 0.5469949245452881s\n",
      "Done with epoch 458 in 0.5468440055847168s\n",
      "Done with epoch 459 in 0.6563479900360107s\n",
      "loss:   1.4600567817687988,   acc:  0.5625\n",
      "Done with epoch 460 in 0.5938267707824707s\n",
      "Done with epoch 461 in 0.5468738079071045s\n",
      "Done with epoch 462 in 0.562624454498291s\n",
      "Done with epoch 463 in 0.5624949932098389s\n",
      "Done with epoch 464 in 0.578101634979248s\n",
      "Done with epoch 465 in 0.5625290870666504s\n",
      "Done with epoch 466 in 0.5939056873321533s\n",
      "Done with epoch 467 in 0.578242301940918s\n",
      "loss:   1.7360376119613647,   acc:  0.375\n",
      "Done with epoch 468 in 0.5468499660491943s\n",
      "Done with epoch 469 in 0.5625247955322266s\n",
      "Done with epoch 470 in 0.546881914138794s\n",
      "Done with epoch 471 in 0.5470097064971924s\n",
      "Done with epoch 472 in 0.5312807559967041s\n",
      "Done with epoch 473 in 0.5624942779541016s\n",
      "Done with epoch 474 in 0.5626773834228516s\n",
      "loss:   1.8521357774734497,   acc:  0.375\n",
      "Done with epoch 475 in 0.5468440055847168s\n",
      "Done with epoch 476 in 0.5625307559967041s\n",
      "Done with epoch 477 in 0.5780963897705078s\n",
      "Done with epoch 478 in 0.5470023155212402s\n",
      "Done with epoch 479 in 0.578122615814209s\n",
      "Done with epoch 480 in 0.5469999313354492s\n",
      "Done with epoch 481 in 0.546875s\n",
      "loss:   1.3678957223892212,   acc:  0.65625\n",
      "Done with epoch 482 in 0.5626399517059326s\n",
      "Done with epoch 483 in 0.5468828678131104s\n",
      "Done with epoch 484 in 0.5468723773956299s\n",
      "Done with epoch 485 in 0.5626082420349121s\n",
      "Done with epoch 486 in 0.562464714050293s\n",
      "Done with epoch 487 in 0.562502384185791s\n",
      "Done with epoch 488 in 0.5468742847442627s\n",
      "loss:   1.6145615577697754,   acc:  0.53125\n",
      "Done with epoch 489 in 0.5783369541168213s\n",
      "Done with epoch 490 in 0.5312535762786865s\n",
      "Done with epoch 491 in 0.5626113414764404s\n",
      "Done with epoch 492 in 0.546983003616333s\n",
      "Done with epoch 493 in 0.5468416213989258s\n",
      "Done with epoch 494 in 0.5313308238983154s\n",
      "Done with epoch 495 in 0.5625009536743164s\n",
      "loss:   1.5828884840011597,   acc:  0.53125\n",
      "Done with epoch 496 in 0.5625274181365967s\n",
      "Done with epoch 497 in 0.5624732971191406s\n",
      "Done with epoch 498 in 0.5783348083496094s\n",
      "Done with epoch 499 in 0.5468792915344238s\n",
      "Saved model at D:\\Curious\\OMISTL\\models/STL_horizon_25.pt\n",
      "Done training\n"
     ]
    }
   ],
   "source": [
    "train_horizon_stl(25,spec)"
   ],
   "metadata": {
    "collapsed": false,
    "pycharm": {
     "name": "#%%\n"
    }
   }
  },
  {
   "cell_type": "code",
   "execution_count": 17,
   "outputs": [
    {
     "name": "stdout",
     "output_type": "stream",
     "text": [
      "Loading presaved classifier model from ../../models/RandomMultitarget_horizon_25.pt\n"
     ]
    },
    {
     "data": {
      "text/plain": "FFNet(\n  (activation): ReLU()\n  (layers): ModuleList(\n    (0): Linear(in_features=4, out_features=128, bias=True)\n    (1): Linear(in_features=128, out_features=128, bias=True)\n    (2): Linear(in_features=128, out_features=128, bias=True)\n    (3): Linear(in_features=128, out_features=3271, bias=True)\n  )\n)"
     },
     "execution_count": 17,
     "metadata": {},
     "output_type": "execute_result"
    }
   ],
   "source": [
    "fn_saved = '../../models/{}_horizon_{}.pt'.format(scenario.spec_name,str(N))\n",
    "prob = STL_planner(config=config_fn , spec=spec)\n",
    "stl_obj = OMISTL(system, prob, prob_features)\n",
    "stl_obj.construct_stl_strategies(train_data,4)\n",
    "stl_obj.setup_network()\n",
    "stl_obj.load_network(fn_saved)\n",
    "stl_obj.model"
   ],
   "metadata": {
    "collapsed": false,
    "pycharm": {
     "name": "#%%\n"
    }
   }
  },
  {
   "cell_type": "code",
   "execution_count": 18,
   "outputs": [
    {
     "name": "stdout",
     "output_type": "stream",
     "text": [
      "===============================================================================\n",
      "                                     CVXPY                                     \n",
      "                                    v1.1.20                                    \n",
      "===============================================================================\n",
      "(CVXPY) Oct 16 09:01:56 PM: Your problem has 1301 variables, 1998 constraints, and 4 parameters.\n",
      "(CVXPY) Oct 16 09:01:57 PM: It is compliant with the following grammars: DCP, DQCP\n",
      "(CVXPY) Oct 16 09:01:57 PM: CVXPY will first compile your problem; then, it will invoke a numerical solver to obtain a solution.\n",
      "-------------------------------------------------------------------------------\n",
      "                                  Compilation                                  \n",
      "-------------------------------------------------------------------------------\n",
      "(CVXPY) Oct 16 09:01:57 PM: Compiling problem (target solver=GUROBI).\n",
      "(CVXPY) Oct 16 09:01:57 PM: Reduction chain: CvxAttr2Constr -> Qp2SymbolicQp -> QpMatrixStuffing -> GUROBI\n",
      "(CVXPY) Oct 16 09:01:57 PM: Applying reduction CvxAttr2Constr\n",
      "(CVXPY) Oct 16 09:01:57 PM: Applying reduction Qp2SymbolicQp\n",
      "(CVXPY) Oct 16 09:01:58 PM: Applying reduction QpMatrixStuffing\n",
      "(CVXPY) Oct 16 09:01:59 PM: Applying reduction GUROBI\n",
      "(CVXPY) Oct 16 09:01:59 PM: Finished problem compilation (took 2.485e+00 seconds).\n",
      "(CVXPY) Oct 16 09:01:59 PM: (Subsequent compilations of this problem, using the same arguments, should take less time.)\n",
      "-------------------------------------------------------------------------------\n",
      "                                Numerical solver                               \n",
      "-------------------------------------------------------------------------------\n",
      "(CVXPY) Oct 16 09:01:59 PM: Invoking solver GUROBI  to obtain a solution.\n",
      "Parameter OutputFlag unchanged\n",
      "   Value: 1  Min: 0  Max: 1  Default: 1\n",
      "Changed value of parameter QCPDual to 1\n",
      "   Prev: 0  Min: 0  Max: 1  Default: 0\n",
      "Changed value of parameter Presolve to 1\n",
      "   Prev: -1  Min: -1  Max: 2  Default: -1\n",
      "Changed value of parameter TimeLimit to 60.0\n",
      "   Prev: inf  Min: 0.0  Max: inf  Default: inf\n",
      "Changed value of parameter Threads to 1\n",
      "   Prev: 0  Min: 0  Max: 1024  Default: 0\n",
      "Gurobi Optimizer version 9.1.2 build v9.1.2rc0 (win64)\n",
      "Thread count: 6 physical cores, 12 logical processors, using up to 1 threads\n",
      "Optimize a model with 2546 rows, 1451 columns and 6637 nonzeros\n",
      "Model fingerprint: 0x61bb8b96\n",
      "Model has 100 quadratic objective terms\n",
      "Variable types: 1358 continuous, 93 integer (93 binary)\n",
      "Coefficient statistics:\n",
      "  Matrix range     [1e+00, 2e+02]\n",
      "  Objective range  [1e+00, 1e+00]\n",
      "  QObjective range [2e-04, 2e-04]\n",
      "  Bounds range     [1e+00, 1e+00]\n",
      "  RHS range        [5e-01, 2e+02]\n",
      "Presolve removed 1773 rows and 1037 columns\n",
      "Presolve time: 0.00s\n",
      "Presolved: 773 rows, 414 columns, 3308 nonzeros\n",
      "Presolved model has 96 quadratic objective terms\n",
      "Variable types: 332 continuous, 82 integer (82 binary)\n",
      "\n",
      "Root relaxation: objective 0.000000e+00, 249 iterations, 0.00 seconds\n",
      "\n",
      "    Nodes    |    Current Node    |     Objective Bounds      |     Work\n",
      " Expl Unexpl |  Obj  Depth IntInf | Incumbent    BestBd   Gap | It/Node Time\n",
      "\n",
      "     0     0    0.00000    0    8          -    0.00000      -     -    0s\n",
      "H    0     0                       0.0003014    0.00000   100%     -    0s\n",
      "     0     0    0.00000    0   11    0.00030    0.00000   100%     -    0s\n",
      "     0     0    0.00000    0   12    0.00030    0.00000   100%     -    0s\n",
      "     0     0    0.00000    0   12    0.00030    0.00000   100%     -    0s\n",
      "     0     0    0.00000    0   16    0.00030    0.00000   100%     -    0s\n",
      "     0     0    0.00000    0   16    0.00030    0.00000   100%     -    0s\n",
      "     0     0    0.00000    0   17    0.00030    0.00000   100%     -    0s\n",
      "     0     2    0.00000    0   17    0.00030    0.00000   100%     -    0s\n",
      "*   49    23              18       0.0002848    0.00000   100%  11.2    0s\n",
      "H  138    48                       0.0002719    0.00000   100%  10.6    0s\n",
      "*  149    51              17       0.0002642    0.00000   100%  10.8    0s\n",
      "*  156    51              17       0.0002597    0.00000   100%  10.6    0s\n",
      "*  216    51              17       0.0002597    0.00000   100%  10.3    0s\n",
      "H  219    35                       0.0002465    0.00000   100%  10.3    0s\n",
      "*  277    39              15       0.0002128    0.00000   100%  10.7    0s\n",
      "*  421    63              17       0.0002092    0.00000   100%  10.9    0s\n",
      "H  683    96                       0.0002020    0.00000   100%  11.0    0s\n",
      "H  686    95                       0.0002001    0.00000   100%  11.0    0s\n",
      "H  712    83                       0.0001968    0.00000   100%  11.0    0s\n",
      "H  738    85                       0.0001955    0.00000   100%  11.0    0s\n",
      "H  764    85                       0.0001938    0.00000   100%  11.0    0s\n",
      "H  874    75                       0.0001648    0.00000   100%  11.0    0s\n",
      "H  959    78                       0.0001609    0.00000   100%  10.9    0s\n",
      "H 1040    88                       0.0001587    0.00000   100%  10.9    0s\n",
      "H 1679   116                       0.0001582    0.00000   100%  10.8    1s\n",
      "* 2165    90              18       0.0001535    0.00013  12.1%  10.9    1s\n",
      "\n",
      "Cutting planes:\n",
      "  Cover: 36\n",
      "  Implied bound: 39\n",
      "  MIR: 7\n",
      "  Flow cover: 25\n",
      "  Relax-and-lift: 2\n",
      "\n",
      "Explored 3548 nodes (33823 simplex iterations) in 1.95 seconds\n",
      "Thread count was 1 (of 12 available processors)\n",
      "\n",
      "Solution count 10: 0.000153489 0.000158226 0.000158661 ... 0.000246464\n",
      "\n",
      "Optimal solution found (tolerance 1.00e-04)\n",
      "Best objective 1.534891164415e-04, best bound 1.534891164415e-04, gap 0.0000%\n",
      "-------------------------------------------------------------------------------\n",
      "                                    Summary                                    \n",
      "-------------------------------------------------------------------------------\n",
      "(CVXPY) Oct 16 09:02:01 PM: Problem status: optimal\n",
      "(CVXPY) Oct 16 09:02:01 PM: Optimal value: 1.535e-04\n",
      "(CVXPY) Oct 16 09:02:01 PM: Compilation took 2.485e+00 seconds\n",
      "(CVXPY) Oct 16 09:02:01 PM: Solver (including time spent in interface) took 2.000e+00 seconds\n"
     ]
    }
   ],
   "source": [
    "prob.init_stl_problem()\n",
    "p_dict = {}\n",
    "p_dict['x0'] = [5,0.5,0,0]\n",
    "prob_success, cost, solve_time, sos1 ,vector, optvals_ori =prob.solve_stl(p_dict,solver=cp.GUROBI)"
   ],
   "metadata": {
    "collapsed": false,
    "pycharm": {
     "name": "#%%\n"
    }
   }
  },
  {
   "cell_type": "code",
   "execution_count": 19,
   "outputs": [
    {
     "name": "stdout",
     "output_type": "stream",
     "text": [
      "Original problem has 1998 constraints，1301 variables which contains 93 integer variables\n",
      "Solving original problem with STL tree encoding spends : 1.9691295623779297s\n"
     ]
    }
   ],
   "source": [
    "print('Original problem has 1998 constraints，1301 variables which contains 93 integer variables')\n",
    "print('Solving original problem with STL tree encoding spends : ' + str(solve_time)+ 's')"
   ],
   "metadata": {
    "collapsed": false,
    "pycharm": {
     "name": "#%%\n"
    }
   }
  },
  {
   "cell_type": "code",
   "execution_count": 20,
   "outputs": [
    {
     "data": {
      "text/plain": "<Figure size 432x288 with 1 Axes>",
      "image/png": "[encoded data removed]"
     },
     "metadata": {
      "needs_background": "light"
     },
     "output_type": "display_data"
    }
   ],
   "source": [
    "import matplotlib.pyplot as plt\n",
    "Xopt = optvals_ori[0]\n",
    "\n",
    "colors = ['green','yellow','blue','grey','orange']\n",
    "for i in range(len(scenario.targets)):\n",
    "    color = colors[i]\n",
    "    for j in range(scenario.targets_per_group):\n",
    "        target_bounds = list(scenario.targets[i][j])\n",
    "        targets_bounds = plt.Rectangle((target_bounds[0], target_bounds[2]), \\\n",
    "                                  target_bounds[1]-target_bounds[0], target_bounds[3]-target_bounds[2], \\\n",
    "                                 fc=color, ec='black')\n",
    "        plt.gca().add_patch(targets_bounds)\n",
    "        plt.axis('scaled')\n",
    "\n",
    "for i in range(len(scenario.obstacles)):\n",
    "    obstacle_bounds = list(scenario.obstacles[i])\n",
    "    obstacle = plt.Rectangle((obstacle_bounds[0], obstacle_bounds[2]), \\\n",
    "                                  obstacle_bounds[1]-obstacle_bounds[0], obstacle_bounds[3]-obstacle_bounds[2], \\\n",
    "                                 fc='white', ec='black')\n",
    "    plt.gca().add_patch(obstacle)\n",
    "\n",
    "x0 = p_dict['x0']\n",
    "circle = plt.Circle((x0[0],x0[1]), 0.04, fc='red',ec=\"red\")\n",
    "plt.gca().add_patch(circle)\n",
    "\n",
    "for jj in range(N):\n",
    "    circle = plt.Circle((Xopt[0,jj],Xopt[1,jj]), 0.1, fc='black',ec=\"black\")\n",
    "    plt.gca().add_patch(circle)\n",
    "\n",
    "posmin = np.zeros(2)\n",
    "ax = plt.gca()\n",
    "ax.margins(0)\n",
    "ax.set(xlim=(posmin[0],posmax[0]), ylim=(posmin[1],posmax[1]))\n",
    "plt.show()"
   ],
   "metadata": {
    "collapsed": false,
    "pycharm": {
     "name": "#%%\n"
    }
   }
  },
  {
   "cell_type": "code",
   "execution_count": 38,
   "outputs": [],
   "source": [
    "prob.init_stl_problem(True)\n",
    "prob_success, cost, solve_time, sos1 ,vector, optvals_ori =prob.solve_stl(p_dict,solver=cp.GUROBI,verbose=False)"
   ],
   "metadata": {
    "collapsed": false,
    "pycharm": {
     "name": "#%%\n"
    }
   }
  },
  {
   "cell_type": "code",
   "execution_count": 22,
   "outputs": [
    {
     "name": "stdout",
     "output_type": "stream",
     "text": [
      "original problem has 1506 constraints，1180 variables which contains 250 integer variables\n",
      "solving original problem using standard STL encoding spends : 1.3941707611083984s\n"
     ]
    }
   ],
   "source": [
    "print('original problem has 1506 constraints，1180 variables which contains 250 integer variables')\n",
    "print('solving original problem using standard STL encoding spends : ' + str(solve_time)+ 's')"
   ],
   "metadata": {
    "collapsed": false,
    "pycharm": {
     "name": "#%%\n"
    }
   }
  },
  {
   "cell_type": "code",
   "execution_count": 39,
   "outputs": [
    {
     "name": "stdout",
     "output_type": "stream",
     "text": [
      "prediction is success:True\n"
     ]
    }
   ],
   "source": [
    "prob_success, cost, solve_time, solution, optvals_ML = stl_obj.Predict(p_dict,solver=cp.GUROBI,max_evals=16,verbose=False)"
   ],
   "metadata": {
    "collapsed": false,
    "pycharm": {
     "name": "#%%\n"
    }
   }
  },
  {
   "cell_type": "code",
   "execution_count": 40,
   "outputs": [
    {
     "name": "stdout",
     "output_type": "stream",
     "text": [
      "reduced problem has 342 constraints，227 variables which contains 0 integer variables\n",
      "solving reduced ML problem using STL tree spends : 0.015625s\n"
     ]
    }
   ],
   "source": [
    "print('reduced problem has 342 constraints，227 variables which contains 0 integer variables')\n",
    "print('solving reduced ML problem using STL tree spends : ' + str(solve_time)+ 's')"
   ],
   "metadata": {
    "collapsed": false,
    "pycharm": {
     "name": "#%%\n"
    }
   }
  },
  {
   "cell_type": "code",
   "execution_count": 37,
   "outputs": [
    {
     "data": {
      "text/plain": "<Figure size 432x288 with 1 Axes>",
      "image/png": "[encoded data removed]"
     },
     "metadata": {
      "needs_background": "light"
     },
     "output_type": "display_data"
    }
   ],
   "source": [
    "import matplotlib.pyplot as plt\n",
    "Xopt = optvals_ML[0]\n",
    "\n",
    "colors = ['green','yellow','blue','grey','orange']\n",
    "for i in range(len(scenario.targets)):\n",
    "    color = colors[i]\n",
    "    for j in range(scenario.targets_per_group):\n",
    "        target_bounds = list(scenario.targets[i][j])\n",
    "        targets_bounds = plt.Rectangle((target_bounds[0], target_bounds[2]), \\\n",
    "                                  target_bounds[1]-target_bounds[0], target_bounds[3]-target_bounds[2], \\\n",
    "                                 fc=color, ec='black')\n",
    "        plt.gca().add_patch(targets_bounds)\n",
    "        plt.axis('scaled')\n",
    "\n",
    "for i in range(len(scenario.obstacles)):\n",
    "    obstacle_bounds = list(scenario.obstacles[i])\n",
    "    obstacle = plt.Rectangle((obstacle_bounds[0], obstacle_bounds[2]), \\\n",
    "                                  obstacle_bounds[1]-obstacle_bounds[0], obstacle_bounds[3]-obstacle_bounds[2], \\\n",
    "                                 fc='white', ec='black')\n",
    "    plt.gca().add_patch(obstacle)\n",
    "\n",
    "x0 = prob_params['x0']\n",
    "circle = plt.Circle((x0[0],x0[1]), 0.04, fc='red',ec=\"red\")\n",
    "plt.gca().add_patch(circle)\n",
    "\n",
    "#blue line is network prediction\n",
    "# plt.plot(xg[0],xg[1],'sr')\n",
    "# plt.quiver(Xopt[0,:], Xopt[1,:], Xopt[2,:], Xopt[3,:])#用箭头表示#\n",
    "for jj in range(N):\n",
    "    circle = plt.Circle((Xopt[0,jj],Xopt[1,jj]), 0.1, fc='black',ec=\"black\")\n",
    "    plt.gca().add_patch(circle)\n",
    "\n",
    "\n",
    "posmin = np.zeros(2)\n",
    "\n",
    "ax = plt.gca()\n",
    "ax.margins(0)\n",
    "ax.set(xlim=(posmin[0],posmax[0]), ylim=(posmin[1],posmax[1]))\n",
    "plt.show()"
   ],
   "metadata": {
    "collapsed": false,
    "pycharm": {
     "name": "#%%\n"
    }
   }
  },
  {
   "cell_type": "markdown",
   "source": [],
   "metadata": {
    "collapsed": false,
    "pycharm": {
     "name": "#%% md\n"
    }
   }
  }
 ],
 "metadata": {
  "kernelspec": {
   "name": "coco",
   "language": "python",
   "display_name": "coco"
  },
  "language_info": {
   "codemirror_mode": {
    "name": "ipython",
    "version": 2
   },
   "file_extension": ".py",
   "mimetype": "text/x-python",
   "name": "python",
   "nbconvert_exporter": "python",
   "pygments_lexer": "ipython2",
   "version": "2.7.6"
  }
 },
 "nbformat": 4,
 "nbformat_minor": 0
}