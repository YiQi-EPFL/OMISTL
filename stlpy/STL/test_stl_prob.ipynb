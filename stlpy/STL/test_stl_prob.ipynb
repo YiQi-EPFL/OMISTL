{
 "cells": [
  {
   "cell_type": "code",
   "execution_count": 97,
   "metadata": {
    "collapsed": true
   },
   "outputs": [
    {
     "name": "stdout",
     "output_type": "stream",
     "text": [
      "The autoreload extension is already loaded. To reload it, use:\n",
      "  %reload_ext autoreload\n"
     ]
    }
   ],
   "source": [
    "%load_ext autoreload\n",
    "%autoreload 2\n",
    "\n",
    "from MPC.utils import findIC\n",
    "from para_stl import paraset\n",
    "import os\n",
    "import pickle\n",
    "from stlpy.benchmark.reach_avoid import ReachAvoid\n",
    "from stlpy.benchmark.random_multitarget import RandomMultitarget\n",
    "import numpy as np\n",
    "from stl_planner import STL_planner\n",
    "import cvxpy as cp\n",
    "from solvers.OMISTL import OMISTL\n",
    "import plot\n",
    "from train_stl import train_horizon_stl\n",
    "from sampling import sampling_stl\n",
    "import pandas as pd"
   ]
  },
  {
   "cell_type": "code",
   "execution_count": 294,
   "outputs": [],
   "source": [
    "N=10\n",
    "x0 = [1,0.5,0,0]\n",
    "vmax = 0.5\n",
    "prob_params= {}\n",
    "prob_params['x0'] = x0\n",
    "Q = 1e-1*np.diag([0,0,1,1])   # just penalize high velocities\n",
    "R = 1e-1*np.eye(2)\n",
    "\n",
    "posmin = np.array([0.0, 0.0, -1.0, -1.0])\n",
    "posmax =np.array([3.5,2.5, 1.0, 1.0])\n",
    "umax = np.array([0.2, 0.2])\n",
    "\n",
    "goal_bounds = (2.90, 3.25, 2.00, 2.25)     # (xmin, xmax, ymin, ymax)\n",
    "obstacle_bounds = (1.25, 1.75, 0.20, 1.00)\n",
    "\n",
    "rec=[]\n",
    "rec.append(list(goal_bounds))\n",
    "rec.append(list(obstacle_bounds))\n",
    "\n",
    "scenario = ReachAvoid(goal_bounds, obstacle_bounds, N-1)\n",
    "spec = scenario.GetSpecification()\n",
    "spec.simplify()\n",
    "spec_name= 'ReachAvoid'\n",
    "\n",
    "# paraset(N=N,n_obs=5, Q=Q,R=R, xmin= posmin, xmax = posmax, vmax=vmax, umax =umax, spec_name=spec_name, vector=vector_mat)\n",
    "paraset(N=N,n_obs=5, Q=Q,R=R, xmin= posmin,obstacles=rec, xmax = posmax, vmax=vmax, umax =umax, spec_name=spec_name)"
   ],
   "metadata": {
    "collapsed": false,
    "pycharm": {
     "name": "#%%\n"
    }
   }
  },
  {
   "cell_type": "code",
   "execution_count": 295,
   "outputs": [
    {
     "name": "stdout",
     "output_type": "stream",
     "text": [
      "===============================================================================\n",
      "                                     CVXPY                                     \n",
      "                                    v1.1.20                                    \n",
      "===============================================================================\n",
      "(CVXPY) Oct 23 12:26:06 PM: Your problem has 268 variables, 342 constraints, and 4 parameters.\n",
      "(CVXPY) Oct 23 12:26:06 PM: It is compliant with the following grammars: DCP, DQCP\n",
      "(CVXPY) Oct 23 12:26:06 PM: CVXPY will first compile your problem; then, it will invoke a numerical solver to obtain a solution.\n",
      "-------------------------------------------------------------------------------\n",
      "                                  Compilation                                  \n",
      "-------------------------------------------------------------------------------\n",
      "(CVXPY) Oct 23 12:26:06 PM: Compiling problem (target solver=GUROBI).\n",
      "(CVXPY) Oct 23 12:26:06 PM: Reduction chain: CvxAttr2Constr -> Qp2SymbolicQp -> QpMatrixStuffing -> GUROBI\n",
      "(CVXPY) Oct 23 12:26:06 PM: Applying reduction CvxAttr2Constr\n",
      "(CVXPY) Oct 23 12:26:06 PM: Applying reduction Qp2SymbolicQp\n",
      "(CVXPY) Oct 23 12:26:06 PM: Applying reduction QpMatrixStuffing\n",
      "(CVXPY) Oct 23 12:26:06 PM: Applying reduction GUROBI\n",
      "(CVXPY) Oct 23 12:26:06 PM: Finished problem compilation (took 2.500e-01 seconds).\n",
      "(CVXPY) Oct 23 12:26:06 PM: (Subsequent compilations of this problem, using the same arguments, should take less time.)\n",
      "-------------------------------------------------------------------------------\n",
      "                                Numerical solver                               \n",
      "-------------------------------------------------------------------------------\n",
      "(CVXPY) Oct 23 12:26:06 PM: Invoking solver GUROBI  to obtain a solution.\n",
      "Parameter OutputFlag unchanged\n",
      "   Value: 1  Min: 0  Max: 1  Default: 1\n",
      "Changed value of parameter QCPDual to 1\n",
      "   Prev: 0  Min: 0  Max: 1  Default: 0\n",
      "Changed value of parameter Presolve to 1\n",
      "   Prev: -1  Min: -1  Max: 2  Default: -1\n",
      "Changed value of parameter TimeLimit to 60.0\n",
      "   Prev: inf  Min: 0.0  Max: inf  Default: inf\n",
      "Changed value of parameter Threads to 1\n",
      "   Prev: 0  Min: 0  Max: 1024  Default: 0\n",
      "Gurobi Optimizer version 9.1.2 build v9.1.2rc0 (win64)\n",
      "Thread count: 6 physical cores, 12 logical processors, using up to 1 threads\n",
      "Optimize a model with 560 rows, 328 columns and 1218 nonzeros\n",
      "Model fingerprint: 0x04e48818\n",
      "Model has 40 quadratic objective terms\n",
      "Variable types: 294 continuous, 34 integer (34 binary)\n",
      "Coefficient statistics:\n",
      "  Matrix range     [1e+00, 2e+02]\n",
      "  Objective range  [1e+00, 1e+00]\n",
      "  QObjective range [2e-01, 2e-01]\n",
      "  Bounds range     [1e+00, 1e+00]\n",
      "  RHS range        [2e-01, 2e+02]\n",
      "Presolve removed 446 rows and 229 columns\n",
      "Presolve time: 0.02s\n",
      "Presolved: 114 rows, 99 columns, 378 nonzeros\n",
      "Presolved model has 36 quadratic objective terms\n",
      "Variable types: 74 continuous, 25 integer (25 binary)\n",
      "\n",
      "Root relaxation: objective 0.000000e+00, 83 iterations, 0.00 seconds\n",
      "\n",
      "    Nodes    |    Current Node    |     Objective Bounds      |     Work\n",
      " Expl Unexpl |  Obj  Depth IntInf | Incumbent    BestBd   Gap | It/Node Time\n",
      "\n",
      "     0     0    0.00000    0    9          -    0.00000      -     -    0s\n",
      "H    0     0                       0.1011207    0.00000   100%     -    0s\n",
      "     0     0    0.00000    0   10    0.10112    0.00000   100%     -    0s\n",
      "     0     0    0.00000    0    9    0.10112    0.00000   100%     -    0s\n",
      "     0     0    0.00000    0    8    0.10112    0.00000   100%     -    0s\n",
      "     0     0    0.00000    0    7    0.10112    0.00000   100%     -    0s\n",
      "     0     0    0.00000    0   10    0.10112    0.00000   100%     -    0s\n",
      "     0     0    0.00000    0    9    0.10112    0.00000   100%     -    0s\n",
      "     0     0    0.00000    0    9    0.10112    0.00000   100%     -    0s\n",
      "     0     2    0.00000    0    9    0.10112    0.00000   100%     -    0s\n",
      "H    4     2                       0.0864867    0.00000   100%   4.8    0s\n",
      "\n",
      "Cutting planes:\n",
      "  Flow cover: 4\n",
      "  Relax-and-lift: 1\n",
      "\n",
      "Explored 12 nodes (317 simplex iterations) in 0.05 seconds\n",
      "Thread count was 1 (of 12 available processors)\n",
      "\n",
      "Solution count 2: 0.0864867 0.101121 \n",
      "\n",
      "Optimal solution found (tolerance 1.00e-04)\n",
      "Best objective 8.648668112338e-02, best bound 8.648668112338e-02, gap 0.0000%\n",
      "-------------------------------------------------------------------------------\n",
      "                                    Summary                                    \n",
      "-------------------------------------------------------------------------------\n",
      "(CVXPY) Oct 23 12:26:06 PM: Problem status: optimal\n",
      "(CVXPY) Oct 23 12:26:06 PM: Optimal value: 8.649e-02\n",
      "(CVXPY) Oct 23 12:26:06 PM: Compilation took 2.500e-01 seconds\n",
      "(CVXPY) Oct 23 12:26:06 PM: Solver (including time spent in interface) took 6.250e-02 seconds\n"
     ]
    }
   ],
   "source": [
    "#load train/test data\n",
    "dataset_name = '{}_horizon_{}'.format(spec_name,N)\n",
    "\n",
    "#加载设置文件地址，config = [dataset_name, prob_params, sampled_params]#\n",
    "relative_path = os.getcwd()\n",
    "config_fn = os.path.join(relative_path, 'config', dataset_name+'.p')\n",
    "\n",
    "config_file = open(config_fn,'rb')\n",
    "config=pickle.load(config_file)\n",
    "\n",
    "dataset_name =  config[0]\n",
    "config_file.close()#读取设置#\n",
    "\n",
    "prob = STL_planner(config=config_fn , spec=spec)\n",
    "prob.init_stl_problem()\n",
    "prob_success, cost, solve_time,integer, vector, optvals =prob.solve_stl(prob_params,solver=cp.GUROBI,verbose=True)"
   ],
   "metadata": {
    "collapsed": false,
    "pycharm": {
     "name": "#%%\n"
    }
   }
  },
  {
   "cell_type": "code",
   "execution_count": 127,
   "outputs": [
    {
     "data": {
      "text/plain": "<Figure size 432x288 with 1 Axes>",
      "image/png": "[encoded data removed]"
     },
     "metadata": {
      "needs_background": "light"
     },
     "output_type": "display_data"
    }
   ],
   "source": [
    "plot.reach_avoid_plot(optvals,scenario,prob_params)"
   ],
   "metadata": {
    "collapsed": false,
    "pycharm": {
     "name": "#%%\n"
    }
   }
  },
  {
   "cell_type": "code",
   "execution_count": 128,
   "outputs": [
    {
     "data": {
      "text/plain": "[array([0., 0., 0., 0., 0., 0., 0., 0., 0., 0., 1.]),\n array([0., 0., 0., 0., 1.]),\n array([0., 0., 0., 0., 1.]),\n array([0., 0., 0., 0., 1.]),\n array([0., 0., 0., 0., 1.]),\n array([0., 0., 1., 0., 0.]),\n array([0., 0., 0., 1., 0.]),\n array([0., 0., 0., 1., 0.]),\n array([0., 0., 0., 1., 0.]),\n array([0., 0., 0., 1., 0.]),\n array([0., 0., 0., 1., 0.])]"
     },
     "execution_count": 128,
     "metadata": {},
     "output_type": "execute_result"
    }
   ],
   "source": [
    "inter_matrix = []\n",
    "for i in range(len(prob.vector)):\n",
    "    # print(prob.integer[i].value)\n",
    "    inter_matrix.append(prob.vector[i].value)\n",
    "inter_matrix"
   ],
   "metadata": {
    "collapsed": false,
    "pycharm": {
     "name": "#%%\n"
    }
   }
  },
  {
   "cell_type": "code",
   "execution_count": 129,
   "outputs": [],
   "source": [
    "prob.init_pred_problem(inter_matrix)"
   ],
   "metadata": {
    "collapsed": false,
    "pycharm": {
     "name": "#%%\n"
    }
   }
  },
  {
   "cell_type": "code",
   "execution_count": 130,
   "outputs": [
    {
     "name": "stdout",
     "output_type": "stream",
     "text": [
      "===============================================================================\n",
      "                                     CVXPY                                     \n",
      "                                    v1.1.20                                    \n",
      "===============================================================================\n",
      "(CVXPY) Oct 23 11:43:22 AM: Your problem has 137 variables, 89 constraints, and 4 parameters.\n",
      "(CVXPY) Oct 23 11:43:22 AM: It is compliant with the following grammars: DCP, DQCP\n",
      "(CVXPY) Oct 23 11:43:22 AM: CVXPY will first compile your problem; then, it will invoke a numerical solver to obtain a solution.\n",
      "-------------------------------------------------------------------------------\n",
      "                                  Compilation                                  \n",
      "-------------------------------------------------------------------------------\n",
      "(CVXPY) Oct 23 11:43:22 AM: Compiling problem (target solver=GUROBI).\n",
      "(CVXPY) Oct 23 11:43:22 AM: Reduction chain: CvxAttr2Constr -> Qp2SymbolicQp -> QpMatrixStuffing -> GUROBI\n",
      "(CVXPY) Oct 23 11:43:22 AM: Applying reduction CvxAttr2Constr\n",
      "(CVXPY) Oct 23 11:43:22 AM: Applying reduction Qp2SymbolicQp\n",
      "(CVXPY) Oct 23 11:43:22 AM: Applying reduction QpMatrixStuffing\n",
      "(CVXPY) Oct 23 11:43:22 AM: Applying reduction GUROBI\n",
      "(CVXPY) Oct 23 11:43:22 AM: Finished problem compilation (took 6.250e-02 seconds).\n",
      "(CVXPY) Oct 23 11:43:22 AM: (Subsequent compilations of this problem, using the same arguments, should take less time.)\n",
      "-------------------------------------------------------------------------------\n",
      "                                Numerical solver                               \n",
      "-------------------------------------------------------------------------------\n",
      "(CVXPY) Oct 23 11:43:22 AM: Invoking solver GUROBI  to obtain a solution.\n",
      "Parameter OutputFlag unchanged\n",
      "   Value: 1  Min: 0  Max: 1  Default: 1\n",
      "Changed value of parameter QCPDual to 1\n",
      "   Prev: 0  Min: 0  Max: 1  Default: 0\n",
      "Changed value of parameter Presolve to 1\n",
      "   Prev: -1  Min: -1  Max: 2  Default: -1\n",
      "Changed value of parameter TimeLimit to 60.0\n",
      "   Prev: inf  Min: 0.0  Max: inf  Default: inf\n",
      "Changed value of parameter Threads to 1\n",
      "   Prev: 0  Min: 0  Max: 1024  Default: 0\n",
      "Gurobi Optimizer version 9.1.2 build v9.1.2rc0 (win64)\n",
      "Thread count: 6 physical cores, 12 logical processors, using up to 1 threads\n",
      "Optimize a model with 307 rows, 197 columns and 528 nonzeros\n",
      "Model fingerprint: 0x9e9b7a81\n",
      "Model has 40 quadratic objective terms\n",
      "Coefficient statistics:\n",
      "  Matrix range     [1e+00, 2e+02]\n",
      "  Objective range  [1e+00, 1e+00]\n",
      "  QObjective range [2e-01, 2e-01]\n",
      "  Bounds range     [0e+00, 0e+00]\n",
      "  RHS range        [2e-01, 2e+02]\n",
      "Presolve removed 276 rows and 148 columns\n",
      "Presolve time: 0.00s\n",
      "Presolved: 31 rows, 49 columns, 92 nonzeros\n",
      "Presolved model has 36 quadratic objective terms\n",
      "Ordering time: 0.00s\n",
      "\n",
      "Barrier statistics:\n",
      " AA' NZ     : 5.600e+01\n",
      " Factor NZ  : 2.560e+02\n",
      " Factor Ops : 2.736e+03 (less than 1 second per iteration)\n",
      " Threads    : 1\n",
      "\n",
      "                  Objective                Residual\n",
      "Iter       Primal          Dual         Primal    Dual     Compl     Time\n",
      "   0   1.44013864e+07 -1.44382176e+07  2.00e+03 7.60e+02  9.44e+05     0s\n",
      "   1   3.89057848e+04 -6.97091673e+04  9.93e+01 3.77e+01  4.75e+04     0s\n",
      "   2   1.67222279e+00 -2.98501188e+04  5.21e-01 1.98e-01  5.49e+02     0s\n",
      "   3   1.52331205e-01 -9.48243315e+03  2.03e-02 7.70e-03  1.02e+02     0s\n",
      "   4   1.28761176e-01 -5.74924223e+01  2.74e-05 1.04e-05  5.88e-01     0s\n",
      "   5   1.27690697e-01 -6.75542943e-01  3.82e-07 1.45e-07  8.20e-03     0s\n",
      "   6   1.07567668e-01 -3.66463890e-02  5.50e-08 2.09e-08  1.47e-03     0s\n",
      "   7   9.02853665e-02  2.31705649e-02  5.51e-14 2.10e-14  6.85e-04     0s\n",
      "   8   8.69234546e-02  7.83346637e-02  2.00e-15 8.33e-16  8.76e-05     0s\n",
      "   9   8.64931813e-02  8.64120812e-02  8.88e-16 5.55e-17  8.28e-07     0s\n",
      "  10   8.64866871e-02  8.64863943e-02  2.35e-14 1.11e-16  2.99e-09     0s\n",
      "  11   8.64866811e-02  8.64866808e-02  9.97e-13 2.22e-16  2.99e-12     0s\n",
      "\n",
      "Barrier solved model in 11 iterations and 0.02 seconds\n",
      "Optimal objective 8.64866811e-02\n",
      "\n",
      "-------------------------------------------------------------------------------\n",
      "                                    Summary                                    \n",
      "-------------------------------------------------------------------------------\n",
      "(CVXPY) Oct 23 11:43:22 AM: Problem status: optimal\n",
      "(CVXPY) Oct 23 11:43:22 AM: Optimal value: 8.649e-02\n",
      "(CVXPY) Oct 23 11:43:22 AM: Compilation took 6.250e-02 seconds\n",
      "(CVXPY) Oct 23 11:43:22 AM: Solver (including time spent in interface) took 3.122e-02 seconds\n"
     ]
    }
   ],
   "source": [
    "prob_success, cost, solve_time, optvals =prob.solve_pred(prob_params,solver=cp.GUROBI)"
   ],
   "metadata": {
    "collapsed": false,
    "pycharm": {
     "name": "#%%\n"
    }
   }
  },
  {
   "cell_type": "code",
   "execution_count": 131,
   "outputs": [
    {
     "name": "stdout",
     "output_type": "stream",
     "text": [
      "True\n",
      "0.015621185302734375\n"
     ]
    }
   ],
   "source": [
    "print(prob_success)\n",
    "print(solve_time)"
   ],
   "metadata": {
    "collapsed": false,
    "pycharm": {
     "name": "#%%\n"
    }
   }
  },
  {
   "cell_type": "code",
   "execution_count": 132,
   "outputs": [
    {
     "data": {
      "text/plain": "<Figure size 432x288 with 1 Axes>",
      "image/png": "[encoded data removed]"
     },
     "metadata": {
      "needs_background": "light"
     },
     "output_type": "display_data"
    }
   ],
   "source": [
    "plot.reach_avoid_plot(optvals,scenario,prob_params)"
   ],
   "metadata": {
    "collapsed": false,
    "pycharm": {
     "name": "#%%\n"
    }
   }
  },
  {
   "cell_type": "code",
   "execution_count": 332,
   "outputs": [],
   "source": [
    "N=10\n",
    "# x0 = np.array([2.0,8.0,0,0])\n",
    "# prob_params= {}\n",
    "# prob_params['x0'] = x0\n",
    "x0 = [1,0.5,0,0]\n",
    "vmax = 0.5\n",
    "prob_params= {}\n",
    "prob_params['x0'] = x0\n",
    "Q = 1e-1*np.diag([0,0,1,1])   # just penalize high velocities\n",
    "R = 1e-1*np.eye(2)\n",
    "\n",
    "posmin = np.array([0.0, 0.0, -1.0, -1.0])\n",
    "posmax =np.array([3.5,2.5, 1.0, 1.0])\n",
    "umax = np.array([0.2, 0.2])\n",
    "\n",
    "goal_bounds = (2.90, 3.25, 2.00, 2.25)     # (xmin, xmax, ymin, ymax)\n",
    "obstacle_bounds = (1.25, 1.75, 0.20, 1.00)\n",
    "\n",
    "\n",
    "rec=[]\n",
    "rec.append(list(goal_bounds))\n",
    "rec.append(list(obstacle_bounds))\n",
    "\n",
    "scenario = ReachAvoid(goal_bounds, obstacle_bounds, N-1)\n",
    "spec = scenario.GetSpecification()\n",
    "spec.simplify()\n",
    "spec_name= 'ReachAvoid'\n",
    "\n",
    "# paraset(N=N,n_obs=5, Q=Q,R=R, xmin= posmin, xmax = posmax, vmax=vmax, umax =umax, spec_name=spec_name, vector=vector_mat)\n",
    "paraset(N=N,n_obs=1, Q=Q,R=R, xmin= posmin,obstacles=rec, xmax = posmax, vmax=vmax, umax =umax, spec_name=spec_name,num_probs=20000)"
   ],
   "metadata": {
    "collapsed": false,
    "pycharm": {
     "name": "#%%\n"
    }
   }
  },
  {
   "cell_type": "code",
   "execution_count": 333,
   "outputs": [],
   "source": [
    "dataset_name = '{}_horizon_{}'.format(spec_name,N)\n",
    "\n",
    "#加载设置文件地址，config = [dataset_name, prob_params, sampled_params]#\n",
    "relative_path = os.getcwd()\n",
    "config_fn = os.path.join(relative_path, 'config', dataset_name+'.p')\n",
    "\n",
    "config_file = open(config_fn,'rb')\n",
    "config = pickle.load(config_file)\n",
    "\n",
    "dataset_name =  config[0]\n",
    "config_file.close()#读取设置#"
   ],
   "metadata": {
    "collapsed": false,
    "pycharm": {
     "name": "#%%\n"
    }
   }
  },
  {
   "cell_type": "code",
   "execution_count": 334,
   "outputs": [],
   "source": [
    "# sampling_stl(spec_name,spec,N)"
   ],
   "metadata": {
    "collapsed": false,
    "pycharm": {
     "name": "#%%\n"
    }
   }
  },
  {
   "cell_type": "markdown",
   "source": [
    "### load train data"
   ],
   "metadata": {
    "collapsed": false,
    "pycharm": {
     "name": "#%% md\n"
    }
   }
  },
  {
   "cell_type": "code",
   "execution_count": 335,
   "outputs": [],
   "source": [
    "relative_path = os.getcwd()\n",
    "train_fn = 'train_horizon_{}.p'.format(N)\n",
    "train_fn = os.path.join(relative_path, 'data', dataset_name, train_fn)\n",
    "train_file = open(train_fn,'rb')\n",
    "# train_file = open(dataset_fn+'/train.p','rb')\n",
    "train_data = pickle.load(train_file)"
   ],
   "metadata": {
    "collapsed": false,
    "pycharm": {
     "name": "#%%\n"
    }
   }
  },
  {
   "cell_type": "markdown",
   "source": [
    "### set model"
   ],
   "metadata": {
    "collapsed": false,
    "pycharm": {
     "name": "#%% md\n"
    }
   }
  },
  {
   "cell_type": "code",
   "source": [
    "system = spec_name\n",
    "prob_features = ['x0']\n",
    "stl_obj = OMISTL(system, prob, prob_features)\n",
    "stl_obj.construct_stl_strategies(train_data,4)\n",
    "stl_obj.setup_network()\n",
    "stl_obj.model\n",
    "print(stl_obj.n_strategies)"
   ],
   "metadata": {
    "collapsed": false,
    "pycharm": {
     "name": "#%%\n"
    }
   },
   "execution_count": 337,
   "outputs": [
    {
     "name": "stdout",
     "output_type": "stream",
     "text": [
      "171\n"
     ]
    }
   ]
  },
  {
   "cell_type": "code",
   "execution_count": 341,
   "outputs": [
    {
     "name": "stdout",
     "output_type": "stream",
     "text": [
      "Loading presaved classifier model from ../../models/ReachAvoid_horizon_10.pt\n"
     ]
    },
    {
     "data": {
      "text/plain": "FFNet(\n  (activation): ReLU()\n  (layers): ModuleList(\n    (0): Linear(in_features=4, out_features=128, bias=True)\n    (1): Linear(in_features=128, out_features=128, bias=True)\n    (2): Linear(in_features=128, out_features=128, bias=True)\n    (3): Linear(in_features=128, out_features=171, bias=True)\n  )\n)"
     },
     "execution_count": 341,
     "metadata": {},
     "output_type": "execute_result"
    }
   ],
   "source": [
    "fn_saved = '../../models/{}_horizon_{}.pt'.format(scenario.spec_name,str(N))\n",
    "prob = STL_planner(config=config_fn , spec=spec)\n",
    "stl_obj = OMISTL(system, prob, prob_features)\n",
    "stl_obj.construct_stl_strategies(train_data,4)\n",
    "stl_obj.setup_network()\n",
    "stl_obj.load_network(fn_saved)\n",
    "stl_obj.model"
   ],
   "metadata": {
    "collapsed": false,
    "pycharm": {
     "name": "#%%\n"
    }
   }
  },
  {
   "cell_type": "code",
   "execution_count": 44,
   "outputs": [
    {
     "name": "stdout",
     "output_type": "stream",
     "text": [
      "Number of strategies for horizon 10: 171\n",
      "Done with epoch 0 in 1.2658069133758545s\n",
      "Done with epoch 1 in 1.2187492847442627s\n",
      "Done with epoch 2 in 1.1877036094665527s\n",
      "loss:   1.3221678733825684,   acc:  0.65625\n",
      "Done with epoch 3 in 1.3750028610229492s\n",
      "Done with epoch 4 in 1.7562012672424316s\n",
      "Done with epoch 5 in 1.4219715595245361s\n",
      "Done with epoch 6 in 1.734541654586792s\n",
      "loss:   1.0924535989761353,   acc:  0.625\n",
      "Done with epoch 7 in 1.5014173984527588s\n",
      "Done with epoch 8 in 1.265625238418579s\n",
      "Done with epoch 9 in 1.2188665866851807s\n",
      "loss:   0.5727818012237549,   acc:  0.8125\n",
      "Done with epoch 10 in 1.2031314373016357s\n",
      "Done with epoch 11 in 1.0470912456512451s\n",
      "Done with epoch 12 in 1.2970070838928223s\n",
      "Done with epoch 13 in 1.312603235244751s\n",
      "loss:   0.5974372625350952,   acc:  0.8125\n",
      "Done with epoch 14 in 1.296966791152954s\n",
      "Done with epoch 15 in 1.3212904930114746s\n",
      "Done with epoch 16 in 1.2813875675201416s\n",
      "loss:   0.6003618240356445,   acc:  0.78125\n",
      "Done with epoch 17 in 1.2188966274261475s\n",
      "Done with epoch 18 in 1.203242540359497s\n",
      "Done with epoch 19 in 1.2657582759857178s\n",
      "Done with epoch 20 in 1.1875865459442139s\n",
      "loss:   0.7026258111000061,   acc:  0.78125\n",
      "Done with epoch 21 in 1.3125011920928955s\n",
      "Done with epoch 22 in 1.218918800354004s\n",
      "Done with epoch 23 in 1.2350704669952393s\n",
      "loss:   0.46510523557662964,   acc:  0.875\n",
      "Done with epoch 24 in 1.203125s\n",
      "Done with epoch 25 in 1.2344834804534912s\n",
      "Done with epoch 26 in 1.281339168548584s\n",
      "Done with epoch 27 in 1.328197717666626s\n",
      "loss:   0.8015254139900208,   acc:  0.75\n",
      "Done with epoch 28 in 1.3438897132873535s\n",
      "Done with epoch 29 in 1.4845032691955566s\n",
      "Done with epoch 30 in 1.390740156173706s\n",
      "loss:   0.8867446184158325,   acc:  0.75\n",
      "Done with epoch 31 in 1.3125016689300537s\n",
      "Done with epoch 32 in 1.234558343887329s\n",
      "Done with epoch 33 in 1.234570026397705s\n",
      "Done with epoch 34 in 1.328223466873169s\n",
      "loss:   0.7173588275909424,   acc:  0.8125\n",
      "Done with epoch 35 in 1.3126201629638672s\n",
      "Done with epoch 36 in 1.3751370906829834s\n",
      "Done with epoch 37 in 1.2656991481781006s\n",
      "Done with epoch 38 in 1.3125836849212646s\n",
      "loss:   0.9732193946838379,   acc:  0.75\n",
      "Done with epoch 39 in 1.3437530994415283s\n",
      "Done with epoch 40 in 1.3285322189331055s\n",
      "Done with epoch 41 in 1.3282127380371094s\n",
      "loss:   0.48409873247146606,   acc:  0.78125\n",
      "Done with epoch 42 in 1.234452486038208s\n",
      "Done with epoch 43 in 1.2814247608184814s\n",
      "Done with epoch 44 in 1.265718936920166s\n",
      "Done with epoch 45 in 1.312596321105957s\n",
      "loss:   0.6316966414451599,   acc:  0.78125\n",
      "Done with epoch 46 in 1.2501320838928223s\n",
      "Done with epoch 47 in 1.2344658374786377s\n",
      "Done with epoch 48 in 1.062500238418579s\n",
      "loss:   0.8162568807601929,   acc:  0.75\n",
      "Done with epoch 49 in 1.1407546997070312s\n",
      "Done with epoch 50 in 1.3654298782348633s\n",
      "Done with epoch 51 in 1.281339168548584s\n",
      "Done with epoch 52 in 1.2656261920928955s\n",
      "loss:   0.5253431797027588,   acc:  0.90625\n",
      "Done with epoch 53 in 1.3210725784301758s\n",
      "Done with epoch 54 in 1.1407551765441895s\n",
      "Done with epoch 55 in 1.234468698501587s\n",
      "loss:   0.48880577087402344,   acc:  0.90625\n",
      "Done with epoch 56 in 1.2501873970031738s\n",
      "Done with epoch 57 in 1.265625s\n",
      "Done with epoch 58 in 1.078261375427246s\n",
      "Done with epoch 59 in 1.0937492847442627s\n",
      "loss:   0.8559353947639465,   acc:  0.65625\n",
      "Done with epoch 60 in 1.0627758502960205s\n",
      "Done with epoch 61 in 1.156378984451294s\n",
      "Done with epoch 62 in 1.093872308731079s\n",
      "loss:   0.6953153014183044,   acc:  0.78125\n",
      "Done with epoch 63 in 1.0938694477081299s\n",
      "Done with epoch 64 in 1.1095077991485596s\n",
      "Done with epoch 65 in 1.328124761581421s\n",
      "Done with epoch 66 in 1.2970056533813477s\n",
      "loss:   0.902630627155304,   acc:  0.625\n",
      "Done with epoch 67 in 1.2818753719329834s\n",
      "Done with epoch 68 in 1.28125s\n",
      "Done with epoch 69 in 1.2814266681671143s\n",
      "loss:   0.5514960289001465,   acc:  0.84375\n",
      "Done with epoch 70 in 1.2346739768981934s\n",
      "Done with epoch 71 in 1.2187514305114746s\n",
      "Done with epoch 72 in 1.188375473022461s\n",
      "Done with epoch 73 in 1.1720116138458252s\n",
      "loss:   0.3739343285560608,   acc:  0.90625\n",
      "Done with epoch 74 in 1.2657325267791748s\n",
      "Done with epoch 75 in 1.0624980926513672s\n",
      "Done with epoch 76 in 1.0705840587615967s\n",
      "Done with epoch 77 in 1.5403120517730713s\n",
      "loss:   0.4295918345451355,   acc:  0.875\n",
      "Done with epoch 78 in 1.140739917755127s\n",
      "Done with epoch 79 in 1.2188889980316162s\n",
      "Done with epoch 80 in 1.6876070499420166s\n",
      "loss:   0.5633680820465088,   acc:  0.84375\n",
      "Done with epoch 81 in 1.7814128398895264s\n",
      "Done with epoch 82 in 1.672116756439209s\n",
      "Done with epoch 83 in 1.265627384185791s\n",
      "Done with epoch 84 in 1.3126580715179443s\n",
      "loss:   0.588693380355835,   acc:  0.78125\n",
      "Done with epoch 85 in 1.1719627380371094s\n",
      "Done with epoch 86 in 1.203214406967163s\n",
      "Done with epoch 87 in 1.1564602851867676s\n",
      "loss:   0.573040246963501,   acc:  0.78125\n",
      "Done with epoch 88 in 1.2032294273376465s\n",
      "Done with epoch 89 in 1.312587022781372s\n",
      "Done with epoch 90 in 1.2188360691070557s\n",
      "Done with epoch 91 in 1.296983242034912s\n",
      "loss:   0.5291510224342346,   acc:  0.84375\n",
      "Done with epoch 92 in 1.4219975471496582s\n",
      "Done with epoch 93 in 1.406372308731079s\n",
      "Done with epoch 94 in 1.3126838207244873s\n",
      "loss:   0.650173544883728,   acc:  0.75\n",
      "Done with epoch 95 in 1.3594591617584229s\n",
      "Done with epoch 96 in 1.3907089233398438s\n",
      "Done with epoch 97 in 1.2814359664916992s\n",
      "Done with epoch 98 in 1.2969694137573242s\n",
      "loss:   0.5154119729995728,   acc:  0.8125\n",
      "Done with epoch 99 in 1.250000238418579s\n",
      "Done with epoch 100 in 1.2659015655517578s\n",
      "Done with epoch 101 in 1.3125007152557373s\n",
      "loss:   0.5768671631813049,   acc:  0.8125\n",
      "Done with epoch 102 in 1.3126001358032227s\n",
      "Done with epoch 103 in 1.2502267360687256s\n",
      "Done with epoch 104 in 1.2344796657562256s\n",
      "Done with epoch 105 in 1.2656943798065186s\n",
      "loss:   0.3743107318878174,   acc:  0.875\n",
      "Saved model at ../../models/{}_horizon_{}_obs_{}.pt\n",
      "Done with epoch 106 in 1.2500762939453125s\n",
      "Done with epoch 107 in 1.1874973773956299s\n",
      "Done with epoch 108 in 1.1876606941223145s\n",
      "loss:   0.7353935241699219,   acc:  0.75\n",
      "Done with epoch 109 in 1.2501182556152344s\n",
      "Done with epoch 110 in 1.3751616477966309s\n",
      "Done with epoch 111 in 1.4377124309539795s\n",
      "Done with epoch 112 in 1.2343733310699463s\n",
      "loss:   0.6852365732192993,   acc:  0.84375\n",
      "Done with epoch 113 in 1.297081708908081s\n",
      "Done with epoch 114 in 1.2970023155212402s\n",
      "Done with epoch 115 in 1.283647060394287s\n",
      "Done with epoch 116 in 1.2969849109649658s\n",
      "loss:   0.6580787897109985,   acc:  0.78125\n",
      "Done with epoch 117 in 1.390756607055664s\n",
      "Done with epoch 118 in 1.110391616821289s\n",
      "Done with epoch 119 in 1.0626015663146973s\n",
      "loss:   0.5855571031570435,   acc:  0.8125\n",
      "Done with epoch 120 in 1.1719889640808105s\n",
      "Done with epoch 121 in 1.578125s\n",
      "Done with epoch 122 in 1.6877703666687012s\n",
      "Done with epoch 123 in 1.3909406661987305s\n",
      "loss:   0.540865421295166,   acc:  0.8125\n",
      "Done with epoch 124 in 1.171940803527832s\n",
      "Done with epoch 125 in 1.2031986713409424s\n",
      "Done with epoch 126 in 1.1406219005584717s\n",
      "loss:   0.5328897833824158,   acc:  0.84375\n",
      "Done with epoch 127 in 1.2163398265838623s\n",
      "Done with epoch 128 in 1.5157568454742432s\n",
      "Done with epoch 129 in 1.556480884552002s\n",
      "Done with epoch 130 in 1.742875099182129s\n",
      "loss:   0.37065809965133667,   acc:  0.90625\n",
      "Done with epoch 131 in 1.8341221809387207s\n",
      "Done with epoch 132 in 1.3966343402862549s\n",
      "Done with epoch 133 in 1.1575543880462646s\n",
      "loss:   0.42365866899490356,   acc:  0.84375\n",
      "Done with epoch 134 in 1.3126137256622314s\n",
      "Done with epoch 135 in 2.006148338317871s\n",
      "Done with epoch 136 in 1.4688434600830078s\n",
      "Done with epoch 137 in 1.6094610691070557s\n",
      "loss:   0.7794471979141235,   acc:  0.78125\n",
      "Done with epoch 138 in 1.3751552104949951s\n",
      "Done with epoch 139 in 1.3438796997070312s\n",
      "Done with epoch 140 in 1.2657530307769775s\n",
      "loss:   0.4200283885002136,   acc:  0.84375\n",
      "Done with epoch 141 in 1.4927470684051514s\n",
      "Done with epoch 142 in 1.2813513278961182s\n",
      "Done with epoch 143 in 1.1095030307769775s\n",
      "Done with epoch 144 in 1.0939233303070068s\n",
      "loss:   0.6500690579414368,   acc:  0.78125\n",
      "Done with epoch 145 in 1.1719627380371094s\n",
      "Done with epoch 146 in 1.3906233310699463s\n",
      "Done with epoch 147 in 1.2345445156097412s\n",
      "loss:   1.000232458114624,   acc:  0.6875\n",
      "Done with epoch 148 in 1.3282711505889893s\n",
      "Done with epoch 149 in 1.234450340270996s\n",
      "Done with epoch 150 in 1.2499992847442627s\n",
      "Done with epoch 151 in 1.0470190048217773s\n",
      "loss:   0.45020613074302673,   acc:  0.8125\n",
      "Done with epoch 152 in 1.0625944137573242s\n",
      "Done with epoch 153 in 1.0313501358032227s\n",
      "Done with epoch 154 in 1.0468759536743164s\n",
      "Done with epoch 155 in 1.0314674377441406s\n",
      "loss:   0.3643432557582855,   acc:  0.875\n",
      "Done with epoch 156 in 1.047010898590088s\n",
      "Done with epoch 157 in 1.0157687664031982s\n",
      "Done with epoch 158 in 1.0312495231628418s\n",
      "loss:   0.41826915740966797,   acc:  0.96875\n",
      "Done with epoch 159 in 1.0314340591430664s\n",
      "Done with epoch 160 in 1.0469796657562256s\n",
      "Done with epoch 161 in 1.0312504768371582s\n",
      "Done with epoch 162 in 1.2189438343048096s\n",
      "loss:   0.8663276433944702,   acc:  0.75\n",
      "Done with epoch 163 in 1.3438363075256348s\n",
      "Done with epoch 164 in 1.1406235694885254s\n",
      "Done with epoch 165 in 1.3439645767211914s\n",
      "loss:   0.7703677415847778,   acc:  0.75\n",
      "Done with epoch 166 in 1.3750765323638916s\n",
      "Done with epoch 167 in 1.3125035762786865s\n",
      "Done with epoch 168 in 1.281451940536499s\n",
      "Done with epoch 169 in 1.1562504768371582s\n",
      "loss:   0.9775702953338623,   acc:  0.78125\n",
      "Done with epoch 170 in 1.4064040184020996s\n",
      "Done with epoch 171 in 1.3284175395965576s\n",
      "Done with epoch 172 in 1.2813549041748047s\n",
      "loss:   0.3714210093021393,   acc:  0.875\n",
      "Done with epoch 173 in 1.1719815731048584s\n",
      "Done with epoch 174 in 1.015730381011963s\n",
      "Done with epoch 175 in 1.0157439708709717s\n",
      "Done with epoch 176 in 1.0469589233398438s\n",
      "loss:   0.29394012689590454,   acc:  0.90625\n",
      "Done with epoch 177 in 1.109375238418579s\n",
      "Done with epoch 178 in 1.3594982624053955s\n",
      "Done with epoch 179 in 1.390791893005371s\n",
      "loss:   0.5898916721343994,   acc:  0.78125\n",
      "Done with epoch 180 in 1.296875s\n",
      "Done with epoch 181 in 1.2189452648162842s\n",
      "Done with epoch 182 in 1.4531264305114746s\n",
      "Done with epoch 183 in 1.3438818454742432s\n",
      "loss:   0.6249650716781616,   acc:  0.75\n",
      "Done with epoch 184 in 1.265699863433838s\n",
      "Done with epoch 185 in 1.1876003742218018s\n",
      "Done with epoch 186 in 1.1874926090240479s\n",
      "loss:   0.5341376066207886,   acc:  0.90625\n",
      "Done with epoch 187 in 1.3751442432403564s\n",
      "Done with epoch 188 in 1.3282513618469238s\n",
      "Done with epoch 189 in 1.4063405990600586s\n",
      "Done with epoch 190 in 1.187495470046997s\n",
      "loss:   0.9394100308418274,   acc:  0.625\n",
      "Done with epoch 191 in 1.2657692432403564s\n",
      "Done with epoch 192 in 1.1564297676086426s\n",
      "Done with epoch 193 in 1.015627384185791s\n",
      "Done with epoch 194 in 1.2345318794250488s\n",
      "loss:   0.8646121025085449,   acc:  0.71875\n",
      "Done with epoch 195 in 1.3594999313354492s\n",
      "Done with epoch 196 in 1.2814865112304688s\n",
      "Done with epoch 197 in 1.234450101852417s\n",
      "loss:   0.36710554361343384,   acc:  0.90625\n",
      "Done with epoch 198 in 1.1563420295715332s\n",
      "Done with epoch 199 in 1.2031245231628418s\n",
      "Done with epoch 200 in 1.1563720703125s\n",
      "Done with epoch 201 in 1.2502319812774658s\n",
      "loss:   0.4766005277633667,   acc:  0.84375\n",
      "Done with epoch 202 in 1.2500672340393066s\n",
      "Done with epoch 203 in 1.0781235694885254s\n",
      "Done with epoch 204 in 1.140775203704834s\n",
      "loss:   0.47160929441452026,   acc:  0.78125\n",
      "Done with epoch 205 in 1.265742301940918s\n",
      "Done with epoch 206 in 1.8175134658813477s\n",
      "Done with epoch 207 in 1.7266907691955566s\n",
      "Done with epoch 208 in 1.375159502029419s\n",
      "loss:   0.42431512475013733,   acc:  0.875\n",
      "Done with epoch 209 in 1.3596112728118896s\n",
      "Done with epoch 210 in 1.3437471389770508s\n",
      "Done with epoch 211 in 1.2345361709594727s\n",
      "loss:   0.4703100025653839,   acc:  0.875\n",
      "Saved model at ../../models/{}_horizon_{}_obs_{}.pt\n",
      "Done with epoch 212 in 1.267716646194458s\n",
      "Done with epoch 213 in 1.628605842590332s\n",
      "Done with epoch 214 in 1.343862771987915s\n",
      "Done with epoch 215 in 1.4532527923583984s\n",
      "loss:   0.5642884969711304,   acc:  0.90625\n",
      "Done with epoch 216 in 1.234485387802124s\n",
      "Done with epoch 217 in 1.4282419681549072s\n",
      "Done with epoch 218 in 1.257460355758667s\n",
      "loss:   0.3363244831562042,   acc:  0.875\n",
      "Done with epoch 219 in 1.2189419269561768s\n",
      "Done with epoch 220 in 1.2499990463256836s\n",
      "Done with epoch 221 in 1.0157577991485596s\n",
      "Done with epoch 222 in 1.031348705291748s\n",
      "loss:   0.91058349609375,   acc:  0.71875\n",
      "Done with epoch 223 in 1.1562507152557373s\n",
      "Done with epoch 224 in 1.3694806098937988s\n",
      "Done with epoch 225 in 1.1953914165496826s\n",
      "loss:   0.7634347081184387,   acc:  0.71875\n",
      "Done with epoch 226 in 1.328249454498291s\n",
      "Done with epoch 227 in 1.250216007232666s\n",
      "Done with epoch 228 in 1.1094942092895508s\n",
      "Done with epoch 229 in 1.4844956398010254s\n",
      "loss:   0.4820255637168884,   acc:  0.84375\n",
      "Done with epoch 230 in 1.2969486713409424s\n",
      "Done with epoch 231 in 1.3751144409179688s\n",
      "Done with epoch 232 in 1.2657232284545898s\n",
      "Done with epoch 233 in 1.421940803527832s\n",
      "loss:   0.7244865894317627,   acc:  0.8125\n",
      "Done with epoch 234 in 1.283357858657837s\n",
      "Done with epoch 235 in 1.187500238418579s\n",
      "Done with epoch 236 in 1.4064335823059082s\n",
      "loss:   0.765809178352356,   acc:  0.71875\n",
      "Done with epoch 237 in 1.2657315731048584s\n",
      "Done with epoch 238 in 1.2501170635223389s\n",
      "Done with epoch 239 in 1.2188720703125s\n",
      "Done with epoch 240 in 1.1407313346862793s\n",
      "loss:   1.0049241781234741,   acc:  0.71875\n",
      "Done with epoch 241 in 1.2344746589660645s\n",
      "Done with epoch 242 in 1.1408400535583496s\n",
      "Done with epoch 243 in 1.3749980926513672s\n",
      "loss:   0.4403194785118103,   acc:  0.8125\n",
      "Done with epoch 244 in 1.2367405891418457s\n",
      "Done with epoch 245 in 1.3593730926513672s\n",
      "Done with epoch 246 in 1.2816753387451172s\n",
      "Done with epoch 247 in 1.2187483310699463s\n",
      "loss:   0.6090289354324341,   acc:  0.84375\n",
      "Done with epoch 248 in 1.2969996929168701s\n",
      "Done with epoch 249 in 1.296968936920166s\n",
      "Done with epoch 250 in 1.3282313346862793s\n",
      "loss:   0.5889687538146973,   acc:  0.8125\n",
      "Done with epoch 251 in 1.265704870223999s\n",
      "Done with epoch 252 in 1.0468738079071045s\n",
      "Done with epoch 253 in 1.1223926544189453s\n",
      "Done with epoch 254 in 1.234494924545288s\n",
      "loss:   0.9174963235855103,   acc:  0.6875\n",
      "Done with epoch 255 in 1.2343759536743164s\n",
      "Done with epoch 256 in 1.3282771110534668s\n",
      "Done with epoch 257 in 1.35945725440979s\n",
      "loss:   0.5161716938018799,   acc:  0.84375\n",
      "Done with epoch 258 in 1.422020435333252s\n",
      "Done with epoch 259 in 1.2501232624053955s\n",
      "Done with epoch 260 in 1.1720130443572998s\n",
      "Done with epoch 261 in 1.1407432556152344s\n",
      "loss:   0.5411525964736938,   acc:  0.84375\n",
      "Done with epoch 262 in 1.0937516689300537s\n",
      "Done with epoch 263 in 1.2657825946807861s\n",
      "Done with epoch 264 in 1.203218698501587s\n",
      "loss:   0.45026686787605286,   acc:  0.875\n",
      "Done with epoch 265 in 1.7656896114349365s\n",
      "Done with epoch 266 in 1.7821931838989258s\n",
      "Done with epoch 267 in 1.3751013278961182s\n",
      "Done with epoch 268 in 1.3907148838043213s\n",
      "loss:   0.845186173915863,   acc:  0.65625\n",
      "Done with epoch 269 in 1.4220740795135498s\n",
      "Done with epoch 270 in 1.4218769073486328s\n",
      "Done with epoch 271 in 1.2502381801605225s\n",
      "Done with epoch 272 in 1.250004768371582s\n",
      "loss:   0.24707014858722687,   acc:  0.9375\n",
      "Done with epoch 273 in 1.4532349109649658s\n",
      "Done with epoch 274 in 1.359485149383545s\n",
      "Done with epoch 275 in 1.3751795291900635s\n",
      "loss:   0.44734641909599304,   acc:  0.875\n",
      "Done with epoch 276 in 1.2187485694885254s\n",
      "Done with epoch 277 in 1.297046422958374s\n",
      "Done with epoch 278 in 1.2970471382141113s\n",
      "Done with epoch 279 in 1.2969717979431152s\n",
      "loss:   0.3924542963504791,   acc:  0.875\n",
      "Done with epoch 280 in 1.2813644409179688s\n",
      "Done with epoch 281 in 1.2657685279846191s\n",
      "Done with epoch 282 in 1.2032506465911865s\n",
      "loss:   0.5616862773895264,   acc:  0.875\n",
      "Done with epoch 283 in 1.125138759613037s\n",
      "Done with epoch 284 in 1.2767431735992432s\n",
      "Done with epoch 285 in 1.7523727416992188s\n",
      "Done with epoch 286 in 1.5458955764770508s\n",
      "loss:   0.3967813551425934,   acc:  0.8125\n",
      "Done with epoch 287 in 1.504295825958252s\n",
      "Done with epoch 288 in 1.4376130104064941s\n",
      "Done with epoch 289 in 1.6250836849212646s\n",
      "loss:   0.535701334476471,   acc:  0.875\n",
      "Done with epoch 290 in 1.6096181869506836s\n",
      "Done with epoch 291 in 1.3906276226043701s\n",
      "Done with epoch 292 in 1.4376516342163086s\n",
      "Done with epoch 293 in 1.4376952648162842s\n",
      "loss:   0.5601203441619873,   acc:  0.8125\n",
      "Done with epoch 294 in 1.3126182556152344s\n",
      "Done with epoch 295 in 1.3438568115234375s\n",
      "Done with epoch 296 in 1.4846878051757812s\n",
      "loss:   0.856554388999939,   acc:  0.71875\n",
      "Done with epoch 297 in 1.4845860004425049s\n",
      "Done with epoch 298 in 1.2969906330108643s\n",
      "Done with epoch 299 in 1.2500557899475098s\n",
      "Done with epoch 300 in 1.4073023796081543s\n",
      "loss:   0.5172485709190369,   acc:  0.84375\n",
      "Done with epoch 301 in 1.4063720703125s\n",
      "Done with epoch 302 in 1.3416268825531006s\n",
      "Done with epoch 303 in 1.2985169887542725s\n",
      "loss:   0.5315984487533569,   acc:  0.75\n",
      "Done with epoch 304 in 1.453265905380249s\n",
      "Done with epoch 305 in 1.2812511920928955s\n",
      "Done with epoch 306 in 1.3127365112304688s\n",
      "Done with epoch 307 in 1.2657341957092285s\n",
      "loss:   0.5852396488189697,   acc:  0.78125\n",
      "Done with epoch 308 in 1.390622615814209s\n",
      "Done with epoch 309 in 1.4377057552337646s\n",
      "Done with epoch 310 in 1.3907620906829834s\n",
      "Done with epoch 311 in 1.3124985694885254s\n",
      "loss:   0.18491388857364655,   acc:  0.96875\n",
      "Done with epoch 312 in 1.250178575515747s\n",
      "Done with epoch 313 in 1.3907532691955566s\n",
      "Done with epoch 314 in 1.3750009536743164s\n",
      "loss:   0.5833529829978943,   acc:  0.84375\n",
      "Done with epoch 315 in 1.3596174716949463s\n",
      "Done with epoch 316 in 1.40625s\n",
      "Done with epoch 317 in 1.2657585144042969s\n",
      "Done with epoch 318 in 1.1095926761627197s\n",
      "loss:   0.45406651496887207,   acc:  0.875\n",
      "Saved model at ../../models/{}_horizon_{}_obs_{}.pt\n",
      "Done with epoch 319 in 1.3906278610229492s\n",
      "Done with epoch 320 in 1.1407592296600342s\n",
      "Done with epoch 321 in 1.1249947547912598s\n",
      "loss:   0.49342650175094604,   acc:  0.8125\n",
      "Done with epoch 322 in 1.078244686126709s\n",
      "Done with epoch 323 in 1.3997564315795898s\n",
      "Done with epoch 324 in 1.8080785274505615s\n",
      "Done with epoch 325 in 1.5002243518829346s\n",
      "loss:   0.5205906629562378,   acc:  0.71875\n",
      "Done with epoch 326 in 1.530052661895752s\n",
      "Done with epoch 327 in 1.7031238079071045s\n",
      "Done with epoch 328 in 1.4064552783966064s\n",
      "loss:   0.6510358452796936,   acc:  0.78125\n",
      "Done with epoch 329 in 1.3126449584960938s\n",
      "Done with epoch 330 in 1.6902520656585693s\n",
      "Done with epoch 331 in 1.359377384185791s\n",
      "Done with epoch 332 in 1.4532227516174316s\n",
      "loss:   0.5532459616661072,   acc:  0.875\n",
      "Done with epoch 333 in 1.4219884872436523s\n",
      "Done with epoch 334 in 1.1563425064086914s\n",
      "Done with epoch 335 in 1.2812511920928955s\n",
      "loss:   0.2421116977930069,   acc:  0.9375\n",
      "Done with epoch 336 in 1.2657527923583984s\n",
      "Done with epoch 337 in 1.3751020431518555s\n",
      "Done with epoch 338 in 1.3437504768371582s\n",
      "Done with epoch 339 in 1.2503244876861572s\n",
      "loss:   0.7289762496948242,   acc:  0.75\n",
      "Done with epoch 340 in 1.406423807144165s\n",
      "Done with epoch 341 in 1.3282091617584229s\n",
      "Done with epoch 342 in 1.281308889389038s\n",
      "loss:   0.637940526008606,   acc:  0.8125\n",
      "Done with epoch 343 in 1.4063336849212646s\n",
      "Done with epoch 344 in 1.9874141216278076s\n",
      "Done with epoch 345 in 1.6563408374786377s\n",
      "Done with epoch 346 in 1.4689884185791016s\n",
      "loss:   0.40778443217277527,   acc:  0.84375\n",
      "Done with epoch 347 in 1.1875014305114746s\n",
      "Done with epoch 348 in 1.062643051147461s\n",
      "Done with epoch 349 in 1.062628984451294s\n",
      "Done with epoch 350 in 1.093841314315796s\n",
      "loss:   0.9144495129585266,   acc:  0.65625\n",
      "Done with epoch 351 in 1.1094963550567627s\n",
      "Done with epoch 352 in 1.093958854675293s\n",
      "Done with epoch 353 in 1.0624995231628418s\n",
      "loss:   0.5892378091812134,   acc:  0.84375\n",
      "Done with epoch 354 in 1.1483440399169922s\n",
      "Done with epoch 355 in 1.0626592636108398s\n",
      "Done with epoch 356 in 1.046875s\n",
      "Done with epoch 357 in 1.281386137008667s\n",
      "loss:   0.32477131485939026,   acc:  0.875\n",
      "Done with epoch 358 in 1.328265905380249s\n",
      "Done with epoch 359 in 1.46897292137146s\n",
      "Done with epoch 360 in 1.40625s\n",
      "loss:   0.6371496915817261,   acc:  0.84375\n",
      "Done with epoch 361 in 1.3752515316009521s\n",
      "Done with epoch 362 in 1.6024272441864014s\n",
      "Done with epoch 363 in 1.3596100807189941s\n",
      "Done with epoch 364 in 1.391880750656128s\n",
      "loss:   0.487264484167099,   acc:  0.84375\n",
      "Done with epoch 365 in 1.4846136569976807s\n",
      "Done with epoch 366 in 1.453263759613037s\n",
      "Done with epoch 367 in 1.3907322883605957s\n",
      "loss:   0.4132731556892395,   acc:  0.84375\n",
      "Done with epoch 368 in 1.203244686126709s\n",
      "Done with epoch 369 in 1.2345070838928223s\n",
      "Done with epoch 370 in 1.3438835144042969s\n",
      "Done with epoch 371 in 1.3907511234283447s\n",
      "loss:   0.5270030498504639,   acc:  0.8125\n",
      "Done with epoch 372 in 1.4844999313354492s\n",
      "Done with epoch 373 in 1.2956554889678955s\n",
      "Done with epoch 374 in 1.6095011234283447s\n",
      "loss:   0.49553775787353516,   acc:  0.8125\n",
      "Done with epoch 375 in 1.3594770431518555s\n",
      "Done with epoch 376 in 1.364194393157959s\n",
      "Done with epoch 377 in 1.375114917755127s\n",
      "Done with epoch 378 in 1.2187495231628418s\n",
      "loss:   0.37568792700767517,   acc:  0.84375\n",
      "Done with epoch 379 in 1.0783116817474365s\n",
      "Done with epoch 380 in 1.1496107578277588s\n",
      "Done with epoch 381 in 1.2275340557098389s\n",
      "loss:   0.6155239939689636,   acc:  0.78125\n",
      "Done with epoch 382 in 1.3750925064086914s\n",
      "Done with epoch 383 in 1.1249988079071045s\n",
      "Done with epoch 384 in 1.2032556533813477s\n",
      "Done with epoch 385 in 1.1979048252105713s\n",
      "loss:   0.3077571392059326,   acc:  0.9375\n",
      "Done with epoch 386 in 1.2970359325408936s\n",
      "Done with epoch 387 in 1.4532225131988525s\n",
      "Done with epoch 388 in 1.2501201629638672s\n",
      "Done with epoch 389 in 1.3281240463256836s\n",
      "loss:   0.3049158751964569,   acc:  0.90625\n",
      "Done with epoch 390 in 1.2811682224273682s\n",
      "Done with epoch 391 in 1.3570151329040527s\n",
      "Done with epoch 392 in 1.296976089477539s\n",
      "loss:   0.5133593082427979,   acc:  0.84375\n",
      "Done with epoch 393 in 1.2983982563018799s\n",
      "Done with epoch 394 in 1.3599448204040527s\n",
      "Done with epoch 395 in 1.2813620567321777s\n",
      "Done with epoch 396 in 1.4218759536743164s\n",
      "loss:   0.9007681012153625,   acc:  0.75\n",
      "Done with epoch 397 in 1.1720771789550781s\n",
      "Done with epoch 398 in 1.0626118183135986s\n",
      "Done with epoch 399 in 1.1407818794250488s\n",
      "loss:   0.6624007821083069,   acc:  0.75\n",
      "Done with epoch 400 in 1.140730619430542s\n",
      "Done with epoch 401 in 1.1564452648162842s\n",
      "Done with epoch 402 in 1.8810045719146729s\n",
      "Done with epoch 403 in 1.6022334098815918s\n",
      "loss:   0.582449197769165,   acc:  0.78125\n",
      "Done with epoch 404 in 1.3057539463043213s\n",
      "Done with epoch 405 in 1.687713384628296s\n",
      "Done with epoch 406 in 1.3130266666412354s\n",
      "loss:   0.38291603326797485,   acc:  0.84375\n",
      "Done with epoch 407 in 1.4691214561462402s\n",
      "Done with epoch 408 in 1.4689767360687256s\n",
      "Done with epoch 409 in 1.4265022277832031s\n",
      "Done with epoch 410 in 1.4532232284545898s\n",
      "loss:   0.40014371275901794,   acc:  0.90625\n",
      "Done with epoch 411 in 1.3907413482666016s\n",
      "Done with epoch 412 in 1.4376332759857178s\n",
      "Done with epoch 413 in 1.234483242034912s\n",
      "loss:   0.39789772033691406,   acc:  0.84375\n",
      "Done with epoch 414 in 1.1719753742218018s\n",
      "Done with epoch 415 in 1.062499761581421s\n",
      "Done with epoch 416 in 1.1563398838043213s\n",
      "Done with epoch 417 in 1.5129168033599854s\n",
      "loss:   0.6940609216690063,   acc:  0.8125\n",
      "Done with epoch 418 in 1.656484842300415s\n",
      "Done with epoch 419 in 1.9546451568603516s\n",
      "Done with epoch 420 in 1.3437509536743164s\n",
      "loss:   0.4614752531051636,   acc:  0.8125\n",
      "Done with epoch 421 in 1.7713124752044678s\n",
      "Done with epoch 422 in 1.4377026557922363s\n",
      "Done with epoch 423 in 1.406250238418579s\n",
      "Done with epoch 424 in 1.343961477279663s\n",
      "loss:   0.47748827934265137,   acc:  0.84375\n",
      "Saved model at ../../models/{}_horizon_{}_obs_{}.pt\n",
      "Done with epoch 425 in 1.1563498973846436s\n",
      "Done with epoch 426 in 1.0626940727233887s\n",
      "Done with epoch 427 in 1.5157268047332764s\n",
      "Done with epoch 428 in 1.5315048694610596s\n",
      "loss:   0.6838296055793762,   acc:  0.84375\n",
      "Done with epoch 429 in 1.3829066753387451s\n",
      "Done with epoch 430 in 1.5470492839813232s\n",
      "Done with epoch 431 in 1.6718852519989014s\n",
      "loss:   0.5932629108428955,   acc:  0.75\n",
      "Done with epoch 432 in 1.7188546657562256s\n",
      "Done with epoch 433 in 1.4220526218414307s\n",
      "Done with epoch 434 in 1.3907678127288818s\n",
      "Done with epoch 435 in 1.3845722675323486s\n",
      "loss:   0.2662406861782074,   acc:  0.9375\n",
      "Done with epoch 436 in 1.343749761581421s\n",
      "Done with epoch 437 in 1.3596155643463135s\n",
      "Done with epoch 438 in 1.359478235244751s\n",
      "loss:   0.8122130632400513,   acc:  0.75\n",
      "Done with epoch 439 in 1.4556033611297607s\n",
      "Done with epoch 440 in 1.3437511920928955s\n",
      "Done with epoch 441 in 1.281341791152954s\n",
      "Done with epoch 442 in 1.4063591957092285s\n",
      "loss:   0.22966666519641876,   acc:  0.96875\n",
      "Done with epoch 443 in 1.3751227855682373s\n",
      "Done with epoch 444 in 1.312500238418579s\n",
      "Done with epoch 445 in 1.2971081733703613s\n",
      "loss:   0.5848158597946167,   acc:  0.78125\n",
      "Done with epoch 446 in 1.4062504768371582s\n",
      "Done with epoch 447 in 1.2188866138458252s\n",
      "Done with epoch 448 in 1.2344789505004883s\n",
      "Done with epoch 449 in 1.3438780307769775s\n",
      "loss:   0.5742165446281433,   acc:  0.8125\n",
      "Done with epoch 450 in 1.2657179832458496s\n",
      "Done with epoch 451 in 1.171875238418579s\n",
      "Done with epoch 452 in 1.3126957416534424s\n",
      "loss:   0.5778281688690186,   acc:  0.78125\n",
      "Done with epoch 453 in 1.21875s\n",
      "Done with epoch 454 in 1.1876411437988281s\n",
      "Done with epoch 455 in 1.171875238418579s\n",
      "Done with epoch 456 in 1.2970201969146729s\n",
      "loss:   0.48115241527557373,   acc:  0.78125\n",
      "Done with epoch 457 in 1.2345654964447021s\n",
      "Done with epoch 458 in 1.1718733310699463s\n",
      "Done with epoch 459 in 1.5718069076538086s\n",
      "loss:   0.3732354938983917,   acc:  0.90625\n",
      "Done with epoch 460 in 1.7817070484161377s\n",
      "Done with epoch 461 in 1.6878244876861572s\n",
      "Done with epoch 462 in 1.3437533378601074s\n",
      "Done with epoch 463 in 1.3596045970916748s\n",
      "loss:   0.4957923889160156,   acc:  0.84375\n",
      "Done with epoch 464 in 1.343876838684082s\n",
      "Done with epoch 465 in 1.296983003616333s\n",
      "Done with epoch 466 in 1.2187485694885254s\n",
      "Done with epoch 467 in 1.2032465934753418s\n",
      "loss:   0.5324172973632812,   acc:  0.8125\n",
      "Done with epoch 468 in 1.281351089477539s\n",
      "Done with epoch 469 in 1.2188379764556885s\n",
      "Done with epoch 470 in 1.234375s\n",
      "loss:   0.3702634572982788,   acc:  0.9375\n",
      "Done with epoch 471 in 1.234663486480713s\n",
      "Done with epoch 472 in 1.2187495231628418s\n",
      "Done with epoch 473 in 1.3440642356872559s\n",
      "Done with epoch 474 in 1.3438372611999512s\n",
      "loss:   0.38581928610801697,   acc:  0.90625\n",
      "Done with epoch 475 in 1.375004768371582s\n",
      "Done with epoch 476 in 1.4532926082611084s\n",
      "Done with epoch 477 in 1.3438339233398438s\n",
      "loss:   0.5350683331489563,   acc:  0.78125\n",
      "Done with epoch 478 in 1.4805891513824463s\n",
      "Done with epoch 479 in 1.946556806564331s\n",
      "Done with epoch 480 in 1.9552855491638184s\n",
      "Done with epoch 481 in 1.7346792221069336s\n",
      "loss:   0.516785740852356,   acc:  0.8125\n",
      "Done with epoch 482 in 1.4843764305114746s\n",
      "Done with epoch 483 in 1.3127484321594238s\n",
      "Done with epoch 484 in 1.3281245231628418s\n",
      "loss:   0.7711222171783447,   acc:  0.78125\n",
      "Done with epoch 485 in 1.468930721282959s\n",
      "Done with epoch 486 in 1.531409502029419s\n",
      "Done with epoch 487 in 1.1875972747802734s\n",
      "Done with epoch 488 in 1.2812519073486328s\n",
      "loss:   0.6005831956863403,   acc:  0.78125\n",
      "Done with epoch 489 in 1.3595755100250244s\n",
      "Done with epoch 490 in 1.3125004768371582s\n",
      "Done with epoch 491 in 1.250124216079712s\n",
      "loss:   0.9311788082122803,   acc:  0.71875\n",
      "Done with epoch 492 in 1.078209400177002s\n",
      "Done with epoch 493 in 1.062499761581421s\n",
      "Done with epoch 494 in 1.0470097064971924s\n",
      "Done with epoch 495 in 1.0781986713409424s\n",
      "loss:   0.3723313808441162,   acc:  0.875\n",
      "Done with epoch 496 in 1.0626611709594727s\n",
      "Done with epoch 497 in 1.078124761581421s\n",
      "Done with epoch 498 in 1.0470364093780518s\n",
      "loss:   0.4544064402580261,   acc:  0.84375\n",
      "Done with epoch 499 in 1.0938763618469238s\n",
      "Saved model at ../../models/{}_horizon_{}_obs_{}.pt\n",
      "Done training\n"
     ]
    }
   ],
   "source": [
    "# train_horizon_stl(10,spec,spec_name)"
   ],
   "metadata": {
    "collapsed": false,
    "pycharm": {
     "name": "#%%\n"
    }
   }
  },
  {
   "cell_type": "code",
   "execution_count": 354,
   "outputs": [
    {
     "name": "stdout",
     "output_type": "stream",
     "text": [
      "prediction is success:True\n"
     ]
    },
    {
     "data": {
      "text/plain": "0.0"
     },
     "execution_count": 354,
     "metadata": {},
     "output_type": "execute_result"
    }
   ],
   "source": [
    "x0 = [1,0.5,0,0]\n",
    "p_dict= {}\n",
    "p_dict['x0'] = x0\n",
    "prob_success, cost, solve_time, solution, optvals_ML = stl_obj.Predict(p_dict,solver=cp.GUROBI,max_evals=16,verbose=False)\n",
    "solve_time"
   ],
   "metadata": {
    "collapsed": false,
    "pycharm": {
     "name": "#%%\n"
    }
   }
  },
  {
   "cell_type": "code",
   "execution_count": 352,
   "outputs": [
    {
     "data": {
      "text/plain": "<Figure size 432x288 with 1 Axes>",
      "image/png": "[encoded data removed]"
     },
     "metadata": {
      "needs_background": "light"
     },
     "output_type": "display_data"
    }
   ],
   "source": [
    "plot.reach_avoid_plot(optvals_ML,scenario,p_dict)"
   ],
   "metadata": {
    "collapsed": false,
    "pycharm": {
     "name": "#%%\n"
    }
   }
  },
  {
   "cell_type": "code",
   "execution_count": null,
   "outputs": [],
   "source": [
    "\n"
   ],
   "metadata": {
    "collapsed": false,
    "pycharm": {
     "name": "#%%\n"
    }
   }
  },
  {
   "cell_type": "markdown",
   "source": [
    "## Multi target example"
   ],
   "metadata": {
    "collapsed": false,
    "pycharm": {
     "name": "#%% md\n"
    }
   }
  },
  {
   "cell_type": "code",
   "execution_count": 299,
   "outputs": [],
   "source": [
    "N=25\n",
    "# x0 = np.array([4.0,8.0,0,0])\n",
    "x0 = np.array([2,0.5,0,0])\n",
    "prob_params= {}\n",
    "prob_params['x0'] = x0\n",
    "\n",
    "vmax=1\n",
    "\n",
    "num_obstacles = 1\n",
    "num_groups = 3\n",
    "targets_per_group = 2\n",
    "posmin = np.array([0., 0., -1., -1.])\n",
    "posmax = np.array([10., 10., 1., 1.])\n",
    "max_box_size = 1.2\n",
    "min_box_size = 1\n",
    "box_buffer = 0.025\n",
    "border_size = 0.05\n",
    "\n",
    "\n",
    "scenario = RandomMultitarget(\n",
    "        num_obstacles, num_groups, targets_per_group, N-1,posmin, posmax, \\\n",
    "                    border_size, box_buffer, min_box_size, max_box_size, seed=17)\n",
    "spec = scenario.GetSpecification()\n",
    "spec.simplify()\n",
    "\n",
    "obstacles = scenario.obstacles\n",
    "targets = scenario.targets\n",
    "\n",
    "umax = np.array([0.5, 0.5])\n",
    "\n",
    "\n",
    "Q = 0.001*1e-1*np.diag([0,0,1,1])   # just penalize high velocities\n",
    "R = 0.001*1e-1*np.eye(2)\n",
    "\n",
    "paraset(N=N,n_obs=num_obstacles, Q=Q,R=R, xmin=posmin, xmax = posmax, vmax=vmax, umax =umax, spec_name= spec_name, obstacles= obstacles, targets=targets)"
   ],
   "metadata": {
    "collapsed": false,
    "pycharm": {
     "name": "#%%\n"
    }
   }
  },
  {
   "cell_type": "code",
   "execution_count": 300,
   "outputs": [],
   "source": [
    "dataset_name = '{}_horizon_{}'.format(scenario.spec_name,N)\n",
    "\n",
    "relative_path = os.getcwd()\n",
    "config_fn = os.path.join(relative_path, 'config', dataset_name+'.p')\n",
    "\n",
    "config_file = open(config_fn,'rb')\n",
    "config=pickle.load(config_file)\n",
    "\n",
    "dataset_name =  config[0]\n",
    "config_file.close()#读取设置#"
   ],
   "metadata": {
    "collapsed": false,
    "pycharm": {
     "name": "#%%\n"
    }
   }
  },
  {
   "cell_type": "code",
   "execution_count": 301,
   "outputs": [],
   "source": [
    "prob = STL_planner(config=config_fn , spec=spec)\n",
    "prob.init_stl_problem()"
   ],
   "metadata": {
    "collapsed": false,
    "pycharm": {
     "name": "#%%\n"
    }
   }
  },
  {
   "cell_type": "code",
   "execution_count": 302,
   "outputs": [
    {
     "name": "stdout",
     "output_type": "stream",
     "text": [
      "===============================================================================\n",
      "                                     CVXPY                                     \n",
      "                                    v1.1.20                                    \n",
      "===============================================================================\n",
      "(CVXPY) Oct 23 12:26:58 PM: Your problem has 1301 variables, 1998 constraints, and 4 parameters.\n",
      "(CVXPY) Oct 23 12:26:58 PM: It is compliant with the following grammars: DCP, DQCP\n",
      "(CVXPY) Oct 23 12:26:58 PM: CVXPY will first compile your problem; then, it will invoke a numerical solver to obtain a solution.\n",
      "-------------------------------------------------------------------------------\n",
      "                                  Compilation                                  \n",
      "-------------------------------------------------------------------------------\n",
      "(CVXPY) Oct 23 12:26:58 PM: Compiling problem (target solver=GUROBI).\n",
      "(CVXPY) Oct 23 12:26:58 PM: Reduction chain: CvxAttr2Constr -> Qp2SymbolicQp -> QpMatrixStuffing -> GUROBI\n",
      "(CVXPY) Oct 23 12:26:58 PM: Applying reduction CvxAttr2Constr\n",
      "(CVXPY) Oct 23 12:26:58 PM: Applying reduction Qp2SymbolicQp\n",
      "(CVXPY) Oct 23 12:26:59 PM: Applying reduction QpMatrixStuffing\n",
      "(CVXPY) Oct 23 12:27:01 PM: Applying reduction GUROBI\n",
      "(CVXPY) Oct 23 12:27:01 PM: Finished problem compilation (took 2.235e+00 seconds).\n",
      "(CVXPY) Oct 23 12:27:01 PM: (Subsequent compilations of this problem, using the same arguments, should take less time.)\n",
      "-------------------------------------------------------------------------------\n",
      "                                Numerical solver                               \n",
      "-------------------------------------------------------------------------------\n",
      "(CVXPY) Oct 23 12:27:01 PM: Invoking solver GUROBI  to obtain a solution.\n",
      "Parameter OutputFlag unchanged\n",
      "   Value: 1  Min: 0  Max: 1  Default: 1\n",
      "Changed value of parameter QCPDual to 1\n",
      "   Prev: 0  Min: 0  Max: 1  Default: 0\n",
      "Changed value of parameter Presolve to 1\n",
      "   Prev: -1  Min: -1  Max: 2  Default: -1\n",
      "Changed value of parameter TimeLimit to 60.0\n",
      "   Prev: inf  Min: 0.0  Max: inf  Default: inf\n",
      "Changed value of parameter Threads to 1\n",
      "   Prev: 0  Min: 0  Max: 1024  Default: 0\n",
      "Gurobi Optimizer version 9.1.2 build v9.1.2rc0 (win64)\n",
      "Thread count: 6 physical cores, 12 logical processors, using up to 1 threads\n",
      "Optimize a model with 2546 rows, 1451 columns and 6637 nonzeros\n",
      "Model fingerprint: 0x31decf17\n",
      "Model has 100 quadratic objective terms\n",
      "Variable types: 1358 continuous, 93 integer (93 binary)\n",
      "Coefficient statistics:\n",
      "  Matrix range     [1e+00, 2e+02]\n",
      "  Objective range  [1e+00, 1e+00]\n",
      "  QObjective range [2e-04, 2e-04]\n",
      "  Bounds range     [1e+00, 1e+00]\n",
      "  RHS range        [5e-01, 2e+02]\n",
      "Presolve removed 1788 rows and 1037 columns\n",
      "Presolve time: 0.00s\n",
      "Presolved: 758 rows, 414 columns, 3260 nonzeros\n",
      "Presolved model has 96 quadratic objective terms\n",
      "Variable types: 332 continuous, 82 integer (82 binary)\n",
      "\n",
      "Root relaxation: objective 0.000000e+00, 255 iterations, 0.00 seconds\n",
      "\n",
      "    Nodes    |    Current Node    |     Objective Bounds      |     Work\n",
      " Expl Unexpl |  Obj  Depth IntInf | Incumbent    BestBd   Gap | It/Node Time\n",
      "\n",
      "     0     0    0.00000    0   30          -    0.00000      -     -    0s\n",
      "H    0     0                       0.0007542    0.00000   100%     -    0s\n",
      "     0     0    0.00000    0   33    0.00075    0.00000   100%     -    0s\n",
      "     0     0    0.00000    0   36    0.00075    0.00000   100%     -    0s\n",
      "     0     0    0.00000    0   36    0.00075    0.00000   100%     -    0s\n",
      "     0     0    0.00000    0   38    0.00075    0.00000   100%     -    0s\n",
      "     0     0    0.00000    0   34    0.00075    0.00000   100%     -    0s\n",
      "     0     0    0.00000    0   40    0.00075    0.00000   100%     -    0s\n",
      "     0     2    0.00000    0   40    0.00075    0.00000   100%     -    0s\n",
      "H   54    15                       0.0006735    0.00000   100%  17.1    0s\n",
      "*  101    26              20       0.0006409    0.00000   100%  14.4    0s\n",
      "*  115    25              19       0.0005457    0.00000   100%  14.3    0s\n",
      "*  225    44              28       0.0004690    0.00000   100%  15.5    0s\n",
      "H  262    46                       0.0004680    0.00000   100%  15.5    0s\n",
      "H  278    33                       0.0003001    0.00000   100%  15.4    0s\n",
      "*  281    30              28       0.0002820    0.00000   100%  15.3    0s\n",
      "*  314    31              30       0.0002619    0.00000   100%  14.8    0s\n",
      "H 1018   106                       0.0002611    0.00000   100%  16.3    0s\n",
      "H 1101    90                       0.0002551    0.00000   100%  16.6    0s\n",
      "H 1104    87                       0.0002537    0.00000   100%  16.5    0s\n",
      "H 1239    94                       0.0002531    0.00000   100%  16.0    1s\n",
      "H 1242    96                       0.0002526    0.00000   100%  16.1    1s\n",
      "H 1651   118                       0.0002520    0.00000   100%  17.1    1s\n",
      "H 3423   128                       0.0002520    0.00000   100%  18.2    3s\n",
      "  4738   253    0.00023   25    7    0.00025    0.00000   100%  18.9    5s\n",
      "\n",
      "Cutting planes:\n",
      "  Gomory: 1\n",
      "  Implied bound: 2\n",
      "  MIR: 5\n",
      "  Flow cover: 7\n",
      "  Relax-and-lift: 2\n",
      "\n",
      "Explored 11583 nodes (154705 simplex iterations) in 8.64 seconds\n",
      "Thread count was 1 (of 12 available processors)\n",
      "\n",
      "Solution count 10: 0.000251985 0.000251999 0.000252611 ... 0.000300149\n",
      "\n",
      "Optimal solution found (tolerance 1.00e-04)\n",
      "Best objective 2.519847075288e-04, best bound 2.519847075288e-04, gap 0.0000%\n",
      "-------------------------------------------------------------------------------\n",
      "                                    Summary                                    \n",
      "-------------------------------------------------------------------------------\n",
      "(CVXPY) Oct 23 12:27:09 PM: Problem status: optimal\n",
      "(CVXPY) Oct 23 12:27:09 PM: Optimal value: 2.520e-04\n",
      "(CVXPY) Oct 23 12:27:09 PM: Compilation took 2.235e+00 seconds\n",
      "(CVXPY) Oct 23 12:27:09 PM: Solver (including time spent in interface) took 8.675e+00 seconds\n"
     ]
    }
   ],
   "source": [
    "prob_success, cost, solve_time,integer, vector, optvals =prob.solve_stl(prob_params,solver=cp.GUROBI)"
   ],
   "metadata": {
    "collapsed": false,
    "pycharm": {
     "name": "#%%\n"
    }
   }
  },
  {
   "cell_type": "code",
   "execution_count": 303,
   "outputs": [
    {
     "name": "stdout",
     "output_type": "stream",
     "text": [
      "True\n",
      "8.643354415893555\n"
     ]
    }
   ],
   "source": [
    "print(prob_success)\n",
    "print(solve_time)"
   ],
   "metadata": {
    "collapsed": false,
    "pycharm": {
     "name": "#%%\n"
    }
   }
  },
  {
   "cell_type": "code",
   "execution_count": 304,
   "outputs": [
    {
     "data": {
      "text/plain": "<Figure size 432x288 with 1 Axes>",
      "image/png": "[encoded data removed]"
     },
     "metadata": {
      "needs_background": "light"
     },
     "output_type": "display_data"
    }
   ],
   "source": [
    "plot.multi_targets_plot(optvals,scenario,prob_params)"
   ],
   "metadata": {
    "collapsed": false,
    "pycharm": {
     "name": "#%%\n"
    }
   }
  },
  {
   "cell_type": "code",
   "execution_count": 305,
   "outputs": [
    {
     "name": "stdout",
     "output_type": "stream",
     "text": [
      "===============================================================================\n",
      "                                     CVXPY                                     \n",
      "                                    v1.1.20                                    \n",
      "===============================================================================\n",
      "(CVXPY) Oct 23 12:27:18 PM: Your problem has 342 variables, 227 constraints, and 4 parameters.\n",
      "(CVXPY) Oct 23 12:27:18 PM: It is compliant with the following grammars: DCP, DQCP\n",
      "(CVXPY) Oct 23 12:27:18 PM: CVXPY will first compile your problem; then, it will invoke a numerical solver to obtain a solution.\n",
      "-------------------------------------------------------------------------------\n",
      "                                  Compilation                                  \n",
      "-------------------------------------------------------------------------------\n",
      "(CVXPY) Oct 23 12:27:18 PM: Compiling problem (target solver=GUROBI).\n",
      "(CVXPY) Oct 23 12:27:18 PM: Reduction chain: CvxAttr2Constr -> Qp2SymbolicQp -> QpMatrixStuffing -> GUROBI\n",
      "(CVXPY) Oct 23 12:27:18 PM: Applying reduction CvxAttr2Constr\n",
      "(CVXPY) Oct 23 12:27:18 PM: Applying reduction Qp2SymbolicQp\n",
      "(CVXPY) Oct 23 12:27:18 PM: Applying reduction QpMatrixStuffing\n",
      "(CVXPY) Oct 23 12:27:18 PM: Applying reduction GUROBI\n",
      "(CVXPY) Oct 23 12:27:18 PM: Finished problem compilation (took 1.406e-01 seconds).\n",
      "(CVXPY) Oct 23 12:27:18 PM: (Subsequent compilations of this problem, using the same arguments, should take less time.)\n",
      "-------------------------------------------------------------------------------\n",
      "                                Numerical solver                               \n",
      "-------------------------------------------------------------------------------\n",
      "(CVXPY) Oct 23 12:27:18 PM: Invoking solver GUROBI  to obtain a solution.\n",
      "Parameter OutputFlag unchanged\n",
      "   Value: 1  Min: 0  Max: 1  Default: 1\n",
      "Changed value of parameter QCPDual to 1\n",
      "   Prev: 0  Min: 0  Max: 1  Default: 0\n",
      "Changed value of parameter Presolve to 1\n",
      "   Prev: -1  Min: -1  Max: 2  Default: -1\n",
      "Changed value of parameter TimeLimit to 60.0\n",
      "   Prev: inf  Min: 0.0  Max: inf  Default: inf\n",
      "Changed value of parameter Threads to 1\n",
      "   Prev: 0  Min: 0  Max: 1024  Default: 0\n",
      "Gurobi Optimizer version 9.1.2 build v9.1.2rc0 (win64)\n",
      "Thread count: 6 physical cores, 12 logical processors, using up to 1 threads\n",
      "Optimize a model with 775 rows, 492 columns and 1344 nonzeros\n",
      "Model fingerprint: 0x34d384d0\n",
      "Model has 100 quadratic objective terms\n",
      "Coefficient statistics:\n",
      "  Matrix range     [1e+00, 2e+02]\n",
      "  Objective range  [1e+00, 1e+00]\n",
      "  QObjective range [2e-04, 2e-04]\n",
      "  Bounds range     [0e+00, 0e+00]\n",
      "  RHS range        [5e-01, 2e+02]\n",
      "Presolve removed 697 rows and 366 columns\n",
      "Presolve time: 0.00s\n",
      "Presolved: 78 rows, 126 columns, 246 nonzeros\n",
      "Presolved model has 96 quadratic objective terms\n",
      "Ordering time: 0.00s\n",
      "\n",
      "Barrier statistics:\n",
      " AA' NZ     : 1.500e+02\n",
      " Factor NZ  : 1.100e+03\n",
      " Factor Ops : 2.168e+04 (less than 1 second per iteration)\n",
      " Threads    : 1\n",
      "\n",
      "                  Objective                Residual\n",
      "Iter       Primal          Dual         Primal    Dual     Compl     Time\n",
      "   0   3.93217421e+07 -3.93267596e+07  6.00e+03 7.91e+02  9.61e+05     0s\n",
      "   1   4.48148956e+04 -4.92007966e+04  1.92e+02 2.53e+01  3.08e+04     0s\n",
      "   2   3.61478306e-01 -4.36061338e+03  5.30e-01 6.99e-02  1.02e+02     0s\n",
      "   3   1.29176831e-03 -2.84202391e+03  1.17e-02 1.55e-03  1.29e+01     0s\n",
      "   4   7.25137427e-04 -8.26863007e+01  4.40e-05 5.80e-06  3.28e-01     0s\n",
      "   5   7.23429154e-04 -1.06878998e-01  5.72e-08 7.55e-09  4.27e-04     0s\n",
      "   6   6.86234098e-04 -2.83543366e-02  1.50e-08 1.97e-09  1.15e-04     0s\n",
      "   7   4.77777419e-04 -8.49558097e-03  1.35e-09 1.78e-10  3.56e-05     0s\n",
      "   8   3.21376843e-04 -7.69279299e-04  1.66e-13 2.19e-14  4.33e-06     0s\n",
      "   9   2.57056577e-04  1.03512011e-04  1.30e-15 1.77e-16  6.09e-07     0s\n",
      "  10   2.52268471e-04  2.35500820e-04  3.40e-16 2.08e-17  6.65e-08     0s\n",
      "  11   2.51992107e-04  2.51838134e-04  2.08e-16 3.47e-18  6.11e-10     0s\n",
      "  12   2.51984715e-04  2.51984544e-04  3.03e-15 3.47e-18  6.77e-13     0s\n",
      "\n",
      "Barrier solved model in 12 iterations and 0.02 seconds\n",
      "Optimal objective 2.51984715e-04\n",
      "\n",
      "-------------------------------------------------------------------------------\n",
      "                                    Summary                                    \n",
      "-------------------------------------------------------------------------------\n",
      "(CVXPY) Oct 23 12:27:18 PM: Problem status: optimal\n",
      "(CVXPY) Oct 23 12:27:18 PM: Optimal value: 2.520e-04\n",
      "(CVXPY) Oct 23 12:27:18 PM: Compilation took 1.406e-01 seconds\n",
      "(CVXPY) Oct 23 12:27:18 PM: Solver (including time spent in interface) took 3.122e-02 seconds\n"
     ]
    }
   ],
   "source": [
    "prob.init_pred_problem(vector)\n",
    "prob_success, cost, solve_time,optvals =prob.solve_pred(prob_params,solver=cp.GUROBI)"
   ],
   "metadata": {
    "collapsed": false,
    "pycharm": {
     "name": "#%%\n"
    }
   }
  },
  {
   "cell_type": "code",
   "execution_count": 306,
   "outputs": [
    {
     "name": "stdout",
     "output_type": "stream",
     "text": [
      "True\n",
      "0.015621185302734375\n"
     ]
    }
   ],
   "source": [
    "print(prob_success)\n",
    "print(solve_time)"
   ],
   "metadata": {
    "collapsed": false,
    "pycharm": {
     "name": "#%%\n"
    }
   }
  },
  {
   "cell_type": "code",
   "execution_count": 307,
   "outputs": [
    {
     "data": {
      "text/plain": "<Figure size 432x288 with 1 Axes>",
      "image/png": "[encoded data removed]"
     },
     "metadata": {
      "needs_background": "light"
     },
     "output_type": "display_data"
    }
   ],
   "source": [
    "plot.multi_targets_plot(optvals,scenario,prob_params)"
   ],
   "metadata": {
    "collapsed": false,
    "pycharm": {
     "name": "#%%\n"
    }
   }
  },
  {
   "cell_type": "markdown",
   "source": [
    "## Sampling"
   ],
   "metadata": {
    "collapsed": false,
    "pycharm": {
     "name": "#%% md\n"
    }
   }
  },
  {
   "cell_type": "code",
   "execution_count": 311,
   "outputs": [],
   "source": [
    "N=25\n",
    "# x0 = np.array([2.0,8.0,0,0])\n",
    "# prob_params= {}\n",
    "# prob_params['x0'] = x0\n",
    "\n",
    "vmax=1\n",
    "num_obstacles = 1\n",
    "num_groups = 3\n",
    "targets_per_group = 2\n",
    "posmin = np.array([0., 0., -1., -1.])\n",
    "posmax = np.array([10., 10., 1., 1.])\n",
    "max_box_size = 1.2\n",
    "min_box_size = 1\n",
    "box_buffer = 0.025\n",
    "border_size = 0.05\n",
    "\n",
    "scenario = RandomMultitarget(\n",
    "        num_obstacles, num_groups, targets_per_group, N-1,posmin, posmax, \\\n",
    "                    border_size, box_buffer, min_box_size, max_box_size, seed=17)\n",
    "spec = scenario.GetSpecification()\n",
    "spec_name = scenario.spec_name\n",
    "spec.simplify()\n",
    "\n",
    "obstacles = scenario.obstacles\n",
    "targets = scenario.targets\n",
    "\n",
    "umax = np.array([0.5, 0.5])\n",
    "\n",
    "\n",
    "Q = 0.001*1e-1*np.diag([0,0,1,1])   # just penalize high velocities\n",
    "R = 0.001*1e-1*np.eye(2)\n",
    "\n",
    "paraset(N=N,n_obs=num_obstacles, Q=Q,R=R, xmin=posmin, xmax = posmax, vmax=vmax, umax =umax, spec_name= spec_name, obstacles= obstacles, targets=targets, num_probs=10000)"
   ],
   "metadata": {
    "collapsed": false,
    "pycharm": {
     "name": "#%%\n"
    }
   }
  },
  {
   "cell_type": "code",
   "execution_count": 312,
   "outputs": [],
   "source": [
    "dataset_name = '{}_horizon_{}'.format(spec_name,N)\n",
    "\n",
    "#加载设置文件地址，config = [dataset_name, prob_params, sampled_params]#\n",
    "relative_path = os.getcwd()\n",
    "config_fn = os.path.join(relative_path, 'config', dataset_name+'.p')\n",
    "\n",
    "config_file = open(config_fn,'rb')\n",
    "config = pickle.load(config_file)\n",
    "\n",
    "dataset_name =  config[0]\n",
    "config_file.close()#读取设置#"
   ],
   "metadata": {
    "collapsed": false,
    "pycharm": {
     "name": "#%%\n"
    }
   }
  },
  {
   "cell_type": "code",
   "execution_count": 293,
   "outputs": [
    {
     "name": "stderr",
     "output_type": "stream",
     "text": [
      "  0%|          | 1/10000 [00:04<13:14:00,  4.76s/it]\n"
     ]
    },
    {
     "ename": "KeyboardInterrupt",
     "evalue": "",
     "output_type": "error",
     "traceback": [
      "\u001B[1;31m---------------------------------------------------------------------------\u001B[0m",
      "\u001B[1;31mKeyboardInterrupt\u001B[0m                         Traceback (most recent call last)",
      "\u001B[1;32m<ipython-input-293-dfde0064c571>\u001B[0m in \u001B[0;36m<module>\u001B[1;34m\u001B[0m\n\u001B[1;32m----> 1\u001B[1;33m \u001B[0msampling_stl\u001B[0m\u001B[1;33m(\u001B[0m\u001B[0mspec_name\u001B[0m\u001B[1;33m,\u001B[0m\u001B[0mspec\u001B[0m\u001B[1;33m,\u001B[0m\u001B[0mN\u001B[0m\u001B[1;33m)\u001B[0m\u001B[1;33m\u001B[0m\u001B[1;33m\u001B[0m\u001B[0m\n\u001B[0m",
      "\u001B[1;32mD:\\Curious\\OMISTL\\stlpy\\STL\\sampling.py\u001B[0m in \u001B[0;36msampling_stl\u001B[1;34m(spec_name, spec, N)\u001B[0m\n\u001B[0;32m     78\u001B[0m             \u001B[1;31m# with time_limit(20):\u001B[0m\u001B[1;33m\u001B[0m\u001B[1;33m\u001B[0m\u001B[1;33m\u001B[0m\u001B[0m\n\u001B[0;32m     79\u001B[0m             prob_success, cost, solve_time, integer, vector, optvals = prob.solve_stl(p_dict, solver=cp.GUROBI,\n\u001B[1;32m---> 80\u001B[1;33m                                                                                       verbose=False)\n\u001B[0m\u001B[0;32m     81\u001B[0m         \u001B[1;32mexcept\u001B[0m \u001B[1;33m(\u001B[0m\u001B[0mKeyboardInterrupt\u001B[0m\u001B[1;33m,\u001B[0m \u001B[0mSystemExit\u001B[0m\u001B[1;33m)\u001B[0m\u001B[1;33m:\u001B[0m\u001B[1;33m\u001B[0m\u001B[1;33m\u001B[0m\u001B[0m\n\u001B[0;32m     82\u001B[0m             \u001B[1;32mraise\u001B[0m\u001B[1;33m\u001B[0m\u001B[1;33m\u001B[0m\u001B[0m\n",
      "\u001B[1;32mD:\\Curious\\OMISTL\\stlpy\\STL\\stl_planner.py\u001B[0m in \u001B[0;36msolve_stl\u001B[1;34m(self, params, solver, msk_param_dict, verbose)\u001B[0m\n\u001B[0;32m    161\u001B[0m             \u001B[1;32mwith\u001B[0m \u001B[0mopen\u001B[0m\u001B[1;33m(\u001B[0m\u001B[0mos\u001B[0m\u001B[1;33m.\u001B[0m\u001B[0mpath\u001B[0m\u001B[1;33m.\u001B[0m\u001B[0mjoin\u001B[0m\u001B[1;33m(\u001B[0m\u001B[0mrel_path\u001B[0m\u001B[1;33m,\u001B[0m \u001B[1;34m'config/gurobi.yaml'\u001B[0m\u001B[1;33m)\u001B[0m\u001B[1;33m)\u001B[0m \u001B[1;32mas\u001B[0m \u001B[0mfile\u001B[0m\u001B[1;33m:\u001B[0m\u001B[1;33m\u001B[0m\u001B[1;33m\u001B[0m\u001B[0m\n\u001B[0;32m    162\u001B[0m                 \u001B[0mgrb_param_dict\u001B[0m \u001B[1;33m=\u001B[0m \u001B[0myaml\u001B[0m\u001B[1;33m.\u001B[0m\u001B[0mload\u001B[0m\u001B[1;33m(\u001B[0m\u001B[0mfile\u001B[0m\u001B[1;33m,\u001B[0m \u001B[0mLoader\u001B[0m\u001B[1;33m=\u001B[0m\u001B[0myaml\u001B[0m\u001B[1;33m.\u001B[0m\u001B[0mFullLoader\u001B[0m\u001B[1;33m)\u001B[0m\u001B[1;33m\u001B[0m\u001B[1;33m\u001B[0m\u001B[0m\n\u001B[1;32m--> 163\u001B[1;33m                 \u001B[0mself\u001B[0m\u001B[1;33m.\u001B[0m\u001B[0mstl_prob\u001B[0m\u001B[1;33m.\u001B[0m\u001B[0msolve\u001B[0m\u001B[1;33m(\u001B[0m\u001B[0msolver\u001B[0m\u001B[1;33m=\u001B[0m\u001B[0msolver\u001B[0m\u001B[1;33m,\u001B[0m \u001B[1;33m**\u001B[0m\u001B[0mgrb_param_dict\u001B[0m\u001B[1;33m,\u001B[0m \u001B[0mverbose\u001B[0m\u001B[1;33m=\u001B[0m\u001B[0mverbose\u001B[0m\u001B[1;33m)\u001B[0m\u001B[1;33m\u001B[0m\u001B[1;33m\u001B[0m\u001B[0m\n\u001B[0m\u001B[0;32m    164\u001B[0m \u001B[1;33m\u001B[0m\u001B[0m\n\u001B[0;32m    165\u001B[0m         \u001B[1;31m# solve_time = self.bin_prob.solver_stats.solve_time\u001B[0m\u001B[1;33m\u001B[0m\u001B[1;33m\u001B[0m\u001B[1;33m\u001B[0m\u001B[0m\n",
      "\u001B[1;32m~\\anaconda3\\envs\\coco\\lib\\site-packages\\cvxpy\\problems\\problem.py\u001B[0m in \u001B[0;36msolve\u001B[1;34m(self, *args, **kwargs)\u001B[0m\n\u001B[0;32m    471\u001B[0m         \u001B[1;32melse\u001B[0m\u001B[1;33m:\u001B[0m\u001B[1;33m\u001B[0m\u001B[1;33m\u001B[0m\u001B[0m\n\u001B[0;32m    472\u001B[0m             \u001B[0msolve_func\u001B[0m \u001B[1;33m=\u001B[0m \u001B[0mProblem\u001B[0m\u001B[1;33m.\u001B[0m\u001B[0m_solve\u001B[0m\u001B[1;33m\u001B[0m\u001B[1;33m\u001B[0m\u001B[0m\n\u001B[1;32m--> 473\u001B[1;33m         \u001B[1;32mreturn\u001B[0m \u001B[0msolve_func\u001B[0m\u001B[1;33m(\u001B[0m\u001B[0mself\u001B[0m\u001B[1;33m,\u001B[0m \u001B[1;33m*\u001B[0m\u001B[0margs\u001B[0m\u001B[1;33m,\u001B[0m \u001B[1;33m**\u001B[0m\u001B[0mkwargs\u001B[0m\u001B[1;33m)\u001B[0m\u001B[1;33m\u001B[0m\u001B[1;33m\u001B[0m\u001B[0m\n\u001B[0m\u001B[0;32m    474\u001B[0m \u001B[1;33m\u001B[0m\u001B[0m\n\u001B[0;32m    475\u001B[0m     \u001B[1;33m@\u001B[0m\u001B[0mclassmethod\u001B[0m\u001B[1;33m\u001B[0m\u001B[1;33m\u001B[0m\u001B[0m\n",
      "\u001B[1;32m~\\anaconda3\\envs\\coco\\lib\\site-packages\\cvxpy\\problems\\problem.py\u001B[0m in \u001B[0;36m_solve\u001B[1;34m(self, solver, warm_start, verbose, gp, qcp, requires_grad, enforce_dpp, **kwargs)\u001B[0m\n\u001B[0;32m    969\u001B[0m \u001B[1;33m\u001B[0m\u001B[0m\n\u001B[0;32m    970\u001B[0m         data, solving_chain, inverse_data = self.get_problem_data(\n\u001B[1;32m--> 971\u001B[1;33m             solver, gp, enforce_dpp, verbose)\n\u001B[0m\u001B[0;32m    972\u001B[0m \u001B[1;33m\u001B[0m\u001B[0m\n\u001B[0;32m    973\u001B[0m         \u001B[1;32mif\u001B[0m \u001B[0mverbose\u001B[0m\u001B[1;33m:\u001B[0m\u001B[1;33m\u001B[0m\u001B[1;33m\u001B[0m\u001B[0m\n",
      "\u001B[1;32m~\\anaconda3\\envs\\coco\\lib\\site-packages\\cvxpy\\problems\\problem.py\u001B[0m in \u001B[0;36mget_problem_data\u001B[1;34m(self, solver, gp, enforce_dpp, verbose)\u001B[0m\n\u001B[0;32m    580\u001B[0m             \u001B[0mself\u001B[0m\u001B[1;33m.\u001B[0m\u001B[0m_cache\u001B[0m\u001B[1;33m.\u001B[0m\u001B[0minvalidate\u001B[0m\u001B[1;33m(\u001B[0m\u001B[1;33m)\u001B[0m\u001B[1;33m\u001B[0m\u001B[1;33m\u001B[0m\u001B[0m\n\u001B[0;32m    581\u001B[0m             solving_chain = self._construct_chain(\n\u001B[1;32m--> 582\u001B[1;33m                 solver=solver, gp=gp, enforce_dpp=enforce_dpp)\n\u001B[0m\u001B[0;32m    583\u001B[0m             \u001B[0mself\u001B[0m\u001B[1;33m.\u001B[0m\u001B[0m_cache\u001B[0m\u001B[1;33m.\u001B[0m\u001B[0mkey\u001B[0m \u001B[1;33m=\u001B[0m \u001B[0mkey\u001B[0m\u001B[1;33m\u001B[0m\u001B[1;33m\u001B[0m\u001B[0m\n\u001B[0;32m    584\u001B[0m             \u001B[0mself\u001B[0m\u001B[1;33m.\u001B[0m\u001B[0m_cache\u001B[0m\u001B[1;33m.\u001B[0m\u001B[0msolving_chain\u001B[0m \u001B[1;33m=\u001B[0m \u001B[0msolving_chain\u001B[0m\u001B[1;33m\u001B[0m\u001B[1;33m\u001B[0m\u001B[0m\n",
      "\u001B[1;32m~\\anaconda3\\envs\\coco\\lib\\site-packages\\cvxpy\\problems\\problem.py\u001B[0m in \u001B[0;36m_construct_chain\u001B[1;34m(self, solver, gp, enforce_dpp)\u001B[0m\n\u001B[0;32m    812\u001B[0m         \u001B[0mself\u001B[0m\u001B[1;33m.\u001B[0m\u001B[0m_sort_candidate_solvers\u001B[0m\u001B[1;33m(\u001B[0m\u001B[0mcandidate_solvers\u001B[0m\u001B[1;33m)\u001B[0m\u001B[1;33m\u001B[0m\u001B[1;33m\u001B[0m\u001B[0m\n\u001B[0;32m    813\u001B[0m         return construct_solving_chain(self, candidate_solvers, gp=gp,\n\u001B[1;32m--> 814\u001B[1;33m                                        enforce_dpp=enforce_dpp)\n\u001B[0m\u001B[0;32m    815\u001B[0m \u001B[1;33m\u001B[0m\u001B[0m\n\u001B[0;32m    816\u001B[0m     \u001B[1;33m@\u001B[0m\u001B[0mstaticmethod\u001B[0m\u001B[1;33m\u001B[0m\u001B[1;33m\u001B[0m\u001B[0m\n",
      "\u001B[1;32m~\\anaconda3\\envs\\coco\\lib\\site-packages\\cvxpy\\reductions\\solvers\\solving_chain.py\u001B[0m in \u001B[0;36mconstruct_solving_chain\u001B[1;34m(problem, candidates, gp, enforce_dpp)\u001B[0m\n\u001B[0;32m    153\u001B[0m     \u001B[1;32mif\u001B[0m \u001B[0mlen\u001B[0m\u001B[1;33m(\u001B[0m\u001B[0mproblem\u001B[0m\u001B[1;33m.\u001B[0m\u001B[0mvariables\u001B[0m\u001B[1;33m(\u001B[0m\u001B[1;33m)\u001B[0m\u001B[1;33m)\u001B[0m \u001B[1;33m==\u001B[0m \u001B[1;36m0\u001B[0m\u001B[1;33m:\u001B[0m\u001B[1;33m\u001B[0m\u001B[1;33m\u001B[0m\u001B[0m\n\u001B[0;32m    154\u001B[0m         \u001B[1;32mreturn\u001B[0m \u001B[0mSolvingChain\u001B[0m\u001B[1;33m(\u001B[0m\u001B[0mreductions\u001B[0m\u001B[1;33m=\u001B[0m\u001B[1;33m[\u001B[0m\u001B[0mConstantSolver\u001B[0m\u001B[1;33m(\u001B[0m\u001B[1;33m)\u001B[0m\u001B[1;33m]\u001B[0m\u001B[1;33m)\u001B[0m\u001B[1;33m\u001B[0m\u001B[1;33m\u001B[0m\u001B[0m\n\u001B[1;32m--> 155\u001B[1;33m     \u001B[0mreductions\u001B[0m \u001B[1;33m=\u001B[0m \u001B[0m_reductions_for_problem_class\u001B[0m\u001B[1;33m(\u001B[0m\u001B[0mproblem\u001B[0m\u001B[1;33m,\u001B[0m \u001B[0mcandidates\u001B[0m\u001B[1;33m,\u001B[0m \u001B[0mgp\u001B[0m\u001B[1;33m)\u001B[0m\u001B[1;33m\u001B[0m\u001B[1;33m\u001B[0m\u001B[0m\n\u001B[0m\u001B[0;32m    156\u001B[0m \u001B[1;33m\u001B[0m\u001B[0m\n\u001B[0;32m    157\u001B[0m     \u001B[0mdpp_context\u001B[0m \u001B[1;33m=\u001B[0m \u001B[1;34m'dcp'\u001B[0m \u001B[1;32mif\u001B[0m \u001B[1;32mnot\u001B[0m \u001B[0mgp\u001B[0m \u001B[1;32melse\u001B[0m \u001B[1;34m'dgp'\u001B[0m\u001B[1;33m\u001B[0m\u001B[1;33m\u001B[0m\u001B[0m\n",
      "\u001B[1;32m~\\anaconda3\\envs\\coco\\lib\\site-packages\\cvxpy\\reductions\\solvers\\solving_chain.py\u001B[0m in \u001B[0;36m_reductions_for_problem_class\u001B[1;34m(problem, candidates, gp)\u001B[0m\n\u001B[0;32m     81\u001B[0m         \u001B[0mreductions\u001B[0m \u001B[1;33m+=\u001B[0m \u001B[1;33m[\u001B[0m\u001B[0mDgp2Dcp\u001B[0m\u001B[1;33m(\u001B[0m\u001B[1;33m)\u001B[0m\u001B[1;33m]\u001B[0m\u001B[1;33m\u001B[0m\u001B[1;33m\u001B[0m\u001B[0m\n\u001B[0;32m     82\u001B[0m \u001B[1;33m\u001B[0m\u001B[0m\n\u001B[1;32m---> 83\u001B[1;33m     \u001B[1;32mif\u001B[0m \u001B[1;32mnot\u001B[0m \u001B[0mgp\u001B[0m \u001B[1;32mand\u001B[0m \u001B[1;32mnot\u001B[0m \u001B[0mproblem\u001B[0m\u001B[1;33m.\u001B[0m\u001B[0mis_dcp\u001B[0m\u001B[1;33m(\u001B[0m\u001B[1;33m)\u001B[0m\u001B[1;33m:\u001B[0m\u001B[1;33m\u001B[0m\u001B[1;33m\u001B[0m\u001B[0m\n\u001B[0m\u001B[0;32m     84\u001B[0m         \u001B[0mappend\u001B[0m \u001B[1;33m=\u001B[0m \u001B[0mbuild_non_disciplined_error_msg\u001B[0m\u001B[1;33m(\u001B[0m\u001B[0mproblem\u001B[0m\u001B[1;33m,\u001B[0m \u001B[1;34m'DCP'\u001B[0m\u001B[1;33m)\u001B[0m\u001B[1;33m\u001B[0m\u001B[1;33m\u001B[0m\u001B[0m\n\u001B[0;32m     85\u001B[0m         \u001B[1;32mif\u001B[0m \u001B[0mproblem\u001B[0m\u001B[1;33m.\u001B[0m\u001B[0mis_dgp\u001B[0m\u001B[1;33m(\u001B[0m\u001B[1;33m)\u001B[0m\u001B[1;33m:\u001B[0m\u001B[1;33m\u001B[0m\u001B[1;33m\u001B[0m\u001B[0m\n",
      "\u001B[1;32m~\\anaconda3\\envs\\coco\\lib\\site-packages\\cvxpy\\utilities\\performance_utils.py\u001B[0m in \u001B[0;36m_compute_once\u001B[1;34m(self, *args, **kwargs)\u001B[0m\n\u001B[0;32m     71\u001B[0m         \u001B[1;32mif\u001B[0m \u001B[0mkey\u001B[0m \u001B[1;32min\u001B[0m \u001B[0mcache\u001B[0m\u001B[1;33m:\u001B[0m\u001B[1;33m\u001B[0m\u001B[1;33m\u001B[0m\u001B[0m\n\u001B[0;32m     72\u001B[0m             \u001B[1;32mreturn\u001B[0m \u001B[0mcache\u001B[0m\u001B[1;33m[\u001B[0m\u001B[0mkey\u001B[0m\u001B[1;33m]\u001B[0m\u001B[1;33m\u001B[0m\u001B[1;33m\u001B[0m\u001B[0m\n\u001B[1;32m---> 73\u001B[1;33m         \u001B[0mresult\u001B[0m \u001B[1;33m=\u001B[0m \u001B[0mfunc\u001B[0m\u001B[1;33m(\u001B[0m\u001B[0mself\u001B[0m\u001B[1;33m,\u001B[0m \u001B[1;33m*\u001B[0m\u001B[0margs\u001B[0m\u001B[1;33m,\u001B[0m \u001B[1;33m**\u001B[0m\u001B[0mkwargs\u001B[0m\u001B[1;33m)\u001B[0m\u001B[1;33m\u001B[0m\u001B[1;33m\u001B[0m\u001B[0m\n\u001B[0m\u001B[0;32m     74\u001B[0m         \u001B[0mcache\u001B[0m\u001B[1;33m[\u001B[0m\u001B[0mkey\u001B[0m\u001B[1;33m]\u001B[0m \u001B[1;33m=\u001B[0m \u001B[0mresult\u001B[0m\u001B[1;33m\u001B[0m\u001B[1;33m\u001B[0m\u001B[0m\n\u001B[0;32m     75\u001B[0m         \u001B[1;32mreturn\u001B[0m \u001B[0mresult\u001B[0m\u001B[1;33m\u001B[0m\u001B[1;33m\u001B[0m\u001B[0m\n",
      "\u001B[1;32m~\\anaconda3\\envs\\coco\\lib\\site-packages\\cvxpy\\problems\\problem.py\u001B[0m in \u001B[0;36mis_dcp\u001B[1;34m(self, dpp)\u001B[0m\n\u001B[0;32m    240\u001B[0m         \"\"\"\n\u001B[0;32m    241\u001B[0m         return all(\n\u001B[1;32m--> 242\u001B[1;33m           expr.is_dcp(dpp) for expr in self.constraints + [self.objective])\n\u001B[0m\u001B[0;32m    243\u001B[0m \u001B[1;33m\u001B[0m\u001B[0m\n\u001B[0;32m    244\u001B[0m     \u001B[1;33m@\u001B[0m\u001B[0mperf\u001B[0m\u001B[1;33m.\u001B[0m\u001B[0mcompute_once\u001B[0m\u001B[1;33m\u001B[0m\u001B[1;33m\u001B[0m\u001B[0m\n",
      "\u001B[1;32m~\\anaconda3\\envs\\coco\\lib\\site-packages\\cvxpy\\problems\\problem.py\u001B[0m in \u001B[0;36m<genexpr>\u001B[1;34m(.0)\u001B[0m\n\u001B[0;32m    240\u001B[0m         \"\"\"\n\u001B[0;32m    241\u001B[0m         return all(\n\u001B[1;32m--> 242\u001B[1;33m           expr.is_dcp(dpp) for expr in self.constraints + [self.objective])\n\u001B[0m\u001B[0;32m    243\u001B[0m \u001B[1;33m\u001B[0m\u001B[0m\n\u001B[0;32m    244\u001B[0m     \u001B[1;33m@\u001B[0m\u001B[0mperf\u001B[0m\u001B[1;33m.\u001B[0m\u001B[0mcompute_once\u001B[0m\u001B[1;33m\u001B[0m\u001B[1;33m\u001B[0m\u001B[0m\n",
      "\u001B[1;32m~\\anaconda3\\envs\\coco\\lib\\site-packages\\cvxpy\\problems\\objective.py\u001B[0m in \u001B[0;36mis_dcp\u001B[1;34m(self, dpp)\u001B[0m\n\u001B[0;32m    151\u001B[0m             \u001B[1;32mwith\u001B[0m \u001B[0mscopes\u001B[0m\u001B[1;33m.\u001B[0m\u001B[0mdpp_scope\u001B[0m\u001B[1;33m(\u001B[0m\u001B[1;33m)\u001B[0m\u001B[1;33m:\u001B[0m\u001B[1;33m\u001B[0m\u001B[1;33m\u001B[0m\u001B[0m\n\u001B[0;32m    152\u001B[0m                 \u001B[1;32mreturn\u001B[0m \u001B[0mself\u001B[0m\u001B[1;33m.\u001B[0m\u001B[0margs\u001B[0m\u001B[1;33m[\u001B[0m\u001B[1;36m0\u001B[0m\u001B[1;33m]\u001B[0m\u001B[1;33m.\u001B[0m\u001B[0mis_convex\u001B[0m\u001B[1;33m(\u001B[0m\u001B[1;33m)\u001B[0m\u001B[1;33m\u001B[0m\u001B[1;33m\u001B[0m\u001B[0m\n\u001B[1;32m--> 153\u001B[1;33m         \u001B[1;32mreturn\u001B[0m \u001B[0mself\u001B[0m\u001B[1;33m.\u001B[0m\u001B[0margs\u001B[0m\u001B[1;33m[\u001B[0m\u001B[1;36m0\u001B[0m\u001B[1;33m]\u001B[0m\u001B[1;33m.\u001B[0m\u001B[0mis_convex\u001B[0m\u001B[1;33m(\u001B[0m\u001B[1;33m)\u001B[0m\u001B[1;33m\u001B[0m\u001B[1;33m\u001B[0m\u001B[0m\n\u001B[0m\u001B[0;32m    154\u001B[0m \u001B[1;33m\u001B[0m\u001B[0m\n\u001B[0;32m    155\u001B[0m     \u001B[1;32mdef\u001B[0m \u001B[0mis_dgp\u001B[0m\u001B[1;33m(\u001B[0m\u001B[0mself\u001B[0m\u001B[1;33m,\u001B[0m \u001B[0mdpp\u001B[0m\u001B[1;33m:\u001B[0m \u001B[0mbool\u001B[0m \u001B[1;33m=\u001B[0m \u001B[1;32mFalse\u001B[0m\u001B[1;33m)\u001B[0m \u001B[1;33m->\u001B[0m \u001B[0mbool\u001B[0m\u001B[1;33m:\u001B[0m\u001B[1;33m\u001B[0m\u001B[1;33m\u001B[0m\u001B[0m\n",
      "\u001B[1;32m~\\anaconda3\\envs\\coco\\lib\\site-packages\\cvxpy\\utilities\\performance_utils.py\u001B[0m in \u001B[0;36m_compute_once\u001B[1;34m(self, *args, **kwargs)\u001B[0m\n\u001B[0;32m     71\u001B[0m         \u001B[1;32mif\u001B[0m \u001B[0mkey\u001B[0m \u001B[1;32min\u001B[0m \u001B[0mcache\u001B[0m\u001B[1;33m:\u001B[0m\u001B[1;33m\u001B[0m\u001B[1;33m\u001B[0m\u001B[0m\n\u001B[0;32m     72\u001B[0m             \u001B[1;32mreturn\u001B[0m \u001B[0mcache\u001B[0m\u001B[1;33m[\u001B[0m\u001B[0mkey\u001B[0m\u001B[1;33m]\u001B[0m\u001B[1;33m\u001B[0m\u001B[1;33m\u001B[0m\u001B[0m\n\u001B[1;32m---> 73\u001B[1;33m         \u001B[0mresult\u001B[0m \u001B[1;33m=\u001B[0m \u001B[0mfunc\u001B[0m\u001B[1;33m(\u001B[0m\u001B[0mself\u001B[0m\u001B[1;33m,\u001B[0m \u001B[1;33m*\u001B[0m\u001B[0margs\u001B[0m\u001B[1;33m,\u001B[0m \u001B[1;33m**\u001B[0m\u001B[0mkwargs\u001B[0m\u001B[1;33m)\u001B[0m\u001B[1;33m\u001B[0m\u001B[1;33m\u001B[0m\u001B[0m\n\u001B[0m\u001B[0;32m     74\u001B[0m         \u001B[0mcache\u001B[0m\u001B[1;33m[\u001B[0m\u001B[0mkey\u001B[0m\u001B[1;33m]\u001B[0m \u001B[1;33m=\u001B[0m \u001B[0mresult\u001B[0m\u001B[1;33m\u001B[0m\u001B[1;33m\u001B[0m\u001B[0m\n\u001B[0;32m     75\u001B[0m         \u001B[1;32mreturn\u001B[0m \u001B[0mresult\u001B[0m\u001B[1;33m\u001B[0m\u001B[1;33m\u001B[0m\u001B[0m\n",
      "\u001B[1;32m~\\anaconda3\\envs\\coco\\lib\\site-packages\\cvxpy\\atoms\\atom.py\u001B[0m in \u001B[0;36mis_convex\u001B[1;34m(self)\u001B[0m\n\u001B[0;32m    176\u001B[0m         \u001B[1;32melif\u001B[0m \u001B[0mself\u001B[0m\u001B[1;33m.\u001B[0m\u001B[0mis_atom_convex\u001B[0m\u001B[1;33m(\u001B[0m\u001B[1;33m)\u001B[0m\u001B[1;33m:\u001B[0m\u001B[1;33m\u001B[0m\u001B[1;33m\u001B[0m\u001B[0m\n\u001B[0;32m    177\u001B[0m             \u001B[1;32mfor\u001B[0m \u001B[0midx\u001B[0m\u001B[1;33m,\u001B[0m \u001B[0marg\u001B[0m \u001B[1;32min\u001B[0m \u001B[0menumerate\u001B[0m\u001B[1;33m(\u001B[0m\u001B[0mself\u001B[0m\u001B[1;33m.\u001B[0m\u001B[0margs\u001B[0m\u001B[1;33m)\u001B[0m\u001B[1;33m:\u001B[0m\u001B[1;33m\u001B[0m\u001B[1;33m\u001B[0m\u001B[0m\n\u001B[1;32m--> 178\u001B[1;33m                 if not (arg.is_affine() or\n\u001B[0m\u001B[0;32m    179\u001B[0m                         \u001B[1;33m(\u001B[0m\u001B[0marg\u001B[0m\u001B[1;33m.\u001B[0m\u001B[0mis_convex\u001B[0m\u001B[1;33m(\u001B[0m\u001B[1;33m)\u001B[0m \u001B[1;32mand\u001B[0m \u001B[0mself\u001B[0m\u001B[1;33m.\u001B[0m\u001B[0mis_incr\u001B[0m\u001B[1;33m(\u001B[0m\u001B[0midx\u001B[0m\u001B[1;33m)\u001B[0m\u001B[1;33m)\u001B[0m \u001B[1;32mor\u001B[0m\u001B[1;33m\u001B[0m\u001B[1;33m\u001B[0m\u001B[0m\n\u001B[0;32m    180\u001B[0m                         (arg.is_concave() and self.is_decr(idx))):\n",
      "\u001B[1;32m~\\anaconda3\\envs\\coco\\lib\\site-packages\\cvxpy\\utilities\\performance_utils.py\u001B[0m in \u001B[0;36m_compute_once\u001B[1;34m(self, *args, **kwargs)\u001B[0m\n\u001B[0;32m     71\u001B[0m         \u001B[1;32mif\u001B[0m \u001B[0mkey\u001B[0m \u001B[1;32min\u001B[0m \u001B[0mcache\u001B[0m\u001B[1;33m:\u001B[0m\u001B[1;33m\u001B[0m\u001B[1;33m\u001B[0m\u001B[0m\n\u001B[0;32m     72\u001B[0m             \u001B[1;32mreturn\u001B[0m \u001B[0mcache\u001B[0m\u001B[1;33m[\u001B[0m\u001B[0mkey\u001B[0m\u001B[1;33m]\u001B[0m\u001B[1;33m\u001B[0m\u001B[1;33m\u001B[0m\u001B[0m\n\u001B[1;32m---> 73\u001B[1;33m         \u001B[0mresult\u001B[0m \u001B[1;33m=\u001B[0m \u001B[0mfunc\u001B[0m\u001B[1;33m(\u001B[0m\u001B[0mself\u001B[0m\u001B[1;33m,\u001B[0m \u001B[1;33m*\u001B[0m\u001B[0margs\u001B[0m\u001B[1;33m,\u001B[0m \u001B[1;33m**\u001B[0m\u001B[0mkwargs\u001B[0m\u001B[1;33m)\u001B[0m\u001B[1;33m\u001B[0m\u001B[1;33m\u001B[0m\u001B[0m\n\u001B[0m\u001B[0;32m     74\u001B[0m         \u001B[0mcache\u001B[0m\u001B[1;33m[\u001B[0m\u001B[0mkey\u001B[0m\u001B[1;33m]\u001B[0m \u001B[1;33m=\u001B[0m \u001B[0mresult\u001B[0m\u001B[1;33m\u001B[0m\u001B[1;33m\u001B[0m\u001B[0m\n\u001B[0;32m     75\u001B[0m         \u001B[1;32mreturn\u001B[0m \u001B[0mresult\u001B[0m\u001B[1;33m\u001B[0m\u001B[1;33m\u001B[0m\u001B[0m\n",
      "\u001B[1;32m~\\anaconda3\\envs\\coco\\lib\\site-packages\\cvxpy\\expressions\\expression.py\u001B[0m in \u001B[0;36mis_affine\u001B[1;34m(self)\u001B[0m\n\u001B[0;32m    209\u001B[0m         \"\"\"Is the expression affine?\n\u001B[0;32m    210\u001B[0m         \"\"\"\n\u001B[1;32m--> 211\u001B[1;33m         \u001B[1;32mreturn\u001B[0m \u001B[0mself\u001B[0m\u001B[1;33m.\u001B[0m\u001B[0mis_constant\u001B[0m\u001B[1;33m(\u001B[0m\u001B[1;33m)\u001B[0m \u001B[1;32mor\u001B[0m \u001B[1;33m(\u001B[0m\u001B[0mself\u001B[0m\u001B[1;33m.\u001B[0m\u001B[0mis_convex\u001B[0m\u001B[1;33m(\u001B[0m\u001B[1;33m)\u001B[0m \u001B[1;32mand\u001B[0m \u001B[0mself\u001B[0m\u001B[1;33m.\u001B[0m\u001B[0mis_concave\u001B[0m\u001B[1;33m(\u001B[0m\u001B[1;33m)\u001B[0m\u001B[1;33m)\u001B[0m\u001B[1;33m\u001B[0m\u001B[1;33m\u001B[0m\u001B[0m\n\u001B[0m\u001B[0;32m    212\u001B[0m \u001B[1;33m\u001B[0m\u001B[0m\n\u001B[0;32m    213\u001B[0m     \u001B[1;33m@\u001B[0m\u001B[0mabc\u001B[0m\u001B[1;33m.\u001B[0m\u001B[0mabstractmethod\u001B[0m\u001B[1;33m\u001B[0m\u001B[1;33m\u001B[0m\u001B[0m\n",
      "\u001B[1;32m~\\anaconda3\\envs\\coco\\lib\\site-packages\\cvxpy\\utilities\\performance_utils.py\u001B[0m in \u001B[0;36m_compute_once\u001B[1;34m(self, *args, **kwargs)\u001B[0m\n\u001B[0;32m     71\u001B[0m         \u001B[1;32mif\u001B[0m \u001B[0mkey\u001B[0m \u001B[1;32min\u001B[0m \u001B[0mcache\u001B[0m\u001B[1;33m:\u001B[0m\u001B[1;33m\u001B[0m\u001B[1;33m\u001B[0m\u001B[0m\n\u001B[0;32m     72\u001B[0m             \u001B[1;32mreturn\u001B[0m \u001B[0mcache\u001B[0m\u001B[1;33m[\u001B[0m\u001B[0mkey\u001B[0m\u001B[1;33m]\u001B[0m\u001B[1;33m\u001B[0m\u001B[1;33m\u001B[0m\u001B[0m\n\u001B[1;32m---> 73\u001B[1;33m         \u001B[0mresult\u001B[0m \u001B[1;33m=\u001B[0m \u001B[0mfunc\u001B[0m\u001B[1;33m(\u001B[0m\u001B[0mself\u001B[0m\u001B[1;33m,\u001B[0m \u001B[1;33m*\u001B[0m\u001B[0margs\u001B[0m\u001B[1;33m,\u001B[0m \u001B[1;33m**\u001B[0m\u001B[0mkwargs\u001B[0m\u001B[1;33m)\u001B[0m\u001B[1;33m\u001B[0m\u001B[1;33m\u001B[0m\u001B[0m\n\u001B[0m\u001B[0;32m     74\u001B[0m         \u001B[0mcache\u001B[0m\u001B[1;33m[\u001B[0m\u001B[0mkey\u001B[0m\u001B[1;33m]\u001B[0m \u001B[1;33m=\u001B[0m \u001B[0mresult\u001B[0m\u001B[1;33m\u001B[0m\u001B[1;33m\u001B[0m\u001B[0m\n\u001B[0;32m     75\u001B[0m         \u001B[1;32mreturn\u001B[0m \u001B[0mresult\u001B[0m\u001B[1;33m\u001B[0m\u001B[1;33m\u001B[0m\u001B[0m\n",
      "\u001B[1;32m~\\anaconda3\\envs\\coco\\lib\\site-packages\\cvxpy\\atoms\\atom.py\u001B[0m in \u001B[0;36mis_concave\u001B[1;34m(self)\u001B[0m\n\u001B[0;32m    191\u001B[0m         \u001B[1;32mif\u001B[0m \u001B[0mself\u001B[0m\u001B[1;33m.\u001B[0m\u001B[0mis_constant\u001B[0m\u001B[1;33m(\u001B[0m\u001B[1;33m)\u001B[0m\u001B[1;33m:\u001B[0m\u001B[1;33m\u001B[0m\u001B[1;33m\u001B[0m\u001B[0m\n\u001B[0;32m    192\u001B[0m             \u001B[1;32mreturn\u001B[0m \u001B[1;32mTrue\u001B[0m\u001B[1;33m\u001B[0m\u001B[1;33m\u001B[0m\u001B[0m\n\u001B[1;32m--> 193\u001B[1;33m         \u001B[1;32melif\u001B[0m \u001B[0mself\u001B[0m\u001B[1;33m.\u001B[0m\u001B[0mis_atom_concave\u001B[0m\u001B[1;33m(\u001B[0m\u001B[1;33m)\u001B[0m\u001B[1;33m:\u001B[0m\u001B[1;33m\u001B[0m\u001B[1;33m\u001B[0m\u001B[0m\n\u001B[0m\u001B[0;32m    194\u001B[0m             \u001B[1;32mfor\u001B[0m \u001B[0midx\u001B[0m\u001B[1;33m,\u001B[0m \u001B[0marg\u001B[0m \u001B[1;32min\u001B[0m \u001B[0menumerate\u001B[0m\u001B[1;33m(\u001B[0m\u001B[0mself\u001B[0m\u001B[1;33m.\u001B[0m\u001B[0margs\u001B[0m\u001B[1;33m)\u001B[0m\u001B[1;33m:\u001B[0m\u001B[1;33m\u001B[0m\u001B[1;33m\u001B[0m\u001B[0m\n\u001B[0;32m    195\u001B[0m                 if not (arg.is_affine() or\n",
      "\u001B[1;32m~\\anaconda3\\envs\\coco\\lib\\site-packages\\cvxpy\\atoms\\quad_form.py\u001B[0m in \u001B[0;36mis_atom_concave\u001B[1;34m(self)\u001B[0m\n\u001B[0;32m     70\u001B[0m         \"\"\"\n\u001B[0;32m     71\u001B[0m         \u001B[0mP\u001B[0m \u001B[1;33m=\u001B[0m \u001B[0mself\u001B[0m\u001B[1;33m.\u001B[0m\u001B[0margs\u001B[0m\u001B[1;33m[\u001B[0m\u001B[1;36m1\u001B[0m\u001B[1;33m]\u001B[0m\u001B[1;33m\u001B[0m\u001B[1;33m\u001B[0m\u001B[0m\n\u001B[1;32m---> 72\u001B[1;33m         \u001B[1;32mreturn\u001B[0m \u001B[0mP\u001B[0m\u001B[1;33m.\u001B[0m\u001B[0mis_constant\u001B[0m\u001B[1;33m(\u001B[0m\u001B[1;33m)\u001B[0m \u001B[1;32mand\u001B[0m \u001B[0mP\u001B[0m\u001B[1;33m.\u001B[0m\u001B[0mis_nsd\u001B[0m\u001B[1;33m(\u001B[0m\u001B[1;33m)\u001B[0m\u001B[1;33m\u001B[0m\u001B[1;33m\u001B[0m\u001B[0m\n\u001B[0m\u001B[0;32m     73\u001B[0m \u001B[1;33m\u001B[0m\u001B[0m\n\u001B[0;32m     74\u001B[0m     \u001B[1;32mdef\u001B[0m \u001B[0mis_atom_log_log_convex\u001B[0m\u001B[1;33m(\u001B[0m\u001B[0mself\u001B[0m\u001B[1;33m)\u001B[0m \u001B[1;33m->\u001B[0m \u001B[0mbool\u001B[0m\u001B[1;33m:\u001B[0m\u001B[1;33m\u001B[0m\u001B[1;33m\u001B[0m\u001B[0m\n",
      "\u001B[1;32m~\\anaconda3\\envs\\coco\\lib\\site-packages\\cvxpy\\utilities\\performance_utils.py\u001B[0m in \u001B[0;36m_compute_once\u001B[1;34m(self, *args, **kwargs)\u001B[0m\n\u001B[0;32m     71\u001B[0m         \u001B[1;32mif\u001B[0m \u001B[0mkey\u001B[0m \u001B[1;32min\u001B[0m \u001B[0mcache\u001B[0m\u001B[1;33m:\u001B[0m\u001B[1;33m\u001B[0m\u001B[1;33m\u001B[0m\u001B[0m\n\u001B[0;32m     72\u001B[0m             \u001B[1;32mreturn\u001B[0m \u001B[0mcache\u001B[0m\u001B[1;33m[\u001B[0m\u001B[0mkey\u001B[0m\u001B[1;33m]\u001B[0m\u001B[1;33m\u001B[0m\u001B[1;33m\u001B[0m\u001B[0m\n\u001B[1;32m---> 73\u001B[1;33m         \u001B[0mresult\u001B[0m \u001B[1;33m=\u001B[0m \u001B[0mfunc\u001B[0m\u001B[1;33m(\u001B[0m\u001B[0mself\u001B[0m\u001B[1;33m,\u001B[0m \u001B[1;33m*\u001B[0m\u001B[0margs\u001B[0m\u001B[1;33m,\u001B[0m \u001B[1;33m**\u001B[0m\u001B[0mkwargs\u001B[0m\u001B[1;33m)\u001B[0m\u001B[1;33m\u001B[0m\u001B[1;33m\u001B[0m\u001B[0m\n\u001B[0m\u001B[0;32m     74\u001B[0m         \u001B[0mcache\u001B[0m\u001B[1;33m[\u001B[0m\u001B[0mkey\u001B[0m\u001B[1;33m]\u001B[0m \u001B[1;33m=\u001B[0m \u001B[0mresult\u001B[0m\u001B[1;33m\u001B[0m\u001B[1;33m\u001B[0m\u001B[0m\n\u001B[0;32m     75\u001B[0m         \u001B[1;32mreturn\u001B[0m \u001B[0mresult\u001B[0m\u001B[1;33m\u001B[0m\u001B[1;33m\u001B[0m\u001B[0m\n",
      "\u001B[1;32m~\\anaconda3\\envs\\coco\\lib\\site-packages\\cvxpy\\expressions\\constants\\constant.py\u001B[0m in \u001B[0;36mis_nsd\u001B[1;34m(self)\u001B[0m\n\u001B[0;32m    236\u001B[0m         \u001B[1;31m# Compute sign of top eigenvalue if absent.\u001B[0m\u001B[1;33m\u001B[0m\u001B[1;33m\u001B[0m\u001B[1;33m\u001B[0m\u001B[0m\n\u001B[0;32m    237\u001B[0m         \u001B[1;32mif\u001B[0m \u001B[0mself\u001B[0m\u001B[1;33m.\u001B[0m\u001B[0m_nsd_test\u001B[0m \u001B[1;32mis\u001B[0m \u001B[1;32mNone\u001B[0m\u001B[1;33m:\u001B[0m\u001B[1;33m\u001B[0m\u001B[1;33m\u001B[0m\u001B[0m\n\u001B[1;32m--> 238\u001B[1;33m             \u001B[0mself\u001B[0m\u001B[1;33m.\u001B[0m\u001B[0m_nsd_test\u001B[0m \u001B[1;33m=\u001B[0m \u001B[0meig_util\u001B[0m\u001B[1;33m.\u001B[0m\u001B[0mis_psd_within_tol\u001B[0m\u001B[1;33m(\u001B[0m\u001B[1;33m-\u001B[0m\u001B[0mself\u001B[0m\u001B[1;33m.\u001B[0m\u001B[0mvalue\u001B[0m\u001B[1;33m,\u001B[0m \u001B[0mEIGVAL_TOL\u001B[0m\u001B[1;33m)\u001B[0m\u001B[1;33m\u001B[0m\u001B[1;33m\u001B[0m\u001B[0m\n\u001B[0m\u001B[0;32m    239\u001B[0m \u001B[1;33m\u001B[0m\u001B[0m\n\u001B[0;32m    240\u001B[0m         \u001B[1;32mreturn\u001B[0m \u001B[0mself\u001B[0m\u001B[1;33m.\u001B[0m\u001B[0m_nsd_test\u001B[0m\u001B[1;33m\u001B[0m\u001B[1;33m\u001B[0m\u001B[0m\n",
      "\u001B[1;32m~\\anaconda3\\envs\\coco\\lib\\site-packages\\cvxpy\\utilities\\eigvals.py\u001B[0m in \u001B[0;36mis_psd_within_tol\u001B[1;34m(A, tol)\u001B[0m\n\u001B[0;32m     50\u001B[0m     \u001B[0mev\u001B[0m \u001B[1;33m=\u001B[0m \u001B[0mnp\u001B[0m\u001B[1;33m.\u001B[0m\u001B[0mNaN\u001B[0m\u001B[1;33m\u001B[0m\u001B[1;33m\u001B[0m\u001B[0m\n\u001B[0;32m     51\u001B[0m     \u001B[1;32mtry\u001B[0m\u001B[1;33m:\u001B[0m\u001B[1;33m\u001B[0m\u001B[1;33m\u001B[0m\u001B[0m\n\u001B[1;32m---> 52\u001B[1;33m         \u001B[0mev\u001B[0m \u001B[1;33m=\u001B[0m \u001B[0mSA_eigsh\u001B[0m\u001B[1;33m(\u001B[0m\u001B[1;33m-\u001B[0m\u001B[0mtol\u001B[0m\u001B[1;33m)\u001B[0m  \u001B[1;31m# might return np.NaN, or raise exception\u001B[0m\u001B[1;33m\u001B[0m\u001B[1;33m\u001B[0m\u001B[0m\n\u001B[0m\u001B[0;32m     53\u001B[0m     \u001B[1;32mfinally\u001B[0m\u001B[1;33m:\u001B[0m\u001B[1;33m\u001B[0m\u001B[1;33m\u001B[0m\u001B[0m\n\u001B[0;32m     54\u001B[0m         \u001B[1;32mif\u001B[0m \u001B[0mnp\u001B[0m\u001B[1;33m.\u001B[0m\u001B[0misnan\u001B[0m\u001B[1;33m(\u001B[0m\u001B[0mev\u001B[0m\u001B[1;33m)\u001B[0m\u001B[1;33m.\u001B[0m\u001B[0mall\u001B[0m\u001B[1;33m(\u001B[0m\u001B[1;33m)\u001B[0m\u001B[1;33m:\u001B[0m\u001B[1;33m\u001B[0m\u001B[1;33m\u001B[0m\u001B[0m\n",
      "\u001B[1;32m~\\anaconda3\\envs\\coco\\lib\\site-packages\\cvxpy\\utilities\\eigvals.py\u001B[0m in \u001B[0;36mSA_eigsh\u001B[1;34m(sigma)\u001B[0m\n\u001B[0;32m     34\u001B[0m \u001B[1;33m\u001B[0m\u001B[0m\n\u001B[0;32m     35\u001B[0m     \u001B[1;32mdef\u001B[0m \u001B[0mSA_eigsh\u001B[0m\u001B[1;33m(\u001B[0m\u001B[0msigma\u001B[0m\u001B[1;33m)\u001B[0m\u001B[1;33m:\u001B[0m\u001B[1;33m\u001B[0m\u001B[1;33m\u001B[0m\u001B[0m\n\u001B[1;32m---> 36\u001B[1;33m         \u001B[1;32mreturn\u001B[0m \u001B[0msparla\u001B[0m\u001B[1;33m.\u001B[0m\u001B[0meigsh\u001B[0m\u001B[1;33m(\u001B[0m\u001B[0mA\u001B[0m\u001B[1;33m,\u001B[0m \u001B[0mk\u001B[0m\u001B[1;33m=\u001B[0m\u001B[1;36m1\u001B[0m\u001B[1;33m,\u001B[0m \u001B[0msigma\u001B[0m\u001B[1;33m=\u001B[0m\u001B[0msigma\u001B[0m\u001B[1;33m,\u001B[0m \u001B[0mwhich\u001B[0m\u001B[1;33m=\u001B[0m\u001B[1;34m'SA'\u001B[0m\u001B[1;33m,\u001B[0m \u001B[0mreturn_eigenvectors\u001B[0m\u001B[1;33m=\u001B[0m\u001B[1;32mFalse\u001B[0m\u001B[1;33m)\u001B[0m\u001B[1;33m\u001B[0m\u001B[1;33m\u001B[0m\u001B[0m\n\u001B[0m\u001B[0;32m     37\u001B[0m         \u001B[1;31m# Returns the eigenvalue w[i] of A where 1/(w[i] - sigma) is minimized.\u001B[0m\u001B[1;33m\u001B[0m\u001B[1;33m\u001B[0m\u001B[1;33m\u001B[0m\u001B[0m\n\u001B[0;32m     38\u001B[0m         \u001B[1;31m#\u001B[0m\u001B[1;33m\u001B[0m\u001B[1;33m\u001B[0m\u001B[1;33m\u001B[0m\u001B[0m\n",
      "\u001B[1;32m~\\anaconda3\\envs\\coco\\lib\\site-packages\\scipy\\sparse\\linalg\\eigen\\arpack\\arpack.py\u001B[0m in \u001B[0;36meigsh\u001B[1;34m(A, k, M, sigma, which, v0, ncv, maxiter, tol, return_eigenvectors, Minv, OPinv, mode)\u001B[0m\n\u001B[0;32m   1640\u001B[0m             \u001B[1;32mif\u001B[0m \u001B[0mOPinv\u001B[0m \u001B[1;32mis\u001B[0m \u001B[1;32mNone\u001B[0m\u001B[1;33m:\u001B[0m\u001B[1;33m\u001B[0m\u001B[1;33m\u001B[0m\u001B[0m\n\u001B[0;32m   1641\u001B[0m                 Minv_matvec = get_OPinv_matvec(A, M, sigma,\n\u001B[1;32m-> 1642\u001B[1;33m                                                hermitian=True, tol=tol)\n\u001B[0m\u001B[0;32m   1643\u001B[0m             \u001B[1;32melse\u001B[0m\u001B[1;33m:\u001B[0m\u001B[1;33m\u001B[0m\u001B[1;33m\u001B[0m\u001B[0m\n\u001B[0;32m   1644\u001B[0m                 \u001B[0mOPinv\u001B[0m \u001B[1;33m=\u001B[0m \u001B[0m_aslinearoperator_with_dtype\u001B[0m\u001B[1;33m(\u001B[0m\u001B[0mOPinv\u001B[0m\u001B[1;33m)\u001B[0m\u001B[1;33m\u001B[0m\u001B[1;33m\u001B[0m\u001B[0m\n",
      "\u001B[1;32m~\\anaconda3\\envs\\coco\\lib\\site-packages\\scipy\\sparse\\linalg\\eigen\\arpack\\arpack.py\u001B[0m in \u001B[0;36mget_OPinv_matvec\u001B[1;34m(A, M, sigma, hermitian, tol)\u001B[0m\n\u001B[0;32m   1068\u001B[0m                 \u001B[0mA\u001B[0m \u001B[1;33m=\u001B[0m \u001B[0mA\u001B[0m \u001B[1;33m+\u001B[0m \u001B[1;36m0j\u001B[0m\u001B[1;33m\u001B[0m\u001B[1;33m\u001B[0m\u001B[0m\n\u001B[0;32m   1069\u001B[0m             \u001B[0mA\u001B[0m\u001B[1;33m.\u001B[0m\u001B[0mflat\u001B[0m\u001B[1;33m[\u001B[0m\u001B[1;33m:\u001B[0m\u001B[1;33m:\u001B[0m\u001B[0mA\u001B[0m\u001B[1;33m.\u001B[0m\u001B[0mshape\u001B[0m\u001B[1;33m[\u001B[0m\u001B[1;36m1\u001B[0m\u001B[1;33m]\u001B[0m \u001B[1;33m+\u001B[0m \u001B[1;36m1\u001B[0m\u001B[1;33m]\u001B[0m \u001B[1;33m-=\u001B[0m \u001B[0msigma\u001B[0m\u001B[1;33m\u001B[0m\u001B[1;33m\u001B[0m\u001B[0m\n\u001B[1;32m-> 1070\u001B[1;33m             \u001B[1;32mreturn\u001B[0m \u001B[0mLuInv\u001B[0m\u001B[1;33m(\u001B[0m\u001B[0mA\u001B[0m\u001B[1;33m)\u001B[0m\u001B[1;33m.\u001B[0m\u001B[0mmatvec\u001B[0m\u001B[1;33m\u001B[0m\u001B[1;33m\u001B[0m\u001B[0m\n\u001B[0m\u001B[0;32m   1071\u001B[0m         \u001B[1;32melif\u001B[0m \u001B[0misspmatrix\u001B[0m\u001B[1;33m(\u001B[0m\u001B[0mA\u001B[0m\u001B[1;33m)\u001B[0m \u001B[1;32mor\u001B[0m \u001B[0mis_pydata_spmatrix\u001B[0m\u001B[1;33m(\u001B[0m\u001B[0mA\u001B[0m\u001B[1;33m)\u001B[0m\u001B[1;33m:\u001B[0m\u001B[1;33m\u001B[0m\u001B[1;33m\u001B[0m\u001B[0m\n\u001B[0;32m   1072\u001B[0m             \u001B[0mA\u001B[0m \u001B[1;33m=\u001B[0m \u001B[0mA\u001B[0m \u001B[1;33m-\u001B[0m \u001B[0msigma\u001B[0m \u001B[1;33m*\u001B[0m \u001B[0meye\u001B[0m\u001B[1;33m(\u001B[0m\u001B[0mA\u001B[0m\u001B[1;33m.\u001B[0m\u001B[0mshape\u001B[0m\u001B[1;33m[\u001B[0m\u001B[1;36m0\u001B[0m\u001B[1;33m]\u001B[0m\u001B[1;33m)\u001B[0m\u001B[1;33m\u001B[0m\u001B[1;33m\u001B[0m\u001B[0m\n",
      "\u001B[1;32m~\\anaconda3\\envs\\coco\\lib\\site-packages\\scipy\\sparse\\linalg\\eigen\\arpack\\arpack.py\u001B[0m in \u001B[0;36m__init__\u001B[1;34m(self, M)\u001B[0m\n\u001B[0;32m    935\u001B[0m     \"\"\"\n\u001B[0;32m    936\u001B[0m     \u001B[1;32mdef\u001B[0m \u001B[0m__init__\u001B[0m\u001B[1;33m(\u001B[0m\u001B[0mself\u001B[0m\u001B[1;33m,\u001B[0m \u001B[0mM\u001B[0m\u001B[1;33m)\u001B[0m\u001B[1;33m:\u001B[0m\u001B[1;33m\u001B[0m\u001B[1;33m\u001B[0m\u001B[0m\n\u001B[1;32m--> 937\u001B[1;33m         \u001B[0mself\u001B[0m\u001B[1;33m.\u001B[0m\u001B[0mM_lu\u001B[0m \u001B[1;33m=\u001B[0m \u001B[0mlu_factor\u001B[0m\u001B[1;33m(\u001B[0m\u001B[0mM\u001B[0m\u001B[1;33m)\u001B[0m\u001B[1;33m\u001B[0m\u001B[1;33m\u001B[0m\u001B[0m\n\u001B[0m\u001B[0;32m    938\u001B[0m         \u001B[0mself\u001B[0m\u001B[1;33m.\u001B[0m\u001B[0mshape\u001B[0m \u001B[1;33m=\u001B[0m \u001B[0mM\u001B[0m\u001B[1;33m.\u001B[0m\u001B[0mshape\u001B[0m\u001B[1;33m\u001B[0m\u001B[1;33m\u001B[0m\u001B[0m\n\u001B[0;32m    939\u001B[0m         \u001B[0mself\u001B[0m\u001B[1;33m.\u001B[0m\u001B[0mdtype\u001B[0m \u001B[1;33m=\u001B[0m \u001B[0mM\u001B[0m\u001B[1;33m.\u001B[0m\u001B[0mdtype\u001B[0m\u001B[1;33m\u001B[0m\u001B[1;33m\u001B[0m\u001B[0m\n",
      "\u001B[1;32m~\\anaconda3\\envs\\coco\\lib\\site-packages\\scipy\\linalg\\decomp_lu.py\u001B[0m in \u001B[0;36mlu_factor\u001B[1;34m(a, overwrite_a, check_finite)\u001B[0m\n\u001B[0;32m     75\u001B[0m     \u001B[0moverwrite_a\u001B[0m \u001B[1;33m=\u001B[0m \u001B[0moverwrite_a\u001B[0m \u001B[1;32mor\u001B[0m \u001B[1;33m(\u001B[0m\u001B[0m_datacopied\u001B[0m\u001B[1;33m(\u001B[0m\u001B[0ma1\u001B[0m\u001B[1;33m,\u001B[0m \u001B[0ma\u001B[0m\u001B[1;33m)\u001B[0m\u001B[1;33m)\u001B[0m\u001B[1;33m\u001B[0m\u001B[1;33m\u001B[0m\u001B[0m\n\u001B[0;32m     76\u001B[0m     \u001B[0mgetrf\u001B[0m\u001B[1;33m,\u001B[0m \u001B[1;33m=\u001B[0m \u001B[0mget_lapack_funcs\u001B[0m\u001B[1;33m(\u001B[0m\u001B[1;33m(\u001B[0m\u001B[1;34m'getrf'\u001B[0m\u001B[1;33m,\u001B[0m\u001B[1;33m)\u001B[0m\u001B[1;33m,\u001B[0m \u001B[1;33m(\u001B[0m\u001B[0ma1\u001B[0m\u001B[1;33m,\u001B[0m\u001B[1;33m)\u001B[0m\u001B[1;33m)\u001B[0m\u001B[1;33m\u001B[0m\u001B[1;33m\u001B[0m\u001B[0m\n\u001B[1;32m---> 77\u001B[1;33m     \u001B[0mlu\u001B[0m\u001B[1;33m,\u001B[0m \u001B[0mpiv\u001B[0m\u001B[1;33m,\u001B[0m \u001B[0minfo\u001B[0m \u001B[1;33m=\u001B[0m \u001B[0mgetrf\u001B[0m\u001B[1;33m(\u001B[0m\u001B[0ma1\u001B[0m\u001B[1;33m,\u001B[0m \u001B[0moverwrite_a\u001B[0m\u001B[1;33m=\u001B[0m\u001B[0moverwrite_a\u001B[0m\u001B[1;33m)\u001B[0m\u001B[1;33m\u001B[0m\u001B[1;33m\u001B[0m\u001B[0m\n\u001B[0m\u001B[0;32m     78\u001B[0m     \u001B[1;32mif\u001B[0m \u001B[0minfo\u001B[0m \u001B[1;33m<\u001B[0m \u001B[1;36m0\u001B[0m\u001B[1;33m:\u001B[0m\u001B[1;33m\u001B[0m\u001B[1;33m\u001B[0m\u001B[0m\n\u001B[0;32m     79\u001B[0m         raise ValueError('illegal value in %dth argument of '\n",
      "\u001B[1;31mKeyboardInterrupt\u001B[0m: "
     ]
    }
   ],
   "source": [
    "sampling_stl(spec_name,spec,N)"
   ],
   "metadata": {
    "collapsed": false,
    "pycharm": {
     "name": "#%%\n"
    }
   }
  },
  {
   "cell_type": "code",
   "execution_count": 313,
   "outputs": [
    {
     "name": "stdout",
     "output_type": "stream",
     "text": [
      "3271\n"
     ]
    }
   ],
   "source": [
    "relative_path = os.getcwd()\n",
    "train_fn = 'train_horizon_{}.p'.format(N)\n",
    "train_fn = os.path.join(relative_path, 'data', dataset_name, train_fn)\n",
    "train_file = open(train_fn,'rb')\n",
    "# train_file = open(dataset_fn+'/train.p','rb')\n",
    "train_data = pickle.load(train_file)\n",
    "system = scenario.spec_name\n",
    "prob_features = ['x0']\n",
    "stl_obj = OMISTL(system, prob, prob_features)\n",
    "stl_obj.construct_stl_strategies(train_data,4)\n",
    "print(stl_obj.n_strategies)"
   ],
   "metadata": {
    "collapsed": false,
    "pycharm": {
     "name": "#%%\n"
    }
   }
  },
  {
   "cell_type": "code",
   "execution_count": 28,
   "outputs": [
    {
     "name": "stdout",
     "output_type": "stream",
     "text": [
      "Number of strategies for horizon 25: 3271\n",
      "Done with epoch 0 in 0.7187447547912598s\n",
      "Done with epoch 1 in 0.640627384185791s\n",
      "Done with epoch 2 in 0.6094915866851807s\n",
      "Done with epoch 3 in 0.6093406677246094s\n",
      "Done with epoch 4 in 0.6250641345977783s\n",
      "Done with epoch 5 in 0.6094105243682861s\n",
      "Done with epoch 6 in 0.562462568283081s\n",
      "loss:   4.344592094421387,   acc:  0.15625\n",
      "Done with epoch 7 in 0.5470478534698486s\n",
      "Done with epoch 8 in 0.5625121593475342s\n",
      "Done with epoch 9 in 0.5468649864196777s\n",
      "Done with epoch 10 in 0.546907901763916s\n",
      "Done with epoch 11 in 0.5314681529998779s\n",
      "Done with epoch 12 in 0.5937573909759521s\n",
      "Done with epoch 13 in 0.5937480926513672s\n",
      "loss:   3.2883923053741455,   acc:  0.15625\n",
      "Done with epoch 14 in 0.5782649517059326s\n",
      "Done with epoch 15 in 0.5312552452087402s\n",
      "Done with epoch 16 in 0.5469188690185547s\n",
      "Done with epoch 17 in 0.5312502384185791s\n",
      "Done with epoch 18 in 0.5470218658447266s\n",
      "Done with epoch 19 in 0.5312497615814209s\n",
      "Done with epoch 20 in 0.5313856601715088s\n",
      "loss:   3.075364589691162,   acc:  0.25\n",
      "Done with epoch 21 in 0.5312197208404541s\n",
      "Done with epoch 22 in 0.5469751358032227s\n",
      "Done with epoch 23 in 0.5312526226043701s\n",
      "Done with epoch 24 in 0.5312831401824951s\n",
      "Done with epoch 25 in 0.5313847064971924s\n",
      "Done with epoch 26 in 0.5625338554382324s\n",
      "Done with epoch 27 in 0.5313155651092529s\n",
      "loss:   2.7365565299987793,   acc:  0.3125\n",
      "Done with epoch 28 in 0.531247615814209s\n",
      "Done with epoch 29 in 0.5157332420349121s\n",
      "Done with epoch 30 in 0.5155997276306152s\n",
      "Done with epoch 31 in 0.5312798023223877s\n",
      "Done with epoch 32 in 0.5312190055847168s\n",
      "Done with epoch 33 in 0.5470640659332275s\n",
      "Done with epoch 34 in 0.5312192440032959s\n",
      "loss:   3.105208158493042,   acc:  0.1875\n",
      "Done with epoch 35 in 0.546905517578125s\n",
      "Done with epoch 36 in 0.5312352180480957s\n",
      "Done with epoch 37 in 0.5470094680786133s\n",
      "Done with epoch 38 in 0.5312507152557373s\n",
      "Done with epoch 39 in 0.5312507152557373s\n",
      "Done with epoch 40 in 0.5469975471496582s\n",
      "Done with epoch 41 in 0.5312502384185791s\n",
      "loss:   2.639094829559326,   acc:  0.40625\n",
      "Done with epoch 42 in 0.5469598770141602s\n",
      "Done with epoch 43 in 0.5468697547912598s\n",
      "Done with epoch 44 in 0.531313419342041s\n",
      "Done with epoch 45 in 0.5469028949737549s\n",
      "Done with epoch 46 in 0.5626218318939209s\n",
      "Done with epoch 47 in 0.5468432903289795s\n",
      "Done with epoch 48 in 0.5938165187835693s\n",
      "loss:   2.4581055641174316,   acc:  0.28125\n",
      "Done with epoch 49 in 0.5625674724578857s\n",
      "Done with epoch 50 in 0.6250038146972656s\n",
      "Done with epoch 51 in 0.6094310283660889s\n",
      "Done with epoch 52 in 0.6562485694885254s\n",
      "Done with epoch 53 in 0.5938196182250977s\n",
      "Done with epoch 54 in 0.5782737731933594s\n",
      "Done with epoch 55 in 0.5312581062316895s\n",
      "loss:   2.437772750854492,   acc:  0.25\n",
      "Done with epoch 56 in 0.5624914169311523s\n",
      "Done with epoch 57 in 0.5312788486480713s\n",
      "Done with epoch 58 in 0.5470592975616455s\n",
      "Done with epoch 59 in 0.5312449932098389s\n",
      "Done with epoch 60 in 0.5314068794250488s\n",
      "Done with epoch 61 in 0.5312225818634033s\n",
      "Done with epoch 62 in 0.5469961166381836s\n",
      "loss:   2.2049050331115723,   acc:  0.375\n",
      "Done with epoch 63 in 0.5468790531158447s\n",
      "Done with epoch 64 in 0.5468704700469971s\n",
      "Done with epoch 65 in 0.531466007232666s\n",
      "Done with epoch 66 in 0.5312819480895996s\n",
      "Done with epoch 67 in 0.531348705291748s\n",
      "Done with epoch 68 in 0.5312488079071045s\n",
      "Done with epoch 69 in 0.5312492847442627s\n",
      "loss:   2.263077735900879,   acc:  0.46875\n",
      "Done with epoch 70 in 0.5468759536743164s\n",
      "Done with epoch 71 in 0.531374454498291s\n",
      "Done with epoch 72 in 0.5468769073486328s\n",
      "Done with epoch 73 in 0.5313940048217773s\n",
      "Done with epoch 74 in 0.5312187671661377s\n",
      "Done with epoch 75 in 0.546992301940918s\n",
      "Done with epoch 76 in 0.546877384185791s\n",
      "Done with epoch 77 in 0.5312144756317139s\n",
      "loss:   2.3007922172546387,   acc:  0.375\n",
      "Done with epoch 78 in 0.5470361709594727s\n",
      "Done with epoch 79 in 0.5312821865081787s\n",
      "Done with epoch 80 in 0.5312175750732422s\n",
      "Done with epoch 81 in 0.5468759536743164s\n",
      "Done with epoch 82 in 0.5312509536743164s\n",
      "Done with epoch 83 in 0.5312817096710205s\n",
      "Done with epoch 84 in 0.5470669269561768s\n",
      "loss:   2.2480149269104004,   acc:  0.375\n",
      "Done with epoch 85 in 0.5312607288360596s\n",
      "Done with epoch 86 in 0.5313372611999512s\n",
      "Done with epoch 87 in 0.5469067096710205s\n",
      "Done with epoch 88 in 0.5468411445617676s\n",
      "Done with epoch 89 in 0.5312519073486328s\n",
      "Done with epoch 90 in 0.547020435333252s\n",
      "Done with epoch 91 in 0.5469610691070557s\n",
      "loss:   2.4569554328918457,   acc:  0.28125\n",
      "Done with epoch 92 in 0.5312530994415283s\n",
      "Done with epoch 93 in 0.5312798023223877s\n",
      "Done with epoch 94 in 0.5468766689300537s\n",
      "Done with epoch 95 in 0.5313882827758789s\n",
      "Done with epoch 96 in 0.5468757152557373s\n",
      "Done with epoch 97 in 0.531364917755127s\n",
      "Done with epoch 98 in 0.5156152248382568s\n",
      "loss:   2.524930953979492,   acc:  0.3125\n",
      "Done with epoch 99 in 0.5470066070556641s\n",
      "Done with epoch 100 in 0.5312497615814209s\n",
      "Done with epoch 101 in 0.5468752384185791s\n",
      "Done with epoch 102 in 0.5156242847442627s\n",
      "Done with epoch 103 in 0.5313653945922852s\n",
      "Done with epoch 104 in 0.6250636577606201s\n",
      "Done with epoch 105 in 0.5469083786010742s\n",
      "loss:   2.0916318893432617,   acc:  0.4375\n",
      "Done with epoch 106 in 0.5782144069671631s\n",
      "Done with epoch 107 in 0.5624682903289795s\n",
      "Done with epoch 108 in 0.5625870227813721s\n",
      "Done with epoch 109 in 0.5468776226043701s\n",
      "Done with epoch 110 in 0.5469601154327393s\n",
      "Done with epoch 111 in 0.531247615814209s\n",
      "Done with epoch 112 in 0.5468790531158447s\n",
      "loss:   2.183248996734619,   acc:  0.34375\n",
      "Done with epoch 113 in 0.5470414161682129s\n",
      "Done with epoch 114 in 0.5312509536743164s\n",
      "Done with epoch 115 in 0.5313088893890381s\n",
      "Done with epoch 116 in 0.5312526226043701s\n",
      "Done with epoch 117 in 0.5625262260437012s\n",
      "Done with epoch 118 in 0.5468795299530029s\n",
      "Done with epoch 119 in 0.562720537185669s\n",
      "loss:   2.2138476371765137,   acc:  0.40625\n",
      "Done with epoch 120 in 0.5489401817321777s\n",
      "Done with epoch 121 in 0.531212329864502s\n",
      "Done with epoch 122 in 0.5312776565551758s\n",
      "Done with epoch 123 in 0.5469884872436523s\n",
      "Done with epoch 124 in 0.5156252384185791s\n",
      "Done with epoch 125 in 0.5312514305114746s\n",
      "Done with epoch 126 in 0.5469660758972168s\n",
      "loss:   1.8788785934448242,   acc:  0.3125\n",
      "Done with epoch 127 in 0.5468771457672119s\n",
      "Done with epoch 128 in 0.5313966274261475s\n",
      "Done with epoch 129 in 0.5312213897705078s\n",
      "Done with epoch 130 in 0.5469040870666504s\n",
      "Done with epoch 131 in 0.5312230587005615s\n",
      "Done with epoch 132 in 0.5314309597015381s\n",
      "Done with epoch 133 in 0.5312530994415283s\n",
      "loss:   1.8194321393966675,   acc:  0.5\n",
      "Done with epoch 134 in 0.5469741821289062s\n",
      "Done with epoch 135 in 0.546872615814209s\n",
      "Done with epoch 136 in 0.5156867504119873s\n",
      "Done with epoch 137 in 0.5468733310699463s\n",
      "Done with epoch 138 in 0.5468413829803467s\n",
      "Done with epoch 139 in 0.5314335823059082s\n",
      "Done with epoch 140 in 0.546905517578125s\n",
      "loss:   1.883437156677246,   acc:  0.40625\n",
      "Done with epoch 141 in 0.5469717979431152s\n",
      "Done with epoch 142 in 0.5468404293060303s\n",
      "Done with epoch 143 in 0.5156264305114746s\n",
      "Done with epoch 144 in 0.5469059944152832s\n",
      "Done with epoch 145 in 0.5315041542053223s\n",
      "Done with epoch 146 in 0.5468783378601074s\n",
      "Done with epoch 147 in 0.5468716621398926s\n",
      "loss:   2.2457468509674072,   acc:  0.34375\n",
      "Done with epoch 148 in 0.5468411445617676s\n",
      "Done with epoch 149 in 0.5470654964447021s\n",
      "Done with epoch 150 in 0.5313951969146729s\n",
      "Done with epoch 151 in 0.5312469005584717s\n",
      "Done with epoch 152 in 0.5313675403594971s\n",
      "Done with epoch 153 in 0.5312533378601074s\n",
      "Done with epoch 154 in 0.5468745231628418s\n",
      "Done with epoch 155 in 0.5468757152557373s\n",
      "loss:   2.114452362060547,   acc:  0.40625\n",
      "Done with epoch 156 in 0.546931266784668s\n",
      "Done with epoch 157 in 0.5156562328338623s\n",
      "Done with epoch 158 in 0.5468728542327881s\n",
      "Done with epoch 159 in 0.5312530994415283s\n",
      "Done with epoch 160 in 0.5470714569091797s\n",
      "Done with epoch 161 in 0.5312173366546631s\n",
      "Done with epoch 162 in 0.5470149517059326s\n",
      "loss:   2.4682483673095703,   acc:  0.1875\n",
      "Done with epoch 163 in 0.5469214916229248s\n",
      "Done with epoch 164 in 0.5469033718109131s\n",
      "Done with epoch 165 in 0.5468461513519287s\n",
      "Done with epoch 166 in 0.5312483310699463s\n",
      "Done with epoch 167 in 0.5782995223999023s\n",
      "Done with epoch 168 in 0.5625216960906982s\n",
      "Done with epoch 169 in 0.5938575267791748s\n",
      "loss:   2.0534660816192627,   acc:  0.4375\n",
      "Done with epoch 170 in 0.5781590938568115s\n",
      "Done with epoch 171 in 0.5937190055847168s\n",
      "Done with epoch 172 in 0.5782971382141113s\n",
      "Done with epoch 173 in 0.5937454700469971s\n",
      "Done with epoch 174 in 0.5313539505004883s\n",
      "Done with epoch 175 in 0.609337568283081s\n",
      "Done with epoch 176 in 0.5469071865081787s\n",
      "loss:   1.9564814567565918,   acc:  0.34375\n",
      "Done with epoch 177 in 0.5468442440032959s\n",
      "Done with epoch 178 in 0.5314185619354248s\n",
      "Done with epoch 179 in 0.5312509536743164s\n",
      "Done with epoch 180 in 0.5469069480895996s\n",
      "Done with epoch 181 in 0.5470161437988281s\n",
      "Done with epoch 182 in 0.5312199592590332s\n",
      "Done with epoch 183 in 0.5469760894775391s\n",
      "loss:   2.0775575637817383,   acc:  0.3125\n",
      "Done with epoch 184 in 0.5624966621398926s\n",
      "Done with epoch 185 in 0.5468788146972656s\n",
      "Done with epoch 186 in 0.5468409061431885s\n",
      "Done with epoch 187 in 0.5314149856567383s\n",
      "Done with epoch 188 in 0.5468721389770508s\n",
      "Done with epoch 189 in 0.5312540531158447s\n",
      "Done with epoch 190 in 0.5626306533813477s\n",
      "loss:   2.225379705429077,   acc:  0.28125\n",
      "Done with epoch 191 in 0.5468788146972656s\n",
      "Done with epoch 192 in 0.5469062328338623s\n",
      "Done with epoch 193 in 0.5468425750732422s\n",
      "Done with epoch 194 in 0.5314252376556396s\n",
      "Done with epoch 195 in 0.5468761920928955s\n",
      "Done with epoch 196 in 0.5313193798065186s\n",
      "Done with epoch 197 in 0.5625002384185791s\n",
      "loss:   1.8388980627059937,   acc:  0.375\n",
      "Done with epoch 198 in 0.5469021797180176s\n",
      "Done with epoch 199 in 0.5624749660491943s\n",
      "Done with epoch 200 in 0.5470035076141357s\n",
      "Done with epoch 201 in 0.5313806533813477s\n",
      "Done with epoch 202 in 0.5468704700469971s\n",
      "Done with epoch 203 in 0.5626296997070312s\n",
      "Done with epoch 204 in 0.5469076633453369s\n",
      "loss:   2.1157686710357666,   acc:  0.3125\n",
      "Done with epoch 205 in 0.5469334125518799s\n",
      "Done with epoch 206 in 0.5781233310699463s\n",
      "Done with epoch 207 in 0.5312530994415283s\n",
      "Done with epoch 208 in 0.5469050407409668s\n",
      "Done with epoch 209 in 0.5340168476104736s\n",
      "Done with epoch 210 in 0.5312192440032959s\n",
      "Done with epoch 211 in 0.5625312328338623s\n",
      "loss:   1.940068006515503,   acc:  0.4375\n",
      "Saved model at D:\\Curious\\OMISTL\\models/STL_horizon_25.pt\n",
      "Done with epoch 212 in 0.5469822883605957s\n",
      "Done with epoch 213 in 0.5312521457672119s\n",
      "Done with epoch 214 in 0.5469849109649658s\n",
      "Done with epoch 215 in 0.5312185287475586s\n",
      "Done with epoch 216 in 0.5468745231628418s\n",
      "Done with epoch 217 in 0.5468752384185791s\n",
      "Done with epoch 218 in 0.5157890319824219s\n",
      "loss:   2.0822577476501465,   acc:  0.3125\n",
      "Done with epoch 219 in 0.5468735694885254s\n",
      "Done with epoch 220 in 0.5469720363616943s\n",
      "Done with epoch 221 in 0.5312802791595459s\n",
      "Done with epoch 222 in 0.5313458442687988s\n",
      "Done with epoch 223 in 0.5468614101409912s\n",
      "Done with epoch 224 in 0.5468478202819824s\n",
      "Done with epoch 225 in 0.5938942432403564s\n",
      "loss:   1.991274118423462,   acc:  0.5\n",
      "Done with epoch 226 in 0.5937826633453369s\n",
      "Done with epoch 227 in 0.5624995231628418s\n",
      "Done with epoch 228 in 0.5624980926513672s\n",
      "Done with epoch 229 in 0.5626261234283447s\n",
      "Done with epoch 230 in 0.5625650882720947s\n",
      "Done with epoch 231 in 0.531252384185791s\n",
      "Done with epoch 232 in 0.5470001697540283s\n",
      "Done with epoch 233 in 0.5312511920928955s\n",
      "loss:   2.3413684368133545,   acc:  0.3125\n",
      "Done with epoch 234 in 0.5781850814819336s\n",
      "Done with epoch 235 in 0.5469045639038086s\n",
      "Done with epoch 236 in 0.5312473773956299s\n",
      "Done with epoch 237 in 0.5624699592590332s\n",
      "Done with epoch 238 in 0.5470907688140869s\n",
      "Done with epoch 239 in 0.5469052791595459s\n",
      "Done with epoch 240 in 0.5469934940338135s\n",
      "loss:   1.7232309579849243,   acc:  0.4375\n",
      "Done with epoch 241 in 0.546942949295044s\n",
      "Done with epoch 242 in 0.5156610012054443s\n",
      "Done with epoch 243 in 0.546872615814209s\n",
      "Done with epoch 244 in 0.5312485694885254s\n",
      "Done with epoch 245 in 0.5470211505889893s\n",
      "Done with epoch 246 in 0.5468778610229492s\n",
      "Done with epoch 247 in 0.5781941413879395s\n",
      "loss:   1.8001055717468262,   acc:  0.34375\n",
      "Done with epoch 248 in 0.5468740463256836s\n",
      "Done with epoch 249 in 0.5312519073486328s\n",
      "Done with epoch 250 in 0.5468733310699463s\n",
      "Done with epoch 251 in 0.5470130443572998s\n",
      "Done with epoch 252 in 0.5469050407409668s\n",
      "Done with epoch 253 in 0.5468747615814209s\n",
      "Done with epoch 254 in 0.5469574928283691s\n",
      "loss:   1.9045085906982422,   acc:  0.46875\n",
      "Done with epoch 255 in 0.5624983310699463s\n",
      "Done with epoch 256 in 0.531402587890625s\n",
      "Done with epoch 257 in 0.5468897819519043s\n",
      "Done with epoch 258 in 0.5469694137573242s\n",
      "Done with epoch 259 in 0.5937206745147705s\n",
      "Done with epoch 260 in 0.5468709468841553s\n",
      "Done with epoch 261 in 0.5470280647277832s\n",
      "loss:   1.7615275382995605,   acc:  0.40625\n",
      "Done with epoch 262 in 0.562507152557373s\n",
      "Done with epoch 263 in 0.5313913822174072s\n",
      "Done with epoch 264 in 0.546875s\n",
      "Done with epoch 265 in 0.5468742847442627s\n",
      "Done with epoch 266 in 0.5468754768371582s\n",
      "Done with epoch 267 in 0.5470383167266846s\n",
      "Done with epoch 268 in 0.5312235355377197s\n",
      "loss:   1.8193917274475098,   acc:  0.375\n",
      "Done with epoch 269 in 0.5625042915344238s\n",
      "Done with epoch 270 in 0.5469040870666504s\n",
      "Done with epoch 271 in 0.5469639301300049s\n",
      "Done with epoch 272 in 0.5468766689300537s\n",
      "Done with epoch 273 in 0.5468738079071045s\n",
      "Done with epoch 274 in 0.5470542907714844s\n",
      "Done with epoch 275 in 0.5468790531158447s\n",
      "loss:   1.834336519241333,   acc:  0.40625\n",
      "Done with epoch 276 in 0.5624699592590332s\n",
      "Done with epoch 277 in 0.5468752384185791s\n",
      "Done with epoch 278 in 0.5470449924468994s\n",
      "Done with epoch 279 in 0.5312411785125732s\n",
      "Done with epoch 280 in 0.5469913482666016s\n",
      "Done with epoch 281 in 0.5312228202819824s\n",
      "Done with epoch 282 in 0.5626020431518555s\n",
      "loss:   1.6345269680023193,   acc:  0.46875\n",
      "Done with epoch 283 in 0.5468428134918213s\n",
      "Done with epoch 284 in 0.5468742847442627s\n",
      "Done with epoch 285 in 0.5470020771026611s\n",
      "Done with epoch 286 in 0.5312809944152832s\n",
      "Done with epoch 287 in 0.5781965255737305s\n",
      "Done with epoch 288 in 0.6093456745147705s\n",
      "Done with epoch 289 in 0.5938169956207275s\n",
      "loss:   1.782612681388855,   acc:  0.40625\n",
      "Done with epoch 290 in 0.5626108646392822s\n",
      "Done with epoch 291 in 0.5937540531158447s\n",
      "Done with epoch 292 in 0.5313711166381836s\n",
      "Done with epoch 293 in 0.6250262260437012s\n",
      "Done with epoch 294 in 0.5780999660491943s\n",
      "Done with epoch 295 in 0.5781545639038086s\n",
      "Done with epoch 296 in 0.5470545291900635s\n",
      "loss:   1.3654032945632935,   acc:  0.625\n",
      "Done with epoch 297 in 0.5625898838043213s\n",
      "Done with epoch 298 in 0.5624983310699463s\n",
      "Done with epoch 299 in 0.5312540531158447s\n",
      "Done with epoch 300 in 0.5469083786010742s\n",
      "Done with epoch 301 in 0.562615156173706s\n",
      "Done with epoch 302 in 0.5624680519104004s\n",
      "Done with epoch 303 in 0.5469911098480225s\n",
      "loss:   1.401586651802063,   acc:  0.59375\n",
      "Done with epoch 304 in 0.5625360012054443s\n",
      "Done with epoch 305 in 0.5312495231628418s\n",
      "Done with epoch 306 in 0.5468766689300537s\n",
      "Done with epoch 307 in 0.5624997615814209s\n",
      "Done with epoch 308 in 0.5314304828643799s\n",
      "Done with epoch 309 in 0.5624985694885254s\n",
      "Done with epoch 310 in 0.5313513278961182s\n",
      "Done with epoch 311 in 0.5312159061431885s\n",
      "loss:   1.6691635847091675,   acc:  0.375\n",
      "Done with epoch 312 in 0.5625348091125488s\n",
      "Done with epoch 313 in 0.5468707084655762s\n",
      "Done with epoch 314 in 0.5627093315124512s\n",
      "Done with epoch 315 in 0.562469482421875s\n",
      "Done with epoch 316 in 0.5470187664031982s\n",
      "Done with epoch 317 in 0.5469987392425537s\n",
      "Done with epoch 318 in 0.5469014644622803s\n",
      "loss:   1.706453561782837,   acc:  0.4375\n",
      "Done with epoch 319 in 0.5626046657562256s\n",
      "Done with epoch 320 in 0.578125s\n",
      "Done with epoch 321 in 0.5468780994415283s\n",
      "Done with epoch 322 in 0.5468411445617676s\n",
      "Done with epoch 323 in 0.5626497268676758s\n",
      "Done with epoch 324 in 0.5312511920928955s\n",
      "Done with epoch 325 in 0.5781557559967041s\n",
      "loss:   1.7707327604293823,   acc:  0.4375\n",
      "Done with epoch 326 in 0.5469887256622314s\n",
      "Done with epoch 327 in 0.5468759536743164s\n",
      "Done with epoch 328 in 0.5469932556152344s\n",
      "Done with epoch 329 in 0.5468752384185791s\n",
      "Done with epoch 330 in 0.5469074249267578s\n",
      "Done with epoch 331 in 0.5468735694885254s\n",
      "Done with epoch 332 in 0.5314102172851562s\n",
      "loss:   1.816500186920166,   acc:  0.4375\n",
      "Done with epoch 333 in 0.5468473434448242s\n",
      "Done with epoch 334 in 0.5626564025878906s\n",
      "Done with epoch 335 in 0.5312509536743164s\n",
      "Done with epoch 336 in 0.5624682903289795s\n",
      "Done with epoch 337 in 0.5782380104064941s\n",
      "Done with epoch 338 in 0.5625338554382324s\n",
      "Done with epoch 339 in 0.547396183013916s\n",
      "loss:   1.635382890701294,   acc:  0.46875\n",
      "Done with epoch 340 in 0.5468752384185791s\n",
      "Done with epoch 341 in 0.5626320838928223s\n",
      "Done with epoch 342 in 0.546881914138794s\n",
      "Done with epoch 343 in 0.5313444137573242s\n",
      "Done with epoch 344 in 0.5624675750732422s\n",
      "Done with epoch 345 in 0.578193187713623s\n",
      "Done with epoch 346 in 0.5781309604644775s\n",
      "loss:   1.8857030868530273,   acc:  0.40625\n",
      "Done with epoch 347 in 0.6094036102294922s\n",
      "Done with epoch 348 in 0.5938901901245117s\n",
      "Done with epoch 349 in 0.5468747615814209s\n",
      "Done with epoch 350 in 0.5782337188720703s\n",
      "Done with epoch 351 in 0.5312821865081787s\n",
      "Done with epoch 352 in 0.5468788146972656s\n",
      "Done with epoch 353 in 0.5470280647277832s\n",
      "loss:   1.635500192642212,   acc:  0.34375\n",
      "Done with epoch 354 in 0.5624945163726807s\n",
      "Done with epoch 355 in 0.5625813007354736s\n",
      "Done with epoch 356 in 0.5624990463256836s\n",
      "Done with epoch 357 in 0.5468757152557373s\n",
      "Done with epoch 358 in 0.5469062328338623s\n",
      "Done with epoch 359 in 0.5626347064971924s\n",
      "Done with epoch 360 in 0.5312521457672119s\n",
      "loss:   1.7407740354537964,   acc:  0.375\n",
      "Done with epoch 361 in 0.5625331401824951s\n",
      "Done with epoch 362 in 0.5626699924468994s\n",
      "Done with epoch 363 in 0.5312209129333496s\n",
      "Done with epoch 364 in 0.5314106941223145s\n",
      "Done with epoch 365 in 0.5312516689300537s\n",
      "Done with epoch 366 in 0.5626280307769775s\n",
      "Done with epoch 367 in 0.5468730926513672s\n",
      "loss:   1.6542046070098877,   acc:  0.375\n",
      "Done with epoch 368 in 0.547011137008667s\n",
      "Done with epoch 369 in 0.5624699592590332s\n",
      "Done with epoch 370 in 0.5469043254852295s\n",
      "Done with epoch 371 in 0.5626990795135498s\n",
      "Done with epoch 372 in 0.5624988079071045s\n",
      "Done with epoch 373 in 0.5469849109649658s\n",
      "Done with epoch 374 in 0.531219482421875s\n",
      "loss:   1.3745286464691162,   acc:  0.53125\n",
      "Done with epoch 375 in 0.5469074249267578s\n",
      "Done with epoch 376 in 0.5624635219573975s\n",
      "Done with epoch 377 in 0.5470285415649414s\n",
      "Done with epoch 378 in 0.5468790531158447s\n",
      "Done with epoch 379 in 0.5469040870666504s\n",
      "Done with epoch 380 in 0.5468757152557373s\n",
      "Done with epoch 381 in 0.5313844680786133s\n",
      "loss:   1.688148856163025,   acc:  0.4375\n",
      "Done with epoch 382 in 0.5625953674316406s\n",
      "Done with epoch 383 in 0.578131914138794s\n",
      "Done with epoch 384 in 0.5468730926513672s\n",
      "Done with epoch 385 in 0.5468423366546631s\n",
      "Done with epoch 386 in 0.5313522815704346s\n",
      "Done with epoch 387 in 0.5468759536743164s\n",
      "Done with epoch 388 in 0.5783157348632812s\n",
      "Done with epoch 389 in 0.5312561988830566s\n",
      "loss:   1.5233577489852905,   acc:  0.5625\n",
      "Done with epoch 390 in 0.5781939029693604s\n",
      "Done with epoch 391 in 0.5469088554382324s\n",
      "Done with epoch 392 in 0.6093716621398926s\n",
      "Done with epoch 393 in 0.5469887256622314s\n",
      "Done with epoch 394 in 0.5624682903289795s\n",
      "Done with epoch 395 in 0.5626022815704346s\n",
      "Done with epoch 396 in 0.5312485694885254s\n",
      "loss:   1.5743156671524048,   acc:  0.5625\n",
      "Done with epoch 397 in 0.5625011920928955s\n",
      "Done with epoch 398 in 0.5469021797180176s\n",
      "Done with epoch 399 in 0.5627872943878174s\n",
      "Done with epoch 400 in 0.5937216281890869s\n",
      "Done with epoch 401 in 0.5625267028808594s\n",
      "Done with epoch 402 in 0.5470399856567383s\n",
      "Done with epoch 403 in 0.5625269412994385s\n",
      "loss:   1.7182666063308716,   acc:  0.5625\n",
      "Done with epoch 404 in 0.5468802452087402s\n",
      "Done with epoch 405 in 0.6406190395355225s\n",
      "Done with epoch 406 in 0.5782361030578613s\n",
      "Done with epoch 407 in 0.6407046318054199s\n",
      "Done with epoch 408 in 0.5937798023223877s\n",
      "Done with epoch 409 in 0.5625035762786865s\n",
      "Done with epoch 410 in 0.6249983310699463s\n",
      "loss:   1.750403642654419,   acc:  0.46875\n",
      "Done with epoch 411 in 0.5782651901245117s\n",
      "Done with epoch 412 in 0.5781261920928955s\n",
      "Done with epoch 413 in 0.6093757152557373s\n",
      "Done with epoch 414 in 0.5627269744873047s\n",
      "Done with epoch 415 in 0.5468692779541016s\n",
      "Done with epoch 416 in 0.6094760894775391s\n",
      "Done with epoch 417 in 0.5312550067901611s\n",
      "loss:   1.6148532629013062,   acc:  0.46875\n",
      "Done with epoch 418 in 0.5625016689300537s\n",
      "Done with epoch 419 in 0.5625841617584229s\n",
      "Done with epoch 420 in 0.5468733310699463s\n",
      "Done with epoch 421 in 0.562593936920166s\n",
      "Done with epoch 422 in 0.5469083786010742s\n",
      "Done with epoch 423 in 0.5469541549682617s\n",
      "Done with epoch 424 in 0.5468447208404541s\n",
      "loss:   1.2694382667541504,   acc:  0.59375\n",
      "Saved model at D:\\Curious\\OMISTL\\models/STL_horizon_25.pt\n",
      "Done with epoch 425 in 0.5636467933654785s\n",
      "Done with epoch 426 in 0.5624969005584717s\n",
      "Done with epoch 427 in 0.5312540531158447s\n",
      "Done with epoch 428 in 0.5469653606414795s\n",
      "Done with epoch 429 in 0.546881914138794s\n",
      "Done with epoch 430 in 0.5469651222229004s\n",
      "Done with epoch 431 in 0.5624961853027344s\n",
      "loss:   1.3415247201919556,   acc:  0.625\n",
      "Done with epoch 432 in 0.593756914138794s\n",
      "Done with epoch 433 in 0.5624945163726807s\n",
      "Done with epoch 434 in 0.5626842975616455s\n",
      "Done with epoch 435 in 0.5469579696655273s\n",
      "Done with epoch 436 in 0.5624661445617676s\n",
      "Done with epoch 437 in 0.5625360012054443s\n",
      "Done with epoch 438 in 0.5312128067016602s\n",
      "loss:   1.4621777534484863,   acc:  0.5\n",
      "Done with epoch 439 in 0.547015905380249s\n",
      "Done with epoch 440 in 0.5468893051147461s\n",
      "Done with epoch 441 in 0.546844482421875s\n",
      "Done with epoch 442 in 0.5625040531158447s\n",
      "Done with epoch 443 in 0.5470476150512695s\n",
      "Done with epoch 444 in 0.5624966621398926s\n",
      "Done with epoch 445 in 0.5468769073486328s\n",
      "loss:   1.4127380847930908,   acc:  0.40625\n",
      "Done with epoch 446 in 0.5470705032348633s\n",
      "Done with epoch 447 in 0.5624673366546631s\n",
      "Done with epoch 448 in 0.5470173358917236s\n",
      "Done with epoch 449 in 0.5892012119293213s\n",
      "Done with epoch 450 in 0.6718885898590088s\n",
      "Done with epoch 451 in 0.5939123630523682s\n",
      "Done with epoch 452 in 0.5625009536743164s\n",
      "loss:   1.7136672735214233,   acc:  0.46875\n",
      "Done with epoch 453 in 0.5625247955322266s\n",
      "Done with epoch 454 in 0.5468482971191406s\n",
      "Done with epoch 455 in 0.5627853870391846s\n",
      "Done with epoch 456 in 0.531221866607666s\n",
      "Done with epoch 457 in 0.5469949245452881s\n",
      "Done with epoch 458 in 0.5468440055847168s\n",
      "Done with epoch 459 in 0.6563479900360107s\n",
      "loss:   1.4600567817687988,   acc:  0.5625\n",
      "Done with epoch 460 in 0.5938267707824707s\n",
      "Done with epoch 461 in 0.5468738079071045s\n",
      "Done with epoch 462 in 0.562624454498291s\n",
      "Done with epoch 463 in 0.5624949932098389s\n",
      "Done with epoch 464 in 0.578101634979248s\n",
      "Done with epoch 465 in 0.5625290870666504s\n",
      "Done with epoch 466 in 0.5939056873321533s\n",
      "Done with epoch 467 in 0.578242301940918s\n",
      "loss:   1.7360376119613647,   acc:  0.375\n",
      "Done with epoch 468 in 0.5468499660491943s\n",
      "Done with epoch 469 in 0.5625247955322266s\n",
      "Done with epoch 470 in 0.546881914138794s\n",
      "Done with epoch 471 in 0.5470097064971924s\n",
      "Done with epoch 472 in 0.5312807559967041s\n",
      "Done with epoch 473 in 0.5624942779541016s\n",
      "Done with epoch 474 in 0.5626773834228516s\n",
      "loss:   1.8521357774734497,   acc:  0.375\n",
      "Done with epoch 475 in 0.5468440055847168s\n",
      "Done with epoch 476 in 0.5625307559967041s\n",
      "Done with epoch 477 in 0.5780963897705078s\n",
      "Done with epoch 478 in 0.5470023155212402s\n",
      "Done with epoch 479 in 0.578122615814209s\n",
      "Done with epoch 480 in 0.5469999313354492s\n",
      "Done with epoch 481 in 0.546875s\n",
      "loss:   1.3678957223892212,   acc:  0.65625\n",
      "Done with epoch 482 in 0.5626399517059326s\n",
      "Done with epoch 483 in 0.5468828678131104s\n",
      "Done with epoch 484 in 0.5468723773956299s\n",
      "Done with epoch 485 in 0.5626082420349121s\n",
      "Done with epoch 486 in 0.562464714050293s\n",
      "Done with epoch 487 in 0.562502384185791s\n",
      "Done with epoch 488 in 0.5468742847442627s\n",
      "loss:   1.6145615577697754,   acc:  0.53125\n",
      "Done with epoch 489 in 0.5783369541168213s\n",
      "Done with epoch 490 in 0.5312535762786865s\n",
      "Done with epoch 491 in 0.5626113414764404s\n",
      "Done with epoch 492 in 0.546983003616333s\n",
      "Done with epoch 493 in 0.5468416213989258s\n",
      "Done with epoch 494 in 0.5313308238983154s\n",
      "Done with epoch 495 in 0.5625009536743164s\n",
      "loss:   1.5828884840011597,   acc:  0.53125\n",
      "Done with epoch 496 in 0.5625274181365967s\n",
      "Done with epoch 497 in 0.5624732971191406s\n",
      "Done with epoch 498 in 0.5783348083496094s\n",
      "Done with epoch 499 in 0.5468792915344238s\n",
      "Saved model at D:\\Curious\\OMISTL\\models/STL_horizon_25.pt\n",
      "Done training\n"
     ]
    }
   ],
   "source": [
    "# train_horizon_stl(25,spec)"
   ],
   "metadata": {
    "collapsed": false,
    "pycharm": {
     "name": "#%%\n"
    }
   }
  },
  {
   "cell_type": "code",
   "execution_count": 314,
   "outputs": [
    {
     "name": "stdout",
     "output_type": "stream",
     "text": [
      "Loading presaved classifier model from ../../models/RandomMultitarget_horizon_25.pt\n"
     ]
    },
    {
     "data": {
      "text/plain": "FFNet(\n  (activation): ReLU()\n  (layers): ModuleList(\n    (0): Linear(in_features=4, out_features=128, bias=True)\n    (1): Linear(in_features=128, out_features=128, bias=True)\n    (2): Linear(in_features=128, out_features=128, bias=True)\n    (3): Linear(in_features=128, out_features=3271, bias=True)\n  )\n)"
     },
     "execution_count": 314,
     "metadata": {},
     "output_type": "execute_result"
    }
   ],
   "source": [
    "fn_saved = '../../models/{}_horizon_{}.pt'.format(scenario.spec_name,str(N))\n",
    "prob = STL_planner(config=config_fn , spec=spec)\n",
    "stl_obj = OMISTL(system, prob, prob_features)\n",
    "stl_obj.construct_stl_strategies(train_data,4)\n",
    "stl_obj.setup_network()\n",
    "stl_obj.load_network(fn_saved)\n",
    "stl_obj.model"
   ],
   "metadata": {
    "collapsed": false,
    "pycharm": {
     "name": "#%%\n"
    }
   }
  },
  {
   "cell_type": "code",
   "execution_count": 323,
   "outputs": [
    {
     "name": "stdout",
     "output_type": "stream",
     "text": [
      "===============================================================================\n",
      "                                     CVXPY                                     \n",
      "                                    v1.1.20                                    \n",
      "===============================================================================\n",
      "(CVXPY) Oct 23 12:30:51 PM: Your problem has 1301 variables, 1998 constraints, and 4 parameters.\n",
      "(CVXPY) Oct 23 12:30:51 PM: It is compliant with the following grammars: DCP, DQCP\n",
      "(CVXPY) Oct 23 12:30:51 PM: CVXPY will first compile your problem; then, it will invoke a numerical solver to obtain a solution.\n",
      "-------------------------------------------------------------------------------\n",
      "                                  Compilation                                  \n",
      "-------------------------------------------------------------------------------\n",
      "(CVXPY) Oct 23 12:30:51 PM: Compiling problem (target solver=GUROBI).\n",
      "(CVXPY) Oct 23 12:30:51 PM: Reduction chain: CvxAttr2Constr -> Qp2SymbolicQp -> QpMatrixStuffing -> GUROBI\n",
      "(CVXPY) Oct 23 12:30:51 PM: Applying reduction CvxAttr2Constr\n",
      "(CVXPY) Oct 23 12:30:51 PM: Applying reduction Qp2SymbolicQp\n",
      "(CVXPY) Oct 23 12:30:52 PM: Applying reduction QpMatrixStuffing\n",
      "(CVXPY) Oct 23 12:30:54 PM: Applying reduction GUROBI\n",
      "(CVXPY) Oct 23 12:30:54 PM: Finished problem compilation (took 2.253e+00 seconds).\n",
      "(CVXPY) Oct 23 12:30:54 PM: (Subsequent compilations of this problem, using the same arguments, should take less time.)\n",
      "-------------------------------------------------------------------------------\n",
      "                                Numerical solver                               \n",
      "-------------------------------------------------------------------------------\n",
      "(CVXPY) Oct 23 12:30:54 PM: Invoking solver GUROBI  to obtain a solution.\n",
      "Parameter OutputFlag unchanged\n",
      "   Value: 1  Min: 0  Max: 1  Default: 1\n",
      "Changed value of parameter QCPDual to 1\n",
      "   Prev: 0  Min: 0  Max: 1  Default: 0\n",
      "Changed value of parameter Presolve to 1\n",
      "   Prev: -1  Min: -1  Max: 2  Default: -1\n",
      "Changed value of parameter TimeLimit to 60.0\n",
      "   Prev: inf  Min: 0.0  Max: inf  Default: inf\n",
      "Changed value of parameter Threads to 1\n",
      "   Prev: 0  Min: 0  Max: 1024  Default: 0\n",
      "Gurobi Optimizer version 9.1.2 build v9.1.2rc0 (win64)\n",
      "Thread count: 6 physical cores, 12 logical processors, using up to 1 threads\n",
      "Optimize a model with 2546 rows, 1451 columns and 6637 nonzeros\n",
      "Model fingerprint: 0x61bb8b96\n",
      "Model has 100 quadratic objective terms\n",
      "Variable types: 1358 continuous, 93 integer (93 binary)\n",
      "Coefficient statistics:\n",
      "  Matrix range     [1e+00, 2e+02]\n",
      "  Objective range  [1e+00, 1e+00]\n",
      "  QObjective range [2e-04, 2e-04]\n",
      "  Bounds range     [1e+00, 1e+00]\n",
      "  RHS range        [5e-01, 2e+02]\n",
      "Presolve removed 1773 rows and 1037 columns\n",
      "Presolve time: 0.00s\n",
      "Presolved: 773 rows, 414 columns, 3308 nonzeros\n",
      "Presolved model has 96 quadratic objective terms\n",
      "Variable types: 332 continuous, 82 integer (82 binary)\n",
      "\n",
      "Root relaxation: objective 0.000000e+00, 249 iterations, 0.00 seconds\n",
      "\n",
      "    Nodes    |    Current Node    |     Objective Bounds      |     Work\n",
      " Expl Unexpl |  Obj  Depth IntInf | Incumbent    BestBd   Gap | It/Node Time\n",
      "\n",
      "     0     0    0.00000    0    8          -    0.00000      -     -    0s\n",
      "H    0     0                       0.0003014    0.00000   100%     -    0s\n",
      "     0     0    0.00000    0   11    0.00030    0.00000   100%     -    0s\n",
      "     0     0    0.00000    0   12    0.00030    0.00000   100%     -    0s\n",
      "     0     0    0.00000    0   12    0.00030    0.00000   100%     -    0s\n",
      "     0     0    0.00000    0   16    0.00030    0.00000   100%     -    0s\n",
      "     0     0    0.00000    0   16    0.00030    0.00000   100%     -    0s\n",
      "     0     0    0.00000    0   17    0.00030    0.00000   100%     -    0s\n",
      "     0     2    0.00000    0   17    0.00030    0.00000   100%     -    0s\n",
      "*   49    23              18       0.0002848    0.00000   100%  11.2    0s\n",
      "H  138    48                       0.0002719    0.00000   100%  10.6    0s\n",
      "*  149    51              17       0.0002642    0.00000   100%  10.8    0s\n",
      "*  156    51              17       0.0002597    0.00000   100%  10.6    0s\n",
      "*  216    51              17       0.0002597    0.00000   100%  10.3    0s\n",
      "H  219    35                       0.0002465    0.00000   100%  10.3    0s\n",
      "*  277    39              15       0.0002128    0.00000   100%  10.7    0s\n",
      "*  421    63              17       0.0002092    0.00000   100%  10.9    0s\n",
      "H  683    96                       0.0002020    0.00000   100%  11.0    0s\n",
      "H  686    95                       0.0002001    0.00000   100%  11.0    0s\n",
      "H  712    83                       0.0001968    0.00000   100%  11.0    0s\n",
      "H  738    85                       0.0001955    0.00000   100%  11.0    0s\n",
      "H  764    85                       0.0001938    0.00000   100%  11.0    0s\n",
      "H  874    75                       0.0001648    0.00000   100%  11.0    0s\n",
      "H  959    78                       0.0001609    0.00000   100%  10.9    0s\n",
      "H 1040    88                       0.0001587    0.00000   100%  10.9    0s\n",
      "H 1679   116                       0.0001582    0.00000   100%  10.8    1s\n",
      "* 2165    90              18       0.0001535    0.00013  12.1%  10.9    1s\n",
      "\n",
      "Cutting planes:\n",
      "  Cover: 36\n",
      "  Implied bound: 39\n",
      "  MIR: 7\n",
      "  Flow cover: 25\n",
      "  Relax-and-lift: 2\n",
      "\n",
      "Explored 3548 nodes (33823 simplex iterations) in 1.91 seconds\n",
      "Thread count was 1 (of 12 available processors)\n",
      "\n",
      "Solution count 10: 0.000153489 0.000158226 0.000158661 ... 0.000246464\n",
      "\n",
      "Optimal solution found (tolerance 1.00e-04)\n",
      "Best objective 1.534891164415e-04, best bound 1.534891164415e-04, gap 0.0000%\n",
      "-------------------------------------------------------------------------------\n",
      "                                    Summary                                    \n",
      "-------------------------------------------------------------------------------\n",
      "(CVXPY) Oct 23 12:30:55 PM: Problem status: optimal\n",
      "(CVXPY) Oct 23 12:30:55 PM: Optimal value: 1.535e-04\n",
      "(CVXPY) Oct 23 12:30:55 PM: Compilation took 2.253e+00 seconds\n",
      "(CVXPY) Oct 23 12:30:55 PM: Solver (including time spent in interface) took 1.953e+00 seconds\n"
     ]
    }
   ],
   "source": [
    "prob.init_stl_problem()\n",
    "p_dict = {}\n",
    "p_dict['x0'] = [5,0.5,0,0]\n",
    "prob_success, cost, solve_time, sos1 ,vector, optvals_ori =prob.solve_stl(p_dict,solver=cp.GUROBI)"
   ],
   "metadata": {
    "collapsed": false,
    "pycharm": {
     "name": "#%%\n"
    }
   }
  },
  {
   "cell_type": "code",
   "execution_count": 324,
   "outputs": [
    {
     "name": "stdout",
     "output_type": "stream",
     "text": [
      "Original problem has 1998 constraints，1301 variables which contains 93 integer variables\n",
      "Solving original problem with STL tree encoding spends : 1.922027587890625s\n"
     ]
    }
   ],
   "source": [
    "print('Original problem has 1998 constraints，1301 variables which contains 93 integer variables')\n",
    "print('Solving original problem with STL tree encoding spends : ' + str(solve_time)+ 's')"
   ],
   "metadata": {
    "collapsed": false,
    "pycharm": {
     "name": "#%%\n"
    }
   }
  },
  {
   "cell_type": "code",
   "execution_count": 325,
   "outputs": [
    {
     "data": {
      "text/plain": "<Figure size 432x288 with 1 Axes>",
      "image/png": "[encoded data removed]"
     },
     "metadata": {
      "needs_background": "light"
     },
     "output_type": "display_data"
    }
   ],
   "source": [
    "plot.multi_targets_plot(optvals_ori,scenario,p_dict)"
   ],
   "metadata": {
    "collapsed": false,
    "pycharm": {
     "name": "#%%\n"
    }
   }
  },
  {
   "cell_type": "code",
   "execution_count": 326,
   "outputs": [],
   "source": [
    "prob.init_stl_problem(True)\n",
    "prob_success, cost, solve_time, sos1 ,vector, optvals_ori =prob.solve_stl(p_dict,solver=cp.GUROBI,verbose=False)"
   ],
   "metadata": {
    "collapsed": false,
    "pycharm": {
     "name": "#%%\n"
    }
   }
  },
  {
   "cell_type": "code",
   "execution_count": 327,
   "outputs": [
    {
     "name": "stdout",
     "output_type": "stream",
     "text": [
      "original problem has 1506 constraints，1180 variables which contains 250 integer variables\n",
      "solving original problem using standard STL encoding spends : 1.2344112396240234s\n"
     ]
    }
   ],
   "source": [
    "print('original problem has 1506 constraints，1180 variables which contains 250 integer variables')\n",
    "print('solving original problem using standard STL encoding spends : ' + str(solve_time)+ 's')"
   ],
   "metadata": {
    "collapsed": false,
    "pycharm": {
     "name": "#%%\n"
    }
   }
  },
  {
   "cell_type": "code",
   "execution_count": 328,
   "outputs": [
    {
     "name": "stdout",
     "output_type": "stream",
     "text": [
      "prediction is success:True\n"
     ]
    }
   ],
   "source": [
    "prob_success, cost, solve_time, solution, optvals_ML = stl_obj.Predict(p_dict,solver=cp.GUROBI,max_evals=16,verbose=False)"
   ],
   "metadata": {
    "collapsed": false,
    "pycharm": {
     "name": "#%%\n"
    }
   }
  },
  {
   "cell_type": "code",
   "execution_count": 329,
   "outputs": [
    {
     "name": "stdout",
     "output_type": "stream",
     "text": [
      "reduced problem has 342 constraints，227 variables which contains 0 integer variables\n",
      "solving reduced ML problem using STL tree spends : 0.015628814697265625s\n"
     ]
    }
   ],
   "source": [
    "print('reduced problem has 342 constraints，227 variables which contains 0 integer variables')\n",
    "print('solving reduced ML problem using STL tree spends : ' + str(solve_time)+ 's')"
   ],
   "metadata": {
    "collapsed": false,
    "pycharm": {
     "name": "#%%\n"
    }
   }
  },
  {
   "cell_type": "code",
   "execution_count": 330,
   "outputs": [
    {
     "data": {
      "text/plain": "<Figure size 432x288 with 1 Axes>",
      "image/png": "[encoded data removed]"
     },
     "metadata": {
      "needs_background": "light"
     },
     "output_type": "display_data"
    }
   ],
   "source": [
    "plot.multi_targets_plot(optvals_ML,scenario,p_dict)"
   ],
   "metadata": {
    "collapsed": false,
    "pycharm": {
     "name": "#%%\n"
    }
   }
  },
  {
   "cell_type": "markdown",
   "source": [],
   "metadata": {
    "collapsed": false,
    "pycharm": {
     "name": "#%% md\n"
    }
   }
  }
 ],
 "metadata": {
  "kernelspec": {
   "name": "coco",
   "language": "python",
   "display_name": "coco"
  },
  "language_info": {
   "codemirror_mode": {
    "name": "ipython",
    "version": 2
   },
   "file_extension": ".py",
   "mimetype": "text/x-python",
   "name": "python",
   "nbconvert_exporter": "python",
   "pygments_lexer": "ipython2",
   "version": "2.7.6"
  }
 },
 "nbformat": 4,
 "nbformat_minor": 0
}