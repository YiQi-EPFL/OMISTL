{
 "nbformat": 4,
 "nbformat_minor": 0,
 "metadata": {
  "colab": {
   "name": "test_shortestpath.ipynb",
   "provenance": [],
   "authorship_tag": "ABX9TyOtRSeDtZbei9JgzmnCBc02"
  },
  "kernelspec": {
   "name": "python3",
   "display_name": "Python 3"
  },
  "language_info": {
   "name": "python"
  },
  "accelerator": "GPU",
  "gpuClass": "standard"
 },
 "cells": [
  {
   "cell_type": "code",
   "source": [
    "%load_ext autoreload\n",
    "%autoreload 2\n",
    "\n",
    "import matplotlib.pyplot as plt\n",
    "%matplotlib inline\n",
    "\n",
    "import torch\n",
    "from torch.autograd import Variable\n",
    "import numpy as np\n",
    "\n",
    "import cvxpy as cp\n",
    "import MPC_prob\n",
    "from utils import *\n",
    "import pickle, os\n",
    "from MPC_prob import MPC\n",
    "from model_train import train\n",
    "\n",
    "from tqdm import tqdm\n",
    "from para import paraset\n",
    "from sampling import sampling\n",
    "os.environ['KMP_DUPLICATE_LIB_OK'] = 'True'"
   ],
   "metadata": {
    "id": "73M8ow_96uHi",
    "executionInfo": {
     "status": "ok",
     "timestamp": 1658326900014,
     "user_tz": -120,
     "elapsed": 3774,
     "user": {
      "displayName": "Qi Yi",
      "userId": "03240543293609466208"
     }
    }
   },
   "execution_count": 15,
   "outputs": [
    {
     "name": "stdout",
     "output_type": "stream",
     "text": [
      "The autoreload extension is already loaded. To reload it, use:\n",
      "  %reload_ext autoreload\n"
     ]
    }
   ]
  },
  {
   "cell_type": "markdown",
   "source": [
    "## Set prob parameters and save at MPC.config"
   ],
   "metadata": {
    "collapsed": false,
    "pycharm": {
     "name": "#%% md\n"
    }
   }
  },
  {
   "cell_type": "code",
   "source": [
    "N = 8\n",
    "n_obs = 5\n",
    "paraset(N=N,n_obs=n_obs,Qs=1,Rs=0,num_probs=20000,obs_default=True)"
   ],
   "metadata": {
    "id": "mFBWCqc17cSJ",
    "executionInfo": {
     "status": "ok",
     "timestamp": 1658325950392,
     "user_tz": -120,
     "elapsed": 416,
     "user": {
      "displayName": "Qi Yi",
      "userId": "03240543293609466208"
     }
    }
   },
   "execution_count": 66,
   "outputs": []
  },
  {
   "cell_type": "markdown",
   "source": [
    "## Solve MICP problems to get samlpings for training"
   ],
   "metadata": {
    "collapsed": false,
    "pycharm": {
     "name": "#%% md\n"
    }
   }
  },
  {
   "cell_type": "code",
   "execution_count": 18,
   "outputs": [
    {
     "name": "stderr",
     "output_type": "stream",
     "text": [
      "  0%|          | 8/20000 [00:01<41:42,  7.99it/s]  C:\\Users\\msi\\anaconda3\\envs\\coco\\lib\\site-packages\\cvxpy\\problems\\problem.py:1306: UserWarning: \n",
      "    The problem is either infeasible or unbounded, but the solver\n",
      "    cannot tell which. Disable any solver-specific presolve methods\n",
      "    and re-solve to determine the precise problem status.\n",
      "\n",
      "    For GUROBI and CPLEX you can automatically perform this re-solve\n",
      "    with the keyword argument prob.solve(reoptimize=True, ...).\n",
      "    \n",
      "  warnings.warn(INF_OR_UNB_MESSAGE)\n",
      "  0%|          | 51/20000 [00:04<28:44, 11.57it/s]\n"
     ]
    },
    {
     "ename": "KeyboardInterrupt",
     "evalue": "",
     "output_type": "error",
     "traceback": [
      "\u001B[1;31m---------------------------------------------------------------------------\u001B[0m",
      "\u001B[1;31mKeyboardInterrupt\u001B[0m                         Traceback (most recent call last)",
      "\u001B[1;32m<ipython-input-18-9cee47608137>\u001B[0m in \u001B[0;36m<module>\u001B[1;34m\u001B[0m\n\u001B[1;32m----> 1\u001B[1;33m \u001B[0msampling\u001B[0m\u001B[1;33m(\u001B[0m\u001B[0mN\u001B[0m\u001B[1;33m,\u001B[0m\u001B[0mn_obs\u001B[0m\u001B[1;33m)\u001B[0m\u001B[1;33m\u001B[0m\u001B[1;33m\u001B[0m\u001B[0m\n\u001B[0m",
      "\u001B[1;32mD:\\Curious\\OMISTL\\MPC\\sampling.py\u001B[0m in \u001B[0;36msampling\u001B[1;34m(N, n_obs)\u001B[0m\n\u001B[0;32m    107\u001B[0m             \u001B[1;32mtry\u001B[0m\u001B[1;33m:\u001B[0m\u001B[1;33m\u001B[0m\u001B[1;33m\u001B[0m\u001B[0m\n\u001B[0;32m    108\u001B[0m                 \u001B[1;31m# with time_limit(20):\u001B[0m\u001B[1;33m\u001B[0m\u001B[1;33m\u001B[0m\u001B[1;33m\u001B[0m\u001B[0m\n\u001B[1;32m--> 109\u001B[1;33m                 \u001B[0mprob_success\u001B[0m\u001B[1;33m,\u001B[0m \u001B[0mcost\u001B[0m\u001B[1;33m,\u001B[0m \u001B[0msolve_time\u001B[0m\u001B[1;33m,\u001B[0m \u001B[0moptvals\u001B[0m \u001B[1;33m=\u001B[0m \u001B[0mprob\u001B[0m\u001B[1;33m.\u001B[0m\u001B[0msolve_stl\u001B[0m\u001B[1;33m(\u001B[0m\u001B[0mp_dict\u001B[0m\u001B[1;33m,\u001B[0m \u001B[0msolver\u001B[0m\u001B[1;33m=\u001B[0m\u001B[0mcp\u001B[0m\u001B[1;33m.\u001B[0m\u001B[0mGUROBI\u001B[0m\u001B[1;33m)\u001B[0m\u001B[1;33m\u001B[0m\u001B[1;33m\u001B[0m\u001B[0m\n\u001B[0m\u001B[0;32m    110\u001B[0m             \u001B[1;32mexcept\u001B[0m \u001B[1;33m(\u001B[0m\u001B[0mKeyboardInterrupt\u001B[0m\u001B[1;33m,\u001B[0m \u001B[0mSystemExit\u001B[0m\u001B[1;33m)\u001B[0m\u001B[1;33m:\u001B[0m\u001B[1;33m\u001B[0m\u001B[1;33m\u001B[0m\u001B[0m\n\u001B[0;32m    111\u001B[0m                 \u001B[1;32mraise\u001B[0m\u001B[1;33m\u001B[0m\u001B[1;33m\u001B[0m\u001B[0m\n",
      "\u001B[1;32mD:\\Curious\\OMISTL\\MPC\\MPC_prob.py\u001B[0m in \u001B[0;36msolve_stl\u001B[1;34m(self, params, solver, msk_param_dict, verbose)\u001B[0m\n\u001B[0;32m    319\u001B[0m             \u001B[1;32mwith\u001B[0m \u001B[0mopen\u001B[0m\u001B[1;33m(\u001B[0m\u001B[1;34m'../solver_config/gurobi.yaml'\u001B[0m\u001B[1;33m)\u001B[0m \u001B[1;32mas\u001B[0m \u001B[0mfile\u001B[0m\u001B[1;33m:\u001B[0m\u001B[1;33m\u001B[0m\u001B[1;33m\u001B[0m\u001B[0m\n\u001B[0;32m    320\u001B[0m                 \u001B[0mgrb_param_dict\u001B[0m \u001B[1;33m=\u001B[0m \u001B[0myaml\u001B[0m\u001B[1;33m.\u001B[0m\u001B[0mload\u001B[0m\u001B[1;33m(\u001B[0m\u001B[0mfile\u001B[0m\u001B[1;33m,\u001B[0m \u001B[0mLoader\u001B[0m\u001B[1;33m=\u001B[0m\u001B[0myaml\u001B[0m\u001B[1;33m.\u001B[0m\u001B[0mFullLoader\u001B[0m\u001B[1;33m)\u001B[0m\u001B[1;33m\u001B[0m\u001B[1;33m\u001B[0m\u001B[0m\n\u001B[1;32m--> 321\u001B[1;33m                 \u001B[0mself\u001B[0m\u001B[1;33m.\u001B[0m\u001B[0mstl_prob\u001B[0m\u001B[1;33m.\u001B[0m\u001B[0msolve\u001B[0m\u001B[1;33m(\u001B[0m\u001B[0msolver\u001B[0m\u001B[1;33m=\u001B[0m\u001B[0msolver\u001B[0m\u001B[1;33m,\u001B[0m \u001B[1;33m**\u001B[0m\u001B[0mgrb_param_dict\u001B[0m\u001B[1;33m,\u001B[0m \u001B[0mverbose\u001B[0m\u001B[1;33m=\u001B[0m\u001B[0mverbose\u001B[0m\u001B[1;33m)\u001B[0m\u001B[1;33m\u001B[0m\u001B[1;33m\u001B[0m\u001B[0m\n\u001B[0m\u001B[0;32m    322\u001B[0m \u001B[1;33m\u001B[0m\u001B[0m\n\u001B[0;32m    323\u001B[0m         \u001B[1;31m# solve_time = self.bin_prob.solver_stats.solve_time\u001B[0m\u001B[1;33m\u001B[0m\u001B[1;33m\u001B[0m\u001B[1;33m\u001B[0m\u001B[0m\n",
      "\u001B[1;32m~\\anaconda3\\envs\\coco\\lib\\site-packages\\cvxpy\\problems\\problem.py\u001B[0m in \u001B[0;36msolve\u001B[1;34m(self, *args, **kwargs)\u001B[0m\n\u001B[0;32m    471\u001B[0m         \u001B[1;32melse\u001B[0m\u001B[1;33m:\u001B[0m\u001B[1;33m\u001B[0m\u001B[1;33m\u001B[0m\u001B[0m\n\u001B[0;32m    472\u001B[0m             \u001B[0msolve_func\u001B[0m \u001B[1;33m=\u001B[0m \u001B[0mProblem\u001B[0m\u001B[1;33m.\u001B[0m\u001B[0m_solve\u001B[0m\u001B[1;33m\u001B[0m\u001B[1;33m\u001B[0m\u001B[0m\n\u001B[1;32m--> 473\u001B[1;33m         \u001B[1;32mreturn\u001B[0m \u001B[0msolve_func\u001B[0m\u001B[1;33m(\u001B[0m\u001B[0mself\u001B[0m\u001B[1;33m,\u001B[0m \u001B[1;33m*\u001B[0m\u001B[0margs\u001B[0m\u001B[1;33m,\u001B[0m \u001B[1;33m**\u001B[0m\u001B[0mkwargs\u001B[0m\u001B[1;33m)\u001B[0m\u001B[1;33m\u001B[0m\u001B[1;33m\u001B[0m\u001B[0m\n\u001B[0m\u001B[0;32m    474\u001B[0m \u001B[1;33m\u001B[0m\u001B[0m\n\u001B[0;32m    475\u001B[0m     \u001B[1;33m@\u001B[0m\u001B[0mclassmethod\u001B[0m\u001B[1;33m\u001B[0m\u001B[1;33m\u001B[0m\u001B[0m\n",
      "\u001B[1;32m~\\anaconda3\\envs\\coco\\lib\\site-packages\\cvxpy\\problems\\problem.py\u001B[0m in \u001B[0;36m_solve\u001B[1;34m(self, solver, warm_start, verbose, gp, qcp, requires_grad, enforce_dpp, **kwargs)\u001B[0m\n\u001B[0;32m    978\u001B[0m         \u001B[0mstart\u001B[0m \u001B[1;33m=\u001B[0m \u001B[0mtime\u001B[0m\u001B[1;33m.\u001B[0m\u001B[0mtime\u001B[0m\u001B[1;33m(\u001B[0m\u001B[1;33m)\u001B[0m\u001B[1;33m\u001B[0m\u001B[1;33m\u001B[0m\u001B[0m\n\u001B[0;32m    979\u001B[0m         solution = solving_chain.solve_via_data(\n\u001B[1;32m--> 980\u001B[1;33m             self, data, warm_start, verbose, kwargs)\n\u001B[0m\u001B[0;32m    981\u001B[0m         \u001B[0mend\u001B[0m \u001B[1;33m=\u001B[0m \u001B[0mtime\u001B[0m\u001B[1;33m.\u001B[0m\u001B[0mtime\u001B[0m\u001B[1;33m(\u001B[0m\u001B[1;33m)\u001B[0m\u001B[1;33m\u001B[0m\u001B[1;33m\u001B[0m\u001B[0m\n\u001B[0;32m    982\u001B[0m         \u001B[0mself\u001B[0m\u001B[1;33m.\u001B[0m\u001B[0m_solve_time\u001B[0m \u001B[1;33m=\u001B[0m \u001B[0mend\u001B[0m \u001B[1;33m-\u001B[0m \u001B[0mstart\u001B[0m\u001B[1;33m\u001B[0m\u001B[1;33m\u001B[0m\u001B[0m\n",
      "\u001B[1;32m~\\anaconda3\\envs\\coco\\lib\\site-packages\\cvxpy\\reductions\\solvers\\solving_chain.py\u001B[0m in \u001B[0;36msolve_via_data\u001B[1;34m(self, problem, data, warm_start, verbose, solver_opts)\u001B[0m\n\u001B[0;32m    342\u001B[0m         \"\"\"\n\u001B[0;32m    343\u001B[0m         return self.solver.solve_via_data(data, warm_start, verbose,\n\u001B[1;32m--> 344\u001B[1;33m                                           solver_opts, problem._solver_cache)\n\u001B[0m",
      "\u001B[1;32m~\\anaconda3\\envs\\coco\\lib\\site-packages\\cvxpy\\reductions\\solvers\\conic_solvers\\gurobi_conif.py\u001B[0m in \u001B[0;36msolve_via_data\u001B[1;34m(self, data, warm_start, verbose, solver_opts, solver_cache)\u001B[0m\n\u001B[0;32m    221\u001B[0m         \u001B[0msolution\u001B[0m \u001B[1;33m=\u001B[0m \u001B[1;33m{\u001B[0m\u001B[1;33m}\u001B[0m\u001B[1;33m\u001B[0m\u001B[1;33m\u001B[0m\u001B[0m\n\u001B[0;32m    222\u001B[0m         \u001B[1;32mtry\u001B[0m\u001B[1;33m:\u001B[0m\u001B[1;33m\u001B[0m\u001B[1;33m\u001B[0m\u001B[0m\n\u001B[1;32m--> 223\u001B[1;33m             \u001B[0mmodel\u001B[0m\u001B[1;33m.\u001B[0m\u001B[0moptimize\u001B[0m\u001B[1;33m(\u001B[0m\u001B[1;33m)\u001B[0m\u001B[1;33m\u001B[0m\u001B[1;33m\u001B[0m\u001B[0m\n\u001B[0m\u001B[0;32m    224\u001B[0m             \u001B[1;32mif\u001B[0m \u001B[0mmodel\u001B[0m\u001B[1;33m.\u001B[0m\u001B[0mStatus\u001B[0m \u001B[1;33m==\u001B[0m \u001B[1;36m4\u001B[0m \u001B[1;32mand\u001B[0m \u001B[0msolver_opts\u001B[0m\u001B[1;33m.\u001B[0m\u001B[0mget\u001B[0m\u001B[1;33m(\u001B[0m\u001B[1;34m'reoptimize'\u001B[0m\u001B[1;33m,\u001B[0m \u001B[1;32mFalse\u001B[0m\u001B[1;33m)\u001B[0m\u001B[1;33m:\u001B[0m\u001B[1;33m\u001B[0m\u001B[1;33m\u001B[0m\u001B[0m\n\u001B[0;32m    225\u001B[0m                 \u001B[1;31m# INF_OR_UNBD. Solve again to get a definitive answer.\u001B[0m\u001B[1;33m\u001B[0m\u001B[1;33m\u001B[0m\u001B[1;33m\u001B[0m\u001B[0m\n",
      "\u001B[1;31mKeyboardInterrupt\u001B[0m: "
     ]
    }
   ],
   "source": [
    "sampling(N,n_obs)"
   ],
   "metadata": {
    "collapsed": false,
    "pycharm": {
     "name": "#%%\n"
    }
   }
  },
  {
   "cell_type": "markdown",
   "source": [
    "## Load train/test data"
   ],
   "metadata": {
    "collapsed": false,
    "pycharm": {
     "name": "#%% md\n"
    }
   }
  },
  {
   "cell_type": "markdown",
   "source": [
    "### Test problem parameters"
   ],
   "metadata": {
    "collapsed": false,
    "pycharm": {
     "name": "#%% md\n"
    }
   }
  },
  {
   "cell_type": "code",
   "execution_count": 51,
   "outputs": [
    {
     "name": "stdout",
     "output_type": "stream",
     "text": [
      "Ava solve time: 0.14374866485595703\n"
     ]
    }
   ],
   "source": [
    "## test 10 problems\n",
    "n_prob = 10\n",
    "\n",
    "dataset_name = 'MPC_horizon_{}_obs_{}'.format(N,n_obs)\n",
    "relative_path = os.getcwd()\n",
    "config_fn = os.path.join(relative_path, 'config', dataset_name+'.p')\n",
    "config_file = open(config_fn,'rb')\n",
    "config=pickle.load(config_file)\n",
    "\n",
    "prob = MPC(config=config_fn)\n",
    "\n",
    "## set initial position and final position\n",
    "# x0 = [3.5,1.75,0,0]\n",
    "# xg = [2,2.5,0,0]\n",
    "\n",
    "dataset_name, prob_params, sampled_params, n_obs, num_probs, border_size, box_buffer, min_box_size, max_box_size, posmin, posmax, velmin, velmax, n, m,obs_fix, xg_fix, obstacles = config\n",
    "\n",
    "solvetime = 0\n",
    "for i in range(n_prob):\n",
    "    x0 = findIC(obstacles,posmin,posmax,velmin,velmax)\n",
    "    xg = findIC(obstacles,posmin,posmax,velmin,velmax)\n",
    "\n",
    "    prob_params = {}\n",
    "    prob_params['obstacles'] =  np.reshape(np.concatenate(obstacles, axis=0), (n_obs,4)).T\n",
    "    prob_params['x0'] = x0\n",
    "    prob_params['xg'] = xg\n",
    "    prob = MPC(config=config_fn)\n",
    "\n",
    "    _, _, solvetime_g, optvals_g = prob.solve_stl(prob_params, solver=cp.GUROBI,verbose=False)\n",
    "    solvetime += solvetime_g\n",
    "print('Ava solve time: '+str(solvetime/n_prob))"
   ],
   "metadata": {
    "collapsed": false,
    "pycharm": {
     "name": "#%%\n"
    }
   }
  },
  {
   "cell_type": "code",
   "execution_count": 67,
   "outputs": [],
   "source": [
    "#load train/test data\n",
    "dataset_name = 'MPC_horizon_{}_obs_{}'.format(N,n_obs)\n",
    "\n",
    "#加载设置文件地址，config = [dataset_name, prob_params, sampled_params]#\n",
    "relative_path = os.getcwd()\n",
    "config_fn = os.path.join(relative_path, 'config', dataset_name+'.p')\n",
    "\n",
    "config_file = open(config_fn,'rb')\n",
    "config=pickle.load(config_file)\n",
    "\n",
    "dataset_name =  config[0]\n",
    "prob_params = config[1]\n",
    "sampled_params = config[2]\n",
    "config_file.close()"
   ],
   "metadata": {
    "collapsed": false,
    "pycharm": {
     "name": "#%%\n"
    }
   }
  },
  {
   "cell_type": "markdown",
   "source": [
    "### Load training&testing data"
   ],
   "metadata": {
    "collapsed": false,
    "pycharm": {
     "name": "#%% md\n"
    }
   }
  },
  {
   "cell_type": "code",
   "source": [
    "relative_path = os.getcwd()\n",
    "dataset_name = 'MPC_horizon_{}_obs_{}'.format(N,n_obs)\n",
    "dataset_fn = relative_path + '/data/' + dataset_name\n",
    "\n",
    "##load train data\n",
    "train_file = open(dataset_fn + '/train_horizon_{}.p'.format(N), 'rb')\n",
    "# train_file = open(dataset_fn+'/train.p','rb')\n",
    "train_data = pickle.load(train_file)\n",
    "p_train, x_train, u_train, y_train, z_train, cost_train, times_train = train_data\n",
    "train_file.close()\n",
    "\n",
    "##load test data\n",
    "test_file = open(dataset_fn + '/test_horizon_{}.p'.format(N), 'rb')\n",
    "# test_file = open(dataset_fn+'/test.p','rb')\n",
    "# p_test, x_test, u_test, y_test, c_test, times_test = pickle.load(test_file)\n",
    "test_data = pickle.load(test_file)\n",
    "p_test, x_test, u_test, y_test, z_test, cost_test, times_test = test_data\n",
    "test_file.close()"
   ],
   "metadata": {
    "collapsed": false,
    "pycharm": {
     "name": "#%%\n"
    }
   },
   "execution_count": 68,
   "outputs": []
  },
  {
   "cell_type": "markdown",
   "source": [
    "### Load netwrok"
   ],
   "metadata": {
    "collapsed": false,
    "pycharm": {
     "name": "#%% md\n"
    }
   }
  },
  {
   "cell_type": "code",
   "execution_count": 69,
   "outputs": [
    {
     "name": "stdout",
     "output_type": "stream",
     "text": [
      "Find number of strategires: 707\n",
      "Loading presaved classifier model from ..\\models/MPC_horizon_8_obs_5.pt\n"
     ]
    },
    {
     "data": {
      "text/plain": "True"
     },
     "execution_count": 69,
     "metadata": {},
     "output_type": "execute_result"
    }
   ],
   "source": [
    "from solvers.OMISTL import OMISTL\n",
    "\n",
    "system = 'MPC'\n",
    "prob_features = ['x0','xg','obstacles']\n",
    "# prob_features = ['x0','xg','obstacles_map']\n",
    "relative_path = os.getcwd()\n",
    "config_fn = os.path.join(relative_path, 'config', dataset_name+'.p')\n",
    "config_file = open(config_fn,'rb')\n",
    "config=pickle.load(config_file)\n",
    "prob = MPC(config=config_fn)\n",
    "\n",
    "MPC_obj = OMISTL(system, prob, prob_features)\n",
    "\n",
    "n_features = 2*prob.n*(len(prob_features)-1)+n_obs*4+n_obs\n",
    "MPC_obj.construct_strategies(n_features, train_data)\n",
    "print('Find number of strategires: '+ str(MPC_obj.n_strategies))\n",
    "\n",
    "MPC_obj.setup_network()\n",
    "fn_saved = '..\\models/MPC_horizon_{}_obs_{}.pt'.format(N,n_obs)\n",
    "MPC_obj.load_network(fn_saved)"
   ],
   "metadata": {
    "collapsed": false,
    "pycharm": {
     "name": "#%%\n"
    }
   }
  },
  {
   "cell_type": "markdown",
   "source": [
    "## Train model"
   ],
   "metadata": {
    "collapsed": false
   }
  },
  {
   "cell_type": "code",
   "execution_count": 25,
   "outputs": [
    {
     "name": "stdout",
     "output_type": "stream",
     "text": [
      "loss:   0.22991608083248138,   acc:  0.9375\n",
      "loss:   0.4046410322189331,   acc:  0.84375\n",
      "Done with epoch 0 in 12.489405632019043s\n",
      "loss:   0.35257357358932495,   acc:  0.84375\n"
     ]
    },
    {
     "ename": "KeyboardInterrupt",
     "evalue": "",
     "output_type": "error",
     "traceback": [
      "\u001B[1;31m---------------------------------------------------------------------------\u001B[0m",
      "\u001B[1;31mKeyboardInterrupt\u001B[0m                         Traceback (most recent call last)",
      "\u001B[1;32m<ipython-input-25-c20e3be8ed5f>\u001B[0m in \u001B[0;36m<module>\u001B[1;34m\u001B[0m\n\u001B[0;32m      1\u001B[0m \u001B[0mMPC_obj\u001B[0m\u001B[1;33m.\u001B[0m\u001B[0mtraining_params\u001B[0m\u001B[1;33m[\u001B[0m\u001B[1;34m'TRAINING_ITERATIONS'\u001B[0m\u001B[1;33m]\u001B[0m \u001B[1;33m=\u001B[0m \u001B[1;36m500\u001B[0m\u001B[1;33m\u001B[0m\u001B[1;33m\u001B[0m\u001B[0m\n\u001B[1;32m----> 2\u001B[1;33m \u001B[0mMPC_obj\u001B[0m\u001B[1;33m.\u001B[0m\u001B[0mtrain\u001B[0m\u001B[1;33m(\u001B[0m\u001B[0mtrain_data\u001B[0m\u001B[1;33m=\u001B[0m\u001B[0mtrain_data\u001B[0m\u001B[1;33m,\u001B[0m \u001B[0mverbose\u001B[0m\u001B[1;33m=\u001B[0m\u001B[1;32mTrue\u001B[0m\u001B[1;33m)\u001B[0m\u001B[1;33m\u001B[0m\u001B[1;33m\u001B[0m\u001B[0m\n\u001B[0m\u001B[0;32m      3\u001B[0m \u001B[0mMPC_obj\u001B[0m\u001B[1;33m.\u001B[0m\u001B[0mmodel\u001B[0m\u001B[1;33m\u001B[0m\u001B[1;33m\u001B[0m\u001B[0m\n",
      "\u001B[1;32mD:\\Curious\\OMISTL\\solvers\\OMISTL.py\u001B[0m in \u001B[0;36mtrain\u001B[1;34m(self, train_data, verbose)\u001B[0m\n\u001B[0;32m    349\u001B[0m                     \u001B[0moutputs\u001B[0m \u001B[1;33m=\u001B[0m \u001B[0mmodel\u001B[0m\u001B[1;33m(\u001B[0m\u001B[0mcnn_inputs\u001B[0m\u001B[1;33m,\u001B[0m \u001B[0mff_inputs\u001B[0m\u001B[1;33m)\u001B[0m\u001B[1;33m\u001B[0m\u001B[1;33m\u001B[0m\u001B[0m\n\u001B[0;32m    350\u001B[0m                 \u001B[1;32melse\u001B[0m\u001B[1;33m:\u001B[0m\u001B[1;33m\u001B[0m\u001B[1;33m\u001B[0m\u001B[0m\n\u001B[1;32m--> 351\u001B[1;33m                     \u001B[0moutputs\u001B[0m \u001B[1;33m=\u001B[0m \u001B[0mmodel\u001B[0m\u001B[1;33m(\u001B[0m\u001B[0mff_inputs\u001B[0m\u001B[1;33m)\u001B[0m \u001B[1;31m#input是tensor[xg,obs,onehot],output是长度为n_strategy的预测张量#\u001B[0m\u001B[1;33m\u001B[0m\u001B[1;33m\u001B[0m\u001B[0m\n\u001B[0m\u001B[0;32m    352\u001B[0m \u001B[1;33m\u001B[0m\u001B[0m\n\u001B[0;32m    353\u001B[0m                 \u001B[0mloss\u001B[0m \u001B[1;33m=\u001B[0m \u001B[0mtraining_loss\u001B[0m\u001B[1;33m(\u001B[0m\u001B[0moutputs\u001B[0m\u001B[1;33m,\u001B[0m \u001B[0mlabels\u001B[0m\u001B[1;33m)\u001B[0m\u001B[1;33m.\u001B[0m\u001B[0mfloat\u001B[0m\u001B[1;33m(\u001B[0m\u001B[1;33m)\u001B[0m\u001B[1;33m.\u001B[0m\u001B[0mto\u001B[0m\u001B[1;33m(\u001B[0m\u001B[0mdevice\u001B[0m\u001B[1;33m=\u001B[0m\u001B[0mself\u001B[0m\u001B[1;33m.\u001B[0m\u001B[0mdevice\u001B[0m\u001B[1;33m)\u001B[0m\u001B[1;33m\u001B[0m\u001B[1;33m\u001B[0m\u001B[0m\n",
      "\u001B[1;32m~\\anaconda3\\envs\\coco\\lib\\site-packages\\torch\\nn\\modules\\module.py\u001B[0m in \u001B[0;36m__call__\u001B[1;34m(self, *input, **kwargs)\u001B[0m\n\u001B[0;32m    548\u001B[0m             \u001B[0mresult\u001B[0m \u001B[1;33m=\u001B[0m \u001B[0mself\u001B[0m\u001B[1;33m.\u001B[0m\u001B[0m_slow_forward\u001B[0m\u001B[1;33m(\u001B[0m\u001B[1;33m*\u001B[0m\u001B[0minput\u001B[0m\u001B[1;33m,\u001B[0m \u001B[1;33m**\u001B[0m\u001B[0mkwargs\u001B[0m\u001B[1;33m)\u001B[0m\u001B[1;33m\u001B[0m\u001B[1;33m\u001B[0m\u001B[0m\n\u001B[0;32m    549\u001B[0m         \u001B[1;32melse\u001B[0m\u001B[1;33m:\u001B[0m\u001B[1;33m\u001B[0m\u001B[1;33m\u001B[0m\u001B[0m\n\u001B[1;32m--> 550\u001B[1;33m             \u001B[0mresult\u001B[0m \u001B[1;33m=\u001B[0m \u001B[0mself\u001B[0m\u001B[1;33m.\u001B[0m\u001B[0mforward\u001B[0m\u001B[1;33m(\u001B[0m\u001B[1;33m*\u001B[0m\u001B[0minput\u001B[0m\u001B[1;33m,\u001B[0m \u001B[1;33m**\u001B[0m\u001B[0mkwargs\u001B[0m\u001B[1;33m)\u001B[0m\u001B[1;33m\u001B[0m\u001B[1;33m\u001B[0m\u001B[0m\n\u001B[0m\u001B[0;32m    551\u001B[0m         \u001B[1;32mfor\u001B[0m \u001B[0mhook\u001B[0m \u001B[1;32min\u001B[0m \u001B[0mself\u001B[0m\u001B[1;33m.\u001B[0m\u001B[0m_forward_hooks\u001B[0m\u001B[1;33m.\u001B[0m\u001B[0mvalues\u001B[0m\u001B[1;33m(\u001B[0m\u001B[1;33m)\u001B[0m\u001B[1;33m:\u001B[0m\u001B[1;33m\u001B[0m\u001B[1;33m\u001B[0m\u001B[0m\n\u001B[0;32m    552\u001B[0m             \u001B[0mhook_result\u001B[0m \u001B[1;33m=\u001B[0m \u001B[0mhook\u001B[0m\u001B[1;33m(\u001B[0m\u001B[0mself\u001B[0m\u001B[1;33m,\u001B[0m \u001B[0minput\u001B[0m\u001B[1;33m,\u001B[0m \u001B[0mresult\u001B[0m\u001B[1;33m)\u001B[0m\u001B[1;33m\u001B[0m\u001B[1;33m\u001B[0m\u001B[0m\n",
      "\u001B[1;32mD:\\Curious\\OMISTL\\pytorch\\models.py\u001B[0m in \u001B[0;36mforward\u001B[1;34m(self, x)\u001B[0m\n\u001B[0;32m     33\u001B[0m               \u001B[0mx\u001B[0m \u001B[1;33m=\u001B[0m \u001B[0mself\u001B[0m\u001B[1;33m.\u001B[0m\u001B[0mactivation\u001B[0m\u001B[1;33m(\u001B[0m\u001B[0mx\u001B[0m\u001B[1;33m)\u001B[0m\u001B[1;33m\u001B[0m\u001B[1;33m\u001B[0m\u001B[0m\n\u001B[0;32m     34\u001B[0m \u001B[1;33m\u001B[0m\u001B[0m\n\u001B[1;32m---> 35\u001B[1;33m         \u001B[1;32mreturn\u001B[0m \u001B[0mself\u001B[0m\u001B[1;33m.\u001B[0m\u001B[0mlayers\u001B[0m\u001B[1;33m[\u001B[0m\u001B[1;33m-\u001B[0m\u001B[1;36m1\u001B[0m\u001B[1;33m]\u001B[0m\u001B[1;33m(\u001B[0m\u001B[0mx\u001B[0m\u001B[1;33m)\u001B[0m\u001B[1;33m\u001B[0m\u001B[1;33m\u001B[0m\u001B[0m\n\u001B[0m\u001B[0;32m     36\u001B[0m \u001B[1;33m\u001B[0m\u001B[0m\n\u001B[0;32m     37\u001B[0m \u001B[1;32mclass\u001B[0m \u001B[0mCNNet\u001B[0m\u001B[1;33m(\u001B[0m\u001B[0mtorch\u001B[0m\u001B[1;33m.\u001B[0m\u001B[0mnn\u001B[0m\u001B[1;33m.\u001B[0m\u001B[0mModule\u001B[0m\u001B[1;33m)\u001B[0m\u001B[1;33m:\u001B[0m\u001B[1;33m\u001B[0m\u001B[1;33m\u001B[0m\u001B[0m\n",
      "\u001B[1;32m~\\anaconda3\\envs\\coco\\lib\\site-packages\\torch\\nn\\modules\\module.py\u001B[0m in \u001B[0;36m__call__\u001B[1;34m(self, *input, **kwargs)\u001B[0m\n\u001B[0;32m    548\u001B[0m             \u001B[0mresult\u001B[0m \u001B[1;33m=\u001B[0m \u001B[0mself\u001B[0m\u001B[1;33m.\u001B[0m\u001B[0m_slow_forward\u001B[0m\u001B[1;33m(\u001B[0m\u001B[1;33m*\u001B[0m\u001B[0minput\u001B[0m\u001B[1;33m,\u001B[0m \u001B[1;33m**\u001B[0m\u001B[0mkwargs\u001B[0m\u001B[1;33m)\u001B[0m\u001B[1;33m\u001B[0m\u001B[1;33m\u001B[0m\u001B[0m\n\u001B[0;32m    549\u001B[0m         \u001B[1;32melse\u001B[0m\u001B[1;33m:\u001B[0m\u001B[1;33m\u001B[0m\u001B[1;33m\u001B[0m\u001B[0m\n\u001B[1;32m--> 550\u001B[1;33m             \u001B[0mresult\u001B[0m \u001B[1;33m=\u001B[0m \u001B[0mself\u001B[0m\u001B[1;33m.\u001B[0m\u001B[0mforward\u001B[0m\u001B[1;33m(\u001B[0m\u001B[1;33m*\u001B[0m\u001B[0minput\u001B[0m\u001B[1;33m,\u001B[0m \u001B[1;33m**\u001B[0m\u001B[0mkwargs\u001B[0m\u001B[1;33m)\u001B[0m\u001B[1;33m\u001B[0m\u001B[1;33m\u001B[0m\u001B[0m\n\u001B[0m\u001B[0;32m    551\u001B[0m         \u001B[1;32mfor\u001B[0m \u001B[0mhook\u001B[0m \u001B[1;32min\u001B[0m \u001B[0mself\u001B[0m\u001B[1;33m.\u001B[0m\u001B[0m_forward_hooks\u001B[0m\u001B[1;33m.\u001B[0m\u001B[0mvalues\u001B[0m\u001B[1;33m(\u001B[0m\u001B[1;33m)\u001B[0m\u001B[1;33m:\u001B[0m\u001B[1;33m\u001B[0m\u001B[1;33m\u001B[0m\u001B[0m\n\u001B[0;32m    552\u001B[0m             \u001B[0mhook_result\u001B[0m \u001B[1;33m=\u001B[0m \u001B[0mhook\u001B[0m\u001B[1;33m(\u001B[0m\u001B[0mself\u001B[0m\u001B[1;33m,\u001B[0m \u001B[0minput\u001B[0m\u001B[1;33m,\u001B[0m \u001B[0mresult\u001B[0m\u001B[1;33m)\u001B[0m\u001B[1;33m\u001B[0m\u001B[1;33m\u001B[0m\u001B[0m\n",
      "\u001B[1;32m~\\anaconda3\\envs\\coco\\lib\\site-packages\\torch\\nn\\modules\\linear.py\u001B[0m in \u001B[0;36mforward\u001B[1;34m(self, input)\u001B[0m\n\u001B[0;32m     85\u001B[0m \u001B[1;33m\u001B[0m\u001B[0m\n\u001B[0;32m     86\u001B[0m     \u001B[1;32mdef\u001B[0m \u001B[0mforward\u001B[0m\u001B[1;33m(\u001B[0m\u001B[0mself\u001B[0m\u001B[1;33m,\u001B[0m \u001B[0minput\u001B[0m\u001B[1;33m)\u001B[0m\u001B[1;33m:\u001B[0m\u001B[1;33m\u001B[0m\u001B[1;33m\u001B[0m\u001B[0m\n\u001B[1;32m---> 87\u001B[1;33m         \u001B[1;32mreturn\u001B[0m \u001B[0mF\u001B[0m\u001B[1;33m.\u001B[0m\u001B[0mlinear\u001B[0m\u001B[1;33m(\u001B[0m\u001B[0minput\u001B[0m\u001B[1;33m,\u001B[0m \u001B[0mself\u001B[0m\u001B[1;33m.\u001B[0m\u001B[0mweight\u001B[0m\u001B[1;33m,\u001B[0m \u001B[0mself\u001B[0m\u001B[1;33m.\u001B[0m\u001B[0mbias\u001B[0m\u001B[1;33m)\u001B[0m\u001B[1;33m\u001B[0m\u001B[1;33m\u001B[0m\u001B[0m\n\u001B[0m\u001B[0;32m     88\u001B[0m \u001B[1;33m\u001B[0m\u001B[0m\n\u001B[0;32m     89\u001B[0m     \u001B[1;32mdef\u001B[0m \u001B[0mextra_repr\u001B[0m\u001B[1;33m(\u001B[0m\u001B[0mself\u001B[0m\u001B[1;33m)\u001B[0m\u001B[1;33m:\u001B[0m\u001B[1;33m\u001B[0m\u001B[1;33m\u001B[0m\u001B[0m\n",
      "\u001B[1;32m~\\anaconda3\\envs\\coco\\lib\\site-packages\\torch\\nn\\functional.py\u001B[0m in \u001B[0;36mlinear\u001B[1;34m(input, weight, bias)\u001B[0m\n\u001B[0;32m   1608\u001B[0m     \u001B[1;32mif\u001B[0m \u001B[0minput\u001B[0m\u001B[1;33m.\u001B[0m\u001B[0mdim\u001B[0m\u001B[1;33m(\u001B[0m\u001B[1;33m)\u001B[0m \u001B[1;33m==\u001B[0m \u001B[1;36m2\u001B[0m \u001B[1;32mand\u001B[0m \u001B[0mbias\u001B[0m \u001B[1;32mis\u001B[0m \u001B[1;32mnot\u001B[0m \u001B[1;32mNone\u001B[0m\u001B[1;33m:\u001B[0m\u001B[1;33m\u001B[0m\u001B[1;33m\u001B[0m\u001B[0m\n\u001B[0;32m   1609\u001B[0m         \u001B[1;31m# fused op is marginally faster\u001B[0m\u001B[1;33m\u001B[0m\u001B[1;33m\u001B[0m\u001B[1;33m\u001B[0m\u001B[0m\n\u001B[1;32m-> 1610\u001B[1;33m         \u001B[0mret\u001B[0m \u001B[1;33m=\u001B[0m \u001B[0mtorch\u001B[0m\u001B[1;33m.\u001B[0m\u001B[0maddmm\u001B[0m\u001B[1;33m(\u001B[0m\u001B[0mbias\u001B[0m\u001B[1;33m,\u001B[0m \u001B[0minput\u001B[0m\u001B[1;33m,\u001B[0m \u001B[0mweight\u001B[0m\u001B[1;33m.\u001B[0m\u001B[0mt\u001B[0m\u001B[1;33m(\u001B[0m\u001B[1;33m)\u001B[0m\u001B[1;33m)\u001B[0m\u001B[1;33m\u001B[0m\u001B[1;33m\u001B[0m\u001B[0m\n\u001B[0m\u001B[0;32m   1611\u001B[0m     \u001B[1;32melse\u001B[0m\u001B[1;33m:\u001B[0m\u001B[1;33m\u001B[0m\u001B[1;33m\u001B[0m\u001B[0m\n\u001B[0;32m   1612\u001B[0m         \u001B[0moutput\u001B[0m \u001B[1;33m=\u001B[0m \u001B[0minput\u001B[0m\u001B[1;33m.\u001B[0m\u001B[0mmatmul\u001B[0m\u001B[1;33m(\u001B[0m\u001B[0mweight\u001B[0m\u001B[1;33m.\u001B[0m\u001B[0mt\u001B[0m\u001B[1;33m(\u001B[0m\u001B[1;33m)\u001B[0m\u001B[1;33m)\u001B[0m\u001B[1;33m\u001B[0m\u001B[1;33m\u001B[0m\u001B[0m\n",
      "\u001B[1;31mKeyboardInterrupt\u001B[0m: "
     ]
    }
   ],
   "source": [
    "MPC_obj.training_params['TRAINING_ITERATIONS'] = 500\n",
    "MPC_obj.train(train_data=train_data, verbose=True)\n",
    "MPC_obj.model"
   ],
   "metadata": {
    "collapsed": false,
    "pycharm": {
     "name": "#%%\n"
    }
   }
  },
  {
   "cell_type": "markdown",
   "source": [
    "### train model with different horizons"
   ],
   "metadata": {
    "collapsed": false,
    "pycharm": {
     "name": "#%% md\n"
    }
   }
  },
  {
   "cell_type": "code",
   "execution_count": 23,
   "outputs": [
    {
     "name": "stdout",
     "output_type": "stream",
     "text": [
      "nubmber of strategies:241\n",
      "n_obs: 10\n",
      "N: 6\n",
      "Loading presaved classifier model from ..\\models\\MPC_horizon_6_obs_10.pt\n",
      "model already exist\n"
     ]
    }
   ],
   "source": [
    "# train(N,n_obs)"
   ],
   "metadata": {
    "collapsed": false,
    "pycharm": {
     "name": "#%%\n"
    }
   }
  },
  {
   "cell_type": "markdown",
   "source": [
    "### Set problem and test dataset"
   ],
   "metadata": {
    "collapsed": false,
    "pycharm": {
     "name": "#%% md\n"
    }
   }
  },
  {
   "cell_type": "code",
   "source": [
    "velmin = -0.2\n",
    "velmax = 0.2\n",
    "posmin = np.zeros(2)\n",
    "\n",
    "ft2m = 0.3048\n",
    "posmax = ft2m*np.array([12.,9.])\n",
    "max_box_size = 0.75\n",
    "min_box_size = 0.25\n",
    "box_buffer = 0.025\n",
    "border_size = 0.05\n",
    "\n",
    "obstacles = config[-1]\n",
    "# obstacles = \\\n",
    "#         random_obs(n_obs, posmin, posmax, border_size, box_buffer, min_box_size, max_box_size)"
   ],
   "metadata": {
    "colab": {
     "base_uri": "https://localhost:8080/"
    },
    "id": "VgGP6wbR_X2-",
    "executionInfo": {
     "status": "ok",
     "timestamp": 1658327090733,
     "user_tz": -120,
     "elapsed": 216,
     "user": {
      "displayName": "Qi Yi",
      "userId": "03240543293609466208"
     }
    },
    "outputId": "8fb2d256-3054-4b8f-ea61-58abe21dcad8"
   },
   "execution_count": 70,
   "outputs": []
  },
  {
   "cell_type": "markdown",
   "source": [
    "## Calculating shortest path using network"
   ],
   "metadata": {
    "collapsed": false,
    "pycharm": {
     "name": "#%% md\n"
    }
   }
  },
  {
   "cell_type": "code",
   "execution_count": 73,
   "outputs": [
    {
     "data": {
      "text/plain": "[array([1.25, 2.  , 1.2 , 1.5 ]),\n array([1.25, 1.75, 0.2 , 1.  ]),\n array([0.3, 0.8, 1.5, 2. ]),\n array([2.5 , 3.25, 1.6 , 2.  ]),\n array([2.9 , 3.25, 2.  , 2.25])]"
     },
     "execution_count": 73,
     "metadata": {},
     "output_type": "execute_result"
    }
   ],
   "source": [
    "obstacles"
   ],
   "metadata": {
    "collapsed": false,
    "pycharm": {
     "name": "#%%\n"
    }
   }
  },
  {
   "cell_type": "code",
   "execution_count": 74,
   "outputs": [
    {
     "name": "stdout",
     "output_type": "stream",
     "text": [
      "Machine learning solve time (red points) : 0.015626907348632812\n",
      "Gurobi solve time (blue points): 0.1406230926513672\n"
     ]
    }
   ],
   "source": [
    "prob_success = False\n",
    "prob = MPC(config=config_fn)\n",
    "## set initial position and final position\n",
    "x0 = [3.5,1.75,0,0]\n",
    "xg = [2,2.5,0,0]\n",
    "# x0 = findIC(obstacles, posmin=posmin, posmax=posmax, velmin=velmin, velmax=velmax)\n",
    "# xg = findIC(obstacles, posmin=posmin, posmax=posmax, velmin=velmin, velmax=velmax)\n",
    "\n",
    "##\n",
    "while not prob_success:\n",
    "    prob_params = {}\n",
    "    prob_params['obstacles'] =  np.reshape(np.concatenate(obstacles, axis=0), (n_obs,4)).T\n",
    "    prob_params['x0'] = x0\n",
    "    prob_params['xg'] = xg\n",
    "    prob_success, cost, total_time, n_evals, optvals,y_guess = MPC_obj.forward(prob_params, solver=cp.GUROBI, max_evals=10)\n",
    "    if prob_success:\n",
    "        Xopt = optvals[0]\n",
    "\n",
    "_, _, solvetime_g, optvals_g = prob.solve_stl(prob_params, solver=cp.GUROBI)\n",
    "# _, _, solvetime_m, optvals_g = prob.solve_stl(prob_params, solver=cp.MOSEK)\n",
    "\n",
    "print('Machine learning solve time (red points) : '+ str(total_time))\n",
    "print('Gurobi solve time (blue points): '+ str(solvetime_g))\n",
    "# print('MOSEK solve time: '+ str(solvetime_m))"
   ],
   "metadata": {
    "collapsed": false,
    "pycharm": {
     "name": "#%%\n"
    }
   }
  },
  {
   "cell_type": "markdown",
   "source": [
    "## Plot"
   ],
   "metadata": {
    "collapsed": false,
    "pycharm": {
     "name": "#%% md\n"
    }
   }
  },
  {
   "cell_type": "code",
   "execution_count": 75,
   "outputs": [
    {
     "data": {
      "text/plain": "<Figure size 432x288 with 1 Axes>",
      "image/png": "[encoded data removed]"
     },
     "metadata": {
      "needs_background": "light"
     },
     "output_type": "display_data"
    }
   ],
   "source": [
    "Xopt_g = optvals_g[0]\n",
    "\n",
    "obstacles = []\n",
    "for ii_obs in range(n_obs):\n",
    "    obs = prob_params['obstacles'][:,ii_obs]\n",
    "    obstacles.append(obs)\n",
    "\n",
    "if len(obstacles) is n_obs:\n",
    "    plt.axes()\n",
    "    for obstacle in obstacles:\n",
    "        rectangle = plt.Rectangle((obstacle[0], obstacle[2]), \\\n",
    "                                  obstacle[1]-obstacle[0], obstacle[3]-obstacle[2], \\\n",
    "                                 fc='white', ec='black')\n",
    "        plt.gca().add_patch(rectangle)\n",
    "        plt.axis('scaled')\n",
    "\n",
    "\n",
    "    xg = prob_params['xg']\n",
    "    x0 = prob_params['x0']\n",
    "    circle = plt.Circle((x0[0],x0[1]), 0.04, fc='blue',ec=\"blue\")\n",
    "    plt.gca().add_patch(circle)\n",
    "\n",
    "    #blue line is network prediction\n",
    "    plt.plot(xg[0],xg[1],'sr')\n",
    "    # plt.quiver(Xopt[0,:], Xopt[1,:], Xopt[2,:], Xopt[3,:])#plot using arrows\n",
    "    for jj in range(N):\n",
    "        circle = plt.Circle((Xopt[0,jj],Xopt[1,jj]), 0.02, fc='red',ec=\"red\")\n",
    "        plt.gca().add_patch(circle)\n",
    "\n",
    "    #red line is Gurobi\n",
    "    for jj in range(N):\n",
    "        circle = plt.Circle((Xopt_g[0,jj],Xopt_g[1,jj]), 0.02, fc='blue',ec=\"blue\")\n",
    "        plt.gca().add_patch(circle)\n",
    "\n",
    "    ax = plt.gca()\n",
    "    ax.margins(0)\n",
    "    ax.set(xlim=(posmin[0],posmax[0]), ylim=(posmin[1],posmax[1]))\n",
    "    plt.show()"
   ],
   "metadata": {
    "collapsed": false,
    "pycharm": {
     "name": "#%%\n"
    }
   }
  },
  {
   "cell_type": "markdown",
   "source": [
    "## MPC control"
   ],
   "metadata": {
    "collapsed": false
   }
  },
  {
   "cell_type": "markdown",
   "source": [
    "### Set initial point and reference point"
   ],
   "metadata": {
    "collapsed": false,
    "pycharm": {
     "name": "#%% md\n"
    }
   }
  },
  {
   "cell_type": "code",
   "execution_count": 76,
   "outputs": [
    {
     "data": {
      "text/plain": "[[0.6, 2.3, 0, 0], [3.5, 2.2, 0, 0], [3, 1, 0, 0]]"
     },
     "execution_count": 76,
     "metadata": {},
     "output_type": "execute_result"
    }
   ],
   "source": [
    "## set initial points and reference points\n",
    "ref_list = []\n",
    "num_ref = 3\n",
    "x0 = [0.5,0.5,0,0]\n",
    "\n",
    "#use default reference points\n",
    "ref_1 = [0.6,2.3,0,0]\n",
    "ref_list.append(ref_1)\n",
    "ref_2 = [3.5,2.2,0,0]\n",
    "ref_list.append(ref_2)\n",
    "ref_3 = [3,1,0,0]\n",
    "ref_list.append(ref_3)\n",
    "\n",
    "# or generate reference points use different random seeds\n",
    "# seed = 2\n",
    "# for i in range(num_ref):\n",
    "#     ref = list(findIC(obstacles, posmin=posmin, posmax=posmax, velmin=velmin, velmax=velmax, seed =i+seed))\n",
    "#     ref[2]=0\n",
    "#     ref[3]=0\n",
    "#     ref_list.append(ref)\n",
    "ref_list"
   ],
   "metadata": {
    "collapsed": false,
    "pycharm": {
     "name": "#%%\n"
    }
   }
  },
  {
   "cell_type": "code",
   "execution_count": 77,
   "outputs": [
    {
     "name": "stdout",
     "output_type": "stream",
     "text": [
      "Found solution at t =  0. n_evals = 1\n",
      "Found solution at t =  1. n_evals = 1\n",
      "Found solution at t =  2. n_evals = 1\n",
      "Found solution at t =  3. n_evals = 1\n",
      "continue original path at t= 4\n",
      "continue original path at t= 5\n",
      "continue original path at t= 6\n",
      "continue original path at t= 7\n",
      "continue original path at t= 8\n",
      "continue original path at t= 9\n",
      "Found solution at t =  10. n_evals = 1\n",
      "Found solution at t =  11. n_evals = 1\n",
      "Found solution at t =  12. n_evals = 1\n",
      "Found solution at t =  13. n_evals = 1\n",
      "Found solution at t =  14. n_evals = 1\n",
      "Found solution at t =  15. n_evals = 1\n",
      "Found solution at t =  16. n_evals = 1\n",
      "Found solution at t =  17. n_evals = 1\n",
      "Found solution at t =  18. n_evals = 1\n",
      "Found solution at t =  19. n_evals = 1\n",
      "continue original path at t= 20\n",
      "continue original path at t= 21\n",
      "continue original path at t= 22\n",
      "continue original path at t= 23\n",
      "continue original path at t= 24\n",
      "continue original path at t= 25\n",
      "continue original path at t= 26\n",
      "Found solution at t =  27. n_evals = 10\n",
      "Found solution at t =  28. n_evals = 1\n",
      "Found solution at t =  29. n_evals = 1\n",
      "Found solution at t =  30. n_evals = 1\n",
      "continue original path at t= 31\n",
      "continue original path at t= 32\n",
      "continue original path at t= 33\n",
      "continue original path at t= 34\n",
      "continue original path at t= 35\n",
      "continue original path at t= 36\n",
      "Found solution at t =  37. n_evals = 1\n",
      "Found solution at t =  38. n_evals = 1\n",
      "Found solution at t =  39. n_evals = 1\n",
      "Found solution at t =  40. n_evals = 1\n",
      "Found solution at t =  41. n_evals = 1\n",
      "Found solution at t =  42. n_evals = 1\n",
      "Found solution at t =  43. n_evals = 1\n",
      "Found solution at t =  44. n_evals = 5\n",
      "Found solution at t =  45. n_evals = 4\n",
      "Found solution at t =  46. n_evals = 1\n",
      "Found solution at t =  47. n_evals = 1\n",
      "Found solution at t =  48. n_evals = 1\n",
      "Found solution at t =  49. n_evals = 1\n",
      "Found solution at t =  50. n_evals = 1\n",
      "Found solution at t =  51. n_evals = 1\n",
      "Found solution at t =  52. n_evals = 1\n",
      "Found solution at t =  53. n_evals = 1\n",
      "Found solution at t =  54. n_evals = 1\n",
      "Found solution at t =  55. n_evals = 1\n",
      "Found solution at t =  56. n_evals = 1\n",
      "Found solution at t =  57. n_evals = 1\n",
      "Found solution at t =  58. n_evals = 1\n",
      "Found solution at t =  59. n_evals = 1\n",
      "Found solution at t =  60. n_evals = 1\n",
      "Found solution at t =  61. n_evals = 1\n",
      "Found solution at t =  62. n_evals = 1\n",
      "Found solution at t =  63. n_evals = 1\n",
      "Found solution at t =  64. n_evals = 1\n",
      "Found solution at t =  65. n_evals = 1\n",
      "Found solution at t =  66. n_evals = 1\n",
      "Found solution at t =  67. n_evals = 1\n",
      "Found solution at t =  68. n_evals = 1\n",
      "Found solution at t =  69. n_evals = 1\n",
      "Found solution at t =  70. n_evals = 1\n",
      "Found solution at t =  71. n_evals = 1\n",
      "Found solution at t =  72. n_evals = 1\n",
      "Found solution at t =  73. n_evals = 1\n",
      "Found solution at t =  74. n_evals = 1\n",
      "Found solution at t =  75. n_evals = 1\n",
      "Found solution at t =  76. n_evals = 1\n",
      "Found solution at t =  77. n_evals = 1\n",
      "Found solution at t =  78. n_evals = 1\n",
      "Found solution at t =  79. n_evals = 1\n",
      "Found solution at t =  80. n_evals = 1\n",
      "Found solution at t =  81. n_evals = 1\n",
      "Found solution at t =  82. n_evals = 1\n",
      "Found solution at t =  83. n_evals = 1\n",
      "Found solution at t =  84. n_evals = 1\n",
      "Found solution at t =  85. n_evals = 1\n",
      "Found solution at t =  86. n_evals = 1\n",
      "Found solution at t =  87. n_evals = 1\n",
      "Found solution at t =  88. n_evals = 1\n",
      "Found solution at t =  89. n_evals = 1\n",
      "Found solution at t =  90. n_evals = 1\n",
      "Found solution at t =  91. n_evals = 1\n",
      "Found solution at t =  92. n_evals = 1\n",
      "Found solution at t =  93. n_evals = 1\n",
      "Found solution at t =  94. n_evals = 1\n",
      "Found solution at t =  95. n_evals = 1\n",
      "Found solution at t =  96. n_evals = 1\n",
      "Found solution at t =  97. n_evals = 1\n",
      "Found solution at t =  98. n_evals = 1\n",
      "Found solution at t =  99. n_evals = 1\n",
      "Found solution at t =  100. n_evals = 1\n",
      "Found solution at t =  101. n_evals = 1\n",
      "Found solution at t =  102. n_evals = 1\n",
      "Found solution at t =  103. n_evals = 1\n",
      "Found solution at t =  104. n_evals = 1\n",
      "Found solution at t =  105. n_evals = 1\n",
      "Found solution at t =  106. n_evals = 1\n",
      "Found solution at t =  107. n_evals = 1\n",
      "Found solution at t =  108. n_evals = 1\n",
      "Found solution at t =  109. n_evals = 1\n",
      "Found solution at t =  110. n_evals = 1\n",
      "Found solution at t =  111. n_evals = 1\n",
      "Found solution at t =  112. n_evals = 1\n",
      "Found solution at t =  113. n_evals = 1\n",
      "Found solution at t =  114. n_evals = 1\n",
      "Found solution at t =  115. n_evals = 1\n",
      "Found solution at t =  116. n_evals = 1\n",
      "Found solution at t =  117. n_evals = 1\n",
      "Found solution at t =  118. n_evals = 1\n",
      "Found solution at t =  119. n_evals = 1\n",
      "Found solution at t =  120. n_evals = 1\n",
      "Found solution at t =  121. n_evals = 1\n",
      "Found solution at t =  122. n_evals = 1\n",
      "Found solution at t =  123. n_evals = 1\n",
      "Found solution at t =  124. n_evals = 1\n",
      "Found solution at t =  125. n_evals = 1\n",
      "Found solution at t =  126. n_evals = 1\n",
      "Found solution at t =  127. n_evals = 1\n",
      "Found solution at t =  128. n_evals = 1\n",
      "Found solution at t =  129. n_evals = 1\n",
      "Found solution at t =  130. n_evals = 1\n",
      "Found solution at t =  131. n_evals = 1\n",
      "Found solution at t =  132. n_evals = 1\n",
      "Found solution at t =  133. n_evals = 1\n",
      "Found solution at t =  134. n_evals = 1\n",
      "Found solution at t =  135. n_evals = 1\n",
      "Found solution at t =  136. n_evals = 1\n",
      "Found solution at t =  137. n_evals = 1\n",
      "Found solution at t =  138. n_evals = 1\n",
      "Found solution at t =  139. n_evals = 1\n",
      "Found solution at t =  140. n_evals = 1\n",
      "Found solution at t =  141. n_evals = 1\n",
      "Found solution at t =  142. n_evals = 1\n",
      "Found solution at t =  143. n_evals = 1\n",
      "Found solution at t =  144. n_evals = 1\n",
      "Found solution at t =  145. n_evals = 1\n",
      "Found solution at t =  146. n_evals = 1\n",
      "Found solution at t =  147. n_evals = 1\n",
      "Found solution at t =  148. n_evals = 1\n",
      "Found solution at t =  149. n_evals = 1\n",
      "Found solution at t =  150. n_evals = 1\n",
      "Found solution at t =  151. n_evals = 1\n",
      "Found solution at t =  152. n_evals = 1\n",
      "Found solution at t =  153. n_evals = 1\n",
      "Found solution at t =  154. n_evals = 1\n",
      "Found solution at t =  155. n_evals = 1\n",
      "Found solution at t =  156. n_evals = 1\n",
      "Found solution at t =  157. n_evals = 1\n",
      "Found solution at t =  158. n_evals = 1\n",
      "Found solution at t =  159. n_evals = 1\n",
      "Found solution at t =  160. n_evals = 1\n",
      "Found solution at t =  161. n_evals = 1\n",
      "Found solution at t =  162. n_evals = 1\n",
      "Found solution at t =  163. n_evals = 1\n",
      "Found solution at t =  164. n_evals = 1\n",
      "Found solution at t =  165. n_evals = 1\n",
      "Found solution at t =  166. n_evals = 1\n",
      "Found solution at t =  167. n_evals = 1\n",
      "Found solution at t =  168. n_evals = 1\n",
      "Found solution at t =  169. n_evals = 1\n",
      "Found solution at t =  170. n_evals = 1\n",
      "Found solution at t =  171. n_evals = 1\n",
      "Found solution at t =  172. n_evals = 1\n",
      "Found solution at t =  173. n_evals = 1\n",
      "Found solution at t =  174. n_evals = 1\n",
      "Found solution at t =  175. n_evals = 1\n",
      "Found solution at t =  176. n_evals = 1\n",
      "Found solution at t =  177. n_evals = 1\n",
      "Found solution at t =  178. n_evals = 1\n",
      "Found solution at t =  179. n_evals = 1\n",
      "Found solution at t =  180. n_evals = 1\n",
      "Found solution at t =  181. n_evals = 1\n",
      "Found solution at t =  182. n_evals = 1\n",
      "Found solution at t =  183. n_evals = 1\n",
      "Found solution at t =  184. n_evals = 1\n",
      "Found solution at t =  185. n_evals = 1\n",
      "Found solution at t =  186. n_evals = 1\n",
      "Found solution at t =  187. n_evals = 1\n",
      "Found solution at t =  188. n_evals = 1\n",
      "Found solution at t =  189. n_evals = 1\n",
      "Found solution at t =  190. n_evals = 1\n",
      "Found solution at t =  191. n_evals = 1\n",
      "Found solution at t =  192. n_evals = 1\n",
      "Found solution at t =  193. n_evals = 1\n",
      "Found solution at t =  194. n_evals = 1\n",
      "Found solution at t =  195. n_evals = 1\n",
      "Found solution at t =  196. n_evals = 1\n",
      "Found solution at t =  197. n_evals = 1\n",
      "Found solution at t =  198. n_evals = 1\n",
      "Found solution at t =  199. n_evals = 1\n",
      "Found solution at t =  200. n_evals = 1\n",
      "Found solution at t =  201. n_evals = 1\n",
      "Found solution at t =  202. n_evals = 1\n",
      "Found solution at t =  203. n_evals = 1\n",
      "Found solution at t =  204. n_evals = 1\n",
      "Found solution at t =  205. n_evals = 1\n",
      "Found solution at t =  206. n_evals = 1\n",
      "Found solution at t =  207. n_evals = 1\n",
      "Found solution at t =  208. n_evals = 1\n",
      "Found solution at t =  209. n_evals = 1\n",
      "Found solution at t =  210. n_evals = 1\n",
      "Found solution at t =  211. n_evals = 1\n",
      "Found solution at t =  212. n_evals = 1\n",
      "Found solution at t =  213. n_evals = 1\n",
      "Found solution at t =  214. n_evals = 1\n",
      "Found solution at t =  215. n_evals = 1\n",
      "Found solution at t =  216. n_evals = 1\n",
      "Found solution at t =  217. n_evals = 1\n",
      "Found solution at t =  218. n_evals = 1\n",
      "Found solution at t =  219. n_evals = 1\n",
      "Found solution at t =  220. n_evals = 1\n",
      "Found solution at t =  221. n_evals = 1\n",
      "Found solution at t =  222. n_evals = 1\n",
      "Found solution at t =  223. n_evals = 1\n",
      "Found solution at t =  224. n_evals = 1\n",
      "Found solution at t =  225. n_evals = 1\n",
      "Found solution at t =  226. n_evals = 1\n",
      "Found solution at t =  227. n_evals = 1\n",
      "Found solution at t =  228. n_evals = 1\n",
      "Found solution at t =  229. n_evals = 1\n",
      "Found solution at t =  230. n_evals = 1\n",
      "Found solution at t =  231. n_evals = 1\n",
      "Found solution at t =  232. n_evals = 1\n",
      "Found solution at t =  233. n_evals = 1\n",
      "Found solution at t =  234. n_evals = 1\n",
      "Found solution at t =  235. n_evals = 1\n",
      "Found solution at t =  236. n_evals = 1\n",
      "Found solution at t =  237. n_evals = 1\n",
      "Found solution at t =  238. n_evals = 1\n",
      "Found solution at t =  239. n_evals = 1\n",
      "Found solution at t =  240. n_evals = 1\n",
      "Found solution at t =  241. n_evals = 1\n",
      "Found solution at t =  242. n_evals = 1\n",
      "Found solution at t =  243. n_evals = 1\n",
      "Found solution at t =  244. n_evals = 1\n",
      "Found solution at t =  245. n_evals = 1\n",
      "Found solution at t =  246. n_evals = 1\n",
      "Found solution at t =  247. n_evals = 1\n",
      "Found solution at t =  248. n_evals = 1\n",
      "Found solution at t =  249. n_evals = 1\n",
      "Found solution at t =  250. n_evals = 1\n",
      "Found solution at t =  251. n_evals = 1\n",
      "Found solution at t =  252. n_evals = 1\n",
      "Found solution at t =  253. n_evals = 1\n",
      "Found solution at t =  254. n_evals = 1\n",
      "Found solution at t =  255. n_evals = 1\n",
      "Found solution at t =  256. n_evals = 1\n",
      "Found solution at t =  257. n_evals = 1\n",
      "Found solution at t =  258. n_evals = 1\n",
      "Found solution at t =  259. n_evals = 1\n",
      "Found solution at t =  260. n_evals = 1\n",
      "Found solution at t =  261. n_evals = 1\n",
      "Found solution at t =  262. n_evals = 1\n",
      "Found solution at t =  263. n_evals = 1\n",
      "Found solution at t =  264. n_evals = 1\n",
      "Found solution at t =  265. n_evals = 1\n",
      "Found solution at t =  266. n_evals = 1\n",
      "Found solution at t =  267. n_evals = 1\n",
      "Found solution at t =  268. n_evals = 1\n",
      "Found solution at t =  269. n_evals = 1\n",
      "Found solution at t =  270. n_evals = 1\n",
      "Found solution at t =  271. n_evals = 1\n",
      "Found solution at t =  272. n_evals = 1\n",
      "Found solution at t =  273. n_evals = 1\n",
      "Found solution at t =  274. n_evals = 1\n",
      "Found solution at t =  275. n_evals = 1\n",
      "Found solution at t =  276. n_evals = 1\n",
      "Found solution at t =  277. n_evals = 1\n",
      "Found solution at t =  278. n_evals = 1\n",
      "Found solution at t =  279. n_evals = 1\n",
      "Found solution at t =  280. n_evals = 1\n",
      "Found solution at t =  281. n_evals = 1\n",
      "Found solution at t =  282. n_evals = 1\n",
      "Found solution at t =  283. n_evals = 1\n",
      "Found solution at t =  284. n_evals = 1\n",
      "Found solution at t =  285. n_evals = 1\n",
      "Found solution at t =  286. n_evals = 1\n",
      "Found solution at t =  287. n_evals = 1\n",
      "Found solution at t =  288. n_evals = 1\n",
      "Found solution at t =  289. n_evals = 1\n",
      "Found solution at t =  290. n_evals = 1\n",
      "Found solution at t =  291. n_evals = 1\n",
      "Found solution at t =  292. n_evals = 1\n",
      "Found solution at t =  293. n_evals = 1\n",
      "Found solution at t =  294. n_evals = 1\n",
      "Found solution at t =  295. n_evals = 1\n",
      "Found solution at t =  296. n_evals = 1\n",
      "Found solution at t =  297. n_evals = 1\n",
      "Found solution at t =  298. n_evals = 1\n",
      "Found solution at t =  299. n_evals = 1\n",
      "Found solution at t =  300. n_evals = 1\n",
      "Found solution at t =  301. n_evals = 1\n",
      "Found solution at t =  302. n_evals = 1\n",
      "Found solution at t =  303. n_evals = 1\n",
      "Found solution at t =  304. n_evals = 1\n",
      "Found solution at t =  305. n_evals = 1\n",
      "Found solution at t =  306. n_evals = 1\n",
      "Found solution at t =  307. n_evals = 1\n",
      "Found solution at t =  308. n_evals = 1\n",
      "Found solution at t =  309. n_evals = 1\n",
      "Found solution at t =  310. n_evals = 1\n",
      "Found solution at t =  311. n_evals = 1\n",
      "Found solution at t =  312. n_evals = 1\n",
      "Found solution at t =  313. n_evals = 1\n",
      "Found solution at t =  314. n_evals = 1\n",
      "Found solution at t =  315. n_evals = 1\n",
      "Found solution at t =  316. n_evals = 1\n",
      "Found solution at t =  317. n_evals = 1\n",
      "Found solution at t =  318. n_evals = 1\n",
      "Found solution at t =  319. n_evals = 1\n",
      "Found solution at t =  320. n_evals = 1\n",
      "Found solution at t =  321. n_evals = 1\n",
      "Found solution at t =  322. n_evals = 1\n",
      "Found solution at t =  323. n_evals = 1\n",
      "Found solution at t =  324. n_evals = 1\n",
      "Found solution at t =  325. n_evals = 1\n",
      "Found solution at t =  326. n_evals = 1\n",
      "Found solution at t =  327. n_evals = 1\n",
      "Found solution at t =  328. n_evals = 1\n",
      "Found solution at t =  329. n_evals = 1\n",
      "Found solution at t =  330. n_evals = 1\n",
      "Found solution at t =  331. n_evals = 1\n",
      "Found solution at t =  332. n_evals = 1\n",
      "Found solution at t =  333. n_evals = 1\n",
      "Found solution at t =  334. n_evals = 1\n",
      "Found solution at t =  335. n_evals = 1\n",
      "Found solution at t =  336. n_evals = 1\n",
      "Found solution at t =  337. n_evals = 1\n",
      "Found solution at t =  338. n_evals = 1\n",
      "Found solution at t =  339. n_evals = 1\n",
      "Found solution at t =  340. n_evals = 1\n",
      "Found solution at t =  341. n_evals = 1\n",
      "Found solution at t =  342. n_evals = 1\n",
      "Found solution at t =  343. n_evals = 1\n",
      "Found solution at t =  344. n_evals = 1\n",
      "Found solution at t =  345. n_evals = 1\n",
      "Found solution at t =  346. n_evals = 1\n",
      "Found solution at t =  347. n_evals = 1\n",
      "Found solution at t =  348. n_evals = 1\n",
      "Found solution at t =  349. n_evals = 1\n",
      "Found solution at t =  350. n_evals = 1\n",
      "Found solution at t =  351. n_evals = 1\n",
      "Found solution at t =  352. n_evals = 1\n",
      "Found solution at t =  353. n_evals = 1\n",
      "Found solution at t =  354. n_evals = 1\n",
      "Found solution at t =  355. n_evals = 1\n",
      "Found solution at t =  356. n_evals = 1\n",
      "Found solution at t =  357. n_evals = 1\n",
      "Found solution at t =  358. n_evals = 1\n",
      "Found solution at t =  359. n_evals = 1\n",
      "Found solution at t =  360. n_evals = 1\n",
      "Found solution at t =  361. n_evals = 1\n",
      "Found solution at t =  362. n_evals = 1\n",
      "Found solution at t =  363. n_evals = 1\n",
      "Found solution at t =  364. n_evals = 1\n",
      "Found solution at t =  365. n_evals = 1\n",
      "Found solution at t =  366. n_evals = 1\n",
      "Found solution at t =  367. n_evals = 1\n",
      "Found solution at t =  368. n_evals = 1\n",
      "Found solution at t =  369. n_evals = 1\n",
      "Found solution at t =  370. n_evals = 1\n",
      "Found solution at t =  371. n_evals = 1\n",
      "Found solution at t =  372. n_evals = 1\n",
      "Found solution at t =  373. n_evals = 1\n",
      "Found solution at t =  374. n_evals = 1\n",
      "Found solution at t =  375. n_evals = 1\n",
      "Found solution at t =  376. n_evals = 1\n",
      "Found solution at t =  377. n_evals = 1\n",
      "Found solution at t =  378. n_evals = 1\n",
      "Found solution at t =  379. n_evals = 1\n",
      "Found solution at t =  380. n_evals = 1\n",
      "Found solution at t =  381. n_evals = 1\n",
      "Found solution at t =  382. n_evals = 1\n",
      "Found solution at t =  383. n_evals = 1\n",
      "Found solution at t =  384. n_evals = 1\n",
      "Found solution at t =  385. n_evals = 1\n",
      "Found solution at t =  386. n_evals = 1\n",
      "Found solution at t =  387. n_evals = 1\n",
      "Found solution at t =  388. n_evals = 1\n",
      "Found solution at t =  389. n_evals = 1\n",
      "Found solution at t =  390. n_evals = 1\n",
      "Found solution at t =  391. n_evals = 1\n",
      "Found solution at t =  392. n_evals = 1\n",
      "Found solution at t =  393. n_evals = 1\n",
      "Found solution at t =  394. n_evals = 1\n",
      "Found solution at t =  395. n_evals = 1\n",
      "Found solution at t =  396. n_evals = 1\n",
      "Found solution at t =  397. n_evals = 1\n",
      "Found solution at t =  398. n_evals = 1\n",
      "Found solution at t =  399. n_evals = 1\n",
      "Found solution at t =  400. n_evals = 1\n",
      "Found solution at t =  401. n_evals = 1\n",
      "Found solution at t =  402. n_evals = 1\n",
      "Found solution at t =  403. n_evals = 1\n",
      "Found solution at t =  404. n_evals = 1\n",
      "Found solution at t =  405. n_evals = 1\n",
      "Found solution at t =  406. n_evals = 1\n",
      "Found solution at t =  407. n_evals = 1\n",
      "Found solution at t =  408. n_evals = 1\n",
      "Found solution at t =  409. n_evals = 1\n",
      "Found solution at t =  410. n_evals = 1\n",
      "Found solution at t =  411. n_evals = 1\n",
      "Found solution at t =  412. n_evals = 1\n",
      "Found solution at t =  413. n_evals = 1\n",
      "Found solution at t =  414. n_evals = 1\n",
      "Found solution at t =  415. n_evals = 1\n",
      "Found solution at t =  416. n_evals = 1\n",
      "Found solution at t =  417. n_evals = 1\n",
      "Found solution at t =  418. n_evals = 1\n",
      "Found solution at t =  419. n_evals = 1\n",
      "Found solution at t =  420. n_evals = 1\n",
      "Found solution at t =  421. n_evals = 1\n",
      "Found solution at t =  422. n_evals = 1\n",
      "Found solution at t =  423. n_evals = 1\n",
      "Found solution at t =  424. n_evals = 1\n",
      "Found solution at t =  425. n_evals = 1\n",
      "Found solution at t =  426. n_evals = 1\n",
      "Found solution at t =  427. n_evals = 1\n",
      "Found solution at t =  428. n_evals = 1\n",
      "Found solution at t =  429. n_evals = 1\n",
      "Found solution at t =  430. n_evals = 1\n",
      "Found solution at t =  431. n_evals = 1\n",
      "Found solution at t =  432. n_evals = 1\n",
      "Found solution at t =  433. n_evals = 1\n",
      "Found solution at t =  434. n_evals = 1\n",
      "Found solution at t =  435. n_evals = 1\n",
      "Found solution at t =  436. n_evals = 1\n",
      "Found solution at t =  437. n_evals = 1\n",
      "Found solution at t =  438. n_evals = 1\n",
      "Found solution at t =  439. n_evals = 1\n",
      "Found solution at t =  440. n_evals = 1\n",
      "Found solution at t =  441. n_evals = 1\n",
      "Found solution at t =  442. n_evals = 1\n",
      "Found solution at t =  443. n_evals = 1\n",
      "Found solution at t =  444. n_evals = 1\n",
      "Found solution at t =  445. n_evals = 1\n",
      "Found solution at t =  446. n_evals = 1\n",
      "Found solution at t =  447. n_evals = 1\n",
      "Found solution at t =  448. n_evals = 1\n",
      "Found solution at t =  449. n_evals = 1\n",
      "Found solution at t =  450. n_evals = 1\n",
      "Found solution at t =  451. n_evals = 1\n",
      "Found solution at t =  452. n_evals = 1\n",
      "Found solution at t =  453. n_evals = 1\n",
      "Found solution at t =  454. n_evals = 1\n",
      "Found solution at t =  455. n_evals = 1\n",
      "Found solution at t =  456. n_evals = 1\n",
      "Found solution at t =  457. n_evals = 1\n",
      "Found solution at t =  458. n_evals = 1\n",
      "Found solution at t =  459. n_evals = 1\n",
      "Found solution at t =  460. n_evals = 1\n",
      "Found solution at t =  461. n_evals = 1\n",
      "Found solution at t =  462. n_evals = 1\n",
      "Found solution at t =  463. n_evals = 1\n",
      "Found solution at t =  464. n_evals = 1\n",
      "Found solution at t =  465. n_evals = 1\n",
      "Found solution at t =  466. n_evals = 1\n",
      "Found solution at t =  467. n_evals = 1\n",
      "Found solution at t =  468. n_evals = 1\n",
      "Found solution at t =  469. n_evals = 1\n",
      "Found solution at t =  470. n_evals = 1\n",
      "Found solution at t =  471. n_evals = 1\n",
      "Found solution at t =  472. n_evals = 1\n",
      "Found solution at t =  473. n_evals = 1\n",
      "Found solution at t =  474. n_evals = 1\n",
      "Found solution at t =  475. n_evals = 1\n",
      "Found solution at t =  476. n_evals = 1\n",
      "Found solution at t =  477. n_evals = 1\n",
      "Found solution at t =  478. n_evals = 1\n",
      "Found solution at t =  479. n_evals = 1\n",
      "Found solution at t =  480. n_evals = 1\n",
      "Found solution at t =  481. n_evals = 1\n",
      "Found solution at t =  482. n_evals = 1\n",
      "Found solution at t =  483. n_evals = 1\n",
      "Found solution at t =  484. n_evals = 1\n",
      "Found solution at t =  485. n_evals = 1\n",
      "Found solution at t =  486. n_evals = 1\n",
      "Found solution at t =  487. n_evals = 1\n",
      "Found solution at t =  488. n_evals = 1\n",
      "Found solution at t =  489. n_evals = 1\n",
      "Found solution at t =  490. n_evals = 1\n",
      "Found solution at t =  491. n_evals = 1\n",
      "Found solution at t =  492. n_evals = 1\n",
      "Found solution at t =  493. n_evals = 1\n",
      "Found solution at t =  494. n_evals = 1\n",
      "Found solution at t =  495. n_evals = 1\n",
      "Found solution at t =  496. n_evals = 1\n",
      "Found solution at t =  497. n_evals = 1\n",
      "Found solution at t =  498. n_evals = 1\n",
      "Found solution at t =  499. n_evals = 1\n",
      "Found solution at t =  500. n_evals = 1\n",
      "Found solution at t =  501. n_evals = 1\n",
      "Found solution at t =  502. n_evals = 1\n",
      "Found solution at t =  503. n_evals = 1\n",
      "Found solution at t =  504. n_evals = 1\n",
      "Found solution at t =  505. n_evals = 1\n",
      "Found solution at t =  506. n_evals = 1\n",
      "Found solution at t =  507. n_evals = 1\n",
      "Found solution at t =  508. n_evals = 1\n",
      "Found solution at t =  509. n_evals = 1\n",
      "Found solution at t =  510. n_evals = 1\n",
      "Found solution at t =  511. n_evals = 1\n",
      "Found solution at t =  512. n_evals = 1\n",
      "Found solution at t =  513. n_evals = 1\n",
      "Found solution at t =  514. n_evals = 1\n",
      "Found solution at t =  515. n_evals = 1\n",
      "Found solution at t =  516. n_evals = 1\n",
      "Found solution at t =  517. n_evals = 1\n",
      "Found solution at t =  518. n_evals = 1\n",
      "Found solution at t =  519. n_evals = 1\n",
      "Found solution at t =  520. n_evals = 1\n",
      "Found solution at t =  521. n_evals = 1\n",
      "Found solution at t =  522. n_evals = 1\n",
      "Found solution at t =  523. n_evals = 1\n",
      "Found solution at t =  524. n_evals = 1\n",
      "Found solution at t =  525. n_evals = 1\n",
      "Found solution at t =  526. n_evals = 1\n",
      "Found solution at t =  527. n_evals = 1\n",
      "Found solution at t =  528. n_evals = 1\n",
      "Found solution at t =  529. n_evals = 1\n",
      "Found solution at t =  530. n_evals = 1\n",
      "Found solution at t =  531. n_evals = 1\n",
      "Found solution at t =  532. n_evals = 1\n",
      "Found solution at t =  533. n_evals = 1\n",
      "Found solution at t =  534. n_evals = 1\n",
      "Found solution at t =  535. n_evals = 1\n",
      "Found solution at t =  536. n_evals = 1\n",
      "Found solution at t =  537. n_evals = 1\n",
      "Found solution at t =  538. n_evals = 1\n",
      "Found solution at t =  539. n_evals = 1\n",
      "Found solution at t =  540. n_evals = 1\n",
      "Found solution at t =  541. n_evals = 1\n",
      "Found solution at t =  542. n_evals = 1\n",
      "Found solution at t =  543. n_evals = 1\n",
      "Found solution at t =  544. n_evals = 1\n",
      "Found solution at t =  545. n_evals = 1\n",
      "Found solution at t =  546. n_evals = 1\n",
      "Found solution at t =  547. n_evals = 1\n",
      "Found solution at t =  548. n_evals = 1\n",
      "Found solution at t =  549. n_evals = 1\n",
      "Found solution at t =  550. n_evals = 1\n",
      "Found solution at t =  551. n_evals = 1\n",
      "Found solution at t =  552. n_evals = 1\n",
      "Found solution at t =  553. n_evals = 1\n",
      "Found solution at t =  554. n_evals = 1\n",
      "Found solution at t =  555. n_evals = 1\n",
      "Found solution at t =  556. n_evals = 1\n",
      "Found solution at t =  557. n_evals = 1\n",
      "Found solution at t =  558. n_evals = 1\n",
      "Found solution at t =  559. n_evals = 1\n",
      "Found solution at t =  560. n_evals = 1\n",
      "Found solution at t =  561. n_evals = 1\n",
      "Found solution at t =  562. n_evals = 1\n",
      "Found solution at t =  563. n_evals = 1\n",
      "Found solution at t =  564. n_evals = 1\n",
      "Found solution at t =  565. n_evals = 1\n",
      "Found solution at t =  566. n_evals = 1\n",
      "Found solution at t =  567. n_evals = 1\n",
      "Found solution at t =  568. n_evals = 1\n",
      "Found solution at t =  569. n_evals = 1\n",
      "Found solution at t =  570. n_evals = 1\n",
      "Found solution at t =  571. n_evals = 1\n",
      "Found solution at t =  572. n_evals = 1\n",
      "Found solution at t =  573. n_evals = 1\n",
      "Found solution at t =  574. n_evals = 1\n",
      "Found solution at t =  575. n_evals = 1\n",
      "Found solution at t =  576. n_evals = 1\n",
      "Found solution at t =  577. n_evals = 1\n",
      "Found solution at t =  578. n_evals = 1\n",
      "Found solution at t =  579. n_evals = 1\n",
      "Found solution at t =  580. n_evals = 1\n",
      "Found solution at t =  581. n_evals = 1\n",
      "Found solution at t =  582. n_evals = 1\n",
      "Found solution at t =  583. n_evals = 1\n",
      "Found solution at t =  584. n_evals = 1\n",
      "Found solution at t =  585. n_evals = 1\n",
      "Found solution at t =  586. n_evals = 1\n",
      "Found solution at t =  587. n_evals = 1\n",
      "Found solution at t =  588. n_evals = 1\n",
      "Found solution at t =  589. n_evals = 1\n",
      "Found solution at t =  590. n_evals = 1\n",
      "Found solution at t =  591. n_evals = 1\n",
      "Found solution at t =  592. n_evals = 1\n",
      "Found solution at t =  593. n_evals = 1\n",
      "Found solution at t =  594. n_evals = 1\n",
      "Found solution at t =  595. n_evals = 1\n",
      "Found solution at t =  596. n_evals = 1\n",
      "Found solution at t =  597. n_evals = 1\n",
      "Found solution at t =  598. n_evals = 1\n",
      "Found solution at t =  599. n_evals = 1\n",
      "total solving time for 600 steps is 3.217233419418335\n",
      "avarage solving time at each step is 0.005362055699030558\n"
     ]
    }
   ],
   "source": [
    "from MPC_control import MPC_controller\n",
    "\n",
    "mpc_time = 600\n",
    "prob = MPC(config=config_fn)\n",
    "\n",
    "Xopt,Uopt,Yopt,T_total = MPC_controller(x0,ref_list,prob=prob,MPC_obj=MPC_obj,T=mpc_time)"
   ],
   "metadata": {
    "collapsed": false,
    "pycharm": {
     "name": "#%%\n"
    }
   }
  },
  {
   "cell_type": "code",
   "execution_count": 78,
   "outputs": [
    {
     "data": {
      "text/plain": "<Figure size 432x288 with 1 Axes>",
      "image/png": "[encoded data removed]"
     },
     "metadata": {
      "needs_background": "light"
     },
     "output_type": "display_data"
    },
    {
     "name": "stdout",
     "output_type": "stream",
     "text": [
      "total solving time for 600 steps is 3.217233419418335\n",
      "avarage solving time at each step is 0.005362055699030558\n"
     ]
    }
   ],
   "source": [
    "#plot results\n",
    "obstacles = []\n",
    "x0 = [0.5,0.5,0,0]\n",
    "x_init = x0\n",
    "for ii_obs in range(n_obs):\n",
    "    # obs = test_data[0]['obstacles'][idx][:,ii_obs]\n",
    "    obs = prob_params['obstacles'][:,ii_obs]\n",
    "    obstacles.append(obs)\n",
    "\n",
    "# x0 = findIC(obstacles, posmin, posmax, velmin, velmax)\n",
    "x0 = prob_params['x0']\n",
    "xg = prob_params['xg']\n",
    "\n",
    "\n",
    "if len(obstacles) is n_obs:\n",
    "    plt.axes()\n",
    "    for obstacle in obstacles:\n",
    "        rectangle = plt.Rectangle((obstacle[0], obstacle[2]), \\\n",
    "                                  obstacle[1]-obstacle[0], obstacle[3]-obstacle[2], \\\n",
    "                                 fc='white', ec='black')\n",
    "        plt.gca().add_patch(rectangle)\n",
    "        plt.axis('scaled')\n",
    "\n",
    "    circle = plt.Circle((x_init[0],x_init[1]), 0.04, fc='red',ec=\"red\")\n",
    "    plt.gca().add_patch(circle)\n",
    "\n",
    "    for i in range(num_ref):\n",
    "        plt.plot(ref_list[i][0],ref_list[i][1],'sr')\n",
    "    #plot using arrows\n",
    "    # for jj in range(len(Xopt[:,0])):\n",
    "    #     plt.quiver(Xopt[jj][0], Xopt[jj][0])\n",
    "    #     circle = plt.Circle((Xopt[jj][0],Xopt[jj][1]), 0.02, fc='blue',ec=\"blue\")\n",
    "\n",
    "    # for jj in range(len(Xopt[:,0])):\n",
    "    #     plt.quiver(Xopt[jj][0], Xopt[jj][1], Xopt[jj][2], Xopt[jj][3])\n",
    "\n",
    "    for jj in range(len(Xopt[:,0])):\n",
    "        circle = plt.Circle((Xopt[jj][0],Xopt[jj][1]), 0.02, fc='black',ec=\"black\")\n",
    "        plt.gca().add_patch(circle)\n",
    "\n",
    "    ax = plt.gca()\n",
    "    ax.margins(0)\n",
    "    ax.set(xlim=(posmin[0],posmax[0]), ylim=(posmin[1],posmax[1]))\n",
    "    plt.show()\n",
    "\n",
    "print('total solving time for {} steps is '.format(mpc_time) +str(T_total))\n",
    "print('avarage solving time at each step is ' +str(T_total/mpc_time))"
   ],
   "metadata": {
    "collapsed": false,
    "pycharm": {
     "name": "#%%\n"
    }
   }
  }
 ]
}