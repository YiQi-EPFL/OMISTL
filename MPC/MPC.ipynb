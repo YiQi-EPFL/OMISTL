{
 "nbformat": 4,
 "nbformat_minor": 0,
 "metadata": {
  "colab": {
   "name": "test_shortestpath.ipynb",
   "provenance": [],
   "authorship_tag": "ABX9TyOtRSeDtZbei9JgzmnCBc02"
  },
  "kernelspec": {
   "name": "python3",
   "display_name": "Python 3"
  },
  "language_info": {
   "name": "python"
  },
  "accelerator": "GPU",
  "gpuClass": "standard"
 },
 "cells": [
  {
   "cell_type": "code",
   "source": [
    "%load_ext autoreload\n",
    "%autoreload 2\n",
    "\n",
    "import matplotlib.pyplot as plt\n",
    "%matplotlib inline\n",
    "\n",
    "import torch\n",
    "from torch.autograd import Variable\n",
    "import numpy as np\n",
    "\n",
    "import cvxpy as cp\n",
    "import MPC_prob\n",
    "from utils import *\n",
    "import pickle, os\n",
    "from MPC_prob import MPC\n",
    "from model_train import train\n",
    "\n",
    "from tqdm import tqdm\n",
    "from para import paraset\n",
    "from sampling import sampling\n",
    "import plot_route\n",
    "from MPC_control import MPC_controller\n",
    "\n",
    "os.environ['KMP_DUPLICATE_LIB_OK'] = 'True'"
   ],
   "metadata": {
    "id": "73M8ow_96uHi",
    "executionInfo": {
     "status": "ok",
     "timestamp": 1658326900014,
     "user_tz": -120,
     "elapsed": 3774,
     "user": {
      "displayName": "Qi Yi",
      "userId": "03240543293609466208"
     }
    }
   },
   "execution_count": 1,
   "outputs": [
    {
     "name": "stderr",
     "output_type": "stream",
     "text": [
      "C:\\Users\\msi\\anaconda3\\envs\\coco\\lib\\site-packages\\numpy\\_distributor_init.py:32: UserWarning: loaded more than 1 DLL from .libs:\n",
      "C:\\Users\\msi\\anaconda3\\envs\\coco\\lib\\site-packages\\numpy\\.libs\\libopenblas.PYQHXLVVQ7VESDPUVUADXEVJOBGHJPAY.gfortran-win_amd64.dll\n",
      "C:\\Users\\msi\\anaconda3\\envs\\coco\\lib\\site-packages\\numpy\\.libs\\libopenblas.WCDJNK7YVMPZQ2ME2ZZHJJRJ3JIKNDB7.gfortran-win_amd64.dll\n",
      "  stacklevel=1)\n"
     ]
    }
   ]
  },
  {
   "cell_type": "markdown",
   "source": [
    "## Set prob parameters and save at MPC.config"
   ],
   "metadata": {
    "collapsed": false,
    "pycharm": {
     "name": "#%% md\n"
    }
   }
  },
  {
   "cell_type": "code",
   "source": [
    "N = 8\n",
    "n_obs = 5\n",
    "paraset(N=N,n_obs=n_obs,Qs=1,Rs=0,num_probs=20000,obs_default=True)"
   ],
   "metadata": {
    "id": "mFBWCqc17cSJ",
    "executionInfo": {
     "status": "ok",
     "timestamp": 1658325950392,
     "user_tz": -120,
     "elapsed": 416,
     "user": {
      "displayName": "Qi Yi",
      "userId": "03240543293609466208"
     }
    }
   },
   "execution_count": 2,
   "outputs": []
  },
  {
   "cell_type": "markdown",
   "source": [
    "## Solve MICP problems to get samlpings for training"
   ],
   "metadata": {
    "collapsed": false,
    "pycharm": {
     "name": "#%% md\n"
    }
   }
  },
  {
   "cell_type": "code",
   "execution_count": null,
   "outputs": [],
   "source": [
    "sampling(N,n_obs)"
   ],
   "metadata": {
    "collapsed": false,
    "pycharm": {
     "name": "#%%\n",
     "is_executing": true
    }
   }
  },
  {
   "cell_type": "markdown",
   "source": [
    "## Load train/test data"
   ],
   "metadata": {
    "collapsed": false,
    "pycharm": {
     "name": "#%% md\n"
    }
   }
  },
  {
   "cell_type": "markdown",
   "source": [
    "### Test problem parameters"
   ],
   "metadata": {
    "collapsed": false,
    "pycharm": {
     "name": "#%% md\n"
    }
   }
  },
  {
   "cell_type": "code",
   "execution_count": 65,
   "outputs": [
    {
     "name": "stdout",
     "output_type": "stream",
     "text": [
      "Ava solve time for solving 10 problems: 0.07499809265136718\n"
     ]
    }
   ],
   "source": [
    "## test 10 problems\n",
    "n_prob = 10\n",
    "\n",
    "dataset_name = 'MPC_horizon_{}_obs_{}'.format(N,n_obs)\n",
    "relative_path = os.getcwd()\n",
    "config_fn = os.path.join(relative_path, 'config', dataset_name+'.p')\n",
    "config_file = open(config_fn,'rb')\n",
    "config=pickle.load(config_file)\n",
    "\n",
    "prob = MPC(config=config_fn)\n",
    "\n",
    "## set initial position and final position\n",
    "# x0 = [3.5,1.75,0,0]\n",
    "# xg = [2,2.5,0,0]\n",
    "\n",
    "dataset_name, prob_params, sampled_params, n_obs, num_probs, border_size, box_buffer, min_box_size, max_box_size, posmin, posmax, velmin, velmax, n, m,obs_fix, xg_fix, obstacles = config\n",
    "\n",
    "solvetime = 0\n",
    "for i in range(n_prob):\n",
    "    x0 = findIC(obstacles,posmin,posmax,velmin,velmax)\n",
    "    xg = findIC(obstacles,posmin,posmax,velmin,velmax)\n",
    "\n",
    "    prob_params = {}\n",
    "    prob_params['obstacles'] =  np.reshape(np.concatenate(obstacles, axis=0), (n_obs,4)).T\n",
    "    prob_params['x0'] = x0\n",
    "    prob_params['xg'] = xg\n",
    "    prob = MPC(config=config_fn)\n",
    "\n",
    "    _, _, solvetime_g, optvals_g = prob.solve_stl(prob_params, solver=cp.GUROBI,verbose=False)\n",
    "    solvetime += solvetime_g\n",
    "print('Ava solve time for solving {} problems: '.format(n_prob) +str(solvetime/n_prob))"
   ],
   "metadata": {
    "collapsed": false,
    "pycharm": {
     "name": "#%%\n"
    }
   }
  },
  {
   "cell_type": "code",
   "execution_count": 64,
   "outputs": [
    {
     "data": {
      "text/plain": "<Figure size 432x288 with 1 Axes>",
      "image/png": "[encoded data removed]"
     },
     "metadata": {},
     "output_type": "display_data"
    }
   ],
   "source": [
    "plot_route.plot(optvals_g,prob_params,N,n_obs)"
   ],
   "metadata": {
    "collapsed": false,
    "pycharm": {
     "name": "#%%\n"
    }
   }
  },
  {
   "cell_type": "markdown",
   "source": [
    "### Load train/test data"
   ],
   "metadata": {
    "collapsed": false,
    "pycharm": {
     "name": "#%% md\n"
    }
   }
  },
  {
   "cell_type": "code",
   "execution_count": 66,
   "outputs": [],
   "source": [
    "#load train/test data\n",
    "dataset_name = 'MPC_horizon_{}_obs_{}'.format(N,n_obs)\n",
    "\n",
    "#加载设置文件地址，config = [dataset_name, prob_params, sampled_params]#\n",
    "relative_path = os.getcwd()\n",
    "config_fn = os.path.join(relative_path, 'config', dataset_name+'.p')\n",
    "\n",
    "config_file = open(config_fn,'rb')\n",
    "config=pickle.load(config_file)\n",
    "\n",
    "dataset_name =  config[0]\n",
    "prob_params = config[1]\n",
    "sampled_params = config[2]\n",
    "config_file.close()"
   ],
   "metadata": {
    "collapsed": false,
    "pycharm": {
     "name": "#%%\n"
    }
   }
  },
  {
   "cell_type": "markdown",
   "source": [
    "### Load training&testing data"
   ],
   "metadata": {
    "collapsed": false,
    "pycharm": {
     "name": "#%% md\n"
    }
   }
  },
  {
   "cell_type": "code",
   "source": [
    "relative_path = os.getcwd()\n",
    "dataset_name = 'MPC_horizon_{}_obs_{}'.format(N,n_obs)\n",
    "dataset_fn = relative_path + '/data/' + dataset_name\n",
    "\n",
    "##load train data\n",
    "train_file = open(dataset_fn + '/train_horizon_{}.p'.format(N), 'rb')\n",
    "# train_file = open(dataset_fn+'/train.p','rb')\n",
    "train_data = pickle.load(train_file)\n",
    "p_train, x_train, u_train, y_train, z_train, cost_train, times_train = train_data\n",
    "train_file.close()\n",
    "\n",
    "##load test data\n",
    "test_file = open(dataset_fn + '/test_horizon_{}.p'.format(N), 'rb')\n",
    "# test_file = open(dataset_fn+'/test.p','rb')\n",
    "# p_test, x_test, u_test, y_test, c_test, times_test = pickle.load(test_file)\n",
    "test_data = pickle.load(test_file)\n",
    "p_test, x_test, u_test, y_test, z_test, cost_test, times_test = test_data\n",
    "test_file.close()"
   ],
   "metadata": {
    "collapsed": false,
    "pycharm": {
     "name": "#%%\n"
    }
   },
   "execution_count": 67,
   "outputs": []
  },
  {
   "cell_type": "markdown",
   "source": [
    "### Load&set netwrok"
   ],
   "metadata": {
    "collapsed": false,
    "pycharm": {
     "name": "#%% md\n"
    }
   }
  },
  {
   "cell_type": "code",
   "execution_count": 68,
   "outputs": [
    {
     "name": "stdout",
     "output_type": "stream",
     "text": [
      "Find number of strategires: 707\n",
      "Loading presaved classifier model from ..\\models/MPC_horizon_8_obs_5.pt\n"
     ]
    },
    {
     "data": {
      "text/plain": "True"
     },
     "execution_count": 68,
     "metadata": {},
     "output_type": "execute_result"
    }
   ],
   "source": [
    "from solvers.OMISTL import OMISTL\n",
    "\n",
    "system = 'MPC'\n",
    "prob_features = ['x0','xg','obstacles']\n",
    "# prob_features = ['x0','xg','obstacles_map']\n",
    "relative_path = os.getcwd()\n",
    "config_fn = os.path.join(relative_path, 'config', dataset_name+'.p')\n",
    "config_file = open(config_fn,'rb')\n",
    "config=pickle.load(config_file)\n",
    "prob = MPC(config=config_fn)\n",
    "\n",
    "MPC_obj = OMISTL(system, prob, prob_features)\n",
    "\n",
    "n_features = 2*prob.n*(len(prob_features)-1)+n_obs*4+n_obs\n",
    "\n",
    "MPC_obj.construct_strategies(n_features, train_data)\n",
    "print('Find number of strategires: '+ str(MPC_obj.n_strategies))\n",
    "\n",
    "MPC_obj.setup_network()\n",
    "fn_saved = '..\\models/MPC_horizon_{}_obs_{}.pt'.format(N,n_obs)\n",
    "MPC_obj.load_network(fn_saved)"
   ],
   "metadata": {
    "collapsed": false,
    "pycharm": {
     "name": "#%%\n"
    }
   }
  },
  {
   "cell_type": "markdown",
   "source": [
    "## Train model"
   ],
   "metadata": {
    "collapsed": false
   }
  },
  {
   "cell_type": "code",
   "execution_count": null,
   "outputs": [],
   "source": [
    "MPC_obj.training_params['TRAINING_ITERATIONS'] = 500\n",
    "MPC_obj.train(train_data=train_data, verbose=True)\n",
    "MPC_obj.model"
   ],
   "metadata": {
    "collapsed": false,
    "pycharm": {
     "name": "#%%\n",
     "is_executing": true
    }
   }
  },
  {
   "cell_type": "markdown",
   "source": [
    "### train model with different horizons"
   ],
   "metadata": {
    "collapsed": false,
    "pycharm": {
     "name": "#%% md\n"
    }
   }
  },
  {
   "cell_type": "code",
   "execution_count": 23,
   "outputs": [
    {
     "name": "stdout",
     "output_type": "stream",
     "text": [
      "nubmber of strategies:241\n",
      "n_obs: 10\n",
      "N: 6\n",
      "Loading presaved classifier model from ..\\models\\MPC_horizon_6_obs_10.pt\n",
      "model already exist\n"
     ]
    }
   ],
   "source": [
    "# train(N,n_obs)"
   ],
   "metadata": {
    "collapsed": false,
    "pycharm": {
     "name": "#%%\n"
    }
   }
  },
  {
   "cell_type": "markdown",
   "source": [
    "### Set problem and test dataset"
   ],
   "metadata": {
    "collapsed": false,
    "pycharm": {
     "name": "#%% md\n"
    }
   }
  },
  {
   "cell_type": "code",
   "source": [
    "velmin = -0.2\n",
    "velmax = 0.2\n",
    "posmin = np.zeros(2)\n",
    "\n",
    "ft2m = 0.3048\n",
    "posmax = ft2m*np.array([12.,9.])\n",
    "max_box_size = 0.75\n",
    "min_box_size = 0.25\n",
    "box_buffer = 0.025\n",
    "border_size = 0.05\n",
    "\n",
    "obstacles = config[-1]\n",
    "# obstacles = \\\n",
    "#         random_obs(n_obs, posmin, posmax, border_size, box_buffer, min_box_size, max_box_size)"
   ],
   "metadata": {
    "colab": {
     "base_uri": "https://localhost:8080/"
    },
    "id": "VgGP6wbR_X2-",
    "executionInfo": {
     "status": "ok",
     "timestamp": 1658327090733,
     "user_tz": -120,
     "elapsed": 216,
     "user": {
      "displayName": "Qi Yi",
      "userId": "03240543293609466208"
     }
    },
    "outputId": "8fb2d256-3054-4b8f-ea61-58abe21dcad8"
   },
   "execution_count": 123,
   "outputs": []
  },
  {
   "cell_type": "markdown",
   "source": [
    "## Calculating shortest path using network"
   ],
   "metadata": {
    "collapsed": false,
    "pycharm": {
     "name": "#%% md\n"
    }
   }
  },
  {
   "cell_type": "code",
   "execution_count": 124,
   "outputs": [
    {
     "name": "stdout",
     "output_type": "stream",
     "text": [
      "Machine learning solve time (red points) : 0.015621185302734375\n",
      "Gurobi solve time (blue points): 0.140625\n"
     ]
    }
   ],
   "source": [
    "prob_success = False\n",
    "prob = MPC(config=config_fn)\n",
    "## set initial position and final position\n",
    "x0 = [3.5,1.75,0,0]\n",
    "xg = [2,2.5,0,0]\n",
    "# x0 = findIC(obstacles, posmin=posmin, posmax=posmax, velmin=velmin, velmax=velmax)\n",
    "# xg = findIC(obstacles, posmin=posmin, posmax=posmax, velmin=velmin, velmax=velmax)\n",
    "\n",
    "##\n",
    "while not prob_success:\n",
    "    prob_params = {}\n",
    "    prob_params['obstacles'] =  np.reshape(np.concatenate(obstacles, axis=0), (n_obs,4)).T\n",
    "    prob_params['x0'] = x0\n",
    "    prob_params['xg'] = xg\n",
    "    prob_success, cost, total_time, n_evals, optvals,y_guess = MPC_obj.forward(prob_params, solver=cp.GUROBI, max_evals=10)\n",
    "    if prob_success:\n",
    "        Xopt = optvals[0]\n",
    "\n",
    "_, _, solvetime_g, optvals_g = prob.solve_stl(prob_params, solver=cp.GUROBI)\n",
    "# _, _, solvetime_m, optvals_g = prob.solve_stl(prob_params, solver=cp.MOSEK)\n",
    "\n",
    "print('Machine learning solve time (red points) : '+ str(total_time))\n",
    "print('Gurobi solve time (blue points): '+ str(solvetime_g))\n",
    "# print('MOSEK solve time: '+ str(solvetime_m))"
   ],
   "metadata": {
    "collapsed": false,
    "pycharm": {
     "name": "#%%\n"
    }
   }
  },
  {
   "cell_type": "markdown",
   "source": [
    "## Plot"
   ],
   "metadata": {
    "collapsed": false,
    "pycharm": {
     "name": "#%% md\n"
    }
   }
  },
  {
   "cell_type": "code",
   "execution_count": 125,
   "outputs": [
    {
     "data": {
      "text/plain": "<Figure size 432x288 with 1 Axes>",
      "image/png": "[encoded data removed]"
     },
     "metadata": {},
     "output_type": "display_data"
    }
   ],
   "source": [
    "plot_route.plot(optvals,prob_params,N,n_obs)"
   ],
   "metadata": {
    "collapsed": false,
    "pycharm": {
     "name": "#%%\n"
    }
   }
  },
  {
   "cell_type": "markdown",
   "source": [
    "## MPC control"
   ],
   "metadata": {
    "collapsed": false
   }
  },
  {
   "cell_type": "markdown",
   "source": [
    "### Set initial point and reference point"
   ],
   "metadata": {
    "collapsed": false,
    "pycharm": {
     "name": "#%% md\n"
    }
   }
  },
  {
   "cell_type": "code",
   "execution_count": 151,
   "outputs": [
    {
     "data": {
      "text/plain": "[[0.6, 2.3, 0, 0], [3.5, 2.2, 0, 0], [3, 1, 0, 0]]"
     },
     "execution_count": 151,
     "metadata": {},
     "output_type": "execute_result"
    }
   ],
   "source": [
    "## set initial points and reference points\n",
    "ref_list = []\n",
    "num_ref = 3\n",
    "x0 = [0.5,0.5,0,0]\n",
    "\n",
    "#use default reference points\n",
    "ref_1 = [0.6,2.3,0,0]\n",
    "ref_list.append(ref_1)\n",
    "ref_2 = [3.5,2.2,0,0]\n",
    "ref_list.append(ref_2)\n",
    "ref_3 = [3,1,0,0]\n",
    "ref_list.append(ref_3)\n",
    "\n",
    "# or generate reference points use different random seeds\n",
    "# seed = 2\n",
    "# for i in range(num_ref):\n",
    "#     ref = list(findIC(obstacles, posmin=posmin, posmax=posmax, velmin=velmin, velmax=velmax, seed =i+seed))\n",
    "#     ref[2]=0\n",
    "#     ref[3]=0\n",
    "#     ref_list.append(ref)\n",
    "ref_list"
   ],
   "metadata": {
    "collapsed": false,
    "pycharm": {
     "name": "#%%\n"
    }
   }
  },
  {
   "cell_type": "code",
   "execution_count": null,
   "outputs": [],
   "source": [
    "mpc_time = 600\n",
    "prob = MPC(config=config_fn)\n",
    "\n",
    "Xopt,Uopt,Yopt,T_total = MPC_controller(x0,ref_list,prob=prob,MPC_obj=MPC_obj,T=mpc_time)"
   ],
   "metadata": {
    "collapsed": false,
    "pycharm": {
     "name": "#%%\n",
     "is_executing": true
    }
   }
  },
  {
   "cell_type": "code",
   "execution_count": 153,
   "outputs": [
    {
     "data": {
      "text/plain": "<Figure size 432x288 with 1 Axes>",
      "image/png": "[encoded data removed]"
     },
     "metadata": {},
     "output_type": "display_data"
    }
   ],
   "source": [
    "plot_route.plot_MPC(Xopt,ref_list,prob_params,N,n_obs)"
   ],
   "metadata": {
    "collapsed": false,
    "pycharm": {
     "name": "#%%\n"
    }
   }
  },
  {
   "cell_type": "code",
   "execution_count": 154,
   "outputs": [
    {
     "name": "stdout",
     "output_type": "stream",
     "text": [
      "total solving time for 600 steps is 3.2967357635498047\n",
      "avarage solving time at each step is 0.005494559605916341\n"
     ]
    }
   ],
   "source": [
    "print('total solving time for {} steps is '.format(mpc_time) +str(T_total))\n",
    "print('avarage solving time at each step is ' +str(T_total/mpc_time))"
   ],
   "metadata": {
    "collapsed": false,
    "pycharm": {
     "name": "#%%\n"
    }
   }
  },
  {
   "cell_type": "code",
   "execution_count": null,
   "outputs": [],
   "source": [],
   "metadata": {
    "collapsed": false,
    "pycharm": {
     "name": "#%%\n"
    }
   }
  }
 ]
}