{
 "nbformat": 4,
 "nbformat_minor": 0,
 "metadata": {
  "colab": {
   "name": "test_shortestpath.ipynb",
   "provenance": [],
   "authorship_tag": "ABX9TyOtRSeDtZbei9JgzmnCBc02"
  },
  "kernelspec": {
   "name": "python3",
   "display_name": "Python 3"
  },
  "language_info": {
   "name": "python"
  },
  "accelerator": "GPU",
  "gpuClass": "standard"
 },
 "cells": [
  {
   "cell_type": "code",
   "source": [
    "%load_ext autoreload\n",
    "%autoreload 2\n",
    "\n",
    "import matplotlib.pyplot as plt\n",
    "%matplotlib inline\n",
    "\n",
    "import torch\n",
    "from torch.autograd import Variable\n",
    "import numpy as np\n",
    "\n",
    "import cvxpy as cp\n",
    "import MPC_prob\n",
    "from utils import *\n",
    "import pickle, os\n",
    "from MPC_prob import MPC\n",
    "\n",
    "from tqdm import tqdm\n",
    "from para import paraset\n",
    "os.environ['KMP_DUPLICATE_LIB_OK'] = 'True'"
   ],
   "metadata": {
    "id": "73M8ow_96uHi",
    "executionInfo": {
     "status": "ok",
     "timestamp": 1658326900014,
     "user_tz": -120,
     "elapsed": 3774,
     "user": {
      "displayName": "Qi Yi",
      "userId": "03240543293609466208"
     }
    }
   },
   "execution_count": 1,
   "outputs": [
    {
     "name": "stderr",
     "output_type": "stream",
     "text": [
      "C:\\Users\\msi\\anaconda3\\envs\\coco\\lib\\site-packages\\numpy\\_distributor_init.py:32: UserWarning: loaded more than 1 DLL from .libs:\n",
      "C:\\Users\\msi\\anaconda3\\envs\\coco\\lib\\site-packages\\numpy\\.libs\\libopenblas.PYQHXLVVQ7VESDPUVUADXEVJOBGHJPAY.gfortran-win_amd64.dll\n",
      "C:\\Users\\msi\\anaconda3\\envs\\coco\\lib\\site-packages\\numpy\\.libs\\libopenblas.WCDJNK7YVMPZQ2ME2ZZHJJRJ3JIKNDB7.gfortran-win_amd64.dll\n",
      "  stacklevel=1)\n"
     ]
    }
   ]
  },
  {
   "cell_type": "markdown",
   "source": [
    "## Set prob parameters and save at MPC.config"
   ],
   "metadata": {
    "collapsed": false,
    "pycharm": {
     "name": "#%% md\n"
    }
   }
  },
  {
   "cell_type": "code",
   "source": [
    "N = 8\n",
    "paraset(N=N,n_obs=5,Qs=1,Rs=0,num_probs=40000)"
   ],
   "metadata": {
    "id": "mFBWCqc17cSJ",
    "executionInfo": {
     "status": "ok",
     "timestamp": 1658325950392,
     "user_tz": -120,
     "elapsed": 416,
     "user": {
      "displayName": "Qi Yi",
      "userId": "03240543293609466208"
     }
    }
   },
   "execution_count": 40,
   "outputs": []
  },
  {
   "cell_type": "markdown",
   "source": [
    "## Solve MICP problems to get samlpings for training"
   ],
   "metadata": {
    "collapsed": false,
    "pycharm": {
     "name": "#%% md\n"
    }
   }
  },
  {
   "cell_type": "code",
   "source": [
    "# #pass the value from config to dict and para\n",
    "# relative_path = os.getcwd()\n",
    "# dataset_name = 'STL_horizon_{}'.format(N)\n",
    "# # dataset_name = 'NSTL_{}_horizon_{}'.format(Qs, N)\n",
    "# config_fn = os.path.join(relative_path, 'config', dataset_name+'.p')\n",
    "#\n",
    "# # config = [dataset_name, [prob_params] ,sampled_params]\n",
    "# outfile = open(config_fn,\"rb\")\n",
    "# config=pickle.load(outfile)\n",
    "# outfile.close()\n",
    "#\n",
    "# train_fn = 'train_horizon_{}.p'.format(N)\n",
    "# train_fn = os.path.join(relative_path, 'data', dataset_name, train_fn)\n",
    "# test_fn = 'test_horizon_{}.p'.format(N)\n",
    "# test_fn = os.path.join(relative_path, 'data', dataset_name, test_fn)\n",
    "#\n",
    "# all_params = ['N', 'Ak', 'Bk', 'Q', 'R', 'n_obs', \\\n",
    "#             'posmin', 'posmax', 'velmin', 'velmax', \\\n",
    "#             'umin', 'umax']\n",
    "#\n",
    "# param_dict={}\n",
    "# i=0\n",
    "# len_para = len(all_params)\n",
    "# for param in all_params:\n",
    "#     param_dict[param]= config[1][i]\n",
    "#     i+=1\n",
    "#     if i == len_para:\n",
    "#         break\n",
    "#\n",
    "# N = param_dict['N']\n",
    "# Ak = param_dict['Ak']\n",
    "# Bk = param_dict['Bk']\n",
    "# Q = param_dict['Q']\n",
    "# R = param_dict['R']\n",
    "# n_obs = param_dict['n_obs']\n",
    "# umin = param_dict['umin']\n",
    "# umax = param_dict['umax']\n",
    "# sampled_params = config[2]\n",
    "# n_obs = config[3]\n",
    "# num_probs = config[4]\n",
    "# border_size = config[5]\n",
    "# box_buffer = config[6]\n",
    "# min_box_size = config[7]\n",
    "# max_box_size = config[8]\n",
    "# posmin = config[9]\n",
    "# posmax = config[10]\n",
    "# velmin = config[11]\n",
    "# velmax = config[12]\n",
    "# n = config[13]\n",
    "# m= config[14]\n",
    "#\n",
    "# obs_fix = config[15]\n",
    "# xg_fix = config[16]\n",
    "# if obs_fix:\n",
    "#     obstacles = config[-1]\n",
    "#\n",
    "# config_fn = os.path.join(relative_path, 'config', dataset_name+'.p')#\n",
    "#\n",
    "# prob = MPC(config=config_fn)\n",
    "# #create numpy containers for data: (params, x, u, y, J*, solve_time)\n",
    "# params = {}\n",
    "# if 'x0' in sampled_params:\n",
    "#     params['x0'] = np.zeros((num_probs,2*n))\n",
    "# if 'xg' in sampled_params:\n",
    "#     params['xg'] = np.zeros((num_probs,2*n))\n",
    "# if 'obstacles' in sampled_params:\n",
    "#     params['obstacles'] = np.zeros((num_probs, 4, n_obs))\n",
    "#\n",
    "# X = np.zeros((num_probs, 2*n, N));\n",
    "# U = np.zeros((num_probs, m, N-1))\n",
    "# Y = np.zeros((num_probs, 4*n_obs, N-1)).astype(int)\n",
    "# Z = np.zeros((num_probs, 2*n_obs, N-1)).astype(int)\n",
    "#\n",
    "# costs = np.zeros(num_probs)\n",
    "# solve_times = np.zeros(num_probs)\n",
    "#\n",
    "# prob.sampled_params = ['x0', 'xg', 'obstacles']\n",
    "#\n",
    "# #solving MICP\n",
    "# ii_toggle = 0\n",
    "# obs_new_ct = 5\n",
    "# ii=0\n",
    "# obstacles = config[-1]\n",
    "#\n",
    "# if obs_fix:\n",
    "#     for ii in tqdm(range(num_probs)):\n",
    "#         x0 = findIC(obstacles, posmin, posmax, velmin, velmax)\n",
    "#         params['obstacles'][ii,:] = np.reshape(np.concatenate(obstacles, axis=0), (n_obs,4)).T\n",
    "#         p_dict = {}\n",
    "#         params['x0'][ii,:] = x0\n",
    "#         xg= findIC(obstacles, posmin, posmax, velmin, velmax)\n",
    "#         params['xg'][ii,:] = xg\n",
    "#\n",
    "#         p_dict['x0'] = params['x0'][ii,:]\n",
    "#         p_dict['xg'] = params['xg'][ii,:]\n",
    "#         p_dict['obstacles'] = params['obstacles'][ii,:]\n",
    "#\n",
    "#         prob_success = False\n",
    "#         try:\n",
    "#             # with time_limit(20):\n",
    "#             prob_success, cost, solve_time, optvals = prob.solve_stl(p_dict, solver=cp.GUROBI)\n",
    "#         except (KeyboardInterrupt, SystemExit):\n",
    "#             raise\n",
    "#         except:\n",
    "#             print('solver failed at '.format(ii))\n",
    "#\n",
    "#         if prob_success:\n",
    "#             costs[ii] = cost; solve_times[ii] = solve_time\n",
    "#             X[ii,:,:], U[ii,:,:], Y[ii,:,:], Z[ii,:,:] = optvals\n",
    "#             ii += 1\n",
    "# else:\n",
    "#     print('choose to fix obstalce')\n",
    "#\n",
    "#\n",
    "# ## shuffle the data because of the spatial orders\n",
    "# num_train = int(num_probs*0.9)\n",
    "# arr = np.arange(num_probs)\n",
    "# np.random.shuffle(arr)\n",
    "#\n",
    "# if 'x0' in sampled_params:\n",
    "#     params['x0'] = params['x0'][arr]\n",
    "# if 'xg' in sampled_params:\n",
    "#     params['xg'] = params['xg'][arr]\n",
    "# if 'obstacles' in sampled_params:\n",
    "#     params['obstacles'] = params['obstacles'][arr]\n",
    "#\n",
    "# costs = costs[arr]\n",
    "# solve_times = solve_times[arr]\n",
    "#\n",
    "#\n",
    "# X = X[arr]\n",
    "# U = U[arr]\n",
    "# Y = Y[arr]\n",
    "# Z = Z[arr]\n",
    "#\n",
    "# train_params = {}; test_params = {}\n",
    "# if 'x0' in sampled_params:\n",
    "#     train_params['x0'] = params['x0'][:num_train,:]\n",
    "#     test_params['x0'] = params['x0'][num_train:,:]\n",
    "# if 'obstacles' in sampled_params:\n",
    "#     train_params['obstacles'] = params['obstacles'][:num_train,:]\n",
    "#     test_params['obstacles'] = params['obstacles'][num_train:,:]\n",
    "# if 'xg' in sampled_params:\n",
    "#     train_params['xg'] = params['xg'][:num_train,:]\n",
    "#     test_params['xg'] = params['xg'][num_train:,:]\n",
    "#\n",
    "# train_data = [train_params]\n",
    "# train_data += [X[:num_train,:,:], U[:num_train,:,:], Y[:num_train,:,:],Z[:num_train,:,:]]\n",
    "# train_data += [costs[:num_train], solve_times[:num_train]]\n",
    "#\n",
    "# test_data = [test_params]\n",
    "# test_data += [X[num_train:,:,:], U[num_train:,:,:], Y[num_train:,:,:], Z[:num_train,:,:]]\n",
    "# test_data += [costs[num_train:], solve_times[num_train:]]\n",
    "#\n",
    "# train_file = open(train_fn,'wb')\n",
    "# pickle.dump(train_data,train_file); train_file.close()\n",
    "#\n",
    "# test_file = open(test_fn, 'wb')\n",
    "# pickle.dump(test_data,test_file); test_file.close()"
   ],
   "metadata": {
    "collapsed": false,
    "pycharm": {
     "name": "#%%\n"
    }
   },
   "execution_count": 41,
   "outputs": []
  },
  {
   "cell_type": "markdown",
   "source": [
    "## Load train/test data"
   ],
   "metadata": {
    "collapsed": false,
    "pycharm": {
     "name": "#%% md\n"
    }
   }
  },
  {
   "cell_type": "code",
   "execution_count": 50,
   "metadata": {
    "id": "ksxcICv-6pgC",
    "executionInfo": {
     "status": "ok",
     "timestamp": 1658326910315,
     "user_tz": -120,
     "elapsed": 655,
     "user": {
      "displayName": "Qi Yi",
      "userId": "03240543293609466208"
     }
    }
   },
   "outputs": [],
   "source": [
    "#load train/test data\n",
    "n_obs= 5\n",
    "\n",
    "dataset_name = 'MPC_horizon_{}'.format(N)\n",
    "# dataset_name = 'NSTL_{}_horizon_{}'.format(Qs, N)\n",
    "# dataset_name = 'Fo_Mxg_Q_{}_horizon_{}'.format(Qs, N)\n",
    "# dataset_name = 'default_horizon_{}'.format(N)\n",
    "# dataset_name = 'obs_fix_{}'.format(N)\n",
    "# dataset_name = 'default'\n",
    "\n",
    "#加载设置文件地址，config = [dataset_name, prob_params, sampled_params]#\n",
    "relative_path = os.getcwd()\n",
    "config_fn = os.path.join(relative_path, 'config', dataset_name+'.p')\n",
    "\n",
    "config_file = open(config_fn,'rb')\n",
    "config=pickle.load(config_file)\n",
    "\n",
    "dataset_name =  config[0]\n",
    "prob_params = config[1]\n",
    "sampled_params = config[2]\n",
    "config_file.close()"
   ]
  },
  {
   "cell_type": "markdown",
   "source": [
    "## Set problem according to the config file"
   ],
   "metadata": {
    "collapsed": false,
    "pycharm": {
     "name": "#%% md\n"
    }
   }
  },
  {
   "cell_type": "code",
   "source": [
    "prob = MPC(config=config_fn)\n",
    "\n",
    "relative_path = os.getcwd()\n",
    "dataset_fn = relative_path + '/data/' + dataset_name\n",
    "\n",
    "##load train data\n",
    "train_file = open(dataset_fn+'/train_horizon_{}.p'.format(N),'rb')\n",
    "# train_file = open(dataset_fn+'/train.p','rb')\n",
    "train_data = pickle.load(train_file)\n",
    "p_train, x_train, u_train, y_train, z_train, c_train, times_train = train_data\n",
    "train_file.close()\n",
    "\n",
    "\n",
    "x_train = train_data[1] #X sequence\n",
    "y_train = train_data[3] #Y sequence\n",
    "\n",
    "##load test data\n",
    "test_file = open(dataset_fn+'/test_horizon_{}.p'.format(N),'rb')\n",
    "# test_file = open(dataset_fn+'/test.p','rb')\n",
    "# p_test, x_test, u_test, y_test, c_test, times_test = pickle.load(test_file)\n",
    "test_data = pickle.load(test_file)\n",
    "p_test, x_test, u_test, y_test,z_test,c_test, times_test = test_data\n",
    "test_file.close()"
   ],
   "metadata": {
    "id": "fdpxLz-E7Qa5",
    "executionInfo": {
     "status": "ok",
     "timestamp": 1658326915774,
     "user_tz": -120,
     "elapsed": 2903,
     "user": {
      "displayName": "Qi Yi",
      "userId": "03240543293609466208"
     }
    }
   },
   "execution_count": 47,
   "outputs": []
  },
  {
   "cell_type": "code",
   "execution_count": 49,
   "outputs": [
    {
     "data": {
      "text/plain": "{'x0': array([[ 2.48443631,  1.36530813, -0.11152889, -0.10973501],\n        [ 0.61755351,  2.07718279, -0.06944531, -0.05686297],\n        [ 0.48270683,  0.45098252, -0.0465863 , -0.17974393],\n        ...,\n        [ 2.94255472,  1.53853473,  0.16096439, -0.0062381 ],\n        [ 0.87484378,  0.87330324, -0.09792684, -0.17295411],\n        [ 1.82358681,  1.74466655,  0.011086  ,  0.15981823]]),\n 'obstacles': array([[[1.25, 1.25, 0.3 , 2.5 , 2.9 ],\n         [2.  , 1.75, 0.8 , 3.25, 3.25],\n         [1.2 , 0.2 , 1.5 , 1.6 , 2.  ],\n         [1.5 , 1.  , 2.  , 2.  , 2.25]],\n \n        [[1.25, 1.25, 0.3 , 2.5 , 2.9 ],\n         [2.  , 1.75, 0.8 , 3.25, 3.25],\n         [1.2 , 0.2 , 1.5 , 1.6 , 2.  ],\n         [1.5 , 1.  , 2.  , 2.  , 2.25]],\n \n        [[1.25, 1.25, 0.3 , 2.5 , 2.9 ],\n         [2.  , 1.75, 0.8 , 3.25, 3.25],\n         [1.2 , 0.2 , 1.5 , 1.6 , 2.  ],\n         [1.5 , 1.  , 2.  , 2.  , 2.25]],\n \n        ...,\n \n        [[1.25, 1.25, 0.3 , 2.5 , 2.9 ],\n         [2.  , 1.75, 0.8 , 3.25, 3.25],\n         [1.2 , 0.2 , 1.5 , 1.6 , 2.  ],\n         [1.5 , 1.  , 2.  , 2.  , 2.25]],\n \n        [[1.25, 1.25, 0.3 , 2.5 , 2.9 ],\n         [2.  , 1.75, 0.8 , 3.25, 3.25],\n         [1.2 , 0.2 , 1.5 , 1.6 , 2.  ],\n         [1.5 , 1.  , 2.  , 2.  , 2.25]],\n \n        [[1.25, 1.25, 0.3 , 2.5 , 2.9 ],\n         [2.  , 1.75, 0.8 , 3.25, 3.25],\n         [1.2 , 0.2 , 1.5 , 1.6 , 2.  ],\n         [1.5 , 1.  , 2.  , 2.  , 2.25]]]),\n 'xg': array([[ 3.1577349 ,  2.69369316, -0.05842923, -0.05165772],\n        [ 0.180182  ,  1.28552428,  0.13538148, -0.14059927],\n        [ 2.17593788,  0.63031606, -0.09179163,  0.1550811 ],\n        ...,\n        [ 1.84038193,  0.43234396, -0.15183323, -0.13004401],\n        [ 0.36555927,  0.2944686 ,  0.06926536, -0.14231499],\n        [ 0.83763913,  0.51579575, -0.1264697 , -0.10413506]])}"
     },
     "execution_count": 49,
     "metadata": {},
     "output_type": "execute_result"
    }
   ],
   "source": [
    "train_data[0]"
   ],
   "metadata": {
    "collapsed": false,
    "pycharm": {
     "name": "#%%\n"
    }
   }
  },
  {
   "cell_type": "markdown",
   "source": [
    "### Load netwrok"
   ],
   "metadata": {
    "collapsed": false,
    "pycharm": {
     "name": "#%% md\n"
    }
   }
  },
  {
   "cell_type": "code",
   "execution_count": 45,
   "outputs": [
    {
     "name": "stdout",
     "output_type": "stream",
     "text": [
      "Find number of strategires: 707\n",
      "Loading presaved classifier model from ..\\models/MPC_horizon_8.pt\n"
     ]
    }
   ],
   "source": [
    "from solvers.OMISTL import OMISTL\n",
    "\n",
    "system = 'MPC'\n",
    "prob_features = ['x0','xg','obstacles']\n",
    "# prob_features = ['x0','xg','obstacles_map']\n",
    "\n",
    "MPC_obj = OMISTL(system, prob, prob_features)\n",
    "\n",
    "n_features = 33\n",
    "MPC_obj.construct_strategies(n_features, train_data)\n",
    "print('Find number of strategires: '+ str(MPC_obj.n_strategies))\n",
    "\n",
    "MPC_obj.setup_network()\n",
    "fn_saved = '..\\models/MPC_horizon_{}.pt'.format(N)\n",
    "\n",
    "MPC_obj.load_network(fn_saved)"
   ],
   "metadata": {
    "collapsed": false,
    "pycharm": {
     "name": "#%%\n"
    }
   }
  },
  {
   "cell_type": "markdown",
   "source": [
    "## Train model"
   ],
   "metadata": {
    "collapsed": false
   }
  },
  {
   "cell_type": "code",
   "execution_count": 6,
   "outputs": [
    {
     "ename": "NameError",
     "evalue": "name 'MPC_obj' is not defined",
     "output_type": "error",
     "traceback": [
      "\u001B[1;31m---------------------------------------------------------------------------\u001B[0m",
      "\u001B[1;31mNameError\u001B[0m                                 Traceback (most recent call last)",
      "\u001B[1;32m<ipython-input-6-c20e3be8ed5f>\u001B[0m in \u001B[0;36m<module>\u001B[1;34m\u001B[0m\n\u001B[1;32m----> 1\u001B[1;33m \u001B[0mMPC_obj\u001B[0m\u001B[1;33m.\u001B[0m\u001B[0mtraining_params\u001B[0m\u001B[1;33m[\u001B[0m\u001B[1;34m'TRAINING_ITERATIONS'\u001B[0m\u001B[1;33m]\u001B[0m \u001B[1;33m=\u001B[0m \u001B[1;36m500\u001B[0m\u001B[1;33m\u001B[0m\u001B[1;33m\u001B[0m\u001B[0m\n\u001B[0m\u001B[0;32m      2\u001B[0m \u001B[0mMPC_obj\u001B[0m\u001B[1;33m.\u001B[0m\u001B[0mtrain\u001B[0m\u001B[1;33m(\u001B[0m\u001B[0mtrain_data\u001B[0m\u001B[1;33m=\u001B[0m\u001B[0mtrain_data\u001B[0m\u001B[1;33m,\u001B[0m \u001B[0mverbose\u001B[0m\u001B[1;33m=\u001B[0m\u001B[1;32mTrue\u001B[0m\u001B[1;33m)\u001B[0m\u001B[1;33m\u001B[0m\u001B[1;33m\u001B[0m\u001B[0m\n\u001B[0;32m      3\u001B[0m \u001B[0mMPC_obj\u001B[0m\u001B[1;33m.\u001B[0m\u001B[0mmodel\u001B[0m\u001B[1;33m\u001B[0m\u001B[1;33m\u001B[0m\u001B[0m\n",
      "\u001B[1;31mNameError\u001B[0m: name 'MPC_obj' is not defined"
     ]
    }
   ],
   "source": [
    "MPC_obj.training_params['TRAINING_ITERATIONS'] = 500\n",
    "MPC_obj.train(train_data=train_data, verbose=True)\n",
    "MPC_obj.model"
   ],
   "metadata": {
    "collapsed": false,
    "pycharm": {
     "name": "#%%\n"
    }
   }
  },
  {
   "cell_type": "markdown",
   "source": [
    "### train model with different horizons"
   ],
   "metadata": {
    "collapsed": false,
    "pycharm": {
     "name": "#%% md\n"
    }
   }
  },
  {
   "cell_type": "code",
   "execution_count": null,
   "outputs": [],
   "source": [
    "# def train_horizon_N(N, device_id=0):\n",
    "#     relative_path = os.getcwd()\n",
    "#     config_fn = relative_path + '/config/STL_horizon_{}.p'.format(N)\n",
    "#     config_file = open(config_fn,'rb')\n",
    "#     config =  pickle.load(config_file)\n",
    "#     dataset_name = config[0]; config_file.close()\n",
    "#\n",
    "#     dataset_fn = relative_path + '/data/' + dataset_name\n",
    "#\n",
    "#     train_fn = os.path.join(dataset_fn, 'train_horizon_{}.p'.format(N))\n",
    "#     train_file = open(train_fn,'rb')\n",
    "#     train_data = pickle.load(train_file)\n",
    "#     train_file.close()\n",
    "#     x_train = train_data[1]\n",
    "#     y_train = train_data[3]\n",
    "#\n",
    "#     test_fn = os.path.join(dataset_fn, 'test_horizon_{}.p'.format(N))\n",
    "#     test_file = open(test_fn,'rb')\n",
    "#     test_data = pickle.load(test_file)\n",
    "#     p_test, x_test, u_test, y_test,z_test, c_test, times_test = test_data\n",
    "#     test_file.close()\n",
    "#\n",
    "#     n_test = x_test.shape[0]\n",
    "#\n",
    "#     system = 'free_flyer'\n",
    "#     prob_features = ['x0', 'xg', 'obstacles']\n",
    "#\n",
    "#     prob = MPC(config=config_fn)\n",
    "#     mlopt = OMISTL(system, prob, prob_features)\n",
    "#\n",
    "#     n_features = 33\n",
    "#     mlopt.construct_strategies(n_features, train_data)\n",
    "#\n",
    "#     print('Number of strategies for horizon {}: {}'.format(N, mlopt.n_strategies))\n",
    "#\n",
    "#     mlopt.setup_network(device_id=device_id)\n",
    "#     mlopt.training_params['TRAINING_ITERATIONS'] =500\n",
    "#     mlopt.train(train_data=train_data, verbose=True)\n",
    "# train_horizon_N(8)"
   ],
   "metadata": {
    "collapsed": false,
    "pycharm": {
     "name": "#%%\n"
    }
   }
  },
  {
   "cell_type": "markdown",
   "source": [
    "### Set problem and test dataset"
   ],
   "metadata": {
    "collapsed": false,
    "pycharm": {
     "name": "#%% md\n"
    }
   }
  },
  {
   "cell_type": "code",
   "source": [
    "velmin = -0.2\n",
    "velmax = 0.2\n",
    "posmin = np.zeros(2)\n",
    "\n",
    "ft2m = 0.3048\n",
    "posmax = ft2m*np.array([12.,9.])\n",
    "max_box_size = 0.75\n",
    "min_box_size = 0.25\n",
    "box_buffer = 0.025\n",
    "border_size = 0.05\n",
    "\n",
    "obstacles = config[-1]\n",
    "# obstacles = \\\n",
    "#         random_obs(n_obs, posmin, posmax, border_size, box_buffer, min_box_size, max_box_size)\n",
    "\n",
    "obstacles= config[-1]"
   ],
   "metadata": {
    "colab": {
     "base_uri": "https://localhost:8080/"
    },
    "id": "VgGP6wbR_X2-",
    "executionInfo": {
     "status": "ok",
     "timestamp": 1658327090733,
     "user_tz": -120,
     "elapsed": 216,
     "user": {
      "displayName": "Qi Yi",
      "userId": "03240543293609466208"
     }
    },
    "outputId": "8fb2d256-3054-4b8f-ea61-58abe21dcad8"
   },
   "execution_count": 10,
   "outputs": []
  },
  {
   "cell_type": "markdown",
   "source": [
    "## Calculating shortest path using network"
   ],
   "metadata": {
    "collapsed": false,
    "pycharm": {
     "name": "#%% md\n"
    }
   }
  },
  {
   "cell_type": "code",
   "execution_count": 12,
   "outputs": [
    {
     "ename": "NameError",
     "evalue": "name 'MPC_obj' is not defined",
     "output_type": "error",
     "traceback": [
      "\u001B[1;31m---------------------------------------------------------------------------\u001B[0m",
      "\u001B[1;31mNameError\u001B[0m                                 Traceback (most recent call last)",
      "\u001B[1;32m<ipython-input-12-f4d07bdcbec3>\u001B[0m in \u001B[0;36m<module>\u001B[1;34m\u001B[0m\n\u001B[0;32m     16\u001B[0m     \u001B[0mprob_params\u001B[0m\u001B[1;33m[\u001B[0m\u001B[1;34m'x0'\u001B[0m\u001B[1;33m]\u001B[0m \u001B[1;33m=\u001B[0m \u001B[0mx0\u001B[0m\u001B[1;33m\u001B[0m\u001B[1;33m\u001B[0m\u001B[0m\n\u001B[0;32m     17\u001B[0m     \u001B[0mprob_params\u001B[0m\u001B[1;33m[\u001B[0m\u001B[1;34m'xg'\u001B[0m\u001B[1;33m]\u001B[0m \u001B[1;33m=\u001B[0m \u001B[0mxg\u001B[0m\u001B[1;33m\u001B[0m\u001B[1;33m\u001B[0m\u001B[0m\n\u001B[1;32m---> 18\u001B[1;33m     \u001B[0mprob_success\u001B[0m\u001B[1;33m,\u001B[0m \u001B[0mcost\u001B[0m\u001B[1;33m,\u001B[0m \u001B[0mtotal_time\u001B[0m\u001B[1;33m,\u001B[0m \u001B[0mn_evals\u001B[0m\u001B[1;33m,\u001B[0m \u001B[0moptvals\u001B[0m\u001B[1;33m,\u001B[0m\u001B[0my_guess\u001B[0m \u001B[1;33m=\u001B[0m \u001B[0mMPC_obj\u001B[0m\u001B[1;33m.\u001B[0m\u001B[0mforward\u001B[0m\u001B[1;33m(\u001B[0m\u001B[0mprob_params\u001B[0m\u001B[1;33m,\u001B[0m \u001B[0msolver\u001B[0m\u001B[1;33m=\u001B[0m\u001B[0mcp\u001B[0m\u001B[1;33m.\u001B[0m\u001B[0mGUROBI\u001B[0m\u001B[1;33m,\u001B[0m \u001B[0mmax_evals\u001B[0m\u001B[1;33m=\u001B[0m\u001B[1;36m10\u001B[0m\u001B[1;33m)\u001B[0m\u001B[1;33m\u001B[0m\u001B[1;33m\u001B[0m\u001B[0m\n\u001B[0m\u001B[0;32m     19\u001B[0m     \u001B[1;32mif\u001B[0m \u001B[0mprob_success\u001B[0m\u001B[1;33m:\u001B[0m\u001B[1;33m\u001B[0m\u001B[1;33m\u001B[0m\u001B[0m\n\u001B[0;32m     20\u001B[0m         \u001B[0mXopt\u001B[0m \u001B[1;33m=\u001B[0m \u001B[0moptvals\u001B[0m\u001B[1;33m[\u001B[0m\u001B[1;36m0\u001B[0m\u001B[1;33m]\u001B[0m\u001B[1;33m\u001B[0m\u001B[1;33m\u001B[0m\u001B[0m\n",
      "\u001B[1;31mNameError\u001B[0m: name 'MPC_obj' is not defined"
     ]
    }
   ],
   "source": [
    "import time\n",
    "t0=time.time()\n",
    "prob_success = False\n",
    "\n",
    "## set initial position and final position\n",
    "x0 = [3.5,1.75,0,0]\n",
    "xg = [2,2.5,0,0]\n",
    "# x0 = findIC(obstacles, posmin=posmin, posmax=posmax, velmin=velmin, velmax=velmax)\n",
    "# xg = findIC(obstacles, posmin=posmin, posmax=posmax, velmin=velmin, velmax=velmax)\n",
    "\n",
    "\n",
    "##\n",
    "while not prob_success:\n",
    "    prob_params = {}\n",
    "    prob_params['obstacles'] =  np.reshape(np.concatenate(obstacles, axis=0), (n_obs,4)).T\n",
    "    prob_params['x0'] = x0\n",
    "    prob_params['xg'] = xg\n",
    "    prob_success, cost, total_time, n_evals, optvals,y_guess = MPC_obj.forward(prob_params, solver=cp.GUROBI, max_evals=10)\n",
    "    if prob_success:\n",
    "        Xopt = optvals[0]\n",
    "\n",
    "_, _, solvetime_g, optvals_g = prob.solve_stl(prob_params, solver=cp.GUROBI)\n",
    "_, _, solvetime_m, optvals_g = prob.solve_stl(prob_params, solver=cp.MOSEK)\n",
    "\n",
    "print('Machine learning solve time (red points) : '+ str(total_time))\n",
    "print('Gurobi solve time (blue points): '+ str(solvetime_g))\n",
    "print('MOSEK solve time: '+ str(solvetime_m))"
   ],
   "metadata": {
    "collapsed": false,
    "pycharm": {
     "name": "#%%\n"
    }
   }
  },
  {
   "cell_type": "code",
   "execution_count": 11,
   "outputs": [
    {
     "ename": "TypeError",
     "evalue": "list indices must be integers or slices, not str",
     "output_type": "error",
     "traceback": [
      "\u001B[1;31m---------------------------------------------------------------------------\u001B[0m",
      "\u001B[1;31mTypeError\u001B[0m                                 Traceback (most recent call last)",
      "\u001B[1;32m<ipython-input-11-b6b503a9a1af>\u001B[0m in \u001B[0;36m<module>\u001B[1;34m\u001B[0m\n\u001B[1;32m----> 1\u001B[1;33m \u001B[0m_\u001B[0m\u001B[1;33m,\u001B[0m \u001B[0m_\u001B[0m\u001B[1;33m,\u001B[0m \u001B[0msolvetime_g\u001B[0m\u001B[1;33m,\u001B[0m \u001B[0moptvals_g\u001B[0m \u001B[1;33m=\u001B[0m \u001B[0mprob\u001B[0m\u001B[1;33m.\u001B[0m\u001B[0msolve_stl\u001B[0m\u001B[1;33m(\u001B[0m\u001B[0mprob_params\u001B[0m\u001B[1;33m,\u001B[0m \u001B[0msolver\u001B[0m\u001B[1;33m=\u001B[0m\u001B[0mcp\u001B[0m\u001B[1;33m.\u001B[0m\u001B[0mGUROBI\u001B[0m\u001B[1;33m,\u001B[0m\u001B[0mverbose\u001B[0m\u001B[1;33m=\u001B[0m\u001B[1;32mTrue\u001B[0m\u001B[1;33m)\u001B[0m\u001B[1;33m\u001B[0m\u001B[1;33m\u001B[0m\u001B[0m\n\u001B[0m",
      "\u001B[1;32mD:\\Curious\\OMISTL\\MPC\\MPC_prob.py\u001B[0m in \u001B[0;36msolve_stl\u001B[1;34m(self, params, solver, msk_param_dict, verbose)\u001B[0m\n\u001B[0;32m    300\u001B[0m         \u001B[1;31m# set cvxpy parameters to their values\u001B[0m\u001B[1;33m\u001B[0m\u001B[1;33m\u001B[0m\u001B[1;33m\u001B[0m\u001B[0m\n\u001B[0;32m    301\u001B[0m         \u001B[1;32mfor\u001B[0m \u001B[0mp\u001B[0m \u001B[1;32min\u001B[0m \u001B[0mself\u001B[0m\u001B[1;33m.\u001B[0m\u001B[0msampled_params\u001B[0m\u001B[1;33m:\u001B[0m  \u001B[1;31m# 采样一个点的para, 每个para都传递给binprob来求解（bin中有x,u,y）#\u001B[0m\u001B[1;33m\u001B[0m\u001B[1;33m\u001B[0m\u001B[0m\n\u001B[1;32m--> 302\u001B[1;33m             \u001B[0mself\u001B[0m\u001B[1;33m.\u001B[0m\u001B[0mstl_prob_parameters\u001B[0m\u001B[1;33m[\u001B[0m\u001B[0mp\u001B[0m\u001B[1;33m]\u001B[0m\u001B[1;33m.\u001B[0m\u001B[0mvalue\u001B[0m \u001B[1;33m=\u001B[0m \u001B[0mparams\u001B[0m\u001B[1;33m[\u001B[0m\u001B[0mp\u001B[0m\u001B[1;33m]\u001B[0m\u001B[1;33m\u001B[0m\u001B[1;33m\u001B[0m\u001B[0m\n\u001B[0m\u001B[0;32m    303\u001B[0m \u001B[1;33m\u001B[0m\u001B[0m\n\u001B[0;32m    304\u001B[0m         \u001B[1;31m## TODO(pculbertson): allow different sets of params to vary.\u001B[0m\u001B[1;33m\u001B[0m\u001B[1;33m\u001B[0m\u001B[1;33m\u001B[0m\u001B[0m\n",
      "\u001B[1;31mTypeError\u001B[0m: list indices must be integers or slices, not str"
     ]
    }
   ],
   "source": [
    "_, _, solvetime_g, optvals_g = prob.solve_stl(prob_params, solver=cp.GUROBI,verbose=True)"
   ],
   "metadata": {
    "collapsed": false,
    "pycharm": {
     "name": "#%%\n"
    }
   }
  },
  {
   "cell_type": "markdown",
   "source": [
    "## Plot"
   ],
   "metadata": {
    "collapsed": false,
    "pycharm": {
     "name": "#%% md\n"
    }
   }
  },
  {
   "cell_type": "code",
   "execution_count": 28,
   "outputs": [
    {
     "data": {
      "text/plain": "<Figure size 432x288 with 1 Axes>",
      "image/png": "[encoded data removed]"
     },
     "metadata": {
      "needs_background": "light"
     },
     "output_type": "display_data"
    }
   ],
   "source": [
    "Xopt_g = optvals_g[0]\n",
    "\n",
    "obstacles = []\n",
    "for ii_obs in range(n_obs):\n",
    "    obs = prob_params['obstacles'][:,ii_obs]\n",
    "    obstacles.append(obs)\n",
    "\n",
    "if len(obstacles) is n_obs:\n",
    "    plt.axes()\n",
    "    for obstacle in obstacles:\n",
    "        rectangle = plt.Rectangle((obstacle[0], obstacle[2]), \\\n",
    "                                  obstacle[1]-obstacle[0], obstacle[3]-obstacle[2], \\\n",
    "                                 fc='white', ec='black')\n",
    "        plt.gca().add_patch(rectangle)\n",
    "        plt.axis('scaled')\n",
    "\n",
    "\n",
    "    xg = prob_params['xg']\n",
    "    x0 = prob_params['x0']\n",
    "    circle = plt.Circle((x0[0],x0[1]), 0.04, fc='blue',ec=\"blue\")\n",
    "    plt.gca().add_patch(circle)\n",
    "\n",
    "    #blue line is network prediction\n",
    "    plt.plot(xg[0],xg[1],'sr')\n",
    "    # plt.quiver(Xopt[0,:], Xopt[1,:], Xopt[2,:], Xopt[3,:])#plot using arrows\n",
    "    for jj in range(N):\n",
    "        circle = plt.Circle((Xopt[0,jj],Xopt[1,jj]), 0.02, fc='red',ec=\"red\")\n",
    "        plt.gca().add_patch(circle)\n",
    "\n",
    "    #red line is Gurobi\n",
    "    for jj in range(N):\n",
    "        circle = plt.Circle((Xopt_g[0,jj],Xopt_g[1,jj]), 0.02, fc='blue',ec=\"blue\")\n",
    "        plt.gca().add_patch(circle)\n",
    "\n",
    "    ax = plt.gca()\n",
    "    ax.margins(0)\n",
    "    ax.set(xlim=(posmin[0],posmax[0]), ylim=(posmin[1],posmax[1]))\n",
    "    plt.show()"
   ],
   "metadata": {
    "collapsed": false,
    "pycharm": {
     "name": "#%%\n"
    }
   }
  },
  {
   "cell_type": "code",
   "execution_count": null,
   "outputs": [],
   "source": [
    "_, _, solvetime_g, optvals_g = prob.solve_stl(prob_params, solver=cp.GUROBI)"
   ],
   "metadata": {
    "collapsed": false,
    "pycharm": {
     "name": "#%%\n"
    }
   }
  },
  {
   "cell_type": "markdown",
   "source": [
    "## MPC control for shortest path"
   ],
   "metadata": {
    "collapsed": false
   }
  },
  {
   "cell_type": "markdown",
   "source": [
    "### Set initial point and reference point"
   ],
   "metadata": {
    "collapsed": false,
    "pycharm": {
     "name": "#%% md\n"
    }
   }
  },
  {
   "cell_type": "code",
   "execution_count": 34,
   "outputs": [
    {
     "data": {
      "text/plain": "[[0.5, 2.5, 0, 0], [3.5, 2.5, 0, 0], [3, 1, 0, 0]]"
     },
     "execution_count": 34,
     "metadata": {},
     "output_type": "execute_result"
    }
   ],
   "source": [
    "## set initial points and reference points\n",
    "ref_list = []\n",
    "num_ref = 3\n",
    "x0 = [0.5,0.5,0,0]\n",
    "\n",
    "#use default reference points\n",
    "ref_1 = [0.5,2.5,0,0]\n",
    "ref_list.append(ref_1)\n",
    "ref_2 = [3.5,2.5,0,0]\n",
    "ref_list.append(ref_2)\n",
    "ref_3 = [3,1,0,0]\n",
    "ref_list.append(ref_3)\n",
    "\n",
    "# or generate reference points use different random seeds\n",
    "# seed = 2\n",
    "# for i in range(num_ref):\n",
    "#     ref = list(findIC(obstacles, posmin=posmin, posmax=posmax, velmin=velmin, velmax=velmax, seed =i+seed))\n",
    "#     ref[2]=0\n",
    "#     ref[3]=0\n",
    "#     ref_list.append(ref)\n",
    "ref_list"
   ],
   "metadata": {
    "collapsed": false,
    "pycharm": {
     "name": "#%%\n"
    }
   }
  },
  {
   "cell_type": "code",
   "execution_count": 35,
   "outputs": [
    {
     "name": "stdout",
     "output_type": "stream",
     "text": [
      "Found solution at t =  0. n_evals = 1\n",
      "Found solution at t =  1. n_evals = 1\n",
      "Found solution at t =  2. n_evals = 1\n",
      "Found solution at t =  3. n_evals = 2\n",
      "Found solution at t =  4. n_evals = 1\n",
      "Found solution at t =  5. n_evals = 1\n",
      "Found solution at t =  6. n_evals = 1\n",
      "Found solution at t =  7. n_evals = 1\n",
      "Found solution at t =  8. n_evals = 1\n",
      "Found solution at t =  9. n_evals = 1\n",
      "Found solution at t =  10. n_evals = 1\n",
      "Found solution at t =  11. n_evals = 1\n",
      "Found solution at t =  12. n_evals = 1\n",
      "Found solution at t =  13. n_evals = 1\n",
      "Found solution at t =  14. n_evals = 1\n",
      "Found solution at t =  15. n_evals = 1\n",
      "Found solution at t =  16. n_evals = 1\n",
      "Found solution at t =  17. n_evals = 1\n",
      "Found solution at t =  18. n_evals = 1\n",
      "Found solution at t =  19. n_evals = 1\n",
      "Found solution at t =  20. n_evals = 1\n",
      "Found solution at t =  21. n_evals = 1\n",
      "Found solution at t =  22. n_evals = 1\n",
      "Found solution at t =  23. n_evals = 1\n",
      "continue original path at t= 24\n",
      "continue original path at t= 25\n",
      "continue original path at t= 26\n",
      "continue original path at t= 27\n",
      "continue original path at t= 28\n",
      "continue original path at t= 29\n",
      "Found solution at t =  30. n_evals = 1\n",
      "continue original path at t= 31\n",
      "continue original path at t= 32\n",
      "continue original path at t= 33\n",
      "continue original path at t= 34\n",
      "continue original path at t= 35\n",
      "Found solution at t =  36. n_evals = 1\n",
      "Found solution at t =  37. n_evals = 1\n",
      "Found solution at t =  38. n_evals = 1\n",
      "Found solution at t =  39. n_evals = 1\n",
      "Found solution at t =  40. n_evals = 2\n",
      "Found solution at t =  41. n_evals = 1\n",
      "Found solution at t =  42. n_evals = 1\n",
      "solver failed\n",
      "continue original path at t= 43\n",
      "continue original path at t= 44\n",
      "Found solution at t =  45. n_evals = 1\n",
      "Found solution at t =  46. n_evals = 2\n",
      "Found solution at t =  47. n_evals = 1\n",
      "Found solution at t =  48. n_evals = 1\n",
      "Found solution at t =  49. n_evals = 1\n",
      "Found solution at t =  50. n_evals = 1\n",
      "Found solution at t =  51. n_evals = 1\n",
      "Found solution at t =  52. n_evals = 1\n",
      "Found solution at t =  53. n_evals = 1\n",
      "Found solution at t =  54. n_evals = 1\n",
      "Found solution at t =  55. n_evals = 1\n",
      "Found solution at t =  56. n_evals = 1\n",
      "Found solution at t =  57. n_evals = 1\n",
      "Found solution at t =  58. n_evals = 1\n",
      "Found solution at t =  59. n_evals = 1\n",
      "Found solution at t =  60. n_evals = 1\n",
      "Found solution at t =  61. n_evals = 1\n",
      "Found solution at t =  62. n_evals = 1\n",
      "Found solution at t =  63. n_evals = 1\n",
      "Found solution at t =  64. n_evals = 1\n",
      "Found solution at t =  65. n_evals = 1\n",
      "Found solution at t =  66. n_evals = 1\n",
      "Found solution at t =  67. n_evals = 1\n",
      "Found solution at t =  68. n_evals = 1\n",
      "Found solution at t =  69. n_evals = 1\n",
      "Found solution at t =  70. n_evals = 1\n",
      "Found solution at t =  71. n_evals = 1\n",
      "Found solution at t =  72. n_evals = 1\n",
      "Found solution at t =  73. n_evals = 1\n",
      "Found solution at t =  74. n_evals = 1\n",
      "Found solution at t =  75. n_evals = 1\n",
      "Found solution at t =  76. n_evals = 1\n",
      "Found solution at t =  77. n_evals = 1\n",
      "Found solution at t =  78. n_evals = 1\n",
      "Found solution at t =  79. n_evals = 1\n",
      "Found solution at t =  80. n_evals = 1\n",
      "Found solution at t =  81. n_evals = 1\n",
      "Found solution at t =  82. n_evals = 1\n",
      "Found solution at t =  83. n_evals = 1\n",
      "Found solution at t =  84. n_evals = 1\n",
      "Found solution at t =  85. n_evals = 1\n",
      "Found solution at t =  86. n_evals = 1\n",
      "Found solution at t =  87. n_evals = 1\n",
      "Found solution at t =  88. n_evals = 1\n",
      "Found solution at t =  89. n_evals = 1\n",
      "Found solution at t =  90. n_evals = 1\n",
      "Found solution at t =  91. n_evals = 1\n",
      "Found solution at t =  92. n_evals = 1\n",
      "Found solution at t =  93. n_evals = 1\n",
      "Found solution at t =  94. n_evals = 1\n",
      "Found solution at t =  95. n_evals = 1\n",
      "Found solution at t =  96. n_evals = 1\n",
      "Found solution at t =  97. n_evals = 1\n",
      "Found solution at t =  98. n_evals = 1\n",
      "Found solution at t =  99. n_evals = 1\n",
      "Found solution at t =  100. n_evals = 1\n",
      "Found solution at t =  101. n_evals = 1\n",
      "Found solution at t =  102. n_evals = 1\n",
      "Found solution at t =  103. n_evals = 1\n",
      "Found solution at t =  104. n_evals = 1\n",
      "Found solution at t =  105. n_evals = 1\n",
      "Found solution at t =  106. n_evals = 1\n",
      "Found solution at t =  107. n_evals = 1\n",
      "Found solution at t =  108. n_evals = 1\n",
      "Found solution at t =  109. n_evals = 1\n",
      "Found solution at t =  110. n_evals = 1\n",
      "Found solution at t =  111. n_evals = 1\n",
      "Found solution at t =  112. n_evals = 1\n",
      "Found solution at t =  113. n_evals = 1\n",
      "Found solution at t =  114. n_evals = 1\n",
      "Found solution at t =  115. n_evals = 1\n",
      "Found solution at t =  116. n_evals = 1\n",
      "Found solution at t =  117. n_evals = 1\n",
      "Found solution at t =  118. n_evals = 1\n",
      "Found solution at t =  119. n_evals = 1\n",
      "Found solution at t =  120. n_evals = 1\n",
      "Found solution at t =  121. n_evals = 1\n",
      "Found solution at t =  122. n_evals = 1\n",
      "Found solution at t =  123. n_evals = 1\n",
      "Found solution at t =  124. n_evals = 1\n",
      "Found solution at t =  125. n_evals = 1\n",
      "Found solution at t =  126. n_evals = 1\n",
      "Found solution at t =  127. n_evals = 1\n",
      "Found solution at t =  128. n_evals = 1\n",
      "Found solution at t =  129. n_evals = 1\n",
      "Found solution at t =  130. n_evals = 1\n",
      "Found solution at t =  131. n_evals = 1\n",
      "Found solution at t =  132. n_evals = 1\n",
      "Found solution at t =  133. n_evals = 1\n",
      "Found solution at t =  134. n_evals = 1\n",
      "Found solution at t =  135. n_evals = 1\n",
      "Found solution at t =  136. n_evals = 1\n",
      "Found solution at t =  137. n_evals = 1\n",
      "Found solution at t =  138. n_evals = 1\n",
      "Found solution at t =  139. n_evals = 1\n",
      "Found solution at t =  140. n_evals = 1\n",
      "Found solution at t =  141. n_evals = 1\n",
      "Found solution at t =  142. n_evals = 1\n",
      "Found solution at t =  143. n_evals = 1\n",
      "Found solution at t =  144. n_evals = 1\n",
      "Found solution at t =  145. n_evals = 1\n",
      "Found solution at t =  146. n_evals = 1\n",
      "Found solution at t =  147. n_evals = 1\n",
      "Found solution at t =  148. n_evals = 1\n",
      "Found solution at t =  149. n_evals = 1\n",
      "Found solution at t =  150. n_evals = 1\n",
      "Found solution at t =  151. n_evals = 1\n",
      "Found solution at t =  152. n_evals = 1\n",
      "Found solution at t =  153. n_evals = 1\n",
      "Found solution at t =  154. n_evals = 1\n",
      "Found solution at t =  155. n_evals = 1\n",
      "Found solution at t =  156. n_evals = 1\n",
      "Found solution at t =  157. n_evals = 1\n",
      "Found solution at t =  158. n_evals = 1\n",
      "Found solution at t =  159. n_evals = 1\n",
      "Found solution at t =  160. n_evals = 1\n",
      "Found solution at t =  161. n_evals = 1\n",
      "Found solution at t =  162. n_evals = 1\n",
      "Found solution at t =  163. n_evals = 1\n",
      "Found solution at t =  164. n_evals = 1\n",
      "Found solution at t =  165. n_evals = 1\n",
      "Found solution at t =  166. n_evals = 1\n",
      "Found solution at t =  167. n_evals = 1\n",
      "Found solution at t =  168. n_evals = 1\n",
      "Found solution at t =  169. n_evals = 1\n",
      "Found solution at t =  170. n_evals = 1\n",
      "Found solution at t =  171. n_evals = 1\n",
      "Found solution at t =  172. n_evals = 1\n",
      "Found solution at t =  173. n_evals = 1\n",
      "Found solution at t =  174. n_evals = 1\n",
      "Found solution at t =  175. n_evals = 1\n",
      "Found solution at t =  176. n_evals = 1\n",
      "Found solution at t =  177. n_evals = 1\n",
      "Found solution at t =  178. n_evals = 1\n",
      "Found solution at t =  179. n_evals = 1\n",
      "Found solution at t =  180. n_evals = 1\n",
      "Found solution at t =  181. n_evals = 1\n",
      "Found solution at t =  182. n_evals = 1\n",
      "Found solution at t =  183. n_evals = 1\n",
      "Found solution at t =  184. n_evals = 1\n",
      "Found solution at t =  185. n_evals = 1\n",
      "Found solution at t =  186. n_evals = 1\n",
      "Found solution at t =  187. n_evals = 1\n",
      "Found solution at t =  188. n_evals = 1\n",
      "Found solution at t =  189. n_evals = 1\n",
      "Found solution at t =  190. n_evals = 1\n",
      "Found solution at t =  191. n_evals = 1\n",
      "Found solution at t =  192. n_evals = 1\n",
      "Found solution at t =  193. n_evals = 1\n",
      "Found solution at t =  194. n_evals = 1\n",
      "Found solution at t =  195. n_evals = 1\n",
      "Found solution at t =  196. n_evals = 1\n",
      "Found solution at t =  197. n_evals = 1\n",
      "Found solution at t =  198. n_evals = 1\n",
      "Found solution at t =  199. n_evals = 1\n",
      "total solving time for 200 steps is 1.0625340938568115\n",
      "avarage solving time at each step is 0.005312670469284058\n"
     ]
    }
   ],
   "source": [
    "from MPC_control import MPC_controller\n",
    "\n",
    "mpc_time = 200\n",
    "prob = MPC(config=config_fn)\n",
    "\n",
    "Xopt,Uopt,Yopt,T_total = MPC_controller(x0,ref_list,prob=prob,MPC_obj=MPC_obj,T=mpc_time)"
   ],
   "metadata": {
    "collapsed": false,
    "pycharm": {
     "name": "#%%\n"
    }
   }
  },
  {
   "cell_type": "code",
   "execution_count": 36,
   "outputs": [
    {
     "data": {
      "text/plain": "<Figure size 432x288 with 1 Axes>",
      "image/png": "[encoded data removed]"
     },
     "metadata": {
      "needs_background": "light"
     },
     "output_type": "display_data"
    },
    {
     "name": "stdout",
     "output_type": "stream",
     "text": [
      "total solving time for 200 steps is 1.0625340938568115\n",
      "avarage solving time at each step is 0.005312670469284058\n"
     ]
    }
   ],
   "source": [
    "#plot results\n",
    "obstacles = []\n",
    "x_init = x0\n",
    "for ii_obs in range(n_obs):\n",
    "    # obs = test_data[0]['obstacles'][idx][:,ii_obs]\n",
    "    obs = prob_params['obstacles'][:,ii_obs]\n",
    "    obstacles.append(obs)\n",
    "\n",
    "# x0 = findIC(obstacles, posmin, posmax, velmin, velmax)\n",
    "x0 = prob_params['x0']\n",
    "xg = prob_params['xg']\n",
    "\n",
    "\n",
    "if len(obstacles) is n_obs:\n",
    "    plt.axes()\n",
    "    for obstacle in obstacles:\n",
    "        rectangle = plt.Rectangle((obstacle[0], obstacle[2]), \\\n",
    "                                  obstacle[1]-obstacle[0], obstacle[3]-obstacle[2], \\\n",
    "                                 fc='white', ec='black')\n",
    "        plt.gca().add_patch(rectangle)\n",
    "        plt.axis('scaled')\n",
    "\n",
    "    circle = plt.Circle((x_init[0],x_init[1]), 0.04, fc='red',ec=\"red\")\n",
    "    plt.gca().add_patch(circle)\n",
    "\n",
    "    for i in range(num_ref):\n",
    "        plt.plot(ref_list[i][0],ref_list[i][1],'sr')\n",
    "    #plot using arrows\n",
    "    # for jj in range(len(Xopt[:,0])):\n",
    "    #     plt.quiver(Xopt[jj][0], Xopt[jj][0])\n",
    "    #     circle = plt.Circle((Xopt[jj][0],Xopt[jj][1]), 0.02, fc='blue',ec=\"blue\")\n",
    "\n",
    "    # for jj in range(len(Xopt[:,0])):\n",
    "    #     plt.quiver(Xopt[jj][0], Xopt[jj][1], Xopt[jj][2], Xopt[jj][3])\n",
    "\n",
    "    for jj in range(len(Xopt[:,0])):\n",
    "        circle = plt.Circle((Xopt[jj][0],Xopt[jj][1]), 0.02, fc='blue',ec=\"blue\")\n",
    "        plt.gca().add_patch(circle)\n",
    "\n",
    "    ax = plt.gca()\n",
    "    ax.margins(0)\n",
    "    ax.set(xlim=(posmin[0],posmax[0]), ylim=(posmin[1],posmax[1]))\n",
    "    plt.show()\n",
    "\n",
    "print('total solving time for {} steps is '.format(mpc_time) +str(T_total))\n",
    "print('avarage solving time at each step is ' +str(T_total/mpc_time))"
   ],
   "metadata": {
    "collapsed": false,
    "pycharm": {
     "name": "#%%\n"
    }
   }
  },
  {
   "cell_type": "code",
   "execution_count": null,
   "outputs": [],
   "source": [],
   "metadata": {
    "collapsed": false,
    "pycharm": {
     "name": "#%%\n"
    }
   }
  }
 ]
}