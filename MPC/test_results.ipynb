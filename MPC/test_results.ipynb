{
 "nbformat": 4,
 "nbformat_minor": 0,
 "metadata": {
  "colab": {
   "name": "test_shortestpath.ipynb",
   "provenance": [],
   "authorship_tag": "ABX9TyOtRSeDtZbei9JgzmnCBc02"
  },
  "kernelspec": {
   "name": "python3",
   "display_name": "Python 3"
  },
  "language_info": {
   "name": "python"
  },
  "accelerator": "GPU",
  "gpuClass": "standard"
 },
 "cells": [
  {
   "cell_type": "code",
   "source": [
    "%load_ext autoreload\n",
    "%autoreload 2\n",
    "\n",
    "import matplotlib.pyplot as plt\n",
    "%matplotlib inline\n",
    "\n",
    "import torch\n",
    "from torch.autograd import Variable\n",
    "import numpy as np\n",
    "from solvers.OMISTL import OMISTL\n",
    "import cvxpy as cp\n",
    "from utils import *\n",
    "import pickle, os\n",
    "from MPC_prob import MPC\n",
    "\n",
    "from tqdm import tqdm\n",
    "from para import paraset\n",
    "os.environ['KMP_DUPLICATE_LIB_OK'] = 'True'#不设这个解不出#"
   ],
   "metadata": {
    "id": "73M8ow_96uHi",
    "executionInfo": {
     "status": "ok",
     "timestamp": 1658326900014,
     "user_tz": -120,
     "elapsed": 3774,
     "user": {
      "displayName": "Qi Yi",
      "userId": "03240543293609466208"
     }
    }
   },
   "execution_count": 1,
   "outputs": [
    {
     "name": "stderr",
     "output_type": "stream",
     "text": [
      "C:\\Users\\msi\\anaconda3\\envs\\coco\\lib\\site-packages\\numpy\\_distributor_init.py:32: UserWarning: loaded more than 1 DLL from .libs:\n",
      "C:\\Users\\msi\\anaconda3\\envs\\coco\\lib\\site-packages\\numpy\\.libs\\libopenblas.PYQHXLVVQ7VESDPUVUADXEVJOBGHJPAY.gfortran-win_amd64.dll\n",
      "C:\\Users\\msi\\anaconda3\\envs\\coco\\lib\\site-packages\\numpy\\.libs\\libopenblas.WCDJNK7YVMPZQ2ME2ZZHJJRJ3JIKNDB7.gfortran-win_amd64.dll\n",
      "  stacklevel=1)\n"
     ]
    }
   ]
  },
  {
   "cell_type": "code",
   "execution_count": 36,
   "outputs": [],
   "source": [
    "N= 12\n",
    "n_obs = 7\n",
    "paraset(N=N, n_obs=n_obs,Qs=1,Rs=0,num_probs=20000,obs_default=False)"
   ],
   "metadata": {
    "collapsed": false,
    "pycharm": {
     "name": "#%%\n"
    }
   }
  },
  {
   "cell_type": "code",
   "execution_count": null,
   "outputs": [
    {
     "name": "stderr",
     "output_type": "stream",
     "text": [
      " 72%|███████▏  | 14454/20000 [1:06:01<21:09,  4.37it/s]  "
     ]
    }
   ],
   "source": [
    "#pass the value from config to dict and para\n",
    "relative_path = os.getcwd()\n",
    "dataset_name = 'MPC_horizon_{}_obs_{}'.format(N,n_obs)\n",
    "# dataset_name = 'NSTL_{}_horizon_{}'.format(Qs, N)\n",
    "config_fn = os.path.join(relative_path, 'config', dataset_name+'.p')\n",
    "\n",
    "# config = [dataset_name, [prob_params] ,sampled_params]\n",
    "outfile = open(config_fn,\"rb\")\n",
    "config=pickle.load(outfile)\n",
    "outfile.close()\n",
    "\n",
    "train_fn = 'train_horizon_{}.p'.format(N)\n",
    "train_fn = os.path.join(relative_path, 'data', dataset_name, train_fn)\n",
    "test_fn = 'test_horizon_{}.p'.format(N)\n",
    "test_fn = os.path.join(relative_path, 'data', dataset_name, test_fn)\n",
    "\n",
    "all_params = ['N', 'Ak', 'Bk', 'Q', 'R', 'n_obs', \\\n",
    "            'posmin', 'posmax', 'velmin', 'velmax', \\\n",
    "            'umin', 'umax']\n",
    "\n",
    "param_dict={}\n",
    "i=0\n",
    "len_para = len(all_params)\n",
    "for param in all_params:\n",
    "    param_dict[param]= config[1][i]\n",
    "    i+=1\n",
    "    if i == len_para:\n",
    "        break\n",
    "\n",
    "N = param_dict['N']\n",
    "Ak = param_dict['Ak']\n",
    "Bk = param_dict['Bk']\n",
    "Q = param_dict['Q']\n",
    "R = param_dict['R']\n",
    "n_obs = param_dict['n_obs']\n",
    "umin = param_dict['umin']\n",
    "umax = param_dict['umax']\n",
    "sampled_params = config[2]\n",
    "n_obs = config[3]\n",
    "num_probs = config[4]\n",
    "border_size = config[5]\n",
    "box_buffer = config[6]\n",
    "min_box_size = config[7]\n",
    "max_box_size = config[8]\n",
    "posmin = config[9]\n",
    "posmax = config[10]\n",
    "velmin = config[11]\n",
    "velmax = config[12]\n",
    "n = config[13]\n",
    "m= config[14]\n",
    "\n",
    "obs_fix = config[15]\n",
    "xg_fix = config[16]\n",
    "if obs_fix:\n",
    "    obstacles = config[-1]\n",
    "\n",
    "config_fn = os.path.join(relative_path, 'config', dataset_name+'.p')#\n",
    "\n",
    "prob = MPC(config=config_fn)\n",
    "#create numpy containers for data: (params, x, u, y, J*, solve_time)\n",
    "params = {}\n",
    "if 'x0' in sampled_params:\n",
    "    params['x0'] = np.zeros((num_probs,2*n))\n",
    "if 'xg' in sampled_params:\n",
    "    params['xg'] = np.zeros((num_probs,2*n))\n",
    "if 'obstacles' in sampled_params:\n",
    "    params['obstacles'] = np.zeros((num_probs, 4, n_obs))\n",
    "\n",
    "X = np.zeros((num_probs, 2*n, N));\n",
    "U = np.zeros((num_probs, m, N-1))\n",
    "Y = np.zeros((num_probs, 4*n_obs, N-1)).astype(int)\n",
    "Z = np.zeros((num_probs, 2*n_obs, N-1)).astype(int)\n",
    "\n",
    "costs = np.zeros(num_probs)\n",
    "solve_times = np.zeros(num_probs)\n",
    "\n",
    "prob.sampled_params = ['x0', 'xg', 'obstacles']\n",
    "\n",
    "#solving MICP\n",
    "ii_toggle = 0\n",
    "obs_new_ct = 5\n",
    "ii=0\n",
    "obstacles = config[-1]\n",
    "\n",
    "if obs_fix:\n",
    "    for ii in tqdm(range(num_probs)):\n",
    "        x0 = findIC(obstacles, posmin, posmax, velmin, velmax)\n",
    "        params['obstacles'][ii,:] = np.reshape(np.concatenate(obstacles, axis=0), (n_obs,4)).T\n",
    "        p_dict = {}\n",
    "        params['x0'][ii,:] = x0\n",
    "        xg= findIC(obstacles, posmin, posmax, velmin, velmax)\n",
    "        params['xg'][ii,:] = xg\n",
    "\n",
    "        p_dict['x0'] = params['x0'][ii,:]\n",
    "        p_dict['xg'] = params['xg'][ii,:]\n",
    "        p_dict['obstacles'] = params['obstacles'][ii,:]\n",
    "\n",
    "        prob_success = False\n",
    "        try:\n",
    "            # with time_limit(20):\n",
    "            prob_success, cost, solve_time, optvals = prob.solve_stl(p_dict, solver=cp.GUROBI)\n",
    "        except (KeyboardInterrupt, SystemExit):\n",
    "            raise\n",
    "        except:\n",
    "            print('solver failed at '.format(ii))\n",
    "\n",
    "        if prob_success:\n",
    "            costs[ii] = cost; solve_times[ii] = solve_time\n",
    "            X[ii,:,:], U[ii,:,:], Y[ii,:,:], Z[ii,:,:] = optvals\n",
    "            ii += 1\n",
    "else:\n",
    "    print('choose to fix obstalce')\n",
    "\n",
    "## shuffle the data because of the spatial orders\n",
    "num_train = int(num_probs*0.9)\n",
    "arr = np.arange(num_probs)\n",
    "np.random.shuffle(arr)\n",
    "\n",
    "if 'x0' in sampled_params:\n",
    "    params['x0'] = params['x0'][arr]\n",
    "if 'xg' in sampled_params:\n",
    "    params['xg'] = params['xg'][arr]\n",
    "if 'obstacles' in sampled_params:\n",
    "    params['obstacles'] = params['obstacles'][arr]\n",
    "\n",
    "costs = costs[arr]\n",
    "solve_times = solve_times[arr]\n",
    "\n",
    "\n",
    "X = X[arr]\n",
    "U = U[arr]\n",
    "Y = Y[arr]\n",
    "Z = Z[arr]\n",
    "\n",
    "train_params = {}; test_params = {}\n",
    "if 'x0' in sampled_params:\n",
    "    train_params['x0'] = params['x0'][:num_train,:]\n",
    "    test_params['x0'] = params['x0'][num_train:,:]\n",
    "if 'obstacles' in sampled_params:\n",
    "    train_params['obstacles'] = params['obstacles'][:num_train,:]\n",
    "    test_params['obstacles'] = params['obstacles'][num_train:,:]\n",
    "if 'xg' in sampled_params:\n",
    "    train_params['xg'] = params['xg'][:num_train,:]\n",
    "    test_params['xg'] = params['xg'][num_train:,:]\n",
    "\n",
    "train_data = [train_params]\n",
    "train_data += [X[:num_train,:,:], U[:num_train,:,:], Y[:num_train,:,:],Z[:num_train,:,:]]\n",
    "train_data += [costs[:num_train], solve_times[:num_train]]\n",
    "\n",
    "test_data = [test_params]\n",
    "test_data += [X[num_train:,:,:], U[num_train:,:,:], Y[num_train:,:,:], Z[:num_train,:,:]]\n",
    "test_data += [costs[num_train:], solve_times[num_train:]]\n",
    "\n",
    "train_file = open(train_fn,'wb')\n",
    "pickle.dump(train_data,train_file); train_file.close()\n",
    "\n",
    "test_file = open(test_fn, 'wb')\n",
    "pickle.dump(test_data,test_file); test_file.close()"
   ],
   "metadata": {
    "collapsed": false,
    "pycharm": {
     "name": "#%%\n",
     "is_executing": true
    }
   }
  },
  {
   "cell_type": "code",
   "execution_count": 16,
   "outputs": [],
   "source": [
    "relative_path = os.getcwd()\n",
    "dataset_name = 'MPC_horizon_{}_obs_{}'.format(N,n_obs)\n",
    "# dataset_name = 'NSTL_{}_horizon_{}'.format(Qs, N)\n",
    "config_fn = os.path.join(relative_path, 'config', dataset_name+'.p')\n",
    "prob = MPC(config=config_fn) #use default config, pass different config file oth.\n",
    "\n",
    "relative_path = os.getcwd()\n",
    "dataset_fn = relative_path + '/data/' + dataset_name\n",
    "\n",
    "##load train data\n",
    "train_file = open(dataset_fn+'/train_horizon_{}.p'.format(N),'rb')\n",
    "# train_file = open(dataset_fn+'/train.p','rb')\n",
    "train_data = pickle.load(train_file)\n",
    "p_train, x_train, u_train, y_train, z_train, cost_train, times_train = train_data\n",
    "train_file.close()\n",
    "\n",
    "x_train = train_data[1] #X sequence\n",
    "y_train = train_data[3] #Y sequence\n",
    "\n",
    "##load test data\n",
    "test_file = open(dataset_fn+'/test_horizon_{}.p'.format(N),'rb')\n",
    "# test_file = open(dataset_fn+'/test.p','rb')\n",
    "# p_test, x_test, u_test, y_test, c_test, times_test = pickle.load(test_file)\n",
    "test_data = pickle.load(test_file)\n",
    "p_test, x_test, u_test, y_test,z_test, cost_test,times_test = test_data\n",
    "test_file.close()"
   ],
   "metadata": {
    "collapsed": false,
    "pycharm": {
     "name": "#%%\n"
    }
   }
  },
  {
   "cell_type": "code",
   "execution_count": 17,
   "outputs": [
    {
     "ename": "FileNotFoundError",
     "evalue": "[Errno 2] No such file or directory: 'D:\\\\Curious\\\\OMISTL\\\\MPC/data/MPC_horizon_10_obs_10/result.pkl'",
     "output_type": "error",
     "traceback": [
      "\u001B[1;31m---------------------------------------------------------------------------\u001B[0m",
      "\u001B[1;31mFileNotFoundError\u001B[0m                         Traceback (most recent call last)",
      "\u001B[1;32m<ipython-input-17-fef66078032e>\u001B[0m in \u001B[0;36m<module>\u001B[1;34m\u001B[0m\n\u001B[0;32m      1\u001B[0m \u001B[1;31m# load results\u001B[0m\u001B[1;33m\u001B[0m\u001B[1;33m\u001B[0m\u001B[1;33m\u001B[0m\u001B[0m\n\u001B[1;32m----> 2\u001B[1;33m \u001B[0mf_read\u001B[0m \u001B[1;33m=\u001B[0m \u001B[0mopen\u001B[0m\u001B[1;33m(\u001B[0m\u001B[0mdataset_fn\u001B[0m\u001B[1;33m+\u001B[0m\u001B[1;34m'/result.pkl'\u001B[0m\u001B[1;33m,\u001B[0m \u001B[1;34m'rb'\u001B[0m\u001B[1;33m)\u001B[0m\u001B[1;33m\u001B[0m\u001B[1;33m\u001B[0m\u001B[0m\n\u001B[0m\u001B[0;32m      3\u001B[0m \u001B[0mresults\u001B[0m \u001B[1;33m=\u001B[0m \u001B[0mpickle\u001B[0m\u001B[1;33m.\u001B[0m\u001B[0mload\u001B[0m\u001B[1;33m(\u001B[0m\u001B[0mf_read\u001B[0m\u001B[1;33m)\u001B[0m\u001B[1;33m\u001B[0m\u001B[1;33m\u001B[0m\u001B[0m\n\u001B[0;32m      4\u001B[0m \u001B[0mf_read\u001B[0m\u001B[1;33m.\u001B[0m\u001B[0mclose\u001B[0m\u001B[1;33m(\u001B[0m\u001B[1;33m)\u001B[0m\u001B[1;33m\u001B[0m\u001B[1;33m\u001B[0m\u001B[0m\n\u001B[0;32m      5\u001B[0m \u001B[0mresults\u001B[0m\u001B[1;33m[\u001B[0m\u001B[1;34m'percentage'\u001B[0m\u001B[1;33m]\u001B[0m\u001B[1;33m\u001B[0m\u001B[1;33m\u001B[0m\u001B[0m\n",
      "\u001B[1;31mFileNotFoundError\u001B[0m: [Errno 2] No such file or directory: 'D:\\\\Curious\\\\OMISTL\\\\MPC/data/MPC_horizon_10_obs_10/result.pkl'"
     ]
    }
   ],
   "source": [
    "# load results\n",
    "f_read = open(dataset_fn+'/result.pkl', 'rb')\n",
    "results = pickle.load(f_read)\n",
    "f_read.close()\n",
    "results['percentage']"
   ],
   "metadata": {
    "collapsed": false,
    "pycharm": {
     "name": "#%%\n"
    }
   }
  },
  {
   "cell_type": "code",
   "execution_count": 18,
   "outputs": [
    {
     "name": "stdout",
     "output_type": "stream",
     "text": [
      "2871\n"
     ]
    }
   ],
   "source": [
    "system = 'MPC'\n",
    "prob_features = ['x0','xg','obstacles']\n",
    "# prob_features = ['x0','obstacles_map']\n",
    "\n",
    "MPC_obj = OMISTL(system, prob, prob_features)\n",
    "\n",
    "n_features = 58\n",
    "MPC_obj.construct_strategies(n_features, train_data)\n",
    "print(MPC_obj.n_strategies)\n",
    "print('n_obs: '+ str(n_obs))\n",
    "print('N: '+ str(N))\n",
    "MPC_obj.n_evals\n",
    "MPC_obj.setup_network()"
   ],
   "metadata": {
    "collapsed": false,
    "pycharm": {
     "name": "#%%\n"
    }
   }
  },
  {
   "cell_type": "code",
   "execution_count": 7,
   "outputs": [
    {
     "name": "stdout",
     "output_type": "stream",
     "text": [
      "No existing model!\n"
     ]
    }
   ],
   "source": [
    "fn_saved = 'D:\\Curious\\OMISTL\\\\models\\\\MPC_horizon_{}_obs_{}.pt'.format(N,n_obs)\n",
    "MPC_obj.load_network(fn_saved)"
   ],
   "metadata": {
    "collapsed": false,
    "pycharm": {
     "name": "#%%\n"
    }
   }
  },
  {
   "cell_type": "code",
   "execution_count": 8,
   "outputs": [
    {
     "name": "stdout",
     "output_type": "stream",
     "text": [
      "loss:   4.980214595794678,   acc:  0.3125\n",
      "loss:   3.3978090286254883,   acc:  0.375\n",
      "Done with epoch 0 in 13.799950361251831s\n",
      "loss:   3.5012383460998535,   acc:  0.3125\n",
      "loss:   3.7509822845458984,   acc:  0.25\n",
      "loss:   2.687976360321045,   acc:  0.5\n",
      "Done with epoch 1 in 11.445456981658936s\n",
      "loss:   3.197068452835083,   acc:  0.40625\n",
      "loss:   2.1897623538970947,   acc:  0.53125\n",
      "loss:   3.0660879611968994,   acc:  0.375\n",
      "Done with epoch 2 in 11.565070629119873s\n",
      "loss:   2.972336769104004,   acc:  0.3125\n",
      "loss:   2.8826279640197754,   acc:  0.3125\n",
      "loss:   2.652818441390991,   acc:  0.3125\n",
      "Done with epoch 3 in 11.672903776168823s\n",
      "loss:   2.158147096633911,   acc:  0.4375\n",
      "loss:   2.4542016983032227,   acc:  0.40625\n",
      "loss:   1.9619592428207397,   acc:  0.53125\n",
      "Done with epoch 4 in 11.845120668411255s\n",
      "loss:   1.8364193439483643,   acc:  0.5625\n",
      "loss:   2.380570650100708,   acc:  0.40625\n",
      "Done with epoch 5 in 11.378574848175049s\n",
      "loss:   2.058718681335449,   acc:  0.53125\n",
      "loss:   1.6917544603347778,   acc:  0.40625\n",
      "loss:   2.4641942977905273,   acc:  0.53125\n",
      "Done with epoch 6 in 11.764490127563477s\n",
      "loss:   2.3469059467315674,   acc:  0.40625\n",
      "loss:   2.375627040863037,   acc:  0.5\n",
      "loss:   1.8493140935897827,   acc:  0.4375\n",
      "Done with epoch 7 in 11.955430030822754s\n",
      "loss:   2.157776117324829,   acc:  0.46875\n",
      "loss:   1.9438799619674683,   acc:  0.5625\n",
      "loss:   1.5891447067260742,   acc:  0.53125\n",
      "Done with epoch 8 in 11.83430027961731s\n",
      "loss:   2.352257490158081,   acc:  0.375\n",
      "loss:   1.8945274353027344,   acc:  0.375\n",
      "loss:   1.6976392269134521,   acc:  0.5625\n",
      "Done with epoch 9 in 11.786328077316284s\n",
      "loss:   1.85634446144104,   acc:  0.46875\n",
      "loss:   1.8135535717010498,   acc:  0.4375\n",
      "Saved model at ../models\\MPC_horizon_12_obs_10.pt\n",
      "Done with epoch 10 in 12.079914331436157s\n",
      "loss:   1.7812267541885376,   acc:  0.5\n",
      "loss:   2.114504814147949,   acc:  0.4375\n",
      "loss:   1.8417832851409912,   acc:  0.4375\n",
      "Done with epoch 11 in 11.924063205718994s\n",
      "loss:   2.3788509368896484,   acc:  0.4375\n",
      "loss:   1.922848105430603,   acc:  0.40625\n",
      "loss:   1.8526498079299927,   acc:  0.53125\n",
      "Done with epoch 12 in 11.955589532852173s\n",
      "loss:   1.79871666431427,   acc:  0.5625\n",
      "loss:   1.5419856309890747,   acc:  0.625\n",
      "loss:   1.95870840549469,   acc:  0.53125\n",
      "Done with epoch 13 in 12.03232479095459s\n",
      "loss:   1.5001983642578125,   acc:  0.59375\n",
      "loss:   2.056391477584839,   acc:  0.5\n",
      "loss:   1.7511012554168701,   acc:  0.40625\n",
      "Done with epoch 14 in 12.034924030303955s\n",
      "loss:   1.3413517475128174,   acc:  0.59375\n",
      "loss:   1.6054905652999878,   acc:  0.65625\n",
      "loss:   1.9577304124832153,   acc:  0.4375\n",
      "Done with epoch 15 in 12.486137390136719s\n",
      "loss:   1.8237730264663696,   acc:  0.5\n",
      "loss:   1.2320380210876465,   acc:  0.71875\n",
      "Done with epoch 16 in 11.854363441467285s\n",
      "loss:   1.6187148094177246,   acc:  0.46875\n",
      "loss:   1.276160717010498,   acc:  0.625\n",
      "loss:   1.016784906387329,   acc:  0.65625\n",
      "Done with epoch 17 in 12.141672134399414s\n",
      "loss:   1.416593074798584,   acc:  0.5625\n",
      "loss:   2.2895450592041016,   acc:  0.5\n",
      "loss:   1.561909794807434,   acc:  0.5625\n",
      "Done with epoch 18 in 12.249699354171753s\n",
      "loss:   1.8963522911071777,   acc:  0.5\n",
      "loss:   1.849773645401001,   acc:  0.40625\n",
      "loss:   2.035205841064453,   acc:  0.375\n",
      "Done with epoch 19 in 12.141350746154785s\n",
      "loss:   1.5816917419433594,   acc:  0.59375\n",
      "loss:   1.9614005088806152,   acc:  0.34375\n",
      "loss:   1.8778810501098633,   acc:  0.4375\n",
      "Done with epoch 20 in 12.55287480354309s\n",
      "loss:   1.4075822830200195,   acc:  0.625\n",
      "Saved model at ../models\\MPC_horizon_12_obs_10.pt\n",
      "loss:   1.5067024230957031,   acc:  0.5625\n",
      "Done with epoch 21 in 12.112253904342651s\n",
      "loss:   2.076706886291504,   acc:  0.53125\n",
      "loss:   1.6503384113311768,   acc:  0.53125\n",
      "loss:   1.9396404027938843,   acc:  0.46875\n",
      "Done with epoch 22 in 12.143522024154663s\n",
      "loss:   1.971841812133789,   acc:  0.46875\n",
      "loss:   1.437948226928711,   acc:  0.53125\n",
      "loss:   1.551263689994812,   acc:  0.53125\n",
      "Done with epoch 23 in 12.206189393997192s\n",
      "loss:   1.4564602375030518,   acc:  0.5625\n",
      "loss:   1.3769409656524658,   acc:  0.625\n",
      "loss:   2.5741124153137207,   acc:  0.34375\n",
      "Done with epoch 24 in 12.206274032592773s\n",
      "loss:   1.464066505432129,   acc:  0.625\n",
      "loss:   1.5533424615859985,   acc:  0.59375\n",
      "loss:   1.5793495178222656,   acc:  0.5625\n",
      "Done with epoch 25 in 12.19052791595459s\n",
      "loss:   1.529261827468872,   acc:  0.59375\n",
      "loss:   1.0999269485473633,   acc:  0.6875\n",
      "Done with epoch 26 in 12.357860803604126s\n",
      "loss:   1.409814476966858,   acc:  0.59375\n",
      "loss:   1.0302035808563232,   acc:  0.6875\n",
      "loss:   1.3680262565612793,   acc:  0.625\n",
      "Done with epoch 27 in 12.141626358032227s\n",
      "loss:   1.4878145456314087,   acc:  0.5625\n",
      "loss:   1.442851185798645,   acc:  0.59375\n",
      "loss:   1.5101537704467773,   acc:  0.5625\n",
      "Done with epoch 28 in 14.032596826553345s\n",
      "loss:   1.2221109867095947,   acc:  0.6875\n",
      "loss:   1.4539289474487305,   acc:  0.59375\n",
      "loss:   2.1084718704223633,   acc:  0.4375\n",
      "Done with epoch 29 in 16.57969617843628s\n",
      "loss:   1.932145595550537,   acc:  0.53125\n",
      "loss:   1.4228317737579346,   acc:  0.59375\n",
      "loss:   1.663444995880127,   acc:  0.4375\n",
      "Done with epoch 30 in 16.757654905319214s\n",
      "loss:   1.267533779144287,   acc:  0.625\n",
      "loss:   1.184140920639038,   acc:  0.5625\n",
      "loss:   1.6651782989501953,   acc:  0.625\n",
      "Saved model at ../models\\MPC_horizon_12_obs_10.pt\n",
      "Done with epoch 31 in 16.798145055770874s\n",
      "loss:   1.3660467863082886,   acc:  0.59375\n",
      "loss:   0.7708118557929993,   acc:  0.75\n",
      "Done with epoch 32 in 16.208618879318237s\n",
      "loss:   1.4138834476470947,   acc:  0.625\n",
      "loss:   1.807326316833496,   acc:  0.5625\n",
      "loss:   1.1555938720703125,   acc:  0.71875\n",
      "Done with epoch 33 in 16.267520666122437s\n",
      "loss:   1.5090806484222412,   acc:  0.53125\n",
      "loss:   1.7143129110336304,   acc:  0.53125\n",
      "loss:   1.26437246799469,   acc:  0.6875\n",
      "Done with epoch 34 in 16.855101108551025s\n",
      "loss:   1.9668641090393066,   acc:  0.4375\n",
      "loss:   1.6501109600067139,   acc:  0.53125\n",
      "loss:   1.8067611455917358,   acc:  0.4375\n",
      "Done with epoch 35 in 16.517062187194824s\n",
      "loss:   1.5481164455413818,   acc:  0.5\n",
      "loss:   1.5557429790496826,   acc:  0.53125\n",
      "loss:   1.3798482418060303,   acc:  0.46875\n",
      "Done with epoch 36 in 16.267144918441772s\n",
      "loss:   1.4710805416107178,   acc:  0.65625\n",
      "loss:   1.370145559310913,   acc:  0.65625\n",
      "Done with epoch 37 in 16.220295667648315s\n",
      "loss:   0.6995956301689148,   acc:  0.84375\n",
      "loss:   0.9210137724876404,   acc:  0.6875\n",
      "loss:   1.560423731803894,   acc:  0.59375\n",
      "Done with epoch 38 in 16.543740272521973s\n",
      "loss:   1.983347773551941,   acc:  0.5\n",
      "loss:   1.5622522830963135,   acc:  0.59375\n",
      "loss:   1.9101016521453857,   acc:  0.5\n",
      "Done with epoch 39 in 16.50167751312256s\n",
      "loss:   1.7287836074829102,   acc:  0.53125\n",
      "loss:   1.6280858516693115,   acc:  0.46875\n",
      "loss:   1.3504478931427002,   acc:  0.625\n",
      "Done with epoch 40 in 16.45465064048767s\n",
      "loss:   1.6208999156951904,   acc:  0.53125\n",
      "loss:   1.7522451877593994,   acc:  0.59375\n",
      "loss:   1.5666877031326294,   acc:  0.625\n",
      "Done with epoch 41 in 16.184860229492188s\n",
      "loss:   1.0653316974639893,   acc:  0.75\n",
      "loss:   1.1683404445648193,   acc:  0.59375\n",
      "Saved model at ../models\\MPC_horizon_12_obs_10.pt\n",
      "Done with epoch 42 in 16.220282077789307s\n",
      "loss:   1.4043079614639282,   acc:  0.625\n",
      "loss:   1.7233997583389282,   acc:  0.375\n",
      "loss:   1.7315244674682617,   acc:  0.625\n",
      "Done with epoch 43 in 15.986178398132324s\n",
      "loss:   1.7188745737075806,   acc:  0.5\n",
      "loss:   1.3252938985824585,   acc:  0.6875\n",
      "loss:   1.2342432737350464,   acc:  0.6875\n",
      "Done with epoch 44 in 12.016420602798462s\n",
      "loss:   1.1718037128448486,   acc:  0.59375\n",
      "loss:   1.5444042682647705,   acc:  0.59375\n",
      "loss:   1.6342710256576538,   acc:  0.46875\n",
      "Done with epoch 45 in 11.935170650482178s\n",
      "loss:   1.2496998310089111,   acc:  0.53125\n",
      "loss:   1.6765819787979126,   acc:  0.5625\n",
      "loss:   0.7547712326049805,   acc:  0.75\n",
      "Done with epoch 46 in 12.114140510559082s\n",
      "loss:   1.234885334968567,   acc:  0.53125\n",
      "loss:   1.6154743432998657,   acc:  0.53125\n",
      "loss:   1.3347879648208618,   acc:  0.5625\n",
      "Done with epoch 47 in 12.204067945480347s\n",
      "loss:   1.5628612041473389,   acc:  0.53125\n",
      "loss:   1.354210376739502,   acc:  0.65625\n",
      "Done with epoch 48 in 12.235614776611328s\n",
      "loss:   1.6257330179214478,   acc:  0.5\n",
      "loss:   1.4945275783538818,   acc:  0.5625\n",
      "loss:   1.5517711639404297,   acc:  0.5\n",
      "Done with epoch 49 in 12.329038381576538s\n",
      "loss:   1.1921672821044922,   acc:  0.59375\n",
      "loss:   1.522935152053833,   acc:  0.46875\n",
      "loss:   1.475911259651184,   acc:  0.5625\n",
      "Done with epoch 50 in 12.255446910858154s\n",
      "loss:   1.1775264739990234,   acc:  0.625\n",
      "loss:   1.764334797859192,   acc:  0.65625\n",
      "loss:   1.2267496585845947,   acc:  0.625\n",
      "Done with epoch 51 in 12.153038740158081s\n",
      "loss:   1.8639519214630127,   acc:  0.53125\n",
      "loss:   1.5357446670532227,   acc:  0.53125\n",
      "loss:   1.2810419797897339,   acc:  0.65625\n",
      "Done with epoch 52 in 12.378190040588379s\n",
      "loss:   1.2047582864761353,   acc:  0.5625\n",
      "Saved model at ../models\\MPC_horizon_12_obs_10.pt\n",
      "loss:   1.8647849559783936,   acc:  0.40625\n",
      "Done with epoch 53 in 12.485706806182861s\n",
      "loss:   1.298462152481079,   acc:  0.53125\n",
      "loss:   1.249705195426941,   acc:  0.65625\n",
      "loss:   1.7252626419067383,   acc:  0.59375\n",
      "Done with epoch 54 in 12.173659801483154s\n",
      "loss:   1.7181657552719116,   acc:  0.4375\n",
      "loss:   1.165136456489563,   acc:  0.6875\n",
      "loss:   1.154690146446228,   acc:  0.59375\n",
      "Done with epoch 55 in 12.245380878448486s\n",
      "loss:   1.3379647731781006,   acc:  0.59375\n",
      "loss:   1.917871117591858,   acc:  0.5\n",
      "loss:   1.207289695739746,   acc:  0.59375\n",
      "Done with epoch 56 in 12.188816547393799s\n",
      "loss:   1.355682134628296,   acc:  0.53125\n",
      "loss:   1.3359159231185913,   acc:  0.59375\n",
      "loss:   0.9232678413391113,   acc:  0.6875\n",
      "Done with epoch 57 in 12.282274007797241s\n",
      "loss:   1.093865156173706,   acc:  0.65625\n",
      "loss:   1.3400616645812988,   acc:  0.59375\n",
      "Done with epoch 58 in 12.297901391983032s\n",
      "loss:   1.1164584159851074,   acc:  0.625\n",
      "loss:   1.9579055309295654,   acc:  0.5625\n",
      "loss:   1.4319345951080322,   acc:  0.625\n",
      "Done with epoch 59 in 12.266759872436523s\n",
      "loss:   1.4604506492614746,   acc:  0.46875\n",
      "loss:   1.1393704414367676,   acc:  0.65625\n",
      "loss:   1.2059563398361206,   acc:  0.59375\n",
      "Done with epoch 60 in 12.279839515686035s\n",
      "loss:   1.4588602781295776,   acc:  0.5625\n",
      "loss:   1.6182526350021362,   acc:  0.46875\n",
      "loss:   1.885061264038086,   acc:  0.53125\n",
      "Done with epoch 61 in 12.157231330871582s\n",
      "loss:   2.0362014770507812,   acc:  0.5\n",
      "loss:   1.0179176330566406,   acc:  0.59375\n",
      "loss:   1.38508939743042,   acc:  0.53125\n",
      "Done with epoch 62 in 12.672948360443115s\n",
      "loss:   1.5628583431243896,   acc:  0.5625\n",
      "loss:   1.5226720571517944,   acc:  0.5\n",
      "loss:   1.7743065357208252,   acc:  0.5\n",
      "Saved model at ../models\\MPC_horizon_12_obs_10.pt\n",
      "Done with epoch 63 in 12.157209634780884s\n",
      "loss:   1.4371216297149658,   acc:  0.5\n",
      "loss:   1.8625366687774658,   acc:  0.4375\n",
      "Done with epoch 64 in 12.329398393630981s\n",
      "loss:   1.374962568283081,   acc:  0.625\n",
      "loss:   1.024204134941101,   acc:  0.6875\n",
      "loss:   1.723304271697998,   acc:  0.53125\n",
      "Done with epoch 65 in 12.195768356323242s\n",
      "loss:   0.9495481848716736,   acc:  0.65625\n",
      "loss:   1.775065541267395,   acc:  0.625\n",
      "loss:   1.383662462234497,   acc:  0.5\n",
      "Done with epoch 66 in 12.32922649383545s\n",
      "loss:   1.148435115814209,   acc:  0.71875\n",
      "loss:   1.1624633073806763,   acc:  0.625\n",
      "loss:   1.2195980548858643,   acc:  0.65625\n",
      "Done with epoch 67 in 12.363291025161743s\n",
      "loss:   1.5973072052001953,   acc:  0.5\n",
      "loss:   1.5090528726577759,   acc:  0.625\n",
      "loss:   1.476026177406311,   acc:  0.59375\n",
      "Done with epoch 68 in 12.17310094833374s\n",
      "loss:   1.4184597730636597,   acc:  0.5625\n",
      "loss:   1.4063026905059814,   acc:  0.59375\n",
      "Done with epoch 69 in 12.670931339263916s\n",
      "loss:   1.4378875494003296,   acc:  0.625\n",
      "loss:   1.291355848312378,   acc:  0.65625\n",
      "loss:   1.1025421619415283,   acc:  0.75\n",
      "Done with epoch 70 in 12.181175947189331s\n",
      "loss:   0.8634177446365356,   acc:  0.75\n",
      "loss:   1.0895408391952515,   acc:  0.59375\n",
      "loss:   0.8809624314308167,   acc:  0.75\n",
      "Done with epoch 71 in 12.329724550247192s\n",
      "loss:   1.7238267660140991,   acc:  0.5\n",
      "loss:   1.078639268875122,   acc:  0.6875\n",
      "loss:   1.4263439178466797,   acc:  0.5\n",
      "Done with epoch 72 in 12.266576766967773s\n",
      "loss:   1.2387210130691528,   acc:  0.5\n",
      "loss:   1.2362723350524902,   acc:  0.5625\n",
      "loss:   1.520133137702942,   acc:  0.5625\n",
      "Done with epoch 73 in 12.282306432723999s\n",
      "loss:   1.0010699033737183,   acc:  0.65625\n",
      "loss:   1.2372674942016602,   acc:  0.625\n",
      "Saved model at ../models\\MPC_horizon_12_obs_10.pt\n",
      "Done with epoch 74 in 12.47007966041565s\n",
      "loss:   1.0552090406417847,   acc:  0.71875\n",
      "loss:   1.507735252380371,   acc:  0.625\n",
      "loss:   0.9001447558403015,   acc:  0.65625\n",
      "Done with epoch 75 in 12.461395025253296s\n",
      "loss:   2.389948606491089,   acc:  0.25\n",
      "loss:   1.2227245569229126,   acc:  0.65625\n",
      "loss:   1.467043161392212,   acc:  0.53125\n",
      "Done with epoch 76 in 12.37626338005066s\n",
      "loss:   1.0509530305862427,   acc:  0.6875\n",
      "loss:   0.9945389628410339,   acc:  0.71875\n",
      "loss:   0.9822016358375549,   acc:  0.75\n",
      "Done with epoch 77 in 12.219821214675903s\n",
      "loss:   1.1464693546295166,   acc:  0.59375\n",
      "loss:   0.98746258020401,   acc:  0.65625\n",
      "loss:   1.4135922193527222,   acc:  0.625\n",
      "Done with epoch 78 in 12.4385507106781s\n",
      "loss:   1.2722256183624268,   acc:  0.5625\n",
      "loss:   1.2010053396224976,   acc:  0.5625\n",
      "loss:   1.5152076482772827,   acc:  0.625\n",
      "Done with epoch 79 in 12.298214197158813s\n",
      "loss:   1.731284260749817,   acc:  0.5\n",
      "loss:   1.116265058517456,   acc:  0.59375\n",
      "Done with epoch 80 in 12.513197898864746s\n",
      "loss:   0.9362428784370422,   acc:  0.8125\n",
      "loss:   1.133254885673523,   acc:  0.59375\n",
      "loss:   1.807368278503418,   acc:  0.5625\n",
      "Done with epoch 81 in 12.157221555709839s\n",
      "loss:   1.4138391017913818,   acc:  0.625\n",
      "loss:   1.4505289793014526,   acc:  0.59375\n",
      "loss:   1.3432669639587402,   acc:  0.53125\n",
      "Done with epoch 82 in 12.298229455947876s\n",
      "loss:   1.0148217678070068,   acc:  0.625\n",
      "loss:   1.0901285409927368,   acc:  0.71875\n",
      "loss:   1.097748041152954,   acc:  0.625\n",
      "Done with epoch 83 in 12.250926971435547s\n",
      "loss:   0.9151872992515564,   acc:  0.71875\n",
      "loss:   1.4461145401000977,   acc:  0.5625\n",
      "loss:   1.2775588035583496,   acc:  0.625\n",
      "Done with epoch 84 in 12.27974009513855s\n",
      "loss:   1.2099552154541016,   acc:  0.65625\n",
      "Saved model at ../models\\MPC_horizon_12_obs_10.pt\n",
      "loss:   1.2688497304916382,   acc:  0.71875\n",
      "Done with epoch 85 in 12.455630779266357s\n",
      "loss:   1.3010578155517578,   acc:  0.59375\n",
      "loss:   1.8658443689346313,   acc:  0.46875\n",
      "loss:   1.0762300491333008,   acc:  0.65625\n",
      "Done with epoch 86 in 12.188558340072632s\n",
      "loss:   1.1767319440841675,   acc:  0.6875\n",
      "loss:   0.8327298760414124,   acc:  0.75\n",
      "loss:   1.2661832571029663,   acc:  0.53125\n",
      "Done with epoch 87 in 12.3918616771698s\n",
      "loss:   1.824414849281311,   acc:  0.5625\n",
      "loss:   1.5118768215179443,   acc:  0.625\n",
      "loss:   1.3365029096603394,   acc:  0.625\n",
      "Done with epoch 88 in 12.235607624053955s\n",
      "loss:   1.4363574981689453,   acc:  0.5625\n",
      "loss:   0.9704906940460205,   acc:  0.75\n",
      "loss:   1.4147523641586304,   acc:  0.5\n",
      "Done with epoch 89 in 12.256306648254395s\n",
      "loss:   0.9404458999633789,   acc:  0.6875\n",
      "loss:   1.5697976350784302,   acc:  0.625\n",
      "Done with epoch 90 in 12.313546180725098s\n",
      "loss:   1.411301851272583,   acc:  0.625\n",
      "loss:   2.0359625816345215,   acc:  0.46875\n",
      "loss:   1.0747060775756836,   acc:  0.75\n",
      "Done with epoch 91 in 12.470306873321533s\n",
      "loss:   1.0725325345993042,   acc:  0.71875\n",
      "loss:   1.2462915182113647,   acc:  0.5\n",
      "loss:   1.6987931728363037,   acc:  0.46875\n",
      "Done with epoch 92 in 12.26683497428894s\n",
      "loss:   1.1981499195098877,   acc:  0.59375\n",
      "loss:   1.0332838296890259,   acc:  0.6875\n",
      "loss:   1.357801914215088,   acc:  0.625\n",
      "Done with epoch 93 in 12.21999216079712s\n",
      "loss:   1.0561901330947876,   acc:  0.59375\n",
      "loss:   1.0999035835266113,   acc:  0.59375\n",
      "loss:   1.4831610918045044,   acc:  0.5625\n",
      "Done with epoch 94 in 12.289805173873901s\n",
      "loss:   1.752016305923462,   acc:  0.53125\n",
      "loss:   1.5939555168151855,   acc:  0.40625\n",
      "loss:   1.0252467393875122,   acc:  0.71875\n",
      "Saved model at ../models\\MPC_horizon_12_obs_10.pt\n",
      "Done with epoch 95 in 16.345253467559814s\n",
      "loss:   0.8066369295120239,   acc:  0.65625\n",
      "loss:   1.1609854698181152,   acc:  0.625\n",
      "Done with epoch 96 in 16.548394203186035s\n",
      "loss:   1.325944423675537,   acc:  0.5625\n",
      "loss:   0.8926260471343994,   acc:  0.71875\n",
      "loss:   0.8273202180862427,   acc:  0.6875\n",
      "Done with epoch 97 in 16.38065218925476s\n",
      "loss:   1.5831527709960938,   acc:  0.53125\n",
      "loss:   1.2426071166992188,   acc:  0.71875\n",
      "loss:   1.6264559030532837,   acc:  0.53125\n",
      "Done with epoch 98 in 16.321898221969604s\n",
      "loss:   1.2727071046829224,   acc:  0.71875\n",
      "loss:   1.4972033500671387,   acc:  0.59375\n",
      "loss:   1.5431863069534302,   acc:  0.5625\n",
      "Done with epoch 99 in 16.4091215133667s\n",
      "loss:   1.3064528703689575,   acc:  0.5625\n",
      "loss:   1.067597508430481,   acc:  0.5\n",
      "loss:   1.1766302585601807,   acc:  0.65625\n",
      "Done with epoch 100 in 16.251535892486572s\n",
      "loss:   1.512291431427002,   acc:  0.59375\n",
      "loss:   1.8941060304641724,   acc:  0.375\n",
      "Done with epoch 101 in 16.220110654830933s\n",
      "loss:   1.468978762626648,   acc:  0.4375\n",
      "loss:   1.2190035581588745,   acc:  0.5625\n",
      "loss:   1.767822265625,   acc:  0.5\n",
      "Done with epoch 102 in 16.324270725250244s\n",
      "loss:   1.3689396381378174,   acc:  0.59375\n",
      "loss:   1.100751280784607,   acc:  0.6875\n",
      "loss:   1.083656907081604,   acc:  0.71875\n",
      "Done with epoch 103 in 16.3921959400177s\n",
      "loss:   1.419378638267517,   acc:  0.59375\n",
      "loss:   1.5341846942901611,   acc:  0.5\n",
      "loss:   1.5118273496627808,   acc:  0.5625\n",
      "Done with epoch 104 in 16.29852795600891s\n",
      "loss:   0.8708142042160034,   acc:  0.78125\n",
      "loss:   1.1934609413146973,   acc:  0.59375\n",
      "loss:   1.503830075263977,   acc:  0.59375\n",
      "Done with epoch 105 in 16.30568027496338s\n",
      "loss:   0.8511559963226318,   acc:  0.8125\n",
      "loss:   1.5680162906646729,   acc:  0.5625\n",
      "Saved model at ../models\\MPC_horizon_12_obs_10.pt\n",
      "Done with epoch 106 in 15.814666032791138s\n",
      "loss:   0.9125083684921265,   acc:  0.71875\n",
      "loss:   1.2338613271713257,   acc:  0.6875\n",
      "loss:   1.1064094305038452,   acc:  0.71875\n",
      "Done with epoch 107 in 12.867040157318115s\n",
      "loss:   1.010034441947937,   acc:  0.65625\n",
      "loss:   1.5302914381027222,   acc:  0.53125\n",
      "loss:   0.748717188835144,   acc:  0.84375\n",
      "Done with epoch 108 in 12.422825813293457s\n",
      "loss:   1.3272358179092407,   acc:  0.6875\n",
      "loss:   1.4076366424560547,   acc:  0.6875\n",
      "loss:   0.832082986831665,   acc:  0.75\n",
      "Done with epoch 109 in 12.11042594909668s\n",
      "loss:   2.1130878925323486,   acc:  0.46875\n",
      "loss:   1.4639118909835815,   acc:  0.59375\n",
      "loss:   0.8186773061752319,   acc:  0.8125\n",
      "Done with epoch 110 in 12.1116042137146s\n",
      "loss:   1.2922388315200806,   acc:  0.65625\n",
      "loss:   1.1252789497375488,   acc:  0.59375\n",
      "loss:   1.1553007364273071,   acc:  0.65625\n",
      "Done with epoch 111 in 12.164371967315674s\n",
      "loss:   1.1529604196548462,   acc:  0.65625\n",
      "loss:   0.8805478811264038,   acc:  0.71875\n",
      "Done with epoch 112 in 11.969874620437622s\n",
      "loss:   1.8113616704940796,   acc:  0.5\n",
      "loss:   1.0440878868103027,   acc:  0.71875\n",
      "loss:   1.6492118835449219,   acc:  0.5625\n",
      "Done with epoch 113 in 12.516695737838745s\n",
      "loss:   1.9971333742141724,   acc:  0.4375\n",
      "loss:   1.1371549367904663,   acc:  0.71875\n",
      "loss:   1.4749103784561157,   acc:  0.53125\n",
      "Done with epoch 114 in 12.235275268554688s\n",
      "loss:   1.3342856168746948,   acc:  0.625\n",
      "loss:   1.6367167234420776,   acc:  0.5\n",
      "loss:   1.4905396699905396,   acc:  0.5625\n",
      "Done with epoch 115 in 12.17503309249878s\n",
      "loss:   1.529511570930481,   acc:  0.5625\n",
      "loss:   1.1025700569152832,   acc:  0.6875\n",
      "loss:   1.6774288415908813,   acc:  0.53125\n",
      "Done with epoch 116 in 12.266878604888916s\n",
      "loss:   1.0620378255844116,   acc:  0.75\n",
      "Saved model at ../models\\MPC_horizon_12_obs_10.pt\n",
      "loss:   1.2052044868469238,   acc:  0.65625\n",
      "Done with epoch 117 in 12.032350540161133s\n",
      "loss:   1.4377070665359497,   acc:  0.6875\n",
      "loss:   1.634276270866394,   acc:  0.5\n",
      "loss:   1.2864874601364136,   acc:  0.625\n",
      "Done with epoch 118 in 12.266640901565552s\n",
      "loss:   1.3552559614181519,   acc:  0.5\n",
      "loss:   1.2642803192138672,   acc:  0.625\n",
      "loss:   1.0229666233062744,   acc:  0.65625\n",
      "Done with epoch 119 in 12.469719648361206s\n",
      "loss:   1.3855348825454712,   acc:  0.46875\n",
      "loss:   1.405547857284546,   acc:  0.53125\n",
      "loss:   1.3216235637664795,   acc:  0.625\n",
      "Done with epoch 120 in 12.205700397491455s\n",
      "loss:   0.9744229316711426,   acc:  0.71875\n",
      "loss:   1.2080252170562744,   acc:  0.71875\n",
      "loss:   1.408313274383545,   acc:  0.5\n",
      "Done with epoch 121 in 12.320060014724731s\n",
      "loss:   1.5708348751068115,   acc:  0.5\n",
      "loss:   1.290488600730896,   acc:  0.5625\n",
      "Done with epoch 122 in 12.157255411148071s\n",
      "loss:   1.3577311038970947,   acc:  0.65625\n",
      "loss:   1.2142813205718994,   acc:  0.625\n",
      "loss:   1.5007692575454712,   acc:  0.5625\n",
      "Done with epoch 123 in 12.219648838043213s\n",
      "loss:   1.3982415199279785,   acc:  0.71875\n",
      "loss:   0.9241988658905029,   acc:  0.75\n",
      "loss:   1.1254117488861084,   acc:  0.625\n",
      "Done with epoch 124 in 12.705870628356934s\n",
      "loss:   1.429330825805664,   acc:  0.59375\n",
      "loss:   1.3897745609283447,   acc:  0.625\n",
      "loss:   1.2179274559020996,   acc:  0.625\n",
      "Done with epoch 125 in 12.141441583633423s\n",
      "loss:   0.7719986438751221,   acc:  0.6875\n",
      "loss:   1.3283954858779907,   acc:  0.59375\n",
      "loss:   1.2244232892990112,   acc:  0.59375\n",
      "Done with epoch 126 in 12.74606704711914s\n",
      "loss:   1.7576791048049927,   acc:  0.5\n",
      "loss:   0.7964886426925659,   acc:  0.71875\n",
      "loss:   1.7865924835205078,   acc:  0.625\n",
      "Saved model at ../models\\MPC_horizon_12_obs_10.pt\n",
      "Done with epoch 127 in 12.267215728759766s\n",
      "loss:   1.4435746669769287,   acc:  0.5625\n",
      "loss:   0.9657390117645264,   acc:  0.625\n",
      "Done with epoch 128 in 12.063611268997192s\n",
      "loss:   1.5170438289642334,   acc:  0.59375\n",
      "loss:   0.9544820785522461,   acc:  0.6875\n",
      "loss:   1.4111685752868652,   acc:  0.625\n",
      "Done with epoch 129 in 12.670372724533081s\n",
      "loss:   1.0338202714920044,   acc:  0.53125\n",
      "loss:   1.7721147537231445,   acc:  0.53125\n",
      "loss:   1.4552334547042847,   acc:  0.625\n",
      "Done with epoch 130 in 12.221677303314209s\n",
      "loss:   1.039405345916748,   acc:  0.71875\n",
      "loss:   1.4214386940002441,   acc:  0.59375\n",
      "loss:   1.2587541341781616,   acc:  0.5625\n",
      "Done with epoch 131 in 12.548086643218994s\n",
      "loss:   1.1573294401168823,   acc:  0.5625\n",
      "loss:   1.7103099822998047,   acc:  0.5625\n",
      "loss:   1.1215041875839233,   acc:  0.71875\n",
      "Done with epoch 132 in 12.282588958740234s\n",
      "loss:   0.8290925025939941,   acc:  0.78125\n",
      "loss:   1.2710459232330322,   acc:  0.5\n",
      "Done with epoch 133 in 12.094873189926147s\n",
      "loss:   1.3082679510116577,   acc:  0.5625\n",
      "loss:   1.263913631439209,   acc:  0.59375\n",
      "loss:   0.9723176956176758,   acc:  0.71875\n",
      "Done with epoch 134 in 12.350809097290039s\n",
      "loss:   1.1408106088638306,   acc:  0.59375\n",
      "loss:   1.3193663358688354,   acc:  0.5625\n",
      "loss:   1.6245430707931519,   acc:  0.59375\n",
      "Done with epoch 135 in 12.594902992248535s\n",
      "loss:   0.8833765983581543,   acc:  0.65625\n",
      "loss:   1.2003298997879028,   acc:  0.65625\n",
      "loss:   0.9521198272705078,   acc:  0.625\n",
      "Done with epoch 136 in 12.29106855392456s\n",
      "loss:   1.3558591604232788,   acc:  0.6875\n",
      "loss:   0.8945626020431519,   acc:  0.71875\n",
      "loss:   1.3877267837524414,   acc:  0.5\n",
      "Done with epoch 137 in 12.235376119613647s\n",
      "loss:   1.0596213340759277,   acc:  0.65625\n",
      "loss:   0.9239257574081421,   acc:  0.75\n",
      "Saved model at ../models\\MPC_horizon_12_obs_10.pt\n",
      "loss:   0.9304251670837402,   acc:  0.65625\n",
      "Done with epoch 138 in 12.266846656799316s\n",
      "loss:   1.2175666093826294,   acc:  0.625\n",
      "loss:   1.1611051559448242,   acc:  0.625\n",
      "Done with epoch 139 in 12.048120260238647s\n",
      "loss:   1.2511764764785767,   acc:  0.59375\n",
      "loss:   1.2349618673324585,   acc:  0.625\n",
      "loss:   1.55282461643219,   acc:  0.5625\n",
      "Done with epoch 140 in 12.68847393989563s\n",
      "loss:   1.068173885345459,   acc:  0.71875\n",
      "loss:   1.2777125835418701,   acc:  0.53125\n",
      "loss:   1.450303554534912,   acc:  0.53125\n",
      "Done with epoch 141 in 12.391602754592896s\n",
      "loss:   1.4284181594848633,   acc:  0.625\n",
      "loss:   1.1238795518875122,   acc:  0.59375\n",
      "loss:   1.1355735063552856,   acc:  0.5625\n",
      "Done with epoch 142 in 12.26667594909668s\n",
      "loss:   1.5465425252914429,   acc:  0.625\n",
      "loss:   0.9883403778076172,   acc:  0.75\n",
      "loss:   1.0819352865219116,   acc:  0.625\n",
      "Done with epoch 143 in 12.282357215881348s\n",
      "loss:   1.7534037828445435,   acc:  0.46875\n",
      "loss:   1.400320291519165,   acc:  0.59375\n",
      "Done with epoch 144 in 12.104854106903076s\n",
      "loss:   1.153889775276184,   acc:  0.71875\n",
      "loss:   1.2906051874160767,   acc:  0.625\n",
      "loss:   0.9547572135925293,   acc:  0.65625\n",
      "Done with epoch 145 in 12.736514806747437s\n",
      "loss:   0.9954363107681274,   acc:  0.6875\n",
      "loss:   1.3211040496826172,   acc:  0.53125\n",
      "loss:   1.4366049766540527,   acc:  0.53125\n",
      "Done with epoch 146 in 12.266581773757935s\n",
      "loss:   1.1895778179168701,   acc:  0.625\n",
      "loss:   1.3105456829071045,   acc:  0.53125\n",
      "loss:   0.9734776020050049,   acc:  0.75\n",
      "Done with epoch 147 in 12.298025846481323s\n",
      "loss:   1.023785948753357,   acc:  0.6875\n",
      "loss:   1.4079176187515259,   acc:  0.5625\n",
      "loss:   1.0895676612854004,   acc:  0.59375\n",
      "Done with epoch 148 in 13.850412130355835s\n",
      "loss:   1.2808008193969727,   acc:  0.53125\n",
      "Saved model at ../models\\MPC_horizon_12_obs_10.pt\n",
      "loss:   1.8989158868789673,   acc:  0.40625\n",
      "Done with epoch 149 in 12.102889060974121s\n",
      "loss:   1.3353066444396973,   acc:  0.625\n",
      "loss:   1.7891433238983154,   acc:  0.375\n",
      "loss:   1.488152265548706,   acc:  0.5625\n",
      "Done with epoch 150 in 12.408011674880981s\n",
      "loss:   1.0914337635040283,   acc:  0.65625\n",
      "loss:   1.43160080909729,   acc:  0.625\n",
      "loss:   1.0234438180923462,   acc:  0.6875\n",
      "Done with epoch 151 in 12.469886302947998s\n",
      "loss:   1.237938404083252,   acc:  0.65625\n",
      "loss:   1.1242249011993408,   acc:  0.75\n",
      "loss:   1.093512773513794,   acc:  0.6875\n",
      "Done with epoch 152 in 12.173319816589355s\n",
      "loss:   1.3303934335708618,   acc:  0.5625\n",
      "loss:   1.3115403652191162,   acc:  0.5625\n",
      "loss:   1.215428113937378,   acc:  0.6875\n",
      "Done with epoch 153 in 12.110478639602661s\n",
      "loss:   1.2725670337677002,   acc:  0.65625\n",
      "loss:   1.6757259368896484,   acc:  0.5625\n",
      "loss:   1.30250084400177,   acc:  0.5625\n",
      "Done with epoch 154 in 12.038707256317139s\n",
      "loss:   1.4092785120010376,   acc:  0.53125\n",
      "loss:   1.252539873123169,   acc:  0.625\n",
      "Done with epoch 155 in 11.735347509384155s\n",
      "loss:   1.3011772632598877,   acc:  0.625\n",
      "loss:   1.5672931671142578,   acc:  0.5625\n",
      "loss:   1.2610695362091064,   acc:  0.65625\n",
      "Done with epoch 156 in 12.267359256744385s\n",
      "loss:   1.1400730609893799,   acc:  0.71875\n",
      "loss:   1.3890893459320068,   acc:  0.5625\n",
      "loss:   1.1570323705673218,   acc:  0.71875\n",
      "Done with epoch 157 in 11.938695907592773s\n",
      "loss:   0.8550153970718384,   acc:  0.75\n",
      "loss:   1.5567576885223389,   acc:  0.5\n",
      "loss:   1.2464909553527832,   acc:  0.59375\n",
      "Done with epoch 158 in 11.798218011856079s\n",
      "loss:   1.2516512870788574,   acc:  0.5625\n",
      "loss:   0.7440052032470703,   acc:  0.75\n",
      "loss:   0.9285740852355957,   acc:  0.65625\n",
      "Saved model at ../models\\MPC_horizon_12_obs_10.pt\n",
      "Done with epoch 159 in 11.762134313583374s\n",
      "loss:   1.153214454650879,   acc:  0.65625\n",
      "loss:   1.1329929828643799,   acc:  0.65625\n",
      "Done with epoch 160 in 11.641638040542603s\n",
      "loss:   1.3178534507751465,   acc:  0.5625\n",
      "loss:   0.9650325775146484,   acc:  0.75\n",
      "loss:   0.9625351428985596,   acc:  0.65625\n",
      "Done with epoch 161 in 11.985572814941406s\n",
      "loss:   1.338217854499817,   acc:  0.5\n",
      "loss:   1.0845375061035156,   acc:  0.6875\n",
      "loss:   0.6812975406646729,   acc:  0.8125\n",
      "Done with epoch 162 in 11.875858068466187s\n",
      "loss:   1.3857471942901611,   acc:  0.625\n",
      "loss:   1.5454704761505127,   acc:  0.59375\n",
      "loss:   1.452141523361206,   acc:  0.6875\n",
      "Done with epoch 163 in 11.70418405532837s\n",
      "loss:   1.1682889461517334,   acc:  0.59375\n",
      "loss:   1.1156604290008545,   acc:  0.625\n",
      "loss:   1.6422146558761597,   acc:  0.46875\n",
      "Done with epoch 164 in 11.7309250831604s\n",
      "loss:   1.0628840923309326,   acc:  0.75\n",
      "loss:   0.8105487823486328,   acc:  0.8125\n",
      "Done with epoch 165 in 11.641690969467163s\n",
      "loss:   1.3210930824279785,   acc:  0.5625\n",
      "loss:   1.488154649734497,   acc:  0.625\n",
      "loss:   1.409201979637146,   acc:  0.53125\n",
      "Done with epoch 166 in 11.8145170211792s\n",
      "loss:   1.1648979187011719,   acc:  0.65625\n",
      "loss:   1.4896955490112305,   acc:  0.53125\n",
      "loss:   1.13238525390625,   acc:  0.65625\n",
      "Done with epoch 167 in 11.938494205474854s\n",
      "loss:   0.7466955184936523,   acc:  0.71875\n",
      "loss:   1.1827783584594727,   acc:  0.71875\n",
      "loss:   1.0293428897857666,   acc:  0.6875\n",
      "Done with epoch 168 in 11.672690868377686s\n",
      "loss:   1.552199125289917,   acc:  0.53125\n",
      "loss:   1.7086246013641357,   acc:  0.4375\n",
      "loss:   1.491517186164856,   acc:  0.5625\n",
      "Done with epoch 169 in 15.736278295516968s\n",
      "loss:   1.1673872470855713,   acc:  0.65625\n",
      "loss:   0.9852008819580078,   acc:  0.6875\n",
      "Saved model at ../models\\MPC_horizon_12_obs_10.pt\n",
      "loss:   1.0232210159301758,   acc:  0.65625\n",
      "Done with epoch 170 in 16.423073530197144s\n",
      "loss:   1.6411356925964355,   acc:  0.46875\n",
      "loss:   1.415168285369873,   acc:  0.5625\n",
      "Done with epoch 171 in 16.096707105636597s\n",
      "loss:   0.8765456676483154,   acc:  0.6875\n",
      "loss:   1.979475498199463,   acc:  0.40625\n",
      "loss:   1.3459439277648926,   acc:  0.625\n",
      "Done with epoch 172 in 16.379330158233643s\n",
      "loss:   1.0124070644378662,   acc:  0.6875\n",
      "loss:   1.2833478450775146,   acc:  0.625\n",
      "loss:   1.1228923797607422,   acc:  0.71875\n",
      "Done with epoch 173 in 16.345559120178223s\n",
      "loss:   0.9855523109436035,   acc:  0.625\n",
      "loss:   1.1927340030670166,   acc:  0.59375\n",
      "loss:   1.3091511726379395,   acc:  0.53125\n",
      "Done with epoch 174 in 16.407790184020996s\n",
      "loss:   1.1353685855865479,   acc:  0.71875\n",
      "loss:   1.2707021236419678,   acc:  0.625\n",
      "loss:   1.245295524597168,   acc:  0.6875\n",
      "Done with epoch 175 in 13.313665866851807s\n",
      "loss:   1.346304178237915,   acc:  0.59375\n",
      "loss:   1.2612903118133545,   acc:  0.59375\n",
      "Done with epoch 176 in 12.01668119430542s\n",
      "loss:   1.1873269081115723,   acc:  0.59375\n",
      "loss:   1.3887138366699219,   acc:  0.65625\n",
      "loss:   0.4220154285430908,   acc:  0.84375\n",
      "Done with epoch 177 in 11.781002044677734s\n",
      "loss:   1.560210943222046,   acc:  0.59375\n",
      "loss:   1.519768476486206,   acc:  0.59375\n",
      "loss:   0.8404099941253662,   acc:  0.75\n",
      "Done with epoch 178 in 11.79804539680481s\n",
      "loss:   1.1070398092269897,   acc:  0.65625\n",
      "loss:   1.007910966873169,   acc:  0.6875\n",
      "loss:   1.0269930362701416,   acc:  0.6875\n",
      "Done with epoch 179 in 11.813392162322998s\n",
      "loss:   1.0071349143981934,   acc:  0.65625\n",
      "loss:   1.4700891971588135,   acc:  0.5\n",
      "loss:   1.066612720489502,   acc:  0.6875\n",
      "Done with epoch 180 in 11.672723531723022s\n",
      "loss:   1.0659701824188232,   acc:  0.71875\n",
      "Saved model at ../models\\MPC_horizon_12_obs_10.pt\n",
      "loss:   1.1836974620819092,   acc:  0.71875\n",
      "Done with epoch 181 in 11.76669716835022s\n",
      "loss:   1.1365039348602295,   acc:  0.625\n",
      "loss:   1.0414327383041382,   acc:  0.65625\n",
      "loss:   0.9225163459777832,   acc:  0.65625\n",
      "Done with epoch 182 in 11.934019088745117s\n",
      "loss:   0.9565126895904541,   acc:  0.75\n",
      "loss:   1.2440025806427002,   acc:  0.5625\n",
      "loss:   1.4919712543487549,   acc:  0.625\n",
      "Done with epoch 183 in 11.672784805297852s\n",
      "loss:   1.3140578269958496,   acc:  0.59375\n",
      "loss:   1.5816900730133057,   acc:  0.5625\n",
      "loss:   1.2122528553009033,   acc:  0.6875\n",
      "Done with epoch 184 in 11.726486444473267s\n",
      "loss:   1.1792335510253906,   acc:  0.6875\n",
      "loss:   1.1697887182235718,   acc:  0.65625\n",
      "loss:   1.389172077178955,   acc:  0.625\n",
      "Done with epoch 185 in 11.672707557678223s\n",
      "loss:   0.9638285636901855,   acc:  0.625\n",
      "loss:   0.738551139831543,   acc:  0.84375\n",
      "loss:   1.125563621520996,   acc:  0.625\n",
      "Done with epoch 186 in 11.641521453857422s\n",
      "loss:   1.0294747352600098,   acc:  0.59375\n",
      "loss:   0.8954389095306396,   acc:  0.6875\n",
      "Done with epoch 187 in 11.85770058631897s\n",
      "loss:   1.009932041168213,   acc:  0.71875\n",
      "loss:   1.235985279083252,   acc:  0.65625\n",
      "loss:   1.1608006954193115,   acc:  0.59375\n",
      "Done with epoch 188 in 11.625807046890259s\n",
      "loss:   1.5594120025634766,   acc:  0.53125\n",
      "loss:   1.0029826164245605,   acc:  0.65625\n",
      "loss:   1.0304229259490967,   acc:  0.625\n",
      "Done with epoch 189 in 11.657490730285645s\n",
      "loss:   0.7274916172027588,   acc:  0.84375\n",
      "loss:   0.9482080936431885,   acc:  0.75\n",
      "loss:   1.3008217811584473,   acc:  0.5625\n",
      "Done with epoch 190 in 11.641667366027832s\n",
      "loss:   1.2293035984039307,   acc:  0.5625\n",
      "loss:   0.7210450172424316,   acc:  0.75\n",
      "loss:   1.2319064140319824,   acc:  0.59375\n",
      "Saved model at ../models\\MPC_horizon_12_obs_10.pt\n",
      "Done with epoch 191 in 11.594743013381958s\n",
      "loss:   1.2090823650360107,   acc:  0.6875\n",
      "loss:   1.1379742622375488,   acc:  0.75\n",
      "Done with epoch 192 in 11.466384410858154s\n",
      "loss:   1.4816594123840332,   acc:  0.59375\n",
      "loss:   1.228438377380371,   acc:  0.53125\n",
      "loss:   1.1115803718566895,   acc:  0.625\n",
      "Done with epoch 193 in 12.460606098175049s\n",
      "loss:   1.362701654434204,   acc:  0.6875\n",
      "loss:   0.77705979347229,   acc:  0.6875\n",
      "loss:   1.2088775634765625,   acc:  0.59375\n",
      "Done with epoch 194 in 11.76703929901123s\n",
      "loss:   1.4806768894195557,   acc:  0.625\n",
      "loss:   0.8978452682495117,   acc:  0.625\n",
      "loss:   0.8508846759796143,   acc:  0.78125\n",
      "Done with epoch 195 in 11.735862731933594s\n",
      "loss:   1.0833728313446045,   acc:  0.59375\n",
      "loss:   1.0621750354766846,   acc:  0.65625\n",
      "loss:   1.9048030376434326,   acc:  0.40625\n",
      "Done with epoch 196 in 11.673866271972656s\n",
      "loss:   0.8131701946258545,   acc:  0.71875\n",
      "loss:   1.3723211288452148,   acc:  0.625\n",
      "Done with epoch 197 in 11.455145120620728s\n",
      "loss:   0.9586038589477539,   acc:  0.59375\n",
      "loss:   0.9332506656646729,   acc:  0.8125\n",
      "loss:   1.7195484638214111,   acc:  0.46875\n",
      "Done with epoch 198 in 11.866363525390625s\n",
      "loss:   1.2141408920288086,   acc:  0.59375\n",
      "loss:   0.8556420803070068,   acc:  0.71875\n",
      "loss:   1.557884931564331,   acc:  0.5625\n",
      "Done with epoch 199 in 11.657320261001587s\n",
      "loss:   1.136359453201294,   acc:  0.65625\n",
      "loss:   1.353877305984497,   acc:  0.625\n",
      "loss:   1.2283835411071777,   acc:  0.53125\n",
      "Done with epoch 200 in 11.641510963439941s\n",
      "loss:   0.9963514804840088,   acc:  0.625\n",
      "loss:   1.6312251091003418,   acc:  0.5\n",
      "loss:   1.8748557567596436,   acc:  0.4375\n",
      "Done with epoch 201 in 11.610376596450806s\n",
      "loss:   1.528641939163208,   acc:  0.5625\n",
      "loss:   0.8937795162200928,   acc:  0.78125\n",
      "Saved model at ../models\\MPC_horizon_12_obs_10.pt\n",
      "loss:   1.0580132007598877,   acc:  0.71875\n",
      "Done with epoch 202 in 11.55606985092163s\n",
      "loss:   0.8527309894561768,   acc:  0.71875\n",
      "loss:   1.257643222808838,   acc:  0.65625\n",
      "Done with epoch 203 in 11.432322025299072s\n",
      "loss:   0.5358779430389404,   acc:  0.84375\n",
      "loss:   1.2990028858184814,   acc:  0.6875\n",
      "loss:   0.6580822467803955,   acc:  0.71875\n",
      "Done with epoch 204 in 11.907299280166626s\n",
      "loss:   1.608201265335083,   acc:  0.53125\n",
      "loss:   1.209580898284912,   acc:  0.6875\n",
      "loss:   1.1437945365905762,   acc:  0.5625\n",
      "Done with epoch 205 in 11.469964742660522s\n",
      "loss:   0.9438302516937256,   acc:  0.6875\n",
      "loss:   1.6571857929229736,   acc:  0.5625\n",
      "loss:   0.9810476303100586,   acc:  0.75\n",
      "Done with epoch 206 in 11.579205989837646s\n",
      "loss:   1.4797136783599854,   acc:  0.5625\n",
      "loss:   1.0307767391204834,   acc:  0.65625\n",
      "loss:   0.8346667289733887,   acc:  0.71875\n",
      "Done with epoch 207 in 11.548379182815552s\n",
      "loss:   0.9540774822235107,   acc:  0.78125\n",
      "loss:   1.239866018295288,   acc:  0.625\n",
      "Done with epoch 208 in 11.393528699874878s\n",
      "loss:   0.9497616291046143,   acc:  0.6875\n",
      "loss:   0.8525826930999756,   acc:  0.75\n",
      "loss:   1.071455955505371,   acc:  0.6875\n",
      "Done with epoch 209 in 11.611385822296143s\n",
      "loss:   1.1466608047485352,   acc:  0.65625\n",
      "loss:   0.9331841468811035,   acc:  0.71875\n",
      "loss:   1.2334837913513184,   acc:  0.59375\n",
      "Done with epoch 210 in 11.922654867172241s\n",
      "loss:   0.9442322254180908,   acc:  0.6875\n",
      "loss:   1.352001428604126,   acc:  0.5625\n",
      "loss:   1.3881046772003174,   acc:  0.65625\n",
      "Done with epoch 211 in 11.610605239868164s\n",
      "loss:   1.488544225692749,   acc:  0.5\n",
      "loss:   1.0878489017486572,   acc:  0.65625\n",
      "loss:   1.290740966796875,   acc:  0.625\n",
      "Done with epoch 212 in 11.61027216911316s\n",
      "loss:   1.1289255619049072,   acc:  0.65625\n",
      "Saved model at ../models\\MPC_horizon_12_obs_10.pt\n",
      "loss:   1.5403306484222412,   acc:  0.5\n",
      "Done with epoch 213 in 11.367883920669556s\n",
      "loss:   1.0515611171722412,   acc:  0.75\n",
      "loss:   1.6171939373016357,   acc:  0.59375\n",
      "loss:   0.772813081741333,   acc:  0.78125\n",
      "Done with epoch 214 in 11.625994443893433s\n",
      "loss:   1.0799462795257568,   acc:  0.65625\n",
      "loss:   1.331432580947876,   acc:  0.59375\n",
      "loss:   0.8021132946014404,   acc:  0.71875\n",
      "Done with epoch 215 in 11.970258951187134s\n",
      "loss:   1.0401887893676758,   acc:  0.71875\n",
      "loss:   0.9769322872161865,   acc:  0.75\n",
      "loss:   1.3962242603302002,   acc:  0.625\n",
      "Done with epoch 216 in 11.563557863235474s\n",
      "loss:   0.8492765426635742,   acc:  0.65625\n",
      "loss:   1.29744553565979,   acc:  0.5\n",
      "loss:   1.1980726718902588,   acc:  0.71875\n",
      "Done with epoch 217 in 11.532345056533813s\n",
      "loss:   1.8786745071411133,   acc:  0.53125\n",
      "loss:   0.9875473976135254,   acc:  0.65625\n",
      "loss:   1.4065954685211182,   acc:  0.5\n",
      "Done with epoch 218 in 11.50011920928955s\n",
      "loss:   1.2791178226470947,   acc:  0.625\n",
      "loss:   1.5020301342010498,   acc:  0.53125\n",
      "Done with epoch 219 in 12.016724586486816s\n",
      "loss:   1.0671191215515137,   acc:  0.65625\n",
      "loss:   1.2633144855499268,   acc:  0.65625\n",
      "loss:   0.837566614151001,   acc:  0.6875\n",
      "Done with epoch 220 in 11.548120498657227s\n",
      "loss:   1.1870276927947998,   acc:  0.5625\n",
      "loss:   0.8165850639343262,   acc:  0.65625\n",
      "loss:   1.8777761459350586,   acc:  0.5625\n",
      "Done with epoch 221 in 11.92308521270752s\n",
      "loss:   1.0826096534729004,   acc:  0.6875\n",
      "loss:   1.2008605003356934,   acc:  0.6875\n",
      "loss:   0.9538729190826416,   acc:  0.6875\n",
      "Done with epoch 222 in 11.500861883163452s\n",
      "loss:   1.5857117176055908,   acc:  0.59375\n",
      "loss:   1.3552191257476807,   acc:  0.59375\n",
      "loss:   1.2996249198913574,   acc:  0.625\n",
      "Saved model at ../models\\MPC_horizon_12_obs_10.pt\n",
      "Done with epoch 223 in 11.548457384109497s\n",
      "loss:   1.4824316501617432,   acc:  0.53125\n",
      "loss:   1.2511186599731445,   acc:  0.625\n",
      "Done with epoch 224 in 11.485461473464966s\n",
      "loss:   1.20660400390625,   acc:  0.625\n",
      "loss:   1.0167832374572754,   acc:  0.625\n",
      "loss:   1.040595293045044,   acc:  0.625\n",
      "Done with epoch 225 in 11.500881910324097s\n",
      "loss:   1.3274521827697754,   acc:  0.6875\n",
      "loss:   1.1283831596374512,   acc:  0.625\n",
      "loss:   1.1109366416931152,   acc:  0.65625\n",
      "Done with epoch 226 in 11.641612529754639s\n",
      "loss:   0.9899806976318359,   acc:  0.78125\n",
      "loss:   1.3953020572662354,   acc:  0.53125\n",
      "loss:   1.2953100204467773,   acc:  0.65625\n",
      "Done with epoch 227 in 11.876349687576294s\n",
      "loss:   1.0707733631134033,   acc:  0.625\n",
      "loss:   1.140843391418457,   acc:  0.6875\n",
      "loss:   1.0235271453857422,   acc:  0.6875\n",
      "Done with epoch 228 in 11.592267513275146s\n",
      "loss:   0.9273719787597656,   acc:  0.71875\n",
      "loss:   1.5784361362457275,   acc:  0.46875\n",
      "Done with epoch 229 in 11.402594327926636s\n",
      "loss:   1.6276659965515137,   acc:  0.53125\n",
      "loss:   0.9077901840209961,   acc:  0.6875\n",
      "loss:   1.3314898014068604,   acc:  0.5625\n",
      "Done with epoch 230 in 11.62621283531189s\n",
      "loss:   0.8576345443725586,   acc:  0.75\n",
      "loss:   1.322211742401123,   acc:  0.5625\n",
      "loss:   1.7227859497070312,   acc:  0.53125\n",
      "Done with epoch 231 in 11.610458135604858s\n",
      "loss:   1.73569655418396,   acc:  0.5625\n",
      "loss:   1.1813278198242188,   acc:  0.6875\n",
      "loss:   0.9879186153411865,   acc:  0.65625\n",
      "Done with epoch 232 in 12.001089334487915s\n",
      "loss:   1.0257046222686768,   acc:  0.6875\n",
      "loss:   1.2380449771881104,   acc:  0.65625\n",
      "loss:   1.11020827293396,   acc:  0.71875\n",
      "Done with epoch 233 in 11.512362718582153s\n",
      "loss:   0.9697253704071045,   acc:  0.6875\n",
      "loss:   1.352015495300293,   acc:  0.625\n",
      "Saved model at ../models\\MPC_horizon_12_obs_10.pt\n",
      "loss:   1.0501220226287842,   acc:  0.65625\n",
      "Done with epoch 234 in 11.469595193862915s\n",
      "loss:   1.348130464553833,   acc:  0.53125\n",
      "loss:   1.0037028789520264,   acc:  0.625\n",
      "Done with epoch 235 in 11.422898292541504s\n",
      "loss:   1.5392708778381348,   acc:  0.5625\n",
      "loss:   0.9709138870239258,   acc:  0.6875\n",
      "loss:   1.1443698406219482,   acc:  0.65625\n",
      "Done with epoch 236 in 11.500866174697876s\n",
      "loss:   0.8881230354309082,   acc:  0.6875\n",
      "loss:   0.8006424903869629,   acc:  0.8125\n",
      "loss:   0.7194085121154785,   acc:  0.78125\n",
      "Done with epoch 237 in 11.501254558563232s\n",
      "loss:   1.1977171897888184,   acc:  0.71875\n",
      "loss:   0.7452867031097412,   acc:  0.78125\n",
      "loss:   1.127549648284912,   acc:  0.625\n",
      "Done with epoch 238 in 11.929155826568604s\n",
      "loss:   1.4160449504852295,   acc:  0.65625\n",
      "loss:   1.0082237720489502,   acc:  0.71875\n",
      "loss:   1.177673578262329,   acc:  0.625\n",
      "Done with epoch 239 in 11.563623428344727s\n",
      "loss:   1.2426800727844238,   acc:  0.59375\n",
      "loss:   0.9921374320983887,   acc:  0.78125\n",
      "Done with epoch 240 in 13.03233003616333s\n",
      "loss:   1.35935378074646,   acc:  0.59375\n",
      "loss:   1.1720623970031738,   acc:  0.625\n",
      "loss:   1.2126832008361816,   acc:  0.59375\n",
      "Done with epoch 241 in 17.361151695251465s\n",
      "loss:   0.7521109580993652,   acc:  0.75\n",
      "loss:   1.086940050125122,   acc:  0.6875\n",
      "loss:   1.0463299751281738,   acc:  0.71875\n",
      "Done with epoch 242 in 15.954466581344604s\n",
      "loss:   1.521998405456543,   acc:  0.5\n",
      "loss:   0.5899479389190674,   acc:  0.8125\n",
      "loss:   1.115177869796753,   acc:  0.59375\n",
      "Done with epoch 243 in 16.18218445777893s\n",
      "loss:   1.295788288116455,   acc:  0.5625\n",
      "loss:   1.1493957042694092,   acc:  0.65625\n",
      "loss:   1.1843643188476562,   acc:  0.6875\n",
      "Done with epoch 244 in 16.023637533187866s\n",
      "loss:   0.8759613037109375,   acc:  0.75\n",
      "Saved model at ../models\\MPC_horizon_12_obs_10.pt\n",
      "loss:   1.3372070789337158,   acc:  0.625\n",
      "Done with epoch 245 in 15.93876028060913s\n",
      "loss:   1.622718334197998,   acc:  0.53125\n",
      "loss:   0.7091002464294434,   acc:  0.8125\n",
      "loss:   1.196540117263794,   acc:  0.625\n",
      "Done with epoch 246 in 16.11056661605835s\n",
      "loss:   1.6021654605865479,   acc:  0.53125\n",
      "loss:   0.888817548751831,   acc:  0.8125\n",
      "loss:   1.4435310363769531,   acc:  0.5\n",
      "Done with epoch 247 in 16.20450448989868s\n",
      "loss:   1.188624620437622,   acc:  0.6875\n",
      "loss:   1.2493786811828613,   acc:  0.65625\n",
      "loss:   1.624976634979248,   acc:  0.59375\n",
      "Done with epoch 248 in 16.03264617919922s\n",
      "loss:   1.4329814910888672,   acc:  0.4375\n",
      "loss:   1.080599069595337,   acc:  0.625\n",
      "loss:   1.1860523223876953,   acc:  0.625\n",
      "Done with epoch 249 in 16.34495735168457s\n",
      "loss:   1.0768132209777832,   acc:  0.65625\n",
      "loss:   1.4849507808685303,   acc:  0.59375\n",
      "loss:   0.6966674327850342,   acc:  0.8125\n",
      "Done with epoch 250 in 16.075035572052002s\n",
      "loss:   1.427767038345337,   acc:  0.53125\n",
      "loss:   1.4067447185516357,   acc:  0.65625\n",
      "Done with epoch 251 in 16.18907928466797s\n",
      "loss:   1.4113104343414307,   acc:  0.59375\n",
      "loss:   1.053875207901001,   acc:  0.78125\n",
      "loss:   0.8915090560913086,   acc:  0.71875\n",
      "Done with epoch 252 in 16.032652139663696s\n",
      "loss:   1.16310715675354,   acc:  0.5625\n",
      "loss:   1.1171348094940186,   acc:  0.65625\n",
      "loss:   1.2001292705535889,   acc:  0.5625\n",
      "Done with epoch 253 in 16.37643051147461s\n",
      "loss:   1.4032912254333496,   acc:  0.59375\n",
      "loss:   1.1836214065551758,   acc:  0.71875\n",
      "loss:   1.3814067840576172,   acc:  0.625\n",
      "Done with epoch 254 in 16.014713287353516s\n",
      "loss:   1.0260653495788574,   acc:  0.625\n",
      "loss:   1.2531194686889648,   acc:  0.59375\n",
      "loss:   1.1256706714630127,   acc:  0.625\n",
      "Saved model at ../models\\MPC_horizon_12_obs_10.pt\n",
      "Done with epoch 255 in 16.485914707183838s\n",
      "loss:   1.085909128189087,   acc:  0.6875\n",
      "loss:   1.677788496017456,   acc:  0.53125\n",
      "Done with epoch 256 in 15.891850709915161s\n",
      "loss:   1.1912775039672852,   acc:  0.65625\n",
      "loss:   1.3841862678527832,   acc:  0.625\n",
      "loss:   1.2406139373779297,   acc:  0.625\n",
      "Done with epoch 257 in 16.163912296295166s\n",
      "loss:   0.885333776473999,   acc:  0.625\n",
      "loss:   1.1322879791259766,   acc:  0.65625\n",
      "loss:   1.3580694198608398,   acc:  0.5625\n",
      "Done with epoch 258 in 16.14181876182556s\n",
      "loss:   1.209320068359375,   acc:  0.625\n",
      "loss:   1.0256328582763672,   acc:  0.625\n",
      "loss:   1.3678598403930664,   acc:  0.46875\n",
      "Done with epoch 259 in 16.50182580947876s\n",
      "loss:   0.9985549449920654,   acc:  0.71875\n",
      "loss:   1.0720696449279785,   acc:  0.59375\n",
      "loss:   1.2017953395843506,   acc:  0.625\n",
      "Done with epoch 260 in 16.32971739768982s\n",
      "loss:   1.6546247005462646,   acc:  0.53125\n",
      "loss:   1.255511999130249,   acc:  0.59375\n",
      "loss:   1.1177465915679932,   acc:  0.625\n",
      "Done with epoch 261 in 16.371077299118042s\n",
      "loss:   1.0452921390533447,   acc:  0.65625\n",
      "loss:   1.2669305801391602,   acc:  0.65625\n",
      "Done with epoch 262 in 16.147693157196045s\n",
      "loss:   1.2127013206481934,   acc:  0.59375\n",
      "loss:   1.121100902557373,   acc:  0.71875\n",
      "loss:   1.2973251342773438,   acc:  0.65625\n",
      "Done with epoch 263 in 16.392331838607788s\n",
      "loss:   0.9950332641601562,   acc:  0.71875\n",
      "loss:   0.7242531776428223,   acc:  0.71875\n",
      "loss:   1.0814599990844727,   acc:  0.625\n",
      "Done with epoch 264 in 16.423314094543457s\n",
      "loss:   1.3957643508911133,   acc:  0.46875\n",
      "loss:   1.0939173698425293,   acc:  0.5625\n",
      "loss:   1.0104939937591553,   acc:  0.65625\n",
      "Done with epoch 265 in 16.195037364959717s\n",
      "loss:   1.071410894393921,   acc:  0.625\n",
      "loss:   1.36773681640625,   acc:  0.5\n",
      "Saved model at ../models\\MPC_horizon_12_obs_10.pt\n",
      "loss:   1.1879591941833496,   acc:  0.625\n",
      "Done with epoch 266 in 16.486220598220825s\n",
      "loss:   0.7640039920806885,   acc:  0.78125\n",
      "loss:   1.153778314590454,   acc:  0.6875\n",
      "Done with epoch 267 in 16.189019203186035s\n",
      "loss:   1.0081067085266113,   acc:  0.71875\n",
      "loss:   0.8137447834014893,   acc:  0.75\n",
      "loss:   1.3624334335327148,   acc:  0.59375\n",
      "Done with epoch 268 in 16.168485641479492s\n",
      "loss:   1.00142502784729,   acc:  0.6875\n",
      "loss:   1.254110336303711,   acc:  0.625\n",
      "loss:   1.100459337234497,   acc:  0.59375\n",
      "Done with epoch 269 in 16.08642077445984s\n",
      "loss:   1.4476642608642578,   acc:  0.6875\n",
      "loss:   0.9677345752716064,   acc:  0.65625\n",
      "loss:   1.0948517322540283,   acc:  0.59375\n",
      "Done with epoch 270 in 16.17362880706787s\n",
      "loss:   1.5934107303619385,   acc:  0.53125\n",
      "loss:   1.399221420288086,   acc:  0.625\n",
      "loss:   0.5635740756988525,   acc:  0.8125\n",
      "Done with epoch 271 in 16.220234394073486s\n",
      "loss:   1.1156377792358398,   acc:  0.625\n",
      "loss:   1.0123794078826904,   acc:  0.625\n",
      "Done with epoch 272 in 16.147151231765747s\n",
      "loss:   0.79374098777771,   acc:  0.71875\n",
      "loss:   0.770916223526001,   acc:  0.84375\n",
      "loss:   1.0720946788787842,   acc:  0.71875\n",
      "Done with epoch 273 in 16.07947301864624s\n",
      "loss:   1.0513157844543457,   acc:  0.65625\n",
      "loss:   1.0665106773376465,   acc:  0.65625\n",
      "loss:   1.2799081802368164,   acc:  0.5625\n",
      "Done with epoch 274 in 16.086609601974487s\n",
      "loss:   1.427640676498413,   acc:  0.5\n",
      "loss:   0.9372720718383789,   acc:  0.78125\n",
      "loss:   0.8147575855255127,   acc:  0.6875\n",
      "Done with epoch 275 in 16.59533190727234s\n",
      "loss:   1.3968427181243896,   acc:  0.53125\n",
      "loss:   1.6191048622131348,   acc:  0.5625\n",
      "loss:   1.4883153438568115,   acc:  0.65625\n",
      "Done with epoch 276 in 16.28263211250305s\n",
      "loss:   1.2353487014770508,   acc:  0.625\n",
      "Saved model at ../models\\MPC_horizon_12_obs_10.pt\n",
      "loss:   1.8039188385009766,   acc:  0.53125\n",
      "loss:   1.3790850639343262,   acc:  0.5\n",
      "Done with epoch 277 in 13.766936302185059s\n",
      "loss:   1.1955361366271973,   acc:  0.625\n",
      "loss:   1.438523530960083,   acc:  0.59375\n",
      "Done with epoch 278 in 11.657425880432129s\n",
      "loss:   0.8985989093780518,   acc:  0.75\n",
      "loss:   1.1579599380493164,   acc:  0.65625\n",
      "loss:   1.5495870113372803,   acc:  0.59375\n",
      "Done with epoch 279 in 11.907332420349121s\n",
      "loss:   1.038137674331665,   acc:  0.625\n",
      "loss:   0.9425063133239746,   acc:  0.65625\n",
      "loss:   1.2390904426574707,   acc:  0.5625\n",
      "Done with epoch 280 in 12.297940731048584s\n",
      "loss:   1.4561138153076172,   acc:  0.46875\n",
      "loss:   1.313633680343628,   acc:  0.5625\n",
      "loss:   1.2999143600463867,   acc:  0.625\n",
      "Done with epoch 281 in 11.750019073486328s\n",
      "loss:   1.081390142440796,   acc:  0.6875\n",
      "loss:   1.4895670413970947,   acc:  0.59375\n",
      "loss:   1.6192574501037598,   acc:  0.53125\n",
      "Done with epoch 282 in 11.704224824905396s\n",
      "loss:   1.3951942920684814,   acc:  0.65625\n",
      "loss:   1.0560901165008545,   acc:  0.6875\n",
      "Done with epoch 283 in 11.454588651657104s\n",
      "loss:   1.3191158771514893,   acc:  0.59375\n",
      "loss:   1.526787519454956,   acc:  0.5\n",
      "loss:   0.9944322109222412,   acc:  0.6875\n",
      "Done with epoch 284 in 11.71979546546936s\n",
      "loss:   1.1283679008483887,   acc:  0.65625\n",
      "loss:   0.9289882183074951,   acc:  0.75\n",
      "loss:   0.7958922386169434,   acc:  0.71875\n",
      "Done with epoch 285 in 11.719849586486816s\n",
      "loss:   1.5624275207519531,   acc:  0.5625\n",
      "loss:   1.6430721282958984,   acc:  0.46875\n",
      "loss:   1.3934299945831299,   acc:  0.5625\n",
      "Done with epoch 286 in 12.033446311950684s\n",
      "loss:   1.0785093307495117,   acc:  0.625\n",
      "loss:   0.8454182147979736,   acc:  0.71875\n",
      "loss:   1.5979199409484863,   acc:  0.5625\n",
      "Saved model at ../models\\MPC_horizon_12_obs_10.pt\n",
      "Done with epoch 287 in 11.61061143875122s\n",
      "loss:   1.032456874847412,   acc:  0.59375\n",
      "loss:   0.8269026279449463,   acc:  0.71875\n",
      "Done with epoch 288 in 11.469894409179688s\n",
      "loss:   1.2615766525268555,   acc:  0.59375\n",
      "loss:   1.0991487503051758,   acc:  0.625\n",
      "loss:   1.5312294960021973,   acc:  0.59375\n",
      "Done with epoch 289 in 11.563551425933838s\n",
      "loss:   1.7896242141723633,   acc:  0.5\n",
      "loss:   1.0377013683319092,   acc:  0.6875\n",
      "loss:   0.9210495948791504,   acc:  0.6875\n",
      "Done with epoch 290 in 13.944495677947998s\n",
      "loss:   0.9093101024627686,   acc:  0.6875\n",
      "loss:   1.4010632038116455,   acc:  0.59375\n",
      "loss:   1.2968034744262695,   acc:  0.5625\n",
      "Done with epoch 291 in 21.01475429534912s\n",
      "loss:   1.196946144104004,   acc:  0.625\n",
      "loss:   0.9438126087188721,   acc:  0.75\n",
      "loss:   1.1721694469451904,   acc:  0.59375\n",
      "Done with epoch 292 in 19.971281051635742s\n",
      "loss:   1.3313539028167725,   acc:  0.53125\n",
      "loss:   0.8329930305480957,   acc:  0.6875\n",
      "loss:   0.9246141910552979,   acc:  0.65625\n",
      "Done with epoch 293 in 12.641640663146973s\n",
      "loss:   1.1924488544464111,   acc:  0.65625\n",
      "loss:   0.7116823196411133,   acc:  0.78125\n",
      "Done with epoch 294 in 12.72839069366455s\n",
      "loss:   1.4444403648376465,   acc:  0.5625\n",
      "loss:   1.157365083694458,   acc:  0.59375\n",
      "loss:   1.2314832210540771,   acc:  0.6875\n",
      "Done with epoch 295 in 12.610482931137085s\n",
      "loss:   1.247812271118164,   acc:  0.71875\n",
      "loss:   1.1603777408599854,   acc:  0.625\n",
      "loss:   0.9823534488677979,   acc:  0.65625\n",
      "Done with epoch 296 in 12.498950242996216s\n",
      "loss:   1.2672231197357178,   acc:  0.5625\n",
      "loss:   1.1422533988952637,   acc:  0.625\n",
      "loss:   1.5550782680511475,   acc:  0.40625\n",
      "Done with epoch 297 in 12.341826915740967s\n",
      "loss:   1.2044734954833984,   acc:  0.6875\n",
      "loss:   0.9599871635437012,   acc:  0.78125\n",
      "Saved model at ../models\\MPC_horizon_12_obs_10.pt\n",
      "loss:   1.314159631729126,   acc:  0.625\n",
      "Done with epoch 298 in 12.094664096832275s\n",
      "loss:   0.8932218551635742,   acc:  0.8125\n",
      "loss:   1.3244898319244385,   acc:  0.46875\n",
      "Done with epoch 299 in 11.375945568084717s\n",
      "loss:   0.9074404239654541,   acc:  0.75\n",
      "loss:   1.430178165435791,   acc:  0.5625\n",
      "loss:   0.9548590183258057,   acc:  0.75\n",
      "Done with epoch 300 in 11.679569482803345s\n",
      "loss:   1.1827483177185059,   acc:  0.625\n",
      "loss:   1.0837578773498535,   acc:  0.71875\n",
      "loss:   1.2021338939666748,   acc:  0.625\n",
      "Done with epoch 301 in 11.720287322998047s\n",
      "loss:   1.0591764450073242,   acc:  0.71875\n",
      "loss:   1.3637981414794922,   acc:  0.59375\n",
      "loss:   1.2162277698516846,   acc:  0.6875\n",
      "Done with epoch 302 in 11.364696979522705s\n",
      "loss:   1.3525903224945068,   acc:  0.5625\n",
      "loss:   1.8299744129180908,   acc:  0.53125\n",
      "loss:   1.2203474044799805,   acc:  0.5625\n",
      "Done with epoch 303 in 11.32914423942566s\n",
      "loss:   1.118356704711914,   acc:  0.65625\n",
      "loss:   1.286217212677002,   acc:  0.625\n",
      "Done with epoch 304 in 11.375872373580933s\n",
      "loss:   1.337545394897461,   acc:  0.59375\n",
      "loss:   1.1204886436462402,   acc:  0.65625\n",
      "loss:   1.3191978931427002,   acc:  0.59375\n",
      "Done with epoch 305 in 11.344788551330566s\n",
      "loss:   1.3582251071929932,   acc:  0.46875\n",
      "loss:   1.1600899696350098,   acc:  0.59375\n",
      "loss:   0.7042202949523926,   acc:  0.84375\n",
      "Done with epoch 306 in 11.704244613647461s\n",
      "loss:   1.5685982704162598,   acc:  0.5625\n",
      "loss:   0.9794204235076904,   acc:  0.65625\n",
      "loss:   1.7359113693237305,   acc:  0.5625\n",
      "Done with epoch 307 in 11.2937593460083s\n",
      "loss:   1.1150274276733398,   acc:  0.65625\n",
      "loss:   1.7045917510986328,   acc:  0.5625\n",
      "loss:   1.469822883605957,   acc:  0.5625\n",
      "Done with epoch 308 in 11.313767194747925s\n",
      "loss:   0.8897855281829834,   acc:  0.71875\n",
      "Saved model at ../models\\MPC_horizon_12_obs_10.pt\n",
      "loss:   1.0366265773773193,   acc:  0.59375\n",
      "loss:   1.1777513027191162,   acc:  0.625\n",
      "Done with epoch 309 in 11.375943660736084s\n",
      "loss:   0.9336378574371338,   acc:  0.71875\n",
      "loss:   1.2353768348693848,   acc:  0.65625\n",
      "Done with epoch 310 in 11.157451868057251s\n",
      "loss:   1.1215951442718506,   acc:  0.59375\n",
      "loss:   0.7168445587158203,   acc:  0.71875\n",
      "loss:   0.9100189208984375,   acc:  0.65625\n",
      "Done with epoch 311 in 11.329270839691162s\n",
      "loss:   1.364842176437378,   acc:  0.65625\n",
      "loss:   1.2758288383483887,   acc:  0.59375\n",
      "loss:   1.1102352142333984,   acc:  0.625\n",
      "Done with epoch 312 in 12.964793920516968s\n",
      "loss:   1.0518922805786133,   acc:  0.71875\n",
      "loss:   1.4019060134887695,   acc:  0.625\n",
      "loss:   1.132796287536621,   acc:  0.71875\n",
      "Done with epoch 313 in 11.375951528549194s\n",
      "loss:   1.1674189567565918,   acc:  0.5625\n",
      "loss:   0.7363166809082031,   acc:  0.75\n",
      "loss:   0.8124372959136963,   acc:  0.6875\n",
      "Done with epoch 314 in 11.344658613204956s\n",
      "loss:   0.7071568965911865,   acc:  0.8125\n",
      "loss:   1.0461649894714355,   acc:  0.625\n",
      "Done with epoch 315 in 11.204020261764526s\n",
      "loss:   1.2320313453674316,   acc:  0.59375\n",
      "loss:   1.4392049312591553,   acc:  0.5\n",
      "loss:   1.1814675331115723,   acc:  0.5625\n",
      "Done with epoch 316 in 11.329147100448608s\n",
      "loss:   1.2517919540405273,   acc:  0.71875\n",
      "loss:   1.1541016101837158,   acc:  0.625\n",
      "loss:   1.0783882141113281,   acc:  0.59375\n",
      "Done with epoch 317 in 12.558660507202148s\n",
      "loss:   1.0857610702514648,   acc:  0.6875\n",
      "loss:   0.9017524719238281,   acc:  0.75\n",
      "loss:   0.7743048667907715,   acc:  0.71875\n",
      "Done with epoch 318 in 11.579195499420166s\n",
      "loss:   0.9585087299346924,   acc:  0.65625\n",
      "loss:   1.3274457454681396,   acc:  0.53125\n",
      "loss:   0.9431257247924805,   acc:  0.6875\n",
      "Saved model at ../models\\MPC_horizon_12_obs_10.pt\n",
      "Done with epoch 319 in 11.32911992073059s\n",
      "loss:   0.9470071792602539,   acc:  0.6875\n",
      "loss:   1.4689979553222656,   acc:  0.5625\n",
      "Done with epoch 320 in 11.266513347625732s\n",
      "loss:   1.0850205421447754,   acc:  0.71875\n",
      "loss:   1.172778606414795,   acc:  0.59375\n",
      "loss:   1.1793663501739502,   acc:  0.65625\n",
      "Done with epoch 321 in 11.501062393188477s\n",
      "loss:   0.9603214263916016,   acc:  0.6875\n",
      "loss:   1.2381477355957031,   acc:  0.46875\n",
      "loss:   1.470820426940918,   acc:  0.5\n",
      "Done with epoch 322 in 11.388039588928223s\n",
      "loss:   0.6968069076538086,   acc:  0.8125\n",
      "loss:   1.2594070434570312,   acc:  0.625\n",
      "loss:   0.9513757228851318,   acc:  0.6875\n",
      "Done with epoch 323 in 11.610470294952393s\n",
      "loss:   1.087508201599121,   acc:  0.5625\n",
      "loss:   0.9043056964874268,   acc:  0.6875\n",
      "loss:   0.8757028579711914,   acc:  0.6875\n",
      "Done with epoch 324 in 11.375910758972168s\n",
      "loss:   1.613684892654419,   acc:  0.53125\n",
      "loss:   0.8892855644226074,   acc:  0.6875\n",
      "loss:   1.2730827331542969,   acc:  0.53125\n",
      "Done with epoch 325 in 18.150144815444946s\n",
      "loss:   1.5599005222320557,   acc:  0.5\n",
      "loss:   1.263742446899414,   acc:  0.625\n",
      "Done with epoch 326 in 20.399059772491455s\n",
      "loss:   1.2876038551330566,   acc:  0.53125\n",
      "loss:   1.1866350173950195,   acc:  0.65625\n",
      "loss:   0.8576791286468506,   acc:  0.75\n",
      "Done with epoch 327 in 21.500396013259888s\n",
      "loss:   1.5630898475646973,   acc:  0.625\n",
      "loss:   0.8699796199798584,   acc:  0.71875\n",
      "loss:   1.1839628219604492,   acc:  0.65625\n",
      "Done with epoch 328 in 20.843897819519043s\n",
      "loss:   1.5599510669708252,   acc:  0.4375\n",
      "loss:   1.0456068515777588,   acc:  0.59375\n",
      "loss:   1.169039249420166,   acc:  0.65625\n",
      "Done with epoch 329 in 21.86520481109619s\n",
      "loss:   0.8811612129211426,   acc:  0.84375\n",
      "loss:   0.7045447826385498,   acc:  0.78125\n",
      "Saved model at ../models\\MPC_horizon_12_obs_10.pt\n",
      "loss:   0.8643858432769775,   acc:  0.65625\n",
      "Done with epoch 330 in 21.48376202583313s\n",
      "loss:   0.7880392074584961,   acc:  0.65625\n",
      "loss:   1.516477346420288,   acc:  0.5625\n",
      "Done with epoch 331 in 20.936997175216675s\n",
      "loss:   1.5555775165557861,   acc:  0.59375\n",
      "loss:   1.2853584289550781,   acc:  0.53125\n",
      "loss:   1.4298570156097412,   acc:  0.65625\n",
      "Done with epoch 332 in 21.950660467147827s\n",
      "loss:   1.1885490417480469,   acc:  0.625\n",
      "loss:   0.7430553436279297,   acc:  0.71875\n",
      "loss:   0.9399209022521973,   acc:  0.6875\n",
      "Done with epoch 333 in 28.150536060333252s\n",
      "loss:   0.9321858882904053,   acc:  0.75\n",
      "loss:   1.228811502456665,   acc:  0.71875\n",
      "loss:   1.2739737033843994,   acc:  0.59375\n",
      "Done with epoch 334 in 24.41098141670227s\n",
      "loss:   0.9319643974304199,   acc:  0.6875\n",
      "loss:   0.8420186042785645,   acc:  0.75\n",
      "loss:   1.3284995555877686,   acc:  0.5625\n",
      "Done with epoch 335 in 24.39018487930298s\n",
      "loss:   1.249593734741211,   acc:  0.5625\n",
      "loss:   1.0093133449554443,   acc:  0.625\n",
      "Done with epoch 336 in 24.290008306503296s\n",
      "loss:   1.3199357986450195,   acc:  0.5625\n",
      "loss:   1.2429547309875488,   acc:  0.5625\n",
      "loss:   0.9752283096313477,   acc:  0.6875\n",
      "Done with epoch 337 in 24.464171171188354s\n",
      "loss:   0.7482373714447021,   acc:  0.78125\n",
      "loss:   1.5193188190460205,   acc:  0.6875\n",
      "loss:   1.085662603378296,   acc:  0.625\n",
      "Done with epoch 338 in 24.466843366622925s\n",
      "loss:   0.9966857433319092,   acc:  0.71875\n",
      "loss:   0.8694577217102051,   acc:  0.78125\n",
      "loss:   1.6672554016113281,   acc:  0.5\n",
      "Done with epoch 339 in 25.610337257385254s\n",
      "loss:   0.7896227836608887,   acc:  0.78125\n",
      "loss:   0.7979385852813721,   acc:  0.78125\n",
      "loss:   1.4715759754180908,   acc:  0.46875\n",
      "Done with epoch 340 in 24.276010990142822s\n",
      "loss:   1.006089210510254,   acc:  0.6875\n",
      "Saved model at ../models\\MPC_horizon_12_obs_10.pt\n",
      "loss:   1.292625904083252,   acc:  0.625\n",
      "loss:   0.8372960090637207,   acc:  0.75\n",
      "Done with epoch 341 in 24.195008039474487s\n",
      "loss:   0.6492118835449219,   acc:  0.78125\n",
      "loss:   1.0285542011260986,   acc:  0.6875\n",
      "Done with epoch 342 in 23.87699294090271s\n",
      "loss:   1.1180272102355957,   acc:  0.625\n",
      "loss:   0.9143555164337158,   acc:  0.65625\n",
      "loss:   1.0076866149902344,   acc:  0.75\n",
      "Done with epoch 343 in 24.769073724746704s\n",
      "loss:   1.1593718528747559,   acc:  0.625\n",
      "loss:   1.0730462074279785,   acc:  0.625\n",
      "loss:   1.169435977935791,   acc:  0.75\n",
      "Done with epoch 344 in 24.945000648498535s\n",
      "loss:   1.14082670211792,   acc:  0.75\n",
      "loss:   1.2175207138061523,   acc:  0.65625\n",
      "loss:   0.7680096626281738,   acc:  0.75\n",
      "Done with epoch 345 in 24.86503529548645s\n",
      "loss:   1.3064279556274414,   acc:  0.59375\n",
      "loss:   1.1446542739868164,   acc:  0.71875\n",
      "loss:   1.341008186340332,   acc:  0.625\n",
      "Done with epoch 346 in 24.979002475738525s\n",
      "loss:   0.9482650756835938,   acc:  0.71875\n",
      "loss:   0.9069371223449707,   acc:  0.71875\n",
      "Done with epoch 347 in 24.661005973815918s\n",
      "loss:   1.172008991241455,   acc:  0.65625\n",
      "loss:   1.3634326457977295,   acc:  0.5\n",
      "loss:   1.0693531036376953,   acc:  0.5625\n",
      "Done with epoch 348 in 25.10999321937561s\n",
      "loss:   1.2558705806732178,   acc:  0.59375\n",
      "loss:   1.221653938293457,   acc:  0.625\n",
      "loss:   0.9090306758880615,   acc:  0.625\n",
      "Done with epoch 349 in 25.291004180908203s\n",
      "loss:   1.5755903720855713,   acc:  0.625\n",
      "loss:   1.1770198345184326,   acc:  0.625\n",
      "loss:   1.1461539268493652,   acc:  0.71875\n",
      "Done with epoch 350 in 25.430996656417847s\n",
      "loss:   1.048734426498413,   acc:  0.71875\n",
      "loss:   0.6560473442077637,   acc:  0.78125\n",
      "loss:   1.2606806755065918,   acc:  0.65625\n",
      "Saved model at ../models\\MPC_horizon_12_obs_10.pt\n",
      "Done with epoch 351 in 24.944018125534058s\n",
      "loss:   0.8716428279876709,   acc:  0.78125\n",
      "loss:   1.1340250968933105,   acc:  0.65625\n",
      "Done with epoch 352 in 24.529035091400146s\n",
      "loss:   1.6101293563842773,   acc:  0.5625\n",
      "loss:   1.3980374336242676,   acc:  0.625\n",
      "loss:   0.9488909244537354,   acc:  0.75\n",
      "Done with epoch 353 in 22.703327894210815s\n",
      "loss:   1.0462746620178223,   acc:  0.65625\n",
      "loss:   1.1356201171875,   acc:  0.59375\n",
      "loss:   1.4496657848358154,   acc:  0.53125\n",
      "Done with epoch 354 in 24.010996341705322s\n",
      "loss:   1.0393447875976562,   acc:  0.5625\n",
      "loss:   1.4047024250030518,   acc:  0.5\n",
      "loss:   1.2686758041381836,   acc:  0.71875\n",
      "Done with epoch 355 in 23.613734006881714s\n",
      "loss:   1.1270861625671387,   acc:  0.71875\n",
      "loss:   0.9062528610229492,   acc:  0.8125\n",
      "loss:   0.6812548637390137,   acc:  0.78125\n",
      "Done with epoch 356 in 24.291998386383057s\n",
      "loss:   1.0658354759216309,   acc:  0.65625\n",
      "loss:   0.9714550971984863,   acc:  0.6875\n",
      "loss:   1.1208980083465576,   acc:  0.71875\n",
      "Done with epoch 357 in 25.34399962425232s\n",
      "loss:   1.4707040786743164,   acc:  0.625\n",
      "loss:   0.9515790939331055,   acc:  0.75\n",
      "Done with epoch 358 in 25.57700252532959s\n",
      "loss:   1.2433338165283203,   acc:  0.5625\n",
      "loss:   1.101323127746582,   acc:  0.65625\n",
      "loss:   1.0884294509887695,   acc:  0.71875\n",
      "Done with epoch 359 in 25.399005651474s\n",
      "loss:   0.6330580711364746,   acc:  0.75\n",
      "loss:   1.388075828552246,   acc:  0.5625\n",
      "loss:   0.9998915195465088,   acc:  0.59375\n",
      "Done with epoch 360 in 25.321999549865723s\n",
      "loss:   1.274261236190796,   acc:  0.625\n",
      "loss:   0.8519554138183594,   acc:  0.75\n",
      "loss:   1.0961401462554932,   acc:  0.65625\n",
      "Done with epoch 361 in 23.283026456832886s\n",
      "loss:   1.1021347045898438,   acc:  0.6875\n",
      "loss:   0.959968090057373,   acc:  0.65625\n",
      "Saved model at ../models\\MPC_horizon_12_obs_10.pt\n",
      "loss:   0.8411741256713867,   acc:  0.6875\n",
      "Done with epoch 362 in 23.132967472076416s\n",
      "loss:   1.5598559379577637,   acc:  0.46875\n",
      "loss:   0.8973128795623779,   acc:  0.71875\n",
      "Done with epoch 363 in 23.365215301513672s\n",
      "loss:   1.45924973487854,   acc:  0.53125\n",
      "loss:   1.3940343856811523,   acc:  0.625\n",
      "loss:   1.2390823364257812,   acc:  0.5625\n",
      "Done with epoch 364 in 22.400094509124756s\n",
      "loss:   0.6966395378112793,   acc:  0.875\n",
      "loss:   0.6769745349884033,   acc:  0.71875\n",
      "loss:   1.148005485534668,   acc:  0.59375\n",
      "Done with epoch 365 in 22.01259183883667s\n",
      "loss:   1.1771531105041504,   acc:  0.71875\n",
      "loss:   0.8694798946380615,   acc:  0.6875\n",
      "loss:   1.3546326160430908,   acc:  0.5625\n",
      "Done with epoch 366 in 22.27949547767639s\n",
      "loss:   1.3019542694091797,   acc:  0.4375\n",
      "loss:   0.7447314262390137,   acc:  0.84375\n",
      "loss:   0.9723021984100342,   acc:  0.6875\n",
      "Done with epoch 367 in 23.1440007686615s\n",
      "loss:   1.6089849472045898,   acc:  0.59375\n",
      "loss:   0.8195216655731201,   acc:  0.71875\n",
      "Done with epoch 368 in 22.286996603012085s\n",
      "loss:   1.4814643859863281,   acc:  0.46875\n",
      "loss:   1.3105220794677734,   acc:  0.625\n",
      "loss:   1.4201445579528809,   acc:  0.5625\n",
      "Done with epoch 369 in 22.82399606704712s\n",
      "loss:   0.9998176097869873,   acc:  0.71875\n",
      "loss:   0.8585383892059326,   acc:  0.6875\n",
      "loss:   0.8645675182342529,   acc:  0.71875\n",
      "Done with epoch 370 in 23.523000955581665s\n",
      "loss:   1.6141586303710938,   acc:  0.5625\n",
      "loss:   1.3536128997802734,   acc:  0.5625\n",
      "loss:   0.6052913665771484,   acc:  0.84375\n",
      "Done with epoch 371 in 24.074050664901733s\n",
      "loss:   0.9567975997924805,   acc:  0.65625\n",
      "loss:   1.2681818008422852,   acc:  0.46875\n",
      "loss:   0.8360798358917236,   acc:  0.71875\n",
      "Done with epoch 372 in 23.919996738433838s\n",
      "loss:   1.427868366241455,   acc:  0.6875\n",
      "Saved model at ../models\\MPC_horizon_12_obs_10.pt\n",
      "loss:   1.0164289474487305,   acc:  0.6875\n",
      "loss:   1.1414799690246582,   acc:  0.5625\n",
      "Done with epoch 373 in 23.340018272399902s\n",
      "loss:   0.9672715663909912,   acc:  0.625\n",
      "loss:   1.4509243965148926,   acc:  0.625\n",
      "Done with epoch 374 in 23.7549786567688s\n",
      "loss:   1.2211594581604004,   acc:  0.625\n",
      "loss:   1.0029921531677246,   acc:  0.6875\n",
      "loss:   1.321589469909668,   acc:  0.65625\n",
      "Done with epoch 375 in 23.243003129959106s\n",
      "loss:   0.9232869148254395,   acc:  0.75\n",
      "loss:   1.1927094459533691,   acc:  0.65625\n",
      "loss:   0.805595874786377,   acc:  0.625\n",
      "Done with epoch 376 in 22.791014194488525s\n",
      "loss:   1.0555329322814941,   acc:  0.59375\n",
      "loss:   1.004636287689209,   acc:  0.6875\n",
      "loss:   0.9869155883789062,   acc:  0.78125\n",
      "Done with epoch 377 in 22.266478061676025s\n",
      "loss:   0.9683289527893066,   acc:  0.71875\n",
      "loss:   0.993349552154541,   acc:  0.6875\n",
      "loss:   1.282973289489746,   acc:  0.65625\n",
      "Done with epoch 378 in 21.540008783340454s\n",
      "loss:   1.0873017311096191,   acc:  0.59375\n",
      "loss:   0.9166638851165771,   acc:  0.6875\n",
      "Done with epoch 379 in 22.979999542236328s\n",
      "loss:   0.7992129325866699,   acc:  0.75\n",
      "loss:   0.817535400390625,   acc:  0.75\n",
      "loss:   0.8007609844207764,   acc:  0.75\n",
      "Done with epoch 380 in 22.117194175720215s\n",
      "loss:   1.0252056121826172,   acc:  0.65625\n",
      "loss:   1.3145873546600342,   acc:  0.625\n",
      "loss:   1.745497226715088,   acc:  0.53125\n",
      "Done with epoch 381 in 22.71702480316162s\n",
      "loss:   1.256197452545166,   acc:  0.625\n",
      "loss:   1.2681965827941895,   acc:  0.625\n",
      "loss:   1.2048006057739258,   acc:  0.625\n",
      "Done with epoch 382 in 25.651767253875732s\n",
      "loss:   0.7474660873413086,   acc:  0.65625\n",
      "loss:   0.748706579208374,   acc:  0.75\n",
      "loss:   0.7886066436767578,   acc:  0.71875\n",
      "Saved model at ../models\\MPC_horizon_12_obs_10.pt\n",
      "Done with epoch 383 in 23.369009017944336s\n",
      "loss:   1.6867990493774414,   acc:  0.53125\n",
      "loss:   0.8458518981933594,   acc:  0.84375\n",
      "loss:   1.4520115852355957,   acc:  0.6875\n",
      "Done with epoch 384 in 23.02238416671753s\n",
      "loss:   1.2886910438537598,   acc:  0.53125\n",
      "loss:   1.084423303604126,   acc:  0.65625\n",
      "Done with epoch 385 in 23.26002860069275s\n",
      "loss:   0.9368381500244141,   acc:  0.75\n",
      "loss:   0.8868956565856934,   acc:  0.75\n",
      "loss:   1.3047823905944824,   acc:  0.65625\n",
      "Done with epoch 386 in 22.067047595977783s\n",
      "loss:   0.897402286529541,   acc:  0.71875\n",
      "loss:   1.1005172729492188,   acc:  0.65625\n",
      "loss:   1.1604375839233398,   acc:  0.59375\n",
      "Done with epoch 387 in 24.18790578842163s\n",
      "loss:   0.7994735240936279,   acc:  0.78125\n",
      "loss:   1.059647560119629,   acc:  0.71875\n",
      "loss:   1.0736069679260254,   acc:  0.65625\n",
      "Done with epoch 388 in 24.950001001358032s\n",
      "loss:   0.9663076400756836,   acc:  0.6875\n",
      "loss:   1.0637977123260498,   acc:  0.65625\n",
      "loss:   1.2657601833343506,   acc:  0.53125\n",
      "Done with epoch 389 in 23.683000326156616s\n",
      "loss:   1.0794706344604492,   acc:  0.59375\n",
      "loss:   0.8526406288146973,   acc:  0.75\n",
      "Done with epoch 390 in 23.86702060699463s\n",
      "loss:   1.0143096446990967,   acc:  0.75\n",
      "loss:   1.3538575172424316,   acc:  0.5\n",
      "loss:   0.6590657234191895,   acc:  0.71875\n",
      "Done with epoch 391 in 25.132988214492798s\n",
      "loss:   1.1740169525146484,   acc:  0.65625\n",
      "loss:   1.5047264099121094,   acc:  0.59375\n",
      "loss:   1.1688165664672852,   acc:  0.59375\n",
      "Done with epoch 392 in 25.0180242061615s\n",
      "loss:   0.8682479858398438,   acc:  0.6875\n",
      "loss:   0.7340126037597656,   acc:  0.6875\n",
      "loss:   0.6384518146514893,   acc:  0.8125\n",
      "Done with epoch 393 in 25.21399974822998s\n",
      "loss:   0.906574010848999,   acc:  0.78125\n",
      "loss:   0.8472161293029785,   acc:  0.75\n",
      "Saved model at ../models\\MPC_horizon_12_obs_10.pt\n",
      "loss:   1.088794231414795,   acc:  0.6875\n",
      "Done with epoch 394 in 24.54453444480896s\n",
      "loss:   1.3804292678833008,   acc:  0.5625\n",
      "loss:   1.0021491050720215,   acc:  0.6875\n",
      "Done with epoch 395 in 24.357999086380005s\n",
      "loss:   0.9877967834472656,   acc:  0.6875\n",
      "loss:   1.0476605892181396,   acc:  0.5625\n",
      "loss:   1.2268924713134766,   acc:  0.625\n",
      "Done with epoch 396 in 25.55100107192993s\n",
      "loss:   0.9100539684295654,   acc:  0.71875\n",
      "loss:   1.1776728630065918,   acc:  0.65625\n",
      "loss:   1.042090654373169,   acc:  0.71875\n",
      "Done with epoch 397 in 26.148001194000244s\n",
      "loss:   0.9928936958312988,   acc:  0.71875\n",
      "loss:   1.2545249462127686,   acc:  0.6875\n",
      "loss:   1.0794308185577393,   acc:  0.65625\n",
      "Done with epoch 398 in 22.775645971298218s\n",
      "loss:   0.7445464134216309,   acc:  0.71875\n",
      "loss:   1.1003081798553467,   acc:  0.6875\n",
      "loss:   1.1581709384918213,   acc:  0.65625\n",
      "Done with epoch 399 in 22.631962299346924s\n",
      "loss:   1.2031464576721191,   acc:  0.59375\n",
      "loss:   0.87972092628479,   acc:  0.6875\n",
      "loss:   1.1106886863708496,   acc:  0.65625\n",
      "Done with epoch 400 in 24.02299952507019s\n",
      "loss:   1.5209875106811523,   acc:  0.5625\n",
      "loss:   1.1414809226989746,   acc:  0.625\n",
      "Done with epoch 401 in 24.92799711227417s\n",
      "loss:   1.4046015739440918,   acc:  0.53125\n",
      "loss:   0.8520684242248535,   acc:  0.78125\n",
      "loss:   1.3264706134796143,   acc:  0.65625\n",
      "Done with epoch 402 in 26.077040433883667s\n",
      "loss:   0.8861074447631836,   acc:  0.65625\n",
      "loss:   0.6760745048522949,   acc:  0.78125\n",
      "loss:   1.3815326690673828,   acc:  0.625\n",
      "Done with epoch 403 in 25.85797429084778s\n",
      "loss:   0.9898920059204102,   acc:  0.71875\n",
      "loss:   1.4050071239471436,   acc:  0.625\n",
      "loss:   1.1951379776000977,   acc:  0.59375\n",
      "Done with epoch 404 in 26.400995016098022s\n",
      "loss:   0.9706180095672607,   acc:  0.65625\n",
      "Saved model at ../models\\MPC_horizon_12_obs_10.pt\n",
      "loss:   1.121079444885254,   acc:  0.59375\n",
      "loss:   0.9029722213745117,   acc:  0.65625\n",
      "Done with epoch 405 in 25.239003896713257s\n",
      "loss:   1.758638858795166,   acc:  0.5\n",
      "loss:   0.7591524124145508,   acc:  0.71875\n",
      "Done with epoch 406 in 23.830008506774902s\n",
      "loss:   1.2072515487670898,   acc:  0.75\n",
      "loss:   1.305891990661621,   acc:  0.59375\n",
      "loss:   1.148205280303955,   acc:  0.65625\n",
      "Done with epoch 407 in 24.39877486228943s\n",
      "loss:   0.967686653137207,   acc:  0.625\n",
      "loss:   1.3964879512786865,   acc:  0.5625\n",
      "loss:   0.7849898338317871,   acc:  0.6875\n",
      "Done with epoch 408 in 25.14202570915222s\n",
      "loss:   1.4566230773925781,   acc:  0.5\n",
      "loss:   1.3746967315673828,   acc:  0.625\n",
      "loss:   1.6934638023376465,   acc:  0.5\n",
      "Done with epoch 409 in 25.25502061843872s\n",
      "loss:   1.4628674983978271,   acc:  0.65625\n",
      "loss:   0.8844046592712402,   acc:  0.65625\n",
      "loss:   1.2157268524169922,   acc:  0.59375\n",
      "Done with epoch 410 in 25.116018056869507s\n",
      "loss:   1.150543451309204,   acc:  0.59375\n",
      "loss:   1.217440128326416,   acc:  0.6875\n",
      "Done with epoch 411 in 20.698150634765625s\n",
      "loss:   1.1466760635375977,   acc:  0.65625\n",
      "loss:   1.2890491485595703,   acc:  0.625\n",
      "loss:   1.1488447189331055,   acc:  0.59375\n",
      "Done with epoch 412 in 20.918241262435913s\n",
      "loss:   1.222670078277588,   acc:  0.625\n",
      "loss:   1.381558895111084,   acc:  0.59375\n",
      "loss:   1.0351672172546387,   acc:  0.6875\n",
      "Done with epoch 413 in 20.560282230377197s\n",
      "loss:   1.2673449516296387,   acc:  0.65625\n",
      "loss:   0.9277243614196777,   acc:  0.75\n",
      "loss:   1.125525712966919,   acc:  0.71875\n",
      "Done with epoch 414 in 20.69243812561035s\n",
      "loss:   0.9913556575775146,   acc:  0.75\n",
      "loss:   0.7476377487182617,   acc:  0.75\n",
      "loss:   1.1100177764892578,   acc:  0.65625\n",
      "Saved model at ../models\\MPC_horizon_12_obs_10.pt\n",
      "Done with epoch 415 in 20.89688777923584s\n",
      "loss:   0.9917745590209961,   acc:  0.65625\n",
      "loss:   0.9096493721008301,   acc:  0.75\n",
      "loss:   0.7975707054138184,   acc:  0.75\n",
      "Done with epoch 416 in 20.901084184646606s\n",
      "loss:   1.2208247184753418,   acc:  0.59375\n",
      "loss:   0.8909568786621094,   acc:  0.71875\n",
      "Done with epoch 417 in 20.764436960220337s\n",
      "loss:   1.2830536365509033,   acc:  0.6875\n",
      "loss:   1.0920162200927734,   acc:  0.65625\n",
      "loss:   0.7729272842407227,   acc:  0.78125\n",
      "Done with epoch 418 in 20.667156457901s\n",
      "loss:   1.2585570812225342,   acc:  0.6875\n",
      "loss:   1.052844524383545,   acc:  0.71875\n",
      "loss:   1.0409860610961914,   acc:  0.71875\n",
      "Done with epoch 419 in 21.034327030181885s\n",
      "loss:   0.9263677597045898,   acc:  0.71875\n",
      "loss:   1.3069050312042236,   acc:  0.53125\n",
      "loss:   0.8034298419952393,   acc:  0.6875\n",
      "Done with epoch 420 in 20.685683965682983s\n",
      "loss:   1.2391667366027832,   acc:  0.6875\n",
      "loss:   0.8608388900756836,   acc:  0.78125\n",
      "loss:   1.166715145111084,   acc:  0.65625\n",
      "Done with epoch 421 in 20.846808195114136s\n",
      "loss:   1.178360939025879,   acc:  0.53125\n",
      "loss:   0.976144552230835,   acc:  0.71875\n",
      "Done with epoch 422 in 20.86148452758789s\n",
      "loss:   0.8489768505096436,   acc:  0.71875\n",
      "loss:   1.204625129699707,   acc:  0.53125\n",
      "loss:   1.485083818435669,   acc:  0.5\n",
      "Done with epoch 423 in 20.571717500686646s\n",
      "loss:   1.3969159126281738,   acc:  0.625\n",
      "loss:   1.327756404876709,   acc:  0.5625\n",
      "loss:   1.5474951267242432,   acc:  0.53125\n",
      "Done with epoch 424 in 21.158250093460083s\n",
      "loss:   0.9906177520751953,   acc:  0.65625\n",
      "loss:   0.7344322204589844,   acc:  0.8125\n",
      "loss:   1.2345192432403564,   acc:  0.625\n",
      "Done with epoch 425 in 21.032807111740112s\n",
      "loss:   1.049849510192871,   acc:  0.6875\n",
      "loss:   1.3376491069793701,   acc:  0.625\n",
      "Saved model at ../models\\MPC_horizon_12_obs_10.pt\n",
      "loss:   0.9690732955932617,   acc:  0.75\n",
      "Done with epoch 426 in 20.83342695236206s\n",
      "loss:   1.2799673080444336,   acc:  0.6875\n",
      "loss:   0.662773609161377,   acc:  0.8125\n",
      "Done with epoch 427 in 20.545421838760376s\n",
      "loss:   1.1681289672851562,   acc:  0.65625\n",
      "loss:   1.1957778930664062,   acc:  0.71875\n",
      "loss:   1.096877098083496,   acc:  0.53125\n",
      "Done with epoch 428 in 21.16907048225403s\n",
      "loss:   0.9878768920898438,   acc:  0.71875\n",
      "loss:   1.1182587146759033,   acc:  0.65625\n",
      "loss:   1.113668441772461,   acc:  0.65625\n",
      "Done with epoch 429 in 20.80436134338379s\n",
      "loss:   1.321180820465088,   acc:  0.625\n",
      "loss:   1.310802936553955,   acc:  0.59375\n",
      "loss:   0.7885980606079102,   acc:  0.71875\n",
      "Done with epoch 430 in 20.755382299423218s\n",
      "loss:   0.7928705215454102,   acc:  0.75\n",
      "loss:   0.8221206665039062,   acc:  0.6875\n",
      "loss:   1.2268013954162598,   acc:  0.6875\n",
      "Done with epoch 431 in 21.098830699920654s\n",
      "loss:   1.2123346328735352,   acc:  0.65625\n",
      "loss:   0.8780364990234375,   acc:  0.8125\n",
      "loss:   1.1381950378417969,   acc:  0.71875\n",
      "Done with epoch 432 in 20.60433292388916s\n",
      "loss:   1.1447923183441162,   acc:  0.625\n",
      "loss:   0.7019104957580566,   acc:  0.75\n",
      "Done with epoch 433 in 21.720096111297607s\n",
      "loss:   0.8977046012878418,   acc:  0.75\n",
      "loss:   1.6202330589294434,   acc:  0.53125\n",
      "loss:   0.8513050079345703,   acc:  0.6875\n",
      "Done with epoch 434 in 23.45726227760315s\n",
      "loss:   1.0451440811157227,   acc:  0.65625\n",
      "loss:   1.1247234344482422,   acc:  0.6875\n",
      "loss:   0.7326416969299316,   acc:  0.71875\n",
      "Done with epoch 435 in 24.087982177734375s\n",
      "loss:   1.3679327964782715,   acc:  0.53125\n",
      "loss:   1.275324821472168,   acc:  0.5625\n",
      "loss:   0.8991518020629883,   acc:  0.65625\n",
      "Done with epoch 436 in 25.037013053894043s\n",
      "loss:   1.408414602279663,   acc:  0.5625\n",
      "Saved model at ../models\\MPC_horizon_12_obs_10.pt\n",
      "loss:   0.921630859375,   acc:  0.78125\n",
      "loss:   1.222120761871338,   acc:  0.5\n",
      "Done with epoch 437 in 25.525931358337402s\n",
      "loss:   1.0015017986297607,   acc:  0.59375\n",
      "loss:   0.8090014457702637,   acc:  0.78125\n",
      "Done with epoch 438 in 23.91201615333557s\n",
      "loss:   0.8715906143188477,   acc:  0.6875\n",
      "loss:   1.2659187316894531,   acc:  0.5625\n",
      "loss:   0.8458127975463867,   acc:  0.6875\n",
      "Done with epoch 439 in 25.131185054779053s\n",
      "loss:   1.412175178527832,   acc:  0.5625\n",
      "loss:   1.1476266384124756,   acc:  0.65625\n",
      "loss:   1.2943344116210938,   acc:  0.78125\n",
      "Done with epoch 440 in 25.076012134552002s\n",
      "loss:   0.9009876251220703,   acc:  0.71875\n",
      "loss:   1.241633415222168,   acc:  0.53125\n",
      "loss:   1.1081469058990479,   acc:  0.65625\n",
      "Done with epoch 441 in 25.111997604370117s\n",
      "loss:   0.9421029090881348,   acc:  0.71875\n",
      "loss:   1.5175971984863281,   acc:  0.6875\n",
      "loss:   1.2585086822509766,   acc:  0.6875\n",
      "Done with epoch 442 in 25.07099175453186s\n",
      "loss:   1.240511417388916,   acc:  0.59375\n",
      "loss:   0.5568132400512695,   acc:  0.84375\n",
      "Done with epoch 443 in 25.318002223968506s\n",
      "loss:   1.051788568496704,   acc:  0.65625\n",
      "loss:   0.9843430519104004,   acc:  0.75\n",
      "loss:   1.3155956268310547,   acc:  0.6875\n",
      "Done with epoch 444 in 24.754032373428345s\n",
      "loss:   1.392676830291748,   acc:  0.625\n",
      "loss:   1.2330799102783203,   acc:  0.59375\n",
      "loss:   1.207491397857666,   acc:  0.625\n",
      "Done with epoch 445 in 25.052999258041382s\n",
      "loss:   0.8463420867919922,   acc:  0.71875\n",
      "loss:   1.0336251258850098,   acc:  0.65625\n",
      "loss:   0.8330457210540771,   acc:  0.71875\n",
      "Done with epoch 446 in 24.523175477981567s\n",
      "loss:   1.096238613128662,   acc:  0.6875\n",
      "loss:   0.8646023273468018,   acc:  0.75\n",
      "loss:   0.8572201728820801,   acc:  0.75\n",
      "Saved model at ../models\\MPC_horizon_12_obs_10.pt\n",
      "Done with epoch 447 in 24.05165147781372s\n",
      "loss:   1.050194263458252,   acc:  0.625\n",
      "loss:   1.482393741607666,   acc:  0.53125\n"
     ]
    },
    {
     "ename": "KeyboardInterrupt",
     "evalue": "",
     "output_type": "error",
     "traceback": [
      "\u001B[1;31m---------------------------------------------------------------------------\u001B[0m",
      "\u001B[1;31mKeyboardInterrupt\u001B[0m                         Traceback (most recent call last)",
      "\u001B[1;32m<ipython-input-8-c20e3be8ed5f>\u001B[0m in \u001B[0;36m<module>\u001B[1;34m\u001B[0m\n\u001B[0;32m      1\u001B[0m \u001B[0mMPC_obj\u001B[0m\u001B[1;33m.\u001B[0m\u001B[0mtraining_params\u001B[0m\u001B[1;33m[\u001B[0m\u001B[1;34m'TRAINING_ITERATIONS'\u001B[0m\u001B[1;33m]\u001B[0m \u001B[1;33m=\u001B[0m \u001B[1;36m500\u001B[0m\u001B[1;33m\u001B[0m\u001B[1;33m\u001B[0m\u001B[0m\n\u001B[1;32m----> 2\u001B[1;33m \u001B[0mMPC_obj\u001B[0m\u001B[1;33m.\u001B[0m\u001B[0mtrain\u001B[0m\u001B[1;33m(\u001B[0m\u001B[0mtrain_data\u001B[0m\u001B[1;33m=\u001B[0m\u001B[0mtrain_data\u001B[0m\u001B[1;33m,\u001B[0m \u001B[0mverbose\u001B[0m\u001B[1;33m=\u001B[0m\u001B[1;32mTrue\u001B[0m\u001B[1;33m)\u001B[0m\u001B[1;33m\u001B[0m\u001B[1;33m\u001B[0m\u001B[0m\n\u001B[0m\u001B[0;32m      3\u001B[0m \u001B[0mMPC_obj\u001B[0m\u001B[1;33m.\u001B[0m\u001B[0mmodel\u001B[0m\u001B[1;33m\u001B[0m\u001B[1;33m\u001B[0m\u001B[0m\n",
      "\u001B[1;32mD:\\Curious\\OMISTL\\solvers\\OMISTL.py\u001B[0m in \u001B[0;36mtrain\u001B[1;34m(self, train_data, verbose)\u001B[0m\n\u001B[0;32m    353\u001B[0m                 \u001B[0mloss\u001B[0m\u001B[1;33m.\u001B[0m\u001B[0mbackward\u001B[0m\u001B[1;33m(\u001B[0m\u001B[1;33m)\u001B[0m\u001B[1;33m\u001B[0m\u001B[1;33m\u001B[0m\u001B[0m\n\u001B[0;32m    354\u001B[0m                 \u001B[1;31m#torch.nn.utils.clip_grad_norm(model.parameters(),0.1)\u001B[0m\u001B[1;33m\u001B[0m\u001B[1;33m\u001B[0m\u001B[1;33m\u001B[0m\u001B[0m\n\u001B[1;32m--> 355\u001B[1;33m                 \u001B[0mopt\u001B[0m\u001B[1;33m.\u001B[0m\u001B[0mstep\u001B[0m\u001B[1;33m(\u001B[0m\u001B[1;33m)\u001B[0m\u001B[1;33m\u001B[0m\u001B[1;33m\u001B[0m\u001B[0m\n\u001B[0m\u001B[0;32m    356\u001B[0m \u001B[1;33m\u001B[0m\u001B[0m\n\u001B[0;32m    357\u001B[0m                 \u001B[1;31m# print statistics\\n\",\u001B[0m\u001B[1;33m\u001B[0m\u001B[1;33m\u001B[0m\u001B[1;33m\u001B[0m\u001B[0m\n",
      "\u001B[1;32m~\\anaconda3\\envs\\coco\\lib\\site-packages\\torch\\autograd\\grad_mode.py\u001B[0m in \u001B[0;36mdecorate_context\u001B[1;34m(*args, **kwargs)\u001B[0m\n\u001B[0;32m     13\u001B[0m         \u001B[1;32mdef\u001B[0m \u001B[0mdecorate_context\u001B[0m\u001B[1;33m(\u001B[0m\u001B[1;33m*\u001B[0m\u001B[0margs\u001B[0m\u001B[1;33m,\u001B[0m \u001B[1;33m**\u001B[0m\u001B[0mkwargs\u001B[0m\u001B[1;33m)\u001B[0m\u001B[1;33m:\u001B[0m\u001B[1;33m\u001B[0m\u001B[1;33m\u001B[0m\u001B[0m\n\u001B[0;32m     14\u001B[0m             \u001B[1;32mwith\u001B[0m \u001B[0mself\u001B[0m\u001B[1;33m:\u001B[0m\u001B[1;33m\u001B[0m\u001B[1;33m\u001B[0m\u001B[0m\n\u001B[1;32m---> 15\u001B[1;33m                 \u001B[1;32mreturn\u001B[0m \u001B[0mfunc\u001B[0m\u001B[1;33m(\u001B[0m\u001B[1;33m*\u001B[0m\u001B[0margs\u001B[0m\u001B[1;33m,\u001B[0m \u001B[1;33m**\u001B[0m\u001B[0mkwargs\u001B[0m\u001B[1;33m)\u001B[0m\u001B[1;33m\u001B[0m\u001B[1;33m\u001B[0m\u001B[0m\n\u001B[0m\u001B[0;32m     16\u001B[0m         \u001B[1;32mreturn\u001B[0m \u001B[0mdecorate_context\u001B[0m\u001B[1;33m\u001B[0m\u001B[1;33m\u001B[0m\u001B[0m\n\u001B[0;32m     17\u001B[0m \u001B[1;33m\u001B[0m\u001B[0m\n",
      "\u001B[1;32m~\\anaconda3\\envs\\coco\\lib\\site-packages\\torch\\optim\\adam.py\u001B[0m in \u001B[0;36mstep\u001B[1;34m(self, closure)\u001B[0m\n\u001B[0;32m     94\u001B[0m \u001B[1;33m\u001B[0m\u001B[0m\n\u001B[0;32m     95\u001B[0m                 \u001B[1;32mif\u001B[0m \u001B[0mgroup\u001B[0m\u001B[1;33m[\u001B[0m\u001B[1;34m'weight_decay'\u001B[0m\u001B[1;33m]\u001B[0m \u001B[1;33m!=\u001B[0m \u001B[1;36m0\u001B[0m\u001B[1;33m:\u001B[0m\u001B[1;33m\u001B[0m\u001B[1;33m\u001B[0m\u001B[0m\n\u001B[1;32m---> 96\u001B[1;33m                     \u001B[0mgrad\u001B[0m \u001B[1;33m=\u001B[0m \u001B[0mgrad\u001B[0m\u001B[1;33m.\u001B[0m\u001B[0madd\u001B[0m\u001B[1;33m(\u001B[0m\u001B[0mp\u001B[0m\u001B[1;33m,\u001B[0m \u001B[0malpha\u001B[0m\u001B[1;33m=\u001B[0m\u001B[0mgroup\u001B[0m\u001B[1;33m[\u001B[0m\u001B[1;34m'weight_decay'\u001B[0m\u001B[1;33m]\u001B[0m\u001B[1;33m)\u001B[0m\u001B[1;33m\u001B[0m\u001B[1;33m\u001B[0m\u001B[0m\n\u001B[0m\u001B[0;32m     97\u001B[0m \u001B[1;33m\u001B[0m\u001B[0m\n\u001B[0;32m     98\u001B[0m                 \u001B[1;31m# Decay the first and second moment running average coefficient\u001B[0m\u001B[1;33m\u001B[0m\u001B[1;33m\u001B[0m\u001B[1;33m\u001B[0m\u001B[0m\n",
      "\u001B[1;31mKeyboardInterrupt\u001B[0m: "
     ]
    }
   ],
   "source": [
    "MPC_obj.training_params['TRAINING_ITERATIONS'] = 500\n",
    "MPC_obj.train(train_data=train_data, verbose=True)\n",
    "MPC_obj.model"
   ],
   "metadata": {
    "collapsed": false,
    "pycharm": {
     "name": "#%%\n"
    }
   }
  },
  {
   "cell_type": "code",
   "execution_count": 9,
   "outputs": [
    {
     "name": "stdout",
     "output_type": "stream",
     "text": [
      "Academic license - for non-commercial use only - expires 2022-12-22\n",
      "Using license file C:\\Users\\msi\\gurobi.lic\n",
      "Found solution! n_evals = 4\n"
     ]
    },
    {
     "name": "stderr",
     "output_type": "stream",
     "text": [
      "C:\\Users\\msi\\anaconda3\\envs\\coco\\lib\\site-packages\\cvxpy\\problems\\problem.py:1306: UserWarning: \n",
      "    The problem is either infeasible or unbounded, but the solver\n",
      "    cannot tell which. Disable any solver-specific presolve methods\n",
      "    and re-solve to determine the precise problem status.\n",
      "\n",
      "    For GUROBI and CPLEX you can automatically perform this re-solve\n",
      "    with the keyword argument prob.solve(reoptimize=True, ...).\n",
      "    \n",
      "  warnings.warn(INF_OR_UNB_MESSAGE)\n"
     ]
    },
    {
     "data": {
      "text/plain": "0.08100485801696777"
     },
     "execution_count": 9,
     "metadata": {},
     "output_type": "execute_result"
    }
   ],
   "source": [
    "outfile = open(config_fn,\"rb\")\n",
    "config=pickle.load(outfile)\n",
    "velmin = -0.2\n",
    "velmax = 0.2\n",
    "posmin = np.zeros(2)\n",
    "n_obs = config[1][5]\n",
    "\n",
    "ft2m = 0.3048\n",
    "posmax = ft2m*np.array([12.,9.])\n",
    "max_box_size = 0.75\n",
    "min_box_size = 0.25\n",
    "box_buffer = 0.025\n",
    "border_size = 0.05\n",
    "\n",
    "obstacles = config[-1]\n",
    "\n",
    "\n",
    "# x0 = findIC(obstacles, posmin=posmin, posmax=posmax, velmin=velmin, velmax=velmax)\n",
    "# xg = findIC(obstacles, posmin=posmin, posmax=posmax, velmin=velmin, velmax=velmax)\n",
    "x0 = [0.1,0.1,0,0]\n",
    "xg = [3,0.5,0,0]\n",
    "\n",
    "# obstacles = \\\n",
    "#         random_obs(n_obs, posmin, posmax, border_size, box_buffer, min_box_size, max_box_size)\n",
    "obstacles= config[-1]\n",
    "\n",
    "prob_success = False\n",
    "while not prob_success:\n",
    "    prob_params = {}\n",
    "    idx = np.random.randint(test_data[1].shape[0])\n",
    "    for k in p_test.keys():\n",
    "        prob_params[k] = p_test[k][idx]\n",
    "    # prob_params['obstacles'] =  np.reshape(np.concatenate(obstacles, axis=0), (n_obs,4)).T\n",
    "    # prob_params['x0'] = x0\n",
    "    # prob_params['xg'] = xg\n",
    "\n",
    "    prob_success, cost, total_time, n_evals, optvals,y_guess = MPC_obj.forward(prob_params, solver=cp.GUROBI, max_evals=10)\n",
    "    # prob_success, cost, total_time, n_evals, optvals = coco_obj.forward(p_dict, solver=cp.GUROBI, max_evals=10)\n",
    "    if prob_success:\n",
    "        print('Found solution! ' + \"n_evals = \" + str(n_evals))\n",
    "    else:\n",
    "        print('Failed')\n",
    "total_time"
   ],
   "metadata": {
    "collapsed": false,
    "pycharm": {
     "name": "#%%\n"
    }
   }
  },
  {
   "cell_type": "code",
   "execution_count": 10,
   "outputs": [
    {
     "data": {
      "text/plain": "<Figure size 432x288 with 1 Axes>",
      "image/png": "[encoded data removed]"
     },
     "metadata": {
      "needs_background": "light"
     },
     "output_type": "display_data"
    }
   ],
   "source": [
    "Xopt = optvals[0]\n",
    "\n",
    "obstacles = []\n",
    "for ii_obs in range(n_obs):\n",
    "    obs = prob_params['obstacles'][:,ii_obs]\n",
    "    obstacles.append(obs)\n",
    "\n",
    "if len(obstacles) is n_obs:\n",
    "    plt.axes()\n",
    "    for obstacle in obstacles:\n",
    "        rectangle = plt.Rectangle((obstacle[0], obstacle[2]), \\\n",
    "                                  obstacle[1]-obstacle[0], obstacle[3]-obstacle[2], \\\n",
    "                                 fc='white', ec='black')\n",
    "        plt.gca().add_patch(rectangle)\n",
    "        plt.axis('scaled')\n",
    "\n",
    "\n",
    "    xg = prob_params['xg']\n",
    "    x0 = prob_params['x0']\n",
    "    circle = plt.Circle((x0[0],x0[1]), 0.04, fc='blue',ec=\"blue\")\n",
    "    plt.gca().add_patch(circle)\n",
    "\n",
    "    #blue line is network prediction\n",
    "    plt.plot(xg[0],xg[1],'sr')\n",
    "    # plt.quiver(Xopt[0,:], Xopt[1,:], Xopt[2,:], Xopt[3,:])#plot using arrows\n",
    "    for jj in range(N):\n",
    "        circle = plt.Circle((Xopt[0,jj],Xopt[1,jj]), 0.02, fc='red',ec=\"red\")\n",
    "        plt.gca().add_patch(circle)\n",
    "\n",
    "\n",
    "    ax = plt.gca()\n",
    "    ax.margins(0)\n",
    "    ax.set(xlim=(posmin[0],posmax[0]), ylim=(posmin[1],posmax[1]))\n",
    "    plt.show()"
   ],
   "metadata": {
    "collapsed": false,
    "pycharm": {
     "name": "#%%\n"
    }
   }
  },
  {
   "cell_type": "code",
   "execution_count": 11,
   "outputs": [
    {
     "name": "stderr",
     "output_type": "stream",
     "text": [
      "  0%|          | 0/2000 [00:00<?, ?it/s]"
     ]
    },
    {
     "name": "stdout",
     "output_type": "stream",
     "text": [
      "0 / 2000\n"
     ]
    },
    {
     "name": "stderr",
     "output_type": "stream",
     "text": [
      "  1%|          | 15/2000 [00:04<09:59,  3.31it/s]"
     ]
    },
    {
     "name": "stdout",
     "output_type": "stream",
     "text": [
      "Solver failed at 14\n"
     ]
    },
    {
     "name": "stderr",
     "output_type": "stream",
     "text": [
      "C:\\Users\\msi\\anaconda3\\envs\\coco\\lib\\site-packages\\cvxpy\\problems\\problem.py:1301: UserWarning: Solution may be inaccurate. Try another solver, adjusting the solver settings, or solve with verbose=True for more information.\n",
      "  \"Solution may be inaccurate. Try another solver, \"\n",
      "  1%|          | 17/2000 [00:04<08:42,  3.79it/s]"
     ]
    },
    {
     "name": "stdout",
     "output_type": "stream",
     "text": [
      "Solver failed at 15\n"
     ]
    },
    {
     "name": "stderr",
     "output_type": "stream",
     "text": [
      "  1%|          | 18/2000 [00:05<09:49,  3.36it/s]"
     ]
    },
    {
     "name": "stdout",
     "output_type": "stream",
     "text": [
      "Solver failed at 17\n"
     ]
    },
    {
     "name": "stderr",
     "output_type": "stream",
     "text": [
      "  1%|          | 22/2000 [00:05<07:18,  4.51it/s]"
     ]
    },
    {
     "name": "stdout",
     "output_type": "stream",
     "text": [
      "Solver failed at 20\n"
     ]
    },
    {
     "name": "stderr",
     "output_type": "stream",
     "text": [
      "  3%|▎         | 55/2000 [00:12<06:23,  5.07it/s]"
     ]
    },
    {
     "name": "stdout",
     "output_type": "stream",
     "text": [
      "Solver failed at 53\n"
     ]
    },
    {
     "name": "stderr",
     "output_type": "stream",
     "text": [
      "  4%|▍         | 88/2000 [00:19<05:47,  5.51it/s]C:\\Users\\msi\\AppData\\Roaming\\Python\\Python36\\site-packages\\ipykernel_launcher.py:35: RuntimeWarning: divide by zero encountered in double_scalars\n",
      "  6%|▌         | 110/2000 [00:23<06:51,  4.59it/s]"
     ]
    },
    {
     "name": "stdout",
     "output_type": "stream",
     "text": [
      "Solver failed at 109\n"
     ]
    },
    {
     "name": "stderr",
     "output_type": "stream",
     "text": [
      "  6%|▌         | 118/2000 [00:25<05:19,  5.89it/s]"
     ]
    },
    {
     "name": "stdout",
     "output_type": "stream",
     "text": [
      "Solver failed at 116\n"
     ]
    },
    {
     "name": "stderr",
     "output_type": "stream",
     "text": [
      "  8%|▊         | 157/2000 [00:33<05:45,  5.33it/s]"
     ]
    },
    {
     "name": "stdout",
     "output_type": "stream",
     "text": [
      "Solver failed at 155\n"
     ]
    },
    {
     "name": "stderr",
     "output_type": "stream",
     "text": [
      "  8%|▊         | 165/2000 [00:35<05:30,  5.55it/s]"
     ]
    },
    {
     "name": "stdout",
     "output_type": "stream",
     "text": [
      "Solver failed at 163\n"
     ]
    },
    {
     "name": "stderr",
     "output_type": "stream",
     "text": [
      "  9%|▉         | 175/2000 [00:37<06:18,  4.82it/s]"
     ]
    },
    {
     "name": "stdout",
     "output_type": "stream",
     "text": [
      "Solver failed at 173\n"
     ]
    },
    {
     "name": "stderr",
     "output_type": "stream",
     "text": [
      " 12%|█▏        | 238/2000 [00:49<05:57,  4.93it/s]"
     ]
    },
    {
     "name": "stdout",
     "output_type": "stream",
     "text": [
      "Solver failed at 237\n"
     ]
    },
    {
     "name": "stderr",
     "output_type": "stream",
     "text": [
      " 12%|█▏        | 245/2000 [00:50<06:01,  4.85it/s]"
     ]
    },
    {
     "name": "stdout",
     "output_type": "stream",
     "text": [
      "Solver failed at 244\n"
     ]
    },
    {
     "name": "stderr",
     "output_type": "stream",
     "text": [
      " 13%|█▎        | 257/2000 [00:53<05:07,  5.67it/s]"
     ]
    },
    {
     "name": "stdout",
     "output_type": "stream",
     "text": [
      "Solver failed at 256\n"
     ]
    },
    {
     "name": "stderr",
     "output_type": "stream",
     "text": [
      " 15%|█▌        | 308/2000 [01:03<06:18,  4.47it/s]"
     ]
    },
    {
     "name": "stdout",
     "output_type": "stream",
     "text": [
      "Solver failed at 306\n"
     ]
    },
    {
     "name": "stderr",
     "output_type": "stream",
     "text": [
      " 16%|█▌        | 315/2000 [01:04<04:45,  5.90it/s]"
     ]
    },
    {
     "name": "stdout",
     "output_type": "stream",
     "text": [
      "Solver failed at 313\n"
     ]
    },
    {
     "name": "stderr",
     "output_type": "stream",
     "text": [
      " 16%|█▌        | 323/2000 [01:05<04:43,  5.91it/s]"
     ]
    },
    {
     "name": "stdout",
     "output_type": "stream",
     "text": [
      "Solver failed at 322\n"
     ]
    },
    {
     "name": "stderr",
     "output_type": "stream",
     "text": [
      " 17%|█▋        | 340/2000 [01:08<03:54,  7.07it/s]"
     ]
    },
    {
     "name": "stdout",
     "output_type": "stream",
     "text": [
      "Solver failed at 338\n"
     ]
    },
    {
     "name": "stderr",
     "output_type": "stream",
     "text": [
      " 19%|█▉        | 384/2000 [01:16<05:24,  4.99it/s]"
     ]
    },
    {
     "name": "stdout",
     "output_type": "stream",
     "text": [
      "Solver failed at 383\n"
     ]
    },
    {
     "name": "stderr",
     "output_type": "stream",
     "text": [
      " 20%|█▉        | 391/2000 [01:17<04:22,  6.13it/s]"
     ]
    },
    {
     "name": "stdout",
     "output_type": "stream",
     "text": [
      "Solver failed at 389\n"
     ]
    },
    {
     "name": "stderr",
     "output_type": "stream",
     "text": [
      " 20%|██        | 405/2000 [01:20<06:27,  4.12it/s]"
     ]
    },
    {
     "name": "stdout",
     "output_type": "stream",
     "text": [
      "Solver failed at 404\n"
     ]
    },
    {
     "name": "stderr",
     "output_type": "stream",
     "text": [
      " 21%|██        | 418/2000 [01:23<05:30,  4.78it/s]"
     ]
    },
    {
     "name": "stdout",
     "output_type": "stream",
     "text": [
      "Solver failed at 417\n"
     ]
    },
    {
     "name": "stderr",
     "output_type": "stream",
     "text": [
      " 22%|██▏       | 430/2000 [01:25<03:35,  7.28it/s]"
     ]
    },
    {
     "name": "stdout",
     "output_type": "stream",
     "text": [
      "Solver failed at 428\n"
     ]
    },
    {
     "name": "stderr",
     "output_type": "stream",
     "text": [
      " 22%|██▎       | 450/2000 [01:28<03:50,  6.71it/s]"
     ]
    },
    {
     "name": "stdout",
     "output_type": "stream",
     "text": [
      "Solver failed at 448\n"
     ]
    },
    {
     "name": "stderr",
     "output_type": "stream",
     "text": [
      " 23%|██▎       | 455/2000 [01:29<03:34,  7.19it/s]"
     ]
    },
    {
     "name": "stdout",
     "output_type": "stream",
     "text": [
      "Solver failed at 453\n"
     ]
    },
    {
     "name": "stderr",
     "output_type": "stream",
     "text": [
      " 23%|██▎       | 465/2000 [01:31<05:26,  4.71it/s]"
     ]
    },
    {
     "name": "stdout",
     "output_type": "stream",
     "text": [
      "Solver failed at 465\n"
     ]
    },
    {
     "name": "stderr",
     "output_type": "stream",
     "text": [
      " 24%|██▎       | 473/2000 [01:32<04:25,  5.76it/s]"
     ]
    },
    {
     "name": "stdout",
     "output_type": "stream",
     "text": [
      "Solver failed at 472\n"
     ]
    },
    {
     "name": "stderr",
     "output_type": "stream",
     "text": [
      " 24%|██▍       | 488/2000 [01:35<04:04,  6.18it/s]"
     ]
    },
    {
     "name": "stdout",
     "output_type": "stream",
     "text": [
      "Solver failed at 487\n"
     ]
    },
    {
     "name": "stderr",
     "output_type": "stream",
     "text": [
      " 25%|██▌       | 505/2000 [01:38<03:58,  6.27it/s]"
     ]
    },
    {
     "name": "stdout",
     "output_type": "stream",
     "text": [
      "Solver failed at 503\n"
     ]
    },
    {
     "name": "stderr",
     "output_type": "stream",
     "text": [
      " 27%|██▋       | 546/2000 [01:45<03:39,  6.63it/s]"
     ]
    },
    {
     "name": "stdout",
     "output_type": "stream",
     "text": [
      "Solver failed at 544\n"
     ]
    },
    {
     "name": "stderr",
     "output_type": "stream",
     "text": [
      " 28%|██▊       | 550/2000 [01:46<03:13,  7.50it/s]"
     ]
    },
    {
     "name": "stdout",
     "output_type": "stream",
     "text": [
      "Solver failed at 548\n"
     ]
    },
    {
     "name": "stderr",
     "output_type": "stream",
     "text": [
      " 28%|██▊       | 555/2000 [01:47<04:40,  5.15it/s]"
     ]
    },
    {
     "name": "stdout",
     "output_type": "stream",
     "text": [
      "Solver failed at 554\n"
     ]
    },
    {
     "name": "stderr",
     "output_type": "stream",
     "text": [
      " 29%|██▉       | 584/2000 [01:52<03:46,  6.25it/s]"
     ]
    },
    {
     "name": "stdout",
     "output_type": "stream",
     "text": [
      "Solver failed at 582\n"
     ]
    },
    {
     "name": "stderr",
     "output_type": "stream",
     "text": [
      " 29%|██▉       | 587/2000 [01:52<04:24,  5.34it/s]"
     ]
    },
    {
     "name": "stdout",
     "output_type": "stream",
     "text": [
      "Solver failed at 585\n"
     ]
    },
    {
     "name": "stderr",
     "output_type": "stream",
     "text": [
      " 30%|██▉       | 598/2000 [01:55<04:03,  5.76it/s]"
     ]
    },
    {
     "name": "stdout",
     "output_type": "stream",
     "text": [
      "Solver failed at 596\n"
     ]
    },
    {
     "name": "stderr",
     "output_type": "stream",
     "text": [
      " 30%|███       | 610/2000 [01:57<04:17,  5.40it/s]"
     ]
    },
    {
     "name": "stdout",
     "output_type": "stream",
     "text": [
      "Solver failed at 608\n"
     ]
    },
    {
     "name": "stderr",
     "output_type": "stream",
     "text": [
      " 31%|███       | 623/2000 [01:58<02:44,  8.40it/s]"
     ]
    },
    {
     "name": "stdout",
     "output_type": "stream",
     "text": [
      "Solver failed at 622\n"
     ]
    },
    {
     "name": "stderr",
     "output_type": "stream",
     "text": [
      " 35%|███▍      | 694/2000 [02:11<03:42,  5.88it/s]"
     ]
    },
    {
     "name": "stdout",
     "output_type": "stream",
     "text": [
      "Solver failed at 694\n"
     ]
    },
    {
     "name": "stderr",
     "output_type": "stream",
     "text": [
      " 35%|███▌      | 708/2000 [02:13<03:18,  6.52it/s]"
     ]
    },
    {
     "name": "stdout",
     "output_type": "stream",
     "text": [
      "Solver failed at 706\n"
     ]
    },
    {
     "name": "stderr",
     "output_type": "stream",
     "text": [
      " 37%|███▋      | 746/2000 [02:19<03:14,  6.46it/s]"
     ]
    },
    {
     "name": "stdout",
     "output_type": "stream",
     "text": [
      "Solver failed at 745\n"
     ]
    },
    {
     "name": "stderr",
     "output_type": "stream",
     "text": [
      " 38%|███▊      | 760/2000 [02:21<03:40,  5.63it/s]"
     ]
    },
    {
     "name": "stdout",
     "output_type": "stream",
     "text": [
      "Solver failed at 759\n"
     ]
    },
    {
     "name": "stderr",
     "output_type": "stream",
     "text": [
      " 39%|███▊      | 772/2000 [02:23<02:17,  8.95it/s]"
     ]
    },
    {
     "name": "stdout",
     "output_type": "stream",
     "text": [
      "Solver failed at 770\n"
     ]
    },
    {
     "name": "stderr",
     "output_type": "stream",
     "text": [
      " 41%|████      | 811/2000 [02:29<03:18,  6.00it/s]"
     ]
    },
    {
     "name": "stdout",
     "output_type": "stream",
     "text": [
      "Solver failed at 809\n"
     ]
    },
    {
     "name": "stderr",
     "output_type": "stream",
     "text": [
      " 41%|████      | 820/2000 [02:30<02:51,  6.89it/s]"
     ]
    },
    {
     "name": "stdout",
     "output_type": "stream",
     "text": [
      "Solver failed at 818\n"
     ]
    },
    {
     "name": "stderr",
     "output_type": "stream",
     "text": [
      " 43%|████▎     | 854/2000 [02:36<02:21,  8.09it/s]"
     ]
    },
    {
     "name": "stdout",
     "output_type": "stream",
     "text": [
      "Solver failed at 852\n"
     ]
    },
    {
     "name": "stderr",
     "output_type": "stream",
     "text": [
      " 44%|████▎     | 870/2000 [02:38<03:08,  5.98it/s]"
     ]
    },
    {
     "name": "stdout",
     "output_type": "stream",
     "text": [
      "Solver failed at 870\n"
     ]
    },
    {
     "name": "stderr",
     "output_type": "stream",
     "text": [
      " 44%|████▍     | 890/2000 [02:41<02:59,  6.18it/s]"
     ]
    },
    {
     "name": "stdout",
     "output_type": "stream",
     "text": [
      "Solver failed at 888\n"
     ]
    },
    {
     "name": "stderr",
     "output_type": "stream",
     "text": [
      " 46%|████▋     | 925/2000 [02:46<03:28,  5.15it/s]"
     ]
    },
    {
     "name": "stdout",
     "output_type": "stream",
     "text": [
      "Solver failed at 923\n"
     ]
    },
    {
     "name": "stderr",
     "output_type": "stream",
     "text": [
      " 49%|████▉     | 979/2000 [02:55<02:36,  6.52it/s]"
     ]
    },
    {
     "name": "stdout",
     "output_type": "stream",
     "text": [
      "Solver failed at 977\n"
     ]
    },
    {
     "name": "stderr",
     "output_type": "stream",
     "text": [
      " 49%|████▉     | 985/2000 [02:56<02:11,  7.74it/s]"
     ]
    },
    {
     "name": "stdout",
     "output_type": "stream",
     "text": [
      "Solver failed at 983\n"
     ]
    },
    {
     "name": "stderr",
     "output_type": "stream",
     "text": [
      " 50%|████▉     | 993/2000 [02:57<02:28,  6.79it/s]"
     ]
    },
    {
     "name": "stdout",
     "output_type": "stream",
     "text": [
      "Solver failed at 991\n"
     ]
    },
    {
     "name": "stderr",
     "output_type": "stream",
     "text": [
      " 50%|█████     | 1001/2000 [02:58<01:59,  8.39it/s]"
     ]
    },
    {
     "name": "stdout",
     "output_type": "stream",
     "text": [
      "1000 / 2000\n"
     ]
    },
    {
     "name": "stderr",
     "output_type": "stream",
     "text": [
      " 51%|█████     | 1022/2000 [03:01<02:04,  7.83it/s]"
     ]
    },
    {
     "name": "stdout",
     "output_type": "stream",
     "text": [
      "Solver failed at 1020\n",
      "Solver failed at 1021\n"
     ]
    },
    {
     "name": "stderr",
     "output_type": "stream",
     "text": [
      " 51%|█████▏    | 1025/2000 [03:01<02:24,  6.74it/s]"
     ]
    },
    {
     "name": "stdout",
     "output_type": "stream",
     "text": [
      "Solver failed at 1023\n"
     ]
    },
    {
     "name": "stderr",
     "output_type": "stream",
     "text": [
      " 53%|█████▎    | 1054/2000 [03:06<02:22,  6.63it/s]"
     ]
    },
    {
     "name": "stdout",
     "output_type": "stream",
     "text": [
      "Solver failed at 1054\n"
     ]
    },
    {
     "name": "stderr",
     "output_type": "stream",
     "text": [
      " 53%|█████▎    | 1069/2000 [03:09<02:30,  6.18it/s]"
     ]
    },
    {
     "name": "stdout",
     "output_type": "stream",
     "text": [
      "Solver failed at 1067\n"
     ]
    },
    {
     "name": "stderr",
     "output_type": "stream",
     "text": [
      " 55%|█████▌    | 1100/2000 [03:14<02:39,  5.65it/s]"
     ]
    },
    {
     "name": "stdout",
     "output_type": "stream",
     "text": [
      "Solver failed at 1099\n"
     ]
    },
    {
     "name": "stderr",
     "output_type": "stream",
     "text": [
      " 56%|█████▌    | 1118/2000 [03:18<02:53,  5.08it/s]"
     ]
    },
    {
     "name": "stdout",
     "output_type": "stream",
     "text": [
      "Solver failed at 1117\n"
     ]
    },
    {
     "name": "stderr",
     "output_type": "stream",
     "text": [
      " 56%|█████▋    | 1125/2000 [03:19<02:12,  6.62it/s]"
     ]
    },
    {
     "name": "stdout",
     "output_type": "stream",
     "text": [
      "Solver failed at 1123\n"
     ]
    },
    {
     "name": "stderr",
     "output_type": "stream",
     "text": [
      " 56%|█████▋    | 1129/2000 [03:20<02:54,  5.00it/s]"
     ]
    },
    {
     "name": "stdout",
     "output_type": "stream",
     "text": [
      "Solver failed at 1128\n"
     ]
    },
    {
     "name": "stderr",
     "output_type": "stream",
     "text": [
      " 57%|█████▋    | 1136/2000 [03:21<02:27,  5.87it/s]"
     ]
    },
    {
     "name": "stdout",
     "output_type": "stream",
     "text": [
      "Solver failed at 1134\n"
     ]
    },
    {
     "name": "stderr",
     "output_type": "stream",
     "text": [
      " 58%|█████▊    | 1151/2000 [03:24<02:18,  6.14it/s]"
     ]
    },
    {
     "name": "stdout",
     "output_type": "stream",
     "text": [
      "Solver failed at 1149\n"
     ]
    },
    {
     "name": "stderr",
     "output_type": "stream",
     "text": [
      " 59%|█████▉    | 1180/2000 [03:29<02:38,  5.17it/s]"
     ]
    },
    {
     "name": "stdout",
     "output_type": "stream",
     "text": [
      "Solver failed at 1179\n"
     ]
    },
    {
     "name": "stderr",
     "output_type": "stream",
     "text": [
      " 59%|█████▉    | 1185/2000 [03:30<02:02,  6.63it/s]"
     ]
    },
    {
     "name": "stdout",
     "output_type": "stream",
     "text": [
      "Solver failed at 1184\n"
     ]
    },
    {
     "name": "stderr",
     "output_type": "stream",
     "text": [
      " 60%|█████▉    | 1191/2000 [03:31<01:49,  7.40it/s]"
     ]
    },
    {
     "name": "stdout",
     "output_type": "stream",
     "text": [
      "Solver failed at 1189\n"
     ]
    },
    {
     "name": "stderr",
     "output_type": "stream",
     "text": [
      " 60%|██████    | 1202/2000 [03:32<01:40,  7.95it/s]"
     ]
    },
    {
     "name": "stdout",
     "output_type": "stream",
     "text": [
      "Solver failed at 1200\n"
     ]
    },
    {
     "name": "stderr",
     "output_type": "stream",
     "text": [
      " 61%|██████    | 1223/2000 [03:36<02:42,  4.79it/s]"
     ]
    },
    {
     "name": "stdout",
     "output_type": "stream",
     "text": [
      "Solver failed at 1222\n",
      "Solver failed at 1223\n"
     ]
    },
    {
     "name": "stderr",
     "output_type": "stream",
     "text": [
      " 62%|██████▎   | 1250/2000 [03:41<01:58,  6.32it/s]"
     ]
    },
    {
     "name": "stdout",
     "output_type": "stream",
     "text": [
      "Solver failed at 1248\n"
     ]
    },
    {
     "name": "stderr",
     "output_type": "stream",
     "text": [
      " 63%|██████▎   | 1256/2000 [03:42<02:17,  5.40it/s]"
     ]
    },
    {
     "name": "stdout",
     "output_type": "stream",
     "text": [
      "Solver failed at 1254\n"
     ]
    },
    {
     "name": "stderr",
     "output_type": "stream",
     "text": [
      " 65%|██████▌   | 1300/2000 [03:50<02:22,  4.90it/s]"
     ]
    },
    {
     "name": "stdout",
     "output_type": "stream",
     "text": [
      "Solver failed at 1299\n"
     ]
    },
    {
     "name": "stderr",
     "output_type": "stream",
     "text": [
      " 66%|██████▌   | 1317/2000 [03:53<01:51,  6.12it/s]"
     ]
    },
    {
     "name": "stdout",
     "output_type": "stream",
     "text": [
      "Solver failed at 1315\n"
     ]
    },
    {
     "name": "stderr",
     "output_type": "stream",
     "text": [
      " 66%|██████▋   | 1329/2000 [03:56<02:04,  5.37it/s]"
     ]
    },
    {
     "name": "stdout",
     "output_type": "stream",
     "text": [
      "Solver failed at 1328\n"
     ]
    },
    {
     "name": "stderr",
     "output_type": "stream",
     "text": [
      " 69%|██████▊   | 1371/2000 [04:03<01:43,  6.10it/s]"
     ]
    },
    {
     "name": "stdout",
     "output_type": "stream",
     "text": [
      "Solver failed at 1370\n"
     ]
    },
    {
     "name": "stderr",
     "output_type": "stream",
     "text": [
      " 69%|██████▉   | 1376/2000 [04:04<02:02,  5.09it/s]"
     ]
    },
    {
     "name": "stdout",
     "output_type": "stream",
     "text": [
      "Solver failed at 1374\n"
     ]
    },
    {
     "name": "stderr",
     "output_type": "stream",
     "text": [
      " 69%|██████▉   | 1377/2000 [04:04<02:13,  4.67it/s]"
     ]
    },
    {
     "name": "stdout",
     "output_type": "stream",
     "text": [
      "Solver failed at 1376\n"
     ]
    },
    {
     "name": "stderr",
     "output_type": "stream",
     "text": [
      " 70%|███████   | 1410/2000 [04:10<01:51,  5.29it/s]"
     ]
    },
    {
     "name": "stdout",
     "output_type": "stream",
     "text": [
      "Solver failed at 1410\n"
     ]
    },
    {
     "name": "stderr",
     "output_type": "stream",
     "text": [
      " 72%|███████▏  | 1439/2000 [04:15<01:15,  7.48it/s]"
     ]
    },
    {
     "name": "stdout",
     "output_type": "stream",
     "text": [
      "Solver failed at 1437\n"
     ]
    },
    {
     "name": "stderr",
     "output_type": "stream",
     "text": [
      " 74%|███████▎  | 1474/2000 [04:22<01:50,  4.76it/s]"
     ]
    },
    {
     "name": "stdout",
     "output_type": "stream",
     "text": [
      "Solver failed at 1474\n"
     ]
    },
    {
     "name": "stderr",
     "output_type": "stream",
     "text": [
      " 74%|███████▍  | 1479/2000 [04:23<01:46,  4.88it/s]"
     ]
    },
    {
     "name": "stdout",
     "output_type": "stream",
     "text": [
      "Solver failed at 1478\n"
     ]
    },
    {
     "name": "stderr",
     "output_type": "stream",
     "text": [
      " 76%|███████▋  | 1528/2000 [04:31<01:18,  6.01it/s]"
     ]
    },
    {
     "name": "stdout",
     "output_type": "stream",
     "text": [
      "Solver failed at 1526\n"
     ]
    },
    {
     "name": "stderr",
     "output_type": "stream",
     "text": [
      " 78%|███████▊  | 1550/2000 [04:34<01:13,  6.14it/s]"
     ]
    },
    {
     "name": "stdout",
     "output_type": "stream",
     "text": [
      "Solver failed at 1548\n"
     ]
    },
    {
     "name": "stderr",
     "output_type": "stream",
     "text": [
      " 78%|███████▊  | 1565/2000 [04:36<00:57,  7.63it/s]"
     ]
    },
    {
     "name": "stdout",
     "output_type": "stream",
     "text": [
      "Solver failed at 1563\n"
     ]
    },
    {
     "name": "stderr",
     "output_type": "stream",
     "text": [
      " 81%|████████  | 1619/2000 [04:47<01:15,  5.06it/s]"
     ]
    },
    {
     "name": "stdout",
     "output_type": "stream",
     "text": [
      "Solver failed at 1617\n"
     ]
    },
    {
     "name": "stderr",
     "output_type": "stream",
     "text": [
      " 82%|████████▏ | 1634/2000 [04:50<01:05,  5.60it/s]"
     ]
    },
    {
     "name": "stdout",
     "output_type": "stream",
     "text": [
      "Solver failed at 1632\n"
     ]
    },
    {
     "name": "stderr",
     "output_type": "stream",
     "text": [
      " 82%|████████▏ | 1647/2000 [04:52<01:03,  5.53it/s]"
     ]
    },
    {
     "name": "stdout",
     "output_type": "stream",
     "text": [
      "Solver failed at 1645\n"
     ]
    },
    {
     "name": "stderr",
     "output_type": "stream",
     "text": [
      " 83%|████████▎ | 1652/2000 [04:53<00:56,  6.20it/s]"
     ]
    },
    {
     "name": "stdout",
     "output_type": "stream",
     "text": [
      "Solver failed at 1651\n"
     ]
    },
    {
     "name": "stderr",
     "output_type": "stream",
     "text": [
      " 83%|████████▎ | 1656/2000 [04:54<01:27,  3.93it/s]"
     ]
    },
    {
     "name": "stdout",
     "output_type": "stream",
     "text": [
      "Solver failed at 1655\n"
     ]
    },
    {
     "name": "stderr",
     "output_type": "stream",
     "text": [
      " 83%|████████▎ | 1665/2000 [04:56<01:04,  5.17it/s]"
     ]
    },
    {
     "name": "stdout",
     "output_type": "stream",
     "text": [
      "Solver failed at 1663\n"
     ]
    },
    {
     "name": "stderr",
     "output_type": "stream",
     "text": [
      " 84%|████████▎ | 1673/2000 [04:57<00:50,  6.49it/s]"
     ]
    },
    {
     "name": "stdout",
     "output_type": "stream",
     "text": [
      "Solver failed at 1671\n"
     ]
    },
    {
     "name": "stderr",
     "output_type": "stream",
     "text": [
      " 85%|████████▌ | 1708/2000 [05:04<00:46,  6.31it/s]"
     ]
    },
    {
     "name": "stdout",
     "output_type": "stream",
     "text": [
      "Solver failed at 1706\n"
     ]
    },
    {
     "name": "stderr",
     "output_type": "stream",
     "text": [
      " 88%|████████▊ | 1759/2000 [05:14<00:48,  4.96it/s]"
     ]
    },
    {
     "name": "stdout",
     "output_type": "stream",
     "text": [
      "Solver failed at 1757\n"
     ]
    },
    {
     "name": "stderr",
     "output_type": "stream",
     "text": [
      " 89%|████████▊ | 1771/2000 [05:16<00:30,  7.42it/s]"
     ]
    },
    {
     "name": "stdout",
     "output_type": "stream",
     "text": [
      "Solver failed at 1769\n"
     ]
    },
    {
     "name": "stderr",
     "output_type": "stream",
     "text": [
      " 89%|████████▉ | 1775/2000 [05:17<00:48,  4.67it/s]"
     ]
    },
    {
     "name": "stdout",
     "output_type": "stream",
     "text": [
      "Solver failed at 1774\n"
     ]
    },
    {
     "name": "stderr",
     "output_type": "stream",
     "text": [
      " 90%|████████▉ | 1794/2000 [05:20<00:28,  7.28it/s]"
     ]
    },
    {
     "name": "stdout",
     "output_type": "stream",
     "text": [
      "Solver failed at 1792\n"
     ]
    },
    {
     "name": "stderr",
     "output_type": "stream",
     "text": [
      " 90%|█████████ | 1803/2000 [05:22<00:29,  6.60it/s]"
     ]
    },
    {
     "name": "stdout",
     "output_type": "stream",
     "text": [
      "Solver failed at 1801\n"
     ]
    },
    {
     "name": "stderr",
     "output_type": "stream",
     "text": [
      " 90%|█████████ | 1806/2000 [05:22<00:30,  6.31it/s]"
     ]
    },
    {
     "name": "stdout",
     "output_type": "stream",
     "text": [
      "Solver failed at 1804\n"
     ]
    },
    {
     "name": "stderr",
     "output_type": "stream",
     "text": [
      " 90%|█████████ | 1807/2000 [05:22<00:34,  5.67it/s]"
     ]
    },
    {
     "name": "stdout",
     "output_type": "stream",
     "text": [
      "Solver failed at 1806\n"
     ]
    },
    {
     "name": "stderr",
     "output_type": "stream",
     "text": [
      " 91%|█████████ | 1818/2000 [05:24<00:26,  6.86it/s]"
     ]
    },
    {
     "name": "stdout",
     "output_type": "stream",
     "text": [
      "Solver failed at 1816\n"
     ]
    },
    {
     "name": "stderr",
     "output_type": "stream",
     "text": [
      " 91%|█████████ | 1820/2000 [05:25<00:23,  7.81it/s]"
     ]
    },
    {
     "name": "stdout",
     "output_type": "stream",
     "text": [
      "Solver failed at 1818\n"
     ]
    },
    {
     "name": "stderr",
     "output_type": "stream",
     "text": [
      " 93%|█████████▎| 1860/2000 [05:32<00:23,  6.01it/s]"
     ]
    },
    {
     "name": "stdout",
     "output_type": "stream",
     "text": [
      "Solver failed at 1858\n"
     ]
    },
    {
     "name": "stderr",
     "output_type": "stream",
     "text": [
      " 93%|█████████▎| 1867/2000 [05:33<00:27,  4.76it/s]"
     ]
    },
    {
     "name": "stdout",
     "output_type": "stream",
     "text": [
      "Solver failed at 1865\n"
     ]
    },
    {
     "name": "stderr",
     "output_type": "stream",
     "text": [
      " 93%|█████████▎| 1869/2000 [05:34<00:28,  4.67it/s]"
     ]
    },
    {
     "name": "stdout",
     "output_type": "stream",
     "text": [
      "Solver failed at 1868\n"
     ]
    },
    {
     "name": "stderr",
     "output_type": "stream",
     "text": [
      " 94%|█████████▎| 1872/2000 [05:34<00:28,  4.46it/s]"
     ]
    },
    {
     "name": "stdout",
     "output_type": "stream",
     "text": [
      "Solver failed at 1872\n"
     ]
    },
    {
     "name": "stderr",
     "output_type": "stream",
     "text": [
      " 94%|█████████▍| 1886/2000 [05:37<00:16,  6.94it/s]"
     ]
    },
    {
     "name": "stdout",
     "output_type": "stream",
     "text": [
      "Solver failed at 1884\n"
     ]
    },
    {
     "name": "stderr",
     "output_type": "stream",
     "text": [
      " 94%|█████████▍| 1889/2000 [05:37<00:17,  6.41it/s]"
     ]
    },
    {
     "name": "stdout",
     "output_type": "stream",
     "text": [
      "Solver failed at 1888\n",
      "Solver failed at 1889\n"
     ]
    },
    {
     "name": "stderr",
     "output_type": "stream",
     "text": [
      " 95%|█████████▍| 1897/2000 [05:38<00:15,  6.44it/s]"
     ]
    },
    {
     "name": "stdout",
     "output_type": "stream",
     "text": [
      "Solver failed at 1895\n"
     ]
    },
    {
     "name": "stderr",
     "output_type": "stream",
     "text": [
      " 95%|█████████▌| 1901/2000 [05:39<00:17,  5.55it/s]"
     ]
    },
    {
     "name": "stdout",
     "output_type": "stream",
     "text": [
      "Solver failed at 1900\n"
     ]
    },
    {
     "name": "stderr",
     "output_type": "stream",
     "text": [
      " 95%|█████████▌| 1908/2000 [05:40<00:14,  6.23it/s]"
     ]
    },
    {
     "name": "stdout",
     "output_type": "stream",
     "text": [
      "Solver failed at 1906\n"
     ]
    },
    {
     "name": "stderr",
     "output_type": "stream",
     "text": [
      " 96%|█████████▌| 1910/2000 [05:41<00:17,  5.29it/s]"
     ]
    },
    {
     "name": "stdout",
     "output_type": "stream",
     "text": [
      "Solver failed at 1908\n"
     ]
    },
    {
     "name": "stderr",
     "output_type": "stream",
     "text": [
      " 96%|█████████▌| 1918/2000 [05:42<00:14,  5.53it/s]"
     ]
    },
    {
     "name": "stdout",
     "output_type": "stream",
     "text": [
      "Solver failed at 1916\n"
     ]
    },
    {
     "name": "stderr",
     "output_type": "stream",
     "text": [
      " 96%|█████████▋| 1929/2000 [05:45<00:12,  5.91it/s]"
     ]
    },
    {
     "name": "stdout",
     "output_type": "stream",
     "text": [
      "Solver failed at 1927\n"
     ]
    },
    {
     "name": "stderr",
     "output_type": "stream",
     "text": [
      " 98%|█████████▊| 1959/2000 [05:50<00:07,  5.13it/s]"
     ]
    },
    {
     "name": "stdout",
     "output_type": "stream",
     "text": [
      "Solver failed at 1958\n"
     ]
    },
    {
     "name": "stderr",
     "output_type": "stream",
     "text": [
      " 99%|█████████▊| 1972/2000 [05:52<00:05,  5.33it/s]"
     ]
    },
    {
     "name": "stdout",
     "output_type": "stream",
     "text": [
      "Solver failed at 1972\n"
     ]
    },
    {
     "name": "stderr",
     "output_type": "stream",
     "text": [
      "100%|██████████| 2000/2000 [05:58<00:00,  5.58it/s]\n"
     ]
    }
   ],
   "source": [
    "n_test = 2000\n",
    "framework = 'OMISTL'\n",
    "n_succ = 0\n",
    "count = 0\n",
    "gurobi_fail = 0\n",
    "\n",
    "costs = []\n",
    "total_time_ML = []\n",
    "num_solves = []\n",
    "\n",
    "cost_ratios = []\n",
    "costs_ip = []\n",
    "total_time_ip = []\n",
    "\n",
    "for ii in tqdm(range(n_test)):\n",
    "    if ii % 1000 == 0:\n",
    "        print('{} / {}'.format(ii,n_test))\n",
    "    prob_params = {}\n",
    "    for k in p_test.keys():\n",
    "        prob_params[k] = p_test[k][ii]\n",
    "\n",
    "    try:\n",
    "        prob_success, cost, total_time, n_evals, optvals,y_guess = MPC_obj.forward(prob_params, max_evals=10, solver=cp.GUROBI)\n",
    "\n",
    "        if prob_success:\n",
    "            n_succ += 1\n",
    "            costs += [cost]\n",
    "            total_time_ML += [total_time]\n",
    "            num_solves += [n_evals]\n",
    "\n",
    "            true_cost = cost_test[ii]\n",
    "            costs_ip += [true_cost]\n",
    "            total_time_ip += [times_test[ii]]\n",
    "\n",
    "            cost_ratios += [cost / true_cost]\n",
    "        count += 1\n",
    "    except (KeyboardInterrupt, SystemExit):\n",
    "        raise\n",
    "    except:\n",
    "        print('Solver failed at {}'.format(ii))\n",
    "        gurobi_fail += 1\n",
    "        continue\n",
    "\n",
    "costs = np.array(costs)\n",
    "cost_ratios = np.array(cost_ratios)\n",
    "total_time_ML = np.array(total_time_ML)\n",
    "num_solves = np.array(num_solves, dtype=int)\n",
    "\n",
    "costs_ip = np.array(costs_ip)\n",
    "total_time_ip = np.array(total_time_ip)\n",
    "\n",
    "percentage = 100 * float(n_succ) / float(count)\n",
    "dict = {'framework':framework, 'costs':costs, 'total_time_ML':total_time_ML,'num_solves':num_solves, 'costs_ip':costs_ip, 'total_time_ip':total_time_ip, 'cost_ratios':cost_ratios,'percentage':percentage}\n",
    "f_save = open(dataset_fn+'/result.pkl', 'wb')\n",
    "pickle.dump(dict, f_save)\n",
    "f_save.close()"
   ],
   "metadata": {
    "collapsed": false,
    "pycharm": {
     "name": "#%%\n"
    }
   }
  },
  {
   "cell_type": "code",
   "execution_count": 86,
   "outputs": [],
   "source": [
    "# N = 8\n",
    "# n_obs = 10\n",
    "# dataset_name = 'MPC_horizon_{}_obs_{}'.format(N,n_obs)\n",
    "# config_fn = os.path.join(relative_path, 'config', dataset_name+'.p')\n",
    "# relative_path = os.getcwd()\n",
    "# dataset_fn = relative_path + '/data/' + dataset_name"
   ],
   "metadata": {
    "collapsed": false,
    "pycharm": {
     "name": "#%%\n"
    }
   }
  },
  {
   "cell_type": "code",
   "execution_count": 13,
   "outputs": [
    {
     "data": {
      "text/plain": "{'framework': 'OMISTL',\n 'costs': array([ 48.36645753,  30.11328263, 196.43579083, ...,  69.75929735,\n          4.11790463,  54.26471937]),\n 'total_time_ML': array([0.03499389, 0.03701115, 0.08699226, ..., 0.03199697, 0.0190053 ,\n        0.04399443]),\n 'num_solves': array([1, 1, 9, ..., 1, 1, 2]),\n 'costs_ip': array([ 47.852325  ,  29.40241565, 195.98101193, ...,  68.16903568,\n          4.11790415,  53.95031834]),\n 'total_time_ip': array([0.13127327, 0.23078728, 0.62501335, ..., 1.32827759, 0.15625381,\n        0.20329285]),\n 'cost_ratios': array([1.01074415, 1.02417716, 1.00232053, ..., 1.02332821, 1.00000012,\n        1.0058276 ]),\n 'percentage': 73.5949098621421}"
     },
     "execution_count": 13,
     "metadata": {},
     "output_type": "execute_result"
    }
   ],
   "source": [
    "# load results\n",
    "f_read = open(dataset_fn+'/result.pkl', 'rb')\n",
    "results = pickle.load(f_read)\n",
    "f_read.close()\n",
    "results"
   ],
   "metadata": {
    "collapsed": false,
    "pycharm": {
     "name": "#%%\n"
    }
   }
  },
  {
   "cell_type": "code",
   "execution_count": 88,
   "outputs": [
    {
     "name": "stderr",
     "output_type": "stream",
     "text": [
      "  0%|          | 60/20000 [00:05<30:51, 10.77it/s] \n"
     ]
    },
    {
     "ename": "KeyboardInterrupt",
     "evalue": "",
     "output_type": "error",
     "traceback": [
      "\u001B[1;31m---------------------------------------------------------------------------\u001B[0m",
      "\u001B[1;31mKeyboardInterrupt\u001B[0m                         Traceback (most recent call last)",
      "\u001B[1;32m<ipython-input-88-0a8641e50f50>\u001B[0m in \u001B[0;36m<module>\u001B[1;34m\u001B[0m\n\u001B[0;32m      1\u001B[0m \u001B[1;32mfrom\u001B[0m \u001B[0mtest_results\u001B[0m \u001B[1;32mimport\u001B[0m \u001B[0mtest_strategy\u001B[0m\u001B[1;33m\u001B[0m\u001B[1;33m\u001B[0m\u001B[0m\n\u001B[1;32m----> 2\u001B[1;33m \u001B[0mtest_strategy\u001B[0m\u001B[1;33m(\u001B[0m\u001B[1;36m7\u001B[0m\u001B[1;33m,\u001B[0m\u001B[0mn_obs\u001B[0m\u001B[1;33m=\u001B[0m\u001B[1;36m5\u001B[0m\u001B[1;33m)\u001B[0m\u001B[1;33m\u001B[0m\u001B[1;33m\u001B[0m\u001B[0m\n\u001B[0m",
      "\u001B[1;32mD:\\Curious\\OMISTL\\MPC\\test_results.py\u001B[0m in \u001B[0;36mtest_strategy\u001B[1;34m(N, n_obs, obs_default)\u001B[0m\n\u001B[0;32m    123\u001B[0m             \u001B[1;32mtry\u001B[0m\u001B[1;33m:\u001B[0m\u001B[1;33m\u001B[0m\u001B[1;33m\u001B[0m\u001B[0m\n\u001B[0;32m    124\u001B[0m                 \u001B[1;31m# with time_limit(20):\u001B[0m\u001B[1;33m\u001B[0m\u001B[1;33m\u001B[0m\u001B[1;33m\u001B[0m\u001B[0m\n\u001B[1;32m--> 125\u001B[1;33m                 \u001B[0mprob_success\u001B[0m\u001B[1;33m,\u001B[0m \u001B[0mcost\u001B[0m\u001B[1;33m,\u001B[0m \u001B[0msolve_time\u001B[0m\u001B[1;33m,\u001B[0m \u001B[0moptvals\u001B[0m \u001B[1;33m=\u001B[0m \u001B[0mprob\u001B[0m\u001B[1;33m.\u001B[0m\u001B[0msolve_stl\u001B[0m\u001B[1;33m(\u001B[0m\u001B[0mp_dict\u001B[0m\u001B[1;33m,\u001B[0m \u001B[0msolver\u001B[0m\u001B[1;33m=\u001B[0m\u001B[0mcp\u001B[0m\u001B[1;33m.\u001B[0m\u001B[0mGUROBI\u001B[0m\u001B[1;33m)\u001B[0m\u001B[1;33m\u001B[0m\u001B[1;33m\u001B[0m\u001B[0m\n\u001B[0m\u001B[0;32m    126\u001B[0m             \u001B[1;32mexcept\u001B[0m \u001B[1;33m(\u001B[0m\u001B[0mKeyboardInterrupt\u001B[0m\u001B[1;33m,\u001B[0m \u001B[0mSystemExit\u001B[0m\u001B[1;33m)\u001B[0m\u001B[1;33m:\u001B[0m\u001B[1;33m\u001B[0m\u001B[1;33m\u001B[0m\u001B[0m\n\u001B[0;32m    127\u001B[0m                 \u001B[1;32mraise\u001B[0m\u001B[1;33m\u001B[0m\u001B[1;33m\u001B[0m\u001B[0m\n",
      "\u001B[1;32mD:\\Curious\\OMISTL\\MPC\\MPC_prob.py\u001B[0m in \u001B[0;36msolve_stl\u001B[1;34m(self, params, solver, msk_param_dict, verbose)\u001B[0m\n\u001B[0;32m    319\u001B[0m             \u001B[1;32mwith\u001B[0m \u001B[0mopen\u001B[0m\u001B[1;33m(\u001B[0m\u001B[1;34m'../solver_config/gurobi.yaml'\u001B[0m\u001B[1;33m)\u001B[0m \u001B[1;32mas\u001B[0m \u001B[0mfile\u001B[0m\u001B[1;33m:\u001B[0m\u001B[1;33m\u001B[0m\u001B[1;33m\u001B[0m\u001B[0m\n\u001B[0;32m    320\u001B[0m                 \u001B[0mgrb_param_dict\u001B[0m \u001B[1;33m=\u001B[0m \u001B[0myaml\u001B[0m\u001B[1;33m.\u001B[0m\u001B[0mload\u001B[0m\u001B[1;33m(\u001B[0m\u001B[0mfile\u001B[0m\u001B[1;33m,\u001B[0m \u001B[0mLoader\u001B[0m\u001B[1;33m=\u001B[0m\u001B[0myaml\u001B[0m\u001B[1;33m.\u001B[0m\u001B[0mFullLoader\u001B[0m\u001B[1;33m)\u001B[0m\u001B[1;33m\u001B[0m\u001B[1;33m\u001B[0m\u001B[0m\n\u001B[1;32m--> 321\u001B[1;33m                 \u001B[0mself\u001B[0m\u001B[1;33m.\u001B[0m\u001B[0mstl_prob\u001B[0m\u001B[1;33m.\u001B[0m\u001B[0msolve\u001B[0m\u001B[1;33m(\u001B[0m\u001B[0msolver\u001B[0m\u001B[1;33m=\u001B[0m\u001B[0msolver\u001B[0m\u001B[1;33m,\u001B[0m \u001B[1;33m**\u001B[0m\u001B[0mgrb_param_dict\u001B[0m\u001B[1;33m,\u001B[0m \u001B[0mverbose\u001B[0m\u001B[1;33m=\u001B[0m\u001B[0mverbose\u001B[0m\u001B[1;33m)\u001B[0m\u001B[1;33m\u001B[0m\u001B[1;33m\u001B[0m\u001B[0m\n\u001B[0m\u001B[0;32m    322\u001B[0m \u001B[1;33m\u001B[0m\u001B[0m\n\u001B[0;32m    323\u001B[0m         \u001B[1;31m# solve_time = self.bin_prob.solver_stats.solve_time\u001B[0m\u001B[1;33m\u001B[0m\u001B[1;33m\u001B[0m\u001B[1;33m\u001B[0m\u001B[0m\n",
      "\u001B[1;32m~\\anaconda3\\envs\\coco\\lib\\site-packages\\cvxpy\\problems\\problem.py\u001B[0m in \u001B[0;36msolve\u001B[1;34m(self, *args, **kwargs)\u001B[0m\n\u001B[0;32m    471\u001B[0m         \u001B[1;32melse\u001B[0m\u001B[1;33m:\u001B[0m\u001B[1;33m\u001B[0m\u001B[1;33m\u001B[0m\u001B[0m\n\u001B[0;32m    472\u001B[0m             \u001B[0msolve_func\u001B[0m \u001B[1;33m=\u001B[0m \u001B[0mProblem\u001B[0m\u001B[1;33m.\u001B[0m\u001B[0m_solve\u001B[0m\u001B[1;33m\u001B[0m\u001B[1;33m\u001B[0m\u001B[0m\n\u001B[1;32m--> 473\u001B[1;33m         \u001B[1;32mreturn\u001B[0m \u001B[0msolve_func\u001B[0m\u001B[1;33m(\u001B[0m\u001B[0mself\u001B[0m\u001B[1;33m,\u001B[0m \u001B[1;33m*\u001B[0m\u001B[0margs\u001B[0m\u001B[1;33m,\u001B[0m \u001B[1;33m**\u001B[0m\u001B[0mkwargs\u001B[0m\u001B[1;33m)\u001B[0m\u001B[1;33m\u001B[0m\u001B[1;33m\u001B[0m\u001B[0m\n\u001B[0m\u001B[0;32m    474\u001B[0m \u001B[1;33m\u001B[0m\u001B[0m\n\u001B[0;32m    475\u001B[0m     \u001B[1;33m@\u001B[0m\u001B[0mclassmethod\u001B[0m\u001B[1;33m\u001B[0m\u001B[1;33m\u001B[0m\u001B[0m\n",
      "\u001B[1;32m~\\anaconda3\\envs\\coco\\lib\\site-packages\\cvxpy\\problems\\problem.py\u001B[0m in \u001B[0;36m_solve\u001B[1;34m(self, solver, warm_start, verbose, gp, qcp, requires_grad, enforce_dpp, **kwargs)\u001B[0m\n\u001B[0;32m    978\u001B[0m         \u001B[0mstart\u001B[0m \u001B[1;33m=\u001B[0m \u001B[0mtime\u001B[0m\u001B[1;33m.\u001B[0m\u001B[0mtime\u001B[0m\u001B[1;33m(\u001B[0m\u001B[1;33m)\u001B[0m\u001B[1;33m\u001B[0m\u001B[1;33m\u001B[0m\u001B[0m\n\u001B[0;32m    979\u001B[0m         solution = solving_chain.solve_via_data(\n\u001B[1;32m--> 980\u001B[1;33m             self, data, warm_start, verbose, kwargs)\n\u001B[0m\u001B[0;32m    981\u001B[0m         \u001B[0mend\u001B[0m \u001B[1;33m=\u001B[0m \u001B[0mtime\u001B[0m\u001B[1;33m.\u001B[0m\u001B[0mtime\u001B[0m\u001B[1;33m(\u001B[0m\u001B[1;33m)\u001B[0m\u001B[1;33m\u001B[0m\u001B[1;33m\u001B[0m\u001B[0m\n\u001B[0;32m    982\u001B[0m         \u001B[0mself\u001B[0m\u001B[1;33m.\u001B[0m\u001B[0m_solve_time\u001B[0m \u001B[1;33m=\u001B[0m \u001B[0mend\u001B[0m \u001B[1;33m-\u001B[0m \u001B[0mstart\u001B[0m\u001B[1;33m\u001B[0m\u001B[1;33m\u001B[0m\u001B[0m\n",
      "\u001B[1;32m~\\anaconda3\\envs\\coco\\lib\\site-packages\\cvxpy\\reductions\\solvers\\solving_chain.py\u001B[0m in \u001B[0;36msolve_via_data\u001B[1;34m(self, problem, data, warm_start, verbose, solver_opts)\u001B[0m\n\u001B[0;32m    342\u001B[0m         \"\"\"\n\u001B[0;32m    343\u001B[0m         return self.solver.solve_via_data(data, warm_start, verbose,\n\u001B[1;32m--> 344\u001B[1;33m                                           solver_opts, problem._solver_cache)\n\u001B[0m",
      "\u001B[1;32m~\\anaconda3\\envs\\coco\\lib\\site-packages\\cvxpy\\reductions\\solvers\\conic_solvers\\gurobi_conif.py\u001B[0m in \u001B[0;36msolve_via_data\u001B[1;34m(self, data, warm_start, verbose, solver_opts, solver_cache)\u001B[0m\n\u001B[0;32m    221\u001B[0m         \u001B[0msolution\u001B[0m \u001B[1;33m=\u001B[0m \u001B[1;33m{\u001B[0m\u001B[1;33m}\u001B[0m\u001B[1;33m\u001B[0m\u001B[1;33m\u001B[0m\u001B[0m\n\u001B[0;32m    222\u001B[0m         \u001B[1;32mtry\u001B[0m\u001B[1;33m:\u001B[0m\u001B[1;33m\u001B[0m\u001B[1;33m\u001B[0m\u001B[0m\n\u001B[1;32m--> 223\u001B[1;33m             \u001B[0mmodel\u001B[0m\u001B[1;33m.\u001B[0m\u001B[0moptimize\u001B[0m\u001B[1;33m(\u001B[0m\u001B[1;33m)\u001B[0m\u001B[1;33m\u001B[0m\u001B[1;33m\u001B[0m\u001B[0m\n\u001B[0m\u001B[0;32m    224\u001B[0m             \u001B[1;32mif\u001B[0m \u001B[0mmodel\u001B[0m\u001B[1;33m.\u001B[0m\u001B[0mStatus\u001B[0m \u001B[1;33m==\u001B[0m \u001B[1;36m4\u001B[0m \u001B[1;32mand\u001B[0m \u001B[0msolver_opts\u001B[0m\u001B[1;33m.\u001B[0m\u001B[0mget\u001B[0m\u001B[1;33m(\u001B[0m\u001B[1;34m'reoptimize'\u001B[0m\u001B[1;33m,\u001B[0m \u001B[1;32mFalse\u001B[0m\u001B[1;33m)\u001B[0m\u001B[1;33m:\u001B[0m\u001B[1;33m\u001B[0m\u001B[1;33m\u001B[0m\u001B[0m\n\u001B[0;32m    225\u001B[0m                 \u001B[1;31m# INF_OR_UNBD. Solve again to get a definitive answer.\u001B[0m\u001B[1;33m\u001B[0m\u001B[1;33m\u001B[0m\u001B[1;33m\u001B[0m\u001B[0m\n",
      "\u001B[1;31mKeyboardInterrupt\u001B[0m: "
     ]
    }
   ],
   "source": [
    "from test_results import test_strategy\n",
    "test_strategy(7,n_obs=5)"
   ],
   "metadata": {
    "collapsed": false,
    "pycharm": {
     "name": "#%%\n"
    }
   }
  },
  {
   "cell_type": "code",
   "execution_count": null,
   "outputs": [],
   "source": [
    "test_strategy(7,n_obs=5)"
   ],
   "metadata": {
    "collapsed": false,
    "pycharm": {
     "name": "#%%\n"
    }
   }
  },
  {
   "cell_type": "code",
   "execution_count": 144,
   "outputs": [],
   "source": [
    "percent_successes = {}\n",
    "percent_successes[6] = {6: 0.928, 7: 0.904, 8: 0.92, 9: 0.86, 10: 0.848, 11: 0.85, 12: 0.858},\n",
    "percent_successes[7] = {6: 0.894, 7: 0.902, 8: 0.886, 9: 0.866, 10: 0.822, 11: 0.802, 12: 0.814},\n",
    "percent_successes[8] = {6: 0.856, 7: 0.864, 8: 0.806, 9: 0.79, 10: 0.768, 11: 0.724, 12: 0.742},\n",
    "percent_successes[9] = {6: 0.868, 7: 0.818, 8: 0.82, 9: 0.814, 10: 0.77, 11: 0.764, 12: 0.748},\n",
    "percent_successes[10] = {6: 0.806, 7: 0.802, 8: 0.726, 9: 0.736, 10: 0.718, 11: 0.628, 12: 0.652},\n",
    "percent_successes[11] = {6: 0.774, 7: 0.748, 8: 0.744, 9: 0.684, 10: 0.616, 11: 0.592, 12: 0.608}\n",
    "percent_successes[12] = {6: 0.708, 7: 0.666, 8: 0.614, 9: 0.622, 10: 0.61, 11: 0.564, 12: 0.498}"
   ],
   "metadata": {
    "collapsed": false,
    "pycharm": {
     "name": "#%%\n"
    }
   }
  },
  {
   "cell_type": "code",
   "execution_count": 165,
   "outputs": [],
   "source": [
    "percent_successes = [\n",
    "    [0.928, 0.904, 0.92, 0.86, 0.848, 0.85, 0.858],\n",
    "    [0.928, 0.904, 0.92, 0.86, 0.848, 0.85, 0.858],\n",
    "    [0.928, 0.904, 0.92, 0.86, 0.848, 0.85, 0.858],\n",
    "    [0.928, 0.904, 0.92, 0.86, 0.848, 0.85, 0.858],\n",
    "    [0.928, 0.904, 0.92, 0.86, 0.848, 0.85, 0.858],\n",
    "    [0.928, 0.904, 0.92, 0.86, 0.848, 0.85, 0.858],\n",
    "    [0.928, 0.904, 0.92, 0.86, 0.848, 0.85, 0.858]\n",
    "]"
   ],
   "metadata": {
    "collapsed": false,
    "pycharm": {
     "name": "#%%\n"
    }
   }
  },
  {
   "cell_type": "code",
   "execution_count": 177,
   "outputs": [],
   "source": [
    "import seaborn as sns\n",
    "import matplotlib.pyplot as plt\n",
    "import math\n",
    "import seaborn as sns\n",
    "sns.set(font_scale=1.5, font=\"serif\", style=\"whitegrid\")\n",
    "import pandas as pd\n",
    "\n",
    "flierprops = {'alpha':0.2}\n",
    "sns.set(rc={'figure.figsize':(11.7,8.27)})"
   ],
   "metadata": {
    "collapsed": false,
    "pycharm": {
     "name": "#%%\n"
    }
   }
  },
  {
   "cell_type": "code",
   "execution_count": 184,
   "outputs": [
    {
     "data": {
      "text/plain": "<Figure size 842.4x595.44 with 1 Axes>",
      "image/png": "[encoded data removed]"
     },
     "metadata": {},
     "output_type": "display_data"
    }
   ],
   "source": [
    "\n",
    "linestyles = ['--', '-.', '-', ':']\n",
    "\n",
    "plot_horizons = [6,8,10,12]\n",
    "for ii, N in enumerate(plot_horizons):\n",
    "    batch_percent_success = percent_successes[ii]\n",
    "    xlabels = [ii for ii in range(0,7)]\n",
    "    x_labels = [ii for ii in range(6,13)]\n",
    "    y_labels = [100.*batch_percent_success[x] for x in xlabels]\n",
    "    ax1 = sns.lineplot(x=x_labels, y=y_labels, palette=\"Set3\", label='N={}'.format(N), linewidth=1.5)\n",
    "    ax1.lines[ii].set_linestyle(linestyles[ii])\n",
    "    # ax1.set(xlabel=\"\", ylabel=\"Percent Success\")\n",
    "\n",
    "ax1.set(xlabel=\"Num. Obstacles\", ylabel=\"Percent Success [%]\")\n",
    "# ax1.grid(False)\n",
    "\n",
    "yticks =  [10*ii for ii in range(11)]\n",
    "ax1.set_yticks(yticks)\n",
    "\n",
    "#\n",
    "plt.tight_layout()\n",
    "plt.legend(loc='upper right', fontsize='16')\n",
    "plt.xlim([6,12])\n",
    "plt.ylim([40.,100.])\n",
    "\n",
    "# sns.set_style(\"whitegrid\")\n",
    "st = sns.axes_style(\"whitegrid\")\n",
    "sns.set_color_codes(\"dark\")\n",
    "\n",
    "figure = ax1.get_figure()\n",
    "# figure.savefig(\"percent_success_generalization.pdf\")"
   ],
   "metadata": {
    "collapsed": false,
    "pycharm": {
     "name": "#%%\n"
    }
   }
  },
  {
   "cell_type": "code",
   "execution_count": null,
   "outputs": [],
   "source": [],
   "metadata": {
    "collapsed": false,
    "pycharm": {
     "name": "#%%\n"
    }
   }
  }
 ]
}