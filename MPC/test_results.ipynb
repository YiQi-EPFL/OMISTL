{
 "nbformat": 4,
 "nbformat_minor": 0,
 "metadata": {
  "colab": {
   "name": "test_shortestpath.ipynb",
   "provenance": [],
   "authorship_tag": "ABX9TyOtRSeDtZbei9JgzmnCBc02"
  },
  "kernelspec": {
   "name": "python3",
   "display_name": "Python 3"
  },
  "language_info": {
   "name": "python"
  },
  "accelerator": "GPU",
  "gpuClass": "standard"
 },
 "cells": [
  {
   "cell_type": "code",
   "source": [
    "%load_ext autoreload\n",
    "%autoreload 2\n",
    "\n",
    "import matplotlib.pyplot as plt\n",
    "%matplotlib inline\n",
    "\n",
    "import torch\n",
    "from torch.autograd import Variable\n",
    "import numpy as np\n",
    "from solvers.OMISTL import OMISTL\n",
    "import cvxpy as cp\n",
    "from utils import *\n",
    "import pickle, os\n",
    "from MPC_prob import MPC\n",
    "\n",
    "from tqdm import tqdm\n",
    "from para import paraset\n",
    "os.environ['KMP_DUPLICATE_LIB_OK'] = 'True'#不设这个解不出#"
   ],
   "metadata": {
    "id": "73M8ow_96uHi",
    "executionInfo": {
     "status": "ok",
     "timestamp": 1658326900014,
     "user_tz": -120,
     "elapsed": 3774,
     "user": {
      "displayName": "Qi Yi",
      "userId": "03240543293609466208"
     }
    }
   },
   "execution_count": 2,
   "outputs": [
    {
     "name": "stderr",
     "output_type": "stream",
     "text": [
      "C:\\Users\\msi\\anaconda3\\envs\\coco\\lib\\site-packages\\numpy\\_distributor_init.py:32: UserWarning: loaded more than 1 DLL from .libs:\n",
      "C:\\Users\\msi\\anaconda3\\envs\\coco\\lib\\site-packages\\numpy\\.libs\\libopenblas.PYQHXLVVQ7VESDPUVUADXEVJOBGHJPAY.gfortran-win_amd64.dll\n",
      "C:\\Users\\msi\\anaconda3\\envs\\coco\\lib\\site-packages\\numpy\\.libs\\libopenblas.WCDJNK7YVMPZQ2ME2ZZHJJRJ3JIKNDB7.gfortran-win_amd64.dll\n",
      "  stacklevel=1)\n"
     ]
    }
   ]
  },
  {
   "cell_type": "markdown",
   "source": [
    "## Different horizon for training"
   ],
   "metadata": {
    "collapsed": false,
    "pycharm": {
     "name": "#%% md\n"
    }
   }
  },
  {
   "cell_type": "code",
   "execution_count": 3,
   "outputs": [],
   "source": [
    "N= 6\n",
    "paraset(N=N,n_obs=5,Qs=1,Rs=0,num_probs=20000)"
   ],
   "metadata": {
    "collapsed": false,
    "pycharm": {
     "name": "#%%\n"
    }
   }
  },
  {
   "cell_type": "code",
   "execution_count": 4,
   "outputs": [],
   "source": [
    "#pass the value from config to dict and para\n",
    "relative_path = os.getcwd()\n",
    "dataset_name = 'MPC_horizon_{}'.format(N)\n",
    "# dataset_name = 'NSTL_{}_horizon_{}'.format(Qs, N)\n",
    "config_fn = os.path.join(relative_path, 'config', dataset_name+'.p')\n",
    "\n",
    "# config = [dataset_name, [prob_params] ,sampled_params]\n",
    "outfile = open(config_fn,\"rb\")\n",
    "config=pickle.load(outfile)\n",
    "outfile.close()\n",
    "\n",
    "train_fn = 'train_horizon_{}.p'.format(N)\n",
    "train_fn = os.path.join(relative_path, 'data', dataset_name, train_fn)\n",
    "test_fn = 'test_horizon_{}.p'.format(N)\n",
    "test_fn = os.path.join(relative_path, 'data', dataset_name, test_fn)\n",
    "\n",
    "all_params = ['N', 'Ak', 'Bk', 'Q', 'R', 'n_obs', \\\n",
    "            'posmin', 'posmax', 'velmin', 'velmax', \\\n",
    "            'umin', 'umax']\n",
    "\n",
    "param_dict={}\n",
    "i=0\n",
    "len_para = len(all_params)\n",
    "for param in all_params:\n",
    "    param_dict[param]= config[1][i]\n",
    "    i+=1\n",
    "    if i == len_para:\n",
    "        break\n",
    "\n",
    "N = param_dict['N']\n",
    "Ak = param_dict['Ak']\n",
    "Bk = param_dict['Bk']\n",
    "Q = param_dict['Q']\n",
    "R = param_dict['R']\n",
    "n_obs = param_dict['n_obs']\n",
    "umin = param_dict['umin']\n",
    "umax = param_dict['umax']\n",
    "sampled_params = config[2]\n",
    "n_obs = config[3]\n",
    "num_probs = config[4]\n",
    "border_size = config[5]\n",
    "box_buffer = config[6]\n",
    "min_box_size = config[7]\n",
    "max_box_size = config[8]\n",
    "posmin = config[9]\n",
    "posmax = config[10]\n",
    "velmin = config[11]\n",
    "velmax = config[12]\n",
    "n = config[13]\n",
    "m= config[14]\n",
    "\n",
    "obs_fix = config[15]\n",
    "xg_fix = config[16]\n",
    "if obs_fix:\n",
    "    obstacles = config[-1]\n",
    "\n",
    "config_fn = os.path.join(relative_path, 'config', dataset_name+'.p')#\n",
    "\n",
    "prob = MPC(config=config_fn)\n",
    "#create numpy containers for data: (params, x, u, y, J*, solve_time)\n",
    "params = {}\n",
    "if 'x0' in sampled_params:\n",
    "    params['x0'] = np.zeros((num_probs,2*n))\n",
    "if 'xg' in sampled_params:\n",
    "    params['xg'] = np.zeros((num_probs,2*n))\n",
    "if 'obstacles' in sampled_params:\n",
    "    params['obstacles'] = np.zeros((num_probs, 4, n_obs))\n",
    "\n",
    "X = np.zeros((num_probs, 2*n, N));\n",
    "U = np.zeros((num_probs, m, N-1))\n",
    "Y = np.zeros((num_probs, 4*n_obs, N-1)).astype(int)\n",
    "Z = np.zeros((num_probs, 2*n_obs, N-1)).astype(int)\n",
    "\n",
    "costs = np.zeros(num_probs)\n",
    "solve_times = np.zeros(num_probs)\n",
    "\n",
    "prob.sampled_params = ['x0', 'xg', 'obstacles']\n",
    "\n",
    "#solving MICP\n",
    "ii_toggle = 0\n",
    "obs_new_ct = 5\n",
    "ii=0\n",
    "obstacles = config[-1]\n",
    "\n",
    "if obs_fix:\n",
    "    for ii in tqdm(range(num_probs)):\n",
    "        x0 = findIC(obstacles, posmin, posmax, velmin, velmax)\n",
    "        params['obstacles'][ii,:] = np.reshape(np.concatenate(obstacles, axis=0), (n_obs,4)).T\n",
    "        p_dict = {}\n",
    "        params['x0'][ii,:] = x0\n",
    "        xg= findIC(obstacles, posmin, posmax, velmin, velmax)\n",
    "        params['xg'][ii,:] = xg\n",
    "\n",
    "        p_dict['x0'] = params['x0'][ii,:]\n",
    "        p_dict['xg'] = params['xg'][ii,:]\n",
    "        p_dict['obstacles'] = params['obstacles'][ii,:]\n",
    "\n",
    "        prob_success = False\n",
    "        try:\n",
    "            # with time_limit(20):\n",
    "            prob_success, cost, solve_time, optvals = prob.solve_stl(p_dict, solver=cp.GUROBI)\n",
    "        except (KeyboardInterrupt, SystemExit):\n",
    "            raise\n",
    "        except:\n",
    "            print('solver failed at '.format(ii))\n",
    "\n",
    "        if prob_success:\n",
    "            costs[ii] = cost; solve_times[ii] = solve_time\n",
    "            X[ii,:,:], U[ii,:,:], Y[ii,:,:], Z[ii,:,:] = optvals\n",
    "            ii += 1\n",
    "else:\n",
    "    print('choose to fix obstalce')\n",
    "\n",
    "## shuffle the data because of the spatial orders\n",
    "num_train = int(num_probs*0.9)\n",
    "arr = np.arange(num_probs)\n",
    "np.random.shuffle(arr)\n",
    "\n",
    "if 'x0' in sampled_params:\n",
    "    params['x0'] = params['x0'][arr]\n",
    "if 'xg' in sampled_params:\n",
    "    params['xg'] = params['xg'][arr]\n",
    "if 'obstacles' in sampled_params:\n",
    "    params['obstacles'] = params['obstacles'][arr]\n",
    "\n",
    "costs = costs[arr]\n",
    "solve_times = solve_times[arr]\n",
    "\n",
    "\n",
    "X = X[arr]\n",
    "U = U[arr]\n",
    "Y = Y[arr]\n",
    "Z = Z[arr]\n",
    "\n",
    "train_params = {}; test_params = {}\n",
    "if 'x0' in sampled_params:\n",
    "    train_params['x0'] = params['x0'][:num_train,:]\n",
    "    test_params['x0'] = params['x0'][num_train:,:]\n",
    "if 'obstacles' in sampled_params:\n",
    "    train_params['obstacles'] = params['obstacles'][:num_train,:]\n",
    "    test_params['obstacles'] = params['obstacles'][num_train:,:]\n",
    "if 'xg' in sampled_params:\n",
    "    train_params['xg'] = params['xg'][:num_train,:]\n",
    "    test_params['xg'] = params['xg'][num_train:,:]\n",
    "\n",
    "train_data = [train_params]\n",
    "train_data += [X[:num_train,:,:], U[:num_train,:,:], Y[:num_train,:,:],Z[:num_train,:,:]]\n",
    "train_data += [costs[:num_train], solve_times[:num_train]]\n",
    "\n",
    "test_data = [test_params]\n",
    "test_data += [X[num_train:,:,:], U[num_train:,:,:], Y[num_train:,:,:], Z[:num_train,:,:]]\n",
    "test_data += [costs[num_train:], solve_times[num_train:]]\n",
    "\n",
    "train_file = open(train_fn,'wb')\n",
    "pickle.dump(train_data,train_file); train_file.close()\n",
    "\n",
    "test_file = open(test_fn, 'wb')\n",
    "pickle.dump(test_data,test_file); test_file.close()"
   ],
   "metadata": {
    "collapsed": false,
    "pycharm": {
     "name": "#%%\n"
    }
   }
  },
  {
   "cell_type": "code",
   "execution_count": 5,
   "outputs": [],
   "source": [
    "relative_path = os.getcwd()\n",
    "dataset_name = 'MPC_horizon_{}'.format(N)\n",
    "# dataset_name = 'NSTL_{}_horizon_{}'.format(Qs, N)\n",
    "config_fn = os.path.join(relative_path, 'config', dataset_name+'.p')\n",
    "prob = MPC(config=config_fn) #use default config, pass different config file oth.\n",
    "\n",
    "relative_path = os.getcwd()\n",
    "dataset_fn = relative_path + '/data/' + dataset_name\n",
    "\n",
    "##load train data\n",
    "train_file = open(dataset_fn+'/train_horizon_{}.p'.format(N),'rb')\n",
    "# train_file = open(dataset_fn+'/train.p','rb')\n",
    "train_data = pickle.load(train_file)\n",
    "p_train, x_train, u_train, y_train, z_train, cost_train, times_train = train_data\n",
    "train_file.close()\n",
    "\n",
    "x_train = train_data[1] #X sequence\n",
    "y_train = train_data[3] #Y sequence\n",
    "\n",
    "##load test data\n",
    "test_file = open(dataset_fn+'/test_horizon_{}.p'.format(N),'rb')\n",
    "# test_file = open(dataset_fn+'/test.p','rb')\n",
    "# p_test, x_test, u_test, y_test, c_test, times_test = pickle.load(test_file)\n",
    "test_data = pickle.load(test_file)\n",
    "p_test, x_test, u_test, y_test,z_test, cost_test,times_test = test_data\n",
    "test_file.close()"
   ],
   "metadata": {
    "collapsed": false,
    "pycharm": {
     "name": "#%%\n"
    }
   }
  },
  {
   "cell_type": "code",
   "execution_count": 6,
   "outputs": [
    {
     "name": "stdout",
     "output_type": "stream",
     "text": [
      "231\n",
      "Loading presaved classifier model from D:\\Curious\\OMISTL\\models\\MPC_horizon_6.pt\n"
     ]
    }
   ],
   "source": [
    "system = 'MPC'\n",
    "prob_features = ['x0','xg','obstacles']\n",
    "# prob_features = ['x0','obstacles_map']\n",
    "\n",
    "MPC_obj = OMISTL(system, prob, prob_features)\n",
    "\n",
    "n_features = 33\n",
    "MPC_obj.construct_strategies(n_features, train_data)\n",
    "print(MPC_obj.n_strategies)\n",
    "MPC_obj.n_evals\n",
    "MPC_obj.setup_network()\n",
    "\n",
    "fn_saved = 'D:\\Curious\\OMISTL\\\\models\\\\MPC_horizon_{}.pt'.format(N)\n",
    "MPC_obj.load_network(fn_saved)"
   ],
   "metadata": {
    "collapsed": false,
    "pycharm": {
     "name": "#%%\n"
    }
   }
  },
  {
   "cell_type": "code",
   "execution_count": 7,
   "outputs": [],
   "source": [
    "# MPC_obj.training_params['TRAINING_ITERATIONS'] = 500\n",
    "# MPC_obj.train(train_data=train_data, verbose=True)\n",
    "# MPC_obj.model"
   ],
   "metadata": {
    "collapsed": false,
    "pycharm": {
     "name": "#%%\n"
    }
   }
  },
  {
   "cell_type": "code",
   "execution_count": 11,
   "outputs": [
    {
     "name": "stdout",
     "output_type": "stream",
     "text": [
      "Found solution! n_evals = 1\n"
     ]
    },
    {
     "data": {
      "text/plain": "0.00700688362121582"
     },
     "execution_count": 11,
     "metadata": {},
     "output_type": "execute_result"
    }
   ],
   "source": [
    "outfile = open(config_fn,\"rb\")\n",
    "config=pickle.load(outfile)\n",
    "velmin = -0.2\n",
    "velmax = 0.2\n",
    "posmin = np.zeros(2)\n",
    "n_obs = config[1][5]\n",
    "\n",
    "ft2m = 0.3048\n",
    "posmax = ft2m*np.array([12.,9.])\n",
    "max_box_size = 0.75\n",
    "min_box_size = 0.25\n",
    "box_buffer = 0.025\n",
    "border_size = 0.05\n",
    "\n",
    "obstacles = config[-1]\n",
    "\n",
    "\n",
    "# x0 = findIC(obstacles, posmin=posmin, posmax=posmax, velmin=velmin, velmax=velmax)\n",
    "# xg = findIC(obstacles, posmin=posmin, posmax=posmax, velmin=velmin, velmax=velmax)\n",
    "x0 = [0.1,0.1,0,0]\n",
    "xg = [3,0.5,0,0]\n",
    "\n",
    "# obstacles = \\\n",
    "#         random_obs(n_obs, posmin, posmax, border_size, box_buffer, min_box_size, max_box_size)\n",
    "obstacles= config[-1]\n",
    "\n",
    "prob_success = False\n",
    "while not prob_success:\n",
    "    prob_params = {}\n",
    "    idx = np.random.randint(test_data[1].shape[0])\n",
    "    for k in p_test.keys():\n",
    "        prob_params[k] = p_test[k][idx]\n",
    "    # prob_params['obstacles'] =  np.reshape(np.concatenate(obstacles, axis=0), (n_obs,4)).T\n",
    "    # prob_params['x0'] = x0\n",
    "    # prob_params['xg'] = xg\n",
    "\n",
    "    prob_success, cost, total_time, n_evals, optvals,y_guess = MPC_obj.forward(prob_params, solver=cp.GUROBI, max_evals=10)\n",
    "    # prob_success, cost, total_time, n_evals, optvals = coco_obj.forward(p_dict, solver=cp.GUROBI, max_evals=10)\n",
    "    if prob_success:\n",
    "        print('Found solution! ' + \"n_evals = \" + str(n_evals))\n",
    "    else:\n",
    "        print('Failed')\n",
    "total_time"
   ],
   "metadata": {
    "collapsed": false,
    "pycharm": {
     "name": "#%%\n"
    }
   }
  },
  {
   "cell_type": "code",
   "execution_count": 81,
   "outputs": [
    {
     "name": "stderr",
     "output_type": "stream",
     "text": [
      "  0%|          | 0/200 [00:00<?, ?it/s]"
     ]
    },
    {
     "name": "stdout",
     "output_type": "stream",
     "text": [
      "0 / 200\n"
     ]
    },
    {
     "name": "stderr",
     "output_type": "stream",
     "text": [
      " 21%|██        | 42/200 [00:01<00:05, 27.31it/s]C:\\Users\\msi\\AppData\\Roaming\\Python\\Python36\\site-packages\\ipykernel_launcher.py:35: RuntimeWarning: divide by zero encountered in double_scalars\n",
      " 75%|███████▌  | 150/200 [00:06<00:01, 28.98it/s]"
     ]
    },
    {
     "name": "stdout",
     "output_type": "stream",
     "text": [
      "Solver failed at 147\n"
     ]
    },
    {
     "name": "stderr",
     "output_type": "stream",
     "text": [
      "100%|██████████| 200/200 [00:08<00:00, 24.33it/s]\n"
     ]
    }
   ],
   "source": [
    "n_test = 2000\n",
    "framework = 'OMISTL'\n",
    "n_succ = 0\n",
    "count = 0\n",
    "gurobi_fail = 0\n",
    "\n",
    "costs = []\n",
    "total_time_ML = []\n",
    "num_solves = []\n",
    "\n",
    "cost_ratios = []\n",
    "costs_ip = []\n",
    "total_time_ip = []\n",
    "\n",
    "for ii in tqdm(range(n_test)):\n",
    "    if ii % 1000 == 0:\n",
    "        print('{} / {}'.format(ii,n_test))\n",
    "    prob_params = {}\n",
    "    for k in p_test.keys():\n",
    "        prob_params[k] = p_test[k][ii]\n",
    "\n",
    "    try:\n",
    "        prob_success, cost, total_time, n_evals, optvals,y_guess = MPC_obj.forward(prob_params, max_evals=10, solver=cp.MOSEK)\n",
    "\n",
    "        if prob_success:\n",
    "            n_succ += 1\n",
    "            costs += [cost]\n",
    "            total_time_ML += [total_time]\n",
    "            num_solves += [n_evals]\n",
    "\n",
    "            true_cost = cost_test[ii]\n",
    "            costs_ip += [true_cost]\n",
    "            total_time_ip += [times_test[ii]]\n",
    "\n",
    "            cost_ratios += [cost / true_cost]\n",
    "        count += 1\n",
    "    except (KeyboardInterrupt, SystemExit):\n",
    "        raise\n",
    "    except:\n",
    "        print('Solver failed at {}'.format(ii))\n",
    "        gurobi_fail += 1\n",
    "        continue\n",
    "\n",
    "costs = np.array(costs)\n",
    "cost_ratios = np.array(cost_ratios)\n",
    "total_time_ML = np.array(total_time_ML)\n",
    "num_solves = np.array(num_solves, dtype=int)\n",
    "\n",
    "costs_ip = np.array(costs_ip)\n",
    "total_time_ip = np.array(total_time_ip)\n",
    "\n",
    "percentage = 100 * float(n_succ) / float(count)\n",
    "dict = {'framework':framework, 'costs':costs, 'total_time_ML':total_time_ML,'num_solves':num_solves, 'costs_ip':costs_ip, 'total_time_ip':total_time_ip, 'cost_ratios':cost_ratios,'percentage':percentage}\n",
    "f_save = open(dataset_fn+'/result.pkl', 'wb')\n",
    "pickle.dump(dict, f_save)\n",
    "f_save.close()"
   ],
   "metadata": {
    "collapsed": false,
    "pycharm": {
     "name": "#%%\n"
    }
   }
  },
  {
   "cell_type": "code",
   "execution_count": 83,
   "outputs": [
    {
     "data": {
      "text/plain": "{'framework': 'OMISTL',\n 'costs': array([  6.79233254,  18.13777287,  38.83775711,  80.83986806,\n         73.03448054,  10.97165293,  53.98622899,  16.05846819,\n         21.88866498,   3.1546086 ,   0.74165639,  33.01794866,\n         36.94406138,   5.15449137,   7.31219968,  23.44958828,\n         32.98543018,   6.30914069,   2.16753224,  22.24978338,\n         62.74683114, 157.63531686,   0.75325112,  20.97936187,\n         98.43459508,  26.89001367,   9.76716558,   7.4260475 ,\n          8.17205545,   4.40406445,   0.97879872,   8.72282205,\n         60.8712056 ,  82.36706631,  66.18280361,  50.43168996,\n         58.06034436,  14.31410477,  92.38008208,  41.44742038,\n         32.77146528,   3.85774677,   3.2442994 ,   3.58064177,\n         34.82965695,   7.89805972,  22.95853047,  22.68586629,\n         32.10057746,  31.43960443,  14.94823928,  54.08014613,\n          7.09475635,   0.54631727,  14.06000322,  41.55167178,\n         50.95411591,  84.18413151,  14.0182002 ,  19.12721898,\n         50.47612558,  47.29552105,   2.842814  ,  37.67782337,\n         55.5590156 ,  12.03938275,   4.64378607,   1.24779979,\n         20.54562149,  28.30752933,  16.72275451,  91.24047179,\n         68.37097725,  37.49495504,  52.98378986,  30.99554742,\n         22.94033532,  42.16020628,  64.53814539,  11.28905964,\n         68.32125115, 144.08936181,  99.89888189,  39.01732749,\n         10.1512949 ,  12.96505894,  10.74451777,  31.37038085,\n         38.13406598,  69.51287573,   3.44293655,  98.68626562,\n          6.5747107 , 107.23377696,  43.87590383,   3.41507248,\n         67.05195029,  30.31686899,  36.87517919,  59.29171142,\n          0.94251579,  82.17243528,  17.10205618,  49.18435107,\n          9.85201268,  64.39567032,  66.22693668,   3.07740406,\n         29.90464801,  26.38819132,  10.27707465,  57.83229021,\n         60.7956061 ,   1.08140507,  31.73806876,  32.69406641,\n         96.37952818,  17.26991786,  29.47956975, 101.59304452,\n          8.90933553,  10.19886693,  40.93946741,   6.25665199,\n         57.38641966,   4.42598621,  56.30355855,  22.74056319,\n         17.18158166,  23.63356001,   2.78464334,  51.44303815,\n         23.23401421,   9.43633727,   0.27072221,   0.59542031,\n         13.85957421,   0.41299839,   2.91064266,  26.97891101,\n         44.10896435,  24.72949316,  61.31324249,  46.54959779,\n         38.3972414 ,   1.93754579,  94.18922103,  22.29615772,\n         16.23801354,  11.61889388,   1.64527214,  14.73183428,\n         26.98201761,  36.76976231,  15.33312661,   0.41231383,\n         15.41495728,  42.87272312,  19.4224632 , 139.52118578,\n         78.4215857 ,  19.06822477,  80.6885416 ,  36.07888193,\n          0.52202829,  40.87904132,  30.99649416,  20.06175417,\n         18.40257358,  16.06770853,   3.56132171,   2.16159661,\n          1.86658063,  14.945857  ,   3.10641094,  44.91340856,\n          3.74857628,   7.91749702,  15.52804986,   7.47548678,\n         13.8219535 , 103.12843264,  11.95867071]),\n 'total_time_ML': array([0.016     , 0.016     , 0.        , 0.        , 0.        ,\n        0.016     , 0.        , 0.        , 0.        , 0.015     ,\n        0.        , 0.        , 0.015     , 0.        , 0.015     ,\n        0.        , 0.        , 0.015     , 0.        , 0.031     ,\n        0.        , 0.016     , 0.        , 0.        , 0.016     ,\n        0.        , 0.        , 0.016     , 0.        , 0.        ,\n        0.015     , 0.015     , 0.        , 0.        , 0.        ,\n        0.        , 0.015     , 0.016     , 0.        , 0.        ,\n        0.016     , 0.        , 0.        , 0.016     , 0.        ,\n        0.        , 0.        , 0.        , 0.        , 0.        ,\n        0.        , 0.        , 0.        , 0.016     , 0.        ,\n        0.        , 0.        , 0.        , 0.        , 0.        ,\n        0.        , 0.        , 0.        , 0.        , 0.        ,\n        0.        , 0.        , 0.015     , 0.        , 0.        ,\n        0.03162595, 0.015     , 0.        , 0.        , 0.        ,\n        0.        , 0.        , 0.        , 0.016     , 0.        ,\n        0.        , 0.        , 0.        , 0.        , 0.        ,\n        0.        , 0.016     , 0.        , 0.016     , 0.        ,\n        0.        , 0.015     , 0.        , 0.        , 0.        ,\n        0.        , 0.015     , 0.        , 0.        , 0.047     ,\n        0.0466343 , 0.        , 0.        , 0.        , 0.        ,\n        0.        , 0.        , 0.        , 0.        , 0.        ,\n        0.        , 0.016     , 0.        , 0.        , 0.        ,\n        0.        , 0.        , 0.        , 0.03062405, 0.        ,\n        0.        , 0.        , 0.        , 0.        , 0.        ,\n        0.016     , 0.        , 0.01562977, 0.        , 0.015     ,\n        0.        , 0.        , 0.        , 0.016     , 0.        ,\n        0.        , 0.        , 0.        , 0.015     , 0.        ,\n        0.        , 0.094     , 0.078     , 0.14      , 0.03162405,\n        0.016     , 0.        , 0.        , 0.        , 0.        ,\n        0.        , 0.        , 0.        , 0.        , 0.        ,\n        0.016     , 0.        , 0.        , 0.        , 0.        ,\n        0.        , 0.        , 0.        , 0.        , 0.        ,\n        0.        , 0.        , 0.        , 0.016     , 0.        ,\n        0.        , 0.        , 0.03      , 0.        , 0.        ,\n        0.        , 0.        , 0.        , 0.        , 0.        ,\n        0.        , 0.        , 0.        ]),\n 'num_solves': array([ 1,  1,  1,  1,  1,  1,  1,  1,  1,  1,  1,  1,  1,  1,  1,  1,  1,\n         1,  1,  3,  1,  1,  1,  1,  1,  1,  1,  1, 10,  1,  1,  1,  1,  1,\n         1,  1,  1,  8,  1,  1,  1,  1,  1,  1,  1,  1,  1,  1,  1,  1,  1,\n         1,  1,  1,  1,  1,  1,  1,  1,  1,  1,  1,  1,  1,  1,  1,  1,  1,\n         5,  1,  1,  1,  1,  1,  1,  1,  1,  1,  1,  1,  1,  1,  1,  1,  1,\n         1,  1,  1,  1,  1,  1,  1,  1,  1,  1,  1,  1,  1,  1,  7,  1,  1,\n         1,  1,  1,  1,  4,  1,  1,  1,  1,  1,  1,  1,  1,  1,  1,  1,  3,\n         1,  1,  1,  1,  1,  1,  1,  1,  1,  1,  1,  1,  1,  1,  1,  1,  1,\n         1,  1,  1,  1,  1,  1,  1,  1,  1,  3,  1,  1,  1,  1,  1,  1,  1,\n         1,  1,  1,  1,  1,  1,  1,  1,  1,  1,  1,  2,  1,  1,  1,  1,  1,\n         1,  1,  4,  1,  1,  1,  1,  1,  1,  1,  1,  1,  1]),\n 'costs_ip': array([  6.79233285,  16.91985449,  38.8377419 ,  80.83975162,\n         73.38112242,  10.97162424,  53.98613468,  16.05831065,\n         21.8875187 ,   3.15454414,   0.74165561,  33.01794487,\n         36.61120797,   5.15447223,   7.31218994,  23.44957022,\n         33.26952622,   6.30911934,   2.16752791,  22.24975354,\n         62.74676643, 157.63529007,   0.75325081,  20.9792288 ,\n         98.43449175,  26.38848718,   9.7671642 ,   7.42600207,\n          8.06122404,   4.40404724,   0.97615804,   8.72279114,\n         60.87109568,  82.36705745,  66.182763  ,  50.43158187,\n         58.06032153,   0.        ,  92.37962056,  41.4473864 ,\n         35.12176655,   3.85774354,   3.24429623,   3.58060069,\n         34.82960213,   7.89802178,  22.95852144,  22.6858669 ,\n         32.10054576,  31.43960463,  14.94817222,  54.08014681,\n          7.09472721,   0.546317  ,  14.08651106,  41.55155425,\n         50.57824206,  84.18411189,  14.01818524,  19.12715756,\n         50.47612903,  47.2952783 ,   2.80980647,  37.67780643,\n         55.55899805,  12.03938298,   4.64375273,   1.24776041,\n         20.54560557,  28.30737773,  16.72271671,  91.24044381,\n         66.7121787 ,  37.49487411,  52.98374547,  29.39516654,\n         22.94031414,  42.1231725 ,  64.53811313,  11.28905454,\n         68.32112223, 144.08914268,  99.89887322,  39.01724366,\n         10.15130132,  12.96505919,  10.74433231,  31.37038255,\n         33.16279939,  69.51282114,   3.44293698,  98.68606636,\n          6.57470238, 107.23376345,  43.87585216,   3.41507232,\n         67.05170819,  30.31682984,  36.87506424,  59.29168892,\n          0.94251154,  81.85723932,  17.10195464,  49.18430101,\n          9.85200606,  64.39567026,  66.22688473,   3.07737909,\n         29.90449328,  26.38805259,  10.27702021,  57.83222445,\n         60.79555053,   1.08140067,  31.73803677,  32.69395529,\n         96.3791762 ,  17.26980909,  29.47956766, 101.59309242,\n          8.90932868,  10.19878933,  40.93938089,   6.25660805,\n         57.38635846,   4.42593778,  56.30322825,  22.71888496,\n         17.18150496,  23.63345437,   2.78464301,  51.44301204,\n         23.23401351,   9.43629434,   0.27072301,   0.59541932,\n         13.8595713 ,   0.41299807,   2.91064143,  26.97885917,\n         44.10896058,  24.72948551,  57.44912571,  46.54946874,\n         38.39713345,   1.93753303,  94.18910719,  22.29616097,\n         16.23797179,  11.61887806,   1.64526535,  14.73182727,\n         26.98200681,  36.76967174,  15.33307632,   0.41231408,\n         15.29691818,  42.87269382,  19.4223399 , 139.52115746,\n         78.42155923,  19.06821106,  80.6885262 ,  36.07876   ,\n          0.52202806,  40.8790405 ,  30.99632732,  20.06175543,\n         18.40251744,  16.06760903,   3.56132177,   2.16158463,\n          1.86656837,  14.94581553,   3.1064032 ,  44.91335579,\n          3.74857325,   7.54662284,  15.52803253,   7.45528402,\n         13.71461767, 100.48953953,  11.95867073]),\n 'total_time_ip': array([0.04687881, 0.01563454, 0.01562691, 0.015625  , 0.18730927,\n        0.11042595, 0.0156517 , 0.06249809, 0.04687881, 0.04687309,\n        0.        , 0.        , 0.03121567, 0.0626297 , 0.        ,\n        0.04688263, 0.03125   , 0.01562691, 0.        , 0.01566315,\n        0.03125763, 0.07829094, 0.03125191, 0.07816315, 0.078125  ,\n        0.01564789, 0.        , 0.078125  , 0.07812881, 0.03124619,\n        0.046875  , 0.10941315, 0.04690742, 0.06250572, 0.06249809,\n        0.04688454, 0.06248665, 0.        , 0.07815552, 0.07816505,\n        0.06250191, 0.        , 0.01562691, 0.07815742, 0.0625    ,\n        0.06575584, 0.03128242, 0.03124809, 0.01562309, 0.03122902,\n        0.046875  , 0.03125381, 0.06253815, 0.03124809, 0.10955429,\n        0.09377289, 0.06250763, 0.        , 0.01562309, 0.05342484,\n        0.0072155 , 0.04686928, 0.09375   , 0.06254005, 0.06249619,\n        0.        , 0.09375   , 0.046875  , 0.04687881, 0.078125  ,\n        0.06249809, 0.01562691, 0.07815933, 0.07499695, 0.07813072,\n        0.04687691, 0.06250954, 0.04699516, 0.        , 0.09375381,\n        0.        , 0.03124809, 0.06249619, 0.0898304 , 0.        ,\n        0.        , 0.08136368, 0.01562309, 0.09375572, 0.06250191,\n        0.03124809, 0.07812691, 0.07811928, 0.03128242, 0.03124809,\n        0.01562691, 0.07816505, 0.07823181, 0.06249809, 0.06250381,\n        0.06250381, 0.04690361, 0.04684258, 0.        , 0.        ,\n        0.04687119, 0.09375191, 0.046875  , 0.04684067, 0.04687881,\n        0.09375   , 0.        , 0.04690552, 0.06253052, 0.06727409,\n        0.078125  , 0.01562309, 0.0450325 , 0.03128433, 0.        ,\n        0.03123665, 0.07815933, 0.0625    , 0.09379005, 0.046875  ,\n        0.04688835, 0.03125   , 0.06246185, 0.04687881, 0.07812309,\n        0.        , 0.00600052, 0.        , 0.06249809, 0.046875  ,\n        0.06249809, 0.01562309, 0.06249619, 0.046875  , 0.06250572,\n        0.0625    , 0.06249428, 0.06252861, 0.06249237, 0.04687691,\n        0.04688072, 0.07813454, 0.01562691, 0.07815933, 0.        ,\n        0.04690742, 0.06250381, 0.        , 0.078125  , 0.03125191,\n        0.04686928, 0.03125954, 0.03125191, 0.078125  , 0.06252861,\n        0.04687309, 0.01559258, 0.        , 0.04690361, 0.        ,\n        0.00995064, 0.078125  , 0.0625    , 0.06250191, 0.06250763,\n        0.04687691, 0.04687691, 0.07811546, 0.06250381, 0.06246948,\n        0.04687691, 0.0625    , 0.10938072, 0.01565552, 0.09374619,\n        0.09376144, 0.01566124, 0.04687691]),\n 'cost_ratios': array([0.99999995, 1.07198161, 1.00000039, 1.00000144, 0.99527614,\n        1.00000261, 1.00000175, 1.00000981, 1.00005237, 1.00002043,\n        1.00000105, 1.00000011, 1.00909157, 1.00000371, 1.00000133,\n        1.00000077, 0.99146077, 1.00000338, 1.000002  , 1.00000134,\n        1.00000103, 1.00000017, 1.00000041, 1.00000634, 1.00000105,\n        1.0190055 , 1.00000014, 1.00000612, 1.01374871, 1.00000391,\n        1.00270517, 1.00000354, 1.00000181, 1.00000011, 1.00000061,\n        1.00000214, 1.00000039,        inf, 1.000005  , 1.00000082,\n        0.93308135, 1.00000084, 1.00000098, 1.00001147, 1.00000157,\n        1.0000048 , 1.00000039, 0.99999997, 1.00000099, 0.99999999,\n        1.00000449, 0.99999999, 1.00000411, 1.00000049, 0.99811821,\n        1.00000283, 1.00743153, 1.00000023, 1.00000107, 1.00000321,\n        0.99999993, 1.00000513, 1.01174726, 1.00000045, 1.00000032,\n        0.99999998, 1.00000718, 1.00003156, 1.00000077, 1.00000536,\n        1.00000226, 1.00000031, 1.024865  , 1.00000216, 1.00000084,\n        1.05444367, 1.00000092, 1.00087918, 1.0000005 , 1.00000045,\n        1.00000189, 1.00000152, 1.00000009, 1.00000215, 0.99999937,\n        0.99999998, 1.00001726, 0.99999995, 1.14990491, 1.00000079,\n        0.99999988, 1.00000202, 1.00000127, 1.00000013, 1.00000118,\n        1.00000005, 1.00000361, 1.00000129, 1.00000312, 1.00000038,\n        1.0000045 , 1.00385056, 1.00000594, 1.00000102, 1.00000067,\n        1.        , 1.00000078, 1.00000811, 1.00000517, 1.00000526,\n        1.0000053 , 1.00000114, 1.00000091, 1.00000407, 1.00000101,\n        1.0000034 , 1.00000365, 1.0000063 , 1.00000007, 0.99999953,\n        1.00000077, 1.00000761, 1.00000211, 1.00000702, 1.00000107,\n        1.00001094, 1.00000587, 1.00095419, 1.00000446, 1.00000447,\n        1.00000012, 1.00000051, 1.00000003, 1.00000455, 0.99999704,\n        1.00000166, 1.00000021, 1.00000078, 1.00000042, 1.00000192,\n        1.00000009, 1.00000031, 1.06726154, 1.00000277, 1.00000281,\n        1.00000659, 1.00000121, 0.99999985, 1.00000257, 1.00000136,\n        1.00000413, 1.00000048, 1.0000004 , 1.00000246, 1.00000328,\n        0.9999994 , 1.00771653, 1.00000068, 1.00000635, 1.0000002 ,\n        1.00000034, 1.00000072, 1.00000019, 1.00000338, 1.00000043,\n        1.00000002, 1.00000538, 0.99999994, 1.00000305, 1.00000619,\n        0.99999998, 1.00000554, 1.00000657, 1.00000277, 1.00000249,\n        1.00000117, 1.00000081, 1.04914439, 1.00000112, 1.00270986,\n        1.00782638, 1.02626038, 1.        ]),\n 'percentage': 91.95979899497488}"
     },
     "execution_count": 83,
     "metadata": {},
     "output_type": "execute_result"
    }
   ],
   "source": [
    "# load results\n",
    "f_read = open(dataset_fn+'/result.pkl', 'rb')\n",
    "results = pickle.load(f_read)\n",
    "f_read.close()"
   ],
   "metadata": {
    "collapsed": false,
    "pycharm": {
     "name": "#%%\n"
    }
   }
  },
  {
   "cell_type": "code",
   "execution_count": null,
   "outputs": [
    {
     "name": "stderr",
     "output_type": "stream",
     "text": [
      "  1%|          | 207/20000 [00:24<53:07,  6.21it/s] "
     ]
    }
   ],
   "source": [
    "from test_results import test_strategy\n",
    "test_strategy(7,n_obs=5)"
   ],
   "metadata": {
    "collapsed": false,
    "pycharm": {
     "name": "#%%\n",
     "is_executing": true
    }
   }
  },
  {
   "cell_type": "code",
   "execution_count": null,
   "outputs": [],
   "source": [
    "test_strategy(7,n_obs=5)"
   ],
   "metadata": {
    "collapsed": false,
    "pycharm": {
     "name": "#%%\n"
    }
   }
  }
 ]
}