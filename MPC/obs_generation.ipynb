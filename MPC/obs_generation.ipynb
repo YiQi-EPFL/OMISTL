{
 "cells": [
  {
   "cell_type": "code",
   "execution_count": null,
   "outputs": [],
   "source": [
    "%load_ext autoreload\n",
    "%autoreload 2\n",
    "\n",
    "import pdb\n",
    "import pickle, os\n",
    "import numpy as np\n",
    "import cvxpy as cp\n",
    "import concurrent.futures\n",
    "\n",
    "\n",
    "import matplotlib.pyplot as plt\n",
    "%matplotlib inline\n",
    "\n",
    "from free_flyer import FreeFlyer\n",
    "from utils import *"
   ],
   "metadata": {
    "collapsed": false,
    "pycharm": {
     "name": "#%%\n"
    }
   }
  },
  {
   "cell_type": "code",
   "execution_count": 2,
   "outputs": [],
   "source": [
    "n = 2; m = 2\n",
    "\n",
    "N = 6 # horizon\n",
    "dh = 0.75\n",
    "Ak = np.eye(2*n)\n",
    "Ak[:n,n:] = dh*np.eye(n)\n",
    "Bk = np.zeros((2*n,m))\n",
    "Bk[:n,:] = 0.5*dh**2 * np.eye(n)\n",
    "Bk[n:,:] = dh*np.eye(n)\n",
    "\n",
    "Q = np.diag([2,2,1,1.])\n",
    "R = 1000.*np.eye(m)\n",
    "\n",
    "mass_ff_min = 15.36\n",
    "mass_ff_max = 18.08\n",
    "mass_ff = 0.5*(mass_ff_min+mass_ff_max)\n",
    "thrust_max = 2*1.  # max thrust [N] from two thrusters\n",
    "umin = -thrust_max/mass_ff\n",
    "umax = thrust_max/mass_ff\n",
    "velmin = -0.2\n",
    "velmax = 0.2\n",
    "posmin = np.zeros(n)\n",
    "\n",
    "ft2m = 0.3048\n",
    "posmax = ft2m*np.array([12.,9.])\n",
    "max_box_size = 0.75\n",
    "min_box_size = 0.25\n",
    "box_buffer = 0.025\n",
    "border_size = 0.05\n",
    "\n",
    "n_obs = 8\n",
    "\n",
    "prob_params = [N, Ak, Bk, Q, R, n_obs , \\\n",
    "    posmin, posmax, velmin, velmax, umin, umax]"
   ],
   "metadata": {
    "collapsed": false,
    "pycharm": {
     "name": "#%%\n"
    }
   }
  },
  {
   "cell_type": "code",
   "execution_count": 3,
   "outputs": [],
   "source": [
    "#setup filenames\n",
    "relative_path = os.getcwd()\n",
    "dataset_name = 'default_index'\n",
    "\n",
    "if not os.path.isdir(os.path.join(relative_path, 'data', dataset_name)):\n",
    "    os.mkdir(os.path.join(relative_path+'/data/'+dataset_name))\n",
    "\n",
    "if not os.path.isdir(os.path.join(relative_path, 'config')):\n",
    "    os.mkdir(os.path.join(relative_path, 'config'))\n",
    "\n",
    "train_fn = os.path.join(relative_path, 'data', dataset_name, 'train.p')\n",
    "test_fn = os.path.join(relative_path, 'data', dataset_name, 'test.p')\n",
    "\n",
    "#load default parameter values\n",
    "n = 2; m = 2\n",
    "\n",
    "#define all possible params that can be varied\n",
    "all_params = ['N', 'Ak', 'Bk', 'Q', 'R', 'n_obs', \\\n",
    "    'posmin', 'posmax', 'velmin', 'velmax', \\\n",
    "    'umin', 'umax', \\\n",
    "    'x0', 'xg', 'obstacles']\n",
    "\n",
    "## TODO(pculbertson): implement custom param variation.\n",
    "#plan: split all_params into static & sampled params\n",
    "#in Problem object, keep param dict with keys == all_params\n",
    "#on constructing problem, make every param key map to either static value\n",
    "#or a cvxpy.Parameter object.\n",
    "\n",
    "### VARY ANY DESIRED PARAM VALUES HERE ###\n",
    "\n",
    "param_dict = {'N':N, 'Ak':Ak, 'Bk':Bk, 'Q':Q, 'R':R, 'n_obs':n_obs, \\\n",
    "    'posmin':posmin, 'posmax':posmax, 'velmin':velmin, 'velmax':velmax, \\\n",
    "    'umin':umin, 'umax':umax}\n",
    "\n",
    "#specify which parameters to sample, & their distributions\n",
    "sampled_params = ['x0', 'xg', 'obstacles']\n",
    "sample_dists = {'x0': lambda: np.hstack((posmin + (posmax-posmin)*np.random.rand(2), \\\n",
    "               velmin + (velmax-velmin)*np.random.rand(2))) ,\\\n",
    "               'xg': lambda: np.hstack((0.9*posmax, np.zeros(n))), \\\n",
    "               'obstacles': lambda: random_obs(n_obs, posmin, posmax, border_size, min_box_size, max_box_size)}\n",
    "\n",
    "#specify dataset sizes\n",
    "num_train = 90; num_test = 10\n",
    "num_probs = num_train + num_test\n",
    "\n",
    "#write out config\n",
    "config_fn = os.path.join(relative_path, 'config', dataset_name+'.p')\n",
    "\n",
    "config = [dataset_name, prob_params, sampled_params]\n",
    "outfile = open(config_fn,\"wb\")\n",
    "pickle.dump(config,outfile); outfile.close()"
   ],
   "metadata": {
    "collapsed": false,
    "pycharm": {
     "name": "#%%\n"
    }
   }
  },
  {
   "cell_type": "code",
   "execution_count": 4,
   "outputs": [],
   "source": [
    "prob = FreeFlyer()\n",
    "\n",
    "#create numpy containers for data: (params, x, u, y, J*, solve_time)\n",
    "params = {}\n",
    "if 'x0' in sampled_params:\n",
    "    params['x0'] = np.zeros((num_probs,2*n))\n",
    "if 'xg' in sampled_params:\n",
    "    params['xg'] = np.zeros((num_probs,2*n))\n",
    "if 'obstacles' in sampled_params:\n",
    "    params['obstacles'] = np.zeros((num_probs, 4, n_obs))\n",
    "\n",
    "X = np.zeros((num_probs, 2*n, N));\n",
    "U = np.zeros((num_probs, m, N-1))\n",
    "Y = np.zeros((num_probs, 4*n_obs, N-1)).astype(int)\n",
    "\n",
    "costs = np.zeros(num_probs)\n",
    "solve_times = np.zeros(num_probs)"
   ],
   "metadata": {
    "collapsed": false,
    "pycharm": {
     "name": "#%%\n"
    }
   }
  },
  {
   "cell_type": "code",
   "execution_count": 5,
   "outputs": [
    {
     "name": "stdout",
     "output_type": "stream",
     "text": [
      "Academic license - for non-commercial use only - expires 2022-12-22\n",
      "Using license file C:\\Users\\msi\\gurobi.lic\n",
      "Done with problem 87\n"
     ]
    }
   ],
   "source": [
    "total_count = 0\n",
    "ii = 0\n",
    "ii_obs = 0\n",
    "ii_toggle = 0\n",
    "obs_new_ct = 5\n",
    "toggle_ct = 10\n",
    "toggle_obstacles = False\n",
    "\n",
    "#big for loop, sampling problem data, solving MICP, & storing\n",
    "while ii < num_probs:\n",
    "    total_count += 1\n",
    "    if total_count % 100 == 0:\n",
    "        print('Done with problem {}'.format(ii))\n",
    "#         file = open('testfile_long.txt','w')\n",
    "#         file.write('total_count: {}\\n'.format(total_count))\n",
    "#         file.write('Problems solved: {}'.format(ii))\n",
    "#         file.close()\n",
    "\n",
    "    p_dict = {}\n",
    "    if 'x0' in sampled_params or 'obstacles' in sampled_params:\n",
    "        if toggle_obstacles:#两种初始化点和obs的方法#\n",
    "            x0 = sample_dists['x0']()\n",
    "            obstacles = find_obs(x0, n_obs, posmin, posmax,\\\n",
    "                border_size, box_buffer, min_box_size, max_box_size, \\\n",
    "                ignore_intersection=False)#给x0再找obs，所以不忽略obs可能相交#\n",
    "            if len(obstacles) is not n_obs:#如果找完obs后，obs数量还不够，则忽略约束再生成obs#\n",
    "                obstacles = find_obs(x0, n_obs, posmin, posmax,\\\n",
    "                    border_size, box_buffer, min_box_size, max_box_size, \\\n",
    "                    ignore_intersection=True)\n",
    "\n",
    "            if ii_toggle % obs_new_ct == 0:\n",
    "                toggle_obstacles = False\n",
    "                ii_obs = 0\n",
    "                ii_toggle = 0\n",
    "        else:#给定obs后再找obs外的x0#\n",
    "            if ii_obs % obs_new_ct == 0:\n",
    "                obstacles = \\\n",
    "                    random_obs(n_obs, posmin, posmax, border_size, box_buffer, min_box_size, max_box_size)\n",
    "            x0 = findIC(obstacles, posmin, posmax, velmin, velmax)\n",
    "\n",
    "            if ii_toggle % toggle_ct == 0:\n",
    "                toggle_obstacles = True\n",
    "                ii_obs = 0\n",
    "                ii_toggle = 0\n",
    "\n",
    "        if len(obstacles) is not n_obs:\n",
    "            continue\n",
    "\n",
    "        params['obstacles'][ii,:] = np.reshape(np.concatenate(obstacles, axis=0), (n_obs,4)).T\n",
    "        params['x0'][ii,:] = x0\n",
    "\n",
    "        p_dict['x0'] = params['x0'][ii,:]\n",
    "        p_dict['obstacles'] = params['obstacles'][ii,:]\n",
    "\n",
    "    if 'xg' in sampled_params:\n",
    "        params['xg'][ii,:] = sample_dists['xg']()\n",
    "        p_dict['xg'] = params['xg'][ii,:]\n",
    "\n",
    "#     dump_file = open('dump_data.p','wb')\n",
    "#     dump_data = [p_dict['x0'], p_dict['xg'], p_dict['obstacles']]\n",
    "#     pickle.dump(dump_data,dump_file); dump_file.close()\n",
    "\n",
    "    prob_success = False\n",
    "    try:\n",
    "#         with time_limit(20):\n",
    "        prob_success, cost, solve_time, optvals = prob.solve_micp(p_dict, solver=cp.GUROBI)\n",
    "    except (KeyboardInterrupt, SystemExit):\n",
    "        raise\n",
    "    except:\n",
    "        print('solver failed at '.format(ii))\n",
    "    #     except (TimeoutException):\n",
    "#         print(\"Timed out at {}!\".format(ii))\n",
    "\n",
    "    if prob_success:\n",
    "        costs[ii] = cost; solve_times[ii] = solve_time\n",
    "        X[ii,:,:], U[ii,:,:], Y[ii,:,:] = optvals\n",
    "        ii += 1\n",
    "        ii_obs += 1\n",
    "        ii_toggle += 1"
   ],
   "metadata": {
    "collapsed": false,
    "pycharm": {
     "name": "#%%\n"
    }
   }
  },
  {
   "cell_type": "code",
   "execution_count": 6,
   "outputs": [],
   "source": [
    "arr = np.arange(num_probs)\n",
    "np.random.shuffle(arr)\n",
    "\n",
    "X = X[arr]\n",
    "U = U[arr]\n",
    "Y = Y[arr]\n",
    "\n",
    "if 'x0' in sampled_params:\n",
    "    params['x0'] = params['x0'][arr]\n",
    "if 'xg' in sampled_params:\n",
    "    params['xg'] = params['xg'][arr]\n",
    "if 'obstacles' in sampled_params:\n",
    "    params['obstacles'] = params['obstacles'][arr]\n",
    "\n",
    "costs = costs[arr]\n",
    "solve_times = solve_times[arr]"
   ],
   "metadata": {
    "collapsed": false,
    "pycharm": {
     "name": "#%%\n"
    }
   }
  },
  {
   "cell_type": "code",
   "execution_count": 7,
   "outputs": [],
   "source": [
    "#post-processing + write out\n",
    "train_params = {}; test_params = {}\n",
    "if 'x0' in sampled_params:\n",
    "    train_params['x0'] = params['x0'][:num_train,:]\n",
    "    test_params['x0'] = params['x0'][num_train:,:]\n",
    "if 'obstacles' in sampled_params:\n",
    "    train_params['obstacles'] = params['obstacles'][:num_train,:]\n",
    "    test_params['obstacles'] = params['obstacles'][num_train:,:]\n",
    "if 'xg' in sampled_params:\n",
    "    train_params['xg'] = params['xg'][:num_train,:]\n",
    "    test_params['xg'] = params['xg'][num_train:,:]\n",
    "\n",
    "train_data = [train_params] #train_data: {x0, obstacles, xg}, X,U,Y,COST,SOLVE_TIME\n",
    "train_data += [X[:num_train,:,:], U[:num_train,:,:], Y[:num_train,:,:]]\n",
    "train_data += [costs[:num_train], solve_times[:num_train]]\n",
    "\n",
    "test_data = [test_params]\n",
    "test_data += [X[num_train:,:,:], U[num_train:,:,:], Y[num_train:,:,:]]\n",
    "test_data += [costs[num_train:], solve_times[num_train:]]\n",
    "\n",
    "train_file = open(train_fn,'wb')\n",
    "pickle.dump(train_data,train_file); train_file.close()\n",
    "\n",
    "test_file = open(test_fn, 'wb')\n",
    "pickle.dump(test_data,test_file); test_file.close()"
   ],
   "metadata": {
    "collapsed": false,
    "pycharm": {
     "name": "#%%\n"
    }
   }
  }
 ],
 "metadata": {
  "kernelspec": {
   "display_name": "Python 3",
   "language": "python",
   "name": "python3"
  },
  "language_info": {
   "codemirror_mode": {
    "name": "ipython",
    "version": 2
   },
   "file_extension": ".py",
   "mimetype": "text/x-python",
   "name": "python",
   "nbconvert_exporter": "python",
   "pygments_lexer": "ipython2",
   "version": "2.7.6"
  }
 },
 "nbformat": 4,
 "nbformat_minor": 0
}